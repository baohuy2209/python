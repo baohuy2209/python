{
 "cells": [
  {
   "cell_type": "markdown",
   "metadata": {},
   "source": [
    "# Slicing Pandas DataFrames "
   ]
  },
  {
   "cell_type": "markdown",
   "metadata": {},
   "source": [
    "Slicing Pandas DataFrames is a powerful technique, allowing extraction of specific data subsets based on integer positions. In this article, let’s understand examples showcasing row and column slicing, cell selection, and boolean conditions."
   ]
  },
  {
   "cell_type": "markdown",
   "metadata": {},
   "source": [
    "# Slicing Pandas Dataframe "
   ]
  },
  {
   "cell_type": "markdown",
   "metadata": {},
   "source": [
    "With the help of Pandas, we can perform slicing in Dataframe. Slicing in pandas dataframes using iloc[] is a powerful technique in Python for extracting specific subsets of data. The iloc[] method allows you to locate and extract rows and columns based on their integer positions."
   ]
  },
  {
   "cell_type": "markdown",
   "metadata": {},
   "source": [
    "To perform slicing with iloc[], you specify the row and column indices you want to include in your sliced dataframe. The syntax is similar to traditional array slicing, making it intuitive for Python users. For example, df.iloc[1:5, 2:4] extracts rows 2 to 5 and columns 3 to 4 from the dataframe."
   ]
  },
  {
   "cell_type": "markdown",
   "metadata": {},
   "source": [
    "Slicing a DataFrame in Pandas includes the following steps:"
   ]
  },
  {
   "cell_type": "markdown",
   "metadata": {},
   "source": [
    "1. Create a DataFrame "
   ]
  },
  {
   "cell_type": "markdown",
   "metadata": {},
   "source": [
    "2. Slice the DataFrame "
   ]
  },
  {
   "cell_type": "markdown",
   "metadata": {},
   "source": [
    "Let's import pandas library, and create pandas dataframe from customer nested list. "
   ]
  },
  {
   "cell_type": "code",
   "execution_count": 1,
   "metadata": {},
   "outputs": [],
   "source": [
    "import pandas as pd "
   ]
  },
  {
   "cell_type": "code",
   "execution_count": 2,
   "metadata": {},
   "outputs": [
    {
     "data": {
      "text/html": [
       "<div>\n",
       "<style scoped>\n",
       "    .dataframe tbody tr th:only-of-type {\n",
       "        vertical-align: middle;\n",
       "    }\n",
       "\n",
       "    .dataframe tbody tr th {\n",
       "        vertical-align: top;\n",
       "    }\n",
       "\n",
       "    .dataframe thead th {\n",
       "        text-align: right;\n",
       "    }\n",
       "</style>\n",
       "<table border=\"1\" class=\"dataframe\">\n",
       "  <thead>\n",
       "    <tr style=\"text-align: right;\">\n",
       "      <th></th>\n",
       "      <th>Name</th>\n",
       "      <th>Age</th>\n",
       "      <th>Weight</th>\n",
       "      <th>Salary</th>\n",
       "    </tr>\n",
       "  </thead>\n",
       "  <tbody>\n",
       "    <tr>\n",
       "      <th>0</th>\n",
       "      <td>M.S.Dhoni</td>\n",
       "      <td>36</td>\n",
       "      <td>75</td>\n",
       "      <td>5428000</td>\n",
       "    </tr>\n",
       "    <tr>\n",
       "      <th>1</th>\n",
       "      <td>A.B.D Villers</td>\n",
       "      <td>38</td>\n",
       "      <td>74</td>\n",
       "      <td>3428000</td>\n",
       "    </tr>\n",
       "    <tr>\n",
       "      <th>2</th>\n",
       "      <td>V.Kohli</td>\n",
       "      <td>31</td>\n",
       "      <td>70</td>\n",
       "      <td>8428000</td>\n",
       "    </tr>\n",
       "    <tr>\n",
       "      <th>3</th>\n",
       "      <td>S.Smith</td>\n",
       "      <td>34</td>\n",
       "      <td>80</td>\n",
       "      <td>4428000</td>\n",
       "    </tr>\n",
       "    <tr>\n",
       "      <th>4</th>\n",
       "      <td>C.Gayle</td>\n",
       "      <td>40</td>\n",
       "      <td>100</td>\n",
       "      <td>4528000</td>\n",
       "    </tr>\n",
       "    <tr>\n",
       "      <th>5</th>\n",
       "      <td>J.Root</td>\n",
       "      <td>33</td>\n",
       "      <td>72</td>\n",
       "      <td>7028000</td>\n",
       "    </tr>\n",
       "    <tr>\n",
       "      <th>6</th>\n",
       "      <td>K.Peterson</td>\n",
       "      <td>42</td>\n",
       "      <td>85</td>\n",
       "      <td>2528000</td>\n",
       "    </tr>\n",
       "  </tbody>\n",
       "</table>\n",
       "</div>"
      ],
      "text/plain": [
       "            Name  Age  Weight   Salary\n",
       "0      M.S.Dhoni   36      75  5428000\n",
       "1  A.B.D Villers   38      74  3428000\n",
       "2        V.Kohli   31      70  8428000\n",
       "3        S.Smith   34      80  4428000\n",
       "4        C.Gayle   40     100  4528000\n",
       "5         J.Root   33      72  7028000\n",
       "6     K.Peterson   42      85  2528000"
      ]
     },
     "execution_count": 2,
     "metadata": {},
     "output_type": "execute_result"
    }
   ],
   "source": [
    "player_list = [['M.S.Dhoni', 36, 75, 5428000],\n",
    "               ['A.B.D Villers', 38, 74, 3428000],\n",
    "               ['V.Kohli', 31, 70, 8428000],\n",
    "               ['S.Smith', 34, 80, 4428000],\n",
    "               ['C.Gayle', 40, 100, 4528000],\n",
    "               ['J.Root', 33, 72, 7028000],\n",
    "               ['K.Peterson', 42, 85, 2528000]]\n",
    " \n",
    "# creating a pandas dataframe\n",
    "df = pd.DataFrame(player_list, columns=['Name', 'Age', 'Weight', 'Salary'])\n",
    "df # data frame before slicing"
   ]
  },
  {
   "cell_type": "markdown",
   "metadata": {},
   "source": [
    "#### 1. Slicing Using iloc: "
   ]
  },
  {
   "cell_type": "markdown",
   "metadata": {},
   "source": [
    "A. Slicing Rows in dataframe in Python "
   ]
  },
  {
   "cell_type": "code",
   "execution_count": 3,
   "metadata": {},
   "outputs": [],
   "source": [
    "df1 = df.iloc[0:4]"
   ]
  },
  {
   "cell_type": "code",
   "execution_count": 4,
   "metadata": {},
   "outputs": [
    {
     "data": {
      "text/html": [
       "<div>\n",
       "<style scoped>\n",
       "    .dataframe tbody tr th:only-of-type {\n",
       "        vertical-align: middle;\n",
       "    }\n",
       "\n",
       "    .dataframe tbody tr th {\n",
       "        vertical-align: top;\n",
       "    }\n",
       "\n",
       "    .dataframe thead th {\n",
       "        text-align: right;\n",
       "    }\n",
       "</style>\n",
       "<table border=\"1\" class=\"dataframe\">\n",
       "  <thead>\n",
       "    <tr style=\"text-align: right;\">\n",
       "      <th></th>\n",
       "      <th>Name</th>\n",
       "      <th>Age</th>\n",
       "      <th>Weight</th>\n",
       "      <th>Salary</th>\n",
       "    </tr>\n",
       "  </thead>\n",
       "  <tbody>\n",
       "    <tr>\n",
       "      <th>0</th>\n",
       "      <td>M.S.Dhoni</td>\n",
       "      <td>36</td>\n",
       "      <td>75</td>\n",
       "      <td>5428000</td>\n",
       "    </tr>\n",
       "    <tr>\n",
       "      <th>1</th>\n",
       "      <td>A.B.D Villers</td>\n",
       "      <td>38</td>\n",
       "      <td>74</td>\n",
       "      <td>3428000</td>\n",
       "    </tr>\n",
       "    <tr>\n",
       "      <th>2</th>\n",
       "      <td>V.Kohli</td>\n",
       "      <td>31</td>\n",
       "      <td>70</td>\n",
       "      <td>8428000</td>\n",
       "    </tr>\n",
       "    <tr>\n",
       "      <th>3</th>\n",
       "      <td>S.Smith</td>\n",
       "      <td>34</td>\n",
       "      <td>80</td>\n",
       "      <td>4428000</td>\n",
       "    </tr>\n",
       "  </tbody>\n",
       "</table>\n",
       "</div>"
      ],
      "text/plain": [
       "            Name  Age  Weight   Salary\n",
       "0      M.S.Dhoni   36      75  5428000\n",
       "1  A.B.D Villers   38      74  3428000\n",
       "2        V.Kohli   31      70  8428000\n",
       "3        S.Smith   34      80  4428000"
      ]
     },
     "execution_count": 4,
     "metadata": {},
     "output_type": "execute_result"
    }
   ],
   "source": [
    "df1"
   ]
  },
  {
   "cell_type": "markdown",
   "metadata": {},
   "source": [
    "In the above example, we sliced the rows from the data frame."
   ]
  },
  {
   "cell_type": "markdown",
   "metadata": {},
   "source": [
    "B. Slicing Columns in dataframe in Python "
   ]
  },
  {
   "cell_type": "code",
   "execution_count": 5,
   "metadata": {},
   "outputs": [
    {
     "data": {
      "text/html": [
       "<div>\n",
       "<style scoped>\n",
       "    .dataframe tbody tr th:only-of-type {\n",
       "        vertical-align: middle;\n",
       "    }\n",
       "\n",
       "    .dataframe tbody tr th {\n",
       "        vertical-align: top;\n",
       "    }\n",
       "\n",
       "    .dataframe thead th {\n",
       "        text-align: right;\n",
       "    }\n",
       "</style>\n",
       "<table border=\"1\" class=\"dataframe\">\n",
       "  <thead>\n",
       "    <tr style=\"text-align: right;\">\n",
       "      <th></th>\n",
       "      <th>Name</th>\n",
       "      <th>Age</th>\n",
       "    </tr>\n",
       "  </thead>\n",
       "  <tbody>\n",
       "    <tr>\n",
       "      <th>0</th>\n",
       "      <td>M.S.Dhoni</td>\n",
       "      <td>36</td>\n",
       "    </tr>\n",
       "    <tr>\n",
       "      <th>1</th>\n",
       "      <td>A.B.D Villers</td>\n",
       "      <td>38</td>\n",
       "    </tr>\n",
       "    <tr>\n",
       "      <th>2</th>\n",
       "      <td>V.Kohli</td>\n",
       "      <td>31</td>\n",
       "    </tr>\n",
       "    <tr>\n",
       "      <th>3</th>\n",
       "      <td>S.Smith</td>\n",
       "      <td>34</td>\n",
       "    </tr>\n",
       "    <tr>\n",
       "      <th>4</th>\n",
       "      <td>C.Gayle</td>\n",
       "      <td>40</td>\n",
       "    </tr>\n",
       "    <tr>\n",
       "      <th>5</th>\n",
       "      <td>J.Root</td>\n",
       "      <td>33</td>\n",
       "    </tr>\n",
       "    <tr>\n",
       "      <th>6</th>\n",
       "      <td>K.Peterson</td>\n",
       "      <td>42</td>\n",
       "    </tr>\n",
       "  </tbody>\n",
       "</table>\n",
       "</div>"
      ],
      "text/plain": [
       "            Name  Age\n",
       "0      M.S.Dhoni   36\n",
       "1  A.B.D Villers   38\n",
       "2        V.Kohli   31\n",
       "3        S.Smith   34\n",
       "4        C.Gayle   40\n",
       "5         J.Root   33\n",
       "6     K.Peterson   42"
      ]
     },
     "execution_count": 5,
     "metadata": {},
     "output_type": "execute_result"
    }
   ],
   "source": [
    "# Slicing columnss in data frame\n",
    "df1 = df.iloc[:, 0:2]\n",
    " \n",
    "# data frame after slicing\n",
    "df1"
   ]
  },
  {
   "cell_type": "markdown",
   "metadata": {},
   "source": [
    "In the above example, we sliced the columns from the data frame."
   ]
  },
  {
   "cell_type": "markdown",
   "metadata": {},
   "source": [
    "C. Selecting a Specific Cell in DataFrame in Python "
   ]
  },
  {
   "cell_type": "code",
   "execution_count": 6,
   "metadata": {},
   "outputs": [
    {
     "name": "stdout",
     "output_type": "stream",
     "text": [
      "Specific Cell Value: 8428000\n"
     ]
    }
   ],
   "source": [
    "specific_cell_value = df.iloc[2, 3]  # Row 2, Column 3 (Salary)\n",
    "print(\"Specific Cell Value:\", specific_cell_value)"
   ]
  },
  {
   "cell_type": "markdown",
   "metadata": {},
   "source": [
    "D. Using Boolean Conditions  in Dataframe in Python"
   ]
  },
  {
   "cell_type": "code",
   "execution_count": 7,
   "metadata": {},
   "outputs": [
    {
     "name": "stdout",
     "output_type": "stream",
     "text": [
      "\n",
      "Filtered Data based on Age > 35:\n",
      "             Name  Age  Weight   Salary\n",
      "0      M.S.Dhoni   36      75  5428000\n",
      "1  A.B.D Villers   38      74  3428000\n",
      "4        C.Gayle   40     100  4528000\n",
      "6     K.Peterson   42      85  2528000\n"
     ]
    }
   ],
   "source": [
    "filtered_data = df[df['Age'] > 35].iloc[:, :]  # Select rows where Age is greater than 35\n",
    "print(\"\\nFiltered Data based on Age > 35:\\n\", filtered_data)"
   ]
  },
  {
   "cell_type": "markdown",
   "metadata": {},
   "source": [
    "#### 2. Slicing Using loc[]"
   ]
  },
  {
   "cell_type": "markdown",
   "metadata": {},
   "source": [
    "We can also, implement slicing through loc there are some limitations: "
   ]
  },
  {
   "cell_type": "markdown",
   "metadata": {},
   "source": [
    "- loc : relies on labels, and if your DataFrame has custom labels, you need to be careful with how you specify them. "
   ]
  },
  {
   "cell_type": "markdown",
   "metadata": {},
   "source": [
    "- If labels are integers, there might be confusion between using integer positions and actual labels. x\n"
   ]
  },
  {
   "cell_type": "markdown",
   "metadata": {},
   "source": [
    "For this, we need to set index as labels manually with following code: "
   ]
  },
  {
   "cell_type": "code",
   "execution_count": 8,
   "metadata": {},
   "outputs": [
    {
     "data": {
      "text/html": [
       "<div>\n",
       "<style scoped>\n",
       "    .dataframe tbody tr th:only-of-type {\n",
       "        vertical-align: middle;\n",
       "    }\n",
       "\n",
       "    .dataframe tbody tr th {\n",
       "        vertical-align: top;\n",
       "    }\n",
       "\n",
       "    .dataframe thead th {\n",
       "        text-align: right;\n",
       "    }\n",
       "</style>\n",
       "<table border=\"1\" class=\"dataframe\">\n",
       "  <thead>\n",
       "    <tr style=\"text-align: right;\">\n",
       "      <th></th>\n",
       "      <th>Age</th>\n",
       "      <th>Weight</th>\n",
       "      <th>Salary</th>\n",
       "    </tr>\n",
       "    <tr>\n",
       "      <th>Name</th>\n",
       "      <th></th>\n",
       "      <th></th>\n",
       "      <th></th>\n",
       "    </tr>\n",
       "  </thead>\n",
       "  <tbody>\n",
       "    <tr>\n",
       "      <th>M.S.Dhoni</th>\n",
       "      <td>36</td>\n",
       "      <td>75</td>\n",
       "      <td>5428000</td>\n",
       "    </tr>\n",
       "    <tr>\n",
       "      <th>A.B.D Villers</th>\n",
       "      <td>38</td>\n",
       "      <td>74</td>\n",
       "      <td>3428000</td>\n",
       "    </tr>\n",
       "    <tr>\n",
       "      <th>V.Kohli</th>\n",
       "      <td>31</td>\n",
       "      <td>70</td>\n",
       "      <td>8428000</td>\n",
       "    </tr>\n",
       "    <tr>\n",
       "      <th>S.Smith</th>\n",
       "      <td>34</td>\n",
       "      <td>80</td>\n",
       "      <td>4428000</td>\n",
       "    </tr>\n",
       "    <tr>\n",
       "      <th>C.Gayle</th>\n",
       "      <td>40</td>\n",
       "      <td>100</td>\n",
       "      <td>4528000</td>\n",
       "    </tr>\n",
       "    <tr>\n",
       "      <th>J.Root</th>\n",
       "      <td>33</td>\n",
       "      <td>72</td>\n",
       "      <td>7028000</td>\n",
       "    </tr>\n",
       "    <tr>\n",
       "      <th>K.Peterson</th>\n",
       "      <td>42</td>\n",
       "      <td>85</td>\n",
       "      <td>2528000</td>\n",
       "    </tr>\n",
       "  </tbody>\n",
       "</table>\n",
       "</div>"
      ],
      "text/plain": [
       "               Age  Weight   Salary\n",
       "Name                               \n",
       "M.S.Dhoni       36      75  5428000\n",
       "A.B.D Villers   38      74  3428000\n",
       "V.Kohli         31      70  8428000\n",
       "S.Smith         34      80  4428000\n",
       "C.Gayle         40     100  4528000\n",
       "J.Root          33      72  7028000\n",
       "K.Peterson      42      85  2528000"
      ]
     },
     "execution_count": 8,
     "metadata": {},
     "output_type": "execute_result"
    }
   ],
   "source": [
    "df_custom = df.set_index('Name')\n",
    "df_custom "
   ]
  },
  {
   "cell_type": "markdown",
   "metadata": {},
   "source": [
    "A. Slicing Rows in Dataframe in Python"
   ]
  },
  {
   "cell_type": "code",
   "execution_count": 9,
   "metadata": {},
   "outputs": [
    {
     "data": {
      "text/html": [
       "<div>\n",
       "<style scoped>\n",
       "    .dataframe tbody tr th:only-of-type {\n",
       "        vertical-align: middle;\n",
       "    }\n",
       "\n",
       "    .dataframe tbody tr th {\n",
       "        vertical-align: top;\n",
       "    }\n",
       "\n",
       "    .dataframe thead th {\n",
       "        text-align: right;\n",
       "    }\n",
       "</style>\n",
       "<table border=\"1\" class=\"dataframe\">\n",
       "  <thead>\n",
       "    <tr style=\"text-align: right;\">\n",
       "      <th></th>\n",
       "      <th>Age</th>\n",
       "      <th>Weight</th>\n",
       "      <th>Salary</th>\n",
       "    </tr>\n",
       "    <tr>\n",
       "      <th>Name</th>\n",
       "      <th></th>\n",
       "      <th></th>\n",
       "      <th></th>\n",
       "    </tr>\n",
       "  </thead>\n",
       "  <tbody>\n",
       "    <tr>\n",
       "      <th>A.B.D Villers</th>\n",
       "      <td>38</td>\n",
       "      <td>74</td>\n",
       "      <td>3428000</td>\n",
       "    </tr>\n",
       "    <tr>\n",
       "      <th>V.Kohli</th>\n",
       "      <td>31</td>\n",
       "      <td>70</td>\n",
       "      <td>8428000</td>\n",
       "    </tr>\n",
       "    <tr>\n",
       "      <th>S.Smith</th>\n",
       "      <td>34</td>\n",
       "      <td>80</td>\n",
       "      <td>4428000</td>\n",
       "    </tr>\n",
       "  </tbody>\n",
       "</table>\n",
       "</div>"
      ],
      "text/plain": [
       "               Age  Weight   Salary\n",
       "Name                               \n",
       "A.B.D Villers   38      74  3428000\n",
       "V.Kohli         31      70  8428000\n",
       "S.Smith         34      80  4428000"
      ]
     },
     "execution_count": 9,
     "metadata": {},
     "output_type": "execute_result"
    }
   ],
   "source": [
    "sliced_rows_custom = df_custom.loc['A.B.D Villers':'S.Smith']\n",
    "sliced_rows_custom"
   ]
  },
  {
   "cell_type": "markdown",
   "metadata": {},
   "source": [
    "B. Selecitng Specified cell in DataFrame in Python "
   ]
  },
  {
   "cell_type": "code",
   "execution_count": 10,
   "metadata": {},
   "outputs": [
    {
     "name": "stdout",
     "output_type": "stream",
     "text": [
      "\n",
      "Value of the Specific Cell (V.Kohli, Salary): 8428000\n"
     ]
    }
   ],
   "source": [
    "specific_cell_value = df_custom.loc['V.Kohli', 'Salary']\n",
    "print(\"\\nValue of the Specific Cell (V.Kohli, Salary):\", specific_cell_value)"
   ]
  },
  {
   "cell_type": "markdown",
   "metadata": {},
   "source": [
    "#### Conclusion\n",
    "In summary, both iloc[] and loc[]provide versatile slicing capabilities in Pandas. While iloc[] is integer-based, loc[] relies on labels, requiring careful consideration when working with custom indices or mixed data types."
   ]
  }
 ],
 "metadata": {
  "kernelspec": {
   "display_name": "Python 3",
   "language": "python",
   "name": "python3"
  },
  "language_info": {
   "codemirror_mode": {
    "name": "ipython",
    "version": 3
   },
   "file_extension": ".py",
   "mimetype": "text/x-python",
   "name": "python",
   "nbconvert_exporter": "python",
   "pygments_lexer": "ipython3",
   "version": "3.11.4"
  }
 },
 "nbformat": 4,
 "nbformat_minor": 2
}

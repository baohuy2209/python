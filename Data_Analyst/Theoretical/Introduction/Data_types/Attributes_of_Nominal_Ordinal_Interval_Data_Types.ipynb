{
 "cells": [
  {
   "cell_type": "markdown",
   "metadata": {},
   "source": [
    "# Attributes and its Types in Data Analytics "
   ]
  },
  {
   "cell_type": "markdown",
   "metadata": {},
   "source": [
    "In this article, we are going to discuss attributes and their various types in data analytics. We will also cover attributes types with the help of examples for better understanding. So let's discuss them one by one. "
   ]
  },
  {
   "cell_type": "markdown",
   "metadata": {},
   "source": [
    "#### What are Attributes? "
   ]
  },
  {
   "cell_type": "markdown",
   "metadata": {},
   "source": [
    "- Attributes are qualities or characteristics that describe an object, individual, or phenonmemnon. "
   ]
  },
  {
   "cell_type": "markdown",
   "metadata": {},
   "source": [
    "- Attributes can be categorical, representing distinct categories or classes, such as colors, types, or labels. "
   ]
  },
  {
   "cell_type": "markdown",
   "metadata": {},
   "source": [
    "- Some attributes are quantitative, taking on numerical values that can be measured or counted, such as height, weight or temperature. "
   ]
  },
  {
   "cell_type": "markdown",
   "metadata": {},
   "source": [
    "- Categorical attributes can be further classified as nominal (no inherent order) or ordinal (possessing a meaningful order)."
   ]
  },
  {
   "cell_type": "markdown",
   "metadata": {},
   "source": [
    "- In data analysis, attributes serve as the variables of interest, and understanding their nature is crucial for selecting appropriate statistical methods and drawing meaningful conclusions from the data."
   ]
  },
  {
   "cell_type": "markdown",
   "metadata": {},
   "source": [
    "### Example - "
   ]
  },
  {
   "cell_type": "markdown",
   "metadata": {},
   "source": [
    "Let's consider a person then their name, address, email, etc. are the attributes for contact information. Perceived values for a given attribute are termed as observations. The variety of an attribute is insisted on by the set of feasible values - nomial, binary, ordinal, or numeric. "
   ]
  },
  {
   "cell_type": "markdown",
   "metadata": {},
   "source": [
    "## Types of Attributes: "
   ]
  },
  {
   "cell_type": "markdown",
   "metadata": {},
   "source": [
    "### Quanlitative Attributes: (thuộc tính định tính)"
   ]
  },
  {
   "cell_type": "markdown",
   "metadata": {},
   "source": [
    "These attributes represent categories and do not have a meaningful numeric interpretation. Examples include gender, color, or product type. These are often reffered to as nomial, ordinal or binary attributes. "
   ]
  },
  {
   "cell_type": "markdown",
   "metadata": {},
   "source": [
    "#### 1. Nomial Attributes: \n"
   ]
  },
  {
   "cell_type": "markdown",
   "metadata": {},
   "source": [
    "Nominal means “relating to names” . The utilities of a nominal attribute are sign or title of objects . Each value represents some kind of category, code or state, and so nominal attributes are also referred to as categorical. Example : Suppose that skin color and education status are two attributes of expressing person objects. In our implementation, possible values for skin color are dark, white, brown. The attributes for education status can contain the values- undergraduate, postgraduate, matriculate."
   ]
  },
  {
   "cell_type": "markdown",
   "metadata": {},
   "source": [
    "#### 2. Binary Attributes: "
   ]
  },
  {
   "cell_type": "markdown",
   "metadata": {},
   "source": [
    "A binary attribute is a category of nominal attributes that contains only two classes: 0 or 1, where 0 often tells that the attribute is not present, and 1 tells that it is existing. Binary attributes are mentioned as Boolean if the two conditions agree to true and false. Example – Given the attribute drinker narrate a patient item, 1 specify that the drinker drinks, while 0 specify that the patient does not. Similarly, suppose the patient undergoes a medical test that has two practicable outcomes."
   ]
  },
  {
   "cell_type": "markdown",
   "metadata": {},
   "source": [
    "#### 3. Ordinal Attributes: "
   ]
  },
  {
   "cell_type": "markdown",
   "metadata": {},
   "source": [
    "Ordinal data is a type of categorical data that possesses a meaningful order or ranking among its categories, yet the intervals between consecutive values are not consistently measurable or well-defined. Example –In the context of sports, an ordinal data example would be medal rankings in a competition, such as gold, silver, and bronze."
   ]
  },
  {
   "cell_type": "markdown",
   "metadata": {},
   "source": [
    "### Quantitative Attributes: "
   ]
  },
  {
   "cell_type": "markdown",
   "metadata": {},
   "source": [
    "#### Numeric Attributes: "
   ]
  },
  {
   "cell_type": "markdown",
   "metadata": {},
   "source": [
    "A numeric attribute is calculable, that is, it is a quantifiable amount that constitutes integer or real values. Numeric attributes can be of two types as follows: Interval - scaled, and Ratio - scaled. Let's discuss one by one. "
   ]
  },
  {
   "cell_type": "markdown",
   "metadata": {},
   "source": [
    "#### 1. Interval - Scaled Attributes: "
   ]
  },
  {
   "cell_type": "markdown",
   "metadata": {},
   "source": [
    "Interval – scaled attributes are calculated on a lamella of uniform- size units. The values of interval-scaled attributes have order and can be positive, 0, or negative. Thus, in addition to providing a ranking of values, such attributes allow us to compare and quantify the difference between values. Example – A temperature attribute is an interval – scaled. We have different temperature values for every new day, where each day is an entity. By sequencing the values, we obtain an arrangement of entities with reference to temperature. In addition, we can quantify the difference in the value between values, for example, a temperature of 20 degrees C is five degrees higher than a temperature of 15 degrees C."
   ]
  },
  {
   "cell_type": "markdown",
   "metadata": {},
   "source": [
    "#### 2. Ratio - Scaled Attributes: "
   ]
  },
  {
   "cell_type": "markdown",
   "metadata": {},
   "source": [
    "A ratio – scaled attribute is a category of a numeric attribute with imminent or fix zero points. In inclusion, the entities are structured, and we can also compute the difference between values, as well as the mean, median, and mode. Example – The Kelvin (K) temperature scale has what is contemplated as a true zero point. It is the point at which the tiny bits that consist of matter has zero kinetic energy."
   ]
  },
  {
   "cell_type": "markdown",
   "metadata": {},
   "source": [
    "Numeric attributes can also be divided into the discrete and continuous data. "
   ]
  },
  {
   "cell_type": "markdown",
   "metadata": {},
   "source": [
    "- Discrete Attributes: A discrete attribute has a limited or restricted unlimited set of values, which may appear as integers. Example: The attributes skin color, drinker, medical report, and drink size each have a finite number of values, and so are discrete."
   ]
  },
  {
   "cell_type": "markdown",
   "metadata": {},
   "source": [
    "- Continuous Attributes: A continuous attribute has real numbers as attribute values. Example - Height, weight, and temperature have real values. Real values can only be represented and measured using finite number of digits. Continuous attributes are typically represented as floating - point variables. "
   ]
  },
  {
   "cell_type": "markdown",
   "metadata": {},
   "source": []
  },
  {
   "cell_type": "markdown",
   "metadata": {},
   "source": []
  },
  {
   "cell_type": "code",
   "execution_count": null,
   "metadata": {},
   "outputs": [],
   "source": []
  }
 ],
 "metadata": {
  "language_info": {
   "name": "python"
  }
 },
 "nbformat": 4,
 "nbformat_minor": 2
}

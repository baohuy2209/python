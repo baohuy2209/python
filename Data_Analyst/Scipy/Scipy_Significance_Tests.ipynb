{
 "cells": [
  {
   "cell_type": "markdown",
   "metadata": {},
   "source": [
    "# Scipy Statistical Significance Tests \n",
    "## 1) What is Statistical Significance Test? \n",
    "In statistics, statistical significance means that the result that was produced has a reason behind it, it was not produced randomly, or by chance.\n",
    "\n",
    "SciPy provides us with a module called scipy.stats, which has functions for performing statistical significance tests.\n",
    "\n",
    "Here are some techniques and keywords that are important when performing such tests:\n",
    "## 2) Hypothesis in Statistics \n",
    "Hypothesis is an assumption about a parameter in population.\n",
    "## 3) Null Hypothesis \n",
    "It assumes that the observation is not statistically significant.\n",
    "## 4) Alternate Hypothesis \n",
    "It assumes that the observations are due to some reason.\n",
    "\n",
    "It's alternate to Null Hypothesis.\n",
    "\n",
    "Example:\n",
    "\n",
    "For an assessment of a student we would take:\n",
    "\n",
    "\"student is worse than average\" - as a null hypothesis, and:\n",
    "\n",
    "\"student is better than average\" - as an alternate hypothesis.\n",
    "## 5) One tailed test \n",
    "When our hypothesis is testing for one side of the value only, it is called \"one tailed test\".\n",
    "\n",
    "Example:\n",
    "\n",
    "For the null hypothesis:\n",
    "\n",
    "\"the mean is equal to k\", we can have alternate hypothesis:\n",
    "\n",
    "\"the mean is less than k\", or:\n",
    "\n",
    "\"the mean is greater than k\"\n",
    "## 6) Two tailed test \n",
    "When our hypothesis is testing for both side of the values.\n",
    "\n",
    "Example:\n",
    "\n",
    "For the null hypothesis:\n",
    "\n",
    "\"the mean is equal to k\", we can have alternate hypothesis:\n",
    "\n",
    "\"the mean is not equal to k\"\n",
    "\n",
    "In this case the mean is less than, or greater than k, and both sides are to be checked.\n",
    "## 7) Alpha value \n",
    "Alpha value is the level of significance.\n",
    "\n",
    "Example:\n",
    "\n",
    "How close to extremes the data must be for null hypothesis to be rejected.\n",
    "\n",
    "It is usually taken as 0.01, 0.05, or 0.1.\n",
    "## 8) P value: \n",
    "P value tells how close to extreme the data actually is.\n",
    "\n",
    "P value and alpha values are compared to establish the statistical significance.\n",
    "\n",
    "If p value <= alpha we reject the null hypothesis and say that the data is statistically significant. otherwise we accept the null hypothesis.\n",
    "## 9) T-Test \n",
    "T-tests are used to determine if there is significant deference between means of two variables and lets us know if they belong to the same distribution.\n",
    "\n",
    "It is a two tailed test.\n",
    "\n",
    "The function ttest_ind() takes two samples of same size and produces a tuple of t-statistic and p-value.\n",
    "Find if the given values v1 and v2 are from same distribution:"
   ]
  },
  {
   "cell_type": "code",
   "execution_count": 2,
   "metadata": {},
   "outputs": [
    {
     "name": "stdout",
     "output_type": "stream",
     "text": [
      "TtestResult(statistic=-0.20787779855646635, pvalue=0.835538046932734, df=198.0)\n"
     ]
    }
   ],
   "source": [
    "import numpy as np\n",
    "from scipy.stats import ttest_ind\n",
    "\n",
    "v1 = np.random.normal(size=100)\n",
    "v2 = np.random.normal(size=100)\n",
    "\n",
    "res = ttest_ind(v1, v2)\n",
    "\n",
    "print(res)"
   ]
  },
  {
   "cell_type": "markdown",
   "metadata": {},
   "source": [
    "If you want to return only the p-value, use the pvalue property:"
   ]
  },
  {
   "cell_type": "code",
   "execution_count": 3,
   "metadata": {},
   "outputs": [
    {
     "name": "stdout",
     "output_type": "stream",
     "text": [
      "0.835538046932734\n"
     ]
    }
   ],
   "source": [
    "res = ttest_ind(v1, v2).pvalue\n",
    "\n",
    "print(res)"
   ]
  },
  {
   "cell_type": "markdown",
   "metadata": {},
   "source": [
    "## 10) KS-Test \n",
    "KS test is used to check if given values follow a distribution.\n",
    "\n",
    "The function takes the value to be tested, and the CDF as two parameters.\n",
    "\n",
    "A CDF can be either a string or a callable function that returns the probability.\n",
    "\n",
    "It can be used as a one tailed or two tailed test.\n",
    "\n",
    "By default it is two tailed. We can pass parameter alternative as a string of one of two-sided, less, or greater.\n",
    "Find if the given value follows the normal distribution:"
   ]
  },
  {
   "cell_type": "code",
   "execution_count": 4,
   "metadata": {},
   "outputs": [
    {
     "name": "stdout",
     "output_type": "stream",
     "text": [
      "KstestResult(statistic=0.08939127893023036, pvalue=0.37881383488104103, statistic_location=0.9130477243435817, statistic_sign=-1)\n"
     ]
    }
   ],
   "source": [
    "import numpy as np\n",
    "from scipy.stats import kstest\n",
    "\n",
    "v = np.random.normal(size=100)\n",
    "\n",
    "res = kstest(v, \"norm\")\n",
    "\n",
    "print(res)"
   ]
  },
  {
   "cell_type": "markdown",
   "metadata": {},
   "source": [
    "## 11) Statistical Description of Data \n",
    "In order to see a summary of values in an array, we can use the describe() function.\n",
    "\n",
    "It returns the following description:\n",
    "\n",
    "1. number of observations (nobs)\n",
    "2. minimum and maximum values = minmax\n",
    "3. mean\n",
    "4. variance\n",
    "5. skewness\n",
    "6. kurtosis\n",
    "Show statistical description of the values in an array:"
   ]
  },
  {
   "cell_type": "code",
   "execution_count": 5,
   "metadata": {},
   "outputs": [
    {
     "name": "stdout",
     "output_type": "stream",
     "text": [
      "DescribeResult(nobs=100, minmax=(-2.596430234028102, 2.6512183460828584), mean=0.034154715916863324, variance=0.8902412133925944, skewness=0.07488679691575938, kurtosis=-0.05554835173896233)\n"
     ]
    }
   ],
   "source": [
    "import numpy as np\n",
    "from scipy.stats import describe\n",
    "\n",
    "v = np.random.normal(size=100)\n",
    "res = describe(v)\n",
    "\n",
    "print(res)"
   ]
  },
  {
   "cell_type": "markdown",
   "metadata": {},
   "source": [
    "## 12) Normality Tests (Skewness and Kurtosis) \n",
    "Normality tests are based on the skewness and kurtosis.\n",
    "\n",
    "The normaltest() function returns p value for the null hypothesis:\n",
    "\n",
    "\"x comes from a normal distribution\"."
   ]
  },
  {
   "cell_type": "markdown",
   "metadata": {},
   "source": [
    "## 13) Skewness \n",
    "A measure of symmetry in data.\n",
    "\n",
    "For normal distributions it is 0.\n",
    "\n",
    "If it is negative, it means the data is skewed left.\n",
    "\n",
    "If it is positive it means the data is skewed right. \n",
    "## 14) Kurtosis \n",
    "A measure of whether the data is heavy or lightly tailed to a normal distribution.\n",
    "\n",
    "Positive kurtosis means heavy tailed.\n",
    "\n",
    "Negative kurtosis means lightly tailed.Example\n",
    "Find skewness and kurtosis of values in an array:"
   ]
  },
  {
   "cell_type": "code",
   "execution_count": 6,
   "metadata": {},
   "outputs": [
    {
     "name": "stdout",
     "output_type": "stream",
     "text": [
      "0.12246791075053401\n",
      "-0.5833857032471297\n"
     ]
    }
   ],
   "source": [
    "import numpy as np\n",
    "from scipy.stats import skew, kurtosis\n",
    "\n",
    "v = np.random.normal(size=100)\n",
    "\n",
    "print(skew(v))\n",
    "print(kurtosis(v))"
   ]
  },
  {
   "cell_type": "markdown",
   "metadata": {},
   "source": [
    "Example\n",
    "Find if the data comes from a normal distribution:"
   ]
  },
  {
   "cell_type": "code",
   "execution_count": 7,
   "metadata": {},
   "outputs": [
    {
     "name": "stdout",
     "output_type": "stream",
     "text": [
      "NormaltestResult(statistic=0.4704280802392687, pvalue=0.7904016538574892)\n"
     ]
    }
   ],
   "source": [
    "import numpy as np\n",
    "from scipy.stats import normaltest\n",
    "\n",
    "v = np.random.normal(size=100)\n",
    "\n",
    "print(normaltest(v))"
   ]
  }
 ],
 "metadata": {
  "kernelspec": {
   "display_name": "Python 3",
   "language": "python",
   "name": "python3"
  },
  "language_info": {
   "codemirror_mode": {
    "name": "ipython",
    "version": 3
   },
   "file_extension": ".py",
   "mimetype": "text/x-python",
   "name": "python",
   "nbconvert_exporter": "python",
   "pygments_lexer": "ipython3",
   "version": "3.12.0"
  }
 },
 "nbformat": 4,
 "nbformat_minor": 2
}

{
 "cells": [
  {
   "cell_type": "markdown",
   "metadata": {},
   "source": [
    "# SciPy Constants\n"
   ]
  },
  {
   "cell_type": "code",
   "execution_count": 2,
   "metadata": {},
   "outputs": [],
   "source": [
    "from scipy import constants "
   ]
  },
  {
   "cell_type": "markdown",
   "metadata": {},
   "source": [
    "## 1) Constans in SciPy: \n",
    "As SciPy is more focused on scientific implementations, it provides many built-in scientific constants. \n",
    "These constants can be helpful when you are working with Data Science."
   ]
  },
  {
   "cell_type": "markdown",
   "metadata": {},
   "source": [
    "PI is an example of a scientific constant. "
   ]
  },
  {
   "cell_type": "markdown",
   "metadata": {},
   "source": [
    "Print the constant value of PI: "
   ]
  },
  {
   "cell_type": "code",
   "execution_count": 3,
   "metadata": {},
   "outputs": [
    {
     "name": "stdout",
     "output_type": "stream",
     "text": [
      "3.141592653589793\n"
     ]
    }
   ],
   "source": [
    "print(constants.pi)"
   ]
  },
  {
   "cell_type": "markdown",
   "metadata": {},
   "source": [
    "## 2) Constant Units \n",
    "A list of all units under the constants module can be seen using the `dir()` function. "
   ]
  },
  {
   "cell_type": "markdown",
   "metadata": {},
   "source": [
    "List all constants: "
   ]
  },
  {
   "cell_type": "code",
   "execution_count": 4,
   "metadata": {},
   "outputs": [
    {
     "name": "stdout",
     "output_type": "stream",
     "text": [
      "['Avogadro', 'Boltzmann', 'Btu', 'Btu_IT', 'Btu_th', 'ConstantWarning', 'G', 'Julian_year', 'N_A', 'Planck', 'R', 'Rydberg', 'Stefan_Boltzmann', 'Wien', '__all__', '__builtins__', '__cached__', '__doc__', '__file__', '__loader__', '__name__', '__package__', '__path__', '__spec__', '_codata', '_constants', '_obsolete_constants', 'acre', 'alpha', 'angstrom', 'arcmin', 'arcminute', 'arcsec', 'arcsecond', 'astronomical_unit', 'atm', 'atmosphere', 'atomic_mass', 'atto', 'au', 'bar', 'barrel', 'bbl', 'blob', 'c', 'calorie', 'calorie_IT', 'calorie_th', 'carat', 'centi', 'codata', 'constants', 'convert_temperature', 'day', 'deci', 'degree', 'degree_Fahrenheit', 'deka', 'dyn', 'dyne', 'e', 'eV', 'electron_mass', 'electron_volt', 'elementary_charge', 'epsilon_0', 'erg', 'exa', 'exbi', 'femto', 'fermi', 'find', 'fine_structure', 'fluid_ounce', 'fluid_ounce_US', 'fluid_ounce_imp', 'foot', 'g', 'gallon', 'gallon_US', 'gallon_imp', 'gas_constant', 'gibi', 'giga', 'golden', 'golden_ratio', 'grain', 'gram', 'gravitational_constant', 'h', 'hbar', 'hectare', 'hecto', 'horsepower', 'hour', 'hp', 'inch', 'k', 'kgf', 'kibi', 'kilo', 'kilogram_force', 'kmh', 'knot', 'lambda2nu', 'lb', 'lbf', 'light_year', 'liter', 'litre', 'long_ton', 'm_e', 'm_n', 'm_p', 'm_u', 'mach', 'mebi', 'mega', 'metric_ton', 'micro', 'micron', 'mil', 'mile', 'milli', 'minute', 'mmHg', 'mph', 'mu_0', 'nano', 'nautical_mile', 'neutron_mass', 'nu2lambda', 'ounce', 'oz', 'parsec', 'pebi', 'peta', 'physical_constants', 'pi', 'pico', 'point', 'pound', 'pound_force', 'precision', 'proton_mass', 'psi', 'pt', 'quecto', 'quetta', 'ronna', 'ronto', 'short_ton', 'sigma', 'slinch', 'slug', 'speed_of_light', 'speed_of_sound', 'stone', 'survey_foot', 'survey_mile', 'tebi', 'tera', 'test', 'ton_TNT', 'torr', 'troy_ounce', 'troy_pound', 'u', 'unit', 'value', 'week', 'yard', 'year', 'yobi', 'yocto', 'yotta', 'zebi', 'zepto', 'zero_Celsius', 'zetta']\n"
     ]
    }
   ],
   "source": [
    "print(dir(constants))"
   ]
  },
  {
   "cell_type": "markdown",
   "metadata": {},
   "source": [
    "## 3) Unit Categories: \n",
    "The units are placed under these categories:\n",
    "\n",
    "- Metric\n",
    "- Binary\n",
    "- Mass\n",
    "- Angle\n",
    "- Time\n",
    "- Length\n",
    "- Pressure\n",
    "- Volume\n",
    "- Speed\n",
    "- Temperature\n",
    "- Energy\n",
    "- Power\n",
    "- Force\n"
   ]
  },
  {
   "cell_type": "markdown",
   "metadata": {},
   "source": [
    "## 4) Metric (SI) Prefixes: \n",
    "Return the specified unit in meter (e.g. centi returns 0.01)"
   ]
  },
  {
   "cell_type": "code",
   "execution_count": 5,
   "metadata": {},
   "outputs": [
    {
     "name": "stdout",
     "output_type": "stream",
     "text": [
      "1e+24\n"
     ]
    }
   ],
   "source": [
    "print(constants.yotta)"
   ]
  },
  {
   "cell_type": "code",
   "execution_count": 6,
   "metadata": {},
   "outputs": [
    {
     "name": "stdout",
     "output_type": "stream",
     "text": [
      "1e+21\n"
     ]
    }
   ],
   "source": [
    "print(constants.zetta)"
   ]
  },
  {
   "cell_type": "code",
   "execution_count": 7,
   "metadata": {},
   "outputs": [
    {
     "name": "stdout",
     "output_type": "stream",
     "text": [
      "1e+18\n"
     ]
    }
   ],
   "source": [
    "print(constants.exa)"
   ]
  },
  {
   "cell_type": "code",
   "execution_count": 8,
   "metadata": {},
   "outputs": [
    {
     "name": "stdout",
     "output_type": "stream",
     "text": [
      "1000000000000000.0\n"
     ]
    }
   ],
   "source": [
    "print(constants.peta)"
   ]
  },
  {
   "cell_type": "code",
   "execution_count": 9,
   "metadata": {},
   "outputs": [
    {
     "name": "stdout",
     "output_type": "stream",
     "text": [
      "1000000000000.0\n"
     ]
    }
   ],
   "source": [
    "print(constants.tera)"
   ]
  },
  {
   "cell_type": "code",
   "execution_count": 10,
   "metadata": {},
   "outputs": [
    {
     "name": "stdout",
     "output_type": "stream",
     "text": [
      "1000000000.0\n"
     ]
    }
   ],
   "source": [
    "print(constants.giga)"
   ]
  },
  {
   "cell_type": "code",
   "execution_count": 11,
   "metadata": {},
   "outputs": [
    {
     "name": "stdout",
     "output_type": "stream",
     "text": [
      "1000000.0\n"
     ]
    }
   ],
   "source": [
    "print(constants.mega)"
   ]
  },
  {
   "cell_type": "code",
   "execution_count": 12,
   "metadata": {},
   "outputs": [
    {
     "name": "stdout",
     "output_type": "stream",
     "text": [
      "1000.0\n"
     ]
    }
   ],
   "source": [
    "print(constants.kilo)"
   ]
  },
  {
   "cell_type": "code",
   "execution_count": 13,
   "metadata": {},
   "outputs": [
    {
     "name": "stdout",
     "output_type": "stream",
     "text": [
      "100.0\n"
     ]
    }
   ],
   "source": [
    "print(constants.hecto)"
   ]
  },
  {
   "cell_type": "code",
   "execution_count": 14,
   "metadata": {},
   "outputs": [
    {
     "name": "stdout",
     "output_type": "stream",
     "text": [
      "10.0\n"
     ]
    }
   ],
   "source": [
    "print(constants.deka)"
   ]
  },
  {
   "cell_type": "code",
   "execution_count": 15,
   "metadata": {},
   "outputs": [
    {
     "name": "stdout",
     "output_type": "stream",
     "text": [
      "0.1\n"
     ]
    }
   ],
   "source": [
    "print(constants.deci)"
   ]
  },
  {
   "cell_type": "code",
   "execution_count": 16,
   "metadata": {},
   "outputs": [
    {
     "name": "stdout",
     "output_type": "stream",
     "text": [
      "0.01\n"
     ]
    }
   ],
   "source": [
    "print(constants.centi)"
   ]
  },
  {
   "cell_type": "code",
   "execution_count": 17,
   "metadata": {},
   "outputs": [
    {
     "name": "stdout",
     "output_type": "stream",
     "text": [
      "0.001\n"
     ]
    }
   ],
   "source": [
    "print(constants.milli)"
   ]
  },
  {
   "cell_type": "code",
   "execution_count": 18,
   "metadata": {},
   "outputs": [
    {
     "name": "stdout",
     "output_type": "stream",
     "text": [
      "1e-06\n"
     ]
    }
   ],
   "source": [
    "print(constants.micro)"
   ]
  },
  {
   "cell_type": "code",
   "execution_count": 19,
   "metadata": {},
   "outputs": [
    {
     "name": "stdout",
     "output_type": "stream",
     "text": [
      "1e-09\n"
     ]
    }
   ],
   "source": [
    "print(constants.nano)"
   ]
  },
  {
   "cell_type": "code",
   "execution_count": 20,
   "metadata": {},
   "outputs": [
    {
     "name": "stdout",
     "output_type": "stream",
     "text": [
      "1e-12\n"
     ]
    }
   ],
   "source": [
    "print(constants.pico)"
   ]
  },
  {
   "cell_type": "code",
   "execution_count": 21,
   "metadata": {},
   "outputs": [
    {
     "name": "stdout",
     "output_type": "stream",
     "text": [
      "1e-15\n"
     ]
    }
   ],
   "source": [
    "print(constants.femto)"
   ]
  },
  {
   "cell_type": "code",
   "execution_count": 22,
   "metadata": {},
   "outputs": [
    {
     "name": "stdout",
     "output_type": "stream",
     "text": [
      "1e-18\n"
     ]
    }
   ],
   "source": [
    "print(constants.atto)"
   ]
  },
  {
   "cell_type": "code",
   "execution_count": 23,
   "metadata": {},
   "outputs": [
    {
     "name": "stdout",
     "output_type": "stream",
     "text": [
      "1e-21\n"
     ]
    }
   ],
   "source": [
    "print(constants.zepto)"
   ]
  },
  {
   "cell_type": "markdown",
   "metadata": {},
   "source": [
    "## 5) Binary Prefixes: \n",
    "Return the specified unit in bytes (e.g. kibi returns 1024)"
   ]
  },
  {
   "cell_type": "code",
   "execution_count": 24,
   "metadata": {},
   "outputs": [
    {
     "name": "stdout",
     "output_type": "stream",
     "text": [
      "1024\n",
      "1048576\n",
      "1073741824\n",
      "1099511627776\n",
      "1125899906842624\n",
      "1152921504606846976\n",
      "1180591620717411303424\n",
      "1208925819614629174706176\n"
     ]
    }
   ],
   "source": [
    "print(constants.kibi)  # 1024\n",
    "print(constants.mebi)  # 1048576\n",
    "print(constants.gibi)  # 1073741824\n",
    "print(constants.tebi)  # 1099511627776\n",
    "print(constants.pebi)  # 1125899906842624\n",
    "print(constants.exbi)  # 1152921504606846976\n",
    "print(constants.zebi)  # 1180591620717411303424\n",
    "print(constants.yobi)  # 1208925819614629174706176"
   ]
  },
  {
   "cell_type": "markdown",
   "metadata": {},
   "source": [
    "## 6) Mass: \n",
    "Return the specified unit in kg (e.g. gram returns 0.001)"
   ]
  },
  {
   "cell_type": "code",
   "execution_count": 25,
   "metadata": {},
   "outputs": [
    {
     "name": "stdout",
     "output_type": "stream",
     "text": [
      "0.001\n",
      "1000.0\n",
      "6.479891e-05\n",
      "0.45359236999999997\n",
      "0.45359236999999997\n",
      "0.028349523124999998\n",
      "0.028349523124999998\n",
      "6.3502931799999995\n",
      "1016.0469088\n",
      "907.1847399999999\n",
      "0.031103476799999998\n",
      "0.37324172159999996\n",
      "0.0002\n",
      "1.6605390666e-27\n",
      "1.6605390666e-27\n",
      "1.6605390666e-27\n"
     ]
    }
   ],
   "source": [
    "print(constants.gram)  # 0.001\n",
    "print(constants.metric_ton)  # 1000.0\n",
    "print(constants.grain)  # 6.479891e-05\n",
    "print(constants.lb)  # 0.45359236999999997\n",
    "print(constants.pound)  # 0.45359236999999997\n",
    "print(constants.oz)  # 0.028349523124999998\n",
    "print(constants.ounce)  # 0.028349523124999998\n",
    "print(constants.stone)  # 6.3502931799999995\n",
    "print(constants.long_ton)  # 1016.0469088\n",
    "print(constants.short_ton)  # 907.1847399999999\n",
    "print(constants.troy_ounce)  # 0.031103476799999998\n",
    "print(constants.troy_pound)  # 0.37324172159999996\n",
    "print(constants.carat)  # 0.0002\n",
    "print(constants.atomic_mass)  # 1.66053904e-27\n",
    "print(constants.m_u)  # 1.66053904e-27\n",
    "print(constants.u)  # 1.66053904e-27"
   ]
  },
  {
   "cell_type": "markdown",
   "metadata": {},
   "source": [
    "## 7) Angle: \n",
    "Return the specified unit in radians (e.g. degree returns 0.017453292519943295)"
   ]
  },
  {
   "cell_type": "code",
   "execution_count": 26,
   "metadata": {},
   "outputs": [
    {
     "name": "stdout",
     "output_type": "stream",
     "text": [
      "0.017453292519943295\n",
      "0.0002908882086657216\n",
      "0.0002908882086657216\n",
      "4.84813681109536e-06\n",
      "4.84813681109536e-06\n"
     ]
    }
   ],
   "source": [
    "print(constants.degree)  # 0.017453292519943295\n",
    "print(constants.arcmin)  # 0.0002908882086657216\n",
    "print(constants.arcminute)  # 0.0002908882086657216\n",
    "print(constants.arcsec)  # 4.84813681109536e-06\n",
    "print(constants.arcsecond)  # 4.84813681109536e-06"
   ]
  },
  {
   "cell_type": "markdown",
   "metadata": {},
   "source": [
    "## 8) Time: \n",
    "Return the specified unit in seconds (e.g. hour returns 3600.0)"
   ]
  },
  {
   "cell_type": "code",
   "execution_count": 27,
   "metadata": {},
   "outputs": [
    {
     "name": "stdout",
     "output_type": "stream",
     "text": [
      "60.0\n",
      "3600.0\n",
      "86400.0\n",
      "604800.0\n",
      "31536000.0\n",
      "31557600.0\n"
     ]
    }
   ],
   "source": [
    "print(constants.minute)  # 60.0\n",
    "print(constants.hour)  # 3600.0\n",
    "print(constants.day)  # 86400.0\n",
    "print(constants.week)  # 604800.0\n",
    "print(constants.year)  # 31536000.0\n",
    "print(constants.Julian_year)  # 31557600.0"
   ]
  },
  {
   "cell_type": "markdown",
   "metadata": {},
   "source": [
    "## 9) Length: \n",
    "Return the specified unit in meters (e.g. nautical_mile returns 1852.0)"
   ]
  },
  {
   "cell_type": "code",
   "execution_count": 28,
   "metadata": {},
   "outputs": [
    {
     "name": "stdout",
     "output_type": "stream",
     "text": [
      "0.0254\n",
      "0.30479999999999996\n",
      "0.9143999999999999\n",
      "1609.3439999999998\n",
      "2.5399999999999997e-05\n",
      "0.00035277777777777776\n",
      "0.00035277777777777776\n",
      "0.3048006096012192\n",
      "1609.3472186944373\n",
      "1852.0\n",
      "1e-15\n",
      "1e-10\n",
      "1e-06\n",
      "149597870700.0\n",
      "149597870700.0\n",
      "9460730472580800.0\n",
      "3.085677581491367e+16\n"
     ]
    }
   ],
   "source": [
    "print(constants.inch)  # 0.0254\n",
    "print(constants.foot)  # 0.30479999999999996\n",
    "print(constants.yard)  # 0.9143999999999999\n",
    "print(constants.mile)  # 1609.3439999999998\n",
    "print(constants.mil)  # 2.5399999999999997e-05\n",
    "print(constants.pt)  # 0.00035277777777777776\n",
    "print(constants.point)  # 0.00035277777777777776\n",
    "print(constants.survey_foot)  # 0.3048006096012192\n",
    "print(constants.survey_mile)  # 1609.3472186944373\n",
    "print(constants.nautical_mile)  # 1852.0\n",
    "print(constants.fermi)  # 1e-15\n",
    "print(constants.angstrom)  # 1e-10\n",
    "print(constants.micron)  # 1e-06\n",
    "print(constants.au)  # 149597870691.0\n",
    "print(constants.astronomical_unit)  # 149597870691.0\n",
    "print(constants.light_year)  # 9460730472580800.0\n",
    "print(constants.parsec)  # 3.0856775813057292e+16"
   ]
  },
  {
   "cell_type": "markdown",
   "metadata": {},
   "source": [
    "## 10) Pressure: \n",
    "Return the specified unit in pascals (e.g. psi returns 6894.757293168361)"
   ]
  },
  {
   "cell_type": "code",
   "execution_count": 29,
   "metadata": {},
   "outputs": [
    {
     "name": "stdout",
     "output_type": "stream",
     "text": [
      "101325.0\n",
      "101325.0\n",
      "100000.0\n",
      "133.32236842105263\n",
      "133.32236842105263\n",
      "6894.757293168361\n"
     ]
    }
   ],
   "source": [
    "print(constants.atm)         #101325.0\n",
    "print(constants.atmosphere)  #101325.0\n",
    "print(constants.bar)         #100000.0\n",
    "print(constants.torr)        #133.32236842105263\n",
    "print(constants.mmHg)        #133.32236842105263\n",
    "print(constants.psi)         #6894.757293168361"
   ]
  },
  {
   "cell_type": "markdown",
   "metadata": {},
   "source": [
    "## 11) Area: \n",
    "Return the specified unit in square meters "
   ]
  },
  {
   "cell_type": "code",
   "execution_count": 30,
   "metadata": {},
   "outputs": [
    {
     "name": "stdout",
     "output_type": "stream",
     "text": [
      "10000.0\n",
      "4046.8564223999992\n"
     ]
    }
   ],
   "source": [
    "print(constants.hectare)  # 10000.0\n",
    "print(constants.acre)  # 4046.8564223999992"
   ]
  },
  {
   "cell_type": "markdown",
   "metadata": {},
   "source": [
    "## 12) Volume: \n",
    "Return the specified unit in cubic meters (e.g. liter returns 0.001)"
   ]
  },
  {
   "cell_type": "code",
   "execution_count": 31,
   "metadata": {},
   "outputs": [
    {
     "name": "stdout",
     "output_type": "stream",
     "text": [
      "0.001\n",
      "0.001\n",
      "0.0037854117839999997\n",
      "0.0037854117839999997\n",
      "0.00454609\n",
      "2.9573529562499998e-05\n",
      "2.9573529562499998e-05\n",
      "2.84130625e-05\n",
      "0.15898729492799998\n",
      "0.15898729492799998\n"
     ]
    }
   ],
   "source": [
    "print(constants.liter)  # 0.001\n",
    "print(constants.litre)  # 0.001\n",
    "print(constants.gallon)  # 0.0037854117839999997\n",
    "print(constants.gallon_US)  # 0.0037854117839999997\n",
    "print(constants.gallon_imp)  # 0.00454609\n",
    "print(constants.fluid_ounce)  # 2.9573529562499998e-05\n",
    "print(constants.fluid_ounce_US)  # 2.9573529562499998e-05\n",
    "print(constants.fluid_ounce_imp)  # 2.84130625e-05\n",
    "print(constants.barrel)  # 0.15898729492799998\n",
    "print(constants.bbl)  # 0.15898729492799998"
   ]
  },
  {
   "cell_type": "markdown",
   "metadata": {},
   "source": [
    "## 13) Speed: \n",
    "Return the specified unit in meters per second (e.g. speed_of_sound returns 340.5)"
   ]
  },
  {
   "cell_type": "code",
   "execution_count": 32,
   "metadata": {},
   "outputs": [
    {
     "name": "stdout",
     "output_type": "stream",
     "text": [
      "0.2777777777777778\n",
      "0.44703999999999994\n",
      "340.5\n",
      "340.5\n",
      "0.5144444444444445\n"
     ]
    }
   ],
   "source": [
    "print(constants.kmh)            #0.2777777777777778\n",
    "print(constants.mph)            #0.44703999999999994\n",
    "print(constants.mach)           #340.5\n",
    "print(constants.speed_of_sound) #340.5\n",
    "print(constants.knot)           #0.5144444444444445"
   ]
  },
  {
   "cell_type": "markdown",
   "metadata": {},
   "source": [
    "## 14) Temperature: \n",
    "Return the specified unit in Kelvin (e.g. zero_Celsius returns 273.15)"
   ]
  },
  {
   "cell_type": "code",
   "execution_count": 33,
   "metadata": {},
   "outputs": [
    {
     "name": "stdout",
     "output_type": "stream",
     "text": [
      "273.15\n",
      "0.5555555555555556\n"
     ]
    }
   ],
   "source": [
    "print(constants.zero_Celsius)  # 273.15\n",
    "print(constants.degree_Fahrenheit)  # 0.5555555555555556"
   ]
  },
  {
   "cell_type": "markdown",
   "metadata": {},
   "source": [
    "## 15) Energy: \n",
    " Return the specified unit in joules (e.g. calorie returns 4.184)"
   ]
  },
  {
   "cell_type": "code",
   "execution_count": 34,
   "metadata": {},
   "outputs": [
    {
     "name": "stdout",
     "output_type": "stream",
     "text": [
      "1.602176634e-19\n",
      "1.602176634e-19\n",
      "4.184\n",
      "4.184\n",
      "4.1868\n",
      "1e-07\n",
      "1055.05585262\n",
      "1055.05585262\n",
      "1054.3502644888888\n",
      "4184000000.0\n"
     ]
    }
   ],
   "source": [
    "print(constants.eV)  # 1.6021766208e-19\n",
    "print(constants.electron_volt)  # 1.6021766208e-19\n",
    "print(constants.calorie)  # 4.184\n",
    "print(constants.calorie_th)  # 4.184\n",
    "print(constants.calorie_IT)  # 4.1868\n",
    "print(constants.erg)  # 1e-07\n",
    "print(constants.Btu)  # 1055.05585262\n",
    "print(constants.Btu_IT)  # 1055.05585262\n",
    "print(constants.Btu_th)  # 1054.3502644888888\n",
    "print(constants.ton_TNT)  # 4184000000.0"
   ]
  },
  {
   "cell_type": "markdown",
   "metadata": {},
   "source": [
    "## 16) Power: \n",
    "Return the specified unit in watts (e.g. horsepower returns 745.6998715822701)"
   ]
  },
  {
   "cell_type": "code",
   "execution_count": 35,
   "metadata": {},
   "outputs": [
    {
     "name": "stdout",
     "output_type": "stream",
     "text": [
      "745.6998715822701\n",
      "745.6998715822701\n"
     ]
    }
   ],
   "source": [
    "print(constants.hp)  # 745.6998715822701\n",
    "print(constants.horsepower)  # 745.6998715822701"
   ]
  },
  {
   "cell_type": "markdown",
   "metadata": {},
   "source": [
    "## 17) Force: \n",
    "Return the specified unit in newton  "
   ]
  },
  {
   "cell_type": "code",
   "execution_count": 36,
   "metadata": {},
   "outputs": [
    {
     "name": "stdout",
     "output_type": "stream",
     "text": [
      "1e-05\n",
      "1e-05\n",
      "4.4482216152605\n",
      "4.4482216152605\n",
      "9.80665\n",
      "9.80665\n"
     ]
    }
   ],
   "source": [
    "print(constants.dyn)  # 1e-05\n",
    "print(constants.dyne)  # 1e-05\n",
    "print(constants.lbf)  # 4.4482216152605\n",
    "print(constants.pound_force)  # 4.4482216152605\n",
    "print(constants.kgf)  # 9.80665\n",
    "print(constants.kilogram_force)  # 9.80665"
   ]
  }
 ],
 "metadata": {
  "kernelspec": {
   "display_name": "Python 3",
   "language": "python",
   "name": "python3"
  },
  "language_info": {
   "codemirror_mode": {
    "name": "ipython",
    "version": 3
   },
   "file_extension": ".py",
   "mimetype": "text/x-python",
   "name": "python",
   "nbconvert_exporter": "python",
   "pygments_lexer": "ipython3",
   "version": "3.12.0"
  }
 },
 "nbformat": 4,
 "nbformat_minor": 2
}

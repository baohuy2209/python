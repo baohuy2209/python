{
 "cells": [
  {
   "cell_type": "markdown",
   "metadata": {},
   "source": [
    "# SciPy Getting Started \n",
    "## 1) Installation of SciPy \n",
    "If you have Python and PIP already installed on a system, then installation of SciPy is very easy.\n",
    "Install it using this command:\n",
    "`pip install scipy`\n"
   ]
  },
  {
   "cell_type": "markdown",
   "metadata": {},
   "source": [
    "If this command fails, then use a Python distribution that already has SciPy installed like, Anaconda, Spyder etc."
   ]
  },
  {
   "cell_type": "markdown",
   "metadata": {},
   "source": [
    "## 2) Import SciPy\n",
    "Once SciPy is installed, import the SciPy module(s) you want to use in your applications by adding the `from scipy import module` statement:"
   ]
  },
  {
   "cell_type": "code",
   "execution_count": 1,
   "metadata": {},
   "outputs": [],
   "source": [
    "from scipy import constants"
   ]
  },
  {
   "cell_type": "markdown",
   "metadata": {},
   "source": [
    "Now we have imported the constants module from SciPy, and the application is ready to use it:"
   ]
  },
  {
   "cell_type": "markdown",
   "metadata": {},
   "source": [
    "How many cubic meters are in one liter: \n"
   ]
  },
  {
   "cell_type": "code",
   "execution_count": 2,
   "metadata": {},
   "outputs": [
    {
     "name": "stdout",
     "output_type": "stream",
     "text": [
      "0.001\n"
     ]
    }
   ],
   "source": [
    "print(constants.liter)"
   ]
  },
  {
   "cell_type": "markdown",
   "metadata": {},
   "source": [
    "constants: SciPy offers a set of mathematical constants, one of them is liter which returns 1 liter as cubic meters.\n",
    "\n",
    "You will learn more about constants in the next chapter."
   ]
  },
  {
   "cell_type": "markdown",
   "metadata": {},
   "source": [
    "## 3) Checking SciPy Version \n",
    "The version string is stored under the __version__ attribute."
   ]
  },
  {
   "cell_type": "code",
   "execution_count": 3,
   "metadata": {},
   "outputs": [
    {
     "name": "stdout",
     "output_type": "stream",
     "text": [
      "1.11.3\n"
     ]
    }
   ],
   "source": [
    "import scipy\n",
    "\n",
    "print(scipy.__version__)"
   ]
  }
 ],
 "metadata": {
  "kernelspec": {
   "display_name": "Python 3",
   "language": "python",
   "name": "python3"
  },
  "language_info": {
   "codemirror_mode": {
    "name": "ipython",
    "version": 3
   },
   "file_extension": ".py",
   "mimetype": "text/x-python",
   "name": "python",
   "nbconvert_exporter": "python",
   "pygments_lexer": "ipython3",
   "version": "3.12.0"
  }
 },
 "nbformat": 4,
 "nbformat_minor": 2
}

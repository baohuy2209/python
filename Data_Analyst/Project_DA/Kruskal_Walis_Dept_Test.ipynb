{
 "cells": [
  {
   "cell_type": "markdown",
   "id": "deca2a86-bac7-4c3c-b60b-45779249fd23",
   "metadata": {},
   "source": [
    "## Kruskal Wallis Dept Test"
   ]
  },
  {
   "cell_type": "code",
   "execution_count": 389,
   "id": "d0604f7c-90e5-4ba9-9a25-1d69f85529a9",
   "metadata": {},
   "outputs": [],
   "source": [
    "import pandas as pd \n",
    "import numpy as np "
   ]
  },
  {
   "cell_type": "code",
   "execution_count": 390,
   "id": "5ca0a957-1772-43af-a596-4c8057592316",
   "metadata": {},
   "outputs": [],
   "source": [
    "filepath = \"C:/Users/ADMIN/BAOHUY/Phan_tich_du_lieu/Krusal_walis.csv\"\n",
    "my_data = pd.read_csv(filepath)"
   ]
  },
  {
   "cell_type": "code",
   "execution_count": 391,
   "id": "498b9358-c43f-4b7e-bb7f-88e7748a21f5",
   "metadata": {},
   "outputs": [
    {
     "data": {
      "text/html": [
       "<div>\n",
       "<style scoped>\n",
       "    .dataframe tbody tr th:only-of-type {\n",
       "        vertical-align: middle;\n",
       "    }\n",
       "\n",
       "    .dataframe tbody tr th {\n",
       "        vertical-align: top;\n",
       "    }\n",
       "\n",
       "    .dataframe thead th {\n",
       "        text-align: right;\n",
       "    }\n",
       "</style>\n",
       "<table border=\"1\" class=\"dataframe\">\n",
       "  <thead>\n",
       "    <tr style=\"text-align: right;\">\n",
       "      <th></th>\n",
       "      <th>rating</th>\n",
       "      <th>nhom</th>\n",
       "    </tr>\n",
       "  </thead>\n",
       "  <tbody>\n",
       "    <tr>\n",
       "      <th>0</th>\n",
       "      <td>4.0</td>\n",
       "      <td>1</td>\n",
       "    </tr>\n",
       "    <tr>\n",
       "      <th>1</th>\n",
       "      <td>4.7</td>\n",
       "      <td>1</td>\n",
       "    </tr>\n",
       "    <tr>\n",
       "      <th>2</th>\n",
       "      <td>4.3</td>\n",
       "      <td>1</td>\n",
       "    </tr>\n",
       "    <tr>\n",
       "      <th>3</th>\n",
       "      <td>3.9</td>\n",
       "      <td>1</td>\n",
       "    </tr>\n",
       "    <tr>\n",
       "      <th>4</th>\n",
       "      <td>4.6</td>\n",
       "      <td>1</td>\n",
       "    </tr>\n",
       "    <tr>\n",
       "      <th>...</th>\n",
       "      <td>...</td>\n",
       "      <td>...</td>\n",
       "    </tr>\n",
       "    <tr>\n",
       "      <th>937</th>\n",
       "      <td>4.8</td>\n",
       "      <td>5</td>\n",
       "    </tr>\n",
       "    <tr>\n",
       "      <th>938</th>\n",
       "      <td>4.4</td>\n",
       "      <td>5</td>\n",
       "    </tr>\n",
       "    <tr>\n",
       "      <th>939</th>\n",
       "      <td>4.7</td>\n",
       "      <td>5</td>\n",
       "    </tr>\n",
       "    <tr>\n",
       "      <th>940</th>\n",
       "      <td>4.6</td>\n",
       "      <td>5</td>\n",
       "    </tr>\n",
       "    <tr>\n",
       "      <th>941</th>\n",
       "      <td>4.7</td>\n",
       "      <td>5</td>\n",
       "    </tr>\n",
       "  </tbody>\n",
       "</table>\n",
       "<p>942 rows × 2 columns</p>\n",
       "</div>"
      ],
      "text/plain": [
       "     rating  nhom\n",
       "0       4.0     1\n",
       "1       4.7     1\n",
       "2       4.3     1\n",
       "3       3.9     1\n",
       "4       4.6     1\n",
       "..      ...   ...\n",
       "937     4.8     5\n",
       "938     4.4     5\n",
       "939     4.7     5\n",
       "940     4.6     5\n",
       "941     4.7     5\n",
       "\n",
       "[942 rows x 2 columns]"
      ]
     },
     "execution_count": 391,
     "metadata": {},
     "output_type": "execute_result"
    }
   ],
   "source": [
    "my_data"
   ]
  },
  {
   "cell_type": "code",
   "execution_count": 392,
   "id": "3e463d15-8512-494e-b0cf-746b96887d0e",
   "metadata": {},
   "outputs": [],
   "source": [
    "list_rank = []"
   ]
  },
  {
   "cell_type": "code",
   "execution_count": 393,
   "id": "e9bfe85f-c53d-4c15-912d-43c3f19c8899",
   "metadata": {},
   "outputs": [],
   "source": [
    "value_to_rank = my_data[\"rating\"]\n",
    "list_value_to_rank = []\n",
    "for i in value_to_rank: \n",
    "    list_value_to_rank.append(i)"
   ]
  },
  {
   "cell_type": "code",
   "execution_count": 394,
   "id": "73d1370e-cfef-44a8-b5c7-bb6079eb1a7b",
   "metadata": {},
   "outputs": [],
   "source": [
    "list_value_to_rank.sort()"
   ]
  },
  {
   "cell_type": "code",
   "execution_count": 395,
   "id": "db9cda84-49a6-40f3-90cd-5ee3b61399ba",
   "metadata": {},
   "outputs": [
    {
     "name": "stdout",
     "output_type": "stream",
     "text": [
      "[3.9, 3.9, 4.0, 4.0, 4.0, 4.0, 4.0, 4.0, 4.0, 4.1, 4.1, 4.1, 4.1, 4.1, 4.1, 4.1, 4.1, 4.1, 4.1, 4.1, 4.1, 4.1, 4.1, 4.1, 4.1, 4.1, 4.1, 4.1, 4.1, 4.1, 4.1, 4.1, 4.1, 4.1, 4.1, 4.1, 4.1, 4.2, 4.2, 4.2, 4.2, 4.2, 4.2, 4.2, 4.2, 4.2, 4.2, 4.2, 4.2, 4.2, 4.2, 4.2, 4.2, 4.2, 4.2, 4.2, 4.2, 4.2, 4.2, 4.2, 4.2, 4.2, 4.2, 4.2, 4.2, 4.2, 4.2, 4.2, 4.2, 4.2, 4.2, 4.2, 4.2, 4.2, 4.2, 4.2, 4.2, 4.3, 4.3, 4.3, 4.3, 4.3, 4.3, 4.3, 4.3, 4.3, 4.3, 4.3, 4.3, 4.3, 4.3, 4.3, 4.3, 4.3, 4.3, 4.3, 4.3, 4.3, 4.3, 4.3, 4.3, 4.3, 4.3, 4.3, 4.3, 4.3, 4.3, 4.3, 4.3, 4.3, 4.3, 4.3, 4.3, 4.3, 4.3, 4.3, 4.3, 4.3, 4.3, 4.3, 4.3, 4.3, 4.3, 4.3, 4.3, 4.3, 4.3, 4.3, 4.3, 4.3, 4.3, 4.3, 4.3, 4.3, 4.3, 4.3, 4.3, 4.3, 4.3, 4.3, 4.3, 4.3, 4.3, 4.3, 4.3, 4.3, 4.3, 4.3, 4.3, 4.3, 4.3, 4.3, 4.3, 4.3, 4.3, 4.3, 4.3, 4.3, 4.3, 4.3, 4.3, 4.3, 4.3, 4.3, 4.3, 4.3, 4.3, 4.3, 4.3, 4.3, 4.4, 4.4, 4.4, 4.4, 4.4, 4.4, 4.4, 4.4, 4.4, 4.4, 4.4, 4.4, 4.4, 4.4, 4.4, 4.4, 4.4, 4.4, 4.4, 4.4, 4.4, 4.4, 4.4, 4.4, 4.4, 4.4, 4.4, 4.4, 4.4, 4.4, 4.4, 4.4, 4.4, 4.4, 4.4, 4.4, 4.4, 4.4, 4.4, 4.4, 4.4, 4.4, 4.4, 4.4, 4.4, 4.4, 4.4, 4.4, 4.4, 4.4, 4.4, 4.4, 4.4, 4.4, 4.4, 4.4, 4.4, 4.4, 4.4, 4.4, 4.4, 4.4, 4.4, 4.4, 4.4, 4.4, 4.4, 4.4, 4.4, 4.4, 4.4, 4.4, 4.4, 4.4, 4.4, 4.4, 4.4, 4.4, 4.4, 4.4, 4.4, 4.4, 4.4, 4.4, 4.4, 4.4, 4.4, 4.4, 4.4, 4.4, 4.4, 4.4, 4.4, 4.4, 4.4, 4.4, 4.4, 4.4, 4.4, 4.4, 4.4, 4.4, 4.4, 4.4, 4.4, 4.4, 4.4, 4.4, 4.4, 4.4, 4.4, 4.4, 4.4, 4.4, 4.4, 4.4, 4.4, 4.4, 4.4, 4.4, 4.4, 4.4, 4.4, 4.4, 4.4, 4.4, 4.4, 4.4, 4.4, 4.4, 4.4, 4.4, 4.4, 4.4, 4.4, 4.5, 4.5, 4.5, 4.5, 4.5, 4.5, 4.5, 4.5, 4.5, 4.5, 4.5, 4.5, 4.5, 4.5, 4.5, 4.5, 4.5, 4.5, 4.5, 4.5, 4.5, 4.5, 4.5, 4.5, 4.5, 4.5, 4.5, 4.5, 4.5, 4.5, 4.5, 4.5, 4.5, 4.5, 4.5, 4.5, 4.5, 4.5, 4.5, 4.5, 4.5, 4.5, 4.5, 4.5, 4.5, 4.5, 4.5, 4.5, 4.5, 4.5, 4.5, 4.5, 4.5, 4.5, 4.5, 4.5, 4.5, 4.5, 4.5, 4.5, 4.5, 4.5, 4.5, 4.5, 4.5, 4.5, 4.5, 4.5, 4.5, 4.5, 4.5, 4.5, 4.5, 4.5, 4.5, 4.5, 4.5, 4.5, 4.5, 4.5, 4.5, 4.5, 4.5, 4.5, 4.5, 4.5, 4.5, 4.5, 4.5, 4.5, 4.5, 4.5, 4.5, 4.5, 4.5, 4.5, 4.5, 4.5, 4.5, 4.5, 4.5, 4.5, 4.5, 4.5, 4.5, 4.5, 4.5, 4.5, 4.5, 4.5, 4.5, 4.5, 4.5, 4.5, 4.5, 4.5, 4.5, 4.5, 4.5, 4.5, 4.5, 4.5, 4.5, 4.5, 4.5, 4.5, 4.5, 4.5, 4.5, 4.5, 4.5, 4.5, 4.5, 4.5, 4.5, 4.5, 4.5, 4.5, 4.5, 4.5, 4.5, 4.5, 4.5, 4.5, 4.5, 4.5, 4.5, 4.5, 4.5, 4.5, 4.5, 4.5, 4.5, 4.5, 4.5, 4.5, 4.5, 4.5, 4.5, 4.5, 4.5, 4.5, 4.5, 4.5, 4.5, 4.5, 4.5, 4.5, 4.5, 4.5, 4.6, 4.6, 4.6, 4.6, 4.6, 4.6, 4.6, 4.6, 4.6, 4.6, 4.6, 4.6, 4.6, 4.6, 4.6, 4.6, 4.6, 4.6, 4.6, 4.6, 4.6, 4.6, 4.6, 4.6, 4.6, 4.6, 4.6, 4.6, 4.6, 4.6, 4.6, 4.6, 4.6, 4.6, 4.6, 4.6, 4.6, 4.6, 4.6, 4.6, 4.6, 4.6, 4.6, 4.6, 4.6, 4.6, 4.6, 4.6, 4.6, 4.6, 4.6, 4.6, 4.6, 4.6, 4.6, 4.6, 4.6, 4.6, 4.6, 4.6, 4.6, 4.6, 4.6, 4.6, 4.6, 4.6, 4.6, 4.6, 4.6, 4.6, 4.6, 4.6, 4.6, 4.6, 4.6, 4.6, 4.6, 4.6, 4.6, 4.6, 4.6, 4.6, 4.6, 4.6, 4.6, 4.6, 4.6, 4.6, 4.6, 4.6, 4.6, 4.6, 4.6, 4.6, 4.6, 4.6, 4.6, 4.6, 4.6, 4.6, 4.6, 4.6, 4.6, 4.6, 4.6, 4.6, 4.6, 4.6, 4.6, 4.6, 4.6, 4.6, 4.6, 4.6, 4.6, 4.6, 4.6, 4.6, 4.6, 4.6, 4.6, 4.6, 4.6, 4.6, 4.6, 4.6, 4.6, 4.6, 4.6, 4.6, 4.6, 4.6, 4.6, 4.6, 4.6, 4.6, 4.6, 4.6, 4.6, 4.6, 4.6, 4.6, 4.6, 4.6, 4.6, 4.6, 4.6, 4.6, 4.6, 4.6, 4.6, 4.6, 4.6, 4.6, 4.6, 4.6, 4.6, 4.6, 4.6, 4.6, 4.6, 4.6, 4.6, 4.6, 4.6, 4.6, 4.6, 4.6, 4.6, 4.6, 4.6, 4.6, 4.6, 4.6, 4.6, 4.6, 4.6, 4.6, 4.6, 4.6, 4.6, 4.6, 4.6, 4.6, 4.6, 4.6, 4.6, 4.6, 4.6, 4.6, 4.6, 4.6, 4.6, 4.6, 4.6, 4.6, 4.6, 4.6, 4.6, 4.6, 4.6, 4.6, 4.6, 4.6, 4.6, 4.6, 4.6, 4.6, 4.6, 4.6, 4.6, 4.6, 4.6, 4.6, 4.6, 4.6, 4.7, 4.7, 4.7, 4.7, 4.7, 4.7, 4.7, 4.7, 4.7, 4.7, 4.7, 4.7, 4.7, 4.7, 4.7, 4.7, 4.7, 4.7, 4.7, 4.7, 4.7, 4.7, 4.7, 4.7, 4.7, 4.7, 4.7, 4.7, 4.7, 4.7, 4.7, 4.7, 4.7, 4.7, 4.7, 4.7, 4.7, 4.7, 4.7, 4.7, 4.7, 4.7, 4.7, 4.7, 4.7, 4.7, 4.7, 4.7, 4.7, 4.7, 4.7, 4.7, 4.7, 4.7, 4.7, 4.7, 4.7, 4.7, 4.7, 4.7, 4.7, 4.7, 4.7, 4.7, 4.7, 4.7, 4.7, 4.7, 4.7, 4.7, 4.7, 4.7, 4.7, 4.7, 4.7, 4.7, 4.7, 4.7, 4.7, 4.7, 4.7, 4.7, 4.7, 4.7, 4.7, 4.7, 4.7, 4.7, 4.7, 4.7, 4.7, 4.7, 4.7, 4.7, 4.7, 4.7, 4.7, 4.7, 4.7, 4.7, 4.7, 4.7, 4.7, 4.7, 4.7, 4.7, 4.7, 4.7, 4.7, 4.7, 4.7, 4.7, 4.7, 4.7, 4.7, 4.7, 4.7, 4.7, 4.7, 4.7, 4.7, 4.7, 4.7, 4.7, 4.7, 4.7, 4.7, 4.7, 4.7, 4.7, 4.7, 4.7, 4.7, 4.7, 4.7, 4.7, 4.7, 4.7, 4.7, 4.7, 4.7, 4.7, 4.7, 4.7, 4.7, 4.7, 4.7, 4.7, 4.7, 4.7, 4.7, 4.7, 4.7, 4.7, 4.7, 4.7, 4.7, 4.7, 4.7, 4.7, 4.7, 4.7, 4.7, 4.7, 4.7, 4.7, 4.7, 4.7, 4.7, 4.7, 4.7, 4.7, 4.7, 4.7, 4.7, 4.7, 4.7, 4.8, 4.8, 4.8, 4.8, 4.8, 4.8, 4.8, 4.8, 4.8, 4.8, 4.8, 4.8, 4.8, 4.8, 4.8, 4.8, 4.8, 4.8, 4.8, 4.8, 4.8, 4.8, 4.8, 4.8, 4.8, 4.8, 4.8, 4.8, 4.8, 4.8, 4.8, 4.8, 4.8, 4.8, 4.8, 4.8, 4.8, 4.8, 4.8, 4.8, 4.8, 4.8, 4.8, 4.8, 4.8, 4.8, 4.8, 4.8, 4.8, 4.8, 4.8, 4.8, 4.8, 4.8, 4.8, 4.8, 4.8, 4.8, 4.8, 4.8, 4.8, 4.8, 4.8, 4.8, 4.8, 4.8, 4.8, 4.9, 4.9, 4.9, 4.9, 4.9, 5.0, 5.0]\n"
     ]
    }
   ],
   "source": [
    "print(list_value_to_rank)"
   ]
  },
  {
   "cell_type": "code",
   "execution_count": 396,
   "id": "3e62626d-f579-40cc-a838-edf8b5a3eec5",
   "metadata": {},
   "outputs": [],
   "source": [
    "# list_rank = {}\n",
    "# j = 0 \n",
    "# temp_sum = 0 \n",
    "# calculate_duplicate_value = 0 \n",
    "# for i in range(len(list_value_to_rank)): \n",
    "#     j = i + 1 \n",
    "#     temp_sum = i + 1 \n",
    "#     while list_value_to_rank[i] == list_value_to_rank[i]:\n",
    "#         j += 1 \n",
    "#         temp_sum += j+1 \n",
    "#         calculate_duplicate_value += 1 \n",
    "#     list_rank[list_value_to_rank] = temp_sum/calculate_duplicate_value \n",
    "#     calculate_duplicate_value = 0 "
   ]
  },
  {
   "cell_type": "code",
   "execution_count": 397,
   "id": "eeb60d68-8fb5-48bc-877a-2580b6fa804d",
   "metadata": {},
   "outputs": [
    {
     "data": {
      "text/plain": [
       "Counter({4.6: 216,\n",
       "         4.7: 177,\n",
       "         4.5: 170,\n",
       "         4.4: 135,\n",
       "         4.3: 93,\n",
       "         4.8: 67,\n",
       "         4.2: 40,\n",
       "         4.1: 28,\n",
       "         4.0: 7,\n",
       "         4.9: 5,\n",
       "         3.9: 2,\n",
       "         5.0: 2})"
      ]
     },
     "execution_count": 397,
     "metadata": {},
     "output_type": "execute_result"
    }
   ],
   "source": [
    "from collections import Counter\n",
    "counter_duplicate = Counter(list_value_to_rank)\n",
    "counter_duplicate"
   ]
  },
  {
   "cell_type": "code",
   "execution_count": 398,
   "id": "dabe9b86-f24e-4565-b02d-aad007a55ddb",
   "metadata": {},
   "outputs": [],
   "source": [
    "list_rank={}"
   ]
  },
  {
   "cell_type": "code",
   "execution_count": 399,
   "id": "6aabb335-30e3-4c18-a05e-4ec24ef21a0c",
   "metadata": {},
   "outputs": [
    {
     "name": "stdout",
     "output_type": "stream",
     "text": [
      "[3.9, 4.0, 4.1, 4.2, 4.3, 4.4, 4.5, 4.6, 4.7, 4.8, 4.9, 5.0]\n"
     ]
    }
   ],
   "source": [
    "def sum_index(start, end):\n",
    "    iterator = start \n",
    "    sum = 0\n",
    "    while iterator <= end: \n",
    "        sum += iterator \n",
    "        iterator += 1 \n",
    "    return sum\n",
    "list_value = counter_duplicate.keys()\n",
    "list_value = list(list_value)\n",
    "print(list_value)"
   ]
  },
  {
   "cell_type": "code",
   "execution_count": 400,
   "id": "7fcd354f-b0ff-42fd-875c-fa0f00c00c78",
   "metadata": {},
   "outputs": [
    {
     "data": {
      "text/plain": [
       "{3.9: 1.5,\n",
       " 4.0: 6.0,\n",
       " 4.1: 23.5,\n",
       " 4.2: 57.5,\n",
       " 4.3: 124.0,\n",
       " 4.4: 238.0,\n",
       " 4.5: 390.5,\n",
       " 4.6: 583.5,\n",
       " 4.7: 780.0,\n",
       " 4.8: 902.0,\n",
       " 4.9: 938.0,\n",
       " 5.0: 941.5}"
      ]
     },
     "execution_count": 400,
     "metadata": {},
     "output_type": "execute_result"
    }
   ],
   "source": [
    "start = 1 \n",
    "for i in range(len(list_value)): \n",
    "    end = start + counter_duplicate[list_value[i]] - 1 \n",
    "    sum = sum_index(start, end) \n",
    "    list_rank[list_value[i]] = sum/counter_duplicate[list_value[i]]\n",
    "    start = end + 1 \n",
    "list_rank"
   ]
  },
  {
   "cell_type": "code",
   "execution_count": 401,
   "id": "e8d6f4bc-4216-47a7-9275-fd15cba6d619",
   "metadata": {},
   "outputs": [
    {
     "name": "stderr",
     "output_type": "stream",
     "text": [
      "C:\\Users\\ADMIN\\AppData\\Local\\Temp\\ipykernel_16024\\144272352.py:4: FutureWarning: ChainedAssignmentError: behaviour will change in pandas 3.0!\n",
      "You are setting values through chained assignment. Currently this works in certain cases, but when using Copy-on-Write (which will become the default behaviour in pandas 3.0) this will never work to update the original DataFrame or Series, because the intermediate object on which we are setting values will behave as a copy.\n",
      "A typical example is when you are setting values in a column of a DataFrame, like:\n",
      "\n",
      "df[\"col\"][row_indexer] = value\n",
      "\n",
      "Use `df.loc[row_indexer, \"col\"] = values` instead, to perform the assignment in a single step and ensure this keeps updating the original `df`.\n",
      "\n",
      "See the caveats in the documentation: https://pandas.pydata.org/pandas-docs/stable/user_guide/indexing.html#returning-a-view-versus-a-copy\n",
      "\n",
      "  my_data[\"rank\"][j] = list_rank[i]\n",
      "C:\\Users\\ADMIN\\AppData\\Local\\Temp\\ipykernel_16024\\144272352.py:4: SettingWithCopyWarning: \n",
      "A value is trying to be set on a copy of a slice from a DataFrame\n",
      "\n",
      "See the caveats in the documentation: https://pandas.pydata.org/pandas-docs/stable/user_guide/indexing.html#returning-a-view-versus-a-copy\n",
      "  my_data[\"rank\"][j] = list_rank[i]\n",
      "C:\\Users\\ADMIN\\AppData\\Local\\Temp\\ipykernel_16024\\144272352.py:4: FutureWarning: ChainedAssignmentError: behaviour will change in pandas 3.0!\n",
      "You are setting values through chained assignment. Currently this works in certain cases, but when using Copy-on-Write (which will become the default behaviour in pandas 3.0) this will never work to update the original DataFrame or Series, because the intermediate object on which we are setting values will behave as a copy.\n",
      "A typical example is when you are setting values in a column of a DataFrame, like:\n",
      "\n",
      "df[\"col\"][row_indexer] = value\n",
      "\n",
      "Use `df.loc[row_indexer, \"col\"] = values` instead, to perform the assignment in a single step and ensure this keeps updating the original `df`.\n",
      "\n",
      "See the caveats in the documentation: https://pandas.pydata.org/pandas-docs/stable/user_guide/indexing.html#returning-a-view-versus-a-copy\n",
      "\n",
      "  my_data[\"rank\"][j] = list_rank[i]\n",
      "C:\\Users\\ADMIN\\AppData\\Local\\Temp\\ipykernel_16024\\144272352.py:4: SettingWithCopyWarning: \n",
      "A value is trying to be set on a copy of a slice from a DataFrame\n",
      "\n",
      "See the caveats in the documentation: https://pandas.pydata.org/pandas-docs/stable/user_guide/indexing.html#returning-a-view-versus-a-copy\n",
      "  my_data[\"rank\"][j] = list_rank[i]\n",
      "C:\\Users\\ADMIN\\AppData\\Local\\Temp\\ipykernel_16024\\144272352.py:4: FutureWarning: ChainedAssignmentError: behaviour will change in pandas 3.0!\n",
      "You are setting values through chained assignment. Currently this works in certain cases, but when using Copy-on-Write (which will become the default behaviour in pandas 3.0) this will never work to update the original DataFrame or Series, because the intermediate object on which we are setting values will behave as a copy.\n",
      "A typical example is when you are setting values in a column of a DataFrame, like:\n",
      "\n",
      "df[\"col\"][row_indexer] = value\n",
      "\n",
      "Use `df.loc[row_indexer, \"col\"] = values` instead, to perform the assignment in a single step and ensure this keeps updating the original `df`.\n",
      "\n",
      "See the caveats in the documentation: https://pandas.pydata.org/pandas-docs/stable/user_guide/indexing.html#returning-a-view-versus-a-copy\n",
      "\n",
      "  my_data[\"rank\"][j] = list_rank[i]\n",
      "C:\\Users\\ADMIN\\AppData\\Local\\Temp\\ipykernel_16024\\144272352.py:4: SettingWithCopyWarning: \n",
      "A value is trying to be set on a copy of a slice from a DataFrame\n",
      "\n",
      "See the caveats in the documentation: https://pandas.pydata.org/pandas-docs/stable/user_guide/indexing.html#returning-a-view-versus-a-copy\n",
      "  my_data[\"rank\"][j] = list_rank[i]\n",
      "C:\\Users\\ADMIN\\AppData\\Local\\Temp\\ipykernel_16024\\144272352.py:4: FutureWarning: ChainedAssignmentError: behaviour will change in pandas 3.0!\n",
      "You are setting values through chained assignment. Currently this works in certain cases, but when using Copy-on-Write (which will become the default behaviour in pandas 3.0) this will never work to update the original DataFrame or Series, because the intermediate object on which we are setting values will behave as a copy.\n",
      "A typical example is when you are setting values in a column of a DataFrame, like:\n",
      "\n",
      "df[\"col\"][row_indexer] = value\n",
      "\n",
      "Use `df.loc[row_indexer, \"col\"] = values` instead, to perform the assignment in a single step and ensure this keeps updating the original `df`.\n",
      "\n",
      "See the caveats in the documentation: https://pandas.pydata.org/pandas-docs/stable/user_guide/indexing.html#returning-a-view-versus-a-copy\n",
      "\n",
      "  my_data[\"rank\"][j] = list_rank[i]\n",
      "C:\\Users\\ADMIN\\AppData\\Local\\Temp\\ipykernel_16024\\144272352.py:4: SettingWithCopyWarning: \n",
      "A value is trying to be set on a copy of a slice from a DataFrame\n",
      "\n",
      "See the caveats in the documentation: https://pandas.pydata.org/pandas-docs/stable/user_guide/indexing.html#returning-a-view-versus-a-copy\n",
      "  my_data[\"rank\"][j] = list_rank[i]\n",
      "C:\\Users\\ADMIN\\AppData\\Local\\Temp\\ipykernel_16024\\144272352.py:4: FutureWarning: Setting an item of incompatible dtype is deprecated and will raise an error in a future version of pandas. Value '1.5' has dtype incompatible with int64, please explicitly cast to a compatible dtype first.\n",
      "  my_data[\"rank\"][j] = list_rank[i]\n"
     ]
    },
    {
     "data": {
      "text/html": [
       "<div>\n",
       "<style scoped>\n",
       "    .dataframe tbody tr th:only-of-type {\n",
       "        vertical-align: middle;\n",
       "    }\n",
       "\n",
       "    .dataframe tbody tr th {\n",
       "        vertical-align: top;\n",
       "    }\n",
       "\n",
       "    .dataframe thead th {\n",
       "        text-align: right;\n",
       "    }\n",
       "</style>\n",
       "<table border=\"1\" class=\"dataframe\">\n",
       "  <thead>\n",
       "    <tr style=\"text-align: right;\">\n",
       "      <th></th>\n",
       "      <th>rating</th>\n",
       "      <th>nhom</th>\n",
       "      <th>rank</th>\n",
       "    </tr>\n",
       "  </thead>\n",
       "  <tbody>\n",
       "    <tr>\n",
       "      <th>0</th>\n",
       "      <td>4.0</td>\n",
       "      <td>1</td>\n",
       "      <td>6.0</td>\n",
       "    </tr>\n",
       "    <tr>\n",
       "      <th>1</th>\n",
       "      <td>4.7</td>\n",
       "      <td>1</td>\n",
       "      <td>780.0</td>\n",
       "    </tr>\n",
       "    <tr>\n",
       "      <th>2</th>\n",
       "      <td>4.3</td>\n",
       "      <td>1</td>\n",
       "      <td>124.0</td>\n",
       "    </tr>\n",
       "    <tr>\n",
       "      <th>3</th>\n",
       "      <td>3.9</td>\n",
       "      <td>1</td>\n",
       "      <td>1.5</td>\n",
       "    </tr>\n",
       "    <tr>\n",
       "      <th>4</th>\n",
       "      <td>4.6</td>\n",
       "      <td>1</td>\n",
       "      <td>583.5</td>\n",
       "    </tr>\n",
       "    <tr>\n",
       "      <th>...</th>\n",
       "      <td>...</td>\n",
       "      <td>...</td>\n",
       "      <td>...</td>\n",
       "    </tr>\n",
       "    <tr>\n",
       "      <th>937</th>\n",
       "      <td>4.8</td>\n",
       "      <td>5</td>\n",
       "      <td>902.0</td>\n",
       "    </tr>\n",
       "    <tr>\n",
       "      <th>938</th>\n",
       "      <td>4.4</td>\n",
       "      <td>5</td>\n",
       "      <td>238.0</td>\n",
       "    </tr>\n",
       "    <tr>\n",
       "      <th>939</th>\n",
       "      <td>4.7</td>\n",
       "      <td>5</td>\n",
       "      <td>780.0</td>\n",
       "    </tr>\n",
       "    <tr>\n",
       "      <th>940</th>\n",
       "      <td>4.6</td>\n",
       "      <td>5</td>\n",
       "      <td>583.5</td>\n",
       "    </tr>\n",
       "    <tr>\n",
       "      <th>941</th>\n",
       "      <td>4.7</td>\n",
       "      <td>5</td>\n",
       "      <td>780.0</td>\n",
       "    </tr>\n",
       "  </tbody>\n",
       "</table>\n",
       "<p>942 rows × 3 columns</p>\n",
       "</div>"
      ],
      "text/plain": [
       "     rating  nhom   rank\n",
       "0       4.0     1    6.0\n",
       "1       4.7     1  780.0\n",
       "2       4.3     1  124.0\n",
       "3       3.9     1    1.5\n",
       "4       4.6     1  583.5\n",
       "..      ...   ...    ...\n",
       "937     4.8     5  902.0\n",
       "938     4.4     5  238.0\n",
       "939     4.7     5  780.0\n",
       "940     4.6     5  583.5\n",
       "941     4.7     5  780.0\n",
       "\n",
       "[942 rows x 3 columns]"
      ]
     },
     "execution_count": 401,
     "metadata": {},
     "output_type": "execute_result"
    }
   ],
   "source": [
    "j = 0 \n",
    "my_data[\"rank\"] = 0 \n",
    "for i in my_data[\"rating\"]: \n",
    "    my_data[\"rank\"][j] = list_rank[i]\n",
    "    j+=1\n",
    "my_data"
   ]
  },
  {
   "cell_type": "code",
   "execution_count": 402,
   "id": "d06e2eb5-d89b-4151-8e7d-485b365c9034",
   "metadata": {},
   "outputs": [
    {
     "data": {
      "text/plain": [
       "array([1, 2, 3, 4, 5], dtype=int64)"
      ]
     },
     "execution_count": 402,
     "metadata": {},
     "output_type": "execute_result"
    }
   ],
   "source": [
    "list_sum_rank_by_group = []\n",
    "list_group = my_data[\"nhom\"].unique()\n",
    "list_group"
   ]
  },
  {
   "cell_type": "code",
   "execution_count": 403,
   "id": "6d582251-4e4c-4930-b9cb-c66f923fe1bb",
   "metadata": {},
   "outputs": [],
   "source": [
    "def sum_rank(array): \n",
    "    sum = 0 \n",
    "    for i in array: \n",
    "        sum += float(i) \n",
    "    return sum "
   ]
  },
  {
   "cell_type": "code",
   "execution_count": 404,
   "id": "f5c219a2-6cd4-41b5-8c9e-cba1ca241eda",
   "metadata": {},
   "outputs": [
    {
     "data": {
      "text/plain": [
       "[277652.0, 41457.5, 68297.0, 37110.5, 19636.0]"
      ]
     },
     "execution_count": 404,
     "metadata": {},
     "output_type": "execute_result"
    }
   ],
   "source": [
    "for i in list_group: \n",
    "    list_sum_rank_by_group.append(sum_rank(my_data[my_data[\"nhom\"] == i][\"rank\"]))\n",
    "list_sum_rank_by_group"
   ]
  },
  {
   "cell_type": "code",
   "execution_count": 405,
   "id": "e02a7591-9035-4eaf-870f-37e0441706d6",
   "metadata": {},
   "outputs": [
    {
     "data": {
      "text/plain": [
       "[530, 94, 198, 82, 38]"
      ]
     },
     "execution_count": 405,
     "metadata": {},
     "output_type": "execute_result"
    }
   ],
   "source": [
    "list_len_groups = []\n",
    "for i in list_group:\n",
    "    list_len_groups.append(len(my_data[my_data[\"nhom\"] == i]))\n",
    "list_len_groups"
   ]
  },
  {
   "cell_type": "code",
   "execution_count": 406,
   "id": "2b0d8adc-5309-41b6-8e3d-b8fd1db1b026",
   "metadata": {},
   "outputs": [
    {
     "data": {
      "text/plain": [
       "[523.8716981132076,\n",
       " 441.03723404255317,\n",
       " 344.9343434343434,\n",
       " 452.5670731707317,\n",
       " 516.7368421052631]"
      ]
     },
     "execution_count": 406,
     "metadata": {},
     "output_type": "execute_result"
    }
   ],
   "source": [
    "list_custom_sum_rank_by_group = []\n",
    "for i in range(len(list_group)):\n",
    "    list_custom_sum_rank_by_group.append(list_sum_rank_by_group[i]/list_len_groups[i])\n",
    "list_custom_sum_rank_by_group"
   ]
  },
  {
   "cell_type": "code",
   "execution_count": 407,
   "id": "965929f0-1b69-49c4-8236-f39539674db8",
   "metadata": {},
   "outputs": [
    {
     "data": {
      "text/plain": [
       "10"
      ]
     },
     "execution_count": 407,
     "metadata": {},
     "output_type": "execute_result"
    }
   ],
   "source": [
    "list_test_value = []\n",
    "for i in range(len(list_group)): \n",
    "    for j in range(i+1,len(list_group)): \n",
    "        list_test_value.append(abs(list_custom_sum_rank_by_group[i]-list_custom_sum_rank_by_group[j]))\n",
    "len(list_test_value)"
   ]
  },
  {
   "cell_type": "code",
   "execution_count": 408,
   "id": "0cec647b-4b1b-4c75-b747-6dc88bf411b1",
   "metadata": {},
   "outputs": [],
   "source": [
    "from scipy.stats import chi2\n",
    "import math"
   ]
  },
  {
   "cell_type": "code",
   "execution_count": 409,
   "id": "6de16205-920a-4e81-b2f6-f67e92ae18e2",
   "metadata": {},
   "outputs": [],
   "source": [
    "alpha = 0.05 \n",
    "k = len(list_group) - 1 \n",
    "n = len(my_data)"
   ]
  },
  {
   "cell_type": "code",
   "execution_count": 410,
   "id": "ced53f82-f900-4769-a388-6958b2c163ef",
   "metadata": {},
   "outputs": [
    {
     "data": {
      "text/plain": [
       "[93.79123284308832,\n",
       " 69.80185608243532,\n",
       " 99.44951313642328,\n",
       " 140.7395784929989,\n",
       " 104.97036686867654,\n",
       " 126.63603148813199,\n",
       " 161.10278632717228,\n",
       " 110.05538708027773,\n",
       " 148.42375657793173,\n",
       " 164.46129656312377]"
      ]
     },
     "execution_count": 410,
     "metadata": {},
     "output_type": "execute_result"
    }
   ],
   "source": [
    "list_value_table_chi2 = []\n",
    "for i in range(len(list_group)):\n",
    "    for j in range(i+1,len(list_group)): \n",
    "        list_value_table_chi2.append(math.sqrt(chi2.ppf(1-alpha,k)*(n*(n+1)/12)*(1/list_len_groups[i] + 1/list_len_groups[j])))\n",
    "list_value_table_chi2"
   ]
  },
  {
   "cell_type": "code",
   "execution_count": 421,
   "id": "35faf86f-4148-4156-91ac-dd8b024034c3",
   "metadata": {},
   "outputs": [
    {
     "name": "stdout",
     "output_type": "stream",
     "text": [
      "H0: med1 = med2\n",
      "D12 < C12\n",
      "Don't reject hypothesis H0\n",
      "\n",
      "H0: med1 = med3\n",
      "D(1,3) >= C(1,3)\n",
      "Reject hypothesis H0\n",
      "\n",
      "H0: med1 = med4\n",
      "D14 < C14\n",
      "Don't reject hypothesis H0\n",
      "\n",
      "H0: med1 = med5\n",
      "D15 < C15\n",
      "Don't reject hypothesis H0\n",
      "\n",
      "H0: med2 = med3\n",
      "D23 < C23\n",
      "Don't reject hypothesis H0\n",
      "\n",
      "H0: med2 = med4\n",
      "D24 < C24\n",
      "Don't reject hypothesis H0\n",
      "\n",
      "H0: med2 = med5\n",
      "D25 < C25\n",
      "Don't reject hypothesis H0\n",
      "\n",
      "H0: med3 = med4\n",
      "D34 < C34\n",
      "Don't reject hypothesis H0\n",
      "\n",
      "H0: med3 = med5\n",
      "D(3,5) >= C(3,5)\n",
      "Reject hypothesis H0\n",
      "\n",
      "H0: med4 = med5\n",
      "D45 < C45\n",
      "Don't reject hypothesis H0\n",
      "\n"
     ]
    }
   ],
   "source": [
    "temp = 0 \n",
    "for i in range(len(list_group)):\n",
    "    for j in range(i+1,len(list_group)):\n",
    "        print(f\"H0: med{i+1} = med{j+1}\")\n",
    "        if list_value_table_chi2[temp] <= list_test_value[temp]: \n",
    "            print(f\"D({str(i+1)},{str(j+1)}) >= C({str(i+1)},{str(j+1)})\")\n",
    "            print(\"Reject hypothesis H0\")\n",
    "            print()\n",
    "        else: \n",
    "            print(f\"D{str(i+1)}{str(j+1)} < C{str(i+1)}{str(j+1)}\")\n",
    "            print(\"Don't reject hypothesis H0\")\n",
    "            print()\n",
    "        if temp <= len(list_value_table_chi2): \n",
    "            temp += 1\n",
    "        else:\n",
    "            break "
   ]
  },
  {
   "cell_type": "code",
   "execution_count": null,
   "id": "28768a45-f95b-4c11-a463-d5e67ba43248",
   "metadata": {},
   "outputs": [],
   "source": []
  }
 ],
 "metadata": {
  "kernelspec": {
   "display_name": "Python 3 (ipykernel)",
   "language": "python",
   "name": "python3"
  },
  "language_info": {
   "codemirror_mode": {
    "name": "ipython",
    "version": 3
   },
   "file_extension": ".py",
   "mimetype": "text/x-python",
   "name": "python",
   "nbconvert_exporter": "python",
   "pygments_lexer": "ipython3",
   "version": "3.12.4"
  }
 },
 "nbformat": 4,
 "nbformat_minor": 5
}

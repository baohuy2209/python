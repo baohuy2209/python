{
 "cells": [
  {
   "cell_type": "markdown",
   "id": "66654de8-1014-4cd6-9845-0a00cc946ea3",
   "metadata": {},
   "source": [
    "# normal probability distribution"
   ]
  },
  {
   "cell_type": "code",
   "execution_count": 2,
   "id": "ec1cc44c-2502-4813-9f89-44b0969fc0da",
   "metadata": {},
   "outputs": [],
   "source": [
    "import pandas as pd \n",
    "import numpy as np "
   ]
  },
  {
   "cell_type": "code",
   "execution_count": 3,
   "id": "83ddc65d-cb1f-4f43-b21f-6063caf1f3e7",
   "metadata": {},
   "outputs": [],
   "source": [
    "filepath = \"C:/Users/ADMIN/BAOHUY/Phan_tich_du_lieu/initial_price.csv\"\n",
    "my_data = pd.read_csv(filepath)"
   ]
  },
  {
   "cell_type": "code",
   "execution_count": 4,
   "id": "0325c149-2cbd-4250-aa61-1276a4b62b13",
   "metadata": {},
   "outputs": [
    {
     "data": {
      "text/html": [
       "<div>\n",
       "<style scoped>\n",
       "    .dataframe tbody tr th:only-of-type {\n",
       "        vertical-align: middle;\n",
       "    }\n",
       "\n",
       "    .dataframe tbody tr th {\n",
       "        vertical-align: top;\n",
       "    }\n",
       "\n",
       "    .dataframe thead th {\n",
       "        text-align: right;\n",
       "    }\n",
       "</style>\n",
       "<table border=\"1\" class=\"dataframe\">\n",
       "  <thead>\n",
       "    <tr style=\"text-align: right;\">\n",
       "      <th></th>\n",
       "      <th>initial_price</th>\n",
       "    </tr>\n",
       "  </thead>\n",
       "  <tbody>\n",
       "    <tr>\n",
       "      <th>0</th>\n",
       "      <td>160.00</td>\n",
       "    </tr>\n",
       "    <tr>\n",
       "      <th>1</th>\n",
       "      <td>9.99</td>\n",
       "    </tr>\n",
       "    <tr>\n",
       "      <th>2</th>\n",
       "      <td>21.00</td>\n",
       "    </tr>\n",
       "    <tr>\n",
       "      <th>3</th>\n",
       "      <td>14.00</td>\n",
       "    </tr>\n",
       "    <tr>\n",
       "      <th>4</th>\n",
       "      <td>13.00</td>\n",
       "    </tr>\n",
       "    <tr>\n",
       "      <th>...</th>\n",
       "      <td>...</td>\n",
       "    </tr>\n",
       "    <tr>\n",
       "      <th>987</th>\n",
       "      <td>30.80</td>\n",
       "    </tr>\n",
       "    <tr>\n",
       "      <th>988</th>\n",
       "      <td>15.00</td>\n",
       "    </tr>\n",
       "    <tr>\n",
       "      <th>989</th>\n",
       "      <td>250.00</td>\n",
       "    </tr>\n",
       "    <tr>\n",
       "      <th>990</th>\n",
       "      <td>14.00</td>\n",
       "    </tr>\n",
       "    <tr>\n",
       "      <th>991</th>\n",
       "      <td>40.00</td>\n",
       "    </tr>\n",
       "  </tbody>\n",
       "</table>\n",
       "<p>992 rows × 1 columns</p>\n",
       "</div>"
      ],
      "text/plain": [
       "     initial_price\n",
       "0           160.00\n",
       "1             9.99\n",
       "2            21.00\n",
       "3            14.00\n",
       "4            13.00\n",
       "..             ...\n",
       "987          30.80\n",
       "988          15.00\n",
       "989         250.00\n",
       "990          14.00\n",
       "991          40.00\n",
       "\n",
       "[992 rows x 1 columns]"
      ]
     },
     "execution_count": 4,
     "metadata": {},
     "output_type": "execute_result"
    }
   ],
   "source": [
    "my_data"
   ]
  },
  {
   "cell_type": "code",
   "execution_count": 5,
   "id": "ab8bc62c-ff16-4f92-abe8-a5349612a99d",
   "metadata": {},
   "outputs": [],
   "source": [
    "mean_data = my_data[\"initial_price\"].mean()"
   ]
  },
  {
   "cell_type": "code",
   "execution_count": 6,
   "id": "0ca1fb49-61cf-4af3-8a6b-af05c2d18c12",
   "metadata": {},
   "outputs": [
    {
     "data": {
      "text/plain": [
       "np.float64(47.39298387096774)"
      ]
     },
     "execution_count": 6,
     "metadata": {},
     "output_type": "execute_result"
    }
   ],
   "source": [
    "mean_data"
   ]
  },
  {
   "cell_type": "code",
   "execution_count": 7,
   "id": "a181f7fb-2a2c-47b5-8497-bc1f868a6dca",
   "metadata": {},
   "outputs": [],
   "source": [
    "std = np.std(my_data[\"initial_price\"])"
   ]
  },
  {
   "cell_type": "code",
   "execution_count": 8,
   "id": "7188cb85-b0e9-48fc-8f02-dba1456729b2",
   "metadata": {},
   "outputs": [
    {
     "data": {
      "text/plain": [
       "np.float64(75.9849028163876)"
      ]
     },
     "execution_count": 8,
     "metadata": {},
     "output_type": "execute_result"
    }
   ],
   "source": [
    "std"
   ]
  },
  {
   "cell_type": "code",
   "execution_count": 9,
   "id": "66c95349-b2f1-4c25-ac62-1d04f2681184",
   "metadata": {},
   "outputs": [
    {
     "data": {
      "text/plain": [
       "np.float64(4.037336747207647)"
      ]
     },
     "execution_count": 9,
     "metadata": {},
     "output_type": "execute_result"
    }
   ],
   "source": [
    "S = 0 \n",
    "for i in range(len(my_data[\"initial_price\"])): \n",
    "    S += pow((my_data[\"initial_price\"][i]-mean_data),3)\n",
    "S /= (len(my_data[\"initial_price\"])*pow(std,3))\n",
    "S"
   ]
  },
  {
   "cell_type": "code",
   "execution_count": 10,
   "id": "d63a7898-75da-4999-90c6-8fd54f4fc924",
   "metadata": {},
   "outputs": [
    {
     "data": {
      "text/plain": [
       "np.float64(22.83506456168618)"
      ]
     },
     "execution_count": 10,
     "metadata": {},
     "output_type": "execute_result"
    }
   ],
   "source": [
    "K = 0 \n",
    "for i in range(len(my_data[\"initial_price\"])): \n",
    "    K += pow((my_data[\"initial_price\"][i]-mean_data),4)\n",
    "K /= (len(my_data[\"initial_price\"])*pow(std,4))\n",
    "K"
   ]
  },
  {
   "cell_type": "code",
   "execution_count": 11,
   "id": "31fc1eb2-23cb-46bf-989b-84c71b9b0ee8",
   "metadata": {},
   "outputs": [
    {
     "data": {
      "text/plain": [
       "np.float64(18956.71237925044)"
      ]
     },
     "execution_count": 11,
     "metadata": {},
     "output_type": "execute_result"
    }
   ],
   "source": [
    "JB = len(my_data[\"initial_price\"])*(pow(S,2)/6 + pow((K-3),2)/24)\n",
    "JB"
   ]
  },
  {
   "cell_type": "code",
   "execution_count": 12,
   "id": "82309ee1-e4a3-40f4-9fbf-5936009e24ba",
   "metadata": {},
   "outputs": [],
   "source": [
    "from scipy.stats import chi2"
   ]
  },
  {
   "cell_type": "code",
   "execution_count": 13,
   "id": "1dc7de42-ae16-480a-b51e-7617184acad7",
   "metadata": {},
   "outputs": [
    {
     "data": {
      "text/plain": [
       "np.float64(1065.3475996328712)"
      ]
     },
     "execution_count": 13,
     "metadata": {},
     "output_type": "execute_result"
    }
   ],
   "source": [
    "value_table = chi2.ppf(1-0.05,len(my_data[\"initial_price\"])-1)\n",
    "value_table"
   ]
  },
  {
   "cell_type": "code",
   "execution_count": 14,
   "id": "62d7ea1c-34d6-4d70-8950-ba70a7adc736",
   "metadata": {},
   "outputs": [
    {
     "name": "stdout",
     "output_type": "stream",
     "text": [
      "H0: X tuân theo phân phối chuẩn\n",
      "H1: X không tuân theo phân phối chuẩn\n",
      "JB(18956.71237925044) > 1065.3475996328712: Giá trị kiểm định lớn hơn giá trị tra bảng\n",
      "==> Bác bỏ H0\n",
      "==> Giá khởi đầu không tuân theo phân phối chuẩn\n"
     ]
    }
   ],
   "source": [
    "print(\"H0: X tuân theo phân phối chuẩn\")\n",
    "print(\"H1: X không tuân theo phân phối chuẩn\")\n",
    "print(f\"JB({JB}) > {value_table}: Giá trị kiểm định lớn hơn giá trị tra bảng\")\n",
    "print(\"==> Bác bỏ H0\")\n",
    "print(\"==> Giá khởi đầu không tuân theo phân phối chuẩn\")"
   ]
  },
  {
   "cell_type": "code",
   "execution_count": null,
   "id": "4e4a5d71-6435-4aa0-9cc3-c8b83f6efa57",
   "metadata": {},
   "outputs": [],
   "source": []
  }
 ],
 "metadata": {
  "kernelspec": {
   "display_name": "Python 3",
   "language": "python",
   "name": "python3"
  },
  "language_info": {
   "codemirror_mode": {
    "name": "ipython",
    "version": 3
   },
   "file_extension": ".py",
   "mimetype": "text/x-python",
   "name": "python",
   "nbconvert_exporter": "python",
   "pygments_lexer": "ipython3",
   "version": "3.12.5"
  }
 },
 "nbformat": 4,
 "nbformat_minor": 5
}

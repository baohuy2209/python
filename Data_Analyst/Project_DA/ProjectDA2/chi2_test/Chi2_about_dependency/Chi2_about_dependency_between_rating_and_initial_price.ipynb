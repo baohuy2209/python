{
 "cells": [
  {
   "cell_type": "markdown",
   "id": "b75ebcad-d3e4-4e05-926b-79a3d4659058",
   "metadata": {},
   "source": [
    "## Chi2 test about dependency between rating and initial price "
   ]
  },
  {
   "cell_type": "markdown",
   "id": "d4dea5e0-b6a6-4020-a990-dbc009cba646",
   "metadata": {},
   "source": [
    "# H0: Hai biến rating và initial_price độc lập với nhau \n",
    "# H0: Hai biến rating và initial_price phụ thuộc lẫn nhau "
   ]
  },
  {
   "cell_type": "code",
   "execution_count": 60,
   "id": "fb6808a9-9ef8-4f36-82e0-b21419c48e45",
   "metadata": {},
   "outputs": [],
   "source": [
    "import pandas as pd \n",
    "import numpy as np \n",
    "from scipy.stats import chi2_contingency"
   ]
  },
  {
   "cell_type": "code",
   "execution_count": 61,
   "id": "6ecaf2b6-b8fb-45e1-984d-c0a3a5ea99a3",
   "metadata": {},
   "outputs": [],
   "source": [
    "my_data = pd.read_csv(\"C:/Users/ADMIN/BAOHUY/Phan_tich_du_lieu/chi2_rating_initial_price.csv\")"
   ]
  },
  {
   "cell_type": "code",
   "execution_count": 62,
   "id": "801bd3bd-fa83-431c-b5d5-0dc48dd2bb81",
   "metadata": {},
   "outputs": [],
   "source": [
    "chi2_rating_initial_price = pd.DataFrame({\n",
    "    \"pretty_bad\": my_data[\"pretty_bad\"].to_numpy(), \n",
    "    \"normal\": my_data[\"normal\"].to_numpy(), \n",
    "    \"good\": my_data[\"good\"].to_numpy(), \n",
    "    \"excellent\": my_data[\"excellent\"].to_numpy(), \n",
    "}, index=['cheap', 'normal', 'expensive', 'very expensive'])"
   ]
  },
  {
   "cell_type": "code",
   "execution_count": 63,
   "id": "a1c70e9e-2385-479d-bf92-e567441cf386",
   "metadata": {},
   "outputs": [
    {
     "data": {
      "text/html": [
       "<div>\n",
       "<style scoped>\n",
       "    .dataframe tbody tr th:only-of-type {\n",
       "        vertical-align: middle;\n",
       "    }\n",
       "\n",
       "    .dataframe tbody tr th {\n",
       "        vertical-align: top;\n",
       "    }\n",
       "\n",
       "    .dataframe thead th {\n",
       "        text-align: right;\n",
       "    }\n",
       "</style>\n",
       "<table border=\"1\" class=\"dataframe\">\n",
       "  <thead>\n",
       "    <tr style=\"text-align: right;\">\n",
       "      <th></th>\n",
       "      <th>pretty_bad</th>\n",
       "      <th>normal</th>\n",
       "      <th>good</th>\n",
       "      <th>excellent</th>\n",
       "    </tr>\n",
       "  </thead>\n",
       "  <tbody>\n",
       "    <tr>\n",
       "      <th>cheap</th>\n",
       "      <td>73</td>\n",
       "      <td>40</td>\n",
       "      <td>132</td>\n",
       "      <td>30</td>\n",
       "    </tr>\n",
       "    <tr>\n",
       "      <th>normal</th>\n",
       "      <td>51</td>\n",
       "      <td>51</td>\n",
       "      <td>104</td>\n",
       "      <td>18</td>\n",
       "    </tr>\n",
       "    <tr>\n",
       "      <th>expensive</th>\n",
       "      <td>90</td>\n",
       "      <td>42</td>\n",
       "      <td>101</td>\n",
       "      <td>13</td>\n",
       "    </tr>\n",
       "    <tr>\n",
       "      <th>very expensive</th>\n",
       "      <td>99</td>\n",
       "      <td>51</td>\n",
       "      <td>81</td>\n",
       "      <td>16</td>\n",
       "    </tr>\n",
       "  </tbody>\n",
       "</table>\n",
       "</div>"
      ],
      "text/plain": [
       "                pretty_bad  normal  good  excellent\n",
       "cheap                   73      40   132         30\n",
       "normal                  51      51   104         18\n",
       "expensive               90      42   101         13\n",
       "very expensive          99      51    81         16"
      ]
     },
     "execution_count": 63,
     "metadata": {},
     "output_type": "execute_result"
    }
   ],
   "source": [
    "chi2_rating_initial_price"
   ]
  },
  {
   "cell_type": "code",
   "execution_count": 64,
   "id": "e6397422-74b7-482a-b30b-b18012a7243b",
   "metadata": {},
   "outputs": [],
   "source": [
    "alpha = 0.05"
   ]
  },
  {
   "cell_type": "code",
   "execution_count": 65,
   "id": "9f24d471-fa65-4707-a861-9a9c33e1a285",
   "metadata": {},
   "outputs": [],
   "source": [
    "chi2, p, dof, expected = chi2_contingency(chi2_rating_initial_price)"
   ]
  },
  {
   "cell_type": "code",
   "execution_count": 66,
   "id": "75231477-f848-4336-bfe9-0feb38d1ce99",
   "metadata": {},
   "outputs": [
    {
     "name": "stdout",
     "output_type": "stream",
     "text": [
      "\n",
      "Kết quả kiểm định Chi bình phương:\n",
      "Chi2 Statistic: 35.1421\n",
      "P-Value: 0.0001\n",
      "Degrees of Freedom: 9\n",
      "Expected Frequencies:\n",
      "[[ 86.76915323  51.00806452 115.87701613  21.34576613]\n",
      " [ 70.67741935  41.5483871   94.38709677  17.38709677]\n",
      " [ 77.61895161  45.62903226 103.65725806  19.09475806]\n",
      " [ 77.93447581  45.81451613 104.07862903  19.17237903]]\n"
     ]
    }
   ],
   "source": [
    "print(\"\\nKết quả kiểm định Chi bình phương:\")\n",
    "print(f\"Chi2 Statistic: {chi2:.4f}\")\n",
    "print(f\"P-Value: {p:.4f}\")\n",
    "print(f\"Degrees of Freedom: {dof}\")\n",
    "print(\"Expected Frequencies:\")\n",
    "print(expected)"
   ]
  },
  {
   "cell_type": "code",
   "execution_count": 67,
   "id": "ca4e7245-415d-4b8a-8ad9-472d4b46c273",
   "metadata": {},
   "outputs": [
    {
     "name": "stdout",
     "output_type": "stream",
     "text": [
      "\n",
      "Kết luận: Bác bỏ H0 (Hai biến phụ thuộc lẫn nhau).\n"
     ]
    }
   ],
   "source": [
    "if p < alpha:\n",
    "    print(\"\\nKết luận: Bác bỏ H0 (Hai biến phụ thuộc lẫn nhau).\")\n",
    "else:\n",
    "    print(\"\\nKết luận: Không đủ bằng chứng bác bỏ H0 (Hai biến độc lập).\")"
   ]
  }
 ],
 "metadata": {
  "kernelspec": {
   "display_name": "Python 3 (ipykernel)",
   "language": "python",
   "name": "python3"
  },
  "language_info": {
   "codemirror_mode": {
    "name": "ipython",
    "version": 3
   },
   "file_extension": ".py",
   "mimetype": "text/x-python",
   "name": "python",
   "nbconvert_exporter": "python",
   "pygments_lexer": "ipython3",
   "version": "3.12.4"
  }
 },
 "nbformat": 4,
 "nbformat_minor": 5
}

{
 "cells": [
  {
   "cell_type": "markdown",
   "id": "41826a36-aa2d-4f01-8ed8-15bee41a5044",
   "metadata": {},
   "source": [
    "## Chi2 test about dependency between rating and review count"
   ]
  },
  {
   "cell_type": "markdown",
   "id": "f4e9ffd1-ae69-4885-ab2c-d23511656803",
   "metadata": {},
   "source": [
    "# H0: Hai biến rating và reviews_count độc lập với nhau \n",
    "# H1: Hai biến rating và reviews_count phụ thuộc lẫn nhau "
   ]
  },
  {
   "cell_type": "code",
   "execution_count": 23,
   "id": "b9bdb9d0-0876-4974-836e-22241e00b321",
   "metadata": {},
   "outputs": [],
   "source": [
    "import pandas as pd \n",
    "import numpy as np \n",
    "from scipy.stats import chi2_contingency"
   ]
  },
  {
   "cell_type": "code",
   "execution_count": 24,
   "id": "94de7d15-af14-438e-a056-7c6120d342b9",
   "metadata": {},
   "outputs": [],
   "source": [
    "my_data = pd.read_csv(\"C:/Users/ADMIN/BAOHUY/Phan_tich_du_lieu/chi2_rating_review_count.csv\")"
   ]
  },
  {
   "cell_type": "code",
   "execution_count": 25,
   "id": "62de7617-ff4d-4c18-86a0-df15fe1b4b3e",
   "metadata": {},
   "outputs": [],
   "source": [
    "chi2_rating_reviews_count = pd.DataFrame({\n",
    "    \"pretty_bad\": my_data[\"pretty_bad\"].to_numpy(), \n",
    "    \"normal\": my_data[\"normal\"].to_numpy(), \n",
    "    \"good\": my_data[\"good\"].to_numpy(), \n",
    "    \"excellent\": my_data[\"excellent\"].to_numpy(), \n",
    "}, index=['low', 'normal', 'high', 'very high'])"
   ]
  },
  {
   "cell_type": "code",
   "execution_count": 26,
   "id": "4eca938a-1f25-45bb-936f-9d1d93d14bcd",
   "metadata": {},
   "outputs": [
    {
     "data": {
      "text/html": [
       "<div>\n",
       "<style scoped>\n",
       "    .dataframe tbody tr th:only-of-type {\n",
       "        vertical-align: middle;\n",
       "    }\n",
       "\n",
       "    .dataframe tbody tr th {\n",
       "        vertical-align: top;\n",
       "    }\n",
       "\n",
       "    .dataframe thead th {\n",
       "        text-align: right;\n",
       "    }\n",
       "</style>\n",
       "<table border=\"1\" class=\"dataframe\">\n",
       "  <thead>\n",
       "    <tr style=\"text-align: right;\">\n",
       "      <th></th>\n",
       "      <th>pretty_bad</th>\n",
       "      <th>normal</th>\n",
       "      <th>good</th>\n",
       "      <th>excellent</th>\n",
       "    </tr>\n",
       "  </thead>\n",
       "  <tbody>\n",
       "    <tr>\n",
       "      <th>low</th>\n",
       "      <td>69</td>\n",
       "      <td>47</td>\n",
       "      <td>144</td>\n",
       "      <td>31</td>\n",
       "    </tr>\n",
       "    <tr>\n",
       "      <th>normal</th>\n",
       "      <td>62</td>\n",
       "      <td>41</td>\n",
       "      <td>93</td>\n",
       "      <td>15</td>\n",
       "    </tr>\n",
       "    <tr>\n",
       "      <th>high</th>\n",
       "      <td>75</td>\n",
       "      <td>46</td>\n",
       "      <td>104</td>\n",
       "      <td>17</td>\n",
       "    </tr>\n",
       "    <tr>\n",
       "      <th>very high</th>\n",
       "      <td>0</td>\n",
       "      <td>50</td>\n",
       "      <td>77</td>\n",
       "      <td>14</td>\n",
       "    </tr>\n",
       "  </tbody>\n",
       "</table>\n",
       "</div>"
      ],
      "text/plain": [
       "           pretty_bad  normal  good  excellent\n",
       "low                69      47   144         31\n",
       "normal             62      41    93         15\n",
       "high               75      46   104         17\n",
       "very high           0      50    77         14"
      ]
     },
     "execution_count": 26,
     "metadata": {},
     "output_type": "execute_result"
    }
   ],
   "source": [
    "chi2_rating_reviews_count"
   ]
  },
  {
   "cell_type": "code",
   "execution_count": 27,
   "id": "69c0a3fe-15f7-4d7a-9155-5ef30f01b144",
   "metadata": {},
   "outputs": [],
   "source": [
    "chi2, p, dof, expected = chi2_contingency(chi2_rating_reviews_count)"
   ]
  },
  {
   "cell_type": "code",
   "execution_count": 28,
   "id": "6c9f1878-158c-4347-a751-fa6795285183",
   "metadata": {},
   "outputs": [],
   "source": [
    "alpha = 0.05"
   ]
  },
  {
   "cell_type": "code",
   "execution_count": 29,
   "id": "f7b18102-7671-4dd3-b779-63859346d51a",
   "metadata": {},
   "outputs": [
    {
     "name": "stdout",
     "output_type": "stream",
     "text": [
      "\n",
      "Kết quả kiểm định Chi bình phương:\n",
      "Chi2 Statistic: 66.8044\n",
      "P-Value: 0.0000\n",
      "Degrees of Freedom: 9\n",
      "Expected Frequencies:\n",
      "[[ 67.73559322  60.50169492 137.4440678   25.31864407]\n",
      " [ 49.11412429  43.86892655  99.65875706  18.35819209]\n",
      " [ 56.3299435   50.31412429 114.30056497  21.05536723]\n",
      " [ 32.82033898  29.31525424  66.59661017  12.26779661]]\n"
     ]
    }
   ],
   "source": [
    "print(\"\\nKết quả kiểm định Chi bình phương:\")\n",
    "print(f\"Chi2 Statistic: {chi2:.4f}\")\n",
    "print(f\"P-Value: {p:.4f}\")\n",
    "print(f\"Degrees of Freedom: {dof}\")\n",
    "print(\"Expected Frequencies:\")\n",
    "print(expected)"
   ]
  },
  {
   "cell_type": "code",
   "execution_count": 30,
   "id": "6643f9b2-6489-4ede-a6d2-0fee9772bfc1",
   "metadata": {},
   "outputs": [
    {
     "name": "stdout",
     "output_type": "stream",
     "text": [
      "\n",
      "Kết luận: Bác bỏ H0 (Hai biến phụ thuộc lẫn nhau).\n"
     ]
    }
   ],
   "source": [
    "if p < alpha:\n",
    "    print(\"\\nKết luận: Bác bỏ H0 (Hai biến phụ thuộc lẫn nhau).\")\n",
    "else:\n",
    "    print(\"\\nKết luận: Không đủ bằng chứng bác bỏ H0 (Hai biến độc lập).\")"
   ]
  }
 ],
 "metadata": {
  "kernelspec": {
   "display_name": "Python 3 (ipykernel)",
   "language": "python",
   "name": "python3"
  },
  "language_info": {
   "codemirror_mode": {
    "name": "ipython",
    "version": 3
   },
   "file_extension": ".py",
   "mimetype": "text/x-python",
   "name": "python",
   "nbconvert_exporter": "python",
   "pygments_lexer": "ipython3",
   "version": "3.12.4"
  }
 },
 "nbformat": 4,
 "nbformat_minor": 5
}

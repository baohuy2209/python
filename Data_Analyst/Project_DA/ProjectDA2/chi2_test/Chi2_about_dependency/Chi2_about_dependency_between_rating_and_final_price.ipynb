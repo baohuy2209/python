{
 "cells": [
  {
   "cell_type": "markdown",
   "id": "a06f0a72-3eea-459b-b92c-f99dd8dfb6e7",
   "metadata": {},
   "source": [
    "## Chi2 test about dependency between rating and final_price"
   ]
  },
  {
   "cell_type": "markdown",
   "id": "d868962a-8bdf-49bf-8a85-d6be03270493",
   "metadata": {},
   "source": [
    "# H0: Hai biến rating và final_price độc lập với nhau \n",
    "# H0: Hai biến rating và final_price phụ thuộc lẫn nhau "
   ]
  },
  {
   "cell_type": "code",
   "execution_count": 3,
   "id": "6154f6af-7d20-4bf3-b9b7-72b4811eee00",
   "metadata": {},
   "outputs": [],
   "source": [
    "import pandas as pd \n",
    "import numpy as np \n",
    "from scipy.stats import chi2_contingency"
   ]
  },
  {
   "cell_type": "code",
   "execution_count": 5,
   "id": "f9203ade-2a26-49b9-813d-156fed54feac",
   "metadata": {},
   "outputs": [],
   "source": [
    "my_data = pd.read_csv(\"C:/Users/ADMIN/BAOHUY/Phan_tich_du_lieu/chi2_rating_final_price.csv\")"
   ]
  },
  {
   "cell_type": "code",
   "execution_count": 7,
   "id": "70342780-3ffb-4280-afd1-cf53b095d28c",
   "metadata": {},
   "outputs": [],
   "source": [
    "chi2_rating_final_price = pd.DataFrame({\n",
    "    \"pretty_bad\": my_data[\"pretty_bad\"].to_numpy(), \n",
    "    \"normal\": my_data[\"normal\"].to_numpy(), \n",
    "    \"good\": my_data[\"good\"].to_numpy(), \n",
    "    \"excellent\": my_data[\"excellent\"].to_numpy(), \n",
    "}, index=['cheap', 'normal', 'expensive', 'very expensive'])"
   ]
  },
  {
   "cell_type": "code",
   "execution_count": 9,
   "id": "759502df-8549-488b-9f04-6b9592d3f52d",
   "metadata": {},
   "outputs": [
    {
     "data": {
      "text/html": [
       "<div>\n",
       "<style scoped>\n",
       "    .dataframe tbody tr th:only-of-type {\n",
       "        vertical-align: middle;\n",
       "    }\n",
       "\n",
       "    .dataframe tbody tr th {\n",
       "        vertical-align: top;\n",
       "    }\n",
       "\n",
       "    .dataframe thead th {\n",
       "        text-align: right;\n",
       "    }\n",
       "</style>\n",
       "<table border=\"1\" class=\"dataframe\">\n",
       "  <thead>\n",
       "    <tr style=\"text-align: right;\">\n",
       "      <th></th>\n",
       "      <th>pretty_bad</th>\n",
       "      <th>normal</th>\n",
       "      <th>good</th>\n",
       "      <th>excellent</th>\n",
       "    </tr>\n",
       "  </thead>\n",
       "  <tbody>\n",
       "    <tr>\n",
       "      <th>cheap</th>\n",
       "      <td>69</td>\n",
       "      <td>47</td>\n",
       "      <td>144</td>\n",
       "      <td>31</td>\n",
       "    </tr>\n",
       "    <tr>\n",
       "      <th>normal</th>\n",
       "      <td>62</td>\n",
       "      <td>41</td>\n",
       "      <td>93</td>\n",
       "      <td>15</td>\n",
       "    </tr>\n",
       "    <tr>\n",
       "      <th>expensive</th>\n",
       "      <td>75</td>\n",
       "      <td>46</td>\n",
       "      <td>104</td>\n",
       "      <td>17</td>\n",
       "    </tr>\n",
       "    <tr>\n",
       "      <th>very expensive</th>\n",
       "      <td>107</td>\n",
       "      <td>50</td>\n",
       "      <td>77</td>\n",
       "      <td>14</td>\n",
       "    </tr>\n",
       "  </tbody>\n",
       "</table>\n",
       "</div>"
      ],
      "text/plain": [
       "                pretty_bad  normal  good  excellent\n",
       "cheap                   69      47   144         31\n",
       "normal                  62      41    93         15\n",
       "expensive               75      46   104         17\n",
       "very expensive         107      50    77         14"
      ]
     },
     "execution_count": 9,
     "metadata": {},
     "output_type": "execute_result"
    }
   ],
   "source": [
    "chi2_rating_final_price"
   ]
  },
  {
   "cell_type": "code",
   "execution_count": 11,
   "id": "ae8383d6-cc96-4ea4-a05b-9c5e895a33f1",
   "metadata": {},
   "outputs": [],
   "source": [
    "alpha = 0.05"
   ]
  },
  {
   "cell_type": "code",
   "execution_count": 13,
   "id": "b3af9385-2741-4a85-95ef-d2fec1f0d560",
   "metadata": {},
   "outputs": [],
   "source": [
    "chi2, p, dof, expected = chi2_contingency(chi2_rating_final_price)"
   ]
  },
  {
   "cell_type": "code",
   "execution_count": 15,
   "id": "48c7c311-4a13-48d1-8e21-267094fa63a0",
   "metadata": {},
   "outputs": [
    {
     "name": "stdout",
     "output_type": "stream",
     "text": [
      "\n",
      "Kết quả kiểm định Chi bình phương:\n",
      "Chi2 Statistic: 33.9815\n",
      "P-Value: 0.0001\n",
      "Degrees of Freedom: 9\n",
      "Expected Frequencies:\n",
      "[[ 91.81754032  53.97580645 122.61895161  22.58770161]\n",
      " [ 66.57560484  39.13709677  88.90927419  16.37802419]\n",
      " [ 76.35685484  44.88709677 101.97177419  18.78427419]\n",
      " [ 78.25        46.         104.5         19.25      ]]\n"
     ]
    }
   ],
   "source": [
    "print(\"\\nKết quả kiểm định Chi bình phương:\")\n",
    "print(f\"Chi2 Statistic: {chi2:.4f}\")\n",
    "print(f\"P-Value: {p:.4f}\")\n",
    "print(f\"Degrees of Freedom: {dof}\")\n",
    "print(\"Expected Frequencies:\")\n",
    "print(expected)"
   ]
  },
  {
   "cell_type": "code",
   "execution_count": 17,
   "id": "79c32f8b-d7dd-45e7-9473-12c9b4ff8105",
   "metadata": {},
   "outputs": [
    {
     "name": "stdout",
     "output_type": "stream",
     "text": [
      "\n",
      "Kết luận: Bác bỏ H0 (Hai biến phụ thuộc lẫn nhau).\n"
     ]
    }
   ],
   "source": [
    "if p < alpha:\n",
    "    print(\"\\nKết luận: Bác bỏ H0 (Hai biến phụ thuộc lẫn nhau).\")\n",
    "else:\n",
    "    print(\"\\nKết luận: Không đủ bằng chứng bác bỏ H0 (Hai biến độc lập).\")"
   ]
  },
  {
   "cell_type": "code",
   "execution_count": null,
   "id": "48ff680d-8e77-4c15-8a4c-171ef8ed68ec",
   "metadata": {},
   "outputs": [],
   "source": []
  }
 ],
 "metadata": {
  "kernelspec": {
   "display_name": "Python 3 (ipykernel)",
   "language": "python",
   "name": "python3"
  },
  "language_info": {
   "codemirror_mode": {
    "name": "ipython",
    "version": 3
   },
   "file_extension": ".py",
   "mimetype": "text/x-python",
   "name": "python",
   "nbconvert_exporter": "python",
   "pygments_lexer": "ipython3",
   "version": "3.12.4"
  }
 },
 "nbformat": 4,
 "nbformat_minor": 5
}

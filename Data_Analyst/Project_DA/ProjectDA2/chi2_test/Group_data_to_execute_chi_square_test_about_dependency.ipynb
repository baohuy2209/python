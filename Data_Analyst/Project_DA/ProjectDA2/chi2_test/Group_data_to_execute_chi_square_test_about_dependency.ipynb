{
 "cells": [
  {
   "cell_type": "markdown",
   "id": "354f04d2-5a43-4ebb-9a9f-25f2fde5d4bf",
   "metadata": {},
   "source": [
    "# Split data to execute chi2 test about dependency "
   ]
  },
  {
   "cell_type": "code",
   "execution_count": 174,
   "id": "a2977a8a-f382-4d5d-bd63-092c63d63586",
   "metadata": {},
   "outputs": [],
   "source": [
    "import pandas as pd \n",
    "import numpy as np "
   ]
  },
  {
   "cell_type": "code",
   "execution_count": 175,
   "id": "c6fee99a-5e4e-4d7e-a24f-bd1e9716d8e0",
   "metadata": {},
   "outputs": [],
   "source": [
    "amazon_data = pd.read_excel(\"C:/Users/ADMIN/BAOHUY/Phan_tich_du_lieu/amazon_data2.xlsx\")"
   ]
  },
  {
   "cell_type": "code",
   "execution_count": 176,
   "id": "40e0971b-46a3-478d-ba1b-b2c46654d11a",
   "metadata": {},
   "outputs": [
    {
     "data": {
      "text/html": [
       "<div>\n",
       "<style scoped>\n",
       "    .dataframe tbody tr th:only-of-type {\n",
       "        vertical-align: middle;\n",
       "    }\n",
       "\n",
       "    .dataframe tbody tr th {\n",
       "        vertical-align: top;\n",
       "    }\n",
       "\n",
       "    .dataframe thead th {\n",
       "        text-align: right;\n",
       "    }\n",
       "</style>\n",
       "<table border=\"1\" class=\"dataframe\">\n",
       "  <thead>\n",
       "    <tr style=\"text-align: right;\">\n",
       "      <th></th>\n",
       "      <th>title</th>\n",
       "      <th>seller_name</th>\n",
       "      <th>seller_name.1</th>\n",
       "      <th>description</th>\n",
       "      <th>initial_price</th>\n",
       "      <th>final_price</th>\n",
       "      <th>reviews_count</th>\n",
       "      <th>root_bs_rank</th>\n",
       "      <th>rating</th>\n",
       "      <th>bought_past_month</th>\n",
       "      <th>root_bs_category</th>\n",
       "      <th>bs_rank</th>\n",
       "      <th>country_of_origin</th>\n",
       "    </tr>\n",
       "  </thead>\n",
       "  <tbody>\n",
       "    <tr>\n",
       "      <th>0</th>\n",
       "      <td>HP OfficeJet 8015e Wireless Color All-in-One P...</td>\n",
       "      <td>Ama¦¦¦.co¦¦¦</td>\n",
       "      <td>Ama¦¦¦.co¦¦¦</td>\n",
       "      <td>The HP OfficeJet 8015e delivers increased prod...</td>\n",
       "      <td>160.00</td>\n",
       "      <td>100.00</td>\n",
       "      <td>7791</td>\n",
       "      <td>126</td>\n",
       "      <td>4.0</td>\n",
       "      <td>10000.0</td>\n",
       "      <td>Office Products</td>\n",
       "      <td>3</td>\n",
       "      <td>Thailand</td>\n",
       "    </tr>\n",
       "    <tr>\n",
       "      <th>1</th>\n",
       "      <td>Panasonic ErgoFit Wired Earbuds, In-Ear Headph...</td>\n",
       "      <td>Ama¦¦¦.co¦¦¦</td>\n",
       "      <td>Ama¦¦¦.co¦¦¦</td>\n",
       "      <td>Product Description The Panasonic ErgoFit In E...</td>\n",
       "      <td>9.99</td>\n",
       "      <td>8.99</td>\n",
       "      <td>140420</td>\n",
       "      <td>282</td>\n",
       "      <td>4.3</td>\n",
       "      <td>5000.0</td>\n",
       "      <td>Electronics</td>\n",
       "      <td>47</td>\n",
       "      <td>China</td>\n",
       "    </tr>\n",
       "    <tr>\n",
       "      <th>2</th>\n",
       "      <td>LED Desk Lamp for Home Office, 3 Levels Dimmab...</td>\n",
       "      <td>Bes¦¦¦orl¦¦¦ED</td>\n",
       "      <td>Bes¦¦¦orl¦¦¦ED</td>\n",
       "      <td>Adjustable Angle, Foldable: with 180°flexible ...</td>\n",
       "      <td>21.00</td>\n",
       "      <td>19.00</td>\n",
       "      <td>3353</td>\n",
       "      <td>3992</td>\n",
       "      <td>4.5</td>\n",
       "      <td>2000.0</td>\n",
       "      <td>Tools &amp; Home Improvement</td>\n",
       "      <td>25</td>\n",
       "      <td>China</td>\n",
       "    </tr>\n",
       "    <tr>\n",
       "      <th>3</th>\n",
       "      <td>C Charger Cable Fast Charging Phone Android Po...</td>\n",
       "      <td>NIN¦¦¦R</td>\n",
       "      <td>NIN¦¦¦R</td>\n",
       "      <td>Compatibility:Pad Pro 12.9\" Gen 4 / 3 (2020/20...</td>\n",
       "      <td>14.00</td>\n",
       "      <td>9.99</td>\n",
       "      <td>10059</td>\n",
       "      <td>3496</td>\n",
       "      <td>4.5</td>\n",
       "      <td>1000.0</td>\n",
       "      <td>Cell Phones &amp; Accessories</td>\n",
       "      <td>90</td>\n",
       "      <td>China</td>\n",
       "    </tr>\n",
       "    <tr>\n",
       "      <th>4</th>\n",
       "      <td>HOMOTEK 12 Pack Black Spring Door Stops,3-1/8\"...</td>\n",
       "      <td>HOM¦¦¦K</td>\n",
       "      <td>HOM¦¦¦K</td>\n",
       "      <td>Previous page Next page 1 Spring body 2 Multip...</td>\n",
       "      <td>13.00</td>\n",
       "      <td>9.99</td>\n",
       "      <td>14296</td>\n",
       "      <td>157</td>\n",
       "      <td>4.7</td>\n",
       "      <td>7000.0</td>\n",
       "      <td>Office Products</td>\n",
       "      <td>1</td>\n",
       "      <td>NaN</td>\n",
       "    </tr>\n",
       "    <tr>\n",
       "      <th>...</th>\n",
       "      <td>...</td>\n",
       "      <td>...</td>\n",
       "      <td>...</td>\n",
       "      <td>...</td>\n",
       "      <td>...</td>\n",
       "      <td>...</td>\n",
       "      <td>...</td>\n",
       "      <td>...</td>\n",
       "      <td>...</td>\n",
       "      <td>...</td>\n",
       "      <td>...</td>\n",
       "      <td>...</td>\n",
       "      <td>...</td>\n",
       "    </tr>\n",
       "    <tr>\n",
       "      <th>987</th>\n",
       "      <td>Pentel Arts Aquash Water Brush Assorted Tips, ...</td>\n",
       "      <td>Ama¦¦¦.co¦¦¦</td>\n",
       "      <td>Ama¦¦¦.co¦¦¦</td>\n",
       "      <td>Aquash water brushes are self-wetting brushes ...</td>\n",
       "      <td>30.80</td>\n",
       "      <td>17.40</td>\n",
       "      <td>5425</td>\n",
       "      <td>3716</td>\n",
       "      <td>4.7</td>\n",
       "      <td>500.0</td>\n",
       "      <td>Arts, Crafts &amp; Sewing</td>\n",
       "      <td>52</td>\n",
       "      <td>NaN</td>\n",
       "    </tr>\n",
       "    <tr>\n",
       "      <th>988</th>\n",
       "      <td>Rubbermaid Spa Works Vanity Wastebasket, 2.25 ...</td>\n",
       "      <td>Ama¦¦¦.co¦¦¦</td>\n",
       "      <td>Ama¦¦¦.co¦¦¦</td>\n",
       "      <td>The Rubbermaid 2.25G Spaworks Wastebasket is p...</td>\n",
       "      <td>15.00</td>\n",
       "      <td>7.97</td>\n",
       "      <td>3734</td>\n",
       "      <td>422</td>\n",
       "      <td>4.7</td>\n",
       "      <td>9000.0</td>\n",
       "      <td>Home &amp; Kitchen</td>\n",
       "      <td>1</td>\n",
       "      <td>USA</td>\n",
       "    </tr>\n",
       "    <tr>\n",
       "      <th>989</th>\n",
       "      <td>Brother HL-L3220CDW Wireless Compact Digital C...</td>\n",
       "      <td>Ama¦¦¦.co¦¦¦</td>\n",
       "      <td>Ama¦¦¦.co¦¦¦</td>\n",
       "      <td>The Brother HL-L3220CDW digital color printer ...</td>\n",
       "      <td>250.00</td>\n",
       "      <td>250.00</td>\n",
       "      <td>3719</td>\n",
       "      <td>5645</td>\n",
       "      <td>4.2</td>\n",
       "      <td>1000.0</td>\n",
       "      <td>Office Products</td>\n",
       "      <td>16</td>\n",
       "      <td>Vietnam</td>\n",
       "    </tr>\n",
       "    <tr>\n",
       "      <th>990</th>\n",
       "      <td>Youbetia 360-Degree Rotate Pencil Holder, Offi...</td>\n",
       "      <td>You¦¦¦ia ¦¦¦</td>\n",
       "      <td>You¦¦¦ia ¦¦¦</td>\n",
       "      <td>Youbetia Desk Pencil Organizer 360 Degree Rota...</td>\n",
       "      <td>14.00</td>\n",
       "      <td>14.00</td>\n",
       "      <td>328</td>\n",
       "      <td>7572</td>\n",
       "      <td>4.8</td>\n",
       "      <td>400.0</td>\n",
       "      <td>Office Products</td>\n",
       "      <td>54</td>\n",
       "      <td>NaN</td>\n",
       "    </tr>\n",
       "    <tr>\n",
       "      <th>991</th>\n",
       "      <td>HTU?Upgraded Strongest Suction Car Phone Holde...</td>\n",
       "      <td>WBR¦¦¦tor¦¦¦</td>\n",
       "      <td>WBR¦¦¦tor¦¦¦</td>\n",
       "      <td>2024 Ultimate Bendable Car Phone Holder, Suppo...</td>\n",
       "      <td>40.00</td>\n",
       "      <td>40.00</td>\n",
       "      <td>64</td>\n",
       "      <td>10471</td>\n",
       "      <td>4.4</td>\n",
       "      <td>400.0</td>\n",
       "      <td>Cell Phones &amp; Accessories</td>\n",
       "      <td>37</td>\n",
       "      <td>China</td>\n",
       "    </tr>\n",
       "  </tbody>\n",
       "</table>\n",
       "<p>992 rows × 13 columns</p>\n",
       "</div>"
      ],
      "text/plain": [
       "                                                 title     seller_name  \\\n",
       "0    HP OfficeJet 8015e Wireless Color All-in-One P...    Ama¦¦¦.co¦¦¦   \n",
       "1    Panasonic ErgoFit Wired Earbuds, In-Ear Headph...    Ama¦¦¦.co¦¦¦   \n",
       "2    LED Desk Lamp for Home Office, 3 Levels Dimmab...  Bes¦¦¦orl¦¦¦ED   \n",
       "3    C Charger Cable Fast Charging Phone Android Po...         NIN¦¦¦R   \n",
       "4    HOMOTEK 12 Pack Black Spring Door Stops,3-1/8\"...         HOM¦¦¦K   \n",
       "..                                                 ...             ...   \n",
       "987  Pentel Arts Aquash Water Brush Assorted Tips, ...    Ama¦¦¦.co¦¦¦   \n",
       "988  Rubbermaid Spa Works Vanity Wastebasket, 2.25 ...    Ama¦¦¦.co¦¦¦   \n",
       "989  Brother HL-L3220CDW Wireless Compact Digital C...    Ama¦¦¦.co¦¦¦   \n",
       "990  Youbetia 360-Degree Rotate Pencil Holder, Offi...    You¦¦¦ia ¦¦¦   \n",
       "991  HTU?Upgraded Strongest Suction Car Phone Holde...    WBR¦¦¦tor¦¦¦   \n",
       "\n",
       "      seller_name.1                                        description  \\\n",
       "0      Ama¦¦¦.co¦¦¦  The HP OfficeJet 8015e delivers increased prod...   \n",
       "1      Ama¦¦¦.co¦¦¦  Product Description The Panasonic ErgoFit In E...   \n",
       "2    Bes¦¦¦orl¦¦¦ED  Adjustable Angle, Foldable: with 180°flexible ...   \n",
       "3           NIN¦¦¦R  Compatibility:Pad Pro 12.9\" Gen 4 / 3 (2020/20...   \n",
       "4           HOM¦¦¦K  Previous page Next page 1 Spring body 2 Multip...   \n",
       "..              ...                                                ...   \n",
       "987    Ama¦¦¦.co¦¦¦  Aquash water brushes are self-wetting brushes ...   \n",
       "988    Ama¦¦¦.co¦¦¦  The Rubbermaid 2.25G Spaworks Wastebasket is p...   \n",
       "989    Ama¦¦¦.co¦¦¦  The Brother HL-L3220CDW digital color printer ...   \n",
       "990    You¦¦¦ia ¦¦¦  Youbetia Desk Pencil Organizer 360 Degree Rota...   \n",
       "991    WBR¦¦¦tor¦¦¦  2024 Ultimate Bendable Car Phone Holder, Suppo...   \n",
       "\n",
       "     initial_price  final_price  reviews_count  root_bs_rank  rating  \\\n",
       "0           160.00       100.00           7791           126     4.0   \n",
       "1             9.99         8.99         140420           282     4.3   \n",
       "2            21.00        19.00           3353          3992     4.5   \n",
       "3            14.00         9.99          10059          3496     4.5   \n",
       "4            13.00         9.99          14296           157     4.7   \n",
       "..             ...          ...            ...           ...     ...   \n",
       "987          30.80        17.40           5425          3716     4.7   \n",
       "988          15.00         7.97           3734           422     4.7   \n",
       "989         250.00       250.00           3719          5645     4.2   \n",
       "990          14.00        14.00            328          7572     4.8   \n",
       "991          40.00        40.00             64         10471     4.4   \n",
       "\n",
       "     bought_past_month           root_bs_category  bs_rank country_of_origin  \n",
       "0              10000.0            Office Products        3          Thailand  \n",
       "1               5000.0                Electronics       47             China  \n",
       "2               2000.0   Tools & Home Improvement       25             China  \n",
       "3               1000.0  Cell Phones & Accessories       90             China  \n",
       "4               7000.0            Office Products        1               NaN  \n",
       "..                 ...                        ...      ...               ...  \n",
       "987              500.0      Arts, Crafts & Sewing       52               NaN  \n",
       "988             9000.0             Home & Kitchen        1               USA  \n",
       "989             1000.0            Office Products       16           Vietnam  \n",
       "990              400.0            Office Products       54               NaN  \n",
       "991              400.0  Cell Phones & Accessories       37             China  \n",
       "\n",
       "[992 rows x 13 columns]"
      ]
     },
     "execution_count": 176,
     "metadata": {},
     "output_type": "execute_result"
    }
   ],
   "source": [
    "amazon_data"
   ]
  },
  {
   "cell_type": "code",
   "execution_count": 177,
   "id": "3402f5eb-dbe7-4326-94db-c9c39eaf82bb",
   "metadata": {},
   "outputs": [],
   "source": [
    "amazon_data = amazon_data.drop(columns=['seller_name.1'])\n"
   ]
  },
  {
   "cell_type": "code",
   "execution_count": 178,
   "id": "a4a31436-80b5-4263-a6f0-3a00ee2a7ba6",
   "metadata": {},
   "outputs": [
    {
     "data": {
      "text/html": [
       "<div>\n",
       "<style scoped>\n",
       "    .dataframe tbody tr th:only-of-type {\n",
       "        vertical-align: middle;\n",
       "    }\n",
       "\n",
       "    .dataframe tbody tr th {\n",
       "        vertical-align: top;\n",
       "    }\n",
       "\n",
       "    .dataframe thead th {\n",
       "        text-align: right;\n",
       "    }\n",
       "</style>\n",
       "<table border=\"1\" class=\"dataframe\">\n",
       "  <thead>\n",
       "    <tr style=\"text-align: right;\">\n",
       "      <th></th>\n",
       "      <th>title</th>\n",
       "      <th>seller_name</th>\n",
       "      <th>description</th>\n",
       "      <th>initial_price</th>\n",
       "      <th>final_price</th>\n",
       "      <th>reviews_count</th>\n",
       "      <th>root_bs_rank</th>\n",
       "      <th>rating</th>\n",
       "      <th>bought_past_month</th>\n",
       "      <th>root_bs_category</th>\n",
       "      <th>bs_rank</th>\n",
       "      <th>country_of_origin</th>\n",
       "    </tr>\n",
       "  </thead>\n",
       "  <tbody>\n",
       "    <tr>\n",
       "      <th>0</th>\n",
       "      <td>HP OfficeJet 8015e Wireless Color All-in-One P...</td>\n",
       "      <td>Ama¦¦¦.co¦¦¦</td>\n",
       "      <td>The HP OfficeJet 8015e delivers increased prod...</td>\n",
       "      <td>160.00</td>\n",
       "      <td>100.00</td>\n",
       "      <td>7791</td>\n",
       "      <td>126</td>\n",
       "      <td>4.0</td>\n",
       "      <td>10000.0</td>\n",
       "      <td>Office Products</td>\n",
       "      <td>3</td>\n",
       "      <td>Thailand</td>\n",
       "    </tr>\n",
       "    <tr>\n",
       "      <th>1</th>\n",
       "      <td>Panasonic ErgoFit Wired Earbuds, In-Ear Headph...</td>\n",
       "      <td>Ama¦¦¦.co¦¦¦</td>\n",
       "      <td>Product Description The Panasonic ErgoFit In E...</td>\n",
       "      <td>9.99</td>\n",
       "      <td>8.99</td>\n",
       "      <td>140420</td>\n",
       "      <td>282</td>\n",
       "      <td>4.3</td>\n",
       "      <td>5000.0</td>\n",
       "      <td>Electronics</td>\n",
       "      <td>47</td>\n",
       "      <td>China</td>\n",
       "    </tr>\n",
       "    <tr>\n",
       "      <th>2</th>\n",
       "      <td>LED Desk Lamp for Home Office, 3 Levels Dimmab...</td>\n",
       "      <td>Bes¦¦¦orl¦¦¦ED</td>\n",
       "      <td>Adjustable Angle, Foldable: with 180°flexible ...</td>\n",
       "      <td>21.00</td>\n",
       "      <td>19.00</td>\n",
       "      <td>3353</td>\n",
       "      <td>3992</td>\n",
       "      <td>4.5</td>\n",
       "      <td>2000.0</td>\n",
       "      <td>Tools &amp; Home Improvement</td>\n",
       "      <td>25</td>\n",
       "      <td>China</td>\n",
       "    </tr>\n",
       "    <tr>\n",
       "      <th>3</th>\n",
       "      <td>C Charger Cable Fast Charging Phone Android Po...</td>\n",
       "      <td>NIN¦¦¦R</td>\n",
       "      <td>Compatibility:Pad Pro 12.9\" Gen 4 / 3 (2020/20...</td>\n",
       "      <td>14.00</td>\n",
       "      <td>9.99</td>\n",
       "      <td>10059</td>\n",
       "      <td>3496</td>\n",
       "      <td>4.5</td>\n",
       "      <td>1000.0</td>\n",
       "      <td>Cell Phones &amp; Accessories</td>\n",
       "      <td>90</td>\n",
       "      <td>China</td>\n",
       "    </tr>\n",
       "    <tr>\n",
       "      <th>4</th>\n",
       "      <td>HOMOTEK 12 Pack Black Spring Door Stops,3-1/8\"...</td>\n",
       "      <td>HOM¦¦¦K</td>\n",
       "      <td>Previous page Next page 1 Spring body 2 Multip...</td>\n",
       "      <td>13.00</td>\n",
       "      <td>9.99</td>\n",
       "      <td>14296</td>\n",
       "      <td>157</td>\n",
       "      <td>4.7</td>\n",
       "      <td>7000.0</td>\n",
       "      <td>Office Products</td>\n",
       "      <td>1</td>\n",
       "      <td>NaN</td>\n",
       "    </tr>\n",
       "    <tr>\n",
       "      <th>...</th>\n",
       "      <td>...</td>\n",
       "      <td>...</td>\n",
       "      <td>...</td>\n",
       "      <td>...</td>\n",
       "      <td>...</td>\n",
       "      <td>...</td>\n",
       "      <td>...</td>\n",
       "      <td>...</td>\n",
       "      <td>...</td>\n",
       "      <td>...</td>\n",
       "      <td>...</td>\n",
       "      <td>...</td>\n",
       "    </tr>\n",
       "    <tr>\n",
       "      <th>987</th>\n",
       "      <td>Pentel Arts Aquash Water Brush Assorted Tips, ...</td>\n",
       "      <td>Ama¦¦¦.co¦¦¦</td>\n",
       "      <td>Aquash water brushes are self-wetting brushes ...</td>\n",
       "      <td>30.80</td>\n",
       "      <td>17.40</td>\n",
       "      <td>5425</td>\n",
       "      <td>3716</td>\n",
       "      <td>4.7</td>\n",
       "      <td>500.0</td>\n",
       "      <td>Arts, Crafts &amp; Sewing</td>\n",
       "      <td>52</td>\n",
       "      <td>NaN</td>\n",
       "    </tr>\n",
       "    <tr>\n",
       "      <th>988</th>\n",
       "      <td>Rubbermaid Spa Works Vanity Wastebasket, 2.25 ...</td>\n",
       "      <td>Ama¦¦¦.co¦¦¦</td>\n",
       "      <td>The Rubbermaid 2.25G Spaworks Wastebasket is p...</td>\n",
       "      <td>15.00</td>\n",
       "      <td>7.97</td>\n",
       "      <td>3734</td>\n",
       "      <td>422</td>\n",
       "      <td>4.7</td>\n",
       "      <td>9000.0</td>\n",
       "      <td>Home &amp; Kitchen</td>\n",
       "      <td>1</td>\n",
       "      <td>USA</td>\n",
       "    </tr>\n",
       "    <tr>\n",
       "      <th>989</th>\n",
       "      <td>Brother HL-L3220CDW Wireless Compact Digital C...</td>\n",
       "      <td>Ama¦¦¦.co¦¦¦</td>\n",
       "      <td>The Brother HL-L3220CDW digital color printer ...</td>\n",
       "      <td>250.00</td>\n",
       "      <td>250.00</td>\n",
       "      <td>3719</td>\n",
       "      <td>5645</td>\n",
       "      <td>4.2</td>\n",
       "      <td>1000.0</td>\n",
       "      <td>Office Products</td>\n",
       "      <td>16</td>\n",
       "      <td>Vietnam</td>\n",
       "    </tr>\n",
       "    <tr>\n",
       "      <th>990</th>\n",
       "      <td>Youbetia 360-Degree Rotate Pencil Holder, Offi...</td>\n",
       "      <td>You¦¦¦ia ¦¦¦</td>\n",
       "      <td>Youbetia Desk Pencil Organizer 360 Degree Rota...</td>\n",
       "      <td>14.00</td>\n",
       "      <td>14.00</td>\n",
       "      <td>328</td>\n",
       "      <td>7572</td>\n",
       "      <td>4.8</td>\n",
       "      <td>400.0</td>\n",
       "      <td>Office Products</td>\n",
       "      <td>54</td>\n",
       "      <td>NaN</td>\n",
       "    </tr>\n",
       "    <tr>\n",
       "      <th>991</th>\n",
       "      <td>HTU?Upgraded Strongest Suction Car Phone Holde...</td>\n",
       "      <td>WBR¦¦¦tor¦¦¦</td>\n",
       "      <td>2024 Ultimate Bendable Car Phone Holder, Suppo...</td>\n",
       "      <td>40.00</td>\n",
       "      <td>40.00</td>\n",
       "      <td>64</td>\n",
       "      <td>10471</td>\n",
       "      <td>4.4</td>\n",
       "      <td>400.0</td>\n",
       "      <td>Cell Phones &amp; Accessories</td>\n",
       "      <td>37</td>\n",
       "      <td>China</td>\n",
       "    </tr>\n",
       "  </tbody>\n",
       "</table>\n",
       "<p>992 rows × 12 columns</p>\n",
       "</div>"
      ],
      "text/plain": [
       "                                                 title     seller_name  \\\n",
       "0    HP OfficeJet 8015e Wireless Color All-in-One P...    Ama¦¦¦.co¦¦¦   \n",
       "1    Panasonic ErgoFit Wired Earbuds, In-Ear Headph...    Ama¦¦¦.co¦¦¦   \n",
       "2    LED Desk Lamp for Home Office, 3 Levels Dimmab...  Bes¦¦¦orl¦¦¦ED   \n",
       "3    C Charger Cable Fast Charging Phone Android Po...         NIN¦¦¦R   \n",
       "4    HOMOTEK 12 Pack Black Spring Door Stops,3-1/8\"...         HOM¦¦¦K   \n",
       "..                                                 ...             ...   \n",
       "987  Pentel Arts Aquash Water Brush Assorted Tips, ...    Ama¦¦¦.co¦¦¦   \n",
       "988  Rubbermaid Spa Works Vanity Wastebasket, 2.25 ...    Ama¦¦¦.co¦¦¦   \n",
       "989  Brother HL-L3220CDW Wireless Compact Digital C...    Ama¦¦¦.co¦¦¦   \n",
       "990  Youbetia 360-Degree Rotate Pencil Holder, Offi...    You¦¦¦ia ¦¦¦   \n",
       "991  HTU?Upgraded Strongest Suction Car Phone Holde...    WBR¦¦¦tor¦¦¦   \n",
       "\n",
       "                                           description  initial_price  \\\n",
       "0    The HP OfficeJet 8015e delivers increased prod...         160.00   \n",
       "1    Product Description The Panasonic ErgoFit In E...           9.99   \n",
       "2    Adjustable Angle, Foldable: with 180°flexible ...          21.00   \n",
       "3    Compatibility:Pad Pro 12.9\" Gen 4 / 3 (2020/20...          14.00   \n",
       "4    Previous page Next page 1 Spring body 2 Multip...          13.00   \n",
       "..                                                 ...            ...   \n",
       "987  Aquash water brushes are self-wetting brushes ...          30.80   \n",
       "988  The Rubbermaid 2.25G Spaworks Wastebasket is p...          15.00   \n",
       "989  The Brother HL-L3220CDW digital color printer ...         250.00   \n",
       "990  Youbetia Desk Pencil Organizer 360 Degree Rota...          14.00   \n",
       "991  2024 Ultimate Bendable Car Phone Holder, Suppo...          40.00   \n",
       "\n",
       "     final_price  reviews_count  root_bs_rank  rating  bought_past_month  \\\n",
       "0         100.00           7791           126     4.0            10000.0   \n",
       "1           8.99         140420           282     4.3             5000.0   \n",
       "2          19.00           3353          3992     4.5             2000.0   \n",
       "3           9.99          10059          3496     4.5             1000.0   \n",
       "4           9.99          14296           157     4.7             7000.0   \n",
       "..           ...            ...           ...     ...                ...   \n",
       "987        17.40           5425          3716     4.7              500.0   \n",
       "988         7.97           3734           422     4.7             9000.0   \n",
       "989       250.00           3719          5645     4.2             1000.0   \n",
       "990        14.00            328          7572     4.8              400.0   \n",
       "991        40.00             64         10471     4.4              400.0   \n",
       "\n",
       "              root_bs_category  bs_rank country_of_origin  \n",
       "0              Office Products        3          Thailand  \n",
       "1                  Electronics       47             China  \n",
       "2     Tools & Home Improvement       25             China  \n",
       "3    Cell Phones & Accessories       90             China  \n",
       "4              Office Products        1               NaN  \n",
       "..                         ...      ...               ...  \n",
       "987      Arts, Crafts & Sewing       52               NaN  \n",
       "988             Home & Kitchen        1               USA  \n",
       "989            Office Products       16           Vietnam  \n",
       "990            Office Products       54               NaN  \n",
       "991  Cell Phones & Accessories       37             China  \n",
       "\n",
       "[992 rows x 12 columns]"
      ]
     },
     "execution_count": 178,
     "metadata": {},
     "output_type": "execute_result"
    }
   ],
   "source": [
    "amazon_data"
   ]
  },
  {
   "cell_type": "code",
   "execution_count": 179,
   "id": "8152b75f-65b9-4234-9d91-d90bc6a437f0",
   "metadata": {},
   "outputs": [
    {
     "data": {
      "text/plain": [
       "count    992.000000\n",
       "mean       4.524093\n",
       "std        0.182023\n",
       "min        3.900000\n",
       "25%        4.400000\n",
       "50%        4.500000\n",
       "75%        4.700000\n",
       "max        5.000000\n",
       "Name: rating, dtype: float64"
      ]
     },
     "execution_count": 179,
     "metadata": {},
     "output_type": "execute_result"
    }
   ],
   "source": [
    "amazon_data[\"rating\"].describe()"
   ]
  },
  {
   "cell_type": "code",
   "execution_count": 180,
   "id": "c8b81ae5-6f9f-41ef-82d8-5ab4481879f6",
   "metadata": {},
   "outputs": [],
   "source": [
    "fare_category_rating = ['pretty bad', 'normal', 'good', 'excellent']; \n",
    "quartile_data_rating = pd.qcut(amazon_data[\"rating\"], 4, labels = fare_category_rating)"
   ]
  },
  {
   "cell_type": "code",
   "execution_count": 181,
   "id": "fc992f35-d7ac-4e45-95a1-587990271390",
   "metadata": {},
   "outputs": [
    {
     "data": {
      "text/plain": [
       "0      pretty bad\n",
       "1      pretty bad\n",
       "2          normal\n",
       "3          normal\n",
       "4            good\n",
       "          ...    \n",
       "987          good\n",
       "988          good\n",
       "989    pretty bad\n",
       "990     excellent\n",
       "991    pretty bad\n",
       "Name: rating, Length: 992, dtype: category\n",
       "Categories (4, object): ['pretty bad' < 'normal' < 'good' < 'excellent']"
      ]
     },
     "execution_count": 181,
     "metadata": {},
     "output_type": "execute_result"
    }
   ],
   "source": [
    "quartile_data_rating"
   ]
  },
  {
   "cell_type": "markdown",
   "id": "5e8e5f6a-e9a5-4df0-a91f-c0d90a2c7335",
   "metadata": {},
   "source": [
    "## Split rating and initial_price"
   ]
  },
  {
   "cell_type": "code",
   "execution_count": 182,
   "id": "dfaf162a-ff2a-4952-b805-83c22a1b3ac0",
   "metadata": {},
   "outputs": [
    {
     "data": {
      "text/plain": [
       "count    992.000000\n",
       "mean      47.392984\n",
       "std       76.023231\n",
       "min        1.760000\n",
       "25%       13.000000\n",
       "50%       22.000000\n",
       "75%       41.000000\n",
       "max      700.000000\n",
       "Name: initial_price, dtype: float64"
      ]
     },
     "execution_count": 182,
     "metadata": {},
     "output_type": "execute_result"
    }
   ],
   "source": [
    "amazon_data[\"initial_price\"].describe()"
   ]
  },
  {
   "cell_type": "code",
   "execution_count": 183,
   "id": "a797632c-dc97-417f-a1e9-16e24979b78b",
   "metadata": {},
   "outputs": [],
   "source": [
    "fare_category_initial_price = ['cheap', 'normal', 'expensive', 'very expensive']\n",
    "quartile_data_initial_price = pd.qcut(amazon_data[\"initial_price\"], 4, labels = fare_category_initial_price)"
   ]
  },
  {
   "cell_type": "code",
   "execution_count": 184,
   "id": "6ebc64b7-3a35-455c-939e-e53b65024764",
   "metadata": {},
   "outputs": [
    {
     "data": {
      "text/plain": [
       "0      pretty bad\n",
       "1      pretty bad\n",
       "2          normal\n",
       "3          normal\n",
       "4            good\n",
       "          ...    \n",
       "987          good\n",
       "988          good\n",
       "989    pretty bad\n",
       "990     excellent\n",
       "991    pretty bad\n",
       "Name: quality, Length: 992, dtype: category\n",
       "Categories (4, object): ['pretty bad' < 'normal' < 'good' < 'excellent']"
      ]
     },
     "execution_count": 184,
     "metadata": {},
     "output_type": "execute_result"
    }
   ],
   "source": [
    "amazon_data[\"quality\"] = quartile_data_rating\n",
    "amazon_data[\"initial_price_level\"] = quartile_data_initial_price\n",
    "amazon_data[\"quality\"]"
   ]
  },
  {
   "cell_type": "code",
   "execution_count": 185,
   "id": "05cf7ad7-4d2f-4583-9373-2137f6a260cb",
   "metadata": {},
   "outputs": [
    {
     "data": {
      "text/plain": [
       "0      very expensive\n",
       "1               cheap\n",
       "2              normal\n",
       "3              normal\n",
       "4               cheap\n",
       "            ...      \n",
       "987         expensive\n",
       "988            normal\n",
       "989    very expensive\n",
       "990            normal\n",
       "991         expensive\n",
       "Name: initial_price_level, Length: 992, dtype: category\n",
       "Categories (4, object): ['cheap' < 'normal' < 'expensive' < 'very expensive']"
      ]
     },
     "execution_count": 185,
     "metadata": {},
     "output_type": "execute_result"
    }
   ],
   "source": [
    "amazon_data[\"initial_price_level\"]"
   ]
  },
  {
   "cell_type": "code",
   "execution_count": 197,
   "id": "3ca200fa-6143-480f-802e-d13b6a565137",
   "metadata": {},
   "outputs": [],
   "source": [
    "chi2_rating_initial_price = {\n",
    "    \"pretty_bad\": [\n",
    "        int(len(amazon_data.query(\"quality == 'pretty bad' and initial_price_level == 'cheap'\"))),\n",
    "        int(len(amazon_data.query(\"quality == 'pretty bad' and initial_price_level == 'normal'\"))),\n",
    "        int(len(amazon_data.query(\"quality == 'pretty bad' and initial_price_level == 'expensive'\"))),\n",
    "        int(len(amazon_data.query(\"quality == 'pretty bad' and initial_price_level == 'very expensive'\")))\n",
    "    ],\n",
    "    \"normal\": [\n",
    "        int(len(amazon_data.query(\"quality == 'normal' and initial_price_level == 'cheap'\"))),\n",
    "        int(len(amazon_data.query(\"quality == 'normal' and initial_price_level == 'normal'\"))),\n",
    "        int(len(amazon_data.query(\"quality == 'normal' and initial_price_level == 'expensive'\"))),\n",
    "        int(len(amazon_data.query(\"quality == 'normal' and initial_price_level == 'very expensive'\")))\n",
    "    ], \n",
    "    \"good\": [\n",
    "        int(len(amazon_data.query(\"quality == 'good' and initial_price_level == 'cheap'\"))),\n",
    "        int(len(amazon_data.query(\"quality == 'good' and initial_price_level == 'normal'\"))),\n",
    "        int(len(amazon_data.query(\"quality == 'good' and initial_price_level == 'expensive'\"))),\n",
    "        int(len(amazon_data.query(\"quality == 'good' and initial_price_level == 'very expensive'\")))\n",
    "    ], \n",
    "    \"excellent\": [\n",
    "        int(len(amazon_data.query(\"quality == 'excellent' and initial_price_level == 'cheap'\"))),\n",
    "        int(len(amazon_data.query(\"quality == 'excellent' and initial_price_level == 'normal'\"))),\n",
    "        int(len(amazon_data.query(\"quality == 'excellent' and initial_price_level == 'expensive'\"))),\n",
    "        int(len(amazon_data.query(\"quality == 'excellent' and initial_price_level == 'very expensive'\")))\n",
    "    ]\n",
    "}"
   ]
  },
  {
   "cell_type": "code",
   "execution_count": 199,
   "id": "f8c2a68b-76cb-45cc-8814-a6abb639e489",
   "metadata": {},
   "outputs": [
    {
     "data": {
      "text/plain": [
       "{'pretty_bad': [73, 51, 90, 99],\n",
       " 'normal': [40, 51, 42, 51],\n",
       " 'good': [132, 104, 101, 81],\n",
       " 'excellent': [30, 18, 13, 16]}"
      ]
     },
     "execution_count": 199,
     "metadata": {},
     "output_type": "execute_result"
    }
   ],
   "source": [
    "chi2_rating_initial_price"
   ]
  },
  {
   "cell_type": "code",
   "execution_count": 201,
   "id": "e0ef0376-0e4e-446e-b72c-0f02c0fb75ff",
   "metadata": {},
   "outputs": [],
   "source": [
    "chi2_rating_initial_price = pd.DataFrame(chi2_rating_initial_price)"
   ]
  },
  {
   "cell_type": "code",
   "execution_count": 203,
   "id": "452149b1-4a3b-466a-b352-9eb572dbd4b7",
   "metadata": {},
   "outputs": [],
   "source": [
    "chi2_rating_initial_price.to_csv(\"C:/Users/ADMIN/BAOHUY/Phan_tich_du_lieu/chi2_rating_initial_price.csv\")"
   ]
  },
  {
   "cell_type": "markdown",
   "id": "066c9294-6853-418f-b0ba-fe36c9dcbbb7",
   "metadata": {},
   "source": [
    "## Split rating and final_price"
   ]
  },
  {
   "cell_type": "code",
   "execution_count": 207,
   "id": "06e3d0fd-c0fa-4c7b-a1c5-f83ab2cd031f",
   "metadata": {},
   "outputs": [
    {
     "data": {
      "text/plain": [
       "count    992.000000\n",
       "mean      38.919798\n",
       "std       64.091896\n",
       "min        1.590000\n",
       "25%        9.990000\n",
       "50%       19.000000\n",
       "75%       35.625000\n",
       "max      605.000000\n",
       "Name: final_price, dtype: float64"
      ]
     },
     "execution_count": 207,
     "metadata": {},
     "output_type": "execute_result"
    }
   ],
   "source": [
    "amazon_data[\"final_price\"].describe()"
   ]
  },
  {
   "cell_type": "code",
   "execution_count": 209,
   "id": "89cbffaa-5b52-4e3a-8061-2641bb889e44",
   "metadata": {},
   "outputs": [],
   "source": [
    "fare_category_final_price = ['cheap', 'normal', 'expensive', 'very expensive']\n",
    "quartile_data_final_price = pd.qcut(amazon_data[\"final_price\"], 4, labels = fare_category_final_price)"
   ]
  },
  {
   "cell_type": "code",
   "execution_count": 211,
   "id": "b51f80c0-e5d2-4620-a1dd-d12b59586a3a",
   "metadata": {},
   "outputs": [],
   "source": [
    "amazon_data[\"final_price_level\"] = quartile_data_final_price"
   ]
  },
  {
   "cell_type": "code",
   "execution_count": 215,
   "id": "9d9654dd-ea4c-4623-9075-a0eaeaeffd23",
   "metadata": {},
   "outputs": [
    {
     "data": {
      "text/plain": [
       "0      very expensive\n",
       "1               cheap\n",
       "2              normal\n",
       "3               cheap\n",
       "4               cheap\n",
       "            ...      \n",
       "987            normal\n",
       "988             cheap\n",
       "989    very expensive\n",
       "990            normal\n",
       "991    very expensive\n",
       "Name: final_price_level, Length: 992, dtype: category\n",
       "Categories (4, object): ['cheap' < 'normal' < 'expensive' < 'very expensive']"
      ]
     },
     "execution_count": 215,
     "metadata": {},
     "output_type": "execute_result"
    }
   ],
   "source": [
    "amazon_data[\"final_price_level\"]"
   ]
  },
  {
   "cell_type": "code",
   "execution_count": 219,
   "id": "604b429f-9935-4577-834c-7fcc43dd4df1",
   "metadata": {},
   "outputs": [],
   "source": [
    "chi2_rating_final_price = {\n",
    "    \"pretty_bad\": [\n",
    "        int(len(amazon_data.query(\"quality == 'pretty bad' and final_price_level == 'cheap'\"))),\n",
    "        int(len(amazon_data.query(\"quality == 'pretty bad' and final_price_level == 'normal'\"))),\n",
    "        int(len(amazon_data.query(\"quality == 'pretty bad' and final_price_level == 'expensive'\"))),\n",
    "        int(len(amazon_data.query(\"quality == 'pretty bad' and final_price_level == 'very expensive'\")))\n",
    "    ],\n",
    "    \"normal\": [\n",
    "        int(len(amazon_data.query(\"quality == 'normal' and final_price_level == 'cheap'\"))),\n",
    "        int(len(amazon_data.query(\"quality == 'normal' and final_price_level == 'normal'\"))),\n",
    "        int(len(amazon_data.query(\"quality == 'normal' and final_price_level == 'expensive'\"))),\n",
    "        int(len(amazon_data.query(\"quality == 'normal' and final_price_level == 'very expensive'\")))\n",
    "    ], \n",
    "    \"good\": [\n",
    "        int(len(amazon_data.query(\"quality == 'good' and final_price_level == 'cheap'\"))),\n",
    "        int(len(amazon_data.query(\"quality == 'good' and final_price_level == 'normal'\"))),\n",
    "        int(len(amazon_data.query(\"quality == 'good' and final_price_level == 'expensive'\"))),\n",
    "        int(len(amazon_data.query(\"quality == 'good' and final_price_level == 'very expensive'\")))\n",
    "    ], \n",
    "    \"excellent\": [\n",
    "        int(len(amazon_data.query(\"quality == 'excellent' and final_price_level == 'cheap'\"))),\n",
    "        int(len(amazon_data.query(\"quality == 'excellent' and final_price_level == 'normal'\"))),\n",
    "        int(len(amazon_data.query(\"quality == 'excellent' and final_price_level == 'expensive'\"))),\n",
    "        int(len(amazon_data.query(\"quality == 'excellent' and final_price_level == 'very expensive'\")))\n",
    "    ]\n",
    "}"
   ]
  },
  {
   "cell_type": "code",
   "execution_count": 221,
   "id": "17285116-89f9-4488-a4b9-5071752148e5",
   "metadata": {},
   "outputs": [
    {
     "data": {
      "text/plain": [
       "{'pretty_bad': [69, 62, 75, 107],\n",
       " 'normal': [47, 41, 46, 50],\n",
       " 'good': [144, 93, 104, 77],\n",
       " 'excellent': [31, 15, 17, 14]}"
      ]
     },
     "execution_count": 221,
     "metadata": {},
     "output_type": "execute_result"
    }
   ],
   "source": [
    "chi2_rating_final_price"
   ]
  },
  {
   "cell_type": "code",
   "execution_count": 223,
   "id": "bfdc8d6a-e547-4e91-b135-85ffd38612c7",
   "metadata": {},
   "outputs": [],
   "source": [
    "chi2_rating_final_price = pd.DataFrame(chi2_rating_final_price)"
   ]
  },
  {
   "cell_type": "code",
   "execution_count": 225,
   "id": "96302cad-235f-4258-b2b1-f9612b0d70a2",
   "metadata": {},
   "outputs": [],
   "source": [
    "chi2_rating_final_price.to_csv(\"C:/Users/ADMIN/BAOHUY/Phan_tich_du_lieu/chi2_rating_final_price.csv\")"
   ]
  },
  {
   "cell_type": "markdown",
   "id": "bdd7c91e-3656-48c4-9422-1e9707d75c5c",
   "metadata": {},
   "source": [
    "## Split rating and review count "
   ]
  },
  {
   "cell_type": "code",
   "execution_count": 228,
   "id": "1a368e40-e766-4106-9693-3a2ad9c07f11",
   "metadata": {},
   "outputs": [
    {
     "data": {
      "text/plain": [
       "count       992.000000\n",
       "mean       7807.363911\n",
       "std       20860.343464\n",
       "min          17.000000\n",
       "25%         519.000000\n",
       "50%        1777.500000\n",
       "75%        5578.000000\n",
       "max      269769.000000\n",
       "Name: reviews_count, dtype: float64"
      ]
     },
     "execution_count": 228,
     "metadata": {},
     "output_type": "execute_result"
    }
   ],
   "source": [
    "amazon_data[\"reviews_count\"].describe()"
   ]
  },
  {
   "cell_type": "code",
   "execution_count": 230,
   "id": "eada7165-9841-484f-9714-3b48d17f8ad4",
   "metadata": {},
   "outputs": [],
   "source": [
    "fare_category_reviews_count = ['low', 'normal', 'high', 'very high']\n",
    "quartile_data_reviews_count = pd.qcut(amazon_data[\"final_price\"], 4, labels = fare_category_reviews_count)"
   ]
  },
  {
   "cell_type": "code",
   "execution_count": 232,
   "id": "8cf3a445-c440-430c-ba47-1bb5dfd891f0",
   "metadata": {},
   "outputs": [],
   "source": [
    "amazon_data[\"amount_review_level\"] = quartile_data_reviews_count"
   ]
  },
  {
   "cell_type": "code",
   "execution_count": 234,
   "id": "8cd4821f-8a64-4564-9fc4-bb34a97fc6bf",
   "metadata": {},
   "outputs": [
    {
     "data": {
      "text/plain": [
       "0      very high\n",
       "1            low\n",
       "2         normal\n",
       "3            low\n",
       "4            low\n",
       "         ...    \n",
       "987       normal\n",
       "988          low\n",
       "989    very high\n",
       "990       normal\n",
       "991    very high\n",
       "Name: amount_review_level, Length: 992, dtype: category\n",
       "Categories (4, object): ['low' < 'normal' < 'high' < 'very high']"
      ]
     },
     "execution_count": 234,
     "metadata": {},
     "output_type": "execute_result"
    }
   ],
   "source": [
    "amazon_data[\"amount_review_level\"]"
   ]
  },
  {
   "cell_type": "code",
   "execution_count": 236,
   "id": "a9b2fca3-a59e-4e20-8b30-18d4a0f73909",
   "metadata": {},
   "outputs": [],
   "source": [
    "chi2_rating_review_count = {\n",
    "    \"pretty_bad\": [\n",
    "        int(len(amazon_data.query(\"quality == 'pretty bad' and amount_review_level == 'low'\"))),\n",
    "        int(len(amazon_data.query(\"quality == 'pretty bad' and amount_review_level == 'normal'\"))),\n",
    "        int(len(amazon_data.query(\"quality == 'pretty bad' and amount_review_level == 'high'\"))),\n",
    "        int(len(amazon_data.query(\"quality == 'pretty bad' and final_price_level == 'very high'\")))\n",
    "    ],\n",
    "    \"normal\": [\n",
    "        int(len(amazon_data.query(\"quality == 'normal' and amount_review_level == 'low'\"))),\n",
    "        int(len(amazon_data.query(\"quality == 'normal' and amount_review_level == 'normal'\"))),\n",
    "        int(len(amazon_data.query(\"quality == 'normal' and amount_review_level == 'high'\"))),\n",
    "        int(len(amazon_data.query(\"quality == 'normal' and amount_review_level == 'very high'\")))\n",
    "    ], \n",
    "    \"good\": [\n",
    "        int(len(amazon_data.query(\"quality == 'good' and amount_review_level == 'low'\"))),\n",
    "        int(len(amazon_data.query(\"quality == 'good' and amount_review_level == 'normal'\"))),\n",
    "        int(len(amazon_data.query(\"quality == 'good' and amount_review_level == 'high'\"))),\n",
    "        int(len(amazon_data.query(\"quality == 'good' and amount_review_level == 'very high'\")))\n",
    "    ], \n",
    "    \"excellent\": [\n",
    "        int(len(amazon_data.query(\"quality == 'excellent' and amount_review_level == 'low'\"))),\n",
    "        int(len(amazon_data.query(\"quality == 'excellent' and amount_review_level == 'normal'\"))),\n",
    "        int(len(amazon_data.query(\"quality == 'excellent' and amount_review_level == 'high'\"))),\n",
    "        int(len(amazon_data.query(\"quality == 'excellent' and amount_review_level == 'very high'\")))\n",
    "    ]\n",
    "}"
   ]
  },
  {
   "cell_type": "code",
   "execution_count": 238,
   "id": "b9149537-4da2-48b6-ae88-04c6c4bd2562",
   "metadata": {},
   "outputs": [
    {
     "data": {
      "text/plain": [
       "{'pretty_bad': [69, 62, 75, 0],\n",
       " 'normal': [47, 41, 46, 50],\n",
       " 'good': [144, 93, 104, 77],\n",
       " 'excellent': [31, 15, 17, 14]}"
      ]
     },
     "execution_count": 238,
     "metadata": {},
     "output_type": "execute_result"
    }
   ],
   "source": [
    "chi2_rating_review_count"
   ]
  },
  {
   "cell_type": "code",
   "execution_count": 240,
   "id": "7654b868-785b-4dcd-afd4-a7af070ddc6c",
   "metadata": {},
   "outputs": [],
   "source": [
    "chi2_rating_review_count = pd.DataFrame(chi2_rating_review_count)"
   ]
  },
  {
   "cell_type": "code",
   "execution_count": 242,
   "id": "624d83a9-e9b9-4fb1-9bff-ba83db761f5a",
   "metadata": {},
   "outputs": [],
   "source": [
    "chi2_rating_review_count.to_csv(\"C:/Users/ADMIN/BAOHUY/Phan_tich_du_lieu/chi2_rating_review_count.csv\")"
   ]
  },
  {
   "cell_type": "code",
   "execution_count": null,
   "id": "15f4a6d4-3633-4c39-a6e2-76a67557a9f6",
   "metadata": {},
   "outputs": [],
   "source": []
  }
 ],
 "metadata": {
  "kernelspec": {
   "display_name": "Python 3 (ipykernel)",
   "language": "python",
   "name": "python3"
  },
  "language_info": {
   "codemirror_mode": {
    "name": "ipython",
    "version": 3
   },
   "file_extension": ".py",
   "mimetype": "text/x-python",
   "name": "python",
   "nbconvert_exporter": "python",
   "pygments_lexer": "ipython3",
   "version": "3.12.4"
  }
 },
 "nbformat": 4,
 "nbformat_minor": 5
}

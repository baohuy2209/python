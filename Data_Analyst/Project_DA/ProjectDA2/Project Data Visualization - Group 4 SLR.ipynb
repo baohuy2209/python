{
 "cells": [
  {
   "cell_type": "markdown",
   "metadata": {},
   "source": [
    "<h1 style=\" text-align : center;  font-family: 'JetBrains Mono'; color: purple;\"><b>GROUP4- GLOBAL DATA SCIENCE SALARIES AMID 2020 - 2024 DATAVISUALIZATION </b></h1>\n"
   ]
  },
  {
   "cell_type": "code",
   "execution_count": null,
   "metadata": {},
   "outputs": [],
   "source": []
  },
  {
   "cell_type": "code",
   "execution_count": 47,
   "metadata": {},
   "outputs": [
    {
     "name": "stdout",
     "output_type": "stream",
     "text": [
      "Defaulting to user installation because normal site-packages is not writeable\n",
      "Requirement already satisfied: pycountry in c:\\users\\phath\\appdata\\roaming\\python\\python312\\site-packages (24.6.1)\n",
      "Defaulting to user installation because normal site-packages is not writeable\n",
      "Requirement already satisfied: country_converter in c:\\users\\phath\\appdata\\roaming\\python\\python312\\site-packages (1.2)\n",
      "Requirement already satisfied: pandas>=1.0 in c:\\users\\phath\\appdata\\roaming\\python\\python312\\site-packages (from country_converter) (2.2.3)\n",
      "Requirement already satisfied: numpy>=1.26.0 in c:\\programdata\\anaconda3\\lib\\site-packages (from pandas>=1.0->country_converter) (1.26.4)\n",
      "Requirement already satisfied: python-dateutil>=2.8.2 in c:\\programdata\\anaconda3\\lib\\site-packages (from pandas>=1.0->country_converter) (2.9.0.post0)\n",
      "Requirement already satisfied: pytz>=2020.1 in c:\\programdata\\anaconda3\\lib\\site-packages (from pandas>=1.0->country_converter) (2024.1)\n",
      "Requirement already satisfied: tzdata>=2022.7 in c:\\programdata\\anaconda3\\lib\\site-packages (from pandas>=1.0->country_converter) (2023.3)\n",
      "Requirement already satisfied: six>=1.5 in c:\\programdata\\anaconda3\\lib\\site-packages (from python-dateutil>=2.8.2->pandas>=1.0->country_converter) (1.16.0)\n"
     ]
    }
   ],
   "source": [
    "!pip install pycountry\n",
    "!pip install country_converter"
   ]
  },
  {
   "cell_type": "code",
   "execution_count": 1,
   "metadata": {},
   "outputs": [
    {
     "ename": "ModuleNotFoundError",
     "evalue": "No module named 'plotly'",
     "output_type": "error",
     "traceback": [
      "\u001b[1;31m---------------------------------------------------------------------------\u001b[0m",
      "\u001b[1;31mModuleNotFoundError\u001b[0m                       Traceback (most recent call last)",
      "Cell \u001b[1;32mIn[1], line 6\u001b[0m\n\u001b[0;32m      4\u001b[0m \u001b[38;5;66;03m# Visualization\u001b[39;00m\n\u001b[0;32m      5\u001b[0m \u001b[38;5;28;01mimport\u001b[39;00m \u001b[38;5;21;01mmatplotlib\u001b[39;00m\u001b[38;5;21;01m.\u001b[39;00m\u001b[38;5;21;01mpyplot\u001b[39;00m \u001b[38;5;28;01mas\u001b[39;00m \u001b[38;5;21;01mplt\u001b[39;00m\n\u001b[1;32m----> 6\u001b[0m \u001b[38;5;28;01mimport\u001b[39;00m \u001b[38;5;21;01mplotly\u001b[39;00m\u001b[38;5;21;01m.\u001b[39;00m\u001b[38;5;21;01mexpress\u001b[39;00m \u001b[38;5;28;01mas\u001b[39;00m \u001b[38;5;21;01mpx\u001b[39;00m\n\u001b[0;32m      7\u001b[0m \u001b[38;5;28;01mimport\u001b[39;00m \u001b[38;5;21;01mplotly\u001b[39;00m\u001b[38;5;21;01m.\u001b[39;00m\u001b[38;5;21;01mfigure_factory\u001b[39;00m \u001b[38;5;28;01mas\u001b[39;00m \u001b[38;5;21;01mff\u001b[39;00m\n\u001b[0;32m      8\u001b[0m \u001b[38;5;28;01mimport\u001b[39;00m \u001b[38;5;21;01mplotly\u001b[39;00m\u001b[38;5;21;01m.\u001b[39;00m\u001b[38;5;21;01mgraph_objects\u001b[39;00m \u001b[38;5;28;01mas\u001b[39;00m \u001b[38;5;21;01mgo\u001b[39;00m\n",
      "\u001b[1;31mModuleNotFoundError\u001b[0m: No module named 'plotly'"
     ]
    }
   ],
   "source": [
    "import pandas as pd\n",
    "import numpy as np\n",
    "\n",
    "# Visualization\n",
    "import matplotlib.pyplot as plt\n",
    "import plotly.express as px\n",
    "import plotly.figure_factory as ff\n",
    "import plotly.graph_objects as go\n",
    "from plotly.offline import iplot\n",
    "from wordcloud import WordCloud\n",
    "\n",
    "# Geocoding\n",
    "from geopy.geocoders import Nominatim\n",
    "from geopy.exc import GeocoderTimedOut\n",
    "\n",
    "# Text processing\n",
    "import nltk\n",
    "\n",
    "# Country information\n",
    "import pycountry\n",
    "import country_converter as coco\n",
    "\n",
    "# Warnings\n",
    "import warnings\n",
    "warnings.filterwarnings(\"ignore\")\n",
    "\n",
    "# Rich console output\n",
    "from rich.theme import Theme\n",
    "from rich.console import Console\n",
    "\n",
    "# For handling time in geocoding operations\n",
    "import time\n",
    "\n",
    "import networkx as nx"
   ]
  },
  {
   "cell_type": "markdown",
   "metadata": {},
   "source": [
    "<h3 style=\"text-align: left; font-family: 'Jetbrains Mono'; color: black;\"><b></b></h3>\n"
   ]
  },
  {
   "cell_type": "code",
   "execution_count": 70,
   "metadata": {},
   "outputs": [
    {
     "data": {
      "application/vnd.plotly.v1+json": {
       "config": {
        "plotlyServerURL": "https://plot.ly"
       },
       "data": [
        {
         "cells": {
          "align": "center",
          "fill": {
           "color": "lavender"
          },
          "font": {
           "size": 20
          },
          "height": 35,
          "line": {
           "color": "darkslategrey"
          },
          "values": [
           [
            "Huỳnh Anh Khoa<br>Trần Nguyễn Diễm Kiều<br>Trần Thảo Nguyên<br>Trương Nhã Phương<br>Đàm Quang Minh<br>Huỳnh Tấn Phát<br>Nguyễn Hoàng Quân"
           ],
           [
            "K234131600<br>K214132029<br>K214131335<br>K214132034<br>K234131616<br>K234131613<br>K234131608"
           ],
           [
            "Content<br>Content<br>Content<br>Content<br>Coding<br>Coding<br>Content"
           ]
          ]
         },
         "header": {
          "align": "center",
          "fill": {
           "color": "lightskyblue"
          },
          "font": {
           "size": 18
          },
          "line": {
           "color": "black"
          },
          "values": [
           "<b>FULL NAME</b>",
           "<b>STUDENT ID</b>",
           "<b>ROLE</b>"
          ]
         },
         "type": "table"
        }
       ],
       "layout": {
        "height": 1000,
        "paper_bgcolor": "rgba(0, 0, 0, 0)",
        "plot_bgcolor": "rgba(0, 0, 0, 0)",
        "template": {
         "data": {
          "bar": [
           {
            "error_x": {
             "color": "#2a3f5f"
            },
            "error_y": {
             "color": "#2a3f5f"
            },
            "marker": {
             "line": {
              "color": "#E5ECF6",
              "width": 0.5
             },
             "pattern": {
              "fillmode": "overlay",
              "size": 10,
              "solidity": 0.2
             }
            },
            "type": "bar"
           }
          ],
          "barpolar": [
           {
            "marker": {
             "line": {
              "color": "#E5ECF6",
              "width": 0.5
             },
             "pattern": {
              "fillmode": "overlay",
              "size": 10,
              "solidity": 0.2
             }
            },
            "type": "barpolar"
           }
          ],
          "carpet": [
           {
            "aaxis": {
             "endlinecolor": "#2a3f5f",
             "gridcolor": "white",
             "linecolor": "white",
             "minorgridcolor": "white",
             "startlinecolor": "#2a3f5f"
            },
            "baxis": {
             "endlinecolor": "#2a3f5f",
             "gridcolor": "white",
             "linecolor": "white",
             "minorgridcolor": "white",
             "startlinecolor": "#2a3f5f"
            },
            "type": "carpet"
           }
          ],
          "choropleth": [
           {
            "colorbar": {
             "outlinewidth": 0,
             "ticks": ""
            },
            "type": "choropleth"
           }
          ],
          "contour": [
           {
            "colorbar": {
             "outlinewidth": 0,
             "ticks": ""
            },
            "colorscale": [
             [
              0,
              "#0d0887"
             ],
             [
              0.1111111111111111,
              "#46039f"
             ],
             [
              0.2222222222222222,
              "#7201a8"
             ],
             [
              0.3333333333333333,
              "#9c179e"
             ],
             [
              0.4444444444444444,
              "#bd3786"
             ],
             [
              0.5555555555555556,
              "#d8576b"
             ],
             [
              0.6666666666666666,
              "#ed7953"
             ],
             [
              0.7777777777777778,
              "#fb9f3a"
             ],
             [
              0.8888888888888888,
              "#fdca26"
             ],
             [
              1,
              "#f0f921"
             ]
            ],
            "type": "contour"
           }
          ],
          "contourcarpet": [
           {
            "colorbar": {
             "outlinewidth": 0,
             "ticks": ""
            },
            "type": "contourcarpet"
           }
          ],
          "heatmap": [
           {
            "colorbar": {
             "outlinewidth": 0,
             "ticks": ""
            },
            "colorscale": [
             [
              0,
              "#0d0887"
             ],
             [
              0.1111111111111111,
              "#46039f"
             ],
             [
              0.2222222222222222,
              "#7201a8"
             ],
             [
              0.3333333333333333,
              "#9c179e"
             ],
             [
              0.4444444444444444,
              "#bd3786"
             ],
             [
              0.5555555555555556,
              "#d8576b"
             ],
             [
              0.6666666666666666,
              "#ed7953"
             ],
             [
              0.7777777777777778,
              "#fb9f3a"
             ],
             [
              0.8888888888888888,
              "#fdca26"
             ],
             [
              1,
              "#f0f921"
             ]
            ],
            "type": "heatmap"
           }
          ],
          "heatmapgl": [
           {
            "colorbar": {
             "outlinewidth": 0,
             "ticks": ""
            },
            "colorscale": [
             [
              0,
              "#0d0887"
             ],
             [
              0.1111111111111111,
              "#46039f"
             ],
             [
              0.2222222222222222,
              "#7201a8"
             ],
             [
              0.3333333333333333,
              "#9c179e"
             ],
             [
              0.4444444444444444,
              "#bd3786"
             ],
             [
              0.5555555555555556,
              "#d8576b"
             ],
             [
              0.6666666666666666,
              "#ed7953"
             ],
             [
              0.7777777777777778,
              "#fb9f3a"
             ],
             [
              0.8888888888888888,
              "#fdca26"
             ],
             [
              1,
              "#f0f921"
             ]
            ],
            "type": "heatmapgl"
           }
          ],
          "histogram": [
           {
            "marker": {
             "pattern": {
              "fillmode": "overlay",
              "size": 10,
              "solidity": 0.2
             }
            },
            "type": "histogram"
           }
          ],
          "histogram2d": [
           {
            "colorbar": {
             "outlinewidth": 0,
             "ticks": ""
            },
            "colorscale": [
             [
              0,
              "#0d0887"
             ],
             [
              0.1111111111111111,
              "#46039f"
             ],
             [
              0.2222222222222222,
              "#7201a8"
             ],
             [
              0.3333333333333333,
              "#9c179e"
             ],
             [
              0.4444444444444444,
              "#bd3786"
             ],
             [
              0.5555555555555556,
              "#d8576b"
             ],
             [
              0.6666666666666666,
              "#ed7953"
             ],
             [
              0.7777777777777778,
              "#fb9f3a"
             ],
             [
              0.8888888888888888,
              "#fdca26"
             ],
             [
              1,
              "#f0f921"
             ]
            ],
            "type": "histogram2d"
           }
          ],
          "histogram2dcontour": [
           {
            "colorbar": {
             "outlinewidth": 0,
             "ticks": ""
            },
            "colorscale": [
             [
              0,
              "#0d0887"
             ],
             [
              0.1111111111111111,
              "#46039f"
             ],
             [
              0.2222222222222222,
              "#7201a8"
             ],
             [
              0.3333333333333333,
              "#9c179e"
             ],
             [
              0.4444444444444444,
              "#bd3786"
             ],
             [
              0.5555555555555556,
              "#d8576b"
             ],
             [
              0.6666666666666666,
              "#ed7953"
             ],
             [
              0.7777777777777778,
              "#fb9f3a"
             ],
             [
              0.8888888888888888,
              "#fdca26"
             ],
             [
              1,
              "#f0f921"
             ]
            ],
            "type": "histogram2dcontour"
           }
          ],
          "mesh3d": [
           {
            "colorbar": {
             "outlinewidth": 0,
             "ticks": ""
            },
            "type": "mesh3d"
           }
          ],
          "parcoords": [
           {
            "line": {
             "colorbar": {
              "outlinewidth": 0,
              "ticks": ""
             }
            },
            "type": "parcoords"
           }
          ],
          "pie": [
           {
            "automargin": true,
            "type": "pie"
           }
          ],
          "scatter": [
           {
            "fillpattern": {
             "fillmode": "overlay",
             "size": 10,
             "solidity": 0.2
            },
            "type": "scatter"
           }
          ],
          "scatter3d": [
           {
            "line": {
             "colorbar": {
              "outlinewidth": 0,
              "ticks": ""
             }
            },
            "marker": {
             "colorbar": {
              "outlinewidth": 0,
              "ticks": ""
             }
            },
            "type": "scatter3d"
           }
          ],
          "scattercarpet": [
           {
            "marker": {
             "colorbar": {
              "outlinewidth": 0,
              "ticks": ""
             }
            },
            "type": "scattercarpet"
           }
          ],
          "scattergeo": [
           {
            "marker": {
             "colorbar": {
              "outlinewidth": 0,
              "ticks": ""
             }
            },
            "type": "scattergeo"
           }
          ],
          "scattergl": [
           {
            "marker": {
             "colorbar": {
              "outlinewidth": 0,
              "ticks": ""
             }
            },
            "type": "scattergl"
           }
          ],
          "scattermapbox": [
           {
            "marker": {
             "colorbar": {
              "outlinewidth": 0,
              "ticks": ""
             }
            },
            "type": "scattermapbox"
           }
          ],
          "scatterpolar": [
           {
            "marker": {
             "colorbar": {
              "outlinewidth": 0,
              "ticks": ""
             }
            },
            "type": "scatterpolar"
           }
          ],
          "scatterpolargl": [
           {
            "marker": {
             "colorbar": {
              "outlinewidth": 0,
              "ticks": ""
             }
            },
            "type": "scatterpolargl"
           }
          ],
          "scatterternary": [
           {
            "marker": {
             "colorbar": {
              "outlinewidth": 0,
              "ticks": ""
             }
            },
            "type": "scatterternary"
           }
          ],
          "surface": [
           {
            "colorbar": {
             "outlinewidth": 0,
             "ticks": ""
            },
            "colorscale": [
             [
              0,
              "#0d0887"
             ],
             [
              0.1111111111111111,
              "#46039f"
             ],
             [
              0.2222222222222222,
              "#7201a8"
             ],
             [
              0.3333333333333333,
              "#9c179e"
             ],
             [
              0.4444444444444444,
              "#bd3786"
             ],
             [
              0.5555555555555556,
              "#d8576b"
             ],
             [
              0.6666666666666666,
              "#ed7953"
             ],
             [
              0.7777777777777778,
              "#fb9f3a"
             ],
             [
              0.8888888888888888,
              "#fdca26"
             ],
             [
              1,
              "#f0f921"
             ]
            ],
            "type": "surface"
           }
          ],
          "table": [
           {
            "cells": {
             "fill": {
              "color": "#EBF0F8"
             },
             "line": {
              "color": "white"
             }
            },
            "header": {
             "fill": {
              "color": "#C8D4E3"
             },
             "line": {
              "color": "white"
             }
            },
            "type": "table"
           }
          ]
         },
         "layout": {
          "annotationdefaults": {
           "arrowcolor": "#2a3f5f",
           "arrowhead": 0,
           "arrowwidth": 1
          },
          "autotypenumbers": "strict",
          "coloraxis": {
           "colorbar": {
            "outlinewidth": 0,
            "ticks": ""
           }
          },
          "colorscale": {
           "diverging": [
            [
             0,
             "#8e0152"
            ],
            [
             0.1,
             "#c51b7d"
            ],
            [
             0.2,
             "#de77ae"
            ],
            [
             0.3,
             "#f1b6da"
            ],
            [
             0.4,
             "#fde0ef"
            ],
            [
             0.5,
             "#f7f7f7"
            ],
            [
             0.6,
             "#e6f5d0"
            ],
            [
             0.7,
             "#b8e186"
            ],
            [
             0.8,
             "#7fbc41"
            ],
            [
             0.9,
             "#4d9221"
            ],
            [
             1,
             "#276419"
            ]
           ],
           "sequential": [
            [
             0,
             "#0d0887"
            ],
            [
             0.1111111111111111,
             "#46039f"
            ],
            [
             0.2222222222222222,
             "#7201a8"
            ],
            [
             0.3333333333333333,
             "#9c179e"
            ],
            [
             0.4444444444444444,
             "#bd3786"
            ],
            [
             0.5555555555555556,
             "#d8576b"
            ],
            [
             0.6666666666666666,
             "#ed7953"
            ],
            [
             0.7777777777777778,
             "#fb9f3a"
            ],
            [
             0.8888888888888888,
             "#fdca26"
            ],
            [
             1,
             "#f0f921"
            ]
           ],
           "sequentialminus": [
            [
             0,
             "#0d0887"
            ],
            [
             0.1111111111111111,
             "#46039f"
            ],
            [
             0.2222222222222222,
             "#7201a8"
            ],
            [
             0.3333333333333333,
             "#9c179e"
            ],
            [
             0.4444444444444444,
             "#bd3786"
            ],
            [
             0.5555555555555556,
             "#d8576b"
            ],
            [
             0.6666666666666666,
             "#ed7953"
            ],
            [
             0.7777777777777778,
             "#fb9f3a"
            ],
            [
             0.8888888888888888,
             "#fdca26"
            ],
            [
             1,
             "#f0f921"
            ]
           ]
          },
          "colorway": [
           "#636efa",
           "#EF553B",
           "#00cc96",
           "#ab63fa",
           "#FFA15A",
           "#19d3f3",
           "#FF6692",
           "#B6E880",
           "#FF97FF",
           "#FECB52"
          ],
          "font": {
           "color": "#2a3f5f"
          },
          "geo": {
           "bgcolor": "white",
           "lakecolor": "white",
           "landcolor": "#E5ECF6",
           "showlakes": true,
           "showland": true,
           "subunitcolor": "white"
          },
          "hoverlabel": {
           "align": "left"
          },
          "hovermode": "closest",
          "mapbox": {
           "style": "light"
          },
          "paper_bgcolor": "white",
          "plot_bgcolor": "#E5ECF6",
          "polar": {
           "angularaxis": {
            "gridcolor": "white",
            "linecolor": "white",
            "ticks": ""
           },
           "bgcolor": "#E5ECF6",
           "radialaxis": {
            "gridcolor": "white",
            "linecolor": "white",
            "ticks": ""
           }
          },
          "scene": {
           "xaxis": {
            "backgroundcolor": "#E5ECF6",
            "gridcolor": "white",
            "gridwidth": 2,
            "linecolor": "white",
            "showbackground": true,
            "ticks": "",
            "zerolinecolor": "white"
           },
           "yaxis": {
            "backgroundcolor": "#E5ECF6",
            "gridcolor": "white",
            "gridwidth": 2,
            "linecolor": "white",
            "showbackground": true,
            "ticks": "",
            "zerolinecolor": "white"
           },
           "zaxis": {
            "backgroundcolor": "#E5ECF6",
            "gridcolor": "white",
            "gridwidth": 2,
            "linecolor": "white",
            "showbackground": true,
            "ticks": "",
            "zerolinecolor": "white"
           }
          },
          "shapedefaults": {
           "line": {
            "color": "#2a3f5f"
           }
          },
          "ternary": {
           "aaxis": {
            "gridcolor": "white",
            "linecolor": "white",
            "ticks": ""
           },
           "baxis": {
            "gridcolor": "white",
            "linecolor": "white",
            "ticks": ""
           },
           "bgcolor": "#E5ECF6",
           "caxis": {
            "gridcolor": "white",
            "linecolor": "white",
            "ticks": ""
           }
          },
          "title": {
           "x": 0.05
          },
          "xaxis": {
           "automargin": true,
           "gridcolor": "white",
           "linecolor": "white",
           "ticks": "",
           "title": {
            "standoff": 15
           },
           "zerolinecolor": "white",
           "zerolinewidth": 2
          },
          "yaxis": {
           "automargin": true,
           "gridcolor": "white",
           "linecolor": "white",
           "ticks": "",
           "title": {
            "standoff": 15
           },
           "zerolinecolor": "white",
           "zerolinewidth": 2
          }
         }
        },
        "title": {
         "font": {
          "size": 30
         },
         "text": "<b>GROUP 4</b>",
         "x": 0.5,
         "y": 0.95
        },
        "width": 1000
       }
      },
      "image/png": "[encoded data removed]",
      "text/html": [
       "<div>                            <div id=\"f5ba4626-1d2d-46fa-8a2b-49dc458dd52e\" class=\"plotly-graph-div\" style=\"height:1000px; width:1000px;\"></div>            <script type=\"text/javascript\">                require([\"plotly\"], function(Plotly) {                    window.PLOTLYENV=window.PLOTLYENV || {};                                    if (document.getElementById(\"f5ba4626-1d2d-46fa-8a2b-49dc458dd52e\")) {                    Plotly.newPlot(                        \"f5ba4626-1d2d-46fa-8a2b-49dc458dd52e\",                        [{\"cells\":{\"align\":\"center\",\"fill\":{\"color\":\"lavender\"},\"font\":{\"size\":20},\"height\":35,\"line\":{\"color\":\"darkslategrey\"},\"values\":[[\"Hu\\u1ef3nh Anh Khoa\\u003cbr\\u003eTr\\u1ea7n Nguy\\u1ec5n Di\\u1ec5m Ki\\u1ec1u\\u003cbr\\u003eTr\\u1ea7n Th\\u1ea3o Nguy\\u00ean\\u003cbr\\u003eTr\\u01b0\\u01a1ng Nh\\u00e3 Ph\\u01b0\\u01a1ng\\u003cbr\\u003e\\u0110\\u00e0m Quang Minh\\u003cbr\\u003eHu\\u1ef3nh T\\u1ea5n Ph\\u00e1t\\u003cbr\\u003eNguy\\u1ec5n Ho\\u00e0ng Qu\\u00e2n\"],[\"K234131600\\u003cbr\\u003eK214132029\\u003cbr\\u003eK214131335\\u003cbr\\u003eK214132034\\u003cbr\\u003eK234131616\\u003cbr\\u003eK234131613\\u003cbr\\u003eK234131608\"],[\"Content\\u003cbr\\u003eContent\\u003cbr\\u003eContent\\u003cbr\\u003eContent\\u003cbr\\u003eCoding\\u003cbr\\u003eCoding\\u003cbr\\u003eContent\"]]},\"header\":{\"align\":\"center\",\"fill\":{\"color\":\"lightskyblue\"},\"font\":{\"size\":18},\"line\":{\"color\":\"black\"},\"values\":[\"\\u003cb\\u003eFULL NAME\\u003c\\u002fb\\u003e\",\"\\u003cb\\u003eSTUDENT ID\\u003c\\u002fb\\u003e\",\"\\u003cb\\u003eROLE\\u003c\\u002fb\\u003e\"]},\"type\":\"table\"}],                        {\"template\":{\"data\":{\"histogram2dcontour\":[{\"type\":\"histogram2dcontour\",\"colorbar\":{\"outlinewidth\":0,\"ticks\":\"\"},\"colorscale\":[[0.0,\"#0d0887\"],[0.1111111111111111,\"#46039f\"],[0.2222222222222222,\"#7201a8\"],[0.3333333333333333,\"#9c179e\"],[0.4444444444444444,\"#bd3786\"],[0.5555555555555556,\"#d8576b\"],[0.6666666666666666,\"#ed7953\"],[0.7777777777777778,\"#fb9f3a\"],[0.8888888888888888,\"#fdca26\"],[1.0,\"#f0f921\"]]}],\"choropleth\":[{\"type\":\"choropleth\",\"colorbar\":{\"outlinewidth\":0,\"ticks\":\"\"}}],\"histogram2d\":[{\"type\":\"histogram2d\",\"colorbar\":{\"outlinewidth\":0,\"ticks\":\"\"},\"colorscale\":[[0.0,\"#0d0887\"],[0.1111111111111111,\"#46039f\"],[0.2222222222222222,\"#7201a8\"],[0.3333333333333333,\"#9c179e\"],[0.4444444444444444,\"#bd3786\"],[0.5555555555555556,\"#d8576b\"],[0.6666666666666666,\"#ed7953\"],[0.7777777777777778,\"#fb9f3a\"],[0.8888888888888888,\"#fdca26\"],[1.0,\"#f0f921\"]]}],\"heatmap\":[{\"type\":\"heatmap\",\"colorbar\":{\"outlinewidth\":0,\"ticks\":\"\"},\"colorscale\":[[0.0,\"#0d0887\"],[0.1111111111111111,\"#46039f\"],[0.2222222222222222,\"#7201a8\"],[0.3333333333333333,\"#9c179e\"],[0.4444444444444444,\"#bd3786\"],[0.5555555555555556,\"#d8576b\"],[0.6666666666666666,\"#ed7953\"],[0.7777777777777778,\"#fb9f3a\"],[0.8888888888888888,\"#fdca26\"],[1.0,\"#f0f921\"]]}],\"heatmapgl\":[{\"type\":\"heatmapgl\",\"colorbar\":{\"outlinewidth\":0,\"ticks\":\"\"},\"colorscale\":[[0.0,\"#0d0887\"],[0.1111111111111111,\"#46039f\"],[0.2222222222222222,\"#7201a8\"],[0.3333333333333333,\"#9c179e\"],[0.4444444444444444,\"#bd3786\"],[0.5555555555555556,\"#d8576b\"],[0.6666666666666666,\"#ed7953\"],[0.7777777777777778,\"#fb9f3a\"],[0.8888888888888888,\"#fdca26\"],[1.0,\"#f0f921\"]]}],\"contourcarpet\":[{\"type\":\"contourcarpet\",\"colorbar\":{\"outlinewidth\":0,\"ticks\":\"\"}}],\"contour\":[{\"type\":\"contour\",\"colorbar\":{\"outlinewidth\":0,\"ticks\":\"\"},\"colorscale\":[[0.0,\"#0d0887\"],[0.1111111111111111,\"#46039f\"],[0.2222222222222222,\"#7201a8\"],[0.3333333333333333,\"#9c179e\"],[0.4444444444444444,\"#bd3786\"],[0.5555555555555556,\"#d8576b\"],[0.6666666666666666,\"#ed7953\"],[0.7777777777777778,\"#fb9f3a\"],[0.8888888888888888,\"#fdca26\"],[1.0,\"#f0f921\"]]}],\"surface\":[{\"type\":\"surface\",\"colorbar\":{\"outlinewidth\":0,\"ticks\":\"\"},\"colorscale\":[[0.0,\"#0d0887\"],[0.1111111111111111,\"#46039f\"],[0.2222222222222222,\"#7201a8\"],[0.3333333333333333,\"#9c179e\"],[0.4444444444444444,\"#bd3786\"],[0.5555555555555556,\"#d8576b\"],[0.6666666666666666,\"#ed7953\"],[0.7777777777777778,\"#fb9f3a\"],[0.8888888888888888,\"#fdca26\"],[1.0,\"#f0f921\"]]}],\"mesh3d\":[{\"type\":\"mesh3d\",\"colorbar\":{\"outlinewidth\":0,\"ticks\":\"\"}}],\"scatter\":[{\"fillpattern\":{\"fillmode\":\"overlay\",\"size\":10,\"solidity\":0.2},\"type\":\"scatter\"}],\"parcoords\":[{\"type\":\"parcoords\",\"line\":{\"colorbar\":{\"outlinewidth\":0,\"ticks\":\"\"}}}],\"scatterpolargl\":[{\"type\":\"scatterpolargl\",\"marker\":{\"colorbar\":{\"outlinewidth\":0,\"ticks\":\"\"}}}],\"bar\":[{\"error_x\":{\"color\":\"#2a3f5f\"},\"error_y\":{\"color\":\"#2a3f5f\"},\"marker\":{\"line\":{\"color\":\"#E5ECF6\",\"width\":0.5},\"pattern\":{\"fillmode\":\"overlay\",\"size\":10,\"solidity\":0.2}},\"type\":\"bar\"}],\"scattergeo\":[{\"type\":\"scattergeo\",\"marker\":{\"colorbar\":{\"outlinewidth\":0,\"ticks\":\"\"}}}],\"scatterpolar\":[{\"type\":\"scatterpolar\",\"marker\":{\"colorbar\":{\"outlinewidth\":0,\"ticks\":\"\"}}}],\"histogram\":[{\"marker\":{\"pattern\":{\"fillmode\":\"overlay\",\"size\":10,\"solidity\":0.2}},\"type\":\"histogram\"}],\"scattergl\":[{\"type\":\"scattergl\",\"marker\":{\"colorbar\":{\"outlinewidth\":0,\"ticks\":\"\"}}}],\"scatter3d\":[{\"type\":\"scatter3d\",\"line\":{\"colorbar\":{\"outlinewidth\":0,\"ticks\":\"\"}},\"marker\":{\"colorbar\":{\"outlinewidth\":0,\"ticks\":\"\"}}}],\"scattermapbox\":[{\"type\":\"scattermapbox\",\"marker\":{\"colorbar\":{\"outlinewidth\":0,\"ticks\":\"\"}}}],\"scatterternary\":[{\"type\":\"scatterternary\",\"marker\":{\"colorbar\":{\"outlinewidth\":0,\"ticks\":\"\"}}}],\"scattercarpet\":[{\"type\":\"scattercarpet\",\"marker\":{\"colorbar\":{\"outlinewidth\":0,\"ticks\":\"\"}}}],\"carpet\":[{\"aaxis\":{\"endlinecolor\":\"#2a3f5f\",\"gridcolor\":\"white\",\"linecolor\":\"white\",\"minorgridcolor\":\"white\",\"startlinecolor\":\"#2a3f5f\"},\"baxis\":{\"endlinecolor\":\"#2a3f5f\",\"gridcolor\":\"white\",\"linecolor\":\"white\",\"minorgridcolor\":\"white\",\"startlinecolor\":\"#2a3f5f\"},\"type\":\"carpet\"}],\"table\":[{\"cells\":{\"fill\":{\"color\":\"#EBF0F8\"},\"line\":{\"color\":\"white\"}},\"header\":{\"fill\":{\"color\":\"#C8D4E3\"},\"line\":{\"color\":\"white\"}},\"type\":\"table\"}],\"barpolar\":[{\"marker\":{\"line\":{\"color\":\"#E5ECF6\",\"width\":0.5},\"pattern\":{\"fillmode\":\"overlay\",\"size\":10,\"solidity\":0.2}},\"type\":\"barpolar\"}],\"pie\":[{\"automargin\":true,\"type\":\"pie\"}]},\"layout\":{\"autotypenumbers\":\"strict\",\"colorway\":[\"#636efa\",\"#EF553B\",\"#00cc96\",\"#ab63fa\",\"#FFA15A\",\"#19d3f3\",\"#FF6692\",\"#B6E880\",\"#FF97FF\",\"#FECB52\"],\"font\":{\"color\":\"#2a3f5f\"},\"hovermode\":\"closest\",\"hoverlabel\":{\"align\":\"left\"},\"paper_bgcolor\":\"white\",\"plot_bgcolor\":\"#E5ECF6\",\"polar\":{\"bgcolor\":\"#E5ECF6\",\"angularaxis\":{\"gridcolor\":\"white\",\"linecolor\":\"white\",\"ticks\":\"\"},\"radialaxis\":{\"gridcolor\":\"white\",\"linecolor\":\"white\",\"ticks\":\"\"}},\"ternary\":{\"bgcolor\":\"#E5ECF6\",\"aaxis\":{\"gridcolor\":\"white\",\"linecolor\":\"white\",\"ticks\":\"\"},\"baxis\":{\"gridcolor\":\"white\",\"linecolor\":\"white\",\"ticks\":\"\"},\"caxis\":{\"gridcolor\":\"white\",\"linecolor\":\"white\",\"ticks\":\"\"}},\"coloraxis\":{\"colorbar\":{\"outlinewidth\":0,\"ticks\":\"\"}},\"colorscale\":{\"sequential\":[[0.0,\"#0d0887\"],[0.1111111111111111,\"#46039f\"],[0.2222222222222222,\"#7201a8\"],[0.3333333333333333,\"#9c179e\"],[0.4444444444444444,\"#bd3786\"],[0.5555555555555556,\"#d8576b\"],[0.6666666666666666,\"#ed7953\"],[0.7777777777777778,\"#fb9f3a\"],[0.8888888888888888,\"#fdca26\"],[1.0,\"#f0f921\"]],\"sequentialminus\":[[0.0,\"#0d0887\"],[0.1111111111111111,\"#46039f\"],[0.2222222222222222,\"#7201a8\"],[0.3333333333333333,\"#9c179e\"],[0.4444444444444444,\"#bd3786\"],[0.5555555555555556,\"#d8576b\"],[0.6666666666666666,\"#ed7953\"],[0.7777777777777778,\"#fb9f3a\"],[0.8888888888888888,\"#fdca26\"],[1.0,\"#f0f921\"]],\"diverging\":[[0,\"#8e0152\"],[0.1,\"#c51b7d\"],[0.2,\"#de77ae\"],[0.3,\"#f1b6da\"],[0.4,\"#fde0ef\"],[0.5,\"#f7f7f7\"],[0.6,\"#e6f5d0\"],[0.7,\"#b8e186\"],[0.8,\"#7fbc41\"],[0.9,\"#4d9221\"],[1,\"#276419\"]]},\"xaxis\":{\"gridcolor\":\"white\",\"linecolor\":\"white\",\"ticks\":\"\",\"title\":{\"standoff\":15},\"zerolinecolor\":\"white\",\"automargin\":true,\"zerolinewidth\":2},\"yaxis\":{\"gridcolor\":\"white\",\"linecolor\":\"white\",\"ticks\":\"\",\"title\":{\"standoff\":15},\"zerolinecolor\":\"white\",\"automargin\":true,\"zerolinewidth\":2},\"scene\":{\"xaxis\":{\"backgroundcolor\":\"#E5ECF6\",\"gridcolor\":\"white\",\"linecolor\":\"white\",\"showbackground\":true,\"ticks\":\"\",\"zerolinecolor\":\"white\",\"gridwidth\":2},\"yaxis\":{\"backgroundcolor\":\"#E5ECF6\",\"gridcolor\":\"white\",\"linecolor\":\"white\",\"showbackground\":true,\"ticks\":\"\",\"zerolinecolor\":\"white\",\"gridwidth\":2},\"zaxis\":{\"backgroundcolor\":\"#E5ECF6\",\"gridcolor\":\"white\",\"linecolor\":\"white\",\"showbackground\":true,\"ticks\":\"\",\"zerolinecolor\":\"white\",\"gridwidth\":2}},\"shapedefaults\":{\"line\":{\"color\":\"#2a3f5f\"}},\"annotationdefaults\":{\"arrowcolor\":\"#2a3f5f\",\"arrowhead\":0,\"arrowwidth\":1},\"geo\":{\"bgcolor\":\"white\",\"landcolor\":\"#E5ECF6\",\"subunitcolor\":\"white\",\"showland\":true,\"showlakes\":true,\"lakecolor\":\"white\"},\"title\":{\"x\":0.05},\"mapbox\":{\"style\":\"light\"}}},\"title\":{\"font\":{\"size\":30},\"text\":\"\\u003cb\\u003eGROUP 4\\u003c\\u002fb\\u003e\",\"x\":0.5,\"y\":0.95},\"width\":1000,\"height\":1000,\"paper_bgcolor\":\"rgba(0,0,0,0)\",\"plot_bgcolor\":\"rgba(0,0,0,0)\"},                        {\"responsive\": true}                    ).then(function(){\n",
       "                            \n",
       "var gd = document.getElementById('f5ba4626-1d2d-46fa-8a2b-49dc458dd52e');\n",
       "var x = new MutationObserver(function (mutations, observer) {{\n",
       "        var display = window.getComputedStyle(gd).display;\n",
       "        if (!display || display === 'none') {{\n",
       "            console.log([gd, 'removed!']);\n",
       "            Plotly.purge(gd);\n",
       "            observer.disconnect();\n",
       "        }}\n",
       "}});\n",
       "\n",
       "// Listen for the removal of the full notebook cells\n",
       "var notebookContainer = gd.closest('#notebook-container');\n",
       "if (notebookContainer) {{\n",
       "    x.observe(notebookContainer, {childList: true});\n",
       "}}\n",
       "\n",
       "// Listen for the clearing of the current output cell\n",
       "var outputEl = gd.closest('.output');\n",
       "if (outputEl) {{\n",
       "    x.observe(outputEl, {childList: true});\n",
       "}}\n",
       "\n",
       "                        })                };                });            </script>        </div>"
      ]
     },
     "metadata": {},
     "output_type": "display_data"
    }
   ],
   "source": [
    "\n",
    "names = ['Huỳnh Anh Khoa', 'Trần Nguyễn Diễm Kiều', 'Trần Thảo Nguyên', 'Trương Nhã Phương', 'Đàm Quang Minh', 'Huỳnh Tấn Phát', 'Nguyễn Hoàng Quân']\n",
    "ids = ['K234131600', 'K214132029', 'K214131335', 'K214132034', 'K234131616', 'K234131613', 'K234131608']\n",
    "roles = ['Content', 'Content', 'Content', 'Content', 'Coding', 'Coding', 'Content']\n",
    "merged_name = '<br>'.join(names)\n",
    "merged_id = '<br>'.join(ids)\n",
    "merged_role = '<br>'.join(roles)\n",
    "\n",
    "new_names = [merged_name]\n",
    "new_ids = [merged_id]\n",
    "new_roles = [merged_role]\n",
    "\n",
    "# Increase font size and height for a larger table, and center-align all text\n",
    "fig = go.Figure(data=[go.Table(\n",
    "    header=dict(values=['<b>FULL NAME</b>', '<b>STUDENT ID</b>', '<b>ROLE</b>'],\n",
    "                line_color='black',\n",
    "                fill_color='lightskyblue',\n",
    "                align='center',  \n",
    "                font=dict(size=18)),\n",
    "    cells=dict(values=[new_names, new_ids, new_roles],\n",
    "               line_color='darkslategrey',\n",
    "               fill_color='lavender',\n",
    "               align='center',  #\n",
    "               font=dict(size=20),\n",
    "               height=35))\n",
    "])\n",
    "\n",
    "fig.update_layout(\n",
    "    width=1000, \n",
    "    height=1000,  \n",
    "    paper_bgcolor='rgba(0,0,0,0)',\n",
    "    plot_bgcolor='rgba(0,0,0,0)',\n",
    "    title=dict(\n",
    "        text='<b>GROUP 4</b>',\n",
    "        x=0.5,\n",
    "        y=0.95,\n",
    "        font=dict(\n",
    "            size=30  \n",
    "    )\n",
    "))\n",
    "\n",
    "fig.show()\n"
   ]
  },
  {
   "cell_type": "code",
   "execution_count": 9,
   "metadata": {},
   "outputs": [
    {
     "data": {
      "text/html": [
       "<div>\n",
       "<style scoped>\n",
       "    .dataframe tbody tr th:only-of-type {\n",
       "        vertical-align: middle;\n",
       "    }\n",
       "\n",
       "    .dataframe tbody tr th {\n",
       "        vertical-align: top;\n",
       "    }\n",
       "\n",
       "    .dataframe thead th {\n",
       "        text-align: right;\n",
       "    }\n",
       "</style>\n",
       "<table border=\"1\" class=\"dataframe\">\n",
       "  <thead>\n",
       "    <tr style=\"text-align: right;\">\n",
       "      <th></th>\n",
       "      <th>work_year</th>\n",
       "      <th>experience_level</th>\n",
       "      <th>employment_type</th>\n",
       "      <th>job_title</th>\n",
       "      <th>salary</th>\n",
       "      <th>salary_currency</th>\n",
       "      <th>salary_in_usd</th>\n",
       "      <th>employee_residence</th>\n",
       "      <th>remote_ratio</th>\n",
       "      <th>company_location</th>\n",
       "      <th>company_size</th>\n",
       "    </tr>\n",
       "  </thead>\n",
       "  <tbody>\n",
       "    <tr>\n",
       "      <th>0</th>\n",
       "      <td>2021</td>\n",
       "      <td>MI</td>\n",
       "      <td>FT</td>\n",
       "      <td>Data Scientist</td>\n",
       "      <td>30400000</td>\n",
       "      <td>CLP</td>\n",
       "      <td>40038</td>\n",
       "      <td>CL</td>\n",
       "      <td>100</td>\n",
       "      <td>CL</td>\n",
       "      <td>L</td>\n",
       "    </tr>\n",
       "    <tr>\n",
       "      <th>1</th>\n",
       "      <td>2021</td>\n",
       "      <td>MI</td>\n",
       "      <td>FT</td>\n",
       "      <td>BI Data Analyst</td>\n",
       "      <td>11000000</td>\n",
       "      <td>HUF</td>\n",
       "      <td>36259</td>\n",
       "      <td>HU</td>\n",
       "      <td>50</td>\n",
       "      <td>US</td>\n",
       "      <td>L</td>\n",
       "    </tr>\n",
       "    <tr>\n",
       "      <th>2</th>\n",
       "      <td>2020</td>\n",
       "      <td>MI</td>\n",
       "      <td>FT</td>\n",
       "      <td>Data Scientist</td>\n",
       "      <td>11000000</td>\n",
       "      <td>HUF</td>\n",
       "      <td>35735</td>\n",
       "      <td>HU</td>\n",
       "      <td>50</td>\n",
       "      <td>HU</td>\n",
       "      <td>L</td>\n",
       "    </tr>\n",
       "    <tr>\n",
       "      <th>3</th>\n",
       "      <td>2021</td>\n",
       "      <td>MI</td>\n",
       "      <td>FT</td>\n",
       "      <td>ML Engineer</td>\n",
       "      <td>8500000</td>\n",
       "      <td>JPY</td>\n",
       "      <td>77364</td>\n",
       "      <td>JP</td>\n",
       "      <td>50</td>\n",
       "      <td>JP</td>\n",
       "      <td>S</td>\n",
       "    </tr>\n",
       "    <tr>\n",
       "      <th>4</th>\n",
       "      <td>2022</td>\n",
       "      <td>SE</td>\n",
       "      <td>FT</td>\n",
       "      <td>Lead Machine Learning Engineer</td>\n",
       "      <td>7500000</td>\n",
       "      <td>INR</td>\n",
       "      <td>95386</td>\n",
       "      <td>IN</td>\n",
       "      <td>50</td>\n",
       "      <td>IN</td>\n",
       "      <td>L</td>\n",
       "    </tr>\n",
       "  </tbody>\n",
       "</table>\n",
       "</div>"
      ],
      "text/plain": [
       "   work_year experience_level employment_type                       job_title  \\\n",
       "0       2021               MI              FT                  Data Scientist   \n",
       "1       2021               MI              FT                 BI Data Analyst   \n",
       "2       2020               MI              FT                  Data Scientist   \n",
       "3       2021               MI              FT                     ML Engineer   \n",
       "4       2022               SE              FT  Lead Machine Learning Engineer   \n",
       "\n",
       "     salary salary_currency  salary_in_usd employee_residence  remote_ratio  \\\n",
       "0  30400000             CLP          40038                 CL           100   \n",
       "1  11000000             HUF          36259                 HU            50   \n",
       "2  11000000             HUF          35735                 HU            50   \n",
       "3   8500000             JPY          77364                 JP            50   \n",
       "4   7500000             INR          95386                 IN            50   \n",
       "\n",
       "  company_location company_size  \n",
       "0               CL            L  \n",
       "1               US            L  \n",
       "2               HU            L  \n",
       "3               JP            S  \n",
       "4               IN            L  "
      ]
     },
     "execution_count": 9,
     "metadata": {},
     "output_type": "execute_result"
    }
   ],
   "source": [
    "df = pd.read_csv(\"C:/Local Code/Project/DataScience_salaries_2024.csv\")\n",
    "df.head()"
   ]
  },
  {
   "cell_type": "markdown",
   "metadata": {},
   "source": [
    "<h3 style=\"text-align: left; font-family: 'Jetbrains Mono'; color: red;\"><b>1. INTRODUCTION</b></h3>\n"
   ]
  },
  {
   "cell_type": "markdown",
   "metadata": {},
   "source": [
    "<h3 style=\"text-align: left; font-family: 'Jetbrains Mono'; color: red;\"><b>2. OVERVIEW</b></h3>\n"
   ]
  },
  {
   "cell_type": "markdown",
   "metadata": {},
   "source": [
    "<h3 style=\"text-align: left; font-family: 'Jetbrains Mono'; color: red;\"><b>3. VISUALIZATION</b></h3>\n"
   ]
  },
  {
   "cell_type": "code",
   "execution_count": null,
   "metadata": {},
   "outputs": [],
   "source": [
    "df_vietnam = df"
   ]
  },
  {
   "cell_type": "code",
   "execution_count": 18,
   "metadata": {},
   "outputs": [
    {
     "data": {
      "application/vnd.plotly.v1+json": {
       "config": {
        "plotlyServerURL": "https://plot.ly"
       },
       "data": [
        {
         "marker": {
          "color": [
           "#00876c",
           "#51a472",
           "#89bf77",
           "#c2d980",
           "#fff18f",
           "#fcc76b",
           "#f59b56",
           "#e96d4e",
           "#d43d51"
          ],
          "line": {
           "color": "black",
           "width": 2
          }
         },
         "text": [
          3162,
          3015,
          2189,
          1542,
          475,
          403,
          383,
          369,
          276,
          230
         ],
         "textfont": {
          "color": "black",
          "size": 12
         },
         "textposition": "inside",
         "type": "bar",
         "x": [
          "Data Engineer",
          "Data Scientist",
          "Data Analyst",
          "Machine Learning Engineer",
          "Research Scientist",
          "Analytics Engineer",
          "Applied Scientist",
          "Data Architect",
          "Research Engineer",
          "Business Intelligence Engineer"
         ],
         "y": [
          3162,
          3015,
          2189,
          1542,
          475,
          403,
          383,
          369,
          276,
          230
         ]
        }
       ],
       "layout": {
        "height": 600,
        "template": {
         "data": {
          "bar": [
           {
            "error_x": {
             "color": "#2a3f5f"
            },
            "error_y": {
             "color": "#2a3f5f"
            },
            "marker": {
             "line": {
              "color": "white",
              "width": 0.5
             },
             "pattern": {
              "fillmode": "overlay",
              "size": 10,
              "solidity": 0.2
             }
            },
            "type": "bar"
           }
          ],
          "barpolar": [
           {
            "marker": {
             "line": {
              "color": "white",
              "width": 0.5
             },
             "pattern": {
              "fillmode": "overlay",
              "size": 10,
              "solidity": 0.2
             }
            },
            "type": "barpolar"
           }
          ],
          "carpet": [
           {
            "aaxis": {
             "endlinecolor": "#2a3f5f",
             "gridcolor": "#C8D4E3",
             "linecolor": "#C8D4E3",
             "minorgridcolor": "#C8D4E3",
             "startlinecolor": "#2a3f5f"
            },
            "baxis": {
             "endlinecolor": "#2a3f5f",
             "gridcolor": "#C8D4E3",
             "linecolor": "#C8D4E3",
             "minorgridcolor": "#C8D4E3",
             "startlinecolor": "#2a3f5f"
            },
            "type": "carpet"
           }
          ],
          "choropleth": [
           {
            "colorbar": {
             "outlinewidth": 0,
             "ticks": ""
            },
            "type": "choropleth"
           }
          ],
          "contour": [
           {
            "colorbar": {
             "outlinewidth": 0,
             "ticks": ""
            },
            "colorscale": [
             [
              0,
              "#0d0887"
             ],
             [
              0.1111111111111111,
              "#46039f"
             ],
             [
              0.2222222222222222,
              "#7201a8"
             ],
             [
              0.3333333333333333,
              "#9c179e"
             ],
             [
              0.4444444444444444,
              "#bd3786"
             ],
             [
              0.5555555555555556,
              "#d8576b"
             ],
             [
              0.6666666666666666,
              "#ed7953"
             ],
             [
              0.7777777777777778,
              "#fb9f3a"
             ],
             [
              0.8888888888888888,
              "#fdca26"
             ],
             [
              1,
              "#f0f921"
             ]
            ],
            "type": "contour"
           }
          ],
          "contourcarpet": [
           {
            "colorbar": {
             "outlinewidth": 0,
             "ticks": ""
            },
            "type": "contourcarpet"
           }
          ],
          "heatmap": [
           {
            "colorbar": {
             "outlinewidth": 0,
             "ticks": ""
            },
            "colorscale": [
             [
              0,
              "#0d0887"
             ],
             [
              0.1111111111111111,
              "#46039f"
             ],
             [
              0.2222222222222222,
              "#7201a8"
             ],
             [
              0.3333333333333333,
              "#9c179e"
             ],
             [
              0.4444444444444444,
              "#bd3786"
             ],
             [
              0.5555555555555556,
              "#d8576b"
             ],
             [
              0.6666666666666666,
              "#ed7953"
             ],
             [
              0.7777777777777778,
              "#fb9f3a"
             ],
             [
              0.8888888888888888,
              "#fdca26"
             ],
             [
              1,
              "#f0f921"
             ]
            ],
            "type": "heatmap"
           }
          ],
          "heatmapgl": [
           {
            "colorbar": {
             "outlinewidth": 0,
             "ticks": ""
            },
            "colorscale": [
             [
              0,
              "#0d0887"
             ],
             [
              0.1111111111111111,
              "#46039f"
             ],
             [
              0.2222222222222222,
              "#7201a8"
             ],
             [
              0.3333333333333333,
              "#9c179e"
             ],
             [
              0.4444444444444444,
              "#bd3786"
             ],
             [
              0.5555555555555556,
              "#d8576b"
             ],
             [
              0.6666666666666666,
              "#ed7953"
             ],
             [
              0.7777777777777778,
              "#fb9f3a"
             ],
             [
              0.8888888888888888,
              "#fdca26"
             ],
             [
              1,
              "#f0f921"
             ]
            ],
            "type": "heatmapgl"
           }
          ],
          "histogram": [
           {
            "marker": {
             "pattern": {
              "fillmode": "overlay",
              "size": 10,
              "solidity": 0.2
             }
            },
            "type": "histogram"
           }
          ],
          "histogram2d": [
           {
            "colorbar": {
             "outlinewidth": 0,
             "ticks": ""
            },
            "colorscale": [
             [
              0,
              "#0d0887"
             ],
             [
              0.1111111111111111,
              "#46039f"
             ],
             [
              0.2222222222222222,
              "#7201a8"
             ],
             [
              0.3333333333333333,
              "#9c179e"
             ],
             [
              0.4444444444444444,
              "#bd3786"
             ],
             [
              0.5555555555555556,
              "#d8576b"
             ],
             [
              0.6666666666666666,
              "#ed7953"
             ],
             [
              0.7777777777777778,
              "#fb9f3a"
             ],
             [
              0.8888888888888888,
              "#fdca26"
             ],
             [
              1,
              "#f0f921"
             ]
            ],
            "type": "histogram2d"
           }
          ],
          "histogram2dcontour": [
           {
            "colorbar": {
             "outlinewidth": 0,
             "ticks": ""
            },
            "colorscale": [
             [
              0,
              "#0d0887"
             ],
             [
              0.1111111111111111,
              "#46039f"
             ],
             [
              0.2222222222222222,
              "#7201a8"
             ],
             [
              0.3333333333333333,
              "#9c179e"
             ],
             [
              0.4444444444444444,
              "#bd3786"
             ],
             [
              0.5555555555555556,
              "#d8576b"
             ],
             [
              0.6666666666666666,
              "#ed7953"
             ],
             [
              0.7777777777777778,
              "#fb9f3a"
             ],
             [
              0.8888888888888888,
              "#fdca26"
             ],
             [
              1,
              "#f0f921"
             ]
            ],
            "type": "histogram2dcontour"
           }
          ],
          "mesh3d": [
           {
            "colorbar": {
             "outlinewidth": 0,
             "ticks": ""
            },
            "type": "mesh3d"
           }
          ],
          "parcoords": [
           {
            "line": {
             "colorbar": {
              "outlinewidth": 0,
              "ticks": ""
             }
            },
            "type": "parcoords"
           }
          ],
          "pie": [
           {
            "automargin": true,
            "type": "pie"
           }
          ],
          "scatter": [
           {
            "fillpattern": {
             "fillmode": "overlay",
             "size": 10,
             "solidity": 0.2
            },
            "type": "scatter"
           }
          ],
          "scatter3d": [
           {
            "line": {
             "colorbar": {
              "outlinewidth": 0,
              "ticks": ""
             }
            },
            "marker": {
             "colorbar": {
              "outlinewidth": 0,
              "ticks": ""
             }
            },
            "type": "scatter3d"
           }
          ],
          "scattercarpet": [
           {
            "marker": {
             "colorbar": {
              "outlinewidth": 0,
              "ticks": ""
             }
            },
            "type": "scattercarpet"
           }
          ],
          "scattergeo": [
           {
            "marker": {
             "colorbar": {
              "outlinewidth": 0,
              "ticks": ""
             }
            },
            "type": "scattergeo"
           }
          ],
          "scattergl": [
           {
            "marker": {
             "colorbar": {
              "outlinewidth": 0,
              "ticks": ""
             }
            },
            "type": "scattergl"
           }
          ],
          "scattermapbox": [
           {
            "marker": {
             "colorbar": {
              "outlinewidth": 0,
              "ticks": ""
             }
            },
            "type": "scattermapbox"
           }
          ],
          "scatterpolar": [
           {
            "marker": {
             "colorbar": {
              "outlinewidth": 0,
              "ticks": ""
             }
            },
            "type": "scatterpolar"
           }
          ],
          "scatterpolargl": [
           {
            "marker": {
             "colorbar": {
              "outlinewidth": 0,
              "ticks": ""
             }
            },
            "type": "scatterpolargl"
           }
          ],
          "scatterternary": [
           {
            "marker": {
             "colorbar": {
              "outlinewidth": 0,
              "ticks": ""
             }
            },
            "type": "scatterternary"
           }
          ],
          "surface": [
           {
            "colorbar": {
             "outlinewidth": 0,
             "ticks": ""
            },
            "colorscale": [
             [
              0,
              "#0d0887"
             ],
             [
              0.1111111111111111,
              "#46039f"
             ],
             [
              0.2222222222222222,
              "#7201a8"
             ],
             [
              0.3333333333333333,
              "#9c179e"
             ],
             [
              0.4444444444444444,
              "#bd3786"
             ],
             [
              0.5555555555555556,
              "#d8576b"
             ],
             [
              0.6666666666666666,
              "#ed7953"
             ],
             [
              0.7777777777777778,
              "#fb9f3a"
             ],
             [
              0.8888888888888888,
              "#fdca26"
             ],
             [
              1,
              "#f0f921"
             ]
            ],
            "type": "surface"
           }
          ],
          "table": [
           {
            "cells": {
             "fill": {
              "color": "#EBF0F8"
             },
             "line": {
              "color": "white"
             }
            },
            "header": {
             "fill": {
              "color": "#C8D4E3"
             },
             "line": {
              "color": "white"
             }
            },
            "type": "table"
           }
          ]
         },
         "layout": {
          "annotationdefaults": {
           "arrowcolor": "#2a3f5f",
           "arrowhead": 0,
           "arrowwidth": 1
          },
          "autotypenumbers": "strict",
          "coloraxis": {
           "colorbar": {
            "outlinewidth": 0,
            "ticks": ""
           }
          },
          "colorscale": {
           "diverging": [
            [
             0,
             "#8e0152"
            ],
            [
             0.1,
             "#c51b7d"
            ],
            [
             0.2,
             "#de77ae"
            ],
            [
             0.3,
             "#f1b6da"
            ],
            [
             0.4,
             "#fde0ef"
            ],
            [
             0.5,
             "#f7f7f7"
            ],
            [
             0.6,
             "#e6f5d0"
            ],
            [
             0.7,
             "#b8e186"
            ],
            [
             0.8,
             "#7fbc41"
            ],
            [
             0.9,
             "#4d9221"
            ],
            [
             1,
             "#276419"
            ]
           ],
           "sequential": [
            [
             0,
             "#0d0887"
            ],
            [
             0.1111111111111111,
             "#46039f"
            ],
            [
             0.2222222222222222,
             "#7201a8"
            ],
            [
             0.3333333333333333,
             "#9c179e"
            ],
            [
             0.4444444444444444,
             "#bd3786"
            ],
            [
             0.5555555555555556,
             "#d8576b"
            ],
            [
             0.6666666666666666,
             "#ed7953"
            ],
            [
             0.7777777777777778,
             "#fb9f3a"
            ],
            [
             0.8888888888888888,
             "#fdca26"
            ],
            [
             1,
             "#f0f921"
            ]
           ],
           "sequentialminus": [
            [
             0,
             "#0d0887"
            ],
            [
             0.1111111111111111,
             "#46039f"
            ],
            [
             0.2222222222222222,
             "#7201a8"
            ],
            [
             0.3333333333333333,
             "#9c179e"
            ],
            [
             0.4444444444444444,
             "#bd3786"
            ],
            [
             0.5555555555555556,
             "#d8576b"
            ],
            [
             0.6666666666666666,
             "#ed7953"
            ],
            [
             0.7777777777777778,
             "#fb9f3a"
            ],
            [
             0.8888888888888888,
             "#fdca26"
            ],
            [
             1,
             "#f0f921"
            ]
           ]
          },
          "colorway": [
           "#636efa",
           "#EF553B",
           "#00cc96",
           "#ab63fa",
           "#FFA15A",
           "#19d3f3",
           "#FF6692",
           "#B6E880",
           "#FF97FF",
           "#FECB52"
          ],
          "font": {
           "color": "#2a3f5f"
          },
          "geo": {
           "bgcolor": "white",
           "lakecolor": "white",
           "landcolor": "white",
           "showlakes": true,
           "showland": true,
           "subunitcolor": "#C8D4E3"
          },
          "hoverlabel": {
           "align": "left"
          },
          "hovermode": "closest",
          "mapbox": {
           "style": "light"
          },
          "paper_bgcolor": "white",
          "plot_bgcolor": "white",
          "polar": {
           "angularaxis": {
            "gridcolor": "#EBF0F8",
            "linecolor": "#EBF0F8",
            "ticks": ""
           },
           "bgcolor": "white",
           "radialaxis": {
            "gridcolor": "#EBF0F8",
            "linecolor": "#EBF0F8",
            "ticks": ""
           }
          },
          "scene": {
           "xaxis": {
            "backgroundcolor": "white",
            "gridcolor": "#DFE8F3",
            "gridwidth": 2,
            "linecolor": "#EBF0F8",
            "showbackground": true,
            "ticks": "",
            "zerolinecolor": "#EBF0F8"
           },
           "yaxis": {
            "backgroundcolor": "white",
            "gridcolor": "#DFE8F3",
            "gridwidth": 2,
            "linecolor": "#EBF0F8",
            "showbackground": true,
            "ticks": "",
            "zerolinecolor": "#EBF0F8"
           },
           "zaxis": {
            "backgroundcolor": "white",
            "gridcolor": "#DFE8F3",
            "gridwidth": 2,
            "linecolor": "#EBF0F8",
            "showbackground": true,
            "ticks": "",
            "zerolinecolor": "#EBF0F8"
           }
          },
          "shapedefaults": {
           "line": {
            "color": "#2a3f5f"
           }
          },
          "ternary": {
           "aaxis": {
            "gridcolor": "#DFE8F3",
            "linecolor": "#A2B1C6",
            "ticks": ""
           },
           "baxis": {
            "gridcolor": "#DFE8F3",
            "linecolor": "#A2B1C6",
            "ticks": ""
           },
           "bgcolor": "white",
           "caxis": {
            "gridcolor": "#DFE8F3",
            "linecolor": "#A2B1C6",
            "ticks": ""
           }
          },
          "title": {
           "x": 0.05
          },
          "xaxis": {
           "automargin": true,
           "gridcolor": "#EBF0F8",
           "linecolor": "#EBF0F8",
           "ticks": "",
           "title": {
            "standoff": 15
           },
           "zerolinecolor": "#EBF0F8",
           "zerolinewidth": 2
          },
          "yaxis": {
           "automargin": true,
           "gridcolor": "#EBF0F8",
           "linecolor": "#EBF0F8",
           "ticks": "",
           "title": {
            "standoff": 15
           },
           "zerolinecolor": "#EBF0F8",
           "zerolinewidth": 2
          }
         }
        },
        "title": {
         "text": "<b>Top 10 Most Common Job Titles in the Data Science Field</b>",
         "x": 0.5,
         "xanchor": "center"
        },
        "width": 900,
        "xaxis": {
         "autorange": true,
         "range": [
          -0.5,
          9.5
         ],
         "title": {
          "text": "<b>Job title</b>"
         },
         "type": "category"
        },
        "yaxis": {
         "autorange": true,
         "range": [
          0,
          3328.421052631579
         ],
         "title": {
          "text": "<b>Total people</b>"
         },
         "type": "linear"
        }
       }
      },
      "image/png": "[encoded data removed]",
      "text/html": [
       "<div>                            <div id=\"5924020f-227f-4800-b7e5-a1bc4d393697\" class=\"plotly-graph-div\" style=\"height:600px; width:900px;\"></div>            <script type=\"text/javascript\">                require([\"plotly\"], function(Plotly) {                    window.PLOTLYENV=window.PLOTLYENV || {};                                    if (document.getElementById(\"5924020f-227f-4800-b7e5-a1bc4d393697\")) {                    Plotly.newPlot(                        \"5924020f-227f-4800-b7e5-a1bc4d393697\",                        [{\"marker\":{\"color\":[\"#00876c\",\"#51a472\",\"#89bf77\",\"#c2d980\",\"#fff18f\",\"#fcc76b\",\"#f59b56\",\"#e96d4e\",\"#d43d51\"],\"line\":{\"color\":\"black\",\"width\":2}},\"text\":[3162.0,3015.0,2189.0,1542.0,475.0,403.0,383.0,369.0,276.0,230.0],\"textfont\":{\"color\":\"black\",\"size\":12},\"textposition\":\"inside\",\"x\":[\"Data Engineer\",\"Data Scientist\",\"Data Analyst\",\"Machine Learning Engineer\",\"Research Scientist\",\"Analytics Engineer\",\"Applied Scientist\",\"Data Architect\",\"Research Engineer\",\"Business Intelligence Engineer\"],\"y\":[3162,3015,2189,1542,475,403,383,369,276,230],\"type\":\"bar\"}],                        {\"height\":600,\"template\":{\"data\":{\"barpolar\":[{\"marker\":{\"line\":{\"color\":\"white\",\"width\":0.5},\"pattern\":{\"fillmode\":\"overlay\",\"size\":10,\"solidity\":0.2}},\"type\":\"barpolar\"}],\"bar\":[{\"error_x\":{\"color\":\"#2a3f5f\"},\"error_y\":{\"color\":\"#2a3f5f\"},\"marker\":{\"line\":{\"color\":\"white\",\"width\":0.5},\"pattern\":{\"fillmode\":\"overlay\",\"size\":10,\"solidity\":0.2}},\"type\":\"bar\"}],\"carpet\":[{\"aaxis\":{\"endlinecolor\":\"#2a3f5f\",\"gridcolor\":\"#C8D4E3\",\"linecolor\":\"#C8D4E3\",\"minorgridcolor\":\"#C8D4E3\",\"startlinecolor\":\"#2a3f5f\"},\"baxis\":{\"endlinecolor\":\"#2a3f5f\",\"gridcolor\":\"#C8D4E3\",\"linecolor\":\"#C8D4E3\",\"minorgridcolor\":\"#C8D4E3\",\"startlinecolor\":\"#2a3f5f\"},\"type\":\"carpet\"}],\"choropleth\":[{\"colorbar\":{\"outlinewidth\":0,\"ticks\":\"\"},\"type\":\"choropleth\"}],\"contourcarpet\":[{\"colorbar\":{\"outlinewidth\":0,\"ticks\":\"\"},\"type\":\"contourcarpet\"}],\"contour\":[{\"colorbar\":{\"outlinewidth\":0,\"ticks\":\"\"},\"colorscale\":[[0.0,\"#0d0887\"],[0.1111111111111111,\"#46039f\"],[0.2222222222222222,\"#7201a8\"],[0.3333333333333333,\"#9c179e\"],[0.4444444444444444,\"#bd3786\"],[0.5555555555555556,\"#d8576b\"],[0.6666666666666666,\"#ed7953\"],[0.7777777777777778,\"#fb9f3a\"],[0.8888888888888888,\"#fdca26\"],[1.0,\"#f0f921\"]],\"type\":\"contour\"}],\"heatmapgl\":[{\"colorbar\":{\"outlinewidth\":0,\"ticks\":\"\"},\"colorscale\":[[0.0,\"#0d0887\"],[0.1111111111111111,\"#46039f\"],[0.2222222222222222,\"#7201a8\"],[0.3333333333333333,\"#9c179e\"],[0.4444444444444444,\"#bd3786\"],[0.5555555555555556,\"#d8576b\"],[0.6666666666666666,\"#ed7953\"],[0.7777777777777778,\"#fb9f3a\"],[0.8888888888888888,\"#fdca26\"],[1.0,\"#f0f921\"]],\"type\":\"heatmapgl\"}],\"heatmap\":[{\"colorbar\":{\"outlinewidth\":0,\"ticks\":\"\"},\"colorscale\":[[0.0,\"#0d0887\"],[0.1111111111111111,\"#46039f\"],[0.2222222222222222,\"#7201a8\"],[0.3333333333333333,\"#9c179e\"],[0.4444444444444444,\"#bd3786\"],[0.5555555555555556,\"#d8576b\"],[0.6666666666666666,\"#ed7953\"],[0.7777777777777778,\"#fb9f3a\"],[0.8888888888888888,\"#fdca26\"],[1.0,\"#f0f921\"]],\"type\":\"heatmap\"}],\"histogram2dcontour\":[{\"colorbar\":{\"outlinewidth\":0,\"ticks\":\"\"},\"colorscale\":[[0.0,\"#0d0887\"],[0.1111111111111111,\"#46039f\"],[0.2222222222222222,\"#7201a8\"],[0.3333333333333333,\"#9c179e\"],[0.4444444444444444,\"#bd3786\"],[0.5555555555555556,\"#d8576b\"],[0.6666666666666666,\"#ed7953\"],[0.7777777777777778,\"#fb9f3a\"],[0.8888888888888888,\"#fdca26\"],[1.0,\"#f0f921\"]],\"type\":\"histogram2dcontour\"}],\"histogram2d\":[{\"colorbar\":{\"outlinewidth\":0,\"ticks\":\"\"},\"colorscale\":[[0.0,\"#0d0887\"],[0.1111111111111111,\"#46039f\"],[0.2222222222222222,\"#7201a8\"],[0.3333333333333333,\"#9c179e\"],[0.4444444444444444,\"#bd3786\"],[0.5555555555555556,\"#d8576b\"],[0.6666666666666666,\"#ed7953\"],[0.7777777777777778,\"#fb9f3a\"],[0.8888888888888888,\"#fdca26\"],[1.0,\"#f0f921\"]],\"type\":\"histogram2d\"}],\"histogram\":[{\"marker\":{\"pattern\":{\"fillmode\":\"overlay\",\"size\":10,\"solidity\":0.2}},\"type\":\"histogram\"}],\"mesh3d\":[{\"colorbar\":{\"outlinewidth\":0,\"ticks\":\"\"},\"type\":\"mesh3d\"}],\"parcoords\":[{\"line\":{\"colorbar\":{\"outlinewidth\":0,\"ticks\":\"\"}},\"type\":\"parcoords\"}],\"pie\":[{\"automargin\":true,\"type\":\"pie\"}],\"scatter3d\":[{\"line\":{\"colorbar\":{\"outlinewidth\":0,\"ticks\":\"\"}},\"marker\":{\"colorbar\":{\"outlinewidth\":0,\"ticks\":\"\"}},\"type\":\"scatter3d\"}],\"scattercarpet\":[{\"marker\":{\"colorbar\":{\"outlinewidth\":0,\"ticks\":\"\"}},\"type\":\"scattercarpet\"}],\"scattergeo\":[{\"marker\":{\"colorbar\":{\"outlinewidth\":0,\"ticks\":\"\"}},\"type\":\"scattergeo\"}],\"scattergl\":[{\"marker\":{\"colorbar\":{\"outlinewidth\":0,\"ticks\":\"\"}},\"type\":\"scattergl\"}],\"scattermapbox\":[{\"marker\":{\"colorbar\":{\"outlinewidth\":0,\"ticks\":\"\"}},\"type\":\"scattermapbox\"}],\"scatterpolargl\":[{\"marker\":{\"colorbar\":{\"outlinewidth\":0,\"ticks\":\"\"}},\"type\":\"scatterpolargl\"}],\"scatterpolar\":[{\"marker\":{\"colorbar\":{\"outlinewidth\":0,\"ticks\":\"\"}},\"type\":\"scatterpolar\"}],\"scatter\":[{\"fillpattern\":{\"fillmode\":\"overlay\",\"size\":10,\"solidity\":0.2},\"type\":\"scatter\"}],\"scatterternary\":[{\"marker\":{\"colorbar\":{\"outlinewidth\":0,\"ticks\":\"\"}},\"type\":\"scatterternary\"}],\"surface\":[{\"colorbar\":{\"outlinewidth\":0,\"ticks\":\"\"},\"colorscale\":[[0.0,\"#0d0887\"],[0.1111111111111111,\"#46039f\"],[0.2222222222222222,\"#7201a8\"],[0.3333333333333333,\"#9c179e\"],[0.4444444444444444,\"#bd3786\"],[0.5555555555555556,\"#d8576b\"],[0.6666666666666666,\"#ed7953\"],[0.7777777777777778,\"#fb9f3a\"],[0.8888888888888888,\"#fdca26\"],[1.0,\"#f0f921\"]],\"type\":\"surface\"}],\"table\":[{\"cells\":{\"fill\":{\"color\":\"#EBF0F8\"},\"line\":{\"color\":\"white\"}},\"header\":{\"fill\":{\"color\":\"#C8D4E3\"},\"line\":{\"color\":\"white\"}},\"type\":\"table\"}]},\"layout\":{\"annotationdefaults\":{\"arrowcolor\":\"#2a3f5f\",\"arrowhead\":0,\"arrowwidth\":1},\"autotypenumbers\":\"strict\",\"coloraxis\":{\"colorbar\":{\"outlinewidth\":0,\"ticks\":\"\"}},\"colorscale\":{\"diverging\":[[0,\"#8e0152\"],[0.1,\"#c51b7d\"],[0.2,\"#de77ae\"],[0.3,\"#f1b6da\"],[0.4,\"#fde0ef\"],[0.5,\"#f7f7f7\"],[0.6,\"#e6f5d0\"],[0.7,\"#b8e186\"],[0.8,\"#7fbc41\"],[0.9,\"#4d9221\"],[1,\"#276419\"]],\"sequential\":[[0.0,\"#0d0887\"],[0.1111111111111111,\"#46039f\"],[0.2222222222222222,\"#7201a8\"],[0.3333333333333333,\"#9c179e\"],[0.4444444444444444,\"#bd3786\"],[0.5555555555555556,\"#d8576b\"],[0.6666666666666666,\"#ed7953\"],[0.7777777777777778,\"#fb9f3a\"],[0.8888888888888888,\"#fdca26\"],[1.0,\"#f0f921\"]],\"sequentialminus\":[[0.0,\"#0d0887\"],[0.1111111111111111,\"#46039f\"],[0.2222222222222222,\"#7201a8\"],[0.3333333333333333,\"#9c179e\"],[0.4444444444444444,\"#bd3786\"],[0.5555555555555556,\"#d8576b\"],[0.6666666666666666,\"#ed7953\"],[0.7777777777777778,\"#fb9f3a\"],[0.8888888888888888,\"#fdca26\"],[1.0,\"#f0f921\"]]},\"colorway\":[\"#636efa\",\"#EF553B\",\"#00cc96\",\"#ab63fa\",\"#FFA15A\",\"#19d3f3\",\"#FF6692\",\"#B6E880\",\"#FF97FF\",\"#FECB52\"],\"font\":{\"color\":\"#2a3f5f\"},\"geo\":{\"bgcolor\":\"white\",\"lakecolor\":\"white\",\"landcolor\":\"white\",\"showlakes\":true,\"showland\":true,\"subunitcolor\":\"#C8D4E3\"},\"hoverlabel\":{\"align\":\"left\"},\"hovermode\":\"closest\",\"mapbox\":{\"style\":\"light\"},\"paper_bgcolor\":\"white\",\"plot_bgcolor\":\"white\",\"polar\":{\"angularaxis\":{\"gridcolor\":\"#EBF0F8\",\"linecolor\":\"#EBF0F8\",\"ticks\":\"\"},\"bgcolor\":\"white\",\"radialaxis\":{\"gridcolor\":\"#EBF0F8\",\"linecolor\":\"#EBF0F8\",\"ticks\":\"\"}},\"scene\":{\"xaxis\":{\"backgroundcolor\":\"white\",\"gridcolor\":\"#DFE8F3\",\"gridwidth\":2,\"linecolor\":\"#EBF0F8\",\"showbackground\":true,\"ticks\":\"\",\"zerolinecolor\":\"#EBF0F8\"},\"yaxis\":{\"backgroundcolor\":\"white\",\"gridcolor\":\"#DFE8F3\",\"gridwidth\":2,\"linecolor\":\"#EBF0F8\",\"showbackground\":true,\"ticks\":\"\",\"zerolinecolor\":\"#EBF0F8\"},\"zaxis\":{\"backgroundcolor\":\"white\",\"gridcolor\":\"#DFE8F3\",\"gridwidth\":2,\"linecolor\":\"#EBF0F8\",\"showbackground\":true,\"ticks\":\"\",\"zerolinecolor\":\"#EBF0F8\"}},\"shapedefaults\":{\"line\":{\"color\":\"#2a3f5f\"}},\"ternary\":{\"aaxis\":{\"gridcolor\":\"#DFE8F3\",\"linecolor\":\"#A2B1C6\",\"ticks\":\"\"},\"baxis\":{\"gridcolor\":\"#DFE8F3\",\"linecolor\":\"#A2B1C6\",\"ticks\":\"\"},\"bgcolor\":\"white\",\"caxis\":{\"gridcolor\":\"#DFE8F3\",\"linecolor\":\"#A2B1C6\",\"ticks\":\"\"}},\"title\":{\"x\":0.05},\"xaxis\":{\"automargin\":true,\"gridcolor\":\"#EBF0F8\",\"linecolor\":\"#EBF0F8\",\"ticks\":\"\",\"title\":{\"standoff\":15},\"zerolinecolor\":\"#EBF0F8\",\"zerolinewidth\":2},\"yaxis\":{\"automargin\":true,\"gridcolor\":\"#EBF0F8\",\"linecolor\":\"#EBF0F8\",\"ticks\":\"\",\"title\":{\"standoff\":15},\"zerolinecolor\":\"#EBF0F8\",\"zerolinewidth\":2}}},\"title\":{\"text\":\"\\u003cb\\u003eTop 10 Most Common Job Titles in the Data Science Field\\u003c\\u002fb\\u003e\",\"x\":0.5,\"xanchor\":\"center\"},\"width\":900,\"xaxis\":{\"title\":{\"text\":\"\\u003cb\\u003eJob title\\u003c\\u002fb\\u003e\"}},\"yaxis\":{\"title\":{\"text\":\"\\u003cb\\u003eTotal people\\u003c\\u002fb\\u003e\"}}},                        {\"responsive\": true}                    ).then(function(){\n",
       "                            \n",
       "var gd = document.getElementById('5924020f-227f-4800-b7e5-a1bc4d393697');\n",
       "var x = new MutationObserver(function (mutations, observer) {{\n",
       "        var display = window.getComputedStyle(gd).display;\n",
       "        if (!display || display === 'none') {{\n",
       "            console.log([gd, 'removed!']);\n",
       "            Plotly.purge(gd);\n",
       "            observer.disconnect();\n",
       "        }}\n",
       "}});\n",
       "\n",
       "// Listen for the removal of the full notebook cells\n",
       "var notebookContainer = gd.closest('#notebook-container');\n",
       "if (notebookContainer) {{\n",
       "    x.observe(notebookContainer, {childList: true});\n",
       "}}\n",
       "\n",
       "// Listen for the clearing of the current output cell\n",
       "var outputEl = gd.closest('.output');\n",
       "if (outputEl) {{\n",
       "    x.observe(outputEl, {childList: true});\n",
       "}}\n",
       "\n",
       "                        })                };                });            </script>        </div>"
      ]
     },
     "metadata": {},
     "output_type": "display_data"
    }
   ],
   "source": [
    "df_chart = df['job_title'].value_counts()[:10]\n",
    "#select color - optional\n",
    "colors = [\n",
    "    \"#00876c\",\n",
    "    \"#51a472\",\n",
    "    \"#89bf77\",\n",
    "    \"#c2d980\",\n",
    "    \"#fff18f\",\n",
    "    \"#fcc76b\",\n",
    "    \"#f59b56\",\n",
    "    \"#e96d4e\",\n",
    "    \"#d43d51\"\n",
    "]\n",
    "\n",
    "#plot barchart\n",
    "data = go.Bar(\n",
    "    x=df_chart.index,\n",
    "    y=df_chart.values,\n",
    "    text=df_chart.values,\n",
    "    textposition=\"inside\",\n",
    "    textfont=dict(size=12, color=\"black\"),\n",
    "    marker=dict(color=colors, line_color=\"black\", line_width=2),\n",
    ")\n",
    " \n",
    "layout = go.Layout(\n",
    "    title={\n",
    "        \"text\": \"<b>Top 10 Most Common Job Titles in the Data Science Field</b>\",\n",
    "        \"x\": 0.5,\n",
    "        \"xanchor\": \"center\",\n",
    "    },\n",
    "    xaxis=dict(title=\"<b>Job title</b>\"),\n",
    "    yaxis=dict(title=\"<b>Total people</b>\"),\n",
    "    width=900,\n",
    "    height=600,\n",
    "    template=\"plotly_white\",\n",
    ")\n",
    "\n",
    "fig = go.Figure(data=data, layout=layout)\n",
    " \n",
    "fig.show()"
   ]
  },
  {
   "cell_type": "markdown",
   "metadata": {},
   "source": [
    "<h5 style=\"text-align: left; font-family: 'Jetbrains Mono'; color: black;\"><b>3.1. BAR CHART: DIFFERENCES QUANTITY PRODUCT CATEGORIES</b></h5>\n"
   ]
  },
  {
   "cell_type": "code",
   "execution_count": 25,
   "metadata": {},
   "outputs": [
    {
     "data": {
      "application/vnd.plotly.v1+json": {
       "config": {
        "plotlyServerURL": "https://plot.ly"
       },
       "data": [
        {
         "hovertemplate": "remote_ratio=0<br>work_year=%{x}<br>number=%{y}<extra></extra>",
         "legendgroup": "0",
         "line": {
          "color": "#636efa",
          "dash": "solid"
         },
         "marker": {
          "color": "orange",
          "line": {
           "color": "black",
           "width": 2
          },
          "size": 6,
          "symbol": "circle"
         },
         "mode": "lines+markers",
         "name": "0",
         "orientation": "v",
         "showlegend": true,
         "type": "scatter",
         "x": [
          2020,
          2021,
          2022,
          2023,
          2024
         ],
         "xaxis": "x",
         "y": [
          18,
          29,
          709,
          5775,
          3322
         ],
         "yaxis": "y"
        },
        {
         "hovertemplate": "remote_ratio=50<br>work_year=%{x}<br>number=%{y}<extra></extra>",
         "legendgroup": "50",
         "line": {
          "color": "#EF553B",
          "dash": "solid"
         },
         "marker": {
          "color": "orange",
          "line": {
           "color": "black",
           "width": 2
          },
          "size": 6,
          "symbol": "circle"
         },
         "mode": "lines+markers",
         "name": "50",
         "orientation": "v",
         "showlegend": true,
         "type": "scatter",
         "x": [
          2020,
          2021,
          2022,
          2023,
          2024
         ],
         "xaxis": "x",
         "y": [
          21,
          73,
          61,
          72,
          21
         ],
         "yaxis": "y"
        },
        {
         "hovertemplate": "remote_ratio=100<br>work_year=%{x}<br>number=%{y}<extra></extra>",
         "legendgroup": "100",
         "line": {
          "color": "#00cc96",
          "dash": "solid"
         },
         "marker": {
          "color": "orange",
          "line": {
           "color": "black",
           "width": 2
          },
          "size": 6,
          "symbol": "circle"
         },
         "mode": "lines+markers",
         "name": "100",
         "orientation": "v",
         "showlegend": true,
         "type": "scatter",
         "x": [
          2020,
          2021,
          2022,
          2023,
          2024
         ],
         "xaxis": "x",
         "y": [
          36,
          116,
          882,
          2672,
          1031
         ],
         "yaxis": "y"
        }
       ],
       "layout": {
        "autosize": true,
        "legend": {
         "title": {
          "text": "Work types"
         },
         "tracegroupgap": 0
        },
        "template": {
         "data": {
          "bar": [
           {
            "error_x": {
             "color": "#2a3f5f"
            },
            "error_y": {
             "color": "#2a3f5f"
            },
            "marker": {
             "line": {
              "color": "white",
              "width": 0.5
             },
             "pattern": {
              "fillmode": "overlay",
              "size": 10,
              "solidity": 0.2
             }
            },
            "type": "bar"
           }
          ],
          "barpolar": [
           {
            "marker": {
             "line": {
              "color": "white",
              "width": 0.5
             },
             "pattern": {
              "fillmode": "overlay",
              "size": 10,
              "solidity": 0.2
             }
            },
            "type": "barpolar"
           }
          ],
          "carpet": [
           {
            "aaxis": {
             "endlinecolor": "#2a3f5f",
             "gridcolor": "#C8D4E3",
             "linecolor": "#C8D4E3",
             "minorgridcolor": "#C8D4E3",
             "startlinecolor": "#2a3f5f"
            },
            "baxis": {
             "endlinecolor": "#2a3f5f",
             "gridcolor": "#C8D4E3",
             "linecolor": "#C8D4E3",
             "minorgridcolor": "#C8D4E3",
             "startlinecolor": "#2a3f5f"
            },
            "type": "carpet"
           }
          ],
          "choropleth": [
           {
            "colorbar": {
             "outlinewidth": 0,
             "ticks": ""
            },
            "type": "choropleth"
           }
          ],
          "contour": [
           {
            "colorbar": {
             "outlinewidth": 0,
             "ticks": ""
            },
            "colorscale": [
             [
              0,
              "#0d0887"
             ],
             [
              0.1111111111111111,
              "#46039f"
             ],
             [
              0.2222222222222222,
              "#7201a8"
             ],
             [
              0.3333333333333333,
              "#9c179e"
             ],
             [
              0.4444444444444444,
              "#bd3786"
             ],
             [
              0.5555555555555556,
              "#d8576b"
             ],
             [
              0.6666666666666666,
              "#ed7953"
             ],
             [
              0.7777777777777778,
              "#fb9f3a"
             ],
             [
              0.8888888888888888,
              "#fdca26"
             ],
             [
              1,
              "#f0f921"
             ]
            ],
            "type": "contour"
           }
          ],
          "contourcarpet": [
           {
            "colorbar": {
             "outlinewidth": 0,
             "ticks": ""
            },
            "type": "contourcarpet"
           }
          ],
          "heatmap": [
           {
            "colorbar": {
             "outlinewidth": 0,
             "ticks": ""
            },
            "colorscale": [
             [
              0,
              "#0d0887"
             ],
             [
              0.1111111111111111,
              "#46039f"
             ],
             [
              0.2222222222222222,
              "#7201a8"
             ],
             [
              0.3333333333333333,
              "#9c179e"
             ],
             [
              0.4444444444444444,
              "#bd3786"
             ],
             [
              0.5555555555555556,
              "#d8576b"
             ],
             [
              0.6666666666666666,
              "#ed7953"
             ],
             [
              0.7777777777777778,
              "#fb9f3a"
             ],
             [
              0.8888888888888888,
              "#fdca26"
             ],
             [
              1,
              "#f0f921"
             ]
            ],
            "type": "heatmap"
           }
          ],
          "heatmapgl": [
           {
            "colorbar": {
             "outlinewidth": 0,
             "ticks": ""
            },
            "colorscale": [
             [
              0,
              "#0d0887"
             ],
             [
              0.1111111111111111,
              "#46039f"
             ],
             [
              0.2222222222222222,
              "#7201a8"
             ],
             [
              0.3333333333333333,
              "#9c179e"
             ],
             [
              0.4444444444444444,
              "#bd3786"
             ],
             [
              0.5555555555555556,
              "#d8576b"
             ],
             [
              0.6666666666666666,
              "#ed7953"
             ],
             [
              0.7777777777777778,
              "#fb9f3a"
             ],
             [
              0.8888888888888888,
              "#fdca26"
             ],
             [
              1,
              "#f0f921"
             ]
            ],
            "type": "heatmapgl"
           }
          ],
          "histogram": [
           {
            "marker": {
             "pattern": {
              "fillmode": "overlay",
              "size": 10,
              "solidity": 0.2
             }
            },
            "type": "histogram"
           }
          ],
          "histogram2d": [
           {
            "colorbar": {
             "outlinewidth": 0,
             "ticks": ""
            },
            "colorscale": [
             [
              0,
              "#0d0887"
             ],
             [
              0.1111111111111111,
              "#46039f"
             ],
             [
              0.2222222222222222,
              "#7201a8"
             ],
             [
              0.3333333333333333,
              "#9c179e"
             ],
             [
              0.4444444444444444,
              "#bd3786"
             ],
             [
              0.5555555555555556,
              "#d8576b"
             ],
             [
              0.6666666666666666,
              "#ed7953"
             ],
             [
              0.7777777777777778,
              "#fb9f3a"
             ],
             [
              0.8888888888888888,
              "#fdca26"
             ],
             [
              1,
              "#f0f921"
             ]
            ],
            "type": "histogram2d"
           }
          ],
          "histogram2dcontour": [
           {
            "colorbar": {
             "outlinewidth": 0,
             "ticks": ""
            },
            "colorscale": [
             [
              0,
              "#0d0887"
             ],
             [
              0.1111111111111111,
              "#46039f"
             ],
             [
              0.2222222222222222,
              "#7201a8"
             ],
             [
              0.3333333333333333,
              "#9c179e"
             ],
             [
              0.4444444444444444,
              "#bd3786"
             ],
             [
              0.5555555555555556,
              "#d8576b"
             ],
             [
              0.6666666666666666,
              "#ed7953"
             ],
             [
              0.7777777777777778,
              "#fb9f3a"
             ],
             [
              0.8888888888888888,
              "#fdca26"
             ],
             [
              1,
              "#f0f921"
             ]
            ],
            "type": "histogram2dcontour"
           }
          ],
          "mesh3d": [
           {
            "colorbar": {
             "outlinewidth": 0,
             "ticks": ""
            },
            "type": "mesh3d"
           }
          ],
          "parcoords": [
           {
            "line": {
             "colorbar": {
              "outlinewidth": 0,
              "ticks": ""
             }
            },
            "type": "parcoords"
           }
          ],
          "pie": [
           {
            "automargin": true,
            "type": "pie"
           }
          ],
          "scatter": [
           {
            "fillpattern": {
             "fillmode": "overlay",
             "size": 10,
             "solidity": 0.2
            },
            "type": "scatter"
           }
          ],
          "scatter3d": [
           {
            "line": {
             "colorbar": {
              "outlinewidth": 0,
              "ticks": ""
             }
            },
            "marker": {
             "colorbar": {
              "outlinewidth": 0,
              "ticks": ""
             }
            },
            "type": "scatter3d"
           }
          ],
          "scattercarpet": [
           {
            "marker": {
             "colorbar": {
              "outlinewidth": 0,
              "ticks": ""
             }
            },
            "type": "scattercarpet"
           }
          ],
          "scattergeo": [
           {
            "marker": {
             "colorbar": {
              "outlinewidth": 0,
              "ticks": ""
             }
            },
            "type": "scattergeo"
           }
          ],
          "scattergl": [
           {
            "marker": {
             "colorbar": {
              "outlinewidth": 0,
              "ticks": ""
             }
            },
            "type": "scattergl"
           }
          ],
          "scattermapbox": [
           {
            "marker": {
             "colorbar": {
              "outlinewidth": 0,
              "ticks": ""
             }
            },
            "type": "scattermapbox"
           }
          ],
          "scatterpolar": [
           {
            "marker": {
             "colorbar": {
              "outlinewidth": 0,
              "ticks": ""
             }
            },
            "type": "scatterpolar"
           }
          ],
          "scatterpolargl": [
           {
            "marker": {
             "colorbar": {
              "outlinewidth": 0,
              "ticks": ""
             }
            },
            "type": "scatterpolargl"
           }
          ],
          "scatterternary": [
           {
            "marker": {
             "colorbar": {
              "outlinewidth": 0,
              "ticks": ""
             }
            },
            "type": "scatterternary"
           }
          ],
          "surface": [
           {
            "colorbar": {
             "outlinewidth": 0,
             "ticks": ""
            },
            "colorscale": [
             [
              0,
              "#0d0887"
             ],
             [
              0.1111111111111111,
              "#46039f"
             ],
             [
              0.2222222222222222,
              "#7201a8"
             ],
             [
              0.3333333333333333,
              "#9c179e"
             ],
             [
              0.4444444444444444,
              "#bd3786"
             ],
             [
              0.5555555555555556,
              "#d8576b"
             ],
             [
              0.6666666666666666,
              "#ed7953"
             ],
             [
              0.7777777777777778,
              "#fb9f3a"
             ],
             [
              0.8888888888888888,
              "#fdca26"
             ],
             [
              1,
              "#f0f921"
             ]
            ],
            "type": "surface"
           }
          ],
          "table": [
           {
            "cells": {
             "fill": {
              "color": "#EBF0F8"
             },
             "line": {
              "color": "white"
             }
            },
            "header": {
             "fill": {
              "color": "#C8D4E3"
             },
             "line": {
              "color": "white"
             }
            },
            "type": "table"
           }
          ]
         },
         "layout": {
          "annotationdefaults": {
           "arrowcolor": "#2a3f5f",
           "arrowhead": 0,
           "arrowwidth": 1
          },
          "autotypenumbers": "strict",
          "coloraxis": {
           "colorbar": {
            "outlinewidth": 0,
            "ticks": ""
           }
          },
          "colorscale": {
           "diverging": [
            [
             0,
             "#8e0152"
            ],
            [
             0.1,
             "#c51b7d"
            ],
            [
             0.2,
             "#de77ae"
            ],
            [
             0.3,
             "#f1b6da"
            ],
            [
             0.4,
             "#fde0ef"
            ],
            [
             0.5,
             "#f7f7f7"
            ],
            [
             0.6,
             "#e6f5d0"
            ],
            [
             0.7,
             "#b8e186"
            ],
            [
             0.8,
             "#7fbc41"
            ],
            [
             0.9,
             "#4d9221"
            ],
            [
             1,
             "#276419"
            ]
           ],
           "sequential": [
            [
             0,
             "#0d0887"
            ],
            [
             0.1111111111111111,
             "#46039f"
            ],
            [
             0.2222222222222222,
             "#7201a8"
            ],
            [
             0.3333333333333333,
             "#9c179e"
            ],
            [
             0.4444444444444444,
             "#bd3786"
            ],
            [
             0.5555555555555556,
             "#d8576b"
            ],
            [
             0.6666666666666666,
             "#ed7953"
            ],
            [
             0.7777777777777778,
             "#fb9f3a"
            ],
            [
             0.8888888888888888,
             "#fdca26"
            ],
            [
             1,
             "#f0f921"
            ]
           ],
           "sequentialminus": [
            [
             0,
             "#0d0887"
            ],
            [
             0.1111111111111111,
             "#46039f"
            ],
            [
             0.2222222222222222,
             "#7201a8"
            ],
            [
             0.3333333333333333,
             "#9c179e"
            ],
            [
             0.4444444444444444,
             "#bd3786"
            ],
            [
             0.5555555555555556,
             "#d8576b"
            ],
            [
             0.6666666666666666,
             "#ed7953"
            ],
            [
             0.7777777777777778,
             "#fb9f3a"
            ],
            [
             0.8888888888888888,
             "#fdca26"
            ],
            [
             1,
             "#f0f921"
            ]
           ]
          },
          "colorway": [
           "#636efa",
           "#EF553B",
           "#00cc96",
           "#ab63fa",
           "#FFA15A",
           "#19d3f3",
           "#FF6692",
           "#B6E880",
           "#FF97FF",
           "#FECB52"
          ],
          "font": {
           "color": "#2a3f5f"
          },
          "geo": {
           "bgcolor": "white",
           "lakecolor": "white",
           "landcolor": "white",
           "showlakes": true,
           "showland": true,
           "subunitcolor": "#C8D4E3"
          },
          "hoverlabel": {
           "align": "left"
          },
          "hovermode": "closest",
          "mapbox": {
           "style": "light"
          },
          "paper_bgcolor": "white",
          "plot_bgcolor": "white",
          "polar": {
           "angularaxis": {
            "gridcolor": "#EBF0F8",
            "linecolor": "#EBF0F8",
            "ticks": ""
           },
           "bgcolor": "white",
           "radialaxis": {
            "gridcolor": "#EBF0F8",
            "linecolor": "#EBF0F8",
            "ticks": ""
           }
          },
          "scene": {
           "xaxis": {
            "backgroundcolor": "white",
            "gridcolor": "#DFE8F3",
            "gridwidth": 2,
            "linecolor": "#EBF0F8",
            "showbackground": true,
            "ticks": "",
            "zerolinecolor": "#EBF0F8"
           },
           "yaxis": {
            "backgroundcolor": "white",
            "gridcolor": "#DFE8F3",
            "gridwidth": 2,
            "linecolor": "#EBF0F8",
            "showbackground": true,
            "ticks": "",
            "zerolinecolor": "#EBF0F8"
           },
           "zaxis": {
            "backgroundcolor": "white",
            "gridcolor": "#DFE8F3",
            "gridwidth": 2,
            "linecolor": "#EBF0F8",
            "showbackground": true,
            "ticks": "",
            "zerolinecolor": "#EBF0F8"
           }
          },
          "shapedefaults": {
           "line": {
            "color": "#2a3f5f"
           }
          },
          "ternary": {
           "aaxis": {
            "gridcolor": "#DFE8F3",
            "linecolor": "#A2B1C6",
            "ticks": ""
           },
           "baxis": {
            "gridcolor": "#DFE8F3",
            "linecolor": "#A2B1C6",
            "ticks": ""
           },
           "bgcolor": "white",
           "caxis": {
            "gridcolor": "#DFE8F3",
            "linecolor": "#A2B1C6",
            "ticks": ""
           }
          },
          "title": {
           "x": 0.05
          },
          "xaxis": {
           "automargin": true,
           "gridcolor": "#EBF0F8",
           "linecolor": "#EBF0F8",
           "ticks": "",
           "title": {
            "standoff": 15
           },
           "zerolinecolor": "#EBF0F8",
           "zerolinewidth": 2
          },
          "yaxis": {
           "automargin": true,
           "gridcolor": "#EBF0F8",
           "linecolor": "#EBF0F8",
           "ticks": "",
           "title": {
            "standoff": 15
           },
           "zerolinecolor": "#EBF0F8",
           "zerolinewidth": 2
          }
         }
        },
        "title": {
         "font": {
          "size": 20
         },
         "text": "<b>Trends in work types over the years</b>",
         "x": 0.5
        },
        "xaxis": {
         "anchor": "y",
         "autorange": true,
         "domain": [
          0,
          1
         ],
         "range": [
          2019.7573077867846,
          2024.2426922132154
         ],
         "title": {
          "font": {
           "size": 15
          },
          "text": "<b>Year</b>"
         },
         "type": "linear"
        },
        "yaxis": {
         "anchor": "x",
         "autorange": true,
         "domain": [
          0,
          1
         ],
         "range": [
          -457.0922330097087,
          6250.092233009709
         ],
         "title": {
          "font": {
           "size": 15
          },
          "text": "<b>Total people</b>"
         },
         "type": "linear"
        }
       }
      },
      "image/png": "[encoded data removed]",
      "text/html": [
       "<div>                            <div id=\"b80e78e1-0ed8-42ed-a70f-723a2546d836\" class=\"plotly-graph-div\" style=\"height:525px; width:100%;\"></div>            <script type=\"text/javascript\">                require([\"plotly\"], function(Plotly) {                    window.PLOTLYENV=window.PLOTLYENV || {};                                    if (document.getElementById(\"b80e78e1-0ed8-42ed-a70f-723a2546d836\")) {                    Plotly.newPlot(                        \"b80e78e1-0ed8-42ed-a70f-723a2546d836\",                        [{\"hovertemplate\":\"remote_ratio=0\\u003cbr\\u003ework_year=%{x}\\u003cbr\\u003enumber=%{y}\\u003cextra\\u003e\\u003c\\u002fextra\\u003e\",\"legendgroup\":\"0\",\"line\":{\"color\":\"#636efa\",\"dash\":\"solid\"},\"marker\":{\"symbol\":\"circle\",\"line\":{\"color\":\"black\",\"width\":2},\"color\":\"orange\",\"size\":6},\"mode\":\"lines+markers\",\"name\":\"0\",\"orientation\":\"v\",\"showlegend\":true,\"x\":[2020,2021,2022,2023,2024],\"xaxis\":\"x\",\"y\":[18,29,709,5775,3322],\"yaxis\":\"y\",\"type\":\"scatter\"},{\"hovertemplate\":\"remote_ratio=50\\u003cbr\\u003ework_year=%{x}\\u003cbr\\u003enumber=%{y}\\u003cextra\\u003e\\u003c\\u002fextra\\u003e\",\"legendgroup\":\"50\",\"line\":{\"color\":\"#EF553B\",\"dash\":\"solid\"},\"marker\":{\"symbol\":\"circle\",\"line\":{\"color\":\"black\",\"width\":2},\"color\":\"orange\",\"size\":6},\"mode\":\"lines+markers\",\"name\":\"50\",\"orientation\":\"v\",\"showlegend\":true,\"x\":[2020,2021,2022,2023,2024],\"xaxis\":\"x\",\"y\":[21,73,61,72,21],\"yaxis\":\"y\",\"type\":\"scatter\"},{\"hovertemplate\":\"remote_ratio=100\\u003cbr\\u003ework_year=%{x}\\u003cbr\\u003enumber=%{y}\\u003cextra\\u003e\\u003c\\u002fextra\\u003e\",\"legendgroup\":\"100\",\"line\":{\"color\":\"#00cc96\",\"dash\":\"solid\"},\"marker\":{\"symbol\":\"circle\",\"line\":{\"color\":\"black\",\"width\":2},\"color\":\"orange\",\"size\":6},\"mode\":\"lines+markers\",\"name\":\"100\",\"orientation\":\"v\",\"showlegend\":true,\"x\":[2020,2021,2022,2023,2024],\"xaxis\":\"x\",\"y\":[36,116,882,2672,1031],\"yaxis\":\"y\",\"type\":\"scatter\"}],                        {\"template\":{\"data\":{\"barpolar\":[{\"marker\":{\"line\":{\"color\":\"white\",\"width\":0.5},\"pattern\":{\"fillmode\":\"overlay\",\"size\":10,\"solidity\":0.2}},\"type\":\"barpolar\"}],\"bar\":[{\"error_x\":{\"color\":\"#2a3f5f\"},\"error_y\":{\"color\":\"#2a3f5f\"},\"marker\":{\"line\":{\"color\":\"white\",\"width\":0.5},\"pattern\":{\"fillmode\":\"overlay\",\"size\":10,\"solidity\":0.2}},\"type\":\"bar\"}],\"carpet\":[{\"aaxis\":{\"endlinecolor\":\"#2a3f5f\",\"gridcolor\":\"#C8D4E3\",\"linecolor\":\"#C8D4E3\",\"minorgridcolor\":\"#C8D4E3\",\"startlinecolor\":\"#2a3f5f\"},\"baxis\":{\"endlinecolor\":\"#2a3f5f\",\"gridcolor\":\"#C8D4E3\",\"linecolor\":\"#C8D4E3\",\"minorgridcolor\":\"#C8D4E3\",\"startlinecolor\":\"#2a3f5f\"},\"type\":\"carpet\"}],\"choropleth\":[{\"colorbar\":{\"outlinewidth\":0,\"ticks\":\"\"},\"type\":\"choropleth\"}],\"contourcarpet\":[{\"colorbar\":{\"outlinewidth\":0,\"ticks\":\"\"},\"type\":\"contourcarpet\"}],\"contour\":[{\"colorbar\":{\"outlinewidth\":0,\"ticks\":\"\"},\"colorscale\":[[0.0,\"#0d0887\"],[0.1111111111111111,\"#46039f\"],[0.2222222222222222,\"#7201a8\"],[0.3333333333333333,\"#9c179e\"],[0.4444444444444444,\"#bd3786\"],[0.5555555555555556,\"#d8576b\"],[0.6666666666666666,\"#ed7953\"],[0.7777777777777778,\"#fb9f3a\"],[0.8888888888888888,\"#fdca26\"],[1.0,\"#f0f921\"]],\"type\":\"contour\"}],\"heatmapgl\":[{\"colorbar\":{\"outlinewidth\":0,\"ticks\":\"\"},\"colorscale\":[[0.0,\"#0d0887\"],[0.1111111111111111,\"#46039f\"],[0.2222222222222222,\"#7201a8\"],[0.3333333333333333,\"#9c179e\"],[0.4444444444444444,\"#bd3786\"],[0.5555555555555556,\"#d8576b\"],[0.6666666666666666,\"#ed7953\"],[0.7777777777777778,\"#fb9f3a\"],[0.8888888888888888,\"#fdca26\"],[1.0,\"#f0f921\"]],\"type\":\"heatmapgl\"}],\"heatmap\":[{\"colorbar\":{\"outlinewidth\":0,\"ticks\":\"\"},\"colorscale\":[[0.0,\"#0d0887\"],[0.1111111111111111,\"#46039f\"],[0.2222222222222222,\"#7201a8\"],[0.3333333333333333,\"#9c179e\"],[0.4444444444444444,\"#bd3786\"],[0.5555555555555556,\"#d8576b\"],[0.6666666666666666,\"#ed7953\"],[0.7777777777777778,\"#fb9f3a\"],[0.8888888888888888,\"#fdca26\"],[1.0,\"#f0f921\"]],\"type\":\"heatmap\"}],\"histogram2dcontour\":[{\"colorbar\":{\"outlinewidth\":0,\"ticks\":\"\"},\"colorscale\":[[0.0,\"#0d0887\"],[0.1111111111111111,\"#46039f\"],[0.2222222222222222,\"#7201a8\"],[0.3333333333333333,\"#9c179e\"],[0.4444444444444444,\"#bd3786\"],[0.5555555555555556,\"#d8576b\"],[0.6666666666666666,\"#ed7953\"],[0.7777777777777778,\"#fb9f3a\"],[0.8888888888888888,\"#fdca26\"],[1.0,\"#f0f921\"]],\"type\":\"histogram2dcontour\"}],\"histogram2d\":[{\"colorbar\":{\"outlinewidth\":0,\"ticks\":\"\"},\"colorscale\":[[0.0,\"#0d0887\"],[0.1111111111111111,\"#46039f\"],[0.2222222222222222,\"#7201a8\"],[0.3333333333333333,\"#9c179e\"],[0.4444444444444444,\"#bd3786\"],[0.5555555555555556,\"#d8576b\"],[0.6666666666666666,\"#ed7953\"],[0.7777777777777778,\"#fb9f3a\"],[0.8888888888888888,\"#fdca26\"],[1.0,\"#f0f921\"]],\"type\":\"histogram2d\"}],\"histogram\":[{\"marker\":{\"pattern\":{\"fillmode\":\"overlay\",\"size\":10,\"solidity\":0.2}},\"type\":\"histogram\"}],\"mesh3d\":[{\"colorbar\":{\"outlinewidth\":0,\"ticks\":\"\"},\"type\":\"mesh3d\"}],\"parcoords\":[{\"line\":{\"colorbar\":{\"outlinewidth\":0,\"ticks\":\"\"}},\"type\":\"parcoords\"}],\"pie\":[{\"automargin\":true,\"type\":\"pie\"}],\"scatter3d\":[{\"line\":{\"colorbar\":{\"outlinewidth\":0,\"ticks\":\"\"}},\"marker\":{\"colorbar\":{\"outlinewidth\":0,\"ticks\":\"\"}},\"type\":\"scatter3d\"}],\"scattercarpet\":[{\"marker\":{\"colorbar\":{\"outlinewidth\":0,\"ticks\":\"\"}},\"type\":\"scattercarpet\"}],\"scattergeo\":[{\"marker\":{\"colorbar\":{\"outlinewidth\":0,\"ticks\":\"\"}},\"type\":\"scattergeo\"}],\"scattergl\":[{\"marker\":{\"colorbar\":{\"outlinewidth\":0,\"ticks\":\"\"}},\"type\":\"scattergl\"}],\"scattermapbox\":[{\"marker\":{\"colorbar\":{\"outlinewidth\":0,\"ticks\":\"\"}},\"type\":\"scattermapbox\"}],\"scatterpolargl\":[{\"marker\":{\"colorbar\":{\"outlinewidth\":0,\"ticks\":\"\"}},\"type\":\"scatterpolargl\"}],\"scatterpolar\":[{\"marker\":{\"colorbar\":{\"outlinewidth\":0,\"ticks\":\"\"}},\"type\":\"scatterpolar\"}],\"scatter\":[{\"fillpattern\":{\"fillmode\":\"overlay\",\"size\":10,\"solidity\":0.2},\"type\":\"scatter\"}],\"scatterternary\":[{\"marker\":{\"colorbar\":{\"outlinewidth\":0,\"ticks\":\"\"}},\"type\":\"scatterternary\"}],\"surface\":[{\"colorbar\":{\"outlinewidth\":0,\"ticks\":\"\"},\"colorscale\":[[0.0,\"#0d0887\"],[0.1111111111111111,\"#46039f\"],[0.2222222222222222,\"#7201a8\"],[0.3333333333333333,\"#9c179e\"],[0.4444444444444444,\"#bd3786\"],[0.5555555555555556,\"#d8576b\"],[0.6666666666666666,\"#ed7953\"],[0.7777777777777778,\"#fb9f3a\"],[0.8888888888888888,\"#fdca26\"],[1.0,\"#f0f921\"]],\"type\":\"surface\"}],\"table\":[{\"cells\":{\"fill\":{\"color\":\"#EBF0F8\"},\"line\":{\"color\":\"white\"}},\"header\":{\"fill\":{\"color\":\"#C8D4E3\"},\"line\":{\"color\":\"white\"}},\"type\":\"table\"}]},\"layout\":{\"annotationdefaults\":{\"arrowcolor\":\"#2a3f5f\",\"arrowhead\":0,\"arrowwidth\":1},\"autotypenumbers\":\"strict\",\"coloraxis\":{\"colorbar\":{\"outlinewidth\":0,\"ticks\":\"\"}},\"colorscale\":{\"diverging\":[[0,\"#8e0152\"],[0.1,\"#c51b7d\"],[0.2,\"#de77ae\"],[0.3,\"#f1b6da\"],[0.4,\"#fde0ef\"],[0.5,\"#f7f7f7\"],[0.6,\"#e6f5d0\"],[0.7,\"#b8e186\"],[0.8,\"#7fbc41\"],[0.9,\"#4d9221\"],[1,\"#276419\"]],\"sequential\":[[0.0,\"#0d0887\"],[0.1111111111111111,\"#46039f\"],[0.2222222222222222,\"#7201a8\"],[0.3333333333333333,\"#9c179e\"],[0.4444444444444444,\"#bd3786\"],[0.5555555555555556,\"#d8576b\"],[0.6666666666666666,\"#ed7953\"],[0.7777777777777778,\"#fb9f3a\"],[0.8888888888888888,\"#fdca26\"],[1.0,\"#f0f921\"]],\"sequentialminus\":[[0.0,\"#0d0887\"],[0.1111111111111111,\"#46039f\"],[0.2222222222222222,\"#7201a8\"],[0.3333333333333333,\"#9c179e\"],[0.4444444444444444,\"#bd3786\"],[0.5555555555555556,\"#d8576b\"],[0.6666666666666666,\"#ed7953\"],[0.7777777777777778,\"#fb9f3a\"],[0.8888888888888888,\"#fdca26\"],[1.0,\"#f0f921\"]]},\"colorway\":[\"#636efa\",\"#EF553B\",\"#00cc96\",\"#ab63fa\",\"#FFA15A\",\"#19d3f3\",\"#FF6692\",\"#B6E880\",\"#FF97FF\",\"#FECB52\"],\"font\":{\"color\":\"#2a3f5f\"},\"geo\":{\"bgcolor\":\"white\",\"lakecolor\":\"white\",\"landcolor\":\"white\",\"showlakes\":true,\"showland\":true,\"subunitcolor\":\"#C8D4E3\"},\"hoverlabel\":{\"align\":\"left\"},\"hovermode\":\"closest\",\"mapbox\":{\"style\":\"light\"},\"paper_bgcolor\":\"white\",\"plot_bgcolor\":\"white\",\"polar\":{\"angularaxis\":{\"gridcolor\":\"#EBF0F8\",\"linecolor\":\"#EBF0F8\",\"ticks\":\"\"},\"bgcolor\":\"white\",\"radialaxis\":{\"gridcolor\":\"#EBF0F8\",\"linecolor\":\"#EBF0F8\",\"ticks\":\"\"}},\"scene\":{\"xaxis\":{\"backgroundcolor\":\"white\",\"gridcolor\":\"#DFE8F3\",\"gridwidth\":2,\"linecolor\":\"#EBF0F8\",\"showbackground\":true,\"ticks\":\"\",\"zerolinecolor\":\"#EBF0F8\"},\"yaxis\":{\"backgroundcolor\":\"white\",\"gridcolor\":\"#DFE8F3\",\"gridwidth\":2,\"linecolor\":\"#EBF0F8\",\"showbackground\":true,\"ticks\":\"\",\"zerolinecolor\":\"#EBF0F8\"},\"zaxis\":{\"backgroundcolor\":\"white\",\"gridcolor\":\"#DFE8F3\",\"gridwidth\":2,\"linecolor\":\"#EBF0F8\",\"showbackground\":true,\"ticks\":\"\",\"zerolinecolor\":\"#EBF0F8\"}},\"shapedefaults\":{\"line\":{\"color\":\"#2a3f5f\"}},\"ternary\":{\"aaxis\":{\"gridcolor\":\"#DFE8F3\",\"linecolor\":\"#A2B1C6\",\"ticks\":\"\"},\"baxis\":{\"gridcolor\":\"#DFE8F3\",\"linecolor\":\"#A2B1C6\",\"ticks\":\"\"},\"bgcolor\":\"white\",\"caxis\":{\"gridcolor\":\"#DFE8F3\",\"linecolor\":\"#A2B1C6\",\"ticks\":\"\"}},\"title\":{\"x\":0.05},\"xaxis\":{\"automargin\":true,\"gridcolor\":\"#EBF0F8\",\"linecolor\":\"#EBF0F8\",\"ticks\":\"\",\"title\":{\"standoff\":15},\"zerolinecolor\":\"#EBF0F8\",\"zerolinewidth\":2},\"yaxis\":{\"automargin\":true,\"gridcolor\":\"#EBF0F8\",\"linecolor\":\"#EBF0F8\",\"ticks\":\"\",\"title\":{\"standoff\":15},\"zerolinecolor\":\"#EBF0F8\",\"zerolinewidth\":2}}},\"xaxis\":{\"anchor\":\"y\",\"domain\":[0.0,1.0],\"title\":{\"text\":\"\\u003cb\\u003eYear\\u003c\\u002fb\\u003e\",\"font\":{\"size\":15}}},\"yaxis\":{\"anchor\":\"x\",\"domain\":[0.0,1.0],\"title\":{\"text\":\"\\u003cb\\u003eTotal people\\u003c\\u002fb\\u003e\",\"font\":{\"size\":15}}},\"legend\":{\"title\":{\"text\":\"Work types\"},\"tracegroupgap\":0},\"title\":{\"text\":\"\\u003cb\\u003eTrends in work types over the years\\u003c\\u002fb\\u003e\",\"font\":{\"size\":20},\"x\":0.5}},                        {\"responsive\": true}                    ).then(function(){\n",
       "                            \n",
       "var gd = document.getElementById('b80e78e1-0ed8-42ed-a70f-723a2546d836');\n",
       "var x = new MutationObserver(function (mutations, observer) {{\n",
       "        var display = window.getComputedStyle(gd).display;\n",
       "        if (!display || display === 'none') {{\n",
       "            console.log([gd, 'removed!']);\n",
       "            Plotly.purge(gd);\n",
       "            observer.disconnect();\n",
       "        }}\n",
       "}});\n",
       "\n",
       "// Listen for the removal of the full notebook cells\n",
       "var notebookContainer = gd.closest('#notebook-container');\n",
       "if (notebookContainer) {{\n",
       "    x.observe(notebookContainer, {childList: true});\n",
       "}}\n",
       "\n",
       "// Listen for the clearing of the current output cell\n",
       "var outputEl = gd.closest('.output');\n",
       "if (outputEl) {{\n",
       "    x.observe(outputEl, {childList: true});\n",
       "}}\n",
       "\n",
       "                        })                };                });            </script>        </div>"
      ]
     },
     "metadata": {},
     "output_type": "display_data"
    }
   ],
   "source": [
    "df_chart = df.groupby(['work_year', 'remote_ratio']).size().reset_index(name='number')\n",
    "# Create a line plot using Plotly\n",
    "fig = px.line(\n",
    "    df_chart.reset_index(),  # Ensure 'work_year' and 'remote_ratio' are columns, not indices\n",
    "    x='work_year',\n",
    "    y='number',\n",
    "    color='remote_ratio',\n",
    "    markers=True,\n",
    "    title='<b>Trends in work types over the years</b>',\n",
    ")\n",
    "\n",
    "# Update layout for better formatting\n",
    "fig.update_layout(\n",
    "    xaxis_title=\"<b>Year</b>\",\n",
    "    title_x=0.5,\n",
    "    yaxis_title=\"<b>Total people</b>\",\n",
    "    legend_title='Work types',\n",
    "    template=\"plotly_white\",\n",
    "    title_font_size=20,\n",
    "    xaxis_title_font_size=15,\n",
    "    yaxis_title_font_size=15\n",
    ")\n",
    "\n",
    "# Customize marker style\n",
    "fig.update_traces(marker=dict(size=6, color='orange', line=dict(width=2, color='black')))\n",
    "\n",
    "# Show the plot\n",
    "fig.show()"
   ]
  },
  {
   "cell_type": "code",
   "execution_count": 29,
   "metadata": {},
   "outputs": [
    {
     "data": {
      "application/vnd.plotly.v1+json": {
       "config": {
        "plotlyServerURL": "https://plot.ly"
       },
       "data": [
        {
         "labels": [
          "SE (65.3 %)",
          "MI (23.9 %)",
          "EN (7.7 %)",
          "EX (3.0 %)"
         ],
         "marker": {
          "colors": [
           "#FF9999",
           "#66B2FF",
           "#99FF99",
           "#FFCC99",
           "#FFD700",
           "#FF4500"
          ]
         },
         "pull": [
          0,
          0,
          0,
          0.2
         ],
         "type": "pie",
         "values": [
          65.34573392640517,
          23.945275643617737,
          7.736891764388732,
          2.972098665588354
         ]
        }
       ],
       "layout": {
        "autosize": true,
        "margin": {
         "b": 0,
         "l": 0,
         "r": 0,
         "t": 60
        },
        "showlegend": true,
        "template": {
         "data": {
          "bar": [
           {
            "error_x": {
             "color": "#2a3f5f"
            },
            "error_y": {
             "color": "#2a3f5f"
            },
            "marker": {
             "line": {
              "color": "white",
              "width": 0.5
             },
             "pattern": {
              "fillmode": "overlay",
              "size": 10,
              "solidity": 0.2
             }
            },
            "type": "bar"
           }
          ],
          "barpolar": [
           {
            "marker": {
             "line": {
              "color": "white",
              "width": 0.5
             },
             "pattern": {
              "fillmode": "overlay",
              "size": 10,
              "solidity": 0.2
             }
            },
            "type": "barpolar"
           }
          ],
          "carpet": [
           {
            "aaxis": {
             "endlinecolor": "#2a3f5f",
             "gridcolor": "#C8D4E3",
             "linecolor": "#C8D4E3",
             "minorgridcolor": "#C8D4E3",
             "startlinecolor": "#2a3f5f"
            },
            "baxis": {
             "endlinecolor": "#2a3f5f",
             "gridcolor": "#C8D4E3",
             "linecolor": "#C8D4E3",
             "minorgridcolor": "#C8D4E3",
             "startlinecolor": "#2a3f5f"
            },
            "type": "carpet"
           }
          ],
          "choropleth": [
           {
            "colorbar": {
             "outlinewidth": 0,
             "ticks": ""
            },
            "type": "choropleth"
           }
          ],
          "contour": [
           {
            "colorbar": {
             "outlinewidth": 0,
             "ticks": ""
            },
            "colorscale": [
             [
              0,
              "#0d0887"
             ],
             [
              0.1111111111111111,
              "#46039f"
             ],
             [
              0.2222222222222222,
              "#7201a8"
             ],
             [
              0.3333333333333333,
              "#9c179e"
             ],
             [
              0.4444444444444444,
              "#bd3786"
             ],
             [
              0.5555555555555556,
              "#d8576b"
             ],
             [
              0.6666666666666666,
              "#ed7953"
             ],
             [
              0.7777777777777778,
              "#fb9f3a"
             ],
             [
              0.8888888888888888,
              "#fdca26"
             ],
             [
              1,
              "#f0f921"
             ]
            ],
            "type": "contour"
           }
          ],
          "contourcarpet": [
           {
            "colorbar": {
             "outlinewidth": 0,
             "ticks": ""
            },
            "type": "contourcarpet"
           }
          ],
          "heatmap": [
           {
            "colorbar": {
             "outlinewidth": 0,
             "ticks": ""
            },
            "colorscale": [
             [
              0,
              "#0d0887"
             ],
             [
              0.1111111111111111,
              "#46039f"
             ],
             [
              0.2222222222222222,
              "#7201a8"
             ],
             [
              0.3333333333333333,
              "#9c179e"
             ],
             [
              0.4444444444444444,
              "#bd3786"
             ],
             [
              0.5555555555555556,
              "#d8576b"
             ],
             [
              0.6666666666666666,
              "#ed7953"
             ],
             [
              0.7777777777777778,
              "#fb9f3a"
             ],
             [
              0.8888888888888888,
              "#fdca26"
             ],
             [
              1,
              "#f0f921"
             ]
            ],
            "type": "heatmap"
           }
          ],
          "heatmapgl": [
           {
            "colorbar": {
             "outlinewidth": 0,
             "ticks": ""
            },
            "colorscale": [
             [
              0,
              "#0d0887"
             ],
             [
              0.1111111111111111,
              "#46039f"
             ],
             [
              0.2222222222222222,
              "#7201a8"
             ],
             [
              0.3333333333333333,
              "#9c179e"
             ],
             [
              0.4444444444444444,
              "#bd3786"
             ],
             [
              0.5555555555555556,
              "#d8576b"
             ],
             [
              0.6666666666666666,
              "#ed7953"
             ],
             [
              0.7777777777777778,
              "#fb9f3a"
             ],
             [
              0.8888888888888888,
              "#fdca26"
             ],
             [
              1,
              "#f0f921"
             ]
            ],
            "type": "heatmapgl"
           }
          ],
          "histogram": [
           {
            "marker": {
             "pattern": {
              "fillmode": "overlay",
              "size": 10,
              "solidity": 0.2
             }
            },
            "type": "histogram"
           }
          ],
          "histogram2d": [
           {
            "colorbar": {
             "outlinewidth": 0,
             "ticks": ""
            },
            "colorscale": [
             [
              0,
              "#0d0887"
             ],
             [
              0.1111111111111111,
              "#46039f"
             ],
             [
              0.2222222222222222,
              "#7201a8"
             ],
             [
              0.3333333333333333,
              "#9c179e"
             ],
             [
              0.4444444444444444,
              "#bd3786"
             ],
             [
              0.5555555555555556,
              "#d8576b"
             ],
             [
              0.6666666666666666,
              "#ed7953"
             ],
             [
              0.7777777777777778,
              "#fb9f3a"
             ],
             [
              0.8888888888888888,
              "#fdca26"
             ],
             [
              1,
              "#f0f921"
             ]
            ],
            "type": "histogram2d"
           }
          ],
          "histogram2dcontour": [
           {
            "colorbar": {
             "outlinewidth": 0,
             "ticks": ""
            },
            "colorscale": [
             [
              0,
              "#0d0887"
             ],
             [
              0.1111111111111111,
              "#46039f"
             ],
             [
              0.2222222222222222,
              "#7201a8"
             ],
             [
              0.3333333333333333,
              "#9c179e"
             ],
             [
              0.4444444444444444,
              "#bd3786"
             ],
             [
              0.5555555555555556,
              "#d8576b"
             ],
             [
              0.6666666666666666,
              "#ed7953"
             ],
             [
              0.7777777777777778,
              "#fb9f3a"
             ],
             [
              0.8888888888888888,
              "#fdca26"
             ],
             [
              1,
              "#f0f921"
             ]
            ],
            "type": "histogram2dcontour"
           }
          ],
          "mesh3d": [
           {
            "colorbar": {
             "outlinewidth": 0,
             "ticks": ""
            },
            "type": "mesh3d"
           }
          ],
          "parcoords": [
           {
            "line": {
             "colorbar": {
              "outlinewidth": 0,
              "ticks": ""
             }
            },
            "type": "parcoords"
           }
          ],
          "pie": [
           {
            "automargin": true,
            "type": "pie"
           }
          ],
          "scatter": [
           {
            "fillpattern": {
             "fillmode": "overlay",
             "size": 10,
             "solidity": 0.2
            },
            "type": "scatter"
           }
          ],
          "scatter3d": [
           {
            "line": {
             "colorbar": {
              "outlinewidth": 0,
              "ticks": ""
             }
            },
            "marker": {
             "colorbar": {
              "outlinewidth": 0,
              "ticks": ""
             }
            },
            "type": "scatter3d"
           }
          ],
          "scattercarpet": [
           {
            "marker": {
             "colorbar": {
              "outlinewidth": 0,
              "ticks": ""
             }
            },
            "type": "scattercarpet"
           }
          ],
          "scattergeo": [
           {
            "marker": {
             "colorbar": {
              "outlinewidth": 0,
              "ticks": ""
             }
            },
            "type": "scattergeo"
           }
          ],
          "scattergl": [
           {
            "marker": {
             "colorbar": {
              "outlinewidth": 0,
              "ticks": ""
             }
            },
            "type": "scattergl"
           }
          ],
          "scattermapbox": [
           {
            "marker": {
             "colorbar": {
              "outlinewidth": 0,
              "ticks": ""
             }
            },
            "type": "scattermapbox"
           }
          ],
          "scatterpolar": [
           {
            "marker": {
             "colorbar": {
              "outlinewidth": 0,
              "ticks": ""
             }
            },
            "type": "scatterpolar"
           }
          ],
          "scatterpolargl": [
           {
            "marker": {
             "colorbar": {
              "outlinewidth": 0,
              "ticks": ""
             }
            },
            "type": "scatterpolargl"
           }
          ],
          "scatterternary": [
           {
            "marker": {
             "colorbar": {
              "outlinewidth": 0,
              "ticks": ""
             }
            },
            "type": "scatterternary"
           }
          ],
          "surface": [
           {
            "colorbar": {
             "outlinewidth": 0,
             "ticks": ""
            },
            "colorscale": [
             [
              0,
              "#0d0887"
             ],
             [
              0.1111111111111111,
              "#46039f"
             ],
             [
              0.2222222222222222,
              "#7201a8"
             ],
             [
              0.3333333333333333,
              "#9c179e"
             ],
             [
              0.4444444444444444,
              "#bd3786"
             ],
             [
              0.5555555555555556,
              "#d8576b"
             ],
             [
              0.6666666666666666,
              "#ed7953"
             ],
             [
              0.7777777777777778,
              "#fb9f3a"
             ],
             [
              0.8888888888888888,
              "#fdca26"
             ],
             [
              1,
              "#f0f921"
             ]
            ],
            "type": "surface"
           }
          ],
          "table": [
           {
            "cells": {
             "fill": {
              "color": "#EBF0F8"
             },
             "line": {
              "color": "white"
             }
            },
            "header": {
             "fill": {
              "color": "#C8D4E3"
             },
             "line": {
              "color": "white"
             }
            },
            "type": "table"
           }
          ]
         },
         "layout": {
          "annotationdefaults": {
           "arrowcolor": "#2a3f5f",
           "arrowhead": 0,
           "arrowwidth": 1
          },
          "autotypenumbers": "strict",
          "coloraxis": {
           "colorbar": {
            "outlinewidth": 0,
            "ticks": ""
           }
          },
          "colorscale": {
           "diverging": [
            [
             0,
             "#8e0152"
            ],
            [
             0.1,
             "#c51b7d"
            ],
            [
             0.2,
             "#de77ae"
            ],
            [
             0.3,
             "#f1b6da"
            ],
            [
             0.4,
             "#fde0ef"
            ],
            [
             0.5,
             "#f7f7f7"
            ],
            [
             0.6,
             "#e6f5d0"
            ],
            [
             0.7,
             "#b8e186"
            ],
            [
             0.8,
             "#7fbc41"
            ],
            [
             0.9,
             "#4d9221"
            ],
            [
             1,
             "#276419"
            ]
           ],
           "sequential": [
            [
             0,
             "#0d0887"
            ],
            [
             0.1111111111111111,
             "#46039f"
            ],
            [
             0.2222222222222222,
             "#7201a8"
            ],
            [
             0.3333333333333333,
             "#9c179e"
            ],
            [
             0.4444444444444444,
             "#bd3786"
            ],
            [
             0.5555555555555556,
             "#d8576b"
            ],
            [
             0.6666666666666666,
             "#ed7953"
            ],
            [
             0.7777777777777778,
             "#fb9f3a"
            ],
            [
             0.8888888888888888,
             "#fdca26"
            ],
            [
             1,
             "#f0f921"
            ]
           ],
           "sequentialminus": [
            [
             0,
             "#0d0887"
            ],
            [
             0.1111111111111111,
             "#46039f"
            ],
            [
             0.2222222222222222,
             "#7201a8"
            ],
            [
             0.3333333333333333,
             "#9c179e"
            ],
            [
             0.4444444444444444,
             "#bd3786"
            ],
            [
             0.5555555555555556,
             "#d8576b"
            ],
            [
             0.6666666666666666,
             "#ed7953"
            ],
            [
             0.7777777777777778,
             "#fb9f3a"
            ],
            [
             0.8888888888888888,
             "#fdca26"
            ],
            [
             1,
             "#f0f921"
            ]
           ]
          },
          "colorway": [
           "#636efa",
           "#EF553B",
           "#00cc96",
           "#ab63fa",
           "#FFA15A",
           "#19d3f3",
           "#FF6692",
           "#B6E880",
           "#FF97FF",
           "#FECB52"
          ],
          "font": {
           "color": "#2a3f5f"
          },
          "geo": {
           "bgcolor": "white",
           "lakecolor": "white",
           "landcolor": "white",
           "showlakes": true,
           "showland": true,
           "subunitcolor": "#C8D4E3"
          },
          "hoverlabel": {
           "align": "left"
          },
          "hovermode": "closest",
          "mapbox": {
           "style": "light"
          },
          "paper_bgcolor": "white",
          "plot_bgcolor": "white",
          "polar": {
           "angularaxis": {
            "gridcolor": "#EBF0F8",
            "linecolor": "#EBF0F8",
            "ticks": ""
           },
           "bgcolor": "white",
           "radialaxis": {
            "gridcolor": "#EBF0F8",
            "linecolor": "#EBF0F8",
            "ticks": ""
           }
          },
          "scene": {
           "xaxis": {
            "backgroundcolor": "white",
            "gridcolor": "#DFE8F3",
            "gridwidth": 2,
            "linecolor": "#EBF0F8",
            "showbackground": true,
            "ticks": "",
            "zerolinecolor": "#EBF0F8"
           },
           "yaxis": {
            "backgroundcolor": "white",
            "gridcolor": "#DFE8F3",
            "gridwidth": 2,
            "linecolor": "#EBF0F8",
            "showbackground": true,
            "ticks": "",
            "zerolinecolor": "#EBF0F8"
           },
           "zaxis": {
            "backgroundcolor": "white",
            "gridcolor": "#DFE8F3",
            "gridwidth": 2,
            "linecolor": "#EBF0F8",
            "showbackground": true,
            "ticks": "",
            "zerolinecolor": "#EBF0F8"
           }
          },
          "shapedefaults": {
           "line": {
            "color": "#2a3f5f"
           }
          },
          "ternary": {
           "aaxis": {
            "gridcolor": "#DFE8F3",
            "linecolor": "#A2B1C6",
            "ticks": ""
           },
           "baxis": {
            "gridcolor": "#DFE8F3",
            "linecolor": "#A2B1C6",
            "ticks": ""
           },
           "bgcolor": "white",
           "caxis": {
            "gridcolor": "#DFE8F3",
            "linecolor": "#A2B1C6",
            "ticks": ""
           }
          },
          "title": {
           "x": 0.05
          },
          "xaxis": {
           "automargin": true,
           "gridcolor": "#EBF0F8",
           "linecolor": "#EBF0F8",
           "ticks": "",
           "title": {
            "standoff": 15
           },
           "zerolinecolor": "#EBF0F8",
           "zerolinewidth": 2
          },
          "yaxis": {
           "automargin": true,
           "gridcolor": "#EBF0F8",
           "linecolor": "#EBF0F8",
           "ticks": "",
           "title": {
            "standoff": 15
           },
           "zerolinecolor": "#EBF0F8",
           "zerolinewidth": 2
          }
         }
        },
        "title": {
         "font": {
          "size": 20
         },
         "text": "<b>Proportion of Experience Levels in Data Science</b>",
         "x": 0.5
        }
       }
      },
      "image/png": "[encoded data removed]",
      "text/html": [
       "<div>                            <div id=\"c353f01a-9c3d-4140-89b7-d05abeaa7edd\" class=\"plotly-graph-div\" style=\"height:525px; width:100%;\"></div>            <script type=\"text/javascript\">                require([\"plotly\"], function(Plotly) {                    window.PLOTLYENV=window.PLOTLYENV || {};                                    if (document.getElementById(\"c353f01a-9c3d-4140-89b7-d05abeaa7edd\")) {                    Plotly.newPlot(                        \"c353f01a-9c3d-4140-89b7-d05abeaa7edd\",                        [{\"labels\":[\"SE (65.3 %)\",\"MI (23.9 %)\",\"EN (7.7 %)\",\"EX (3.0 %)\"],\"marker\":{\"colors\":[\"#FF9999\",\"#66B2FF\",\"#99FF99\",\"#FFCC99\",\"#FFD700\",\"#FF4500\"]},\"pull\":[0,0,0,0.2],\"values\":[65.34573392640517,23.945275643617737,7.736891764388732,2.972098665588354],\"type\":\"pie\"}],                        {\"template\":{\"data\":{\"barpolar\":[{\"marker\":{\"line\":{\"color\":\"white\",\"width\":0.5},\"pattern\":{\"fillmode\":\"overlay\",\"size\":10,\"solidity\":0.2}},\"type\":\"barpolar\"}],\"bar\":[{\"error_x\":{\"color\":\"#2a3f5f\"},\"error_y\":{\"color\":\"#2a3f5f\"},\"marker\":{\"line\":{\"color\":\"white\",\"width\":0.5},\"pattern\":{\"fillmode\":\"overlay\",\"size\":10,\"solidity\":0.2}},\"type\":\"bar\"}],\"carpet\":[{\"aaxis\":{\"endlinecolor\":\"#2a3f5f\",\"gridcolor\":\"#C8D4E3\",\"linecolor\":\"#C8D4E3\",\"minorgridcolor\":\"#C8D4E3\",\"startlinecolor\":\"#2a3f5f\"},\"baxis\":{\"endlinecolor\":\"#2a3f5f\",\"gridcolor\":\"#C8D4E3\",\"linecolor\":\"#C8D4E3\",\"minorgridcolor\":\"#C8D4E3\",\"startlinecolor\":\"#2a3f5f\"},\"type\":\"carpet\"}],\"choropleth\":[{\"colorbar\":{\"outlinewidth\":0,\"ticks\":\"\"},\"type\":\"choropleth\"}],\"contourcarpet\":[{\"colorbar\":{\"outlinewidth\":0,\"ticks\":\"\"},\"type\":\"contourcarpet\"}],\"contour\":[{\"colorbar\":{\"outlinewidth\":0,\"ticks\":\"\"},\"colorscale\":[[0.0,\"#0d0887\"],[0.1111111111111111,\"#46039f\"],[0.2222222222222222,\"#7201a8\"],[0.3333333333333333,\"#9c179e\"],[0.4444444444444444,\"#bd3786\"],[0.5555555555555556,\"#d8576b\"],[0.6666666666666666,\"#ed7953\"],[0.7777777777777778,\"#fb9f3a\"],[0.8888888888888888,\"#fdca26\"],[1.0,\"#f0f921\"]],\"type\":\"contour\"}],\"heatmapgl\":[{\"colorbar\":{\"outlinewidth\":0,\"ticks\":\"\"},\"colorscale\":[[0.0,\"#0d0887\"],[0.1111111111111111,\"#46039f\"],[0.2222222222222222,\"#7201a8\"],[0.3333333333333333,\"#9c179e\"],[0.4444444444444444,\"#bd3786\"],[0.5555555555555556,\"#d8576b\"],[0.6666666666666666,\"#ed7953\"],[0.7777777777777778,\"#fb9f3a\"],[0.8888888888888888,\"#fdca26\"],[1.0,\"#f0f921\"]],\"type\":\"heatmapgl\"}],\"heatmap\":[{\"colorbar\":{\"outlinewidth\":0,\"ticks\":\"\"},\"colorscale\":[[0.0,\"#0d0887\"],[0.1111111111111111,\"#46039f\"],[0.2222222222222222,\"#7201a8\"],[0.3333333333333333,\"#9c179e\"],[0.4444444444444444,\"#bd3786\"],[0.5555555555555556,\"#d8576b\"],[0.6666666666666666,\"#ed7953\"],[0.7777777777777778,\"#fb9f3a\"],[0.8888888888888888,\"#fdca26\"],[1.0,\"#f0f921\"]],\"type\":\"heatmap\"}],\"histogram2dcontour\":[{\"colorbar\":{\"outlinewidth\":0,\"ticks\":\"\"},\"colorscale\":[[0.0,\"#0d0887\"],[0.1111111111111111,\"#46039f\"],[0.2222222222222222,\"#7201a8\"],[0.3333333333333333,\"#9c179e\"],[0.4444444444444444,\"#bd3786\"],[0.5555555555555556,\"#d8576b\"],[0.6666666666666666,\"#ed7953\"],[0.7777777777777778,\"#fb9f3a\"],[0.8888888888888888,\"#fdca26\"],[1.0,\"#f0f921\"]],\"type\":\"histogram2dcontour\"}],\"histogram2d\":[{\"colorbar\":{\"outlinewidth\":0,\"ticks\":\"\"},\"colorscale\":[[0.0,\"#0d0887\"],[0.1111111111111111,\"#46039f\"],[0.2222222222222222,\"#7201a8\"],[0.3333333333333333,\"#9c179e\"],[0.4444444444444444,\"#bd3786\"],[0.5555555555555556,\"#d8576b\"],[0.6666666666666666,\"#ed7953\"],[0.7777777777777778,\"#fb9f3a\"],[0.8888888888888888,\"#fdca26\"],[1.0,\"#f0f921\"]],\"type\":\"histogram2d\"}],\"histogram\":[{\"marker\":{\"pattern\":{\"fillmode\":\"overlay\",\"size\":10,\"solidity\":0.2}},\"type\":\"histogram\"}],\"mesh3d\":[{\"colorbar\":{\"outlinewidth\":0,\"ticks\":\"\"},\"type\":\"mesh3d\"}],\"parcoords\":[{\"line\":{\"colorbar\":{\"outlinewidth\":0,\"ticks\":\"\"}},\"type\":\"parcoords\"}],\"pie\":[{\"automargin\":true,\"type\":\"pie\"}],\"scatter3d\":[{\"line\":{\"colorbar\":{\"outlinewidth\":0,\"ticks\":\"\"}},\"marker\":{\"colorbar\":{\"outlinewidth\":0,\"ticks\":\"\"}},\"type\":\"scatter3d\"}],\"scattercarpet\":[{\"marker\":{\"colorbar\":{\"outlinewidth\":0,\"ticks\":\"\"}},\"type\":\"scattercarpet\"}],\"scattergeo\":[{\"marker\":{\"colorbar\":{\"outlinewidth\":0,\"ticks\":\"\"}},\"type\":\"scattergeo\"}],\"scattergl\":[{\"marker\":{\"colorbar\":{\"outlinewidth\":0,\"ticks\":\"\"}},\"type\":\"scattergl\"}],\"scattermapbox\":[{\"marker\":{\"colorbar\":{\"outlinewidth\":0,\"ticks\":\"\"}},\"type\":\"scattermapbox\"}],\"scatterpolargl\":[{\"marker\":{\"colorbar\":{\"outlinewidth\":0,\"ticks\":\"\"}},\"type\":\"scatterpolargl\"}],\"scatterpolar\":[{\"marker\":{\"colorbar\":{\"outlinewidth\":0,\"ticks\":\"\"}},\"type\":\"scatterpolar\"}],\"scatter\":[{\"fillpattern\":{\"fillmode\":\"overlay\",\"size\":10,\"solidity\":0.2},\"type\":\"scatter\"}],\"scatterternary\":[{\"marker\":{\"colorbar\":{\"outlinewidth\":0,\"ticks\":\"\"}},\"type\":\"scatterternary\"}],\"surface\":[{\"colorbar\":{\"outlinewidth\":0,\"ticks\":\"\"},\"colorscale\":[[0.0,\"#0d0887\"],[0.1111111111111111,\"#46039f\"],[0.2222222222222222,\"#7201a8\"],[0.3333333333333333,\"#9c179e\"],[0.4444444444444444,\"#bd3786\"],[0.5555555555555556,\"#d8576b\"],[0.6666666666666666,\"#ed7953\"],[0.7777777777777778,\"#fb9f3a\"],[0.8888888888888888,\"#fdca26\"],[1.0,\"#f0f921\"]],\"type\":\"surface\"}],\"table\":[{\"cells\":{\"fill\":{\"color\":\"#EBF0F8\"},\"line\":{\"color\":\"white\"}},\"header\":{\"fill\":{\"color\":\"#C8D4E3\"},\"line\":{\"color\":\"white\"}},\"type\":\"table\"}]},\"layout\":{\"annotationdefaults\":{\"arrowcolor\":\"#2a3f5f\",\"arrowhead\":0,\"arrowwidth\":1},\"autotypenumbers\":\"strict\",\"coloraxis\":{\"colorbar\":{\"outlinewidth\":0,\"ticks\":\"\"}},\"colorscale\":{\"diverging\":[[0,\"#8e0152\"],[0.1,\"#c51b7d\"],[0.2,\"#de77ae\"],[0.3,\"#f1b6da\"],[0.4,\"#fde0ef\"],[0.5,\"#f7f7f7\"],[0.6,\"#e6f5d0\"],[0.7,\"#b8e186\"],[0.8,\"#7fbc41\"],[0.9,\"#4d9221\"],[1,\"#276419\"]],\"sequential\":[[0.0,\"#0d0887\"],[0.1111111111111111,\"#46039f\"],[0.2222222222222222,\"#7201a8\"],[0.3333333333333333,\"#9c179e\"],[0.4444444444444444,\"#bd3786\"],[0.5555555555555556,\"#d8576b\"],[0.6666666666666666,\"#ed7953\"],[0.7777777777777778,\"#fb9f3a\"],[0.8888888888888888,\"#fdca26\"],[1.0,\"#f0f921\"]],\"sequentialminus\":[[0.0,\"#0d0887\"],[0.1111111111111111,\"#46039f\"],[0.2222222222222222,\"#7201a8\"],[0.3333333333333333,\"#9c179e\"],[0.4444444444444444,\"#bd3786\"],[0.5555555555555556,\"#d8576b\"],[0.6666666666666666,\"#ed7953\"],[0.7777777777777778,\"#fb9f3a\"],[0.8888888888888888,\"#fdca26\"],[1.0,\"#f0f921\"]]},\"colorway\":[\"#636efa\",\"#EF553B\",\"#00cc96\",\"#ab63fa\",\"#FFA15A\",\"#19d3f3\",\"#FF6692\",\"#B6E880\",\"#FF97FF\",\"#FECB52\"],\"font\":{\"color\":\"#2a3f5f\"},\"geo\":{\"bgcolor\":\"white\",\"lakecolor\":\"white\",\"landcolor\":\"white\",\"showlakes\":true,\"showland\":true,\"subunitcolor\":\"#C8D4E3\"},\"hoverlabel\":{\"align\":\"left\"},\"hovermode\":\"closest\",\"mapbox\":{\"style\":\"light\"},\"paper_bgcolor\":\"white\",\"plot_bgcolor\":\"white\",\"polar\":{\"angularaxis\":{\"gridcolor\":\"#EBF0F8\",\"linecolor\":\"#EBF0F8\",\"ticks\":\"\"},\"bgcolor\":\"white\",\"radialaxis\":{\"gridcolor\":\"#EBF0F8\",\"linecolor\":\"#EBF0F8\",\"ticks\":\"\"}},\"scene\":{\"xaxis\":{\"backgroundcolor\":\"white\",\"gridcolor\":\"#DFE8F3\",\"gridwidth\":2,\"linecolor\":\"#EBF0F8\",\"showbackground\":true,\"ticks\":\"\",\"zerolinecolor\":\"#EBF0F8\"},\"yaxis\":{\"backgroundcolor\":\"white\",\"gridcolor\":\"#DFE8F3\",\"gridwidth\":2,\"linecolor\":\"#EBF0F8\",\"showbackground\":true,\"ticks\":\"\",\"zerolinecolor\":\"#EBF0F8\"},\"zaxis\":{\"backgroundcolor\":\"white\",\"gridcolor\":\"#DFE8F3\",\"gridwidth\":2,\"linecolor\":\"#EBF0F8\",\"showbackground\":true,\"ticks\":\"\",\"zerolinecolor\":\"#EBF0F8\"}},\"shapedefaults\":{\"line\":{\"color\":\"#2a3f5f\"}},\"ternary\":{\"aaxis\":{\"gridcolor\":\"#DFE8F3\",\"linecolor\":\"#A2B1C6\",\"ticks\":\"\"},\"baxis\":{\"gridcolor\":\"#DFE8F3\",\"linecolor\":\"#A2B1C6\",\"ticks\":\"\"},\"bgcolor\":\"white\",\"caxis\":{\"gridcolor\":\"#DFE8F3\",\"linecolor\":\"#A2B1C6\",\"ticks\":\"\"}},\"title\":{\"x\":0.05},\"xaxis\":{\"automargin\":true,\"gridcolor\":\"#EBF0F8\",\"linecolor\":\"#EBF0F8\",\"ticks\":\"\",\"title\":{\"standoff\":15},\"zerolinecolor\":\"#EBF0F8\",\"zerolinewidth\":2},\"yaxis\":{\"automargin\":true,\"gridcolor\":\"#EBF0F8\",\"linecolor\":\"#EBF0F8\",\"ticks\":\"\",\"title\":{\"standoff\":15},\"zerolinecolor\":\"#EBF0F8\",\"zerolinewidth\":2}}},\"title\":{\"font\":{\"size\":20},\"text\":\"\\u003cb\\u003eProportion of Experience Levels in Data Science\\u003c\\u002fb\\u003e\",\"x\":0.5},\"margin\":{\"t\":60,\"b\":0,\"l\":0,\"r\":0},\"showlegend\":true},                        {\"responsive\": true}                    ).then(function(){\n",
       "                            \n",
       "var gd = document.getElementById('c353f01a-9c3d-4140-89b7-d05abeaa7edd');\n",
       "var x = new MutationObserver(function (mutations, observer) {{\n",
       "        var display = window.getComputedStyle(gd).display;\n",
       "        if (!display || display === 'none') {{\n",
       "            console.log([gd, 'removed!']);\n",
       "            Plotly.purge(gd);\n",
       "            observer.disconnect();\n",
       "        }}\n",
       "}});\n",
       "\n",
       "// Listen for the removal of the full notebook cells\n",
       "var notebookContainer = gd.closest('#notebook-container');\n",
       "if (notebookContainer) {{\n",
       "    x.observe(notebookContainer, {childList: true});\n",
       "}}\n",
       "\n",
       "// Listen for the clearing of the current output cell\n",
       "var outputEl = gd.closest('.output');\n",
       "if (outputEl) {{\n",
       "    x.observe(outputEl, {childList: true});\n",
       "}}\n",
       "\n",
       "                        })                };                });            </script>        </div>"
      ]
     },
     "metadata": {},
     "output_type": "display_data"
    }
   ],
   "source": [
    "df_chart = df['experience_level'].value_counts(normalize=True) * 100\n",
    "labels = [f'{c[0]} ({c[1].round(1)} %)' for c in zip(df_chart.index, df_chart.values)]\n",
    "# Define the custom color palette\n",
    "custom_palette = ['#FF9999', '#66B2FF', '#99FF99', '#FFCC99', '#FFD700', '#FF4500']\n",
    "\n",
    "# Create a pie chart\n",
    "fig = go.Figure(data=[go.Pie(\n",
    "    labels=labels,\n",
    "    values=df_chart.values,\n",
    "    pull=[0] * (len(labels) - 1) + [0.2],  # Pull out the last slice\n",
    "    marker=dict(colors=custom_palette),  # Custom colors\n",
    ")])\n",
    "\n",
    "# Update layout\n",
    "fig.update_layout(\n",
    "    title_text='<b>Proportion of Experience Levels in Data Science</b>',\n",
    "    title_x=0.5,\n",
    "    title_font_size=20,\n",
    "    template=\"plotly_white\",\n",
    "    showlegend=True,\n",
    "    margin=dict(t=60, b=0, l=0, r=0)  # Adjust margins if necessary\n",
    ")\n",
    "\n",
    "# Show the plot\n",
    "fig.show()\n"
   ]
  },
  {
   "cell_type": "markdown",
   "metadata": {},
   "source": [
    "<h5 style=\"text-align: left; font-family: 'Jetbrains Mono'; color: black;\"><b>3.1. HISTOGRAM: NET AMOUNTS AND GROSS AMOUNT</b></h5>\n"
   ]
  },
  {
   "cell_type": "code",
   "execution_count": null,
   "metadata": {},
   "outputs": [],
   "source": [
    "df_vietnam = df[df[\"\"]]"
   ]
  },
  {
   "cell_type": "code",
   "execution_count": 35,
   "metadata": {},
   "outputs": [
    {
     "data": {
      "application/vnd.plotly.v1+json": {
       "config": {
        "plotlyServerURL": "https://plot.ly"
       },
       "data": [
        {
         "alignmentgroup": "True",
         "bingroup": "x",
         "histnorm": "density",
         "hovertemplate": "salary_in_usd=%{x}<br>density=%{y}<extra></extra>",
         "legendgroup": "",
         "marker": {
          "color": "#9b72cf",
          "opacity": 0.8,
          "pattern": {
           "shape": ""
          }
         },
         "name": "",
         "nbinsx": 100,
         "offsetgroup": "",
         "orientation": "v",
         "showlegend": false,
         "type": "histogram",
         "x": [
          39615,
          27611,
          800000,
          774000,
          750000,
          750000,
          750000,
          750000,
          720000,
          720000,
          720000,
          720000,
          720000,
          720000,
          720000,
          720000,
          600000,
          600000,
          600000,
          550000,
          550000,
          530000,
          500000,
          500000,
          484000,
          450000,
          449000,
          448000,
          440000,
          440000,
          440000,
          440000,
          440000,
          440000,
          440000,
          440000,
          440000,
          440000,
          440000,
          440000,
          440000,
          440000,
          438000,
          418000,
          418000,
          414000,
          414000,
          408500,
          400000,
          400000,
          398900,
          398900,
          386100,
          385000,
          385000,
          385000,
          385000,
          382320,
          381500,
          381500,
          373000,
          365100,
          363000,
          363000,
          360000,
          360000,
          359400,
          359400,
          359170,
          357900,
          345400,
          345400,
          345400,
          345000,
          342400,
          340000,
          340000,
          339250,
          337300,
          337300,
          337300,
          337300,
          334075,
          333500,
          333500,
          333500,
          333500,
          331640,
          331640,
          331640,
          331640,
          331292,
          329200,
          328000,
          326000,
          325000,
          324100,
          324000,
          324000,
          324000,
          324000,
          324000,
          324000,
          324000,
          324000,
          324000,
          324000,
          323700,
          323300,
          322000,
          322000,
          322000,
          321830,
          321000,
          321000,
          320000,
          317000,
          316900,
          315000,
          314100,
          314000,
          313000,
          313000,
          312287,
          310270,
          310000,
          310000,
          310000,
          310000,
          310000,
          309000,
          309000,
          309000,
          308000,
          307100,
          304750,
          304750,
          303400,
          303400,
          303400,
          303400,
          303050,
          302840,
          300000,
          300000,
          300000,
          300000,
          300000,
          300000,
          300000,
          300000,
          300000,
          300000,
          300000,
          300000,
          300000,
          300000,
          300000,
          300000,
          300000,
          299792,
          297000,
          297000,
          297000,
          296980,
          296400,
          296100,
          295490,
          295000,
          295000,
          295000,
          295000,
          295000,
          295000,
          295000,
          295000,
          295000,
          294000,
          291900,
          290000,
          290000,
          290000,
          290000,
          290000,
          290000,
          289000,
          288400,
          288400,
          287800,
          287800,
          287500,
          287500,
          286500,
          286000,
          285670,
          285200,
          285000,
          323295,
          284400,
          284400,
          283800,
          283800,
          283800,
          283780,
          283780,
          283780,
          283780,
          283780,
          283500,
          282000,
          282000,
          280000,
          280000,
          280000,
          280000,
          280000,
          280000,
          279000,
          278800,
          278700,
          278700,
          278700,
          278700,
          278700,
          278700,
          278700,
          278700,
          278700,
          278700,
          277000,
          277000,
          277000,
          277000,
          276000,
          276000,
          276000,
          276000,
          276000,
          276000,
          275000,
          211511,
          274000,
          273500,
          272700,
          272400,
          270400,
          270250,
          270250,
          270250,
          270000,
          270000,
          270000,
          270000,
          269100,
          269000,
          268700,
          268500,
          267900,
          267900,
          267500,
          267100,
          266875,
          266875,
          266482,
          266000,
          265200,
          265000,
          263500,
          263000,
          263000,
          262269,
          261050,
          260800,
          260100,
          260100,
          260000,
          260000,
          260000,
          260000,
          260000,
          260000,
          260000,
          260000,
          260000,
          260000,
          260000,
          260000,
          260000,
          260000,
          260000,
          259900,
          259850,
          259700,
          258800,
          258800,
          258720,
          258600,
          258500,
          258500,
          258450,
          258100,
          258100,
          258100,
          258000,
          257600,
          257400,
          257250,
          257000,
          256100,
          255800,
          255800,
          255800,
          255800,
          255800,
          255800,
          255800,
          255800,
          255800,
          255475,
          255475,
          255000,
          255000,
          255000,
          254400,
          254270,
          254270,
          254000,
          253430,
          253430,
          253430,
          253000,
          253000,
          252000,
          252000,
          252000,
          252000,
          251250,
          251000,
          250900,
          250900,
          250900,
          250900,
          250800,
          250800,
          250000,
          250000,
          250000,
          250000,
          250000,
          250000,
          250000,
          250000,
          250000,
          250000,
          250000,
          250000,
          250000,
          250000,
          250000,
          250000,
          250000,
          250000,
          250000,
          250000,
          250000,
          250000,
          250000,
          250000,
          249700,
          248600,
          248600,
          247600,
          247600,
          247600,
          247600,
          247600,
          247500,
          247500,
          247500,
          247500,
          247300,
          247300,
          247300,
          247250,
          247250,
          247000,
          246500,
          246100,
          246000,
          246000,
          246000,
          245700,
          245400,
          245000,
          245000,
          245000,
          245000,
          245000,
          245000,
          245000,
          245000,
          245000,
          245000,
          245000,
          245000,
          245000,
          245000,
          245000,
          245000,
          244868,
          244800,
          244400,
          243800,
          243800,
          243500,
          243500,
          243000,
          243000,
          242100,
          242100,
          186153,
          242000,
          242000,
          186153,
          186153,
          242000,
          240960,
          240960,
          240960,
          240500,
          240500,
          240500,
          240200,
          240000,
          240000,
          240000,
          240000,
          240000,
          240000,
          240000,
          240000,
          240000,
          240000,
          240000,
          240000,
          240000,
          240000,
          240000,
          240000,
          240000,
          240000,
          240000,
          240000,
          240000,
          239600,
          239600,
          239300,
          239300,
          238500,
          238500,
          238400,
          237650,
          237600,
          237600,
          237600,
          237500,
          237500,
          237200,
          237188,
          237000,
          236400,
          236000,
          236000,
          235700,
          235680,
          235680,
          235680,
          235000,
          235000,
          235000,
          235000,
          235000,
          235000,
          235000,
          235000,
          234900,
          234700,
          234700,
          234700,
          234300,
          234200,
          234000,
          234000,
          234000,
          234000,
          234000,
          234000,
          234000,
          234000,
          234000,
          234000,
          234000,
          234000,
          234000,
          234000,
          234000,
          234000,
          234000,
          234000,
          234000,
          233840,
          233500,
          233200,
          233200,
          232000,
          232000,
          231600,
          231250,
          231000,
          231000,
          230797,
          230000,
          230000,
          230000,
          230000,
          230000,
          230000,
          230000,
          230000,
          230000,
          230000,
          230000,
          230000,
          230000,
          230000,
          230000,
          230000,
          230000,
          230000,
          230000,
          230000,
          230000,
          229900,
          229900,
          229900,
          229900,
          229900,
          229369,
          229000,
          227700,
          227200,
          227000,
          227000,
          226844,
          226500,
          226000,
          226000,
          226000,
          225000,
          225000,
          225000,
          225000,
          225000,
          225000,
          225000,
          225000,
          225000,
          225000,
          225000,
          225000,
          224800,
          224100,
          224000,
          224000,
          223700,
          223700,
          223600,
          223100,
          223100,
          223100,
          223000,
          222300,
          222200,
          222200,
          222200,
          222200,
          222200,
          222200,
          222200,
          222200,
          222200,
          222200,
          222200,
          222200,
          222200,
          222200,
          222200,
          222200,
          222000,
          221630,
          221500,
          221000,
          221000,
          221000,
          221000,
          221000,
          221000,
          221000,
          220800,
          220600,
          220067,
          220000,
          220000,
          220000,
          220000,
          220000,
          220000,
          220000,
          220000,
          220000,
          220000,
          220000,
          220000,
          220000,
          220000,
          220000,
          220000,
          220000,
          220000,
          220000,
          220000,
          220000,
          220000,
          220000,
          220000,
          220000,
          220000,
          220000,
          220000,
          220000,
          220000,
          220000,
          220000,
          220000,
          220000,
          220000,
          220000,
          220000,
          220000,
          219650,
          219650,
          219650,
          219650,
          219600,
          219600,
          219100,
          219000,
          218750,
          218500,
          218500,
          218213,
          218213,
          218185,
          218000,
          218000,
          217508,
          217508,
          216800,
          216700,
          216700,
          216700,
          216700,
          216000,
          216000,
          215500,
          215500,
          215000,
          215000,
          215000,
          165384,
          215000,
          215000,
          215000,
          215000,
          215000,
          215000,
          215000,
          215000,
          215000,
          165384,
          215000,
          165384,
          215000,
          215000,
          215000,
          214500,
          214300,
          214300,
          214000,
          212800,
          212800,
          212800,
          212800,
          212800,
          212800,
          212800,
          212780,
          212500,
          212500,
          212000,
          212000,
          212000,
          212000,
          212000,
          212000,
          212000,
          212000,
          212000,
          212000,
          212000,
          212000,
          212000,
          212000,
          212000,
          212000,
          212000,
          212000,
          212000,
          212000,
          212000,
          212000,
          212000,
          212000,
          212000,
          212000,
          212000,
          211900,
          210100,
          210100,
          210100,
          210100,
          210100,
          210100,
          210100,
          210100,
          210100,
          210100,
          210100,
          210100,
          210000,
          210000,
          210000,
          210000,
          210000,
          210000,
          210000,
          210000,
          210000,
          210000,
          210000,
          210000,
          210000,
          210000,
          210000,
          210000,
          210000,
          210000,
          210000,
          210000,
          210000,
          210000,
          210000,
          210000,
          210000,
          210000,
          210000,
          210000,
          209990,
          209943,
          209700,
          209700,
          209309,
          209300,
          209000,
          209000,
          208500,
          208500,
          208122,
          208000,
          208000,
          208000,
          208000,
          207900,
          207760,
          207600,
          207300,
          207300,
          207300,
          207000,
          207000,
          207000,
          207000,
          207000,
          207000,
          206800,
          206500,
          206000,
          206000,
          206000,
          206000,
          206000,
          206000,
          206000,
          206000,
          206000,
          205600,
          205600,
          205500,
          205500,
          205500,
          205400,
          205000,
          205000,
          205000,
          204800,
          204662,
          204600,
          204600,
          204500,
          204500,
          204500,
          204500,
          204300,
          204200,
          204000,
          204000,
          204000,
          204000,
          204000,
          203800,
          203500,
          203500,
          203000,
          202800,
          202800,
          202800,
          202600,
          202500,
          202350,
          202000,
          201900,
          201900,
          201450,
          201400,
          201400,
          201400,
          201400,
          201400,
          201400,
          201000,
          201000,
          200800,
          200800,
          200800,
          200740,
          200400,
          200400,
          200400,
          200400,
          200300,
          200200,
          200070,
          200070,
          200070,
          200000,
          200000,
          200000,
          200000,
          200000,
          200000,
          200000,
          200000,
          200000,
          200000,
          200000,
          200000,
          200000,
          200000,
          200000,
          200000,
          200000,
          200000,
          200000,
          200000,
          200000,
          200000,
          200000,
          200000,
          200000,
          125000,
          200000,
          200000,
          200000,
          200000,
          200000,
          200000,
          200000,
          200000,
          200000,
          200000,
          200000,
          200000,
          200000,
          200000,
          199700,
          199700,
          199700,
          199700,
          199700,
          199467,
          199200,
          199200,
          199100,
          199000,
          198900,
          198800,
          198650,
          198433,
          198200,
          198000,
          198000,
          198000,
          198000,
          198000,
          198000,
          198000,
          198000,
          198000,
          198000,
          198000,
          198000,
          198000,
          197500,
          197100,
          197011,
          197000,
          197000,
          197000,
          196720,
          196350,
          196350,
          196350,
          196350,
          196000,
          196000,
          195700,
          195600,
          195500,
          195500,
          195500,
          195500,
          195500,
          195500,
          195500,
          195500,
          195200,
          195200,
          195000,
          195000,
          195000,
          195000,
          195000,
          195000,
          195000,
          195000,
          195000,
          195000,
          195000,
          195000,
          195000,
          195000,
          195000,
          195000,
          195000,
          194992,
          194500,
          194500,
          194500,
          194500,
          194500,
          194200,
          194063,
          194000,
          193500,
          193412,
          193000,
          193000,
          193000,
          193000,
          193000,
          192780,
          192700,
          192700,
          192700,
          192700,
          192500,
          192500,
          192500,
          192500,
          192500,
          192500,
          192500,
          192300,
          192000,
          192000,
          191857,
          191857,
          191500,
          191311,
          191027,
          191027,
          190600,
          190500,
          190500,
          190400,
          190196,
          190196,
          190100,
          190000,
          190000,
          190000,
          190000,
          190000,
          190000,
          190000,
          190000,
          190000,
          190000,
          190000,
          190000,
          190000,
          190000,
          190000,
          190000,
          190000,
          190000,
          190000,
          190000,
          190000,
          190000,
          190000,
          190000,
          190000,
          190000,
          190000,
          190000,
          190000,
          190000,
          190000,
          190000,
          190000,
          190000,
          190000,
          190000,
          190000,
          190000,
          190000,
          189400,
          189360,
          189100,
          189000,
          189000,
          189000,
          189000,
          189000,
          188500,
          188500,
          188500,
          188500,
          188500,
          188500,
          188000,
          188000,
          188000,
          188000,
          187770,
          187500,
          187500,
          187370,
          187200,
          187165,
          187158,
          187000,
          187000,
          187000,
          187000,
          187000,
          187000,
          187000,
          187000,
          187000,
          187000,
          187000,
          186846,
          186846,
          186754,
          186000,
          186000,
          185900,
          185900,
          185900,
          185900,
          185800,
          185800,
          185800,
          185800,
          185800,
          185500,
          185490,
          185400,
          185400,
          185000,
          185000,
          185000,
          185000,
          185000,
          185000,
          185000,
          185000,
          185000,
          185000,
          185000,
          185000,
          185000,
          185000,
          185000,
          185000,
          185000,
          185000,
          185000,
          185000,
          185000,
          185000,
          185000,
          184900,
          184800,
          184800,
          184800,
          184700,
          184662,
          184180,
          184000,
          184000,
          184000,
          184000,
          184000,
          184000,
          184000,
          183400,
          183400,
          183000,
          183000,
          183000,
          182600,
          182000,
          182000,
          182000,
          182000,
          181900,
          181610,
          181280,
          181100,
          181000,
          181000,
          180700,
          180700,
          180500,
          180500,
          180400,
          180000,
          180000,
          180000,
          180000,
          180000,
          180000,
          180000,
          180000,
          180000,
          180000,
          180000,
          180000,
          180000,
          180000,
          180000,
          180000,
          180000,
          180000,
          180000,
          180000,
          180000,
          180000,
          180000,
          180000,
          180000,
          180000,
          180000,
          180000,
          180000,
          180000,
          180000,
          180000,
          180000,
          180000,
          180000,
          180000,
          180000,
          180000,
          180000,
          180000,
          180000,
          180000,
          180000,
          180000,
          180000,
          180000,
          180000,
          180000,
          180000,
          180000,
          180000,
          180000,
          180000,
          180000,
          180000,
          180000,
          180000,
          180000,
          180000,
          180000,
          180000,
          180000,
          180000,
          179900,
          179900,
          179700,
          179200,
          179000,
          179000,
          179000,
          179000,
          179000,
          179000,
          179000,
          179000,
          179000,
          179000,
          179000,
          179000,
          179000,
          179000,
          179000,
          179000,
          179000,
          179000,
          179000,
          179000,
          179000,
          179000,
          179000,
          179000,
          179000,
          179000,
          179000,
          179000,
          179000,
          179000,
          179000,
          179000,
          179000,
          178600,
          178600,
          178538,
          178500,
          178500,
          178250,
          178250,
          178250,
          177961,
          177961,
          177700,
          177500,
          177300,
          177300,
          177100,
          177000,
          177000,
          176900,
          176900,
          176875,
          176700,
          176700,
          176700,
          176000,
          176000,
          176000,
          176000,
          176000,
          176000,
          176000,
          176000,
          176000,
          176000,
          175762,
          175762,
          175520,
          175100,
          175100,
          175100,
          175100,
          175000,
          175000,
          175000,
          175000,
          175000,
          175000,
          175000,
          175000,
          175000,
          175000,
          175000,
          175000,
          175000,
          175000,
          175000,
          175000,
          175000,
          175000,
          175000,
          175000,
          175000,
          175000,
          175000,
          175000,
          175000,
          175000,
          175000,
          175000,
          175000,
          175000,
          175000,
          175000,
          175000,
          175000,
          175000,
          175000,
          174500,
          174500,
          174300,
          174000,
          174000,
          174000,
          174000,
          174000,
          174000,
          173400,
          173400,
          173000,
          173000,
          173000,
          173000,
          173000,
          173000,
          173000,
          172800,
          172800,
          172800,
          172700,
          172500,
          172400,
          172200,
          172200,
          172200,
          172200,
          172200,
          172200,
          172200,
          172100,
          172000,
          172000,
          171816,
          171600,
          171600,
          171240,
          171210,
          171210,
          171210,
          171000,
          171000,
          171000,
          170800,
          170700,
          170400,
          170375,
          170200,
          170200,
          170200,
          170200,
          170200,
          170000,
          170000,
          170000,
          170000,
          170000,
          170000,
          170000,
          170000,
          170000,
          170000,
          170000,
          170000,
          170000,
          170000,
          170000,
          170000,
          170000,
          170000,
          170000,
          170000,
          170000,
          170000,
          170000,
          170000,
          170000,
          170000,
          170000,
          170000,
          170000,
          170000,
          170000,
          170000,
          170000,
          170000,
          170000,
          170000,
          170000,
          170000,
          170000,
          170000,
          170000,
          170000,
          170000,
          170000,
          170000,
          170000,
          170000,
          170000,
          170000,
          170000,
          170000,
          170000,
          170000,
          170000,
          170000,
          170000,
          170000,
          169900,
          169767,
          169700,
          169200,
          169200,
          169000,
          168854,
          168800,
          168600,
          168600,
          168500,
          168000,
          168000,
          168000,
          168000,
          168000,
          168000,
          168000,
          168000,
          167500,
          167500,
          167500,
          167500,
          167400,
          167200,
          167200,
          167000,
          167000,
          167000,
          166700,
          166700,
          166551,
          128076,
          166363,
          166363,
          166358,
          166000,
          166000,
          166000,
          166000,
          166000,
          166000,
          166000,
          166000,
          166000,
          166000,
          166000,
          166000,
          166000,
          166000,
          166000,
          166000,
          166000,
          166000,
          166000,
          166000,
          166000,
          166000,
          166000,
          166000,
          166000,
          166000,
          166000,
          166000,
          166000,
          166000,
          166000,
          165900,
          165600,
          165600,
          165600,
          165600,
          165500,
          165100,
          165100,
          165100,
          165100,
          165100,
          165100,
          165100,
          165100,
          165100,
          165000,
          165000,
          165000,
          165000,
          165000,
          165000,
          165000,
          165000,
          165000,
          165000,
          165000,
          165000,
          165000,
          165000,
          165000,
          165000,
          165000,
          165000,
          165000,
          165000,
          165000,
          165000,
          165000,
          165000,
          165000,
          165000,
          165000,
          165000,
          165000,
          165000,
          165000,
          165000,
          165000,
          164850,
          164845,
          164800,
          164700,
          164640,
          164300,
          164000,
          164000,
          164000,
          164000,
          164000,
          164000,
          164000,
          164000,
          164000,
          164000,
          164000,
          164000,
          164000,
          163700,
          163500,
          163200,
          163000,
          163000,
          163000,
          163000,
          163000,
          162900,
          162819,
          162240,
          162240,
          162240,
          162240,
          162000,
          162000,
          162000,
          162000,
          162000,
          162000,
          162000,
          162000,
          162000,
          162000,
          162000,
          161900,
          161875,
          161500,
          161500,
          161300,
          161300,
          161250,
          161250,
          161000,
          161000,
          160700,
          160480,
          160100,
          160000,
          160000,
          160000,
          160000,
          160000,
          160000,
          160000,
          160000,
          160000,
          160000,
          160000,
          160000,
          160000,
          160000,
          160000,
          160000,
          160000,
          160000,
          160000,
          160000,
          160000,
          160000,
          160000,
          160000,
          160000,
          160000,
          160000,
          160000,
          160000,
          160000,
          160000,
          160000,
          160000,
          160000,
          160000,
          160000,
          160000,
          160000,
          160000,
          160000,
          160000,
          160000,
          160000,
          160000,
          160000,
          160000,
          160000,
          160000,
          160000,
          160000,
          160000,
          160000,
          160000,
          160000,
          160000,
          160000,
          160000,
          159870,
          159300,
          159300,
          159300,
          159300,
          159300,
          159300,
          159300,
          159300,
          159300,
          159300,
          159300,
          159250,
          159000,
          159000,
          159000,
          159000,
          159000,
          159000,
          159000,
          159000,
          159000,
          159000,
          159000,
          159000,
          158680,
          158500,
          158500,
          158500,
          158494,
          158100,
          158100,
          158000,
          158000,
          158000,
          158000,
          158000,
          157900,
          157900,
          157900,
          157900,
          157900,
          157850,
          157600,
          157600,
          157500,
          157500,
          157500,
          157476,
          157144,
          157000,
          156476,
          156450,
          156400,
          156300,
          156200,
          156000,
          156000,
          156000,
          156000,
          156000,
          156000,
          156000,
          155615,
          155615,
          155600,
          155175,
          155000,
          155000,
          155000,
          155000,
          155000,
          155000,
          155000,
          155000,
          155000,
          155000,
          155000,
          155000,
          155000,
          155000,
          155000,
          155000,
          155000,
          155000,
          155000,
          155000,
          155000,
          155000,
          155000,
          155000,
          154818,
          154800,
          154800,
          154800,
          154500,
          154400,
          193000,
          154360,
          154100,
          154100,
          154000,
          154000,
          154000,
          154000,
          154000,
          154000,
          154000,
          154000,
          153900,
          153900,
          153900,
          153700,
          153400,
          153200,
          153040,
          153040,
          153040,
          153018,
          153000,
          153000,
          153000,
          153000,
          153000,
          153000,
          153000,
          153000,
          153000,
          153000,
          153000,
          153000,
          152600,
          152500,
          152400,
          152375,
          152375,
          152375,
          152375,
          152375,
          152000,
          152000,
          152000,
          152000,
          152000,
          152000,
          152000,
          152000,
          152000,
          152000,
          152000,
          151900,
          151900,
          151900,
          151800,
          151800,
          151800,
          151800,
          151800,
          151600,
          151500,
          151500,
          151500,
          151260,
          151000,
          151000,
          151000,
          151000,
          150895,
          150800,
          150700,
          150700,
          150700,
          150500,
          150000,
          150000,
          150000,
          150000,
          150000,
          150000,
          150000,
          150000,
          150000,
          150000,
          150000,
          150000,
          150000,
          150000,
          150000,
          150000,
          150000,
          150000,
          150000,
          150000,
          150000,
          150000,
          150000,
          150000,
          150000,
          150000,
          150000,
          150000,
          150000,
          150000,
          150000,
          150000,
          150000,
          150000,
          150000,
          150000,
          150000,
          150000,
          150000,
          150000,
          150000,
          150000,
          150000,
          150000,
          150000,
          150000,
          150000,
          150000,
          150000,
          150000,
          150000,
          150000,
          150000,
          150000,
          150000,
          150000,
          150000,
          150000,
          150000,
          150000,
          150000,
          150000,
          150000,
          150000,
          150000,
          150000,
          150000,
          166666,
          150000,
          150000,
          150000,
          150000,
          150000,
          150000,
          150000,
          150000,
          150000,
          150000,
          150000,
          150000,
          150000,
          150000,
          149800,
          149800,
          149750,
          149750,
          149500,
          149300,
          149200,
          149200,
          149076,
          149000,
          149000,
          149000,
          149000,
          149000,
          148750,
          148594,
          148500,
          148300,
          148100,
          148100,
          148000,
          148000,
          148000,
          148000,
          148000,
          148000,
          148000,
          148000,
          148000,
          148000,
          147900,
          147800,
          147670,
          147645,
          147600,
          147500,
          147500,
          147500,
          147500,
          147500,
          147400,
          147000,
          147000,
          147000,
          147000,
          146900,
          146900,
          146900,
          146900,
          146900,
          146900,
          146900,
          146900,
          146900,
          146900,
          146851,
          146800,
          146500,
          146266,
          146266,
          146266,
          146266,
          146125,
          146100,
          146100,
          146100,
          146000,
          146000,
          146000,
          146000,
          146000,
          146000,
          146000,
          146000,
          146000,
          146000,
          146000,
          146000,
          146000,
          146000,
          146000,
          146000,
          146000,
          146000,
          146000,
          146000,
          146000,
          146000,
          146000,
          145600,
          145580,
          145500,
          145400,
          145400,
          145400,
          145360,
          145360,
          145125,
          145100,
          145000,
          145000,
          145000,
          145000,
          145000,
          145000,
          145000,
          145000,
          145000,
          145000,
          145000,
          145000,
          145000,
          145000,
          145000,
          145000,
          145000,
          145000,
          145000,
          145000,
          145000,
          145000,
          145000,
          145000,
          145000,
          144900,
          144700,
          144650,
          144650,
          144600,
          144600,
          144600,
          144600,
          144500,
          144300,
          144300,
          144200,
          144200,
          144200,
          144200,
          144200,
          144200,
          144200,
          144138,
          144000,
          144000,
          144000,
          144000,
          144000,
          144000,
          144000,
          143800,
          143800,
          143706,
          143500,
          143297,
          143000,
          143000,
          143000,
          143000,
          143000,
          143000,
          142500,
          142500,
          142500,
          142352,
          142100,
          142002,
          142000,
          142000,
          142000,
          142000,
          142000,
          141800,
          141375,
          141300,
          141300,
          141300,
          141300,
          141300,
          141300,
          141000,
          141000,
          141000,
          140900,
          140726,
          140400,
          140400,
          140300,
          140250,
          140250,
          140250,
          140250,
          140250,
          140250,
          140130,
          140100,
          140032,
          140025,
          140000,
          140000,
          140000,
          140000,
          140000,
          140000,
          140000,
          140000,
          140000,
          140000,
          140000,
          140000,
          140000,
          140000,
          140000,
          140000,
          140000,
          140000,
          140000,
          140000,
          140000,
          140000,
          140000,
          140000,
          140000,
          140000,
          140000,
          140000,
          140000,
          140000,
          140000,
          140000,
          140000,
          140000,
          140000,
          140000,
          140000,
          140000,
          140000,
          140000,
          140000,
          140000,
          140000,
          140000,
          140000,
          140000,
          140000,
          140000,
          140000,
          140000,
          140000,
          140000,
          140000,
          140000,
          140000,
          140000,
          140000,
          140000,
          140000,
          140000,
          140000,
          140000,
          140000,
          175000,
          140000,
          140000,
          140000,
          140000,
          140000,
          140000,
          140000,
          140000,
          140000,
          139810,
          139800,
          139800,
          139800,
          139700,
          139700,
          139600,
          139500,
          139500,
          139000,
          139000,
          139000,
          139000,
          139000,
          139000,
          139000,
          139000,
          139000,
          139000,
          138800,
          138500,
          138500,
          138500,
          138400,
          138400,
          138278,
          138200,
          138000,
          138000,
          138000,
          138000,
          138000,
          138000,
          138000,
          138000,
          138000,
          138000,
          138000,
          138000,
          138000,
          138000,
          138000,
          138000,
          138000,
          138000,
          138000,
          138000,
          137930,
          137930,
          137900,
          137871,
          137500,
          137500,
          137500,
          137500,
          137500,
          137500,
          137500,
          137500,
          137500,
          137500,
          137500,
          137500,
          137100,
          137000,
          137000,
          137000,
          137000,
          137000,
          136675,
          136500,
          136420,
          136300,
          136197,
          136000,
          136000,
          136000,
          136000,
          136000,
          136000,
          136000,
          136000,
          136000,
          136000,
          136000,
          136000,
          136000,
          136000,
          136000,
          136000,
          136000,
          136000,
          136000,
          136000,
          136000,
          136000,
          136000,
          136000,
          136000,
          136000,
          136000,
          136000,
          136000,
          136000,
          136000,
          136000,
          136000,
          136000,
          136000,
          136000,
          136000,
          136000,
          136000,
          136000,
          136000,
          136000,
          135920,
          135920,
          135549,
          135482,
          135450,
          135200,
          135200,
          135200,
          135200,
          135127,
          135097,
          135000,
          135000,
          135000,
          135000,
          135000,
          135000,
          135000,
          135000,
          135000,
          135000,
          135000,
          135000,
          135000,
          135000,
          135000,
          103846,
          135000,
          135000,
          135000,
          135000,
          135000,
          135000,
          135000,
          135000,
          135000,
          135000,
          135000,
          134900,
          134600,
          134530,
          134500,
          134500,
          134500,
          134500,
          134400,
          134400,
          134400,
          134200,
          134200,
          134160,
          134000,
          133903,
          133903,
          133650,
          133504,
          133200,
          133200,
          133200,
          133200,
          133000,
          133000,
          133000,
          133000,
          133000,
          133000,
          133000,
          133000,
          133000,
          133000,
          133000,
          132974,
          132974,
          132974,
          132900,
          132600,
          132600,
          132600,
          132567,
          132500,
          132500,
          132500,
          132500,
          132500,
          132300,
          132100,
          132100,
          132000,
          132000,
          132000,
          132000,
          132000,
          132000,
          132000,
          132000,
          132000,
          132000,
          132000,
          132000,
          132000,
          132000,
          131712,
          131600,
          131600,
          131414,
          131414,
          131300,
          131200,
          131200,
          131200,
          131200,
          131200,
          131200,
          131000,
          131000,
          130916,
          130900,
          130500,
          130500,
          130500,
          130400,
          130300,
          130100,
          130100,
          100006,
          130000,
          130000,
          130000,
          130000,
          130000,
          130000,
          130000,
          130000,
          162500,
          130000,
          130000,
          130000,
          130000,
          130000,
          130000,
          130000,
          130000,
          130000,
          130000,
          130000,
          130000,
          130000,
          130000,
          130000,
          130000,
          130000,
          130000,
          130000,
          130000,
          130000,
          130000,
          130000,
          130000,
          130000,
          130000,
          130000,
          130000,
          130000,
          130000,
          130000,
          130000,
          130000,
          130000,
          130000,
          130000,
          130000,
          130000,
          130000,
          130000,
          130000,
          162500,
          130000,
          130000,
          130000,
          130000,
          130000,
          130000,
          130000,
          130000,
          130000,
          130000,
          130000,
          130000,
          130000,
          130000,
          130000,
          130000,
          130000,
          129600,
          129118,
          129000,
          129000,
          128945,
          128900,
          128800,
          128656,
          128600,
          128250,
          128250,
          128000,
          128000,
          128000,
          128000,
          128000,
          128000,
          128000,
          128000,
          128000,
          128000,
          127660,
          127500,
          127500,
          127500,
          127500,
          127500,
          127500,
          127305,
          127300,
          127300,
          127300,
          127300,
          127300,
          127000,
          127000,
          127000,
          127000,
          126900,
          126800,
          126667,
          126600,
          126600,
          126500,
          126500,
          126480,
          126400,
          126400,
          126400,
          126400,
          126000,
          126000,
          126000,
          139777,
          125500,
          125500,
          125500,
          125100,
          125000,
          125000,
          125000,
          125000,
          125000,
          125000,
          125000,
          125000,
          125000,
          125000,
          125000,
          125000,
          125000,
          125000,
          125000,
          125000,
          125000,
          125000,
          125000,
          125000,
          125000,
          125000,
          125000,
          124935,
          124935,
          124875,
          124800,
          124690,
          124400,
          124230,
          124100,
          124100,
          124000,
          124000,
          124000,
          124000,
          124000,
          123900,
          123800,
          123765,
          123740,
          123700,
          123700,
          123625,
          123600,
          123200,
          123000,
          123000,
          123000,
          123000,
          123000,
          123000,
          123000,
          123000,
          123000,
          123000,
          123000,
          122900,
          122600,
          122500,
          122500,
          122500,
          122500,
          122328,
          122116,
          122100,
          122000,
          122000,
          122000,
          122000,
          121800,
          121500,
          121500,
          121056,
          121000,
          121000,
          120869,
          120800,
          120750,
          120715,
          120672,
          120200,
          136363,
          120000,
          120000,
          120000,
          120000,
          120000,
          120000,
          120000,
          120000,
          120000,
          120000,
          120000,
          120000,
          120000,
          120000,
          120000,
          120000,
          120000,
          120000,
          120000,
          120000,
          120000,
          150000,
          120000,
          120000,
          120000,
          120000,
          120000,
          120000,
          120000,
          120000,
          120000,
          120000,
          150000,
          120000,
          120000,
          120000,
          120000,
          120000,
          120000,
          120000,
          120000,
          120000,
          133333,
          80000,
          120000,
          120000,
          120000,
          120000,
          120000,
          120000,
          120000,
          120000,
          120000,
          120000,
          120000,
          120000,
          120000,
          120000,
          120000,
          120000,
          150000,
          120000,
          119900,
          119887,
          119786,
          119700,
          119250,
          119200,
          119200,
          119060,
          119000,
          119000,
          119000,
          119000,
          119000,
          118750,
          118600,
          118500,
          118400,
          118300,
          118300,
          118136,
          118000,
          118000,
          118000,
          117800,
          117750,
          117725,
          117500,
          117500,
          117400,
          117400,
          117000,
          117000,
          117000,
          117000,
          117000,
          117000,
          117000,
          117000,
          117000,
          117000,
          117000,
          117000,
          117000,
          117000,
          117000,
          130000,
          117000,
          117000,
          117000,
          116974,
          116800,
          116600,
          116550,
          116500,
          116259,
          116200,
          116200,
          116047,
          116013,
          116000,
          116000,
          116000,
          116000,
          116000,
          116000,
          116000,
          116000,
          116000,
          115900,
          115889,
          115800,
          115765,
          115500,
          115500,
          115500,
          115400,
          115254,
          115000,
          115000,
          115000,
          115000,
          115000,
          115000,
          115000,
          115000,
          115000,
          115000,
          115000,
          115000,
          115000,
          115000,
          115000,
          115000,
          115000,
          115000,
          115000,
          115000,
          115000,
          115000,
          115000,
          115000,
          115000,
          115000,
          115000,
          115000,
          115000,
          115000,
          115000,
          115000,
          115000,
          115000,
          115000,
          115000,
          115000,
          115000,
          115000,
          115000,
          115000,
          115000,
          114800,
          114638,
          114100,
          114000,
          129545,
          114000,
          114000,
          114000,
          114000,
          113800,
          113700,
          113500,
          113210,
          113100,
          113050,
          113000,
          113000,
          113000,
          113000,
          125333,
          112715,
          112500,
          112125,
          112000,
          140000,
          112000,
          112000,
          112000,
          112000,
          112000,
          112000,
          112000,
          112000,
          112000,
          112000,
          112000,
          112000,
          112000,
          112000,
          112000,
          112000,
          112000,
          112000,
          112000,
          112000,
          112000,
          112000,
          112000,
          112000,
          112000,
          112000,
          112000,
          112000,
          112000,
          112000,
          112000,
          112000,
          112000,
          112000,
          112000,
          112000,
          112000,
          111800,
          111800,
          111648,
          111600,
          111600,
          111600,
          111600,
          111510,
          111500,
          111500,
          111500,
          111300,
          111200,
          111000,
          111000,
          110900,
          110630,
          110500,
          110400,
          110400,
          110400,
          110300,
          110000,
          110000,
          110000,
          110000,
          110000,
          110000,
          110000,
          110000,
          110000,
          110000,
          110000,
          110000,
          110000,
          110000,
          110000,
          110000,
          110000,
          110000,
          110000,
          110000,
          110000,
          110000,
          110000,
          110000,
          110000,
          110000,
          110000,
          110000,
          110000,
          110000,
          110000,
          110000,
          110000,
          110000,
          110000,
          110000,
          110000,
          110000,
          110000,
          110000,
          110000,
          110000,
          110000,
          110000,
          110000,
          110000,
          110000,
          110000,
          110000,
          137500,
          110000,
          110000,
          110000,
          110000,
          110000,
          109920,
          109700,
          109500,
          109400,
          109400,
          109400,
          109400,
          109100,
          109000,
          109000,
          109000,
          109000,
          109000,
          109000,
          109000,
          109000,
          109000,
          109000,
          109000,
          109000,
          108750,
          108500,
          108500,
          108500,
          108500,
          108500,
          108500,
          108500,
          108500,
          108334,
          108000,
          108000,
          108000,
          107800,
          107800,
          107755,
          107730,
          107730,
          107730,
          107690,
          107500,
          107440,
          107197,
          107100,
          107000,
          107000,
          107000,
          106960,
          106875,
          106875,
          106800,
          106700,
          106700,
          106605,
          106605,
          106605,
          106500,
          106500,
          106500,
          106500,
          106500,
          106500,
          106500,
          106500,
          106500,
          106500,
          106500,
          106500,
          106500,
          106300,
          106260,
          106200,
          106200,
          106100,
          106100,
          106100,
          106100,
          106050,
          106050,
          106050,
          106050,
          106000,
          106000,
          106000,
          106000,
          106000,
          106000,
          106000,
          106000,
          106000,
          105800,
          105700,
          105700,
          105646,
          105500,
          105500,
          105500,
          105301,
          105301,
          105301,
          105300,
          105300,
          105300,
          105300,
          105267,
          105267,
          105000,
          105000,
          105000,
          105000,
          105000,
          105000,
          105000,
          105000,
          80769,
          105000,
          105000,
          105000,
          105000,
          105000,
          105000,
          105000,
          105000,
          105000,
          105000,
          105000,
          105000,
          105000,
          105000,
          105000,
          105000,
          105000,
          105000,
          105000,
          105000,
          105000,
          104981,
          104981,
          104922,
          104828,
          104800,
          104800,
          130943,
          104603,
          104500,
          104100,
          104000,
          104000,
          104000,
          104000,
          104000,
          104000,
          104000,
          104000,
          104000,
          104000,
          104000,
          103977,
          103977,
          103800,
          103786,
          103500,
          103500,
          103330,
          103300,
          103275,
          103000,
          103000,
          103000,
          103000,
          103000,
          102900,
          102500,
          102300,
          102200,
          102000,
          102000,
          102000,
          102000,
          101763,
          101763,
          101200,
          101100,
          101100,
          101000,
          101000,
          101000,
          101000,
          100800,
          100700,
          100600,
          100400,
          100200,
          100200,
          100200,
          100144,
          100022,
          100000,
          100000,
          100000,
          100000,
          100000,
          100000,
          100000,
          100000,
          100000,
          100000,
          100000,
          100000,
          100000,
          111111,
          100000,
          100000,
          100000,
          100000,
          100000,
          100000,
          100000,
          100000,
          100000,
          100000,
          100000,
          100000,
          100000,
          125000,
          125000,
          100000,
          100000,
          100000,
          100000,
          100000,
          100000,
          100000,
          100000,
          100000,
          100000,
          100000,
          100000,
          100000,
          100000,
          100000,
          100000,
          100000,
          100000,
          100000,
          100000,
          100000,
          100000,
          100000,
          100000,
          100000,
          100000,
          100000,
          100000,
          100000,
          100000,
          100000,
          100000,
          100000,
          100000,
          100000,
          100000,
          100000,
          100000,
          100000,
          100000,
          100000,
          100000,
          100000,
          100000,
          100000,
          100000,
          100000,
          100000,
          100000,
          100000,
          125000,
          100000,
          100000,
          100000,
          100000,
          100000,
          99900,
          99750,
          99600,
          99548,
          99500,
          99500,
          99500,
          99445,
          99445,
          99200,
          99100,
          99000,
          99000,
          99000,
          99000,
          98700,
          98700,
          98500,
          98000,
          98000,
          98000,
          98000,
          97935,
          97800,
          97700,
          97693,
          97500,
          97400,
          97335,
          97335,
          97300,
          97300,
          97254,
          97254,
          97200,
          97125,
          97060,
          97000,
          97000,
          97000,
          97000,
          97000,
          97000,
          97000,
          96900,
          96800,
          96800,
          96800,
          96761,
          96750,
          96750,
          96700,
          96643,
          96600,
          96600,
          96600,
          96600,
          96600,
          96600,
          96600,
          96600,
          96600,
          96500,
          96475,
          96412,
          96411,
          96411,
          96200,
          96200,
          96200,
          96200,
          96000,
          96000,
          106666,
          106666,
          96000,
          96000,
          96000,
          96000,
          96000,
          95828,
          95776,
          95413,
          95325,
          95325,
          95300,
          95300,
          95300,
          95166,
          95105,
          95000,
          95000,
          95000,
          95000,
          95000,
          95000,
          95000,
          95000,
          95000,
          118750,
          95000,
          95000,
          95000,
          95000,
          95000,
          95000,
          95000,
          95000,
          95000,
          95000,
          95000,
          95000,
          95000,
          95000,
          95000,
          94800,
          94700,
          94700,
          94625,
          94600,
          94600,
          94600,
          94500,
          94500,
          94415,
          94400,
          94400,
          94400,
          94200,
          94100,
          94000,
          94000,
          94000,
          94000,
          94000,
          94000,
          94000,
          94000,
          94000,
          93900,
          93800,
          93800,
          93500,
          93500,
          93400,
          93400,
          93400,
          93300,
          93300,
          93300,
          93300,
          93300,
          93300,
          93300,
          93300,
          93300,
          93300,
          93300,
          93300,
          93300,
          93300,
          93300,
          93300,
          93300,
          93300,
          93300,
          93300,
          93300,
          93300,
          93300,
          93150,
          93100,
          93000,
          93000,
          93000,
          93000,
          93000,
          93000,
          93000,
          93000,
          93000,
          93000,
          93000,
          92810,
          92700,
          92700,
          92700,
          92700,
          92700,
          92300,
          92190,
          92190,
          92190,
          115000,
          92000,
          92000,
          92000,
          92000,
          92000,
          92000,
          115000,
          92000,
          92000,
          92000,
          91536,
          91300,
          91000,
          91000,
          90950,
          90800,
          90800,
          90700,
          90500,
          90500,
          90500,
          90300,
          90279,
          90100,
          90000,
          90000,
          90000,
          90000,
          90000,
          90000,
          90000,
          90000,
          90000,
          100000,
          90000,
          90000,
          90000,
          90000,
          90000,
          90000,
          90000,
          90000,
          90000,
          90000,
          112500,
          90000,
          90000,
          90000,
          90000,
          90000,
          90000,
          90000,
          90000,
          112500,
          90000,
          112500,
          90000,
          90000,
          90000,
          90000,
          90000,
          90000,
          90000,
          90000,
          90000,
          90000,
          90000,
          90000,
          90000,
          90000,
          90000,
          90000,
          112500,
          90000,
          100000,
          90000,
          89500,
          89500,
          89500,
          89000,
          89000,
          89000,
          89000,
          88995,
          88854,
          88800,
          88800,
          88670,
          88200,
          88200,
          88200,
          88052,
          88000,
          88000,
          88000,
          88000,
          88000,
          87999,
          87800,
          87800,
          87600,
          87550,
          87550,
          87550,
          87400,
          87300,
          87000,
          87000,
          87000,
          108750,
          86900,
          86800,
          86800,
          86600,
          86600,
          86500,
          86424,
          86218,
          95717,
          86078,
          95584,
          86000,
          86000,
          86000,
          86000,
          86000,
          86000,
          86000,
          86000,
          86000,
          86000,
          86000,
          86000,
          86000,
          86000,
          86000,
          86000,
          85900,
          85750,
          85700,
          85500,
          85500,
          85500,
          85469,
          85420,
          85393,
          85000,
          85000,
          106250,
          85000,
          85000,
          85000,
          85000,
          85000,
          85000,
          85000,
          85000,
          85000,
          85000,
          106250,
          106250,
          85000,
          85000,
          85000,
          85000,
          85000,
          85000,
          85000,
          85000,
          85000,
          85000,
          85000,
          85000,
          85000,
          94444,
          84870,
          84750,
          84700,
          84533,
          84500,
          84500,
          84500,
          84500,
          84105,
          84068,
          84000,
          84000,
          84000,
          93333,
          84000,
          83900,
          83900,
          93222,
          83900,
          83900,
          83900,
          83646,
          83576,
          104220,
          83300,
          83300,
          83300,
          83300,
          83300,
          83300,
          83200,
          92248,
          83000,
          83000,
          82915,
          82915,
          82915,
          82620,
          82500,
          82500,
          82365,
          82000,
          82000,
          82000,
          82000,
          82000,
          81960,
          81800,
          81800,
          81713,
          81650,
          81650,
          81536,
          81530,
          81500,
          81500,
          81500,
          81500,
          81500,
          81500,
          81500,
          81500,
          81410,
          81410,
          81200,
          81000,
          80845,
          80800,
          80500,
          80420,
          80420,
          80420,
          80420,
          80080,
          100000,
          100000,
          80000,
          80000,
          80000,
          80000,
          80000,
          100000,
          80000,
          80000,
          80000,
          80000,
          100000,
          80000,
          80000,
          80000,
          88888,
          80000,
          100000,
          80000,
          80000,
          80000,
          80000,
          80000,
          80000,
          80000,
          80000,
          80000,
          80000,
          80000,
          80000,
          80000,
          80000,
          80000,
          80000,
          80000,
          80000,
          80000,
          80000,
          80000,
          80000,
          80000,
          80000,
          80000,
          79900,
          79645,
          79600,
          79600,
          79600,
          79600,
          79600,
          79600,
          79600,
          79300,
          79200,
          79200,
          79000,
          79000,
          79000,
          78900,
          78800,
          78800,
          78800,
          78800,
          78800,
          78800,
          78800,
          78575,
          78308,
          78300,
          78100,
          78000,
          78000,
          78000,
          78000,
          78000,
          77826,
          77400,
          77400,
          77280,
          77265,
          85600,
          77000,
          77000,
          96250,
          77000,
          77000,
          77000,
          77000,
          96125,
          76500,
          76500,
          76300,
          76300,
          76300,
          76300,
          76300,
          76300,
          76095,
          76050,
          76050,
          76000,
          76000,
          76000,
          75800,
          75705,
          75700,
          75500,
          75300,
          75065,
          75065,
          75065,
          93750,
          75000,
          93750,
          75000,
          75000,
          75000,
          75000,
          75000,
          75000,
          75000,
          75000,
          75000,
          75000,
          93750,
          75000,
          93750,
          83333,
          75000,
          93750,
          75000,
          75000,
          75000,
          75000,
          75000,
          75000,
          75000,
          75000,
          75000,
          74500,
          74400,
          74300,
          74300,
          74300,
          74300,
          74276,
          74270,
          74270,
          92500,
          74000,
          73756,
          73700,
          81333,
          73100,
          73100,
          73100,
          73100,
          73100,
          73100,
          73100,
          73100,
          73100,
          73100,
          73100,
          73100,
          73100,
          73100,
          73100,
          73100,
          73100,
          73100,
          73100,
          73100,
          73100,
          73100,
          73100,
          73000,
          73000,
          73000,
          73000,
          73000,
          72870,
          72700,
          72600,
          72500,
          72500,
          72360,
          80400,
          72240,
          72200,
          80142,
          72100,
          72100,
          72000,
          72000,
          72000,
          72000,
          71958,
          79765,
          79653,
          71500,
          71250,
          88973,
          71000,
          71000,
          71000,
          70800,
          70692,
          70650,
          70230,
          70000,
          70000,
          70000,
          70000,
          87500,
          70000,
          87500,
          70000,
          70000,
          70000,
          87500,
          87500,
          70000,
          70000,
          70000,
          70000,
          70000,
          77777,
          70000,
          70000,
          70000,
          77777,
          70000,
          70000,
          87500,
          70000,
          70000,
          70000,
          70000,
          70000,
          70000,
          70000,
          70000,
          77777,
          70000,
          70000,
          70000,
          70000,
          70000,
          70000,
          70000,
          70000,
          70000,
          70000,
          70000,
          70000,
          70000,
          70000,
          77777,
          69800,
          69800,
          69785,
          69600,
          69400,
          69300,
          69000,
          69000,
          69000,
          69000,
          68975,
          68850,
          68740,
          68637,
          68400,
          68400,
          68400,
          68300,
          68195,
          68150,
          68088,
          68000,
          68000,
          68000,
          68000,
          68000,
          68000,
          68000,
          67275,
          67200,
          67060,
          67000,
          67000,
          66820,
          66560,
          66100,
          82500,
          66000,
          66000,
          66000,
          66000,
          66000,
          65800,
          65800,
          65800,
          65800,
          65750,
          65750,
          65750,
          65750,
          65600,
          65600,
          65407,
          65400,
          65400,
          65300,
          65000,
          65000,
          65000,
          81250,
          65000,
          65000,
          81250,
          81250,
          81250,
          81250,
          65000,
          65000,
          65000,
          65000,
          65000,
          81250,
          72222,
          81250,
          65000,
          65000,
          65000,
          72222,
          65000,
          81250,
          81250,
          65000,
          65000,
          81250,
          65000,
          65000,
          81250,
          64900,
          64900,
          64900,
          64600,
          64600,
          64500,
          64200,
          64200,
          64000,
          64000,
          64000,
          80000,
          63444,
          63000,
          62300,
          62300,
          62100,
          62100,
          62000,
          62000,
          62000,
          62000,
          61800,
          61800,
          61700,
          61700,
          61600,
          61463,
          61000,
          76075,
          60800,
          60500,
          60080,
          66666,
          75000,
          60000,
          60000,
          75000,
          66666,
          60000,
          66666,
          60000,
          60000,
          75000,
          60000,
          75000,
          60000,
          75000,
          66666,
          66666,
          60000,
          60000,
          66666,
          75000,
          66666,
          60000,
          60000,
          66666,
          59923,
          59570,
          59500,
          59300,
          65333,
          58500,
          58400,
          58400,
          58400,
          58400,
          58400,
          58400,
          58400,
          58300,
          58300,
          58300,
          64574,
          58000,
          58000,
          58000,
          57700,
          57700,
          57500,
          57300,
          57000,
          63333,
          70000,
          55751,
          55720,
          55200,
          55200,
          55200,
          55200,
          55200,
          55200,
          55200,
          55200,
          68750,
          68750,
          68750,
          68750,
          68750,
          68750,
          68750,
          55000,
          68750,
          68750,
          68750,
          68750,
          61111,
          68750,
          68750,
          55000,
          68750,
          68750,
          68750,
          55000,
          54552,
          67993,
          67993,
          67993,
          60000,
          60000,
          54000,
          67500,
          54000,
          67500,
          54000,
          53300,
          53300,
          58888,
          53000,
          66250,
          52100,
          65000,
          57277,
          51543,
          51500,
          51375,
          64105,
          51175,
          51175,
          51000,
          51000,
          51000,
          63437,
          50700,
          56100,
          50200,
          50000,
          50000,
          62500,
          50000,
          50000,
          62500,
          62500,
          50000,
          62500,
          62500,
          55555,
          62500,
          55555,
          62500,
          62500,
          62500,
          50000,
          55555,
          50000,
          49900,
          49900,
          61875,
          49452,
          61105,
          48067,
          48000,
          48000,
          48000,
          60000,
          60000,
          53333,
          47840,
          47840,
          47840,
          47840,
          47700,
          47500,
          47500,
          47500,
          47500,
          47500,
          47500,
          59018,
          57753,
          46080,
          45900,
          45700,
          45700,
          50666,
          57000,
          56981,
          56981,
          45400,
          45400,
          56250,
          56250,
          56250,
          56250,
          56250,
          56250,
          56250,
          56250,
          56250,
          49333,
          55328,
          44100,
          44000,
          54532,
          47777,
          42700,
          53133,
          42400,
          52806,
          46666,
          42000,
          52500,
          41419,
          41419,
          41419,
          51446,
          51381,
          51283,
          40300,
          44555,
          40000,
          40000,
          50000,
          50000,
          50000,
          40000,
          50000,
          50000,
          50000,
          50000,
          50000,
          50000,
          44444,
          50000,
          50000,
          50000,
          50000,
          50000,
          50000,
          50000,
          44266,
          44000,
          42666,
          47850,
          47500,
          42222,
          42222,
          41600,
          46500,
          37120,
          46250,
          45775,
          45625,
          40000,
          40000,
          43750,
          38888,
          43750,
          43750,
          43675,
          43628,
          42500,
          42457,
          37333,
          41750,
          36000,
          39245,
          34666,
          30000,
          30000,
          30000,
          30000,
          33333,
          37500,
          31187,
          34973,
          33750,
          27000,
          27000,
          33500,
          33500,
          33500,
          33500,
          33500,
          33500,
          28888,
          28888,
          26000,
          32177,
          25000,
          31250,
          30000,
          28750,
          28750,
          28750,
          28750,
          21600,
          23333,
          17600,
          17598,
          16666
         ],
         "xaxis": "x",
         "yaxis": "y"
        },
        {
         "alignmentgroup": "True",
         "boxpoints": "all",
         "fillcolor": "rgba(255,255,255,0)",
         "hoveron": "points",
         "hovertemplate": "salary_in_usd=%{x}<extra></extra>",
         "jitter": 0,
         "legendgroup": "",
         "line": {
          "color": "rgba(255,255,255,0)"
         },
         "marker": {
          "color": "#9b72cf",
          "symbol": "line-ns-open"
         },
         "name": "",
         "offsetgroup": "",
         "showlegend": false,
         "type": "box",
         "x": [
          39615,
          27611,
          800000,
          774000,
          750000,
          750000,
          750000,
          750000,
          720000,
          720000,
          720000,
          720000,
          720000,
          720000,
          720000,
          720000,
          600000,
          600000,
          600000,
          550000,
          550000,
          530000,
          500000,
          500000,
          484000,
          450000,
          449000,
          448000,
          440000,
          440000,
          440000,
          440000,
          440000,
          440000,
          440000,
          440000,
          440000,
          440000,
          440000,
          440000,
          440000,
          440000,
          438000,
          418000,
          418000,
          414000,
          414000,
          408500,
          400000,
          400000,
          398900,
          398900,
          386100,
          385000,
          385000,
          385000,
          385000,
          382320,
          381500,
          381500,
          373000,
          365100,
          363000,
          363000,
          360000,
          360000,
          359400,
          359400,
          359170,
          357900,
          345400,
          345400,
          345400,
          345000,
          342400,
          340000,
          340000,
          339250,
          337300,
          337300,
          337300,
          337300,
          334075,
          333500,
          333500,
          333500,
          333500,
          331640,
          331640,
          331640,
          331640,
          331292,
          329200,
          328000,
          326000,
          325000,
          324100,
          324000,
          324000,
          324000,
          324000,
          324000,
          324000,
          324000,
          324000,
          324000,
          324000,
          323700,
          323300,
          322000,
          322000,
          322000,
          321830,
          321000,
          321000,
          320000,
          317000,
          316900,
          315000,
          314100,
          314000,
          313000,
          313000,
          312287,
          310270,
          310000,
          310000,
          310000,
          310000,
          310000,
          309000,
          309000,
          309000,
          308000,
          307100,
          304750,
          304750,
          303400,
          303400,
          303400,
          303400,
          303050,
          302840,
          300000,
          300000,
          300000,
          300000,
          300000,
          300000,
          300000,
          300000,
          300000,
          300000,
          300000,
          300000,
          300000,
          300000,
          300000,
          300000,
          300000,
          299792,
          297000,
          297000,
          297000,
          296980,
          296400,
          296100,
          295490,
          295000,
          295000,
          295000,
          295000,
          295000,
          295000,
          295000,
          295000,
          295000,
          294000,
          291900,
          290000,
          290000,
          290000,
          290000,
          290000,
          290000,
          289000,
          288400,
          288400,
          287800,
          287800,
          287500,
          287500,
          286500,
          286000,
          285670,
          285200,
          285000,
          323295,
          284400,
          284400,
          283800,
          283800,
          283800,
          283780,
          283780,
          283780,
          283780,
          283780,
          283500,
          282000,
          282000,
          280000,
          280000,
          280000,
          280000,
          280000,
          280000,
          279000,
          278800,
          278700,
          278700,
          278700,
          278700,
          278700,
          278700,
          278700,
          278700,
          278700,
          278700,
          277000,
          277000,
          277000,
          277000,
          276000,
          276000,
          276000,
          276000,
          276000,
          276000,
          275000,
          211511,
          274000,
          273500,
          272700,
          272400,
          270400,
          270250,
          270250,
          270250,
          270000,
          270000,
          270000,
          270000,
          269100,
          269000,
          268700,
          268500,
          267900,
          267900,
          267500,
          267100,
          266875,
          266875,
          266482,
          266000,
          265200,
          265000,
          263500,
          263000,
          263000,
          262269,
          261050,
          260800,
          260100,
          260100,
          260000,
          260000,
          260000,
          260000,
          260000,
          260000,
          260000,
          260000,
          260000,
          260000,
          260000,
          260000,
          260000,
          260000,
          260000,
          259900,
          259850,
          259700,
          258800,
          258800,
          258720,
          258600,
          258500,
          258500,
          258450,
          258100,
          258100,
          258100,
          258000,
          257600,
          257400,
          257250,
          257000,
          256100,
          255800,
          255800,
          255800,
          255800,
          255800,
          255800,
          255800,
          255800,
          255800,
          255475,
          255475,
          255000,
          255000,
          255000,
          254400,
          254270,
          254270,
          254000,
          253430,
          253430,
          253430,
          253000,
          253000,
          252000,
          252000,
          252000,
          252000,
          251250,
          251000,
          250900,
          250900,
          250900,
          250900,
          250800,
          250800,
          250000,
          250000,
          250000,
          250000,
          250000,
          250000,
          250000,
          250000,
          250000,
          250000,
          250000,
          250000,
          250000,
          250000,
          250000,
          250000,
          250000,
          250000,
          250000,
          250000,
          250000,
          250000,
          250000,
          250000,
          249700,
          248600,
          248600,
          247600,
          247600,
          247600,
          247600,
          247600,
          247500,
          247500,
          247500,
          247500,
          247300,
          247300,
          247300,
          247250,
          247250,
          247000,
          246500,
          246100,
          246000,
          246000,
          246000,
          245700,
          245400,
          245000,
          245000,
          245000,
          245000,
          245000,
          245000,
          245000,
          245000,
          245000,
          245000,
          245000,
          245000,
          245000,
          245000,
          245000,
          245000,
          244868,
          244800,
          244400,
          243800,
          243800,
          243500,
          243500,
          243000,
          243000,
          242100,
          242100,
          186153,
          242000,
          242000,
          186153,
          186153,
          242000,
          240960,
          240960,
          240960,
          240500,
          240500,
          240500,
          240200,
          240000,
          240000,
          240000,
          240000,
          240000,
          240000,
          240000,
          240000,
          240000,
          240000,
          240000,
          240000,
          240000,
          240000,
          240000,
          240000,
          240000,
          240000,
          240000,
          240000,
          240000,
          239600,
          239600,
          239300,
          239300,
          238500,
          238500,
          238400,
          237650,
          237600,
          237600,
          237600,
          237500,
          237500,
          237200,
          237188,
          237000,
          236400,
          236000,
          236000,
          235700,
          235680,
          235680,
          235680,
          235000,
          235000,
          235000,
          235000,
          235000,
          235000,
          235000,
          235000,
          234900,
          234700,
          234700,
          234700,
          234300,
          234200,
          234000,
          234000,
          234000,
          234000,
          234000,
          234000,
          234000,
          234000,
          234000,
          234000,
          234000,
          234000,
          234000,
          234000,
          234000,
          234000,
          234000,
          234000,
          234000,
          233840,
          233500,
          233200,
          233200,
          232000,
          232000,
          231600,
          231250,
          231000,
          231000,
          230797,
          230000,
          230000,
          230000,
          230000,
          230000,
          230000,
          230000,
          230000,
          230000,
          230000,
          230000,
          230000,
          230000,
          230000,
          230000,
          230000,
          230000,
          230000,
          230000,
          230000,
          230000,
          229900,
          229900,
          229900,
          229900,
          229900,
          229369,
          229000,
          227700,
          227200,
          227000,
          227000,
          226844,
          226500,
          226000,
          226000,
          226000,
          225000,
          225000,
          225000,
          225000,
          225000,
          225000,
          225000,
          225000,
          225000,
          225000,
          225000,
          225000,
          224800,
          224100,
          224000,
          224000,
          223700,
          223700,
          223600,
          223100,
          223100,
          223100,
          223000,
          222300,
          222200,
          222200,
          222200,
          222200,
          222200,
          222200,
          222200,
          222200,
          222200,
          222200,
          222200,
          222200,
          222200,
          222200,
          222200,
          222200,
          222000,
          221630,
          221500,
          221000,
          221000,
          221000,
          221000,
          221000,
          221000,
          221000,
          220800,
          220600,
          220067,
          220000,
          220000,
          220000,
          220000,
          220000,
          220000,
          220000,
          220000,
          220000,
          220000,
          220000,
          220000,
          220000,
          220000,
          220000,
          220000,
          220000,
          220000,
          220000,
          220000,
          220000,
          220000,
          220000,
          220000,
          220000,
          220000,
          220000,
          220000,
          220000,
          220000,
          220000,
          220000,
          220000,
          220000,
          220000,
          220000,
          220000,
          220000,
          219650,
          219650,
          219650,
          219650,
          219600,
          219600,
          219100,
          219000,
          218750,
          218500,
          218500,
          218213,
          218213,
          218185,
          218000,
          218000,
          217508,
          217508,
          216800,
          216700,
          216700,
          216700,
          216700,
          216000,
          216000,
          215500,
          215500,
          215000,
          215000,
          215000,
          165384,
          215000,
          215000,
          215000,
          215000,
          215000,
          215000,
          215000,
          215000,
          215000,
          165384,
          215000,
          165384,
          215000,
          215000,
          215000,
          214500,
          214300,
          214300,
          214000,
          212800,
          212800,
          212800,
          212800,
          212800,
          212800,
          212800,
          212780,
          212500,
          212500,
          212000,
          212000,
          212000,
          212000,
          212000,
          212000,
          212000,
          212000,
          212000,
          212000,
          212000,
          212000,
          212000,
          212000,
          212000,
          212000,
          212000,
          212000,
          212000,
          212000,
          212000,
          212000,
          212000,
          212000,
          212000,
          212000,
          212000,
          211900,
          210100,
          210100,
          210100,
          210100,
          210100,
          210100,
          210100,
          210100,
          210100,
          210100,
          210100,
          210100,
          210000,
          210000,
          210000,
          210000,
          210000,
          210000,
          210000,
          210000,
          210000,
          210000,
          210000,
          210000,
          210000,
          210000,
          210000,
          210000,
          210000,
          210000,
          210000,
          210000,
          210000,
          210000,
          210000,
          210000,
          210000,
          210000,
          210000,
          210000,
          209990,
          209943,
          209700,
          209700,
          209309,
          209300,
          209000,
          209000,
          208500,
          208500,
          208122,
          208000,
          208000,
          208000,
          208000,
          207900,
          207760,
          207600,
          207300,
          207300,
          207300,
          207000,
          207000,
          207000,
          207000,
          207000,
          207000,
          206800,
          206500,
          206000,
          206000,
          206000,
          206000,
          206000,
          206000,
          206000,
          206000,
          206000,
          205600,
          205600,
          205500,
          205500,
          205500,
          205400,
          205000,
          205000,
          205000,
          204800,
          204662,
          204600,
          204600,
          204500,
          204500,
          204500,
          204500,
          204300,
          204200,
          204000,
          204000,
          204000,
          204000,
          204000,
          203800,
          203500,
          203500,
          203000,
          202800,
          202800,
          202800,
          202600,
          202500,
          202350,
          202000,
          201900,
          201900,
          201450,
          201400,
          201400,
          201400,
          201400,
          201400,
          201400,
          201000,
          201000,
          200800,
          200800,
          200800,
          200740,
          200400,
          200400,
          200400,
          200400,
          200300,
          200200,
          200070,
          200070,
          200070,
          200000,
          200000,
          200000,
          200000,
          200000,
          200000,
          200000,
          200000,
          200000,
          200000,
          200000,
          200000,
          200000,
          200000,
          200000,
          200000,
          200000,
          200000,
          200000,
          200000,
          200000,
          200000,
          200000,
          200000,
          200000,
          125000,
          200000,
          200000,
          200000,
          200000,
          200000,
          200000,
          200000,
          200000,
          200000,
          200000,
          200000,
          200000,
          200000,
          200000,
          199700,
          199700,
          199700,
          199700,
          199700,
          199467,
          199200,
          199200,
          199100,
          199000,
          198900,
          198800,
          198650,
          198433,
          198200,
          198000,
          198000,
          198000,
          198000,
          198000,
          198000,
          198000,
          198000,
          198000,
          198000,
          198000,
          198000,
          198000,
          197500,
          197100,
          197011,
          197000,
          197000,
          197000,
          196720,
          196350,
          196350,
          196350,
          196350,
          196000,
          196000,
          195700,
          195600,
          195500,
          195500,
          195500,
          195500,
          195500,
          195500,
          195500,
          195500,
          195200,
          195200,
          195000,
          195000,
          195000,
          195000,
          195000,
          195000,
          195000,
          195000,
          195000,
          195000,
          195000,
          195000,
          195000,
          195000,
          195000,
          195000,
          195000,
          194992,
          194500,
          194500,
          194500,
          194500,
          194500,
          194200,
          194063,
          194000,
          193500,
          193412,
          193000,
          193000,
          193000,
          193000,
          193000,
          192780,
          192700,
          192700,
          192700,
          192700,
          192500,
          192500,
          192500,
          192500,
          192500,
          192500,
          192500,
          192300,
          192000,
          192000,
          191857,
          191857,
          191500,
          191311,
          191027,
          191027,
          190600,
          190500,
          190500,
          190400,
          190196,
          190196,
          190100,
          190000,
          190000,
          190000,
          190000,
          190000,
          190000,
          190000,
          190000,
          190000,
          190000,
          190000,
          190000,
          190000,
          190000,
          190000,
          190000,
          190000,
          190000,
          190000,
          190000,
          190000,
          190000,
          190000,
          190000,
          190000,
          190000,
          190000,
          190000,
          190000,
          190000,
          190000,
          190000,
          190000,
          190000,
          190000,
          190000,
          190000,
          190000,
          190000,
          189400,
          189360,
          189100,
          189000,
          189000,
          189000,
          189000,
          189000,
          188500,
          188500,
          188500,
          188500,
          188500,
          188500,
          188000,
          188000,
          188000,
          188000,
          187770,
          187500,
          187500,
          187370,
          187200,
          187165,
          187158,
          187000,
          187000,
          187000,
          187000,
          187000,
          187000,
          187000,
          187000,
          187000,
          187000,
          187000,
          186846,
          186846,
          186754,
          186000,
          186000,
          185900,
          185900,
          185900,
          185900,
          185800,
          185800,
          185800,
          185800,
          185800,
          185500,
          185490,
          185400,
          185400,
          185000,
          185000,
          185000,
          185000,
          185000,
          185000,
          185000,
          185000,
          185000,
          185000,
          185000,
          185000,
          185000,
          185000,
          185000,
          185000,
          185000,
          185000,
          185000,
          185000,
          185000,
          185000,
          185000,
          184900,
          184800,
          184800,
          184800,
          184700,
          184662,
          184180,
          184000,
          184000,
          184000,
          184000,
          184000,
          184000,
          184000,
          183400,
          183400,
          183000,
          183000,
          183000,
          182600,
          182000,
          182000,
          182000,
          182000,
          181900,
          181610,
          181280,
          181100,
          181000,
          181000,
          180700,
          180700,
          180500,
          180500,
          180400,
          180000,
          180000,
          180000,
          180000,
          180000,
          180000,
          180000,
          180000,
          180000,
          180000,
          180000,
          180000,
          180000,
          180000,
          180000,
          180000,
          180000,
          180000,
          180000,
          180000,
          180000,
          180000,
          180000,
          180000,
          180000,
          180000,
          180000,
          180000,
          180000,
          180000,
          180000,
          180000,
          180000,
          180000,
          180000,
          180000,
          180000,
          180000,
          180000,
          180000,
          180000,
          180000,
          180000,
          180000,
          180000,
          180000,
          180000,
          180000,
          180000,
          180000,
          180000,
          180000,
          180000,
          180000,
          180000,
          180000,
          180000,
          180000,
          180000,
          180000,
          180000,
          180000,
          180000,
          179900,
          179900,
          179700,
          179200,
          179000,
          179000,
          179000,
          179000,
          179000,
          179000,
          179000,
          179000,
          179000,
          179000,
          179000,
          179000,
          179000,
          179000,
          179000,
          179000,
          179000,
          179000,
          179000,
          179000,
          179000,
          179000,
          179000,
          179000,
          179000,
          179000,
          179000,
          179000,
          179000,
          179000,
          179000,
          179000,
          179000,
          178600,
          178600,
          178538,
          178500,
          178500,
          178250,
          178250,
          178250,
          177961,
          177961,
          177700,
          177500,
          177300,
          177300,
          177100,
          177000,
          177000,
          176900,
          176900,
          176875,
          176700,
          176700,
          176700,
          176000,
          176000,
          176000,
          176000,
          176000,
          176000,
          176000,
          176000,
          176000,
          176000,
          175762,
          175762,
          175520,
          175100,
          175100,
          175100,
          175100,
          175000,
          175000,
          175000,
          175000,
          175000,
          175000,
          175000,
          175000,
          175000,
          175000,
          175000,
          175000,
          175000,
          175000,
          175000,
          175000,
          175000,
          175000,
          175000,
          175000,
          175000,
          175000,
          175000,
          175000,
          175000,
          175000,
          175000,
          175000,
          175000,
          175000,
          175000,
          175000,
          175000,
          175000,
          175000,
          175000,
          174500,
          174500,
          174300,
          174000,
          174000,
          174000,
          174000,
          174000,
          174000,
          173400,
          173400,
          173000,
          173000,
          173000,
          173000,
          173000,
          173000,
          173000,
          172800,
          172800,
          172800,
          172700,
          172500,
          172400,
          172200,
          172200,
          172200,
          172200,
          172200,
          172200,
          172200,
          172100,
          172000,
          172000,
          171816,
          171600,
          171600,
          171240,
          171210,
          171210,
          171210,
          171000,
          171000,
          171000,
          170800,
          170700,
          170400,
          170375,
          170200,
          170200,
          170200,
          170200,
          170200,
          170000,
          170000,
          170000,
          170000,
          170000,
          170000,
          170000,
          170000,
          170000,
          170000,
          170000,
          170000,
          170000,
          170000,
          170000,
          170000,
          170000,
          170000,
          170000,
          170000,
          170000,
          170000,
          170000,
          170000,
          170000,
          170000,
          170000,
          170000,
          170000,
          170000,
          170000,
          170000,
          170000,
          170000,
          170000,
          170000,
          170000,
          170000,
          170000,
          170000,
          170000,
          170000,
          170000,
          170000,
          170000,
          170000,
          170000,
          170000,
          170000,
          170000,
          170000,
          170000,
          170000,
          170000,
          170000,
          170000,
          170000,
          169900,
          169767,
          169700,
          169200,
          169200,
          169000,
          168854,
          168800,
          168600,
          168600,
          168500,
          168000,
          168000,
          168000,
          168000,
          168000,
          168000,
          168000,
          168000,
          167500,
          167500,
          167500,
          167500,
          167400,
          167200,
          167200,
          167000,
          167000,
          167000,
          166700,
          166700,
          166551,
          128076,
          166363,
          166363,
          166358,
          166000,
          166000,
          166000,
          166000,
          166000,
          166000,
          166000,
          166000,
          166000,
          166000,
          166000,
          166000,
          166000,
          166000,
          166000,
          166000,
          166000,
          166000,
          166000,
          166000,
          166000,
          166000,
          166000,
          166000,
          166000,
          166000,
          166000,
          166000,
          166000,
          166000,
          166000,
          165900,
          165600,
          165600,
          165600,
          165600,
          165500,
          165100,
          165100,
          165100,
          165100,
          165100,
          165100,
          165100,
          165100,
          165100,
          165000,
          165000,
          165000,
          165000,
          165000,
          165000,
          165000,
          165000,
          165000,
          165000,
          165000,
          165000,
          165000,
          165000,
          165000,
          165000,
          165000,
          165000,
          165000,
          165000,
          165000,
          165000,
          165000,
          165000,
          165000,
          165000,
          165000,
          165000,
          165000,
          165000,
          165000,
          165000,
          165000,
          164850,
          164845,
          164800,
          164700,
          164640,
          164300,
          164000,
          164000,
          164000,
          164000,
          164000,
          164000,
          164000,
          164000,
          164000,
          164000,
          164000,
          164000,
          164000,
          163700,
          163500,
          163200,
          163000,
          163000,
          163000,
          163000,
          163000,
          162900,
          162819,
          162240,
          162240,
          162240,
          162240,
          162000,
          162000,
          162000,
          162000,
          162000,
          162000,
          162000,
          162000,
          162000,
          162000,
          162000,
          161900,
          161875,
          161500,
          161500,
          161300,
          161300,
          161250,
          161250,
          161000,
          161000,
          160700,
          160480,
          160100,
          160000,
          160000,
          160000,
          160000,
          160000,
          160000,
          160000,
          160000,
          160000,
          160000,
          160000,
          160000,
          160000,
          160000,
          160000,
          160000,
          160000,
          160000,
          160000,
          160000,
          160000,
          160000,
          160000,
          160000,
          160000,
          160000,
          160000,
          160000,
          160000,
          160000,
          160000,
          160000,
          160000,
          160000,
          160000,
          160000,
          160000,
          160000,
          160000,
          160000,
          160000,
          160000,
          160000,
          160000,
          160000,
          160000,
          160000,
          160000,
          160000,
          160000,
          160000,
          160000,
          160000,
          160000,
          160000,
          160000,
          160000,
          159870,
          159300,
          159300,
          159300,
          159300,
          159300,
          159300,
          159300,
          159300,
          159300,
          159300,
          159300,
          159250,
          159000,
          159000,
          159000,
          159000,
          159000,
          159000,
          159000,
          159000,
          159000,
          159000,
          159000,
          159000,
          158680,
          158500,
          158500,
          158500,
          158494,
          158100,
          158100,
          158000,
          158000,
          158000,
          158000,
          158000,
          157900,
          157900,
          157900,
          157900,
          157900,
          157850,
          157600,
          157600,
          157500,
          157500,
          157500,
          157476,
          157144,
          157000,
          156476,
          156450,
          156400,
          156300,
          156200,
          156000,
          156000,
          156000,
          156000,
          156000,
          156000,
          156000,
          155615,
          155615,
          155600,
          155175,
          155000,
          155000,
          155000,
          155000,
          155000,
          155000,
          155000,
          155000,
          155000,
          155000,
          155000,
          155000,
          155000,
          155000,
          155000,
          155000,
          155000,
          155000,
          155000,
          155000,
          155000,
          155000,
          155000,
          155000,
          154818,
          154800,
          154800,
          154800,
          154500,
          154400,
          193000,
          154360,
          154100,
          154100,
          154000,
          154000,
          154000,
          154000,
          154000,
          154000,
          154000,
          154000,
          153900,
          153900,
          153900,
          153700,
          153400,
          153200,
          153040,
          153040,
          153040,
          153018,
          153000,
          153000,
          153000,
          153000,
          153000,
          153000,
          153000,
          153000,
          153000,
          153000,
          153000,
          153000,
          152600,
          152500,
          152400,
          152375,
          152375,
          152375,
          152375,
          152375,
          152000,
          152000,
          152000,
          152000,
          152000,
          152000,
          152000,
          152000,
          152000,
          152000,
          152000,
          151900,
          151900,
          151900,
          151800,
          151800,
          151800,
          151800,
          151800,
          151600,
          151500,
          151500,
          151500,
          151260,
          151000,
          151000,
          151000,
          151000,
          150895,
          150800,
          150700,
          150700,
          150700,
          150500,
          150000,
          150000,
          150000,
          150000,
          150000,
          150000,
          150000,
          150000,
          150000,
          150000,
          150000,
          150000,
          150000,
          150000,
          150000,
          150000,
          150000,
          150000,
          150000,
          150000,
          150000,
          150000,
          150000,
          150000,
          150000,
          150000,
          150000,
          150000,
          150000,
          150000,
          150000,
          150000,
          150000,
          150000,
          150000,
          150000,
          150000,
          150000,
          150000,
          150000,
          150000,
          150000,
          150000,
          150000,
          150000,
          150000,
          150000,
          150000,
          150000,
          150000,
          150000,
          150000,
          150000,
          150000,
          150000,
          150000,
          150000,
          150000,
          150000,
          150000,
          150000,
          150000,
          150000,
          150000,
          150000,
          150000,
          150000,
          166666,
          150000,
          150000,
          150000,
          150000,
          150000,
          150000,
          150000,
          150000,
          150000,
          150000,
          150000,
          150000,
          150000,
          150000,
          149800,
          149800,
          149750,
          149750,
          149500,
          149300,
          149200,
          149200,
          149076,
          149000,
          149000,
          149000,
          149000,
          149000,
          148750,
          148594,
          148500,
          148300,
          148100,
          148100,
          148000,
          148000,
          148000,
          148000,
          148000,
          148000,
          148000,
          148000,
          148000,
          148000,
          147900,
          147800,
          147670,
          147645,
          147600,
          147500,
          147500,
          147500,
          147500,
          147500,
          147400,
          147000,
          147000,
          147000,
          147000,
          146900,
          146900,
          146900,
          146900,
          146900,
          146900,
          146900,
          146900,
          146900,
          146900,
          146851,
          146800,
          146500,
          146266,
          146266,
          146266,
          146266,
          146125,
          146100,
          146100,
          146100,
          146000,
          146000,
          146000,
          146000,
          146000,
          146000,
          146000,
          146000,
          146000,
          146000,
          146000,
          146000,
          146000,
          146000,
          146000,
          146000,
          146000,
          146000,
          146000,
          146000,
          146000,
          146000,
          146000,
          145600,
          145580,
          145500,
          145400,
          145400,
          145400,
          145360,
          145360,
          145125,
          145100,
          145000,
          145000,
          145000,
          145000,
          145000,
          145000,
          145000,
          145000,
          145000,
          145000,
          145000,
          145000,
          145000,
          145000,
          145000,
          145000,
          145000,
          145000,
          145000,
          145000,
          145000,
          145000,
          145000,
          145000,
          145000,
          144900,
          144700,
          144650,
          144650,
          144600,
          144600,
          144600,
          144600,
          144500,
          144300,
          144300,
          144200,
          144200,
          144200,
          144200,
          144200,
          144200,
          144200,
          144138,
          144000,
          144000,
          144000,
          144000,
          144000,
          144000,
          144000,
          143800,
          143800,
          143706,
          143500,
          143297,
          143000,
          143000,
          143000,
          143000,
          143000,
          143000,
          142500,
          142500,
          142500,
          142352,
          142100,
          142002,
          142000,
          142000,
          142000,
          142000,
          142000,
          141800,
          141375,
          141300,
          141300,
          141300,
          141300,
          141300,
          141300,
          141000,
          141000,
          141000,
          140900,
          140726,
          140400,
          140400,
          140300,
          140250,
          140250,
          140250,
          140250,
          140250,
          140250,
          140130,
          140100,
          140032,
          140025,
          140000,
          140000,
          140000,
          140000,
          140000,
          140000,
          140000,
          140000,
          140000,
          140000,
          140000,
          140000,
          140000,
          140000,
          140000,
          140000,
          140000,
          140000,
          140000,
          140000,
          140000,
          140000,
          140000,
          140000,
          140000,
          140000,
          140000,
          140000,
          140000,
          140000,
          140000,
          140000,
          140000,
          140000,
          140000,
          140000,
          140000,
          140000,
          140000,
          140000,
          140000,
          140000,
          140000,
          140000,
          140000,
          140000,
          140000,
          140000,
          140000,
          140000,
          140000,
          140000,
          140000,
          140000,
          140000,
          140000,
          140000,
          140000,
          140000,
          140000,
          140000,
          140000,
          140000,
          175000,
          140000,
          140000,
          140000,
          140000,
          140000,
          140000,
          140000,
          140000,
          140000,
          139810,
          139800,
          139800,
          139800,
          139700,
          139700,
          139600,
          139500,
          139500,
          139000,
          139000,
          139000,
          139000,
          139000,
          139000,
          139000,
          139000,
          139000,
          139000,
          138800,
          138500,
          138500,
          138500,
          138400,
          138400,
          138278,
          138200,
          138000,
          138000,
          138000,
          138000,
          138000,
          138000,
          138000,
          138000,
          138000,
          138000,
          138000,
          138000,
          138000,
          138000,
          138000,
          138000,
          138000,
          138000,
          138000,
          138000,
          137930,
          137930,
          137900,
          137871,
          137500,
          137500,
          137500,
          137500,
          137500,
          137500,
          137500,
          137500,
          137500,
          137500,
          137500,
          137500,
          137100,
          137000,
          137000,
          137000,
          137000,
          137000,
          136675,
          136500,
          136420,
          136300,
          136197,
          136000,
          136000,
          136000,
          136000,
          136000,
          136000,
          136000,
          136000,
          136000,
          136000,
          136000,
          136000,
          136000,
          136000,
          136000,
          136000,
          136000,
          136000,
          136000,
          136000,
          136000,
          136000,
          136000,
          136000,
          136000,
          136000,
          136000,
          136000,
          136000,
          136000,
          136000,
          136000,
          136000,
          136000,
          136000,
          136000,
          136000,
          136000,
          136000,
          136000,
          136000,
          136000,
          135920,
          135920,
          135549,
          135482,
          135450,
          135200,
          135200,
          135200,
          135200,
          135127,
          135097,
          135000,
          135000,
          135000,
          135000,
          135000,
          135000,
          135000,
          135000,
          135000,
          135000,
          135000,
          135000,
          135000,
          135000,
          135000,
          103846,
          135000,
          135000,
          135000,
          135000,
          135000,
          135000,
          135000,
          135000,
          135000,
          135000,
          135000,
          134900,
          134600,
          134530,
          134500,
          134500,
          134500,
          134500,
          134400,
          134400,
          134400,
          134200,
          134200,
          134160,
          134000,
          133903,
          133903,
          133650,
          133504,
          133200,
          133200,
          133200,
          133200,
          133000,
          133000,
          133000,
          133000,
          133000,
          133000,
          133000,
          133000,
          133000,
          133000,
          133000,
          132974,
          132974,
          132974,
          132900,
          132600,
          132600,
          132600,
          132567,
          132500,
          132500,
          132500,
          132500,
          132500,
          132300,
          132100,
          132100,
          132000,
          132000,
          132000,
          132000,
          132000,
          132000,
          132000,
          132000,
          132000,
          132000,
          132000,
          132000,
          132000,
          132000,
          131712,
          131600,
          131600,
          131414,
          131414,
          131300,
          131200,
          131200,
          131200,
          131200,
          131200,
          131200,
          131000,
          131000,
          130916,
          130900,
          130500,
          130500,
          130500,
          130400,
          130300,
          130100,
          130100,
          100006,
          130000,
          130000,
          130000,
          130000,
          130000,
          130000,
          130000,
          130000,
          162500,
          130000,
          130000,
          130000,
          130000,
          130000,
          130000,
          130000,
          130000,
          130000,
          130000,
          130000,
          130000,
          130000,
          130000,
          130000,
          130000,
          130000,
          130000,
          130000,
          130000,
          130000,
          130000,
          130000,
          130000,
          130000,
          130000,
          130000,
          130000,
          130000,
          130000,
          130000,
          130000,
          130000,
          130000,
          130000,
          130000,
          130000,
          130000,
          130000,
          130000,
          130000,
          162500,
          130000,
          130000,
          130000,
          130000,
          130000,
          130000,
          130000,
          130000,
          130000,
          130000,
          130000,
          130000,
          130000,
          130000,
          130000,
          130000,
          130000,
          129600,
          129118,
          129000,
          129000,
          128945,
          128900,
          128800,
          128656,
          128600,
          128250,
          128250,
          128000,
          128000,
          128000,
          128000,
          128000,
          128000,
          128000,
          128000,
          128000,
          128000,
          127660,
          127500,
          127500,
          127500,
          127500,
          127500,
          127500,
          127305,
          127300,
          127300,
          127300,
          127300,
          127300,
          127000,
          127000,
          127000,
          127000,
          126900,
          126800,
          126667,
          126600,
          126600,
          126500,
          126500,
          126480,
          126400,
          126400,
          126400,
          126400,
          126000,
          126000,
          126000,
          139777,
          125500,
          125500,
          125500,
          125100,
          125000,
          125000,
          125000,
          125000,
          125000,
          125000,
          125000,
          125000,
          125000,
          125000,
          125000,
          125000,
          125000,
          125000,
          125000,
          125000,
          125000,
          125000,
          125000,
          125000,
          125000,
          125000,
          125000,
          124935,
          124935,
          124875,
          124800,
          124690,
          124400,
          124230,
          124100,
          124100,
          124000,
          124000,
          124000,
          124000,
          124000,
          123900,
          123800,
          123765,
          123740,
          123700,
          123700,
          123625,
          123600,
          123200,
          123000,
          123000,
          123000,
          123000,
          123000,
          123000,
          123000,
          123000,
          123000,
          123000,
          123000,
          122900,
          122600,
          122500,
          122500,
          122500,
          122500,
          122328,
          122116,
          122100,
          122000,
          122000,
          122000,
          122000,
          121800,
          121500,
          121500,
          121056,
          121000,
          121000,
          120869,
          120800,
          120750,
          120715,
          120672,
          120200,
          136363,
          120000,
          120000,
          120000,
          120000,
          120000,
          120000,
          120000,
          120000,
          120000,
          120000,
          120000,
          120000,
          120000,
          120000,
          120000,
          120000,
          120000,
          120000,
          120000,
          120000,
          120000,
          150000,
          120000,
          120000,
          120000,
          120000,
          120000,
          120000,
          120000,
          120000,
          120000,
          120000,
          150000,
          120000,
          120000,
          120000,
          120000,
          120000,
          120000,
          120000,
          120000,
          120000,
          133333,
          80000,
          120000,
          120000,
          120000,
          120000,
          120000,
          120000,
          120000,
          120000,
          120000,
          120000,
          120000,
          120000,
          120000,
          120000,
          120000,
          120000,
          150000,
          120000,
          119900,
          119887,
          119786,
          119700,
          119250,
          119200,
          119200,
          119060,
          119000,
          119000,
          119000,
          119000,
          119000,
          118750,
          118600,
          118500,
          118400,
          118300,
          118300,
          118136,
          118000,
          118000,
          118000,
          117800,
          117750,
          117725,
          117500,
          117500,
          117400,
          117400,
          117000,
          117000,
          117000,
          117000,
          117000,
          117000,
          117000,
          117000,
          117000,
          117000,
          117000,
          117000,
          117000,
          117000,
          117000,
          130000,
          117000,
          117000,
          117000,
          116974,
          116800,
          116600,
          116550,
          116500,
          116259,
          116200,
          116200,
          116047,
          116013,
          116000,
          116000,
          116000,
          116000,
          116000,
          116000,
          116000,
          116000,
          116000,
          115900,
          115889,
          115800,
          115765,
          115500,
          115500,
          115500,
          115400,
          115254,
          115000,
          115000,
          115000,
          115000,
          115000,
          115000,
          115000,
          115000,
          115000,
          115000,
          115000,
          115000,
          115000,
          115000,
          115000,
          115000,
          115000,
          115000,
          115000,
          115000,
          115000,
          115000,
          115000,
          115000,
          115000,
          115000,
          115000,
          115000,
          115000,
          115000,
          115000,
          115000,
          115000,
          115000,
          115000,
          115000,
          115000,
          115000,
          115000,
          115000,
          115000,
          115000,
          114800,
          114638,
          114100,
          114000,
          129545,
          114000,
          114000,
          114000,
          114000,
          113800,
          113700,
          113500,
          113210,
          113100,
          113050,
          113000,
          113000,
          113000,
          113000,
          125333,
          112715,
          112500,
          112125,
          112000,
          140000,
          112000,
          112000,
          112000,
          112000,
          112000,
          112000,
          112000,
          112000,
          112000,
          112000,
          112000,
          112000,
          112000,
          112000,
          112000,
          112000,
          112000,
          112000,
          112000,
          112000,
          112000,
          112000,
          112000,
          112000,
          112000,
          112000,
          112000,
          112000,
          112000,
          112000,
          112000,
          112000,
          112000,
          112000,
          112000,
          112000,
          112000,
          111800,
          111800,
          111648,
          111600,
          111600,
          111600,
          111600,
          111510,
          111500,
          111500,
          111500,
          111300,
          111200,
          111000,
          111000,
          110900,
          110630,
          110500,
          110400,
          110400,
          110400,
          110300,
          110000,
          110000,
          110000,
          110000,
          110000,
          110000,
          110000,
          110000,
          110000,
          110000,
          110000,
          110000,
          110000,
          110000,
          110000,
          110000,
          110000,
          110000,
          110000,
          110000,
          110000,
          110000,
          110000,
          110000,
          110000,
          110000,
          110000,
          110000,
          110000,
          110000,
          110000,
          110000,
          110000,
          110000,
          110000,
          110000,
          110000,
          110000,
          110000,
          110000,
          110000,
          110000,
          110000,
          110000,
          110000,
          110000,
          110000,
          110000,
          110000,
          137500,
          110000,
          110000,
          110000,
          110000,
          110000,
          109920,
          109700,
          109500,
          109400,
          109400,
          109400,
          109400,
          109100,
          109000,
          109000,
          109000,
          109000,
          109000,
          109000,
          109000,
          109000,
          109000,
          109000,
          109000,
          109000,
          108750,
          108500,
          108500,
          108500,
          108500,
          108500,
          108500,
          108500,
          108500,
          108334,
          108000,
          108000,
          108000,
          107800,
          107800,
          107755,
          107730,
          107730,
          107730,
          107690,
          107500,
          107440,
          107197,
          107100,
          107000,
          107000,
          107000,
          106960,
          106875,
          106875,
          106800,
          106700,
          106700,
          106605,
          106605,
          106605,
          106500,
          106500,
          106500,
          106500,
          106500,
          106500,
          106500,
          106500,
          106500,
          106500,
          106500,
          106500,
          106500,
          106300,
          106260,
          106200,
          106200,
          106100,
          106100,
          106100,
          106100,
          106050,
          106050,
          106050,
          106050,
          106000,
          106000,
          106000,
          106000,
          106000,
          106000,
          106000,
          106000,
          106000,
          105800,
          105700,
          105700,
          105646,
          105500,
          105500,
          105500,
          105301,
          105301,
          105301,
          105300,
          105300,
          105300,
          105300,
          105267,
          105267,
          105000,
          105000,
          105000,
          105000,
          105000,
          105000,
          105000,
          105000,
          80769,
          105000,
          105000,
          105000,
          105000,
          105000,
          105000,
          105000,
          105000,
          105000,
          105000,
          105000,
          105000,
          105000,
          105000,
          105000,
          105000,
          105000,
          105000,
          105000,
          105000,
          105000,
          104981,
          104981,
          104922,
          104828,
          104800,
          104800,
          130943,
          104603,
          104500,
          104100,
          104000,
          104000,
          104000,
          104000,
          104000,
          104000,
          104000,
          104000,
          104000,
          104000,
          104000,
          103977,
          103977,
          103800,
          103786,
          103500,
          103500,
          103330,
          103300,
          103275,
          103000,
          103000,
          103000,
          103000,
          103000,
          102900,
          102500,
          102300,
          102200,
          102000,
          102000,
          102000,
          102000,
          101763,
          101763,
          101200,
          101100,
          101100,
          101000,
          101000,
          101000,
          101000,
          100800,
          100700,
          100600,
          100400,
          100200,
          100200,
          100200,
          100144,
          100022,
          100000,
          100000,
          100000,
          100000,
          100000,
          100000,
          100000,
          100000,
          100000,
          100000,
          100000,
          100000,
          100000,
          111111,
          100000,
          100000,
          100000,
          100000,
          100000,
          100000,
          100000,
          100000,
          100000,
          100000,
          100000,
          100000,
          100000,
          125000,
          125000,
          100000,
          100000,
          100000,
          100000,
          100000,
          100000,
          100000,
          100000,
          100000,
          100000,
          100000,
          100000,
          100000,
          100000,
          100000,
          100000,
          100000,
          100000,
          100000,
          100000,
          100000,
          100000,
          100000,
          100000,
          100000,
          100000,
          100000,
          100000,
          100000,
          100000,
          100000,
          100000,
          100000,
          100000,
          100000,
          100000,
          100000,
          100000,
          100000,
          100000,
          100000,
          100000,
          100000,
          100000,
          100000,
          100000,
          100000,
          100000,
          100000,
          100000,
          125000,
          100000,
          100000,
          100000,
          100000,
          100000,
          99900,
          99750,
          99600,
          99548,
          99500,
          99500,
          99500,
          99445,
          99445,
          99200,
          99100,
          99000,
          99000,
          99000,
          99000,
          98700,
          98700,
          98500,
          98000,
          98000,
          98000,
          98000,
          97935,
          97800,
          97700,
          97693,
          97500,
          97400,
          97335,
          97335,
          97300,
          97300,
          97254,
          97254,
          97200,
          97125,
          97060,
          97000,
          97000,
          97000,
          97000,
          97000,
          97000,
          97000,
          96900,
          96800,
          96800,
          96800,
          96761,
          96750,
          96750,
          96700,
          96643,
          96600,
          96600,
          96600,
          96600,
          96600,
          96600,
          96600,
          96600,
          96600,
          96500,
          96475,
          96412,
          96411,
          96411,
          96200,
          96200,
          96200,
          96200,
          96000,
          96000,
          106666,
          106666,
          96000,
          96000,
          96000,
          96000,
          96000,
          95828,
          95776,
          95413,
          95325,
          95325,
          95300,
          95300,
          95300,
          95166,
          95105,
          95000,
          95000,
          95000,
          95000,
          95000,
          95000,
          95000,
          95000,
          95000,
          118750,
          95000,
          95000,
          95000,
          95000,
          95000,
          95000,
          95000,
          95000,
          95000,
          95000,
          95000,
          95000,
          95000,
          95000,
          95000,
          94800,
          94700,
          94700,
          94625,
          94600,
          94600,
          94600,
          94500,
          94500,
          94415,
          94400,
          94400,
          94400,
          94200,
          94100,
          94000,
          94000,
          94000,
          94000,
          94000,
          94000,
          94000,
          94000,
          94000,
          93900,
          93800,
          93800,
          93500,
          93500,
          93400,
          93400,
          93400,
          93300,
          93300,
          93300,
          93300,
          93300,
          93300,
          93300,
          93300,
          93300,
          93300,
          93300,
          93300,
          93300,
          93300,
          93300,
          93300,
          93300,
          93300,
          93300,
          93300,
          93300,
          93300,
          93300,
          93150,
          93100,
          93000,
          93000,
          93000,
          93000,
          93000,
          93000,
          93000,
          93000,
          93000,
          93000,
          93000,
          92810,
          92700,
          92700,
          92700,
          92700,
          92700,
          92300,
          92190,
          92190,
          92190,
          115000,
          92000,
          92000,
          92000,
          92000,
          92000,
          92000,
          115000,
          92000,
          92000,
          92000,
          91536,
          91300,
          91000,
          91000,
          90950,
          90800,
          90800,
          90700,
          90500,
          90500,
          90500,
          90300,
          90279,
          90100,
          90000,
          90000,
          90000,
          90000,
          90000,
          90000,
          90000,
          90000,
          90000,
          100000,
          90000,
          90000,
          90000,
          90000,
          90000,
          90000,
          90000,
          90000,
          90000,
          90000,
          112500,
          90000,
          90000,
          90000,
          90000,
          90000,
          90000,
          90000,
          90000,
          112500,
          90000,
          112500,
          90000,
          90000,
          90000,
          90000,
          90000,
          90000,
          90000,
          90000,
          90000,
          90000,
          90000,
          90000,
          90000,
          90000,
          90000,
          90000,
          112500,
          90000,
          100000,
          90000,
          89500,
          89500,
          89500,
          89000,
          89000,
          89000,
          89000,
          88995,
          88854,
          88800,
          88800,
          88670,
          88200,
          88200,
          88200,
          88052,
          88000,
          88000,
          88000,
          88000,
          88000,
          87999,
          87800,
          87800,
          87600,
          87550,
          87550,
          87550,
          87400,
          87300,
          87000,
          87000,
          87000,
          108750,
          86900,
          86800,
          86800,
          86600,
          86600,
          86500,
          86424,
          86218,
          95717,
          86078,
          95584,
          86000,
          86000,
          86000,
          86000,
          86000,
          86000,
          86000,
          86000,
          86000,
          86000,
          86000,
          86000,
          86000,
          86000,
          86000,
          86000,
          85900,
          85750,
          85700,
          85500,
          85500,
          85500,
          85469,
          85420,
          85393,
          85000,
          85000,
          106250,
          85000,
          85000,
          85000,
          85000,
          85000,
          85000,
          85000,
          85000,
          85000,
          85000,
          106250,
          106250,
          85000,
          85000,
          85000,
          85000,
          85000,
          85000,
          85000,
          85000,
          85000,
          85000,
          85000,
          85000,
          85000,
          94444,
          84870,
          84750,
          84700,
          84533,
          84500,
          84500,
          84500,
          84500,
          84105,
          84068,
          84000,
          84000,
          84000,
          93333,
          84000,
          83900,
          83900,
          93222,
          83900,
          83900,
          83900,
          83646,
          83576,
          104220,
          83300,
          83300,
          83300,
          83300,
          83300,
          83300,
          83200,
          92248,
          83000,
          83000,
          82915,
          82915,
          82915,
          82620,
          82500,
          82500,
          82365,
          82000,
          82000,
          82000,
          82000,
          82000,
          81960,
          81800,
          81800,
          81713,
          81650,
          81650,
          81536,
          81530,
          81500,
          81500,
          81500,
          81500,
          81500,
          81500,
          81500,
          81500,
          81410,
          81410,
          81200,
          81000,
          80845,
          80800,
          80500,
          80420,
          80420,
          80420,
          80420,
          80080,
          100000,
          100000,
          80000,
          80000,
          80000,
          80000,
          80000,
          100000,
          80000,
          80000,
          80000,
          80000,
          100000,
          80000,
          80000,
          80000,
          88888,
          80000,
          100000,
          80000,
          80000,
          80000,
          80000,
          80000,
          80000,
          80000,
          80000,
          80000,
          80000,
          80000,
          80000,
          80000,
          80000,
          80000,
          80000,
          80000,
          80000,
          80000,
          80000,
          80000,
          80000,
          80000,
          80000,
          80000,
          79900,
          79645,
          79600,
          79600,
          79600,
          79600,
          79600,
          79600,
          79600,
          79300,
          79200,
          79200,
          79000,
          79000,
          79000,
          78900,
          78800,
          78800,
          78800,
          78800,
          78800,
          78800,
          78800,
          78575,
          78308,
          78300,
          78100,
          78000,
          78000,
          78000,
          78000,
          78000,
          77826,
          77400,
          77400,
          77280,
          77265,
          85600,
          77000,
          77000,
          96250,
          77000,
          77000,
          77000,
          77000,
          96125,
          76500,
          76500,
          76300,
          76300,
          76300,
          76300,
          76300,
          76300,
          76095,
          76050,
          76050,
          76000,
          76000,
          76000,
          75800,
          75705,
          75700,
          75500,
          75300,
          75065,
          75065,
          75065,
          93750,
          75000,
          93750,
          75000,
          75000,
          75000,
          75000,
          75000,
          75000,
          75000,
          75000,
          75000,
          75000,
          93750,
          75000,
          93750,
          83333,
          75000,
          93750,
          75000,
          75000,
          75000,
          75000,
          75000,
          75000,
          75000,
          75000,
          75000,
          74500,
          74400,
          74300,
          74300,
          74300,
          74300,
          74276,
          74270,
          74270,
          92500,
          74000,
          73756,
          73700,
          81333,
          73100,
          73100,
          73100,
          73100,
          73100,
          73100,
          73100,
          73100,
          73100,
          73100,
          73100,
          73100,
          73100,
          73100,
          73100,
          73100,
          73100,
          73100,
          73100,
          73100,
          73100,
          73100,
          73100,
          73000,
          73000,
          73000,
          73000,
          73000,
          72870,
          72700,
          72600,
          72500,
          72500,
          72360,
          80400,
          72240,
          72200,
          80142,
          72100,
          72100,
          72000,
          72000,
          72000,
          72000,
          71958,
          79765,
          79653,
          71500,
          71250,
          88973,
          71000,
          71000,
          71000,
          70800,
          70692,
          70650,
          70230,
          70000,
          70000,
          70000,
          70000,
          87500,
          70000,
          87500,
          70000,
          70000,
          70000,
          87500,
          87500,
          70000,
          70000,
          70000,
          70000,
          70000,
          77777,
          70000,
          70000,
          70000,
          77777,
          70000,
          70000,
          87500,
          70000,
          70000,
          70000,
          70000,
          70000,
          70000,
          70000,
          70000,
          77777,
          70000,
          70000,
          70000,
          70000,
          70000,
          70000,
          70000,
          70000,
          70000,
          70000,
          70000,
          70000,
          70000,
          70000,
          77777,
          69800,
          69800,
          69785,
          69600,
          69400,
          69300,
          69000,
          69000,
          69000,
          69000,
          68975,
          68850,
          68740,
          68637,
          68400,
          68400,
          68400,
          68300,
          68195,
          68150,
          68088,
          68000,
          68000,
          68000,
          68000,
          68000,
          68000,
          68000,
          67275,
          67200,
          67060,
          67000,
          67000,
          66820,
          66560,
          66100,
          82500,
          66000,
          66000,
          66000,
          66000,
          66000,
          65800,
          65800,
          65800,
          65800,
          65750,
          65750,
          65750,
          65750,
          65600,
          65600,
          65407,
          65400,
          65400,
          65300,
          65000,
          65000,
          65000,
          81250,
          65000,
          65000,
          81250,
          81250,
          81250,
          81250,
          65000,
          65000,
          65000,
          65000,
          65000,
          81250,
          72222,
          81250,
          65000,
          65000,
          65000,
          72222,
          65000,
          81250,
          81250,
          65000,
          65000,
          81250,
          65000,
          65000,
          81250,
          64900,
          64900,
          64900,
          64600,
          64600,
          64500,
          64200,
          64200,
          64000,
          64000,
          64000,
          80000,
          63444,
          63000,
          62300,
          62300,
          62100,
          62100,
          62000,
          62000,
          62000,
          62000,
          61800,
          61800,
          61700,
          61700,
          61600,
          61463,
          61000,
          76075,
          60800,
          60500,
          60080,
          66666,
          75000,
          60000,
          60000,
          75000,
          66666,
          60000,
          66666,
          60000,
          60000,
          75000,
          60000,
          75000,
          60000,
          75000,
          66666,
          66666,
          60000,
          60000,
          66666,
          75000,
          66666,
          60000,
          60000,
          66666,
          59923,
          59570,
          59500,
          59300,
          65333,
          58500,
          58400,
          58400,
          58400,
          58400,
          58400,
          58400,
          58400,
          58300,
          58300,
          58300,
          64574,
          58000,
          58000,
          58000,
          57700,
          57700,
          57500,
          57300,
          57000,
          63333,
          70000,
          55751,
          55720,
          55200,
          55200,
          55200,
          55200,
          55200,
          55200,
          55200,
          55200,
          68750,
          68750,
          68750,
          68750,
          68750,
          68750,
          68750,
          55000,
          68750,
          68750,
          68750,
          68750,
          61111,
          68750,
          68750,
          55000,
          68750,
          68750,
          68750,
          55000,
          54552,
          67993,
          67993,
          67993,
          60000,
          60000,
          54000,
          67500,
          54000,
          67500,
          54000,
          53300,
          53300,
          58888,
          53000,
          66250,
          52100,
          65000,
          57277,
          51543,
          51500,
          51375,
          64105,
          51175,
          51175,
          51000,
          51000,
          51000,
          63437,
          50700,
          56100,
          50200,
          50000,
          50000,
          62500,
          50000,
          50000,
          62500,
          62500,
          50000,
          62500,
          62500,
          55555,
          62500,
          55555,
          62500,
          62500,
          62500,
          50000,
          55555,
          50000,
          49900,
          49900,
          61875,
          49452,
          61105,
          48067,
          48000,
          48000,
          48000,
          60000,
          60000,
          53333,
          47840,
          47840,
          47840,
          47840,
          47700,
          47500,
          47500,
          47500,
          47500,
          47500,
          47500,
          59018,
          57753,
          46080,
          45900,
          45700,
          45700,
          50666,
          57000,
          56981,
          56981,
          45400,
          45400,
          56250,
          56250,
          56250,
          56250,
          56250,
          56250,
          56250,
          56250,
          56250,
          49333,
          55328,
          44100,
          44000,
          54532,
          47777,
          42700,
          53133,
          42400,
          52806,
          46666,
          42000,
          52500,
          41419,
          41419,
          41419,
          51446,
          51381,
          51283,
          40300,
          44555,
          40000,
          40000,
          50000,
          50000,
          50000,
          40000,
          50000,
          50000,
          50000,
          50000,
          50000,
          50000,
          44444,
          50000,
          50000,
          50000,
          50000,
          50000,
          50000,
          50000,
          44266,
          44000,
          42666,
          47850,
          47500,
          42222,
          42222,
          41600,
          46500,
          37120,
          46250,
          45775,
          45625,
          40000,
          40000,
          43750,
          38888,
          43750,
          43750,
          43675,
          43628,
          42500,
          42457,
          37333,
          41750,
          36000,
          39245,
          34666,
          30000,
          30000,
          30000,
          30000,
          33333,
          37500,
          31187,
          34973,
          33750,
          27000,
          27000,
          33500,
          33500,
          33500,
          33500,
          33500,
          33500,
          28888,
          28888,
          26000,
          32177,
          25000,
          31250,
          30000,
          28750,
          28750,
          28750,
          28750,
          21600,
          23333,
          17600,
          17598,
          16666
         ],
         "xaxis": "x2",
         "yaxis": "y2"
        }
       ],
       "layout": {
        "autosize": true,
        "barmode": "relative",
        "legend": {
         "tracegroupgap": 0
        },
        "margin": {
         "t": 60
        },
        "showlegend": true,
        "template": {
         "data": {
          "bar": [
           {
            "error_x": {
             "color": "#2a3f5f"
            },
            "error_y": {
             "color": "#2a3f5f"
            },
            "marker": {
             "line": {
              "color": "white",
              "width": 0.5
             },
             "pattern": {
              "fillmode": "overlay",
              "size": 10,
              "solidity": 0.2
             }
            },
            "type": "bar"
           }
          ],
          "barpolar": [
           {
            "marker": {
             "line": {
              "color": "white",
              "width": 0.5
             },
             "pattern": {
              "fillmode": "overlay",
              "size": 10,
              "solidity": 0.2
             }
            },
            "type": "barpolar"
           }
          ],
          "carpet": [
           {
            "aaxis": {
             "endlinecolor": "#2a3f5f",
             "gridcolor": "#C8D4E3",
             "linecolor": "#C8D4E3",
             "minorgridcolor": "#C8D4E3",
             "startlinecolor": "#2a3f5f"
            },
            "baxis": {
             "endlinecolor": "#2a3f5f",
             "gridcolor": "#C8D4E3",
             "linecolor": "#C8D4E3",
             "minorgridcolor": "#C8D4E3",
             "startlinecolor": "#2a3f5f"
            },
            "type": "carpet"
           }
          ],
          "choropleth": [
           {
            "colorbar": {
             "outlinewidth": 0,
             "ticks": ""
            },
            "type": "choropleth"
           }
          ],
          "contour": [
           {
            "colorbar": {
             "outlinewidth": 0,
             "ticks": ""
            },
            "colorscale": [
             [
              0,
              "#0d0887"
             ],
             [
              0.1111111111111111,
              "#46039f"
             ],
             [
              0.2222222222222222,
              "#7201a8"
             ],
             [
              0.3333333333333333,
              "#9c179e"
             ],
             [
              0.4444444444444444,
              "#bd3786"
             ],
             [
              0.5555555555555556,
              "#d8576b"
             ],
             [
              0.6666666666666666,
              "#ed7953"
             ],
             [
              0.7777777777777778,
              "#fb9f3a"
             ],
             [
              0.8888888888888888,
              "#fdca26"
             ],
             [
              1,
              "#f0f921"
             ]
            ],
            "type": "contour"
           }
          ],
          "contourcarpet": [
           {
            "colorbar": {
             "outlinewidth": 0,
             "ticks": ""
            },
            "type": "contourcarpet"
           }
          ],
          "heatmap": [
           {
            "colorbar": {
             "outlinewidth": 0,
             "ticks": ""
            },
            "colorscale": [
             [
              0,
              "#0d0887"
             ],
             [
              0.1111111111111111,
              "#46039f"
             ],
             [
              0.2222222222222222,
              "#7201a8"
             ],
             [
              0.3333333333333333,
              "#9c179e"
             ],
             [
              0.4444444444444444,
              "#bd3786"
             ],
             [
              0.5555555555555556,
              "#d8576b"
             ],
             [
              0.6666666666666666,
              "#ed7953"
             ],
             [
              0.7777777777777778,
              "#fb9f3a"
             ],
             [
              0.8888888888888888,
              "#fdca26"
             ],
             [
              1,
              "#f0f921"
             ]
            ],
            "type": "heatmap"
           }
          ],
          "heatmapgl": [
           {
            "colorbar": {
             "outlinewidth": 0,
             "ticks": ""
            },
            "colorscale": [
             [
              0,
              "#0d0887"
             ],
             [
              0.1111111111111111,
              "#46039f"
             ],
             [
              0.2222222222222222,
              "#7201a8"
             ],
             [
              0.3333333333333333,
              "#9c179e"
             ],
             [
              0.4444444444444444,
              "#bd3786"
             ],
             [
              0.5555555555555556,
              "#d8576b"
             ],
             [
              0.6666666666666666,
              "#ed7953"
             ],
             [
              0.7777777777777778,
              "#fb9f3a"
             ],
             [
              0.8888888888888888,
              "#fdca26"
             ],
             [
              1,
              "#f0f921"
             ]
            ],
            "type": "heatmapgl"
           }
          ],
          "histogram": [
           {
            "marker": {
             "pattern": {
              "fillmode": "overlay",
              "size": 10,
              "solidity": 0.2
             }
            },
            "type": "histogram"
           }
          ],
          "histogram2d": [
           {
            "colorbar": {
             "outlinewidth": 0,
             "ticks": ""
            },
            "colorscale": [
             [
              0,
              "#0d0887"
             ],
             [
              0.1111111111111111,
              "#46039f"
             ],
             [
              0.2222222222222222,
              "#7201a8"
             ],
             [
              0.3333333333333333,
              "#9c179e"
             ],
             [
              0.4444444444444444,
              "#bd3786"
             ],
             [
              0.5555555555555556,
              "#d8576b"
             ],
             [
              0.6666666666666666,
              "#ed7953"
             ],
             [
              0.7777777777777778,
              "#fb9f3a"
             ],
             [
              0.8888888888888888,
              "#fdca26"
             ],
             [
              1,
              "#f0f921"
             ]
            ],
            "type": "histogram2d"
           }
          ],
          "histogram2dcontour": [
           {
            "colorbar": {
             "outlinewidth": 0,
             "ticks": ""
            },
            "colorscale": [
             [
              0,
              "#0d0887"
             ],
             [
              0.1111111111111111,
              "#46039f"
             ],
             [
              0.2222222222222222,
              "#7201a8"
             ],
             [
              0.3333333333333333,
              "#9c179e"
             ],
             [
              0.4444444444444444,
              "#bd3786"
             ],
             [
              0.5555555555555556,
              "#d8576b"
             ],
             [
              0.6666666666666666,
              "#ed7953"
             ],
             [
              0.7777777777777778,
              "#fb9f3a"
             ],
             [
              0.8888888888888888,
              "#fdca26"
             ],
             [
              1,
              "#f0f921"
             ]
            ],
            "type": "histogram2dcontour"
           }
          ],
          "mesh3d": [
           {
            "colorbar": {
             "outlinewidth": 0,
             "ticks": ""
            },
            "type": "mesh3d"
           }
          ],
          "parcoords": [
           {
            "line": {
             "colorbar": {
              "outlinewidth": 0,
              "ticks": ""
             }
            },
            "type": "parcoords"
           }
          ],
          "pie": [
           {
            "automargin": true,
            "type": "pie"
           }
          ],
          "scatter": [
           {
            "fillpattern": {
             "fillmode": "overlay",
             "size": 10,
             "solidity": 0.2
            },
            "type": "scatter"
           }
          ],
          "scatter3d": [
           {
            "line": {
             "colorbar": {
              "outlinewidth": 0,
              "ticks": ""
             }
            },
            "marker": {
             "colorbar": {
              "outlinewidth": 0,
              "ticks": ""
             }
            },
            "type": "scatter3d"
           }
          ],
          "scattercarpet": [
           {
            "marker": {
             "colorbar": {
              "outlinewidth": 0,
              "ticks": ""
             }
            },
            "type": "scattercarpet"
           }
          ],
          "scattergeo": [
           {
            "marker": {
             "colorbar": {
              "outlinewidth": 0,
              "ticks": ""
             }
            },
            "type": "scattergeo"
           }
          ],
          "scattergl": [
           {
            "marker": {
             "colorbar": {
              "outlinewidth": 0,
              "ticks": ""
             }
            },
            "type": "scattergl"
           }
          ],
          "scattermapbox": [
           {
            "marker": {
             "colorbar": {
              "outlinewidth": 0,
              "ticks": ""
             }
            },
            "type": "scattermapbox"
           }
          ],
          "scatterpolar": [
           {
            "marker": {
             "colorbar": {
              "outlinewidth": 0,
              "ticks": ""
             }
            },
            "type": "scatterpolar"
           }
          ],
          "scatterpolargl": [
           {
            "marker": {
             "colorbar": {
              "outlinewidth": 0,
              "ticks": ""
             }
            },
            "type": "scatterpolargl"
           }
          ],
          "scatterternary": [
           {
            "marker": {
             "colorbar": {
              "outlinewidth": 0,
              "ticks": ""
             }
            },
            "type": "scatterternary"
           }
          ],
          "surface": [
           {
            "colorbar": {
             "outlinewidth": 0,
             "ticks": ""
            },
            "colorscale": [
             [
              0,
              "#0d0887"
             ],
             [
              0.1111111111111111,
              "#46039f"
             ],
             [
              0.2222222222222222,
              "#7201a8"
             ],
             [
              0.3333333333333333,
              "#9c179e"
             ],
             [
              0.4444444444444444,
              "#bd3786"
             ],
             [
              0.5555555555555556,
              "#d8576b"
             ],
             [
              0.6666666666666666,
              "#ed7953"
             ],
             [
              0.7777777777777778,
              "#fb9f3a"
             ],
             [
              0.8888888888888888,
              "#fdca26"
             ],
             [
              1,
              "#f0f921"
             ]
            ],
            "type": "surface"
           }
          ],
          "table": [
           {
            "cells": {
             "fill": {
              "color": "#EBF0F8"
             },
             "line": {
              "color": "white"
             }
            },
            "header": {
             "fill": {
              "color": "#C8D4E3"
             },
             "line": {
              "color": "white"
             }
            },
            "type": "table"
           }
          ]
         },
         "layout": {
          "annotationdefaults": {
           "arrowcolor": "#2a3f5f",
           "arrowhead": 0,
           "arrowwidth": 1
          },
          "autotypenumbers": "strict",
          "coloraxis": {
           "colorbar": {
            "outlinewidth": 0,
            "ticks": ""
           }
          },
          "colorscale": {
           "diverging": [
            [
             0,
             "#8e0152"
            ],
            [
             0.1,
             "#c51b7d"
            ],
            [
             0.2,
             "#de77ae"
            ],
            [
             0.3,
             "#f1b6da"
            ],
            [
             0.4,
             "#fde0ef"
            ],
            [
             0.5,
             "#f7f7f7"
            ],
            [
             0.6,
             "#e6f5d0"
            ],
            [
             0.7,
             "#b8e186"
            ],
            [
             0.8,
             "#7fbc41"
            ],
            [
             0.9,
             "#4d9221"
            ],
            [
             1,
             "#276419"
            ]
           ],
           "sequential": [
            [
             0,
             "#0d0887"
            ],
            [
             0.1111111111111111,
             "#46039f"
            ],
            [
             0.2222222222222222,
             "#7201a8"
            ],
            [
             0.3333333333333333,
             "#9c179e"
            ],
            [
             0.4444444444444444,
             "#bd3786"
            ],
            [
             0.5555555555555556,
             "#d8576b"
            ],
            [
             0.6666666666666666,
             "#ed7953"
            ],
            [
             0.7777777777777778,
             "#fb9f3a"
            ],
            [
             0.8888888888888888,
             "#fdca26"
            ],
            [
             1,
             "#f0f921"
            ]
           ],
           "sequentialminus": [
            [
             0,
             "#0d0887"
            ],
            [
             0.1111111111111111,
             "#46039f"
            ],
            [
             0.2222222222222222,
             "#7201a8"
            ],
            [
             0.3333333333333333,
             "#9c179e"
            ],
            [
             0.4444444444444444,
             "#bd3786"
            ],
            [
             0.5555555555555556,
             "#d8576b"
            ],
            [
             0.6666666666666666,
             "#ed7953"
            ],
            [
             0.7777777777777778,
             "#fb9f3a"
            ],
            [
             0.8888888888888888,
             "#fdca26"
            ],
            [
             1,
             "#f0f921"
            ]
           ]
          },
          "colorway": [
           "#636efa",
           "#EF553B",
           "#00cc96",
           "#ab63fa",
           "#FFA15A",
           "#19d3f3",
           "#FF6692",
           "#B6E880",
           "#FF97FF",
           "#FECB52"
          ],
          "font": {
           "color": "#2a3f5f"
          },
          "geo": {
           "bgcolor": "white",
           "lakecolor": "white",
           "landcolor": "white",
           "showlakes": true,
           "showland": true,
           "subunitcolor": "#C8D4E3"
          },
          "hoverlabel": {
           "align": "left"
          },
          "hovermode": "closest",
          "mapbox": {
           "style": "light"
          },
          "paper_bgcolor": "white",
          "plot_bgcolor": "white",
          "polar": {
           "angularaxis": {
            "gridcolor": "#EBF0F8",
            "linecolor": "#EBF0F8",
            "ticks": ""
           },
           "bgcolor": "white",
           "radialaxis": {
            "gridcolor": "#EBF0F8",
            "linecolor": "#EBF0F8",
            "ticks": ""
           }
          },
          "scene": {
           "xaxis": {
            "backgroundcolor": "white",
            "gridcolor": "#DFE8F3",
            "gridwidth": 2,
            "linecolor": "#EBF0F8",
            "showbackground": true,
            "ticks": "",
            "zerolinecolor": "#EBF0F8"
           },
           "yaxis": {
            "backgroundcolor": "white",
            "gridcolor": "#DFE8F3",
            "gridwidth": 2,
            "linecolor": "#EBF0F8",
            "showbackground": true,
            "ticks": "",
            "zerolinecolor": "#EBF0F8"
           },
           "zaxis": {
            "backgroundcolor": "white",
            "gridcolor": "#DFE8F3",
            "gridwidth": 2,
            "linecolor": "#EBF0F8",
            "showbackground": true,
            "ticks": "",
            "zerolinecolor": "#EBF0F8"
           }
          },
          "shapedefaults": {
           "line": {
            "color": "#2a3f5f"
           }
          },
          "ternary": {
           "aaxis": {
            "gridcolor": "#DFE8F3",
            "linecolor": "#A2B1C6",
            "ticks": ""
           },
           "baxis": {
            "gridcolor": "#DFE8F3",
            "linecolor": "#A2B1C6",
            "ticks": ""
           },
           "bgcolor": "white",
           "caxis": {
            "gridcolor": "#DFE8F3",
            "linecolor": "#A2B1C6",
            "ticks": ""
           }
          },
          "title": {
           "x": 0.05
          },
          "xaxis": {
           "automargin": true,
           "gridcolor": "#EBF0F8",
           "linecolor": "#EBF0F8",
           "ticks": "",
           "title": {
            "standoff": 15
           },
           "zerolinecolor": "#EBF0F8",
           "zerolinewidth": 2
          },
          "yaxis": {
           "automargin": true,
           "gridcolor": "#EBF0F8",
           "linecolor": "#EBF0F8",
           "ticks": "",
           "title": {
            "standoff": 15
           },
           "zerolinecolor": "#EBF0F8",
           "zerolinewidth": 2
          }
         }
        },
        "title": {
         "font": {
          "size": 20
         },
         "text": "<b>2024 Salaries in USD for the Data Science Field</b>",
         "x": 0.5
        },
        "xaxis": {
         "anchor": "y",
         "autorange": true,
         "domain": [
          0,
          1
         ],
         "range": [
          -26852.555555555562,
          843518.5555555555
         ],
         "title": {
          "text": "Salary (usd)"
         },
         "type": "linear"
        },
        "xaxis2": {
         "anchor": "y2",
         "autorange": true,
         "domain": [
          0,
          1
         ],
         "matches": "x",
         "range": [
          -26852.555555555562,
          843518.5555555555
         ],
         "showgrid": true,
         "showticklabels": false,
         "type": "linear"
        },
        "yaxis": {
         "anchor": "x",
         "autorange": true,
         "domain": [
          0,
          0.8316
         ],
         "range": [
          0,
          0.03273684210526316
         ],
         "title": {
          "text": "Total people"
         }
        },
        "yaxis2": {
         "anchor": "x2",
         "autorange": true,
         "domain": [
          0.8416,
          1
         ],
         "matches": "y2",
         "range": [
          -0.594197437829691,
          0.5
         ],
         "showgrid": false,
         "showline": false,
         "showticklabels": false,
         "ticks": "",
         "type": "category"
        }
       }
      },
      "image/png": "[encoded data removed]",
      "text/html": [
       "<div>                            <div id=\"98e95ac3-7c86-4a82-a2d2-9b65f365fcd5\" class=\"plotly-graph-div\" style=\"height:525px; width:100%;\"></div>            <script type=\"text/javascript\">                require([\"plotly\"], function(Plotly) {                    window.PLOTLYENV=window.PLOTLYENV || {};                                    if (document.getElementById(\"98e95ac3-7c86-4a82-a2d2-9b65f365fcd5\")) {                    Plotly.newPlot(                        \"98e95ac3-7c86-4a82-a2d2-9b65f365fcd5\",                        [{\"alignmentgroup\":\"True\",\"bingroup\":\"x\",\"histnorm\":\"density\",\"hovertemplate\":\"salary_in_usd=%{x}\\u003cbr\\u003edensity=%{y}\\u003cextra\\u003e\\u003c\\u002fextra\\u003e\",\"legendgroup\":\"\",\"marker\":{\"color\":\"#9b72cf\",\"opacity\":0.8,\"pattern\":{\"shape\":\"\"}},\"name\":\"\",\"nbinsx\":100,\"offsetgroup\":\"\",\"orientation\":\"v\",\"showlegend\":false,\"x\":[39615,27611,800000,774000,750000,750000,750000,750000,720000,720000,720000,720000,720000,720000,720000,720000,600000,600000,600000,550000,550000,530000,500000,500000,484000,450000,449000,448000,440000,440000,440000,440000,440000,440000,440000,440000,440000,440000,440000,440000,440000,440000,438000,418000,418000,414000,414000,408500,400000,400000,398900,398900,386100,385000,385000,385000,385000,382320,381500,381500,373000,365100,363000,363000,360000,360000,359400,359400,359170,357900,345400,345400,345400,345000,342400,340000,340000,339250,337300,337300,337300,337300,334075,333500,333500,333500,333500,331640,331640,331640,331640,331292,329200,328000,326000,325000,324100,324000,324000,324000,324000,324000,324000,324000,324000,324000,324000,323700,323300,322000,322000,322000,321830,321000,321000,320000,317000,316900,315000,314100,314000,313000,313000,312287,310270,310000,310000,310000,310000,310000,309000,309000,309000,308000,307100,304750,304750,303400,303400,303400,303400,303050,302840,300000,300000,300000,300000,300000,300000,300000,300000,300000,300000,300000,300000,300000,300000,300000,300000,300000,299792,297000,297000,297000,296980,296400,296100,295490,295000,295000,295000,295000,295000,295000,295000,295000,295000,294000,291900,290000,290000,290000,290000,290000,290000,289000,288400,288400,287800,287800,287500,287500,286500,286000,285670,285200,285000,323295,284400,284400,283800,283800,283800,283780,283780,283780,283780,283780,283500,282000,282000,280000,280000,280000,280000,280000,280000,279000,278800,278700,278700,278700,278700,278700,278700,278700,278700,278700,278700,277000,277000,277000,277000,276000,276000,276000,276000,276000,276000,275000,211511,274000,273500,272700,272400,270400,270250,270250,270250,270000,270000,270000,270000,269100,269000,268700,268500,267900,267900,267500,267100,266875,266875,266482,266000,265200,265000,263500,263000,263000,262269,261050,260800,260100,260100,260000,260000,260000,260000,260000,260000,260000,260000,260000,260000,260000,260000,260000,260000,260000,259900,259850,259700,258800,258800,258720,258600,258500,258500,258450,258100,258100,258100,258000,257600,257400,257250,257000,256100,255800,255800,255800,255800,255800,255800,255800,255800,255800,255475,255475,255000,255000,255000,254400,254270,254270,254000,253430,253430,253430,253000,253000,252000,252000,252000,252000,251250,251000,250900,250900,250900,250900,250800,250800,250000,250000,250000,250000,250000,250000,250000,250000,250000,250000,250000,250000,250000,250000,250000,250000,250000,250000,250000,250000,250000,250000,250000,250000,249700,248600,248600,247600,247600,247600,247600,247600,247500,247500,247500,247500,247300,247300,247300,247250,247250,247000,246500,246100,246000,246000,246000,245700,245400,245000,245000,245000,245000,245000,245000,245000,245000,245000,245000,245000,245000,245000,245000,245000,245000,244868,244800,244400,243800,243800,243500,243500,243000,243000,242100,242100,186153,242000,242000,186153,186153,242000,240960,240960,240960,240500,240500,240500,240200,240000,240000,240000,240000,240000,240000,240000,240000,240000,240000,240000,240000,240000,240000,240000,240000,240000,240000,240000,240000,240000,239600,239600,239300,239300,238500,238500,238400,237650,237600,237600,237600,237500,237500,237200,237188,237000,236400,236000,236000,235700,235680,235680,235680,235000,235000,235000,235000,235000,235000,235000,235000,234900,234700,234700,234700,234300,234200,234000,234000,234000,234000,234000,234000,234000,234000,234000,234000,234000,234000,234000,234000,234000,234000,234000,234000,234000,233840,233500,233200,233200,232000,232000,231600,231250,231000,231000,230797,230000,230000,230000,230000,230000,230000,230000,230000,230000,230000,230000,230000,230000,230000,230000,230000,230000,230000,230000,230000,230000,229900,229900,229900,229900,229900,229369,229000,227700,227200,227000,227000,226844,226500,226000,226000,226000,225000,225000,225000,225000,225000,225000,225000,225000,225000,225000,225000,225000,224800,224100,224000,224000,223700,223700,223600,223100,223100,223100,223000,222300,222200,222200,222200,222200,222200,222200,222200,222200,222200,222200,222200,222200,222200,222200,222200,222200,222000,221630,221500,221000,221000,221000,221000,221000,221000,221000,220800,220600,220067,220000,220000,220000,220000,220000,220000,220000,220000,220000,220000,220000,220000,220000,220000,220000,220000,220000,220000,220000,220000,220000,220000,220000,220000,220000,220000,220000,220000,220000,220000,220000,220000,220000,220000,220000,220000,220000,220000,219650,219650,219650,219650,219600,219600,219100,219000,218750,218500,218500,218213,218213,218185,218000,218000,217508,217508,216800,216700,216700,216700,216700,216000,216000,215500,215500,215000,215000,215000,165384,215000,215000,215000,215000,215000,215000,215000,215000,215000,165384,215000,165384,215000,215000,215000,214500,214300,214300,214000,212800,212800,212800,212800,212800,212800,212800,212780,212500,212500,212000,212000,212000,212000,212000,212000,212000,212000,212000,212000,212000,212000,212000,212000,212000,212000,212000,212000,212000,212000,212000,212000,212000,212000,212000,212000,212000,211900,210100,210100,210100,210100,210100,210100,210100,210100,210100,210100,210100,210100,210000,210000,210000,210000,210000,210000,210000,210000,210000,210000,210000,210000,210000,210000,210000,210000,210000,210000,210000,210000,210000,210000,210000,210000,210000,210000,210000,210000,209990,209943,209700,209700,209309,209300,209000,209000,208500,208500,208122,208000,208000,208000,208000,207900,207760,207600,207300,207300,207300,207000,207000,207000,207000,207000,207000,206800,206500,206000,206000,206000,206000,206000,206000,206000,206000,206000,205600,205600,205500,205500,205500,205400,205000,205000,205000,204800,204662,204600,204600,204500,204500,204500,204500,204300,204200,204000,204000,204000,204000,204000,203800,203500,203500,203000,202800,202800,202800,202600,202500,202350,202000,201900,201900,201450,201400,201400,201400,201400,201400,201400,201000,201000,200800,200800,200800,200740,200400,200400,200400,200400,200300,200200,200070,200070,200070,200000,200000,200000,200000,200000,200000,200000,200000,200000,200000,200000,200000,200000,200000,200000,200000,200000,200000,200000,200000,200000,200000,200000,200000,200000,125000,200000,200000,200000,200000,200000,200000,200000,200000,200000,200000,200000,200000,200000,200000,199700,199700,199700,199700,199700,199467,199200,199200,199100,199000,198900,198800,198650,198433,198200,198000,198000,198000,198000,198000,198000,198000,198000,198000,198000,198000,198000,198000,197500,197100,197011,197000,197000,197000,196720,196350,196350,196350,196350,196000,196000,195700,195600,195500,195500,195500,195500,195500,195500,195500,195500,195200,195200,195000,195000,195000,195000,195000,195000,195000,195000,195000,195000,195000,195000,195000,195000,195000,195000,195000,194992,194500,194500,194500,194500,194500,194200,194063,194000,193500,193412,193000,193000,193000,193000,193000,192780,192700,192700,192700,192700,192500,192500,192500,192500,192500,192500,192500,192300,192000,192000,191857,191857,191500,191311,191027,191027,190600,190500,190500,190400,190196,190196,190100,190000,190000,190000,190000,190000,190000,190000,190000,190000,190000,190000,190000,190000,190000,190000,190000,190000,190000,190000,190000,190000,190000,190000,190000,190000,190000,190000,190000,190000,190000,190000,190000,190000,190000,190000,190000,190000,190000,190000,189400,189360,189100,189000,189000,189000,189000,189000,188500,188500,188500,188500,188500,188500,188000,188000,188000,188000,187770,187500,187500,187370,187200,187165,187158,187000,187000,187000,187000,187000,187000,187000,187000,187000,187000,187000,186846,186846,186754,186000,186000,185900,185900,185900,185900,185800,185800,185800,185800,185800,185500,185490,185400,185400,185000,185000,185000,185000,185000,185000,185000,185000,185000,185000,185000,185000,185000,185000,185000,185000,185000,185000,185000,185000,185000,185000,185000,184900,184800,184800,184800,184700,184662,184180,184000,184000,184000,184000,184000,184000,184000,183400,183400,183000,183000,183000,182600,182000,182000,182000,182000,181900,181610,181280,181100,181000,181000,180700,180700,180500,180500,180400,180000,180000,180000,180000,180000,180000,180000,180000,180000,180000,180000,180000,180000,180000,180000,180000,180000,180000,180000,180000,180000,180000,180000,180000,180000,180000,180000,180000,180000,180000,180000,180000,180000,180000,180000,180000,180000,180000,180000,180000,180000,180000,180000,180000,180000,180000,180000,180000,180000,180000,180000,180000,180000,180000,180000,180000,180000,180000,180000,180000,180000,180000,180000,179900,179900,179700,179200,179000,179000,179000,179000,179000,179000,179000,179000,179000,179000,179000,179000,179000,179000,179000,179000,179000,179000,179000,179000,179000,179000,179000,179000,179000,179000,179000,179000,179000,179000,179000,179000,179000,178600,178600,178538,178500,178500,178250,178250,178250,177961,177961,177700,177500,177300,177300,177100,177000,177000,176900,176900,176875,176700,176700,176700,176000,176000,176000,176000,176000,176000,176000,176000,176000,176000,175762,175762,175520,175100,175100,175100,175100,175000,175000,175000,175000,175000,175000,175000,175000,175000,175000,175000,175000,175000,175000,175000,175000,175000,175000,175000,175000,175000,175000,175000,175000,175000,175000,175000,175000,175000,175000,175000,175000,175000,175000,175000,175000,174500,174500,174300,174000,174000,174000,174000,174000,174000,173400,173400,173000,173000,173000,173000,173000,173000,173000,172800,172800,172800,172700,172500,172400,172200,172200,172200,172200,172200,172200,172200,172100,172000,172000,171816,171600,171600,171240,171210,171210,171210,171000,171000,171000,170800,170700,170400,170375,170200,170200,170200,170200,170200,170000,170000,170000,170000,170000,170000,170000,170000,170000,170000,170000,170000,170000,170000,170000,170000,170000,170000,170000,170000,170000,170000,170000,170000,170000,170000,170000,170000,170000,170000,170000,170000,170000,170000,170000,170000,170000,170000,170000,170000,170000,170000,170000,170000,170000,170000,170000,170000,170000,170000,170000,170000,170000,170000,170000,170000,170000,169900,169767,169700,169200,169200,169000,168854,168800,168600,168600,168500,168000,168000,168000,168000,168000,168000,168000,168000,167500,167500,167500,167500,167400,167200,167200,167000,167000,167000,166700,166700,166551,128076,166363,166363,166358,166000,166000,166000,166000,166000,166000,166000,166000,166000,166000,166000,166000,166000,166000,166000,166000,166000,166000,166000,166000,166000,166000,166000,166000,166000,166000,166000,166000,166000,166000,166000,165900,165600,165600,165600,165600,165500,165100,165100,165100,165100,165100,165100,165100,165100,165100,165000,165000,165000,165000,165000,165000,165000,165000,165000,165000,165000,165000,165000,165000,165000,165000,165000,165000,165000,165000,165000,165000,165000,165000,165000,165000,165000,165000,165000,165000,165000,165000,165000,164850,164845,164800,164700,164640,164300,164000,164000,164000,164000,164000,164000,164000,164000,164000,164000,164000,164000,164000,163700,163500,163200,163000,163000,163000,163000,163000,162900,162819,162240,162240,162240,162240,162000,162000,162000,162000,162000,162000,162000,162000,162000,162000,162000,161900,161875,161500,161500,161300,161300,161250,161250,161000,161000,160700,160480,160100,160000,160000,160000,160000,160000,160000,160000,160000,160000,160000,160000,160000,160000,160000,160000,160000,160000,160000,160000,160000,160000,160000,160000,160000,160000,160000,160000,160000,160000,160000,160000,160000,160000,160000,160000,160000,160000,160000,160000,160000,160000,160000,160000,160000,160000,160000,160000,160000,160000,160000,160000,160000,160000,160000,160000,160000,160000,159870,159300,159300,159300,159300,159300,159300,159300,159300,159300,159300,159300,159250,159000,159000,159000,159000,159000,159000,159000,159000,159000,159000,159000,159000,158680,158500,158500,158500,158494,158100,158100,158000,158000,158000,158000,158000,157900,157900,157900,157900,157900,157850,157600,157600,157500,157500,157500,157476,157144,157000,156476,156450,156400,156300,156200,156000,156000,156000,156000,156000,156000,156000,155615,155615,155600,155175,155000,155000,155000,155000,155000,155000,155000,155000,155000,155000,155000,155000,155000,155000,155000,155000,155000,155000,155000,155000,155000,155000,155000,155000,154818,154800,154800,154800,154500,154400,193000,154360,154100,154100,154000,154000,154000,154000,154000,154000,154000,154000,153900,153900,153900,153700,153400,153200,153040,153040,153040,153018,153000,153000,153000,153000,153000,153000,153000,153000,153000,153000,153000,153000,152600,152500,152400,152375,152375,152375,152375,152375,152000,152000,152000,152000,152000,152000,152000,152000,152000,152000,152000,151900,151900,151900,151800,151800,151800,151800,151800,151600,151500,151500,151500,151260,151000,151000,151000,151000,150895,150800,150700,150700,150700,150500,150000,150000,150000,150000,150000,150000,150000,150000,150000,150000,150000,150000,150000,150000,150000,150000,150000,150000,150000,150000,150000,150000,150000,150000,150000,150000,150000,150000,150000,150000,150000,150000,150000,150000,150000,150000,150000,150000,150000,150000,150000,150000,150000,150000,150000,150000,150000,150000,150000,150000,150000,150000,150000,150000,150000,150000,150000,150000,150000,150000,150000,150000,150000,150000,150000,150000,150000,166666,150000,150000,150000,150000,150000,150000,150000,150000,150000,150000,150000,150000,150000,150000,149800,149800,149750,149750,149500,149300,149200,149200,149076,149000,149000,149000,149000,149000,148750,148594,148500,148300,148100,148100,148000,148000,148000,148000,148000,148000,148000,148000,148000,148000,147900,147800,147670,147645,147600,147500,147500,147500,147500,147500,147400,147000,147000,147000,147000,146900,146900,146900,146900,146900,146900,146900,146900,146900,146900,146851,146800,146500,146266,146266,146266,146266,146125,146100,146100,146100,146000,146000,146000,146000,146000,146000,146000,146000,146000,146000,146000,146000,146000,146000,146000,146000,146000,146000,146000,146000,146000,146000,146000,145600,145580,145500,145400,145400,145400,145360,145360,145125,145100,145000,145000,145000,145000,145000,145000,145000,145000,145000,145000,145000,145000,145000,145000,145000,145000,145000,145000,145000,145000,145000,145000,145000,145000,145000,144900,144700,144650,144650,144600,144600,144600,144600,144500,144300,144300,144200,144200,144200,144200,144200,144200,144200,144138,144000,144000,144000,144000,144000,144000,144000,143800,143800,143706,143500,143297,143000,143000,143000,143000,143000,143000,142500,142500,142500,142352,142100,142002,142000,142000,142000,142000,142000,141800,141375,141300,141300,141300,141300,141300,141300,141000,141000,141000,140900,140726,140400,140400,140300,140250,140250,140250,140250,140250,140250,140130,140100,140032,140025,140000,140000,140000,140000,140000,140000,140000,140000,140000,140000,140000,140000,140000,140000,140000,140000,140000,140000,140000,140000,140000,140000,140000,140000,140000,140000,140000,140000,140000,140000,140000,140000,140000,140000,140000,140000,140000,140000,140000,140000,140000,140000,140000,140000,140000,140000,140000,140000,140000,140000,140000,140000,140000,140000,140000,140000,140000,140000,140000,140000,140000,140000,140000,175000,140000,140000,140000,140000,140000,140000,140000,140000,140000,139810,139800,139800,139800,139700,139700,139600,139500,139500,139000,139000,139000,139000,139000,139000,139000,139000,139000,139000,138800,138500,138500,138500,138400,138400,138278,138200,138000,138000,138000,138000,138000,138000,138000,138000,138000,138000,138000,138000,138000,138000,138000,138000,138000,138000,138000,138000,137930,137930,137900,137871,137500,137500,137500,137500,137500,137500,137500,137500,137500,137500,137500,137500,137100,137000,137000,137000,137000,137000,136675,136500,136420,136300,136197,136000,136000,136000,136000,136000,136000,136000,136000,136000,136000,136000,136000,136000,136000,136000,136000,136000,136000,136000,136000,136000,136000,136000,136000,136000,136000,136000,136000,136000,136000,136000,136000,136000,136000,136000,136000,136000,136000,136000,136000,136000,136000,135920,135920,135549,135482,135450,135200,135200,135200,135200,135127,135097,135000,135000,135000,135000,135000,135000,135000,135000,135000,135000,135000,135000,135000,135000,135000,103846,135000,135000,135000,135000,135000,135000,135000,135000,135000,135000,135000,134900,134600,134530,134500,134500,134500,134500,134400,134400,134400,134200,134200,134160,134000,133903,133903,133650,133504,133200,133200,133200,133200,133000,133000,133000,133000,133000,133000,133000,133000,133000,133000,133000,132974,132974,132974,132900,132600,132600,132600,132567,132500,132500,132500,132500,132500,132300,132100,132100,132000,132000,132000,132000,132000,132000,132000,132000,132000,132000,132000,132000,132000,132000,131712,131600,131600,131414,131414,131300,131200,131200,131200,131200,131200,131200,131000,131000,130916,130900,130500,130500,130500,130400,130300,130100,130100,100006,130000,130000,130000,130000,130000,130000,130000,130000,162500,130000,130000,130000,130000,130000,130000,130000,130000,130000,130000,130000,130000,130000,130000,130000,130000,130000,130000,130000,130000,130000,130000,130000,130000,130000,130000,130000,130000,130000,130000,130000,130000,130000,130000,130000,130000,130000,130000,130000,130000,130000,162500,130000,130000,130000,130000,130000,130000,130000,130000,130000,130000,130000,130000,130000,130000,130000,130000,130000,129600,129118,129000,129000,128945,128900,128800,128656,128600,128250,128250,128000,128000,128000,128000,128000,128000,128000,128000,128000,128000,127660,127500,127500,127500,127500,127500,127500,127305,127300,127300,127300,127300,127300,127000,127000,127000,127000,126900,126800,126667,126600,126600,126500,126500,126480,126400,126400,126400,126400,126000,126000,126000,139777,125500,125500,125500,125100,125000,125000,125000,125000,125000,125000,125000,125000,125000,125000,125000,125000,125000,125000,125000,125000,125000,125000,125000,125000,125000,125000,125000,124935,124935,124875,124800,124690,124400,124230,124100,124100,124000,124000,124000,124000,124000,123900,123800,123765,123740,123700,123700,123625,123600,123200,123000,123000,123000,123000,123000,123000,123000,123000,123000,123000,123000,122900,122600,122500,122500,122500,122500,122328,122116,122100,122000,122000,122000,122000,121800,121500,121500,121056,121000,121000,120869,120800,120750,120715,120672,120200,136363,120000,120000,120000,120000,120000,120000,120000,120000,120000,120000,120000,120000,120000,120000,120000,120000,120000,120000,120000,120000,120000,150000,120000,120000,120000,120000,120000,120000,120000,120000,120000,120000,150000,120000,120000,120000,120000,120000,120000,120000,120000,120000,133333,80000,120000,120000,120000,120000,120000,120000,120000,120000,120000,120000,120000,120000,120000,120000,120000,120000,150000,120000,119900,119887,119786,119700,119250,119200,119200,119060,119000,119000,119000,119000,119000,118750,118600,118500,118400,118300,118300,118136,118000,118000,118000,117800,117750,117725,117500,117500,117400,117400,117000,117000,117000,117000,117000,117000,117000,117000,117000,117000,117000,117000,117000,117000,117000,130000,117000,117000,117000,116974,116800,116600,116550,116500,116259,116200,116200,116047,116013,116000,116000,116000,116000,116000,116000,116000,116000,116000,115900,115889,115800,115765,115500,115500,115500,115400,115254,115000,115000,115000,115000,115000,115000,115000,115000,115000,115000,115000,115000,115000,115000,115000,115000,115000,115000,115000,115000,115000,115000,115000,115000,115000,115000,115000,115000,115000,115000,115000,115000,115000,115000,115000,115000,115000,115000,115000,115000,115000,115000,114800,114638,114100,114000,129545,114000,114000,114000,114000,113800,113700,113500,113210,113100,113050,113000,113000,113000,113000,125333,112715,112500,112125,112000,140000,112000,112000,112000,112000,112000,112000,112000,112000,112000,112000,112000,112000,112000,112000,112000,112000,112000,112000,112000,112000,112000,112000,112000,112000,112000,112000,112000,112000,112000,112000,112000,112000,112000,112000,112000,112000,112000,111800,111800,111648,111600,111600,111600,111600,111510,111500,111500,111500,111300,111200,111000,111000,110900,110630,110500,110400,110400,110400,110300,110000,110000,110000,110000,110000,110000,110000,110000,110000,110000,110000,110000,110000,110000,110000,110000,110000,110000,110000,110000,110000,110000,110000,110000,110000,110000,110000,110000,110000,110000,110000,110000,110000,110000,110000,110000,110000,110000,110000,110000,110000,110000,110000,110000,110000,110000,110000,110000,110000,137500,110000,110000,110000,110000,110000,109920,109700,109500,109400,109400,109400,109400,109100,109000,109000,109000,109000,109000,109000,109000,109000,109000,109000,109000,109000,108750,108500,108500,108500,108500,108500,108500,108500,108500,108334,108000,108000,108000,107800,107800,107755,107730,107730,107730,107690,107500,107440,107197,107100,107000,107000,107000,106960,106875,106875,106800,106700,106700,106605,106605,106605,106500,106500,106500,106500,106500,106500,106500,106500,106500,106500,106500,106500,106500,106300,106260,106200,106200,106100,106100,106100,106100,106050,106050,106050,106050,106000,106000,106000,106000,106000,106000,106000,106000,106000,105800,105700,105700,105646,105500,105500,105500,105301,105301,105301,105300,105300,105300,105300,105267,105267,105000,105000,105000,105000,105000,105000,105000,105000,80769,105000,105000,105000,105000,105000,105000,105000,105000,105000,105000,105000,105000,105000,105000,105000,105000,105000,105000,105000,105000,105000,104981,104981,104922,104828,104800,104800,130943,104603,104500,104100,104000,104000,104000,104000,104000,104000,104000,104000,104000,104000,104000,103977,103977,103800,103786,103500,103500,103330,103300,103275,103000,103000,103000,103000,103000,102900,102500,102300,102200,102000,102000,102000,102000,101763,101763,101200,101100,101100,101000,101000,101000,101000,100800,100700,100600,100400,100200,100200,100200,100144,100022,100000,100000,100000,100000,100000,100000,100000,100000,100000,100000,100000,100000,100000,111111,100000,100000,100000,100000,100000,100000,100000,100000,100000,100000,100000,100000,100000,125000,125000,100000,100000,100000,100000,100000,100000,100000,100000,100000,100000,100000,100000,100000,100000,100000,100000,100000,100000,100000,100000,100000,100000,100000,100000,100000,100000,100000,100000,100000,100000,100000,100000,100000,100000,100000,100000,100000,100000,100000,100000,100000,100000,100000,100000,100000,100000,100000,100000,100000,100000,125000,100000,100000,100000,100000,100000,99900,99750,99600,99548,99500,99500,99500,99445,99445,99200,99100,99000,99000,99000,99000,98700,98700,98500,98000,98000,98000,98000,97935,97800,97700,97693,97500,97400,97335,97335,97300,97300,97254,97254,97200,97125,97060,97000,97000,97000,97000,97000,97000,97000,96900,96800,96800,96800,96761,96750,96750,96700,96643,96600,96600,96600,96600,96600,96600,96600,96600,96600,96500,96475,96412,96411,96411,96200,96200,96200,96200,96000,96000,106666,106666,96000,96000,96000,96000,96000,95828,95776,95413,95325,95325,95300,95300,95300,95166,95105,95000,95000,95000,95000,95000,95000,95000,95000,95000,118750,95000,95000,95000,95000,95000,95000,95000,95000,95000,95000,95000,95000,95000,95000,95000,94800,94700,94700,94625,94600,94600,94600,94500,94500,94415,94400,94400,94400,94200,94100,94000,94000,94000,94000,94000,94000,94000,94000,94000,93900,93800,93800,93500,93500,93400,93400,93400,93300,93300,93300,93300,93300,93300,93300,93300,93300,93300,93300,93300,93300,93300,93300,93300,93300,93300,93300,93300,93300,93300,93300,93150,93100,93000,93000,93000,93000,93000,93000,93000,93000,93000,93000,93000,92810,92700,92700,92700,92700,92700,92300,92190,92190,92190,115000,92000,92000,92000,92000,92000,92000,115000,92000,92000,92000,91536,91300,91000,91000,90950,90800,90800,90700,90500,90500,90500,90300,90279,90100,90000,90000,90000,90000,90000,90000,90000,90000,90000,100000,90000,90000,90000,90000,90000,90000,90000,90000,90000,90000,112500,90000,90000,90000,90000,90000,90000,90000,90000,112500,90000,112500,90000,90000,90000,90000,90000,90000,90000,90000,90000,90000,90000,90000,90000,90000,90000,90000,112500,90000,100000,90000,89500,89500,89500,89000,89000,89000,89000,88995,88854,88800,88800,88670,88200,88200,88200,88052,88000,88000,88000,88000,88000,87999,87800,87800,87600,87550,87550,87550,87400,87300,87000,87000,87000,108750,86900,86800,86800,86600,86600,86500,86424,86218,95717,86078,95584,86000,86000,86000,86000,86000,86000,86000,86000,86000,86000,86000,86000,86000,86000,86000,86000,85900,85750,85700,85500,85500,85500,85469,85420,85393,85000,85000,106250,85000,85000,85000,85000,85000,85000,85000,85000,85000,85000,106250,106250,85000,85000,85000,85000,85000,85000,85000,85000,85000,85000,85000,85000,85000,94444,84870,84750,84700,84533,84500,84500,84500,84500,84105,84068,84000,84000,84000,93333,84000,83900,83900,93222,83900,83900,83900,83646,83576,104220,83300,83300,83300,83300,83300,83300,83200,92248,83000,83000,82915,82915,82915,82620,82500,82500,82365,82000,82000,82000,82000,82000,81960,81800,81800,81713,81650,81650,81536,81530,81500,81500,81500,81500,81500,81500,81500,81500,81410,81410,81200,81000,80845,80800,80500,80420,80420,80420,80420,80080,100000,100000,80000,80000,80000,80000,80000,100000,80000,80000,80000,80000,100000,80000,80000,80000,88888,80000,100000,80000,80000,80000,80000,80000,80000,80000,80000,80000,80000,80000,80000,80000,80000,80000,80000,80000,80000,80000,80000,80000,80000,80000,80000,80000,79900,79645,79600,79600,79600,79600,79600,79600,79600,79300,79200,79200,79000,79000,79000,78900,78800,78800,78800,78800,78800,78800,78800,78575,78308,78300,78100,78000,78000,78000,78000,78000,77826,77400,77400,77280,77265,85600,77000,77000,96250,77000,77000,77000,77000,96125,76500,76500,76300,76300,76300,76300,76300,76300,76095,76050,76050,76000,76000,76000,75800,75705,75700,75500,75300,75065,75065,75065,93750,75000,93750,75000,75000,75000,75000,75000,75000,75000,75000,75000,75000,93750,75000,93750,83333,75000,93750,75000,75000,75000,75000,75000,75000,75000,75000,75000,74500,74400,74300,74300,74300,74300,74276,74270,74270,92500,74000,73756,73700,81333,73100,73100,73100,73100,73100,73100,73100,73100,73100,73100,73100,73100,73100,73100,73100,73100,73100,73100,73100,73100,73100,73100,73100,73000,73000,73000,73000,73000,72870,72700,72600,72500,72500,72360,80400,72240,72200,80142,72100,72100,72000,72000,72000,72000,71958,79765,79653,71500,71250,88973,71000,71000,71000,70800,70692,70650,70230,70000,70000,70000,70000,87500,70000,87500,70000,70000,70000,87500,87500,70000,70000,70000,70000,70000,77777,70000,70000,70000,77777,70000,70000,87500,70000,70000,70000,70000,70000,70000,70000,70000,77777,70000,70000,70000,70000,70000,70000,70000,70000,70000,70000,70000,70000,70000,70000,77777,69800,69800,69785,69600,69400,69300,69000,69000,69000,69000,68975,68850,68740,68637,68400,68400,68400,68300,68195,68150,68088,68000,68000,68000,68000,68000,68000,68000,67275,67200,67060,67000,67000,66820,66560,66100,82500,66000,66000,66000,66000,66000,65800,65800,65800,65800,65750,65750,65750,65750,65600,65600,65407,65400,65400,65300,65000,65000,65000,81250,65000,65000,81250,81250,81250,81250,65000,65000,65000,65000,65000,81250,72222,81250,65000,65000,65000,72222,65000,81250,81250,65000,65000,81250,65000,65000,81250,64900,64900,64900,64600,64600,64500,64200,64200,64000,64000,64000,80000,63444,63000,62300,62300,62100,62100,62000,62000,62000,62000,61800,61800,61700,61700,61600,61463,61000,76075,60800,60500,60080,66666,75000,60000,60000,75000,66666,60000,66666,60000,60000,75000,60000,75000,60000,75000,66666,66666,60000,60000,66666,75000,66666,60000,60000,66666,59923,59570,59500,59300,65333,58500,58400,58400,58400,58400,58400,58400,58400,58300,58300,58300,64574,58000,58000,58000,57700,57700,57500,57300,57000,63333,70000,55751,55720,55200,55200,55200,55200,55200,55200,55200,55200,68750,68750,68750,68750,68750,68750,68750,55000,68750,68750,68750,68750,61111,68750,68750,55000,68750,68750,68750,55000,54552,67993,67993,67993,60000,60000,54000,67500,54000,67500,54000,53300,53300,58888,53000,66250,52100,65000,57277,51543,51500,51375,64105,51175,51175,51000,51000,51000,63437,50700,56100,50200,50000,50000,62500,50000,50000,62500,62500,50000,62500,62500,55555,62500,55555,62500,62500,62500,50000,55555,50000,49900,49900,61875,49452,61105,48067,48000,48000,48000,60000,60000,53333,47840,47840,47840,47840,47700,47500,47500,47500,47500,47500,47500,59018,57753,46080,45900,45700,45700,50666,57000,56981,56981,45400,45400,56250,56250,56250,56250,56250,56250,56250,56250,56250,49333,55328,44100,44000,54532,47777,42700,53133,42400,52806,46666,42000,52500,41419,41419,41419,51446,51381,51283,40300,44555,40000,40000,50000,50000,50000,40000,50000,50000,50000,50000,50000,50000,44444,50000,50000,50000,50000,50000,50000,50000,44266,44000,42666,47850,47500,42222,42222,41600,46500,37120,46250,45775,45625,40000,40000,43750,38888,43750,43750,43675,43628,42500,42457,37333,41750,36000,39245,34666,30000,30000,30000,30000,33333,37500,31187,34973,33750,27000,27000,33500,33500,33500,33500,33500,33500,28888,28888,26000,32177,25000,31250,30000,28750,28750,28750,28750,21600,23333,17600,17598,16666],\"xaxis\":\"x\",\"yaxis\":\"y\",\"type\":\"histogram\"},{\"alignmentgroup\":\"True\",\"boxpoints\":\"all\",\"fillcolor\":\"rgba(255,255,255,0)\",\"hoveron\":\"points\",\"hovertemplate\":\"salary_in_usd=%{x}\\u003cextra\\u003e\\u003c\\u002fextra\\u003e\",\"jitter\":0,\"legendgroup\":\"\",\"line\":{\"color\":\"rgba(255,255,255,0)\"},\"marker\":{\"color\":\"#9b72cf\",\"symbol\":\"line-ns-open\"},\"name\":\"\",\"offsetgroup\":\"\",\"showlegend\":false,\"x\":[39615,27611,800000,774000,750000,750000,750000,750000,720000,720000,720000,720000,720000,720000,720000,720000,600000,600000,600000,550000,550000,530000,500000,500000,484000,450000,449000,448000,440000,440000,440000,440000,440000,440000,440000,440000,440000,440000,440000,440000,440000,440000,438000,418000,418000,414000,414000,408500,400000,400000,398900,398900,386100,385000,385000,385000,385000,382320,381500,381500,373000,365100,363000,363000,360000,360000,359400,359400,359170,357900,345400,345400,345400,345000,342400,340000,340000,339250,337300,337300,337300,337300,334075,333500,333500,333500,333500,331640,331640,331640,331640,331292,329200,328000,326000,325000,324100,324000,324000,324000,324000,324000,324000,324000,324000,324000,324000,323700,323300,322000,322000,322000,321830,321000,321000,320000,317000,316900,315000,314100,314000,313000,313000,312287,310270,310000,310000,310000,310000,310000,309000,309000,309000,308000,307100,304750,304750,303400,303400,303400,303400,303050,302840,300000,300000,300000,300000,300000,300000,300000,300000,300000,300000,300000,300000,300000,300000,300000,300000,300000,299792,297000,297000,297000,296980,296400,296100,295490,295000,295000,295000,295000,295000,295000,295000,295000,295000,294000,291900,290000,290000,290000,290000,290000,290000,289000,288400,288400,287800,287800,287500,287500,286500,286000,285670,285200,285000,323295,284400,284400,283800,283800,283800,283780,283780,283780,283780,283780,283500,282000,282000,280000,280000,280000,280000,280000,280000,279000,278800,278700,278700,278700,278700,278700,278700,278700,278700,278700,278700,277000,277000,277000,277000,276000,276000,276000,276000,276000,276000,275000,211511,274000,273500,272700,272400,270400,270250,270250,270250,270000,270000,270000,270000,269100,269000,268700,268500,267900,267900,267500,267100,266875,266875,266482,266000,265200,265000,263500,263000,263000,262269,261050,260800,260100,260100,260000,260000,260000,260000,260000,260000,260000,260000,260000,260000,260000,260000,260000,260000,260000,259900,259850,259700,258800,258800,258720,258600,258500,258500,258450,258100,258100,258100,258000,257600,257400,257250,257000,256100,255800,255800,255800,255800,255800,255800,255800,255800,255800,255475,255475,255000,255000,255000,254400,254270,254270,254000,253430,253430,253430,253000,253000,252000,252000,252000,252000,251250,251000,250900,250900,250900,250900,250800,250800,250000,250000,250000,250000,250000,250000,250000,250000,250000,250000,250000,250000,250000,250000,250000,250000,250000,250000,250000,250000,250000,250000,250000,250000,249700,248600,248600,247600,247600,247600,247600,247600,247500,247500,247500,247500,247300,247300,247300,247250,247250,247000,246500,246100,246000,246000,246000,245700,245400,245000,245000,245000,245000,245000,245000,245000,245000,245000,245000,245000,245000,245000,245000,245000,245000,244868,244800,244400,243800,243800,243500,243500,243000,243000,242100,242100,186153,242000,242000,186153,186153,242000,240960,240960,240960,240500,240500,240500,240200,240000,240000,240000,240000,240000,240000,240000,240000,240000,240000,240000,240000,240000,240000,240000,240000,240000,240000,240000,240000,240000,239600,239600,239300,239300,238500,238500,238400,237650,237600,237600,237600,237500,237500,237200,237188,237000,236400,236000,236000,235700,235680,235680,235680,235000,235000,235000,235000,235000,235000,235000,235000,234900,234700,234700,234700,234300,234200,234000,234000,234000,234000,234000,234000,234000,234000,234000,234000,234000,234000,234000,234000,234000,234000,234000,234000,234000,233840,233500,233200,233200,232000,232000,231600,231250,231000,231000,230797,230000,230000,230000,230000,230000,230000,230000,230000,230000,230000,230000,230000,230000,230000,230000,230000,230000,230000,230000,230000,230000,229900,229900,229900,229900,229900,229369,229000,227700,227200,227000,227000,226844,226500,226000,226000,226000,225000,225000,225000,225000,225000,225000,225000,225000,225000,225000,225000,225000,224800,224100,224000,224000,223700,223700,223600,223100,223100,223100,223000,222300,222200,222200,222200,222200,222200,222200,222200,222200,222200,222200,222200,222200,222200,222200,222200,222200,222000,221630,221500,221000,221000,221000,221000,221000,221000,221000,220800,220600,220067,220000,220000,220000,220000,220000,220000,220000,220000,220000,220000,220000,220000,220000,220000,220000,220000,220000,220000,220000,220000,220000,220000,220000,220000,220000,220000,220000,220000,220000,220000,220000,220000,220000,220000,220000,220000,220000,220000,219650,219650,219650,219650,219600,219600,219100,219000,218750,218500,218500,218213,218213,218185,218000,218000,217508,217508,216800,216700,216700,216700,216700,216000,216000,215500,215500,215000,215000,215000,165384,215000,215000,215000,215000,215000,215000,215000,215000,215000,165384,215000,165384,215000,215000,215000,214500,214300,214300,214000,212800,212800,212800,212800,212800,212800,212800,212780,212500,212500,212000,212000,212000,212000,212000,212000,212000,212000,212000,212000,212000,212000,212000,212000,212000,212000,212000,212000,212000,212000,212000,212000,212000,212000,212000,212000,212000,211900,210100,210100,210100,210100,210100,210100,210100,210100,210100,210100,210100,210100,210000,210000,210000,210000,210000,210000,210000,210000,210000,210000,210000,210000,210000,210000,210000,210000,210000,210000,210000,210000,210000,210000,210000,210000,210000,210000,210000,210000,209990,209943,209700,209700,209309,209300,209000,209000,208500,208500,208122,208000,208000,208000,208000,207900,207760,207600,207300,207300,207300,207000,207000,207000,207000,207000,207000,206800,206500,206000,206000,206000,206000,206000,206000,206000,206000,206000,205600,205600,205500,205500,205500,205400,205000,205000,205000,204800,204662,204600,204600,204500,204500,204500,204500,204300,204200,204000,204000,204000,204000,204000,203800,203500,203500,203000,202800,202800,202800,202600,202500,202350,202000,201900,201900,201450,201400,201400,201400,201400,201400,201400,201000,201000,200800,200800,200800,200740,200400,200400,200400,200400,200300,200200,200070,200070,200070,200000,200000,200000,200000,200000,200000,200000,200000,200000,200000,200000,200000,200000,200000,200000,200000,200000,200000,200000,200000,200000,200000,200000,200000,200000,125000,200000,200000,200000,200000,200000,200000,200000,200000,200000,200000,200000,200000,200000,200000,199700,199700,199700,199700,199700,199467,199200,199200,199100,199000,198900,198800,198650,198433,198200,198000,198000,198000,198000,198000,198000,198000,198000,198000,198000,198000,198000,198000,197500,197100,197011,197000,197000,197000,196720,196350,196350,196350,196350,196000,196000,195700,195600,195500,195500,195500,195500,195500,195500,195500,195500,195200,195200,195000,195000,195000,195000,195000,195000,195000,195000,195000,195000,195000,195000,195000,195000,195000,195000,195000,194992,194500,194500,194500,194500,194500,194200,194063,194000,193500,193412,193000,193000,193000,193000,193000,192780,192700,192700,192700,192700,192500,192500,192500,192500,192500,192500,192500,192300,192000,192000,191857,191857,191500,191311,191027,191027,190600,190500,190500,190400,190196,190196,190100,190000,190000,190000,190000,190000,190000,190000,190000,190000,190000,190000,190000,190000,190000,190000,190000,190000,190000,190000,190000,190000,190000,190000,190000,190000,190000,190000,190000,190000,190000,190000,190000,190000,190000,190000,190000,190000,190000,190000,189400,189360,189100,189000,189000,189000,189000,189000,188500,188500,188500,188500,188500,188500,188000,188000,188000,188000,187770,187500,187500,187370,187200,187165,187158,187000,187000,187000,187000,187000,187000,187000,187000,187000,187000,187000,186846,186846,186754,186000,186000,185900,185900,185900,185900,185800,185800,185800,185800,185800,185500,185490,185400,185400,185000,185000,185000,185000,185000,185000,185000,185000,185000,185000,185000,185000,185000,185000,185000,185000,185000,185000,185000,185000,185000,185000,185000,184900,184800,184800,184800,184700,184662,184180,184000,184000,184000,184000,184000,184000,184000,183400,183400,183000,183000,183000,182600,182000,182000,182000,182000,181900,181610,181280,181100,181000,181000,180700,180700,180500,180500,180400,180000,180000,180000,180000,180000,180000,180000,180000,180000,180000,180000,180000,180000,180000,180000,180000,180000,180000,180000,180000,180000,180000,180000,180000,180000,180000,180000,180000,180000,180000,180000,180000,180000,180000,180000,180000,180000,180000,180000,180000,180000,180000,180000,180000,180000,180000,180000,180000,180000,180000,180000,180000,180000,180000,180000,180000,180000,180000,180000,180000,180000,180000,180000,179900,179900,179700,179200,179000,179000,179000,179000,179000,179000,179000,179000,179000,179000,179000,179000,179000,179000,179000,179000,179000,179000,179000,179000,179000,179000,179000,179000,179000,179000,179000,179000,179000,179000,179000,179000,179000,178600,178600,178538,178500,178500,178250,178250,178250,177961,177961,177700,177500,177300,177300,177100,177000,177000,176900,176900,176875,176700,176700,176700,176000,176000,176000,176000,176000,176000,176000,176000,176000,176000,175762,175762,175520,175100,175100,175100,175100,175000,175000,175000,175000,175000,175000,175000,175000,175000,175000,175000,175000,175000,175000,175000,175000,175000,175000,175000,175000,175000,175000,175000,175000,175000,175000,175000,175000,175000,175000,175000,175000,175000,175000,175000,175000,174500,174500,174300,174000,174000,174000,174000,174000,174000,173400,173400,173000,173000,173000,173000,173000,173000,173000,172800,172800,172800,172700,172500,172400,172200,172200,172200,172200,172200,172200,172200,172100,172000,172000,171816,171600,171600,171240,171210,171210,171210,171000,171000,171000,170800,170700,170400,170375,170200,170200,170200,170200,170200,170000,170000,170000,170000,170000,170000,170000,170000,170000,170000,170000,170000,170000,170000,170000,170000,170000,170000,170000,170000,170000,170000,170000,170000,170000,170000,170000,170000,170000,170000,170000,170000,170000,170000,170000,170000,170000,170000,170000,170000,170000,170000,170000,170000,170000,170000,170000,170000,170000,170000,170000,170000,170000,170000,170000,170000,170000,169900,169767,169700,169200,169200,169000,168854,168800,168600,168600,168500,168000,168000,168000,168000,168000,168000,168000,168000,167500,167500,167500,167500,167400,167200,167200,167000,167000,167000,166700,166700,166551,128076,166363,166363,166358,166000,166000,166000,166000,166000,166000,166000,166000,166000,166000,166000,166000,166000,166000,166000,166000,166000,166000,166000,166000,166000,166000,166000,166000,166000,166000,166000,166000,166000,166000,166000,165900,165600,165600,165600,165600,165500,165100,165100,165100,165100,165100,165100,165100,165100,165100,165000,165000,165000,165000,165000,165000,165000,165000,165000,165000,165000,165000,165000,165000,165000,165000,165000,165000,165000,165000,165000,165000,165000,165000,165000,165000,165000,165000,165000,165000,165000,165000,165000,164850,164845,164800,164700,164640,164300,164000,164000,164000,164000,164000,164000,164000,164000,164000,164000,164000,164000,164000,163700,163500,163200,163000,163000,163000,163000,163000,162900,162819,162240,162240,162240,162240,162000,162000,162000,162000,162000,162000,162000,162000,162000,162000,162000,161900,161875,161500,161500,161300,161300,161250,161250,161000,161000,160700,160480,160100,160000,160000,160000,160000,160000,160000,160000,160000,160000,160000,160000,160000,160000,160000,160000,160000,160000,160000,160000,160000,160000,160000,160000,160000,160000,160000,160000,160000,160000,160000,160000,160000,160000,160000,160000,160000,160000,160000,160000,160000,160000,160000,160000,160000,160000,160000,160000,160000,160000,160000,160000,160000,160000,160000,160000,160000,160000,159870,159300,159300,159300,159300,159300,159300,159300,159300,159300,159300,159300,159250,159000,159000,159000,159000,159000,159000,159000,159000,159000,159000,159000,159000,158680,158500,158500,158500,158494,158100,158100,158000,158000,158000,158000,158000,157900,157900,157900,157900,157900,157850,157600,157600,157500,157500,157500,157476,157144,157000,156476,156450,156400,156300,156200,156000,156000,156000,156000,156000,156000,156000,155615,155615,155600,155175,155000,155000,155000,155000,155000,155000,155000,155000,155000,155000,155000,155000,155000,155000,155000,155000,155000,155000,155000,155000,155000,155000,155000,155000,154818,154800,154800,154800,154500,154400,193000,154360,154100,154100,154000,154000,154000,154000,154000,154000,154000,154000,153900,153900,153900,153700,153400,153200,153040,153040,153040,153018,153000,153000,153000,153000,153000,153000,153000,153000,153000,153000,153000,153000,152600,152500,152400,152375,152375,152375,152375,152375,152000,152000,152000,152000,152000,152000,152000,152000,152000,152000,152000,151900,151900,151900,151800,151800,151800,151800,151800,151600,151500,151500,151500,151260,151000,151000,151000,151000,150895,150800,150700,150700,150700,150500,150000,150000,150000,150000,150000,150000,150000,150000,150000,150000,150000,150000,150000,150000,150000,150000,150000,150000,150000,150000,150000,150000,150000,150000,150000,150000,150000,150000,150000,150000,150000,150000,150000,150000,150000,150000,150000,150000,150000,150000,150000,150000,150000,150000,150000,150000,150000,150000,150000,150000,150000,150000,150000,150000,150000,150000,150000,150000,150000,150000,150000,150000,150000,150000,150000,150000,150000,166666,150000,150000,150000,150000,150000,150000,150000,150000,150000,150000,150000,150000,150000,150000,149800,149800,149750,149750,149500,149300,149200,149200,149076,149000,149000,149000,149000,149000,148750,148594,148500,148300,148100,148100,148000,148000,148000,148000,148000,148000,148000,148000,148000,148000,147900,147800,147670,147645,147600,147500,147500,147500,147500,147500,147400,147000,147000,147000,147000,146900,146900,146900,146900,146900,146900,146900,146900,146900,146900,146851,146800,146500,146266,146266,146266,146266,146125,146100,146100,146100,146000,146000,146000,146000,146000,146000,146000,146000,146000,146000,146000,146000,146000,146000,146000,146000,146000,146000,146000,146000,146000,146000,146000,145600,145580,145500,145400,145400,145400,145360,145360,145125,145100,145000,145000,145000,145000,145000,145000,145000,145000,145000,145000,145000,145000,145000,145000,145000,145000,145000,145000,145000,145000,145000,145000,145000,145000,145000,144900,144700,144650,144650,144600,144600,144600,144600,144500,144300,144300,144200,144200,144200,144200,144200,144200,144200,144138,144000,144000,144000,144000,144000,144000,144000,143800,143800,143706,143500,143297,143000,143000,143000,143000,143000,143000,142500,142500,142500,142352,142100,142002,142000,142000,142000,142000,142000,141800,141375,141300,141300,141300,141300,141300,141300,141000,141000,141000,140900,140726,140400,140400,140300,140250,140250,140250,140250,140250,140250,140130,140100,140032,140025,140000,140000,140000,140000,140000,140000,140000,140000,140000,140000,140000,140000,140000,140000,140000,140000,140000,140000,140000,140000,140000,140000,140000,140000,140000,140000,140000,140000,140000,140000,140000,140000,140000,140000,140000,140000,140000,140000,140000,140000,140000,140000,140000,140000,140000,140000,140000,140000,140000,140000,140000,140000,140000,140000,140000,140000,140000,140000,140000,140000,140000,140000,140000,175000,140000,140000,140000,140000,140000,140000,140000,140000,140000,139810,139800,139800,139800,139700,139700,139600,139500,139500,139000,139000,139000,139000,139000,139000,139000,139000,139000,139000,138800,138500,138500,138500,138400,138400,138278,138200,138000,138000,138000,138000,138000,138000,138000,138000,138000,138000,138000,138000,138000,138000,138000,138000,138000,138000,138000,138000,137930,137930,137900,137871,137500,137500,137500,137500,137500,137500,137500,137500,137500,137500,137500,137500,137100,137000,137000,137000,137000,137000,136675,136500,136420,136300,136197,136000,136000,136000,136000,136000,136000,136000,136000,136000,136000,136000,136000,136000,136000,136000,136000,136000,136000,136000,136000,136000,136000,136000,136000,136000,136000,136000,136000,136000,136000,136000,136000,136000,136000,136000,136000,136000,136000,136000,136000,136000,136000,135920,135920,135549,135482,135450,135200,135200,135200,135200,135127,135097,135000,135000,135000,135000,135000,135000,135000,135000,135000,135000,135000,135000,135000,135000,135000,103846,135000,135000,135000,135000,135000,135000,135000,135000,135000,135000,135000,134900,134600,134530,134500,134500,134500,134500,134400,134400,134400,134200,134200,134160,134000,133903,133903,133650,133504,133200,133200,133200,133200,133000,133000,133000,133000,133000,133000,133000,133000,133000,133000,133000,132974,132974,132974,132900,132600,132600,132600,132567,132500,132500,132500,132500,132500,132300,132100,132100,132000,132000,132000,132000,132000,132000,132000,132000,132000,132000,132000,132000,132000,132000,131712,131600,131600,131414,131414,131300,131200,131200,131200,131200,131200,131200,131000,131000,130916,130900,130500,130500,130500,130400,130300,130100,130100,100006,130000,130000,130000,130000,130000,130000,130000,130000,162500,130000,130000,130000,130000,130000,130000,130000,130000,130000,130000,130000,130000,130000,130000,130000,130000,130000,130000,130000,130000,130000,130000,130000,130000,130000,130000,130000,130000,130000,130000,130000,130000,130000,130000,130000,130000,130000,130000,130000,130000,130000,162500,130000,130000,130000,130000,130000,130000,130000,130000,130000,130000,130000,130000,130000,130000,130000,130000,130000,129600,129118,129000,129000,128945,128900,128800,128656,128600,128250,128250,128000,128000,128000,128000,128000,128000,128000,128000,128000,128000,127660,127500,127500,127500,127500,127500,127500,127305,127300,127300,127300,127300,127300,127000,127000,127000,127000,126900,126800,126667,126600,126600,126500,126500,126480,126400,126400,126400,126400,126000,126000,126000,139777,125500,125500,125500,125100,125000,125000,125000,125000,125000,125000,125000,125000,125000,125000,125000,125000,125000,125000,125000,125000,125000,125000,125000,125000,125000,125000,125000,124935,124935,124875,124800,124690,124400,124230,124100,124100,124000,124000,124000,124000,124000,123900,123800,123765,123740,123700,123700,123625,123600,123200,123000,123000,123000,123000,123000,123000,123000,123000,123000,123000,123000,122900,122600,122500,122500,122500,122500,122328,122116,122100,122000,122000,122000,122000,121800,121500,121500,121056,121000,121000,120869,120800,120750,120715,120672,120200,136363,120000,120000,120000,120000,120000,120000,120000,120000,120000,120000,120000,120000,120000,120000,120000,120000,120000,120000,120000,120000,120000,150000,120000,120000,120000,120000,120000,120000,120000,120000,120000,120000,150000,120000,120000,120000,120000,120000,120000,120000,120000,120000,133333,80000,120000,120000,120000,120000,120000,120000,120000,120000,120000,120000,120000,120000,120000,120000,120000,120000,150000,120000,119900,119887,119786,119700,119250,119200,119200,119060,119000,119000,119000,119000,119000,118750,118600,118500,118400,118300,118300,118136,118000,118000,118000,117800,117750,117725,117500,117500,117400,117400,117000,117000,117000,117000,117000,117000,117000,117000,117000,117000,117000,117000,117000,117000,117000,130000,117000,117000,117000,116974,116800,116600,116550,116500,116259,116200,116200,116047,116013,116000,116000,116000,116000,116000,116000,116000,116000,116000,115900,115889,115800,115765,115500,115500,115500,115400,115254,115000,115000,115000,115000,115000,115000,115000,115000,115000,115000,115000,115000,115000,115000,115000,115000,115000,115000,115000,115000,115000,115000,115000,115000,115000,115000,115000,115000,115000,115000,115000,115000,115000,115000,115000,115000,115000,115000,115000,115000,115000,115000,114800,114638,114100,114000,129545,114000,114000,114000,114000,113800,113700,113500,113210,113100,113050,113000,113000,113000,113000,125333,112715,112500,112125,112000,140000,112000,112000,112000,112000,112000,112000,112000,112000,112000,112000,112000,112000,112000,112000,112000,112000,112000,112000,112000,112000,112000,112000,112000,112000,112000,112000,112000,112000,112000,112000,112000,112000,112000,112000,112000,112000,112000,111800,111800,111648,111600,111600,111600,111600,111510,111500,111500,111500,111300,111200,111000,111000,110900,110630,110500,110400,110400,110400,110300,110000,110000,110000,110000,110000,110000,110000,110000,110000,110000,110000,110000,110000,110000,110000,110000,110000,110000,110000,110000,110000,110000,110000,110000,110000,110000,110000,110000,110000,110000,110000,110000,110000,110000,110000,110000,110000,110000,110000,110000,110000,110000,110000,110000,110000,110000,110000,110000,110000,137500,110000,110000,110000,110000,110000,109920,109700,109500,109400,109400,109400,109400,109100,109000,109000,109000,109000,109000,109000,109000,109000,109000,109000,109000,109000,108750,108500,108500,108500,108500,108500,108500,108500,108500,108334,108000,108000,108000,107800,107800,107755,107730,107730,107730,107690,107500,107440,107197,107100,107000,107000,107000,106960,106875,106875,106800,106700,106700,106605,106605,106605,106500,106500,106500,106500,106500,106500,106500,106500,106500,106500,106500,106500,106500,106300,106260,106200,106200,106100,106100,106100,106100,106050,106050,106050,106050,106000,106000,106000,106000,106000,106000,106000,106000,106000,105800,105700,105700,105646,105500,105500,105500,105301,105301,105301,105300,105300,105300,105300,105267,105267,105000,105000,105000,105000,105000,105000,105000,105000,80769,105000,105000,105000,105000,105000,105000,105000,105000,105000,105000,105000,105000,105000,105000,105000,105000,105000,105000,105000,105000,105000,104981,104981,104922,104828,104800,104800,130943,104603,104500,104100,104000,104000,104000,104000,104000,104000,104000,104000,104000,104000,104000,103977,103977,103800,103786,103500,103500,103330,103300,103275,103000,103000,103000,103000,103000,102900,102500,102300,102200,102000,102000,102000,102000,101763,101763,101200,101100,101100,101000,101000,101000,101000,100800,100700,100600,100400,100200,100200,100200,100144,100022,100000,100000,100000,100000,100000,100000,100000,100000,100000,100000,100000,100000,100000,111111,100000,100000,100000,100000,100000,100000,100000,100000,100000,100000,100000,100000,100000,125000,125000,100000,100000,100000,100000,100000,100000,100000,100000,100000,100000,100000,100000,100000,100000,100000,100000,100000,100000,100000,100000,100000,100000,100000,100000,100000,100000,100000,100000,100000,100000,100000,100000,100000,100000,100000,100000,100000,100000,100000,100000,100000,100000,100000,100000,100000,100000,100000,100000,100000,100000,125000,100000,100000,100000,100000,100000,99900,99750,99600,99548,99500,99500,99500,99445,99445,99200,99100,99000,99000,99000,99000,98700,98700,98500,98000,98000,98000,98000,97935,97800,97700,97693,97500,97400,97335,97335,97300,97300,97254,97254,97200,97125,97060,97000,97000,97000,97000,97000,97000,97000,96900,96800,96800,96800,96761,96750,96750,96700,96643,96600,96600,96600,96600,96600,96600,96600,96600,96600,96500,96475,96412,96411,96411,96200,96200,96200,96200,96000,96000,106666,106666,96000,96000,96000,96000,96000,95828,95776,95413,95325,95325,95300,95300,95300,95166,95105,95000,95000,95000,95000,95000,95000,95000,95000,95000,118750,95000,95000,95000,95000,95000,95000,95000,95000,95000,95000,95000,95000,95000,95000,95000,94800,94700,94700,94625,94600,94600,94600,94500,94500,94415,94400,94400,94400,94200,94100,94000,94000,94000,94000,94000,94000,94000,94000,94000,93900,93800,93800,93500,93500,93400,93400,93400,93300,93300,93300,93300,93300,93300,93300,93300,93300,93300,93300,93300,93300,93300,93300,93300,93300,93300,93300,93300,93300,93300,93300,93150,93100,93000,93000,93000,93000,93000,93000,93000,93000,93000,93000,93000,92810,92700,92700,92700,92700,92700,92300,92190,92190,92190,115000,92000,92000,92000,92000,92000,92000,115000,92000,92000,92000,91536,91300,91000,91000,90950,90800,90800,90700,90500,90500,90500,90300,90279,90100,90000,90000,90000,90000,90000,90000,90000,90000,90000,100000,90000,90000,90000,90000,90000,90000,90000,90000,90000,90000,112500,90000,90000,90000,90000,90000,90000,90000,90000,112500,90000,112500,90000,90000,90000,90000,90000,90000,90000,90000,90000,90000,90000,90000,90000,90000,90000,90000,112500,90000,100000,90000,89500,89500,89500,89000,89000,89000,89000,88995,88854,88800,88800,88670,88200,88200,88200,88052,88000,88000,88000,88000,88000,87999,87800,87800,87600,87550,87550,87550,87400,87300,87000,87000,87000,108750,86900,86800,86800,86600,86600,86500,86424,86218,95717,86078,95584,86000,86000,86000,86000,86000,86000,86000,86000,86000,86000,86000,86000,86000,86000,86000,86000,85900,85750,85700,85500,85500,85500,85469,85420,85393,85000,85000,106250,85000,85000,85000,85000,85000,85000,85000,85000,85000,85000,106250,106250,85000,85000,85000,85000,85000,85000,85000,85000,85000,85000,85000,85000,85000,94444,84870,84750,84700,84533,84500,84500,84500,84500,84105,84068,84000,84000,84000,93333,84000,83900,83900,93222,83900,83900,83900,83646,83576,104220,83300,83300,83300,83300,83300,83300,83200,92248,83000,83000,82915,82915,82915,82620,82500,82500,82365,82000,82000,82000,82000,82000,81960,81800,81800,81713,81650,81650,81536,81530,81500,81500,81500,81500,81500,81500,81500,81500,81410,81410,81200,81000,80845,80800,80500,80420,80420,80420,80420,80080,100000,100000,80000,80000,80000,80000,80000,100000,80000,80000,80000,80000,100000,80000,80000,80000,88888,80000,100000,80000,80000,80000,80000,80000,80000,80000,80000,80000,80000,80000,80000,80000,80000,80000,80000,80000,80000,80000,80000,80000,80000,80000,80000,80000,79900,79645,79600,79600,79600,79600,79600,79600,79600,79300,79200,79200,79000,79000,79000,78900,78800,78800,78800,78800,78800,78800,78800,78575,78308,78300,78100,78000,78000,78000,78000,78000,77826,77400,77400,77280,77265,85600,77000,77000,96250,77000,77000,77000,77000,96125,76500,76500,76300,76300,76300,76300,76300,76300,76095,76050,76050,76000,76000,76000,75800,75705,75700,75500,75300,75065,75065,75065,93750,75000,93750,75000,75000,75000,75000,75000,75000,75000,75000,75000,75000,93750,75000,93750,83333,75000,93750,75000,75000,75000,75000,75000,75000,75000,75000,75000,74500,74400,74300,74300,74300,74300,74276,74270,74270,92500,74000,73756,73700,81333,73100,73100,73100,73100,73100,73100,73100,73100,73100,73100,73100,73100,73100,73100,73100,73100,73100,73100,73100,73100,73100,73100,73100,73000,73000,73000,73000,73000,72870,72700,72600,72500,72500,72360,80400,72240,72200,80142,72100,72100,72000,72000,72000,72000,71958,79765,79653,71500,71250,88973,71000,71000,71000,70800,70692,70650,70230,70000,70000,70000,70000,87500,70000,87500,70000,70000,70000,87500,87500,70000,70000,70000,70000,70000,77777,70000,70000,70000,77777,70000,70000,87500,70000,70000,70000,70000,70000,70000,70000,70000,77777,70000,70000,70000,70000,70000,70000,70000,70000,70000,70000,70000,70000,70000,70000,77777,69800,69800,69785,69600,69400,69300,69000,69000,69000,69000,68975,68850,68740,68637,68400,68400,68400,68300,68195,68150,68088,68000,68000,68000,68000,68000,68000,68000,67275,67200,67060,67000,67000,66820,66560,66100,82500,66000,66000,66000,66000,66000,65800,65800,65800,65800,65750,65750,65750,65750,65600,65600,65407,65400,65400,65300,65000,65000,65000,81250,65000,65000,81250,81250,81250,81250,65000,65000,65000,65000,65000,81250,72222,81250,65000,65000,65000,72222,65000,81250,81250,65000,65000,81250,65000,65000,81250,64900,64900,64900,64600,64600,64500,64200,64200,64000,64000,64000,80000,63444,63000,62300,62300,62100,62100,62000,62000,62000,62000,61800,61800,61700,61700,61600,61463,61000,76075,60800,60500,60080,66666,75000,60000,60000,75000,66666,60000,66666,60000,60000,75000,60000,75000,60000,75000,66666,66666,60000,60000,66666,75000,66666,60000,60000,66666,59923,59570,59500,59300,65333,58500,58400,58400,58400,58400,58400,58400,58400,58300,58300,58300,64574,58000,58000,58000,57700,57700,57500,57300,57000,63333,70000,55751,55720,55200,55200,55200,55200,55200,55200,55200,55200,68750,68750,68750,68750,68750,68750,68750,55000,68750,68750,68750,68750,61111,68750,68750,55000,68750,68750,68750,55000,54552,67993,67993,67993,60000,60000,54000,67500,54000,67500,54000,53300,53300,58888,53000,66250,52100,65000,57277,51543,51500,51375,64105,51175,51175,51000,51000,51000,63437,50700,56100,50200,50000,50000,62500,50000,50000,62500,62500,50000,62500,62500,55555,62500,55555,62500,62500,62500,50000,55555,50000,49900,49900,61875,49452,61105,48067,48000,48000,48000,60000,60000,53333,47840,47840,47840,47840,47700,47500,47500,47500,47500,47500,47500,59018,57753,46080,45900,45700,45700,50666,57000,56981,56981,45400,45400,56250,56250,56250,56250,56250,56250,56250,56250,56250,49333,55328,44100,44000,54532,47777,42700,53133,42400,52806,46666,42000,52500,41419,41419,41419,51446,51381,51283,40300,44555,40000,40000,50000,50000,50000,40000,50000,50000,50000,50000,50000,50000,44444,50000,50000,50000,50000,50000,50000,50000,44266,44000,42666,47850,47500,42222,42222,41600,46500,37120,46250,45775,45625,40000,40000,43750,38888,43750,43750,43675,43628,42500,42457,37333,41750,36000,39245,34666,30000,30000,30000,30000,33333,37500,31187,34973,33750,27000,27000,33500,33500,33500,33500,33500,33500,28888,28888,26000,32177,25000,31250,30000,28750,28750,28750,28750,21600,23333,17600,17598,16666],\"xaxis\":\"x2\",\"yaxis\":\"y2\",\"type\":\"box\"}],                        {\"template\":{\"data\":{\"barpolar\":[{\"marker\":{\"line\":{\"color\":\"white\",\"width\":0.5},\"pattern\":{\"fillmode\":\"overlay\",\"size\":10,\"solidity\":0.2}},\"type\":\"barpolar\"}],\"bar\":[{\"error_x\":{\"color\":\"#2a3f5f\"},\"error_y\":{\"color\":\"#2a3f5f\"},\"marker\":{\"line\":{\"color\":\"white\",\"width\":0.5},\"pattern\":{\"fillmode\":\"overlay\",\"size\":10,\"solidity\":0.2}},\"type\":\"bar\"}],\"carpet\":[{\"aaxis\":{\"endlinecolor\":\"#2a3f5f\",\"gridcolor\":\"#C8D4E3\",\"linecolor\":\"#C8D4E3\",\"minorgridcolor\":\"#C8D4E3\",\"startlinecolor\":\"#2a3f5f\"},\"baxis\":{\"endlinecolor\":\"#2a3f5f\",\"gridcolor\":\"#C8D4E3\",\"linecolor\":\"#C8D4E3\",\"minorgridcolor\":\"#C8D4E3\",\"startlinecolor\":\"#2a3f5f\"},\"type\":\"carpet\"}],\"choropleth\":[{\"colorbar\":{\"outlinewidth\":0,\"ticks\":\"\"},\"type\":\"choropleth\"}],\"contourcarpet\":[{\"colorbar\":{\"outlinewidth\":0,\"ticks\":\"\"},\"type\":\"contourcarpet\"}],\"contour\":[{\"colorbar\":{\"outlinewidth\":0,\"ticks\":\"\"},\"colorscale\":[[0.0,\"#0d0887\"],[0.1111111111111111,\"#46039f\"],[0.2222222222222222,\"#7201a8\"],[0.3333333333333333,\"#9c179e\"],[0.4444444444444444,\"#bd3786\"],[0.5555555555555556,\"#d8576b\"],[0.6666666666666666,\"#ed7953\"],[0.7777777777777778,\"#fb9f3a\"],[0.8888888888888888,\"#fdca26\"],[1.0,\"#f0f921\"]],\"type\":\"contour\"}],\"heatmapgl\":[{\"colorbar\":{\"outlinewidth\":0,\"ticks\":\"\"},\"colorscale\":[[0.0,\"#0d0887\"],[0.1111111111111111,\"#46039f\"],[0.2222222222222222,\"#7201a8\"],[0.3333333333333333,\"#9c179e\"],[0.4444444444444444,\"#bd3786\"],[0.5555555555555556,\"#d8576b\"],[0.6666666666666666,\"#ed7953\"],[0.7777777777777778,\"#fb9f3a\"],[0.8888888888888888,\"#fdca26\"],[1.0,\"#f0f921\"]],\"type\":\"heatmapgl\"}],\"heatmap\":[{\"colorbar\":{\"outlinewidth\":0,\"ticks\":\"\"},\"colorscale\":[[0.0,\"#0d0887\"],[0.1111111111111111,\"#46039f\"],[0.2222222222222222,\"#7201a8\"],[0.3333333333333333,\"#9c179e\"],[0.4444444444444444,\"#bd3786\"],[0.5555555555555556,\"#d8576b\"],[0.6666666666666666,\"#ed7953\"],[0.7777777777777778,\"#fb9f3a\"],[0.8888888888888888,\"#fdca26\"],[1.0,\"#f0f921\"]],\"type\":\"heatmap\"}],\"histogram2dcontour\":[{\"colorbar\":{\"outlinewidth\":0,\"ticks\":\"\"},\"colorscale\":[[0.0,\"#0d0887\"],[0.1111111111111111,\"#46039f\"],[0.2222222222222222,\"#7201a8\"],[0.3333333333333333,\"#9c179e\"],[0.4444444444444444,\"#bd3786\"],[0.5555555555555556,\"#d8576b\"],[0.6666666666666666,\"#ed7953\"],[0.7777777777777778,\"#fb9f3a\"],[0.8888888888888888,\"#fdca26\"],[1.0,\"#f0f921\"]],\"type\":\"histogram2dcontour\"}],\"histogram2d\":[{\"colorbar\":{\"outlinewidth\":0,\"ticks\":\"\"},\"colorscale\":[[0.0,\"#0d0887\"],[0.1111111111111111,\"#46039f\"],[0.2222222222222222,\"#7201a8\"],[0.3333333333333333,\"#9c179e\"],[0.4444444444444444,\"#bd3786\"],[0.5555555555555556,\"#d8576b\"],[0.6666666666666666,\"#ed7953\"],[0.7777777777777778,\"#fb9f3a\"],[0.8888888888888888,\"#fdca26\"],[1.0,\"#f0f921\"]],\"type\":\"histogram2d\"}],\"histogram\":[{\"marker\":{\"pattern\":{\"fillmode\":\"overlay\",\"size\":10,\"solidity\":0.2}},\"type\":\"histogram\"}],\"mesh3d\":[{\"colorbar\":{\"outlinewidth\":0,\"ticks\":\"\"},\"type\":\"mesh3d\"}],\"parcoords\":[{\"line\":{\"colorbar\":{\"outlinewidth\":0,\"ticks\":\"\"}},\"type\":\"parcoords\"}],\"pie\":[{\"automargin\":true,\"type\":\"pie\"}],\"scatter3d\":[{\"line\":{\"colorbar\":{\"outlinewidth\":0,\"ticks\":\"\"}},\"marker\":{\"colorbar\":{\"outlinewidth\":0,\"ticks\":\"\"}},\"type\":\"scatter3d\"}],\"scattercarpet\":[{\"marker\":{\"colorbar\":{\"outlinewidth\":0,\"ticks\":\"\"}},\"type\":\"scattercarpet\"}],\"scattergeo\":[{\"marker\":{\"colorbar\":{\"outlinewidth\":0,\"ticks\":\"\"}},\"type\":\"scattergeo\"}],\"scattergl\":[{\"marker\":{\"colorbar\":{\"outlinewidth\":0,\"ticks\":\"\"}},\"type\":\"scattergl\"}],\"scattermapbox\":[{\"marker\":{\"colorbar\":{\"outlinewidth\":0,\"ticks\":\"\"}},\"type\":\"scattermapbox\"}],\"scatterpolargl\":[{\"marker\":{\"colorbar\":{\"outlinewidth\":0,\"ticks\":\"\"}},\"type\":\"scatterpolargl\"}],\"scatterpolar\":[{\"marker\":{\"colorbar\":{\"outlinewidth\":0,\"ticks\":\"\"}},\"type\":\"scatterpolar\"}],\"scatter\":[{\"fillpattern\":{\"fillmode\":\"overlay\",\"size\":10,\"solidity\":0.2},\"type\":\"scatter\"}],\"scatterternary\":[{\"marker\":{\"colorbar\":{\"outlinewidth\":0,\"ticks\":\"\"}},\"type\":\"scatterternary\"}],\"surface\":[{\"colorbar\":{\"outlinewidth\":0,\"ticks\":\"\"},\"colorscale\":[[0.0,\"#0d0887\"],[0.1111111111111111,\"#46039f\"],[0.2222222222222222,\"#7201a8\"],[0.3333333333333333,\"#9c179e\"],[0.4444444444444444,\"#bd3786\"],[0.5555555555555556,\"#d8576b\"],[0.6666666666666666,\"#ed7953\"],[0.7777777777777778,\"#fb9f3a\"],[0.8888888888888888,\"#fdca26\"],[1.0,\"#f0f921\"]],\"type\":\"surface\"}],\"table\":[{\"cells\":{\"fill\":{\"color\":\"#EBF0F8\"},\"line\":{\"color\":\"white\"}},\"header\":{\"fill\":{\"color\":\"#C8D4E3\"},\"line\":{\"color\":\"white\"}},\"type\":\"table\"}]},\"layout\":{\"annotationdefaults\":{\"arrowcolor\":\"#2a3f5f\",\"arrowhead\":0,\"arrowwidth\":1},\"autotypenumbers\":\"strict\",\"coloraxis\":{\"colorbar\":{\"outlinewidth\":0,\"ticks\":\"\"}},\"colorscale\":{\"diverging\":[[0,\"#8e0152\"],[0.1,\"#c51b7d\"],[0.2,\"#de77ae\"],[0.3,\"#f1b6da\"],[0.4,\"#fde0ef\"],[0.5,\"#f7f7f7\"],[0.6,\"#e6f5d0\"],[0.7,\"#b8e186\"],[0.8,\"#7fbc41\"],[0.9,\"#4d9221\"],[1,\"#276419\"]],\"sequential\":[[0.0,\"#0d0887\"],[0.1111111111111111,\"#46039f\"],[0.2222222222222222,\"#7201a8\"],[0.3333333333333333,\"#9c179e\"],[0.4444444444444444,\"#bd3786\"],[0.5555555555555556,\"#d8576b\"],[0.6666666666666666,\"#ed7953\"],[0.7777777777777778,\"#fb9f3a\"],[0.8888888888888888,\"#fdca26\"],[1.0,\"#f0f921\"]],\"sequentialminus\":[[0.0,\"#0d0887\"],[0.1111111111111111,\"#46039f\"],[0.2222222222222222,\"#7201a8\"],[0.3333333333333333,\"#9c179e\"],[0.4444444444444444,\"#bd3786\"],[0.5555555555555556,\"#d8576b\"],[0.6666666666666666,\"#ed7953\"],[0.7777777777777778,\"#fb9f3a\"],[0.8888888888888888,\"#fdca26\"],[1.0,\"#f0f921\"]]},\"colorway\":[\"#636efa\",\"#EF553B\",\"#00cc96\",\"#ab63fa\",\"#FFA15A\",\"#19d3f3\",\"#FF6692\",\"#B6E880\",\"#FF97FF\",\"#FECB52\"],\"font\":{\"color\":\"#2a3f5f\"},\"geo\":{\"bgcolor\":\"white\",\"lakecolor\":\"white\",\"landcolor\":\"white\",\"showlakes\":true,\"showland\":true,\"subunitcolor\":\"#C8D4E3\"},\"hoverlabel\":{\"align\":\"left\"},\"hovermode\":\"closest\",\"mapbox\":{\"style\":\"light\"},\"paper_bgcolor\":\"white\",\"plot_bgcolor\":\"white\",\"polar\":{\"angularaxis\":{\"gridcolor\":\"#EBF0F8\",\"linecolor\":\"#EBF0F8\",\"ticks\":\"\"},\"bgcolor\":\"white\",\"radialaxis\":{\"gridcolor\":\"#EBF0F8\",\"linecolor\":\"#EBF0F8\",\"ticks\":\"\"}},\"scene\":{\"xaxis\":{\"backgroundcolor\":\"white\",\"gridcolor\":\"#DFE8F3\",\"gridwidth\":2,\"linecolor\":\"#EBF0F8\",\"showbackground\":true,\"ticks\":\"\",\"zerolinecolor\":\"#EBF0F8\"},\"yaxis\":{\"backgroundcolor\":\"white\",\"gridcolor\":\"#DFE8F3\",\"gridwidth\":2,\"linecolor\":\"#EBF0F8\",\"showbackground\":true,\"ticks\":\"\",\"zerolinecolor\":\"#EBF0F8\"},\"zaxis\":{\"backgroundcolor\":\"white\",\"gridcolor\":\"#DFE8F3\",\"gridwidth\":2,\"linecolor\":\"#EBF0F8\",\"showbackground\":true,\"ticks\":\"\",\"zerolinecolor\":\"#EBF0F8\"}},\"shapedefaults\":{\"line\":{\"color\":\"#2a3f5f\"}},\"ternary\":{\"aaxis\":{\"gridcolor\":\"#DFE8F3\",\"linecolor\":\"#A2B1C6\",\"ticks\":\"\"},\"baxis\":{\"gridcolor\":\"#DFE8F3\",\"linecolor\":\"#A2B1C6\",\"ticks\":\"\"},\"bgcolor\":\"white\",\"caxis\":{\"gridcolor\":\"#DFE8F3\",\"linecolor\":\"#A2B1C6\",\"ticks\":\"\"}},\"title\":{\"x\":0.05},\"xaxis\":{\"automargin\":true,\"gridcolor\":\"#EBF0F8\",\"linecolor\":\"#EBF0F8\",\"ticks\":\"\",\"title\":{\"standoff\":15},\"zerolinecolor\":\"#EBF0F8\",\"zerolinewidth\":2},\"yaxis\":{\"automargin\":true,\"gridcolor\":\"#EBF0F8\",\"linecolor\":\"#EBF0F8\",\"ticks\":\"\",\"title\":{\"standoff\":15},\"zerolinecolor\":\"#EBF0F8\",\"zerolinewidth\":2}}},\"xaxis\":{\"anchor\":\"y\",\"domain\":[0.0,1.0],\"title\":{\"text\":\"Salary (usd)\"}},\"yaxis\":{\"anchor\":\"x\",\"domain\":[0.0,0.8316],\"title\":{\"text\":\"Total people\"}},\"xaxis2\":{\"anchor\":\"y2\",\"domain\":[0.0,1.0],\"matches\":\"x\",\"showticklabels\":false,\"showgrid\":true},\"yaxis2\":{\"anchor\":\"x2\",\"domain\":[0.8416,1.0],\"matches\":\"y2\",\"showticklabels\":false,\"showline\":false,\"ticks\":\"\",\"showgrid\":false},\"legend\":{\"tracegroupgap\":0},\"margin\":{\"t\":60},\"barmode\":\"relative\",\"title\":{\"font\":{\"size\":20},\"text\":\"\\u003cb\\u003e2024 Salaries in USD for the Data Science Field\\u003c\\u002fb\\u003e\",\"x\":0.5},\"showlegend\":true},                        {\"responsive\": true}                    ).then(function(){\n",
       "                            \n",
       "var gd = document.getElementById('98e95ac3-7c86-4a82-a2d2-9b65f365fcd5');\n",
       "var x = new MutationObserver(function (mutations, observer) {{\n",
       "        var display = window.getComputedStyle(gd).display;\n",
       "        if (!display || display === 'none') {{\n",
       "            console.log([gd, 'removed!']);\n",
       "            Plotly.purge(gd);\n",
       "            observer.disconnect();\n",
       "        }}\n",
       "}});\n",
       "\n",
       "// Listen for the removal of the full notebook cells\n",
       "var notebookContainer = gd.closest('#notebook-container');\n",
       "if (notebookContainer) {{\n",
       "    x.observe(notebookContainer, {childList: true});\n",
       "}}\n",
       "\n",
       "// Listen for the clearing of the current output cell\n",
       "var outputEl = gd.closest('.output');\n",
       "if (outputEl) {{\n",
       "    x.observe(outputEl, {childList: true});\n",
       "}}\n",
       "\n",
       "                        })                };                });            </script>        </div>"
      ]
     },
     "metadata": {},
     "output_type": "display_data"
    }
   ],
   "source": [
    "df_chart = df[df[\"work_year\"] == 2024]\n",
    "fig = px.histogram(df_chart, x='salary_in_usd', histnorm='density', nbins=100, marginal='rug', opacity=0.8, color_discrete_sequence = [\"#9b72cf\"])\n",
    "\n",
    "# Customize the layout\n",
    "fig.update_layout(\n",
    "    title_text='<b>2024 Salaries in USD for the Data Science Field</b>',\n",
    "    title_font_size=20,\n",
    "    title_x=0.5,           \n",
    "    xaxis_title='Salary (usd)',    \n",
    "    yaxis_title='Total people',\n",
    "    template=\"plotly_white\",\n",
    "    showlegend=True\n",
    ")\n",
    "\n",
    "fig.show()"
   ]
  },
  {
   "cell_type": "markdown",
   "metadata": {},
   "source": [
    "<h5 style=\"text-align: left; font-family: 'Jetbrains Mono'; color: black;\"><b>3.2. PIE & LINE CHART: PURCHASE METHOD</b></h5>\n"
   ]
  },
  {
   "cell_type": "code",
   "execution_count": 58,
   "metadata": {},
   "outputs": [
    {
     "data": {
      "application/vnd.plotly.v1+json": {
       "config": {
        "plotlyServerURL": "https://plot.ly"
       },
       "data": [
        {
         "coloraxis": "coloraxis",
         "geo": "geo",
         "hovertemplate": "locations=%{location}<br>color=%{z}<extra></extra>",
         "locations": [
          "USA",
          "GBR",
          "CAN",
          "ESP",
          "DEU",
          "IND",
          "FRA",
          "AUS",
          "PRT",
          "NLD",
          "BRA",
          "ITA",
          "GRC",
          "COL",
          "LTU",
          "POL",
          "ZAF",
          "MEX",
          "LVA",
          "EGY",
          "NGA",
          "IRL",
          "UKR",
          "ARG",
          "EST",
          "AUT",
          "PHL",
          "CHE",
          "TUR",
          "JPN",
          "VNM",
          "SVN",
          "BEL",
          "NZL",
          "PAK",
          "RUS",
          "SGP",
          "PRI",
          "HRV",
          "ROU",
          "ARE",
          "HUN",
          "GHA",
          "THA",
          "UZB",
          "FIN",
          "MLT",
          "SAU",
          "DNK",
          "KOR",
          "BOL",
          "KEN",
          "CZE",
          "ARM",
          "CAF",
          "LBN",
          "CHL",
          "MDA",
          "HKG",
          "NOR",
          "BIH",
          "SWE",
          "TUN",
          "ECU",
          "HND",
          "CRI",
          "SRB",
          "PER",
          "UGA",
          "ISR",
          "ASM",
          "OMN",
          "AND",
          "LUX",
          "JEY",
          "KWT",
          "IRQ",
          "QAT",
          "MYS",
          "GEO",
          "CYP",
          "CHN",
          "DOM",
          "MUS",
          "BGR",
          "IRN",
          "DZA",
          "IDN"
         ],
         "name": "",
         "type": "choropleth",
         "z": [
          12926,
          647,
          390,
          131,
          91,
          74,
          65,
          50,
          30,
          28,
          23,
          21,
          17,
          16,
          16,
          15,
          15,
          14,
          14,
          14,
          12,
          12,
          11,
          11,
          11,
          10,
          9,
          8,
          8,
          8,
          6,
          6,
          6,
          6,
          6,
          6,
          5,
          5,
          5,
          5,
          5,
          4,
          4,
          4,
          3,
          3,
          3,
          3,
          3,
          2,
          2,
          2,
          2,
          2,
          2,
          2,
          2,
          2,
          2,
          2,
          2,
          2,
          2,
          1,
          1,
          1,
          1,
          1,
          1,
          1,
          1,
          1,
          1,
          1,
          1,
          1,
          1,
          1,
          1,
          1,
          1,
          1,
          1,
          1,
          1,
          1,
          1,
          1
         ]
        }
       ],
       "layout": {
        "autosize": true,
        "coloraxis": {
         "cmax": 12926,
         "cmin": 0,
         "colorbar": {
          "title": {
           "text": "color"
          }
         },
         "colorscale": [
          [
           0,
           "rgb(255,255,204)"
          ],
          [
           0.125,
           "rgb(255,237,160)"
          ],
          [
           0.25,
           "rgb(254,217,118)"
          ],
          [
           0.375,
           "rgb(254,178,76)"
          ],
          [
           0.5,
           "rgb(253,141,60)"
          ],
          [
           0.625,
           "rgb(252,78,42)"
          ],
          [
           0.75,
           "rgb(227,26,28)"
          ],
          [
           0.875,
           "rgb(189,0,38)"
          ],
          [
           1,
           "rgb(128,0,38)"
          ]
         ]
        },
        "geo": {
         "center": {
          "lat": 47.52424602060292,
          "lon": -115.9053218315483
         },
         "domain": {
          "x": [
           0,
           1
          ],
          "y": [
           0,
           1
          ]
         },
         "projection": {
          "rotation": {
           "lon": 244.0946781684517
          },
          "scale": 3.363585605538585
         }
        },
        "legend": {
         "tracegroupgap": 0
        },
        "margin": {
         "t": 60
        },
        "showlegend": true,
        "template": {
         "data": {
          "bar": [
           {
            "error_x": {
             "color": "#2a3f5f"
            },
            "error_y": {
             "color": "#2a3f5f"
            },
            "marker": {
             "line": {
              "color": "white",
              "width": 0.5
             },
             "pattern": {
              "fillmode": "overlay",
              "size": 10,
              "solidity": 0.2
             }
            },
            "type": "bar"
           }
          ],
          "barpolar": [
           {
            "marker": {
             "line": {
              "color": "white",
              "width": 0.5
             },
             "pattern": {
              "fillmode": "overlay",
              "size": 10,
              "solidity": 0.2
             }
            },
            "type": "barpolar"
           }
          ],
          "carpet": [
           {
            "aaxis": {
             "endlinecolor": "#2a3f5f",
             "gridcolor": "#C8D4E3",
             "linecolor": "#C8D4E3",
             "minorgridcolor": "#C8D4E3",
             "startlinecolor": "#2a3f5f"
            },
            "baxis": {
             "endlinecolor": "#2a3f5f",
             "gridcolor": "#C8D4E3",
             "linecolor": "#C8D4E3",
             "minorgridcolor": "#C8D4E3",
             "startlinecolor": "#2a3f5f"
            },
            "type": "carpet"
           }
          ],
          "choropleth": [
           {
            "colorbar": {
             "outlinewidth": 0,
             "ticks": ""
            },
            "type": "choropleth"
           }
          ],
          "contour": [
           {
            "colorbar": {
             "outlinewidth": 0,
             "ticks": ""
            },
            "colorscale": [
             [
              0,
              "#0d0887"
             ],
             [
              0.1111111111111111,
              "#46039f"
             ],
             [
              0.2222222222222222,
              "#7201a8"
             ],
             [
              0.3333333333333333,
              "#9c179e"
             ],
             [
              0.4444444444444444,
              "#bd3786"
             ],
             [
              0.5555555555555556,
              "#d8576b"
             ],
             [
              0.6666666666666666,
              "#ed7953"
             ],
             [
              0.7777777777777778,
              "#fb9f3a"
             ],
             [
              0.8888888888888888,
              "#fdca26"
             ],
             [
              1,
              "#f0f921"
             ]
            ],
            "type": "contour"
           }
          ],
          "contourcarpet": [
           {
            "colorbar": {
             "outlinewidth": 0,
             "ticks": ""
            },
            "type": "contourcarpet"
           }
          ],
          "heatmap": [
           {
            "colorbar": {
             "outlinewidth": 0,
             "ticks": ""
            },
            "colorscale": [
             [
              0,
              "#0d0887"
             ],
             [
              0.1111111111111111,
              "#46039f"
             ],
             [
              0.2222222222222222,
              "#7201a8"
             ],
             [
              0.3333333333333333,
              "#9c179e"
             ],
             [
              0.4444444444444444,
              "#bd3786"
             ],
             [
              0.5555555555555556,
              "#d8576b"
             ],
             [
              0.6666666666666666,
              "#ed7953"
             ],
             [
              0.7777777777777778,
              "#fb9f3a"
             ],
             [
              0.8888888888888888,
              "#fdca26"
             ],
             [
              1,
              "#f0f921"
             ]
            ],
            "type": "heatmap"
           }
          ],
          "heatmapgl": [
           {
            "colorbar": {
             "outlinewidth": 0,
             "ticks": ""
            },
            "colorscale": [
             [
              0,
              "#0d0887"
             ],
             [
              0.1111111111111111,
              "#46039f"
             ],
             [
              0.2222222222222222,
              "#7201a8"
             ],
             [
              0.3333333333333333,
              "#9c179e"
             ],
             [
              0.4444444444444444,
              "#bd3786"
             ],
             [
              0.5555555555555556,
              "#d8576b"
             ],
             [
              0.6666666666666666,
              "#ed7953"
             ],
             [
              0.7777777777777778,
              "#fb9f3a"
             ],
             [
              0.8888888888888888,
              "#fdca26"
             ],
             [
              1,
              "#f0f921"
             ]
            ],
            "type": "heatmapgl"
           }
          ],
          "histogram": [
           {
            "marker": {
             "pattern": {
              "fillmode": "overlay",
              "size": 10,
              "solidity": 0.2
             }
            },
            "type": "histogram"
           }
          ],
          "histogram2d": [
           {
            "colorbar": {
             "outlinewidth": 0,
             "ticks": ""
            },
            "colorscale": [
             [
              0,
              "#0d0887"
             ],
             [
              0.1111111111111111,
              "#46039f"
             ],
             [
              0.2222222222222222,
              "#7201a8"
             ],
             [
              0.3333333333333333,
              "#9c179e"
             ],
             [
              0.4444444444444444,
              "#bd3786"
             ],
             [
              0.5555555555555556,
              "#d8576b"
             ],
             [
              0.6666666666666666,
              "#ed7953"
             ],
             [
              0.7777777777777778,
              "#fb9f3a"
             ],
             [
              0.8888888888888888,
              "#fdca26"
             ],
             [
              1,
              "#f0f921"
             ]
            ],
            "type": "histogram2d"
           }
          ],
          "histogram2dcontour": [
           {
            "colorbar": {
             "outlinewidth": 0,
             "ticks": ""
            },
            "colorscale": [
             [
              0,
              "#0d0887"
             ],
             [
              0.1111111111111111,
              "#46039f"
             ],
             [
              0.2222222222222222,
              "#7201a8"
             ],
             [
              0.3333333333333333,
              "#9c179e"
             ],
             [
              0.4444444444444444,
              "#bd3786"
             ],
             [
              0.5555555555555556,
              "#d8576b"
             ],
             [
              0.6666666666666666,
              "#ed7953"
             ],
             [
              0.7777777777777778,
              "#fb9f3a"
             ],
             [
              0.8888888888888888,
              "#fdca26"
             ],
             [
              1,
              "#f0f921"
             ]
            ],
            "type": "histogram2dcontour"
           }
          ],
          "mesh3d": [
           {
            "colorbar": {
             "outlinewidth": 0,
             "ticks": ""
            },
            "type": "mesh3d"
           }
          ],
          "parcoords": [
           {
            "line": {
             "colorbar": {
              "outlinewidth": 0,
              "ticks": ""
             }
            },
            "type": "parcoords"
           }
          ],
          "pie": [
           {
            "automargin": true,
            "type": "pie"
           }
          ],
          "scatter": [
           {
            "fillpattern": {
             "fillmode": "overlay",
             "size": 10,
             "solidity": 0.2
            },
            "type": "scatter"
           }
          ],
          "scatter3d": [
           {
            "line": {
             "colorbar": {
              "outlinewidth": 0,
              "ticks": ""
             }
            },
            "marker": {
             "colorbar": {
              "outlinewidth": 0,
              "ticks": ""
             }
            },
            "type": "scatter3d"
           }
          ],
          "scattercarpet": [
           {
            "marker": {
             "colorbar": {
              "outlinewidth": 0,
              "ticks": ""
             }
            },
            "type": "scattercarpet"
           }
          ],
          "scattergeo": [
           {
            "marker": {
             "colorbar": {
              "outlinewidth": 0,
              "ticks": ""
             }
            },
            "type": "scattergeo"
           }
          ],
          "scattergl": [
           {
            "marker": {
             "colorbar": {
              "outlinewidth": 0,
              "ticks": ""
             }
            },
            "type": "scattergl"
           }
          ],
          "scattermapbox": [
           {
            "marker": {
             "colorbar": {
              "outlinewidth": 0,
              "ticks": ""
             }
            },
            "type": "scattermapbox"
           }
          ],
          "scatterpolar": [
           {
            "marker": {
             "colorbar": {
              "outlinewidth": 0,
              "ticks": ""
             }
            },
            "type": "scatterpolar"
           }
          ],
          "scatterpolargl": [
           {
            "marker": {
             "colorbar": {
              "outlinewidth": 0,
              "ticks": ""
             }
            },
            "type": "scatterpolargl"
           }
          ],
          "scatterternary": [
           {
            "marker": {
             "colorbar": {
              "outlinewidth": 0,
              "ticks": ""
             }
            },
            "type": "scatterternary"
           }
          ],
          "surface": [
           {
            "colorbar": {
             "outlinewidth": 0,
             "ticks": ""
            },
            "colorscale": [
             [
              0,
              "#0d0887"
             ],
             [
              0.1111111111111111,
              "#46039f"
             ],
             [
              0.2222222222222222,
              "#7201a8"
             ],
             [
              0.3333333333333333,
              "#9c179e"
             ],
             [
              0.4444444444444444,
              "#bd3786"
             ],
             [
              0.5555555555555556,
              "#d8576b"
             ],
             [
              0.6666666666666666,
              "#ed7953"
             ],
             [
              0.7777777777777778,
              "#fb9f3a"
             ],
             [
              0.8888888888888888,
              "#fdca26"
             ],
             [
              1,
              "#f0f921"
             ]
            ],
            "type": "surface"
           }
          ],
          "table": [
           {
            "cells": {
             "fill": {
              "color": "#EBF0F8"
             },
             "line": {
              "color": "white"
             }
            },
            "header": {
             "fill": {
              "color": "#C8D4E3"
             },
             "line": {
              "color": "white"
             }
            },
            "type": "table"
           }
          ]
         },
         "layout": {
          "annotationdefaults": {
           "arrowcolor": "#2a3f5f",
           "arrowhead": 0,
           "arrowwidth": 1
          },
          "autotypenumbers": "strict",
          "coloraxis": {
           "colorbar": {
            "outlinewidth": 0,
            "ticks": ""
           }
          },
          "colorscale": {
           "diverging": [
            [
             0,
             "#8e0152"
            ],
            [
             0.1,
             "#c51b7d"
            ],
            [
             0.2,
             "#de77ae"
            ],
            [
             0.3,
             "#f1b6da"
            ],
            [
             0.4,
             "#fde0ef"
            ],
            [
             0.5,
             "#f7f7f7"
            ],
            [
             0.6,
             "#e6f5d0"
            ],
            [
             0.7,
             "#b8e186"
            ],
            [
             0.8,
             "#7fbc41"
            ],
            [
             0.9,
             "#4d9221"
            ],
            [
             1,
             "#276419"
            ]
           ],
           "sequential": [
            [
             0,
             "#0d0887"
            ],
            [
             0.1111111111111111,
             "#46039f"
            ],
            [
             0.2222222222222222,
             "#7201a8"
            ],
            [
             0.3333333333333333,
             "#9c179e"
            ],
            [
             0.4444444444444444,
             "#bd3786"
            ],
            [
             0.5555555555555556,
             "#d8576b"
            ],
            [
             0.6666666666666666,
             "#ed7953"
            ],
            [
             0.7777777777777778,
             "#fb9f3a"
            ],
            [
             0.8888888888888888,
             "#fdca26"
            ],
            [
             1,
             "#f0f921"
            ]
           ],
           "sequentialminus": [
            [
             0,
             "#0d0887"
            ],
            [
             0.1111111111111111,
             "#46039f"
            ],
            [
             0.2222222222222222,
             "#7201a8"
            ],
            [
             0.3333333333333333,
             "#9c179e"
            ],
            [
             0.4444444444444444,
             "#bd3786"
            ],
            [
             0.5555555555555556,
             "#d8576b"
            ],
            [
             0.6666666666666666,
             "#ed7953"
            ],
            [
             0.7777777777777778,
             "#fb9f3a"
            ],
            [
             0.8888888888888888,
             "#fdca26"
            ],
            [
             1,
             "#f0f921"
            ]
           ]
          },
          "colorway": [
           "#636efa",
           "#EF553B",
           "#00cc96",
           "#ab63fa",
           "#FFA15A",
           "#19d3f3",
           "#FF6692",
           "#B6E880",
           "#FF97FF",
           "#FECB52"
          ],
          "font": {
           "color": "#2a3f5f"
          },
          "geo": {
           "bgcolor": "white",
           "lakecolor": "white",
           "landcolor": "white",
           "showlakes": true,
           "showland": true,
           "subunitcolor": "#C8D4E3"
          },
          "hoverlabel": {
           "align": "left"
          },
          "hovermode": "closest",
          "mapbox": {
           "style": "light"
          },
          "paper_bgcolor": "white",
          "plot_bgcolor": "white",
          "polar": {
           "angularaxis": {
            "gridcolor": "#EBF0F8",
            "linecolor": "#EBF0F8",
            "ticks": ""
           },
           "bgcolor": "white",
           "radialaxis": {
            "gridcolor": "#EBF0F8",
            "linecolor": "#EBF0F8",
            "ticks": ""
           }
          },
          "scene": {
           "xaxis": {
            "backgroundcolor": "white",
            "gridcolor": "#DFE8F3",
            "gridwidth": 2,
            "linecolor": "#EBF0F8",
            "showbackground": true,
            "ticks": "",
            "zerolinecolor": "#EBF0F8"
           },
           "yaxis": {
            "backgroundcolor": "white",
            "gridcolor": "#DFE8F3",
            "gridwidth": 2,
            "linecolor": "#EBF0F8",
            "showbackground": true,
            "ticks": "",
            "zerolinecolor": "#EBF0F8"
           },
           "zaxis": {
            "backgroundcolor": "white",
            "gridcolor": "#DFE8F3",
            "gridwidth": 2,
            "linecolor": "#EBF0F8",
            "showbackground": true,
            "ticks": "",
            "zerolinecolor": "#EBF0F8"
           }
          },
          "shapedefaults": {
           "line": {
            "color": "#2a3f5f"
           }
          },
          "ternary": {
           "aaxis": {
            "gridcolor": "#DFE8F3",
            "linecolor": "#A2B1C6",
            "ticks": ""
           },
           "baxis": {
            "gridcolor": "#DFE8F3",
            "linecolor": "#A2B1C6",
            "ticks": ""
           },
           "bgcolor": "white",
           "caxis": {
            "gridcolor": "#DFE8F3",
            "linecolor": "#A2B1C6",
            "ticks": ""
           }
          },
          "title": {
           "x": 0.05
          },
          "xaxis": {
           "automargin": true,
           "gridcolor": "#EBF0F8",
           "linecolor": "#EBF0F8",
           "ticks": "",
           "title": {
            "standoff": 15
           },
           "zerolinecolor": "#EBF0F8",
           "zerolinewidth": 2
          },
          "yaxis": {
           "automargin": true,
           "gridcolor": "#EBF0F8",
           "linecolor": "#EBF0F8",
           "ticks": "",
           "title": {
            "standoff": 15
           },
           "zerolinecolor": "#EBF0F8",
           "zerolinewidth": 2
          }
         }
        },
        "title": {
         "font": {
          "size": 20
         },
         "text": "<b>Employee location distribution</b>",
         "x": 0.5
        }
       }
      },
      "image/png": "[encoded data removed]",
      "text/html": [
       "<div>                            <div id=\"3cf4c1a2-43d2-4b79-8ae5-d04bd08440de\" class=\"plotly-graph-div\" style=\"height:525px; width:100%;\"></div>            <script type=\"text/javascript\">                require([\"plotly\"], function(Plotly) {                    window.PLOTLYENV=window.PLOTLYENV || {};                                    if (document.getElementById(\"3cf4c1a2-43d2-4b79-8ae5-d04bd08440de\")) {                    Plotly.newPlot(                        \"3cf4c1a2-43d2-4b79-8ae5-d04bd08440de\",                        [{\"coloraxis\":\"coloraxis\",\"geo\":\"geo\",\"hovertemplate\":\"locations=%{location}\\u003cbr\\u003ecolor=%{z}\\u003cextra\\u003e\\u003c\\u002fextra\\u003e\",\"locations\":[\"USA\",\"GBR\",\"CAN\",\"ESP\",\"DEU\",\"IND\",\"FRA\",\"AUS\",\"PRT\",\"NLD\",\"BRA\",\"ITA\",\"GRC\",\"COL\",\"LTU\",\"POL\",\"ZAF\",\"MEX\",\"LVA\",\"EGY\",\"NGA\",\"IRL\",\"UKR\",\"ARG\",\"EST\",\"AUT\",\"PHL\",\"CHE\",\"TUR\",\"JPN\",\"VNM\",\"SVN\",\"BEL\",\"NZL\",\"PAK\",\"RUS\",\"SGP\",\"PRI\",\"HRV\",\"ROU\",\"ARE\",\"HUN\",\"GHA\",\"THA\",\"UZB\",\"FIN\",\"MLT\",\"SAU\",\"DNK\",\"KOR\",\"BOL\",\"KEN\",\"CZE\",\"ARM\",\"CAF\",\"LBN\",\"CHL\",\"MDA\",\"HKG\",\"NOR\",\"BIH\",\"SWE\",\"TUN\",\"ECU\",\"HND\",\"CRI\",\"SRB\",\"PER\",\"UGA\",\"ISR\",\"ASM\",\"OMN\",\"AND\",\"LUX\",\"JEY\",\"KWT\",\"IRQ\",\"QAT\",\"MYS\",\"GEO\",\"CYP\",\"CHN\",\"DOM\",\"MUS\",\"BGR\",\"IRN\",\"DZA\",\"IDN\"],\"name\":\"\",\"z\":[12926,647,390,131,91,74,65,50,30,28,23,21,17,16,16,15,15,14,14,14,12,12,11,11,11,10,9,8,8,8,6,6,6,6,6,6,5,5,5,5,5,4,4,4,3,3,3,3,3,2,2,2,2,2,2,2,2,2,2,2,2,2,2,1,1,1,1,1,1,1,1,1,1,1,1,1,1,1,1,1,1,1,1,1,1,1,1,1],\"type\":\"choropleth\"}],                        {\"template\":{\"data\":{\"barpolar\":[{\"marker\":{\"line\":{\"color\":\"white\",\"width\":0.5},\"pattern\":{\"fillmode\":\"overlay\",\"size\":10,\"solidity\":0.2}},\"type\":\"barpolar\"}],\"bar\":[{\"error_x\":{\"color\":\"#2a3f5f\"},\"error_y\":{\"color\":\"#2a3f5f\"},\"marker\":{\"line\":{\"color\":\"white\",\"width\":0.5},\"pattern\":{\"fillmode\":\"overlay\",\"size\":10,\"solidity\":0.2}},\"type\":\"bar\"}],\"carpet\":[{\"aaxis\":{\"endlinecolor\":\"#2a3f5f\",\"gridcolor\":\"#C8D4E3\",\"linecolor\":\"#C8D4E3\",\"minorgridcolor\":\"#C8D4E3\",\"startlinecolor\":\"#2a3f5f\"},\"baxis\":{\"endlinecolor\":\"#2a3f5f\",\"gridcolor\":\"#C8D4E3\",\"linecolor\":\"#C8D4E3\",\"minorgridcolor\":\"#C8D4E3\",\"startlinecolor\":\"#2a3f5f\"},\"type\":\"carpet\"}],\"choropleth\":[{\"colorbar\":{\"outlinewidth\":0,\"ticks\":\"\"},\"type\":\"choropleth\"}],\"contourcarpet\":[{\"colorbar\":{\"outlinewidth\":0,\"ticks\":\"\"},\"type\":\"contourcarpet\"}],\"contour\":[{\"colorbar\":{\"outlinewidth\":0,\"ticks\":\"\"},\"colorscale\":[[0.0,\"#0d0887\"],[0.1111111111111111,\"#46039f\"],[0.2222222222222222,\"#7201a8\"],[0.3333333333333333,\"#9c179e\"],[0.4444444444444444,\"#bd3786\"],[0.5555555555555556,\"#d8576b\"],[0.6666666666666666,\"#ed7953\"],[0.7777777777777778,\"#fb9f3a\"],[0.8888888888888888,\"#fdca26\"],[1.0,\"#f0f921\"]],\"type\":\"contour\"}],\"heatmapgl\":[{\"colorbar\":{\"outlinewidth\":0,\"ticks\":\"\"},\"colorscale\":[[0.0,\"#0d0887\"],[0.1111111111111111,\"#46039f\"],[0.2222222222222222,\"#7201a8\"],[0.3333333333333333,\"#9c179e\"],[0.4444444444444444,\"#bd3786\"],[0.5555555555555556,\"#d8576b\"],[0.6666666666666666,\"#ed7953\"],[0.7777777777777778,\"#fb9f3a\"],[0.8888888888888888,\"#fdca26\"],[1.0,\"#f0f921\"]],\"type\":\"heatmapgl\"}],\"heatmap\":[{\"colorbar\":{\"outlinewidth\":0,\"ticks\":\"\"},\"colorscale\":[[0.0,\"#0d0887\"],[0.1111111111111111,\"#46039f\"],[0.2222222222222222,\"#7201a8\"],[0.3333333333333333,\"#9c179e\"],[0.4444444444444444,\"#bd3786\"],[0.5555555555555556,\"#d8576b\"],[0.6666666666666666,\"#ed7953\"],[0.7777777777777778,\"#fb9f3a\"],[0.8888888888888888,\"#fdca26\"],[1.0,\"#f0f921\"]],\"type\":\"heatmap\"}],\"histogram2dcontour\":[{\"colorbar\":{\"outlinewidth\":0,\"ticks\":\"\"},\"colorscale\":[[0.0,\"#0d0887\"],[0.1111111111111111,\"#46039f\"],[0.2222222222222222,\"#7201a8\"],[0.3333333333333333,\"#9c179e\"],[0.4444444444444444,\"#bd3786\"],[0.5555555555555556,\"#d8576b\"],[0.6666666666666666,\"#ed7953\"],[0.7777777777777778,\"#fb9f3a\"],[0.8888888888888888,\"#fdca26\"],[1.0,\"#f0f921\"]],\"type\":\"histogram2dcontour\"}],\"histogram2d\":[{\"colorbar\":{\"outlinewidth\":0,\"ticks\":\"\"},\"colorscale\":[[0.0,\"#0d0887\"],[0.1111111111111111,\"#46039f\"],[0.2222222222222222,\"#7201a8\"],[0.3333333333333333,\"#9c179e\"],[0.4444444444444444,\"#bd3786\"],[0.5555555555555556,\"#d8576b\"],[0.6666666666666666,\"#ed7953\"],[0.7777777777777778,\"#fb9f3a\"],[0.8888888888888888,\"#fdca26\"],[1.0,\"#f0f921\"]],\"type\":\"histogram2d\"}],\"histogram\":[{\"marker\":{\"pattern\":{\"fillmode\":\"overlay\",\"size\":10,\"solidity\":0.2}},\"type\":\"histogram\"}],\"mesh3d\":[{\"colorbar\":{\"outlinewidth\":0,\"ticks\":\"\"},\"type\":\"mesh3d\"}],\"parcoords\":[{\"line\":{\"colorbar\":{\"outlinewidth\":0,\"ticks\":\"\"}},\"type\":\"parcoords\"}],\"pie\":[{\"automargin\":true,\"type\":\"pie\"}],\"scatter3d\":[{\"line\":{\"colorbar\":{\"outlinewidth\":0,\"ticks\":\"\"}},\"marker\":{\"colorbar\":{\"outlinewidth\":0,\"ticks\":\"\"}},\"type\":\"scatter3d\"}],\"scattercarpet\":[{\"marker\":{\"colorbar\":{\"outlinewidth\":0,\"ticks\":\"\"}},\"type\":\"scattercarpet\"}],\"scattergeo\":[{\"marker\":{\"colorbar\":{\"outlinewidth\":0,\"ticks\":\"\"}},\"type\":\"scattergeo\"}],\"scattergl\":[{\"marker\":{\"colorbar\":{\"outlinewidth\":0,\"ticks\":\"\"}},\"type\":\"scattergl\"}],\"scattermapbox\":[{\"marker\":{\"colorbar\":{\"outlinewidth\":0,\"ticks\":\"\"}},\"type\":\"scattermapbox\"}],\"scatterpolargl\":[{\"marker\":{\"colorbar\":{\"outlinewidth\":0,\"ticks\":\"\"}},\"type\":\"scatterpolargl\"}],\"scatterpolar\":[{\"marker\":{\"colorbar\":{\"outlinewidth\":0,\"ticks\":\"\"}},\"type\":\"scatterpolar\"}],\"scatter\":[{\"fillpattern\":{\"fillmode\":\"overlay\",\"size\":10,\"solidity\":0.2},\"type\":\"scatter\"}],\"scatterternary\":[{\"marker\":{\"colorbar\":{\"outlinewidth\":0,\"ticks\":\"\"}},\"type\":\"scatterternary\"}],\"surface\":[{\"colorbar\":{\"outlinewidth\":0,\"ticks\":\"\"},\"colorscale\":[[0.0,\"#0d0887\"],[0.1111111111111111,\"#46039f\"],[0.2222222222222222,\"#7201a8\"],[0.3333333333333333,\"#9c179e\"],[0.4444444444444444,\"#bd3786\"],[0.5555555555555556,\"#d8576b\"],[0.6666666666666666,\"#ed7953\"],[0.7777777777777778,\"#fb9f3a\"],[0.8888888888888888,\"#fdca26\"],[1.0,\"#f0f921\"]],\"type\":\"surface\"}],\"table\":[{\"cells\":{\"fill\":{\"color\":\"#EBF0F8\"},\"line\":{\"color\":\"white\"}},\"header\":{\"fill\":{\"color\":\"#C8D4E3\"},\"line\":{\"color\":\"white\"}},\"type\":\"table\"}]},\"layout\":{\"annotationdefaults\":{\"arrowcolor\":\"#2a3f5f\",\"arrowhead\":0,\"arrowwidth\":1},\"autotypenumbers\":\"strict\",\"coloraxis\":{\"colorbar\":{\"outlinewidth\":0,\"ticks\":\"\"}},\"colorscale\":{\"diverging\":[[0,\"#8e0152\"],[0.1,\"#c51b7d\"],[0.2,\"#de77ae\"],[0.3,\"#f1b6da\"],[0.4,\"#fde0ef\"],[0.5,\"#f7f7f7\"],[0.6,\"#e6f5d0\"],[0.7,\"#b8e186\"],[0.8,\"#7fbc41\"],[0.9,\"#4d9221\"],[1,\"#276419\"]],\"sequential\":[[0.0,\"#0d0887\"],[0.1111111111111111,\"#46039f\"],[0.2222222222222222,\"#7201a8\"],[0.3333333333333333,\"#9c179e\"],[0.4444444444444444,\"#bd3786\"],[0.5555555555555556,\"#d8576b\"],[0.6666666666666666,\"#ed7953\"],[0.7777777777777778,\"#fb9f3a\"],[0.8888888888888888,\"#fdca26\"],[1.0,\"#f0f921\"]],\"sequentialminus\":[[0.0,\"#0d0887\"],[0.1111111111111111,\"#46039f\"],[0.2222222222222222,\"#7201a8\"],[0.3333333333333333,\"#9c179e\"],[0.4444444444444444,\"#bd3786\"],[0.5555555555555556,\"#d8576b\"],[0.6666666666666666,\"#ed7953\"],[0.7777777777777778,\"#fb9f3a\"],[0.8888888888888888,\"#fdca26\"],[1.0,\"#f0f921\"]]},\"colorway\":[\"#636efa\",\"#EF553B\",\"#00cc96\",\"#ab63fa\",\"#FFA15A\",\"#19d3f3\",\"#FF6692\",\"#B6E880\",\"#FF97FF\",\"#FECB52\"],\"font\":{\"color\":\"#2a3f5f\"},\"geo\":{\"bgcolor\":\"white\",\"lakecolor\":\"white\",\"landcolor\":\"white\",\"showlakes\":true,\"showland\":true,\"subunitcolor\":\"#C8D4E3\"},\"hoverlabel\":{\"align\":\"left\"},\"hovermode\":\"closest\",\"mapbox\":{\"style\":\"light\"},\"paper_bgcolor\":\"white\",\"plot_bgcolor\":\"white\",\"polar\":{\"angularaxis\":{\"gridcolor\":\"#EBF0F8\",\"linecolor\":\"#EBF0F8\",\"ticks\":\"\"},\"bgcolor\":\"white\",\"radialaxis\":{\"gridcolor\":\"#EBF0F8\",\"linecolor\":\"#EBF0F8\",\"ticks\":\"\"}},\"scene\":{\"xaxis\":{\"backgroundcolor\":\"white\",\"gridcolor\":\"#DFE8F3\",\"gridwidth\":2,\"linecolor\":\"#EBF0F8\",\"showbackground\":true,\"ticks\":\"\",\"zerolinecolor\":\"#EBF0F8\"},\"yaxis\":{\"backgroundcolor\":\"white\",\"gridcolor\":\"#DFE8F3\",\"gridwidth\":2,\"linecolor\":\"#EBF0F8\",\"showbackground\":true,\"ticks\":\"\",\"zerolinecolor\":\"#EBF0F8\"},\"zaxis\":{\"backgroundcolor\":\"white\",\"gridcolor\":\"#DFE8F3\",\"gridwidth\":2,\"linecolor\":\"#EBF0F8\",\"showbackground\":true,\"ticks\":\"\",\"zerolinecolor\":\"#EBF0F8\"}},\"shapedefaults\":{\"line\":{\"color\":\"#2a3f5f\"}},\"ternary\":{\"aaxis\":{\"gridcolor\":\"#DFE8F3\",\"linecolor\":\"#A2B1C6\",\"ticks\":\"\"},\"baxis\":{\"gridcolor\":\"#DFE8F3\",\"linecolor\":\"#A2B1C6\",\"ticks\":\"\"},\"bgcolor\":\"white\",\"caxis\":{\"gridcolor\":\"#DFE8F3\",\"linecolor\":\"#A2B1C6\",\"ticks\":\"\"}},\"title\":{\"x\":0.05},\"xaxis\":{\"automargin\":true,\"gridcolor\":\"#EBF0F8\",\"linecolor\":\"#EBF0F8\",\"ticks\":\"\",\"title\":{\"standoff\":15},\"zerolinecolor\":\"#EBF0F8\",\"zerolinewidth\":2},\"yaxis\":{\"automargin\":true,\"gridcolor\":\"#EBF0F8\",\"linecolor\":\"#EBF0F8\",\"ticks\":\"\",\"title\":{\"standoff\":15},\"zerolinecolor\":\"#EBF0F8\",\"zerolinewidth\":2}}},\"geo\":{\"domain\":{\"x\":[0.0,1.0],\"y\":[0.0,1.0]},\"center\":{}},\"coloraxis\":{\"colorbar\":{\"title\":{\"text\":\"color\"}},\"colorscale\":[[0.0,\"rgb(255,255,204)\"],[0.125,\"rgb(255,237,160)\"],[0.25,\"rgb(254,217,118)\"],[0.375,\"rgb(254,178,76)\"],[0.5,\"rgb(253,141,60)\"],[0.625,\"rgb(252,78,42)\"],[0.75,\"rgb(227,26,28)\"],[0.875,\"rgb(189,0,38)\"],[1.0,\"rgb(128,0,38)\"]],\"cmin\":0,\"cmax\":12926},\"legend\":{\"tracegroupgap\":0},\"margin\":{\"t\":60},\"title\":{\"font\":{\"size\":20},\"text\":\"\\u003cb\\u003eEmployee location distribution\\u003c\\u002fb\\u003e\",\"x\":0.5},\"showlegend\":true},                        {\"responsive\": true}                    ).then(function(){\n",
       "                            \n",
       "var gd = document.getElementById('3cf4c1a2-43d2-4b79-8ae5-d04bd08440de');\n",
       "var x = new MutationObserver(function (mutations, observer) {{\n",
       "        var display = window.getComputedStyle(gd).display;\n",
       "        if (!display || display === 'none') {{\n",
       "            console.log([gd, 'removed!']);\n",
       "            Plotly.purge(gd);\n",
       "            observer.disconnect();\n",
       "        }}\n",
       "}});\n",
       "\n",
       "// Listen for the removal of the full notebook cells\n",
       "var notebookContainer = gd.closest('#notebook-container');\n",
       "if (notebookContainer) {{\n",
       "    x.observe(notebookContainer, {childList: true});\n",
       "}}\n",
       "\n",
       "// Listen for the clearing of the current output cell\n",
       "var outputEl = gd.closest('.output');\n",
       "if (outputEl) {{\n",
       "    x.observe(outputEl, {childList: true});\n",
       "}}\n",
       "\n",
       "                        })                };                });            </script>        </div>"
      ]
     },
     "metadata": {},
     "output_type": "display_data"
    }
   ],
   "source": [
    "converted_country = coco.convert(names=df['employee_residence'], to=\"ISO3\")\n",
    "df['employee_residence'] = converted_country\n",
    "df_chart = df['employee_residence'].value_counts()\n",
    "fig = px.choropleth(\n",
    "    locations=df_chart.index,\n",
    "    color=df_chart.values,\n",
    "    color_continuous_scale=px.colors.sequential.YlOrRd,  # Different color scale\n",
    "    range_color=(0, df_chart.max()),  # Adjust color range\n",
    "    template='seaborn',\n",
    ")\n",
    "\n",
    "fig.update_layout(\n",
    "    title_text='<b>Employee location distribution</b>',\n",
    "    title_font_size=20,\n",
    "    title_x=0.5,\n",
    "    template=\"plotly_white\",\n",
    "    showlegend=True\n",
    ")\n",
    "fig.show()       "
   ]
  },
  {
   "cell_type": "code",
   "execution_count": 33,
   "metadata": {},
   "outputs": [
    {
     "data": {
      "text/html": [
       "\n",
       "        <iframe\n",
       "            width=\"100%\"\n",
       "            height=\"650\"\n",
       "            src=\"http://127.0.0.1:8050/\"\n",
       "            frameborder=\"0\"\n",
       "            allowfullscreen\n",
       "            \n",
       "        ></iframe>\n",
       "        "
      ],
      "text/plain": [
       "<IPython.lib.display.IFrame at 0x1a5bbfaf950>"
      ]
     },
     "metadata": {},
     "output_type": "display_data"
    }
   ],
   "source": [
    "# Import packages\n",
    "from dash import Dash, html, dash_table, dcc\n",
    "import pandas as pd\n",
    "import plotly.express as px\n",
    "\n",
    "# Incorporate data\n",
    "df = pd.read_csv(\"C:/Users/phath/Downloads/archive (5)/project1_df.csv\")\n",
    "\n",
    "# Initialize the app\n",
    "app = Dash()\n",
    "\n",
    "# App layout\n",
    "app.layout = [\n",
    "    html.Div(children='WALL MART PLATFORM VISUALIZATION', style = {\"color\":\"blue\"}),\n",
    "    dash_table.DataTable(data=df.to_dict('records'), page_size=10),\n",
    "    dcc.Graph(figure=px.histogram(df, x='Gender', y='Net Amount', histfunc='avg'))\n",
    "]\n",
    "\n",
    "# Run the app\n",
    "if __name__ == '__main__':\n",
    "    app.run(debug=True)\n"
   ]
  },
  {
   "cell_type": "code",
   "execution_count": 62,
   "metadata": {},
   "outputs": [
    {
     "data": {
      "application/vnd.plotly.v1+json": {
       "config": {
        "plotlyServerURL": "https://plot.ly"
       },
       "data": [
        {
         "colorscale": [
          [
           0,
           "#636efa"
          ],
          [
           1,
           "#636efa"
          ]
         ],
         "hovertemplate": "<extra></extra>",
         "name": "",
         "showlegend": true,
         "showscale": false,
         "subplot": "map",
         "type": "choroplethmap",
         "z": []
        }
       ],
       "layout": {
        "autosize": true,
        "legend": {
         "tracegroupgap": 0
        },
        "map": {
         "center": {},
         "domain": {
          "x": [
           0,
           1
          ],
          "y": [
           0,
           1
          ]
         },
         "zoom": 8
        },
        "mapbox": {
         "center": {},
         "zoom": 8
        },
        "margin": {
         "t": 60
        },
        "template": {
         "data": {
          "bar": [
           {
            "error_x": {
             "color": "#2a3f5f"
            },
            "error_y": {
             "color": "#2a3f5f"
            },
            "marker": {
             "line": {
              "color": "#E5ECF6",
              "width": 0.5
             },
             "pattern": {
              "fillmode": "overlay",
              "size": 10,
              "solidity": 0.2
             }
            },
            "type": "bar"
           }
          ],
          "barpolar": [
           {
            "marker": {
             "line": {
              "color": "#E5ECF6",
              "width": 0.5
             },
             "pattern": {
              "fillmode": "overlay",
              "size": 10,
              "solidity": 0.2
             }
            },
            "type": "barpolar"
           }
          ],
          "carpet": [
           {
            "aaxis": {
             "endlinecolor": "#2a3f5f",
             "gridcolor": "white",
             "linecolor": "white",
             "minorgridcolor": "white",
             "startlinecolor": "#2a3f5f"
            },
            "baxis": {
             "endlinecolor": "#2a3f5f",
             "gridcolor": "white",
             "linecolor": "white",
             "minorgridcolor": "white",
             "startlinecolor": "#2a3f5f"
            },
            "type": "carpet"
           }
          ],
          "choropleth": [
           {
            "colorbar": {
             "outlinewidth": 0,
             "ticks": ""
            },
            "type": "choropleth"
           }
          ],
          "contour": [
           {
            "colorbar": {
             "outlinewidth": 0,
             "ticks": ""
            },
            "colorscale": [
             [
              0,
              "#0d0887"
             ],
             [
              0.1111111111111111,
              "#46039f"
             ],
             [
              0.2222222222222222,
              "#7201a8"
             ],
             [
              0.3333333333333333,
              "#9c179e"
             ],
             [
              0.4444444444444444,
              "#bd3786"
             ],
             [
              0.5555555555555556,
              "#d8576b"
             ],
             [
              0.6666666666666666,
              "#ed7953"
             ],
             [
              0.7777777777777778,
              "#fb9f3a"
             ],
             [
              0.8888888888888888,
              "#fdca26"
             ],
             [
              1,
              "#f0f921"
             ]
            ],
            "type": "contour"
           }
          ],
          "contourcarpet": [
           {
            "colorbar": {
             "outlinewidth": 0,
             "ticks": ""
            },
            "type": "contourcarpet"
           }
          ],
          "heatmap": [
           {
            "colorbar": {
             "outlinewidth": 0,
             "ticks": ""
            },
            "colorscale": [
             [
              0,
              "#0d0887"
             ],
             [
              0.1111111111111111,
              "#46039f"
             ],
             [
              0.2222222222222222,
              "#7201a8"
             ],
             [
              0.3333333333333333,
              "#9c179e"
             ],
             [
              0.4444444444444444,
              "#bd3786"
             ],
             [
              0.5555555555555556,
              "#d8576b"
             ],
             [
              0.6666666666666666,
              "#ed7953"
             ],
             [
              0.7777777777777778,
              "#fb9f3a"
             ],
             [
              0.8888888888888888,
              "#fdca26"
             ],
             [
              1,
              "#f0f921"
             ]
            ],
            "type": "heatmap"
           }
          ],
          "heatmapgl": [
           {
            "colorbar": {
             "outlinewidth": 0,
             "ticks": ""
            },
            "colorscale": [
             [
              0,
              "#0d0887"
             ],
             [
              0.1111111111111111,
              "#46039f"
             ],
             [
              0.2222222222222222,
              "#7201a8"
             ],
             [
              0.3333333333333333,
              "#9c179e"
             ],
             [
              0.4444444444444444,
              "#bd3786"
             ],
             [
              0.5555555555555556,
              "#d8576b"
             ],
             [
              0.6666666666666666,
              "#ed7953"
             ],
             [
              0.7777777777777778,
              "#fb9f3a"
             ],
             [
              0.8888888888888888,
              "#fdca26"
             ],
             [
              1,
              "#f0f921"
             ]
            ],
            "type": "heatmapgl"
           }
          ],
          "histogram": [
           {
            "marker": {
             "pattern": {
              "fillmode": "overlay",
              "size": 10,
              "solidity": 0.2
             }
            },
            "type": "histogram"
           }
          ],
          "histogram2d": [
           {
            "colorbar": {
             "outlinewidth": 0,
             "ticks": ""
            },
            "colorscale": [
             [
              0,
              "#0d0887"
             ],
             [
              0.1111111111111111,
              "#46039f"
             ],
             [
              0.2222222222222222,
              "#7201a8"
             ],
             [
              0.3333333333333333,
              "#9c179e"
             ],
             [
              0.4444444444444444,
              "#bd3786"
             ],
             [
              0.5555555555555556,
              "#d8576b"
             ],
             [
              0.6666666666666666,
              "#ed7953"
             ],
             [
              0.7777777777777778,
              "#fb9f3a"
             ],
             [
              0.8888888888888888,
              "#fdca26"
             ],
             [
              1,
              "#f0f921"
             ]
            ],
            "type": "histogram2d"
           }
          ],
          "histogram2dcontour": [
           {
            "colorbar": {
             "outlinewidth": 0,
             "ticks": ""
            },
            "colorscale": [
             [
              0,
              "#0d0887"
             ],
             [
              0.1111111111111111,
              "#46039f"
             ],
             [
              0.2222222222222222,
              "#7201a8"
             ],
             [
              0.3333333333333333,
              "#9c179e"
             ],
             [
              0.4444444444444444,
              "#bd3786"
             ],
             [
              0.5555555555555556,
              "#d8576b"
             ],
             [
              0.6666666666666666,
              "#ed7953"
             ],
             [
              0.7777777777777778,
              "#fb9f3a"
             ],
             [
              0.8888888888888888,
              "#fdca26"
             ],
             [
              1,
              "#f0f921"
             ]
            ],
            "type": "histogram2dcontour"
           }
          ],
          "mesh3d": [
           {
            "colorbar": {
             "outlinewidth": 0,
             "ticks": ""
            },
            "type": "mesh3d"
           }
          ],
          "parcoords": [
           {
            "line": {
             "colorbar": {
              "outlinewidth": 0,
              "ticks": ""
             }
            },
            "type": "parcoords"
           }
          ],
          "pie": [
           {
            "automargin": true,
            "type": "pie"
           }
          ],
          "scatter": [
           {
            "fillpattern": {
             "fillmode": "overlay",
             "size": 10,
             "solidity": 0.2
            },
            "type": "scatter"
           }
          ],
          "scatter3d": [
           {
            "line": {
             "colorbar": {
              "outlinewidth": 0,
              "ticks": ""
             }
            },
            "marker": {
             "colorbar": {
              "outlinewidth": 0,
              "ticks": ""
             }
            },
            "type": "scatter3d"
           }
          ],
          "scattercarpet": [
           {
            "marker": {
             "colorbar": {
              "outlinewidth": 0,
              "ticks": ""
             }
            },
            "type": "scattercarpet"
           }
          ],
          "scattergeo": [
           {
            "marker": {
             "colorbar": {
              "outlinewidth": 0,
              "ticks": ""
             }
            },
            "type": "scattergeo"
           }
          ],
          "scattergl": [
           {
            "marker": {
             "colorbar": {
              "outlinewidth": 0,
              "ticks": ""
             }
            },
            "type": "scattergl"
           }
          ],
          "scattermapbox": [
           {
            "marker": {
             "colorbar": {
              "outlinewidth": 0,
              "ticks": ""
             }
            },
            "type": "scattermapbox"
           }
          ],
          "scatterpolar": [
           {
            "marker": {
             "colorbar": {
              "outlinewidth": 0,
              "ticks": ""
             }
            },
            "type": "scatterpolar"
           }
          ],
          "scatterpolargl": [
           {
            "marker": {
             "colorbar": {
              "outlinewidth": 0,
              "ticks": ""
             }
            },
            "type": "scatterpolargl"
           }
          ],
          "scatterternary": [
           {
            "marker": {
             "colorbar": {
              "outlinewidth": 0,
              "ticks": ""
             }
            },
            "type": "scatterternary"
           }
          ],
          "surface": [
           {
            "colorbar": {
             "outlinewidth": 0,
             "ticks": ""
            },
            "colorscale": [
             [
              0,
              "#0d0887"
             ],
             [
              0.1111111111111111,
              "#46039f"
             ],
             [
              0.2222222222222222,
              "#7201a8"
             ],
             [
              0.3333333333333333,
              "#9c179e"
             ],
             [
              0.4444444444444444,
              "#bd3786"
             ],
             [
              0.5555555555555556,
              "#d8576b"
             ],
             [
              0.6666666666666666,
              "#ed7953"
             ],
             [
              0.7777777777777778,
              "#fb9f3a"
             ],
             [
              0.8888888888888888,
              "#fdca26"
             ],
             [
              1,
              "#f0f921"
             ]
            ],
            "type": "surface"
           }
          ],
          "table": [
           {
            "cells": {
             "fill": {
              "color": "#EBF0F8"
             },
             "line": {
              "color": "white"
             }
            },
            "header": {
             "fill": {
              "color": "#C8D4E3"
             },
             "line": {
              "color": "white"
             }
            },
            "type": "table"
           }
          ]
         },
         "layout": {
          "annotationdefaults": {
           "arrowcolor": "#2a3f5f",
           "arrowhead": 0,
           "arrowwidth": 1
          },
          "autotypenumbers": "strict",
          "coloraxis": {
           "colorbar": {
            "outlinewidth": 0,
            "ticks": ""
           }
          },
          "colorscale": {
           "diverging": [
            [
             0,
             "#8e0152"
            ],
            [
             0.1,
             "#c51b7d"
            ],
            [
             0.2,
             "#de77ae"
            ],
            [
             0.3,
             "#f1b6da"
            ],
            [
             0.4,
             "#fde0ef"
            ],
            [
             0.5,
             "#f7f7f7"
            ],
            [
             0.6,
             "#e6f5d0"
            ],
            [
             0.7,
             "#b8e186"
            ],
            [
             0.8,
             "#7fbc41"
            ],
            [
             0.9,
             "#4d9221"
            ],
            [
             1,
             "#276419"
            ]
           ],
           "sequential": [
            [
             0,
             "#0d0887"
            ],
            [
             0.1111111111111111,
             "#46039f"
            ],
            [
             0.2222222222222222,
             "#7201a8"
            ],
            [
             0.3333333333333333,
             "#9c179e"
            ],
            [
             0.4444444444444444,
             "#bd3786"
            ],
            [
             0.5555555555555556,
             "#d8576b"
            ],
            [
             0.6666666666666666,
             "#ed7953"
            ],
            [
             0.7777777777777778,
             "#fb9f3a"
            ],
            [
             0.8888888888888888,
             "#fdca26"
            ],
            [
             1,
             "#f0f921"
            ]
           ],
           "sequentialminus": [
            [
             0,
             "#0d0887"
            ],
            [
             0.1111111111111111,
             "#46039f"
            ],
            [
             0.2222222222222222,
             "#7201a8"
            ],
            [
             0.3333333333333333,
             "#9c179e"
            ],
            [
             0.4444444444444444,
             "#bd3786"
            ],
            [
             0.5555555555555556,
             "#d8576b"
            ],
            [
             0.6666666666666666,
             "#ed7953"
            ],
            [
             0.7777777777777778,
             "#fb9f3a"
            ],
            [
             0.8888888888888888,
             "#fdca26"
            ],
            [
             1,
             "#f0f921"
            ]
           ]
          },
          "colorway": [
           "#636efa",
           "#EF553B",
           "#00cc96",
           "#ab63fa",
           "#FFA15A",
           "#19d3f3",
           "#FF6692",
           "#B6E880",
           "#FF97FF",
           "#FECB52"
          ],
          "font": {
           "color": "#2a3f5f"
          },
          "geo": {
           "bgcolor": "white",
           "lakecolor": "white",
           "landcolor": "#E5ECF6",
           "showlakes": true,
           "showland": true,
           "subunitcolor": "white"
          },
          "hoverlabel": {
           "align": "left"
          },
          "hovermode": "closest",
          "mapbox": {
           "style": "light"
          },
          "paper_bgcolor": "white",
          "plot_bgcolor": "#E5ECF6",
          "polar": {
           "angularaxis": {
            "gridcolor": "white",
            "linecolor": "white",
            "ticks": ""
           },
           "bgcolor": "#E5ECF6",
           "radialaxis": {
            "gridcolor": "white",
            "linecolor": "white",
            "ticks": ""
           }
          },
          "scene": {
           "xaxis": {
            "backgroundcolor": "#E5ECF6",
            "gridcolor": "white",
            "gridwidth": 2,
            "linecolor": "white",
            "showbackground": true,
            "ticks": "",
            "zerolinecolor": "white"
           },
           "yaxis": {
            "backgroundcolor": "#E5ECF6",
            "gridcolor": "white",
            "gridwidth": 2,
            "linecolor": "white",
            "showbackground": true,
            "ticks": "",
            "zerolinecolor": "white"
           },
           "zaxis": {
            "backgroundcolor": "#E5ECF6",
            "gridcolor": "white",
            "gridwidth": 2,
            "linecolor": "white",
            "showbackground": true,
            "ticks": "",
            "zerolinecolor": "white"
           }
          },
          "shapedefaults": {
           "line": {
            "color": "#2a3f5f"
           }
          },
          "ternary": {
           "aaxis": {
            "gridcolor": "white",
            "linecolor": "white",
            "ticks": ""
           },
           "baxis": {
            "gridcolor": "white",
            "linecolor": "white",
            "ticks": ""
           },
           "bgcolor": "#E5ECF6",
           "caxis": {
            "gridcolor": "white",
            "linecolor": "white",
            "ticks": ""
           }
          },
          "title": {
           "x": 0.05
          },
          "xaxis": {
           "automargin": true,
           "gridcolor": "white",
           "linecolor": "white",
           "ticks": "",
           "title": {
            "standoff": 15
           },
           "zerolinecolor": "white",
           "zerolinewidth": 2
          },
          "yaxis": {
           "automargin": true,
           "gridcolor": "white",
           "linecolor": "white",
           "ticks": "",
           "title": {
            "standoff": 15
           },
           "zerolinecolor": "white",
           "zerolinewidth": 2
          }
         }
        }
       }
      },
      "image/png": "[encoded data removed]",
      "text/html": [
       "<div>                            <div id=\"c8936395-8adf-45d9-a567-df3a8a0e333e\" class=\"plotly-graph-div\" style=\"height:525px; width:100%;\"></div>            <script type=\"text/javascript\">                require([\"plotly\"], function(Plotly) {                    window.PLOTLYENV=window.PLOTLYENV || {};                                    if (document.getElementById(\"c8936395-8adf-45d9-a567-df3a8a0e333e\")) {                    Plotly.newPlot(                        \"c8936395-8adf-45d9-a567-df3a8a0e333e\",                        [{\"colorscale\":[[0.0,\"#636efa\"],[1.0,\"#636efa\"]],\"hovertemplate\":\"\\u003cextra\\u003e\\u003c\\u002fextra\\u003e\",\"name\":\"\",\"showlegend\":true,\"showscale\":false,\"subplot\":\"map\",\"z\":[],\"type\":\"choroplethmap\"}],                        {\"template\":{\"data\":{\"histogram2dcontour\":[{\"type\":\"histogram2dcontour\",\"colorbar\":{\"outlinewidth\":0,\"ticks\":\"\"},\"colorscale\":[[0.0,\"#0d0887\"],[0.1111111111111111,\"#46039f\"],[0.2222222222222222,\"#7201a8\"],[0.3333333333333333,\"#9c179e\"],[0.4444444444444444,\"#bd3786\"],[0.5555555555555556,\"#d8576b\"],[0.6666666666666666,\"#ed7953\"],[0.7777777777777778,\"#fb9f3a\"],[0.8888888888888888,\"#fdca26\"],[1.0,\"#f0f921\"]]}],\"choropleth\":[{\"type\":\"choropleth\",\"colorbar\":{\"outlinewidth\":0,\"ticks\":\"\"}}],\"histogram2d\":[{\"type\":\"histogram2d\",\"colorbar\":{\"outlinewidth\":0,\"ticks\":\"\"},\"colorscale\":[[0.0,\"#0d0887\"],[0.1111111111111111,\"#46039f\"],[0.2222222222222222,\"#7201a8\"],[0.3333333333333333,\"#9c179e\"],[0.4444444444444444,\"#bd3786\"],[0.5555555555555556,\"#d8576b\"],[0.6666666666666666,\"#ed7953\"],[0.7777777777777778,\"#fb9f3a\"],[0.8888888888888888,\"#fdca26\"],[1.0,\"#f0f921\"]]}],\"heatmap\":[{\"type\":\"heatmap\",\"colorbar\":{\"outlinewidth\":0,\"ticks\":\"\"},\"colorscale\":[[0.0,\"#0d0887\"],[0.1111111111111111,\"#46039f\"],[0.2222222222222222,\"#7201a8\"],[0.3333333333333333,\"#9c179e\"],[0.4444444444444444,\"#bd3786\"],[0.5555555555555556,\"#d8576b\"],[0.6666666666666666,\"#ed7953\"],[0.7777777777777778,\"#fb9f3a\"],[0.8888888888888888,\"#fdca26\"],[1.0,\"#f0f921\"]]}],\"heatmapgl\":[{\"type\":\"heatmapgl\",\"colorbar\":{\"outlinewidth\":0,\"ticks\":\"\"},\"colorscale\":[[0.0,\"#0d0887\"],[0.1111111111111111,\"#46039f\"],[0.2222222222222222,\"#7201a8\"],[0.3333333333333333,\"#9c179e\"],[0.4444444444444444,\"#bd3786\"],[0.5555555555555556,\"#d8576b\"],[0.6666666666666666,\"#ed7953\"],[0.7777777777777778,\"#fb9f3a\"],[0.8888888888888888,\"#fdca26\"],[1.0,\"#f0f921\"]]}],\"contourcarpet\":[{\"type\":\"contourcarpet\",\"colorbar\":{\"outlinewidth\":0,\"ticks\":\"\"}}],\"contour\":[{\"type\":\"contour\",\"colorbar\":{\"outlinewidth\":0,\"ticks\":\"\"},\"colorscale\":[[0.0,\"#0d0887\"],[0.1111111111111111,\"#46039f\"],[0.2222222222222222,\"#7201a8\"],[0.3333333333333333,\"#9c179e\"],[0.4444444444444444,\"#bd3786\"],[0.5555555555555556,\"#d8576b\"],[0.6666666666666666,\"#ed7953\"],[0.7777777777777778,\"#fb9f3a\"],[0.8888888888888888,\"#fdca26\"],[1.0,\"#f0f921\"]]}],\"surface\":[{\"type\":\"surface\",\"colorbar\":{\"outlinewidth\":0,\"ticks\":\"\"},\"colorscale\":[[0.0,\"#0d0887\"],[0.1111111111111111,\"#46039f\"],[0.2222222222222222,\"#7201a8\"],[0.3333333333333333,\"#9c179e\"],[0.4444444444444444,\"#bd3786\"],[0.5555555555555556,\"#d8576b\"],[0.6666666666666666,\"#ed7953\"],[0.7777777777777778,\"#fb9f3a\"],[0.8888888888888888,\"#fdca26\"],[1.0,\"#f0f921\"]]}],\"mesh3d\":[{\"type\":\"mesh3d\",\"colorbar\":{\"outlinewidth\":0,\"ticks\":\"\"}}],\"scatter\":[{\"fillpattern\":{\"fillmode\":\"overlay\",\"size\":10,\"solidity\":0.2},\"type\":\"scatter\"}],\"parcoords\":[{\"type\":\"parcoords\",\"line\":{\"colorbar\":{\"outlinewidth\":0,\"ticks\":\"\"}}}],\"scatterpolargl\":[{\"type\":\"scatterpolargl\",\"marker\":{\"colorbar\":{\"outlinewidth\":0,\"ticks\":\"\"}}}],\"bar\":[{\"error_x\":{\"color\":\"#2a3f5f\"},\"error_y\":{\"color\":\"#2a3f5f\"},\"marker\":{\"line\":{\"color\":\"#E5ECF6\",\"width\":0.5},\"pattern\":{\"fillmode\":\"overlay\",\"size\":10,\"solidity\":0.2}},\"type\":\"bar\"}],\"scattergeo\":[{\"type\":\"scattergeo\",\"marker\":{\"colorbar\":{\"outlinewidth\":0,\"ticks\":\"\"}}}],\"scatterpolar\":[{\"type\":\"scatterpolar\",\"marker\":{\"colorbar\":{\"outlinewidth\":0,\"ticks\":\"\"}}}],\"histogram\":[{\"marker\":{\"pattern\":{\"fillmode\":\"overlay\",\"size\":10,\"solidity\":0.2}},\"type\":\"histogram\"}],\"scattergl\":[{\"type\":\"scattergl\",\"marker\":{\"colorbar\":{\"outlinewidth\":0,\"ticks\":\"\"}}}],\"scatter3d\":[{\"type\":\"scatter3d\",\"line\":{\"colorbar\":{\"outlinewidth\":0,\"ticks\":\"\"}},\"marker\":{\"colorbar\":{\"outlinewidth\":0,\"ticks\":\"\"}}}],\"scattermapbox\":[{\"type\":\"scattermapbox\",\"marker\":{\"colorbar\":{\"outlinewidth\":0,\"ticks\":\"\"}}}],\"scatterternary\":[{\"type\":\"scatterternary\",\"marker\":{\"colorbar\":{\"outlinewidth\":0,\"ticks\":\"\"}}}],\"scattercarpet\":[{\"type\":\"scattercarpet\",\"marker\":{\"colorbar\":{\"outlinewidth\":0,\"ticks\":\"\"}}}],\"carpet\":[{\"aaxis\":{\"endlinecolor\":\"#2a3f5f\",\"gridcolor\":\"white\",\"linecolor\":\"white\",\"minorgridcolor\":\"white\",\"startlinecolor\":\"#2a3f5f\"},\"baxis\":{\"endlinecolor\":\"#2a3f5f\",\"gridcolor\":\"white\",\"linecolor\":\"white\",\"minorgridcolor\":\"white\",\"startlinecolor\":\"#2a3f5f\"},\"type\":\"carpet\"}],\"table\":[{\"cells\":{\"fill\":{\"color\":\"#EBF0F8\"},\"line\":{\"color\":\"white\"}},\"header\":{\"fill\":{\"color\":\"#C8D4E3\"},\"line\":{\"color\":\"white\"}},\"type\":\"table\"}],\"barpolar\":[{\"marker\":{\"line\":{\"color\":\"#E5ECF6\",\"width\":0.5},\"pattern\":{\"fillmode\":\"overlay\",\"size\":10,\"solidity\":0.2}},\"type\":\"barpolar\"}],\"pie\":[{\"automargin\":true,\"type\":\"pie\"}]},\"layout\":{\"autotypenumbers\":\"strict\",\"colorway\":[\"#636efa\",\"#EF553B\",\"#00cc96\",\"#ab63fa\",\"#FFA15A\",\"#19d3f3\",\"#FF6692\",\"#B6E880\",\"#FF97FF\",\"#FECB52\"],\"font\":{\"color\":\"#2a3f5f\"},\"hovermode\":\"closest\",\"hoverlabel\":{\"align\":\"left\"},\"paper_bgcolor\":\"white\",\"plot_bgcolor\":\"#E5ECF6\",\"polar\":{\"bgcolor\":\"#E5ECF6\",\"angularaxis\":{\"gridcolor\":\"white\",\"linecolor\":\"white\",\"ticks\":\"\"},\"radialaxis\":{\"gridcolor\":\"white\",\"linecolor\":\"white\",\"ticks\":\"\"}},\"ternary\":{\"bgcolor\":\"#E5ECF6\",\"aaxis\":{\"gridcolor\":\"white\",\"linecolor\":\"white\",\"ticks\":\"\"},\"baxis\":{\"gridcolor\":\"white\",\"linecolor\":\"white\",\"ticks\":\"\"},\"caxis\":{\"gridcolor\":\"white\",\"linecolor\":\"white\",\"ticks\":\"\"}},\"coloraxis\":{\"colorbar\":{\"outlinewidth\":0,\"ticks\":\"\"}},\"colorscale\":{\"sequential\":[[0.0,\"#0d0887\"],[0.1111111111111111,\"#46039f\"],[0.2222222222222222,\"#7201a8\"],[0.3333333333333333,\"#9c179e\"],[0.4444444444444444,\"#bd3786\"],[0.5555555555555556,\"#d8576b\"],[0.6666666666666666,\"#ed7953\"],[0.7777777777777778,\"#fb9f3a\"],[0.8888888888888888,\"#fdca26\"],[1.0,\"#f0f921\"]],\"sequentialminus\":[[0.0,\"#0d0887\"],[0.1111111111111111,\"#46039f\"],[0.2222222222222222,\"#7201a8\"],[0.3333333333333333,\"#9c179e\"],[0.4444444444444444,\"#bd3786\"],[0.5555555555555556,\"#d8576b\"],[0.6666666666666666,\"#ed7953\"],[0.7777777777777778,\"#fb9f3a\"],[0.8888888888888888,\"#fdca26\"],[1.0,\"#f0f921\"]],\"diverging\":[[0,\"#8e0152\"],[0.1,\"#c51b7d\"],[0.2,\"#de77ae\"],[0.3,\"#f1b6da\"],[0.4,\"#fde0ef\"],[0.5,\"#f7f7f7\"],[0.6,\"#e6f5d0\"],[0.7,\"#b8e186\"],[0.8,\"#7fbc41\"],[0.9,\"#4d9221\"],[1,\"#276419\"]]},\"xaxis\":{\"gridcolor\":\"white\",\"linecolor\":\"white\",\"ticks\":\"\",\"title\":{\"standoff\":15},\"zerolinecolor\":\"white\",\"automargin\":true,\"zerolinewidth\":2},\"yaxis\":{\"gridcolor\":\"white\",\"linecolor\":\"white\",\"ticks\":\"\",\"title\":{\"standoff\":15},\"zerolinecolor\":\"white\",\"automargin\":true,\"zerolinewidth\":2},\"scene\":{\"xaxis\":{\"backgroundcolor\":\"#E5ECF6\",\"gridcolor\":\"white\",\"linecolor\":\"white\",\"showbackground\":true,\"ticks\":\"\",\"zerolinecolor\":\"white\",\"gridwidth\":2},\"yaxis\":{\"backgroundcolor\":\"#E5ECF6\",\"gridcolor\":\"white\",\"linecolor\":\"white\",\"showbackground\":true,\"ticks\":\"\",\"zerolinecolor\":\"white\",\"gridwidth\":2},\"zaxis\":{\"backgroundcolor\":\"#E5ECF6\",\"gridcolor\":\"white\",\"linecolor\":\"white\",\"showbackground\":true,\"ticks\":\"\",\"zerolinecolor\":\"white\",\"gridwidth\":2}},\"shapedefaults\":{\"line\":{\"color\":\"#2a3f5f\"}},\"annotationdefaults\":{\"arrowcolor\":\"#2a3f5f\",\"arrowhead\":0,\"arrowwidth\":1},\"geo\":{\"bgcolor\":\"white\",\"landcolor\":\"#E5ECF6\",\"subunitcolor\":\"white\",\"showland\":true,\"showlakes\":true,\"lakecolor\":\"white\"},\"title\":{\"x\":0.05},\"mapbox\":{\"style\":\"light\"}}},\"map\":{\"domain\":{\"x\":[0.0,1.0],\"y\":[0.0,1.0]},\"center\":{},\"zoom\":8},\"legend\":{\"tracegroupgap\":0},\"margin\":{\"t\":60},\"mapbox\":{\"center\":{},\"zoom\":8}},                        {\"responsive\": true}                    ).then(function(){\n",
       "                            \n",
       "var gd = document.getElementById('c8936395-8adf-45d9-a567-df3a8a0e333e');\n",
       "var x = new MutationObserver(function (mutations, observer) {{\n",
       "        var display = window.getComputedStyle(gd).display;\n",
       "        if (!display || display === 'none') {{\n",
       "            console.log([gd, 'removed!']);\n",
       "            Plotly.purge(gd);\n",
       "            observer.disconnect();\n",
       "        }}\n",
       "}});\n",
       "\n",
       "// Listen for the removal of the full notebook cells\n",
       "var notebookContainer = gd.closest('#notebook-container');\n",
       "if (notebookContainer) {{\n",
       "    x.observe(notebookContainer, {childList: true});\n",
       "}}\n",
       "\n",
       "// Listen for the clearing of the current output cell\n",
       "var outputEl = gd.closest('.output');\n",
       "if (outputEl) {{\n",
       "    x.observe(outputEl, {childList: true});\n",
       "}}\n",
       "\n",
       "                        })                };                });            </script>        </div>"
      ]
     },
     "metadata": {},
     "output_type": "display_data"
    }
   ],
   "source": [
    "px.choropleth_map()"
   ]
  },
  {
   "cell_type": "markdown",
   "metadata": {},
   "source": [
    "<h3 style=\"text-align: left; font-family: 'Jetbrains Mono'; color: red;\"><b>RECOMMENDATION: </b></h3>"
   ]
  },
  {
   "cell_type": "markdown",
   "metadata": {},
   "source": [
    "<h3 style=\"text-align: left; font-family: 'Jetbrains Mono'; color: red;\"><b>CONCLUSION: </b></h3>"
   ]
  },
  {
   "cell_type": "markdown",
   "metadata": {},
   "source": [
    "<h3 style=\"text-align: left; font-family: 'Jetbrains Mono'; color: red;\"><b>REFERENCE: </b></h3>\n",
    "\n"
   ]
  }
 ],
 "metadata": {
  "kernelspec": {
   "display_name": "Python 3",
   "language": "python",
   "name": "python3"
  },
  "language_info": {
   "codemirror_mode": {
    "name": "ipython",
    "version": 3
   },
   "file_extension": ".py",
   "mimetype": "text/x-python",
   "name": "python",
   "nbconvert_exporter": "python",
   "pygments_lexer": "ipython3",
   "version": "undefined.undefined.undefined"
  }
 },
 "nbformat": 4,
 "nbformat_minor": 4
}

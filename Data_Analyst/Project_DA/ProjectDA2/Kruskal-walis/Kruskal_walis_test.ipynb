{
 "cells": [
  {
   "cell_type": "markdown",
   "id": "0c036ed1-bbe5-41aa-a09c-9d29993614aa",
   "metadata": {},
   "source": [
    "## Kruskal walis test "
   ]
  },
  {
   "cell_type": "markdown",
   "id": "14c81a6d-1b07-4d87-91a1-05793bd6f7c1",
   "metadata": {},
   "source": [
    "1: Office products \n",
    "2: Electronics \n",
    "3: Phone accessories \n",
    "4: Tool homes \n",
    "5: Art craft sewing "
   ]
  },
  {
   "cell_type": "markdown",
   "id": "064301b5-b0d6-4ec9-9403-7aa246375a2d",
   "metadata": {},
   "source": [
    "## H0: med1 = med2 = med3 = med3 = med5 \n",
    "## H1: Tồn tại ít nhất một cặp không bằng nhau "
   ]
  },
  {
   "cell_type": "code",
   "execution_count": null,
   "id": "d8bffc84-b5a3-4e2b-ba9e-6966168789ff",
   "metadata": {},
   "outputs": [],
   "source": []
  },
  {
   "cell_type": "code",
   "execution_count": 41,
   "id": "22c87a0d-668e-40dc-849f-fedff91217eb",
   "metadata": {},
   "outputs": [],
   "source": [
    "import pandas as pd \n",
    "import numpy as np "
   ]
  },
  {
   "cell_type": "code",
   "execution_count": 42,
   "id": "ec163da3-3176-4f56-adb4-6c4a813ba64d",
   "metadata": {},
   "outputs": [],
   "source": [
    "from scipy.stats import kruskal"
   ]
  },
  {
   "cell_type": "code",
   "execution_count": 43,
   "id": "1b61d363-74d2-463c-9d63-6997162742e2",
   "metadata": {},
   "outputs": [],
   "source": [
    "Office_product = pd.read_excel(\"C:/Users/ADMIN/BAOHUY/Phan_tich_du_lieu/rating_office_products.xlsx\")"
   ]
  },
  {
   "cell_type": "code",
   "execution_count": 44,
   "id": "d7db6771-5c95-4201-8a39-24a6d0ddb2c0",
   "metadata": {},
   "outputs": [
    {
     "data": {
      "text/plain": [
       "0      4.0\n",
       "1      4.7\n",
       "2      4.3\n",
       "3      3.9\n",
       "4      4.6\n",
       "      ... \n",
       "525    4.8\n",
       "526    4.7\n",
       "527    4.5\n",
       "528    4.2\n",
       "529    4.8\n",
       "Name: rating, Length: 530, dtype: float64"
      ]
     },
     "execution_count": 44,
     "metadata": {},
     "output_type": "execute_result"
    }
   ],
   "source": [
    "Office_product[\"rating\"]"
   ]
  },
  {
   "cell_type": "code",
   "execution_count": 45,
   "id": "bc55fc51-d18c-4017-8448-c17a10d37512",
   "metadata": {},
   "outputs": [],
   "source": [
    "Electronics = pd.read_excel(\"C:/Users/ADMIN/BAOHUY/Phan_tich_du_lieu/rating_electronics.xlsx\")"
   ]
  },
  {
   "cell_type": "code",
   "execution_count": 46,
   "id": "ce94360d-63ee-4d52-a801-7ae6842f79a4",
   "metadata": {},
   "outputs": [
    {
     "data": {
      "text/plain": [
       "0     4.3\n",
       "1     4.8\n",
       "2     4.4\n",
       "3     4.6\n",
       "4     4.6\n",
       "     ... \n",
       "87    4.7\n",
       "88    4.5\n",
       "89    4.3\n",
       "90    4.6\n",
       "91    4.6\n",
       "Name: rating, Length: 92, dtype: float64"
      ]
     },
     "execution_count": 46,
     "metadata": {},
     "output_type": "execute_result"
    }
   ],
   "source": [
    "Electronics[\"rating\"]"
   ]
  },
  {
   "cell_type": "code",
   "execution_count": 47,
   "id": "dbf228e9-c39e-40d4-a0fe-116b7b90782c",
   "metadata": {},
   "outputs": [],
   "source": [
    "Phone_accessories = pd.read_excel(\"C:/Users/ADMIN/BAOHUY/Phan_tich_du_lieu/rating_phone_accessories.xlsx\")"
   ]
  },
  {
   "cell_type": "code",
   "execution_count": 48,
   "id": "9fa69b22-6485-4fb0-ac94-06505384e644",
   "metadata": {},
   "outputs": [
    {
     "data": {
      "text/plain": [
       "0      4.5\n",
       "1      4.6\n",
       "2      4.3\n",
       "3      4.7\n",
       "4      4.6\n",
       "      ... \n",
       "195    4.3\n",
       "196    4.1\n",
       "197    4.5\n",
       "198    4.8\n",
       "199    4.4\n",
       "Name: rating, Length: 200, dtype: float64"
      ]
     },
     "execution_count": 48,
     "metadata": {},
     "output_type": "execute_result"
    }
   ],
   "source": [
    "Phone_accessories[\"rating\"]"
   ]
  },
  {
   "cell_type": "code",
   "execution_count": 49,
   "id": "77c533ce-fdd8-4f52-8ccc-7f15d1ba5e87",
   "metadata": {},
   "outputs": [],
   "source": [
    "Tool_home = pd.read_excel(\"C:/Users/ADMIN/BAOHUY/Phan_tich_du_lieu/rating_tool_home.xlsx\")"
   ]
  },
  {
   "cell_type": "code",
   "execution_count": 50,
   "id": "f4b3a122-961f-4e22-8433-f63c2b42c5db",
   "metadata": {},
   "outputs": [
    {
     "data": {
      "text/plain": [
       "0     4.5\n",
       "1     4.4\n",
       "2     4.7\n",
       "3     4.5\n",
       "4     4.4\n",
       "     ... \n",
       "77    4.6\n",
       "78    4.6\n",
       "79    4.2\n",
       "80    4.8\n",
       "81    4.6\n",
       "Name: rating, Length: 82, dtype: float64"
      ]
     },
     "execution_count": 50,
     "metadata": {},
     "output_type": "execute_result"
    }
   ],
   "source": [
    "Tool_home[\"rating\"]"
   ]
  },
  {
   "cell_type": "code",
   "execution_count": 51,
   "id": "325fb8d6-a5ee-41cc-8f23-2f0419a2f1fc",
   "metadata": {},
   "outputs": [],
   "source": [
    "Art_craft_sewing = pd.read_excel(\"C:/Users/ADMIN/BAOHUY/Phan_tich_du_lieu/rating_art_craft_sewing.xlsx\")"
   ]
  },
  {
   "cell_type": "code",
   "execution_count": 52,
   "id": "38b4a30d-4576-49fd-bbe5-08e85b6c3ef3",
   "metadata": {},
   "outputs": [
    {
     "data": {
      "text/plain": [
       "0     4.5\n",
       "1     4.5\n",
       "2     4.7\n",
       "3     4.4\n",
       "4     4.7\n",
       "5     4.6\n",
       "6     4.6\n",
       "7     4.4\n",
       "8     4.2\n",
       "9     4.6\n",
       "10    4.7\n",
       "11    4.7\n",
       "12    4.6\n",
       "13    4.6\n",
       "14    4.6\n",
       "15    4.7\n",
       "16    4.6\n",
       "17    4.5\n",
       "18    4.7\n",
       "19    4.5\n",
       "20    4.4\n",
       "21    4.5\n",
       "22    4.1\n",
       "23    4.3\n",
       "24    4.5\n",
       "25    4.6\n",
       "26    4.6\n",
       "27    4.6\n",
       "28    4.5\n",
       "29    4.4\n",
       "30    4.6\n",
       "31    4.7\n",
       "32    4.6\n",
       "33    4.8\n",
       "34    4.4\n",
       "35    4.7\n",
       "36    4.6\n",
       "37    4.7\n",
       "Name: rating, dtype: float64"
      ]
     },
     "execution_count": 52,
     "metadata": {},
     "output_type": "execute_result"
    }
   ],
   "source": [
    "Art_craft_sewing[\"rating\"]"
   ]
  },
  {
   "cell_type": "code",
   "execution_count": 53,
   "id": "9d51ec24-d709-457b-80a0-16400ef7ac55",
   "metadata": {},
   "outputs": [],
   "source": [
    "statistic, p_value = kruskal(Office_product[\"rating\"].to_numpy(), Phone_accessories[\"rating\"].to_numpy(), Electronics[\"rating\"].to_numpy(), Tool_home[\"rating\"].to_numpy(), Art_craft_sewing[\"rating\"].to_numpy())"
   ]
  },
  {
   "cell_type": "code",
   "execution_count": 54,
   "id": "81ae0ab8-e976-411c-9ce4-db837ac2eb6a",
   "metadata": {},
   "outputs": [
    {
     "name": "stdout",
     "output_type": "stream",
     "text": [
      "Kruskal-Wallis Statistic: 67.98638860647786\n",
      "P-value: 6.038469542168946e-14\n"
     ]
    }
   ],
   "source": [
    "print(f\"Kruskal-Wallis Statistic: {statistic}\")\n",
    "print(f\"P-value: {p_value}\")"
   ]
  },
  {
   "cell_type": "code",
   "execution_count": 55,
   "id": "561af9e2-c8d4-49ff-a3ef-61eeaf7167f5",
   "metadata": {},
   "outputs": [],
   "source": [
    "alpha = 0.05"
   ]
  },
  {
   "cell_type": "code",
   "execution_count": 56,
   "id": "d2ebb9c1-8845-4747-b559-d29e6674b790",
   "metadata": {},
   "outputs": [
    {
     "name": "stdout",
     "output_type": "stream",
     "text": [
      "Bác bỏ H0. Có sự khác biệt có ý nghĩa thống kê giữa các nhóm.\n"
     ]
    }
   ],
   "source": [
    "if p_value < alpha:\n",
    "    print(\"Bác bỏ H0. Có sự khác biệt có ý nghĩa thống kê giữa các nhóm.\")\n",
    "else:\n",
    "    print(\"Không bác bỏ H0. Không có sự khác biệt có ý nghĩa thống kê giữa các nhóm.\")"
   ]
  },
  {
   "cell_type": "code",
   "execution_count": null,
   "id": "0bb2ee5e-c376-46ef-98e6-ac3c2dc0b06a",
   "metadata": {},
   "outputs": [],
   "source": []
  }
 ],
 "metadata": {
  "kernelspec": {
   "display_name": "Python 3 (ipykernel)",
   "language": "python",
   "name": "python3"
  },
  "language_info": {
   "codemirror_mode": {
    "name": "ipython",
    "version": 3
   },
   "file_extension": ".py",
   "mimetype": "text/x-python",
   "name": "python",
   "nbconvert_exporter": "python",
   "pygments_lexer": "ipython3",
   "version": "3.12.4"
  }
 },
 "nbformat": 4,
 "nbformat_minor": 5
}

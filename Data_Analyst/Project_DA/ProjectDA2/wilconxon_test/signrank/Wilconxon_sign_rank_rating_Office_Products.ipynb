{
 "cells": [
  {
   "cell_type": "markdown",
   "id": "bb27cd80-00fd-4d0c-b70d-854432d7c728",
   "metadata": {},
   "source": [
    "## Wilconxon sign rank Office Products "
   ]
  },
  {
   "cell_type": "markdown",
   "id": "04b22468-6c20-4ba7-93ee-53b0d6514425",
   "metadata": {},
   "source": [
    "## Giả thuyết: "
   ]
  },
  {
   "cell_type": "markdown",
   "id": "5c78cba7-ca7d-4244-ab99-fadbb2694850",
   "metadata": {},
   "source": [
    "# H0: med1 = 4.6 \n",
    "# H1: med1 != 4.6"
   ]
  },
  {
   "cell_type": "code",
   "execution_count": 76,
   "id": "8c2c4225-e6e7-4005-87c0-f5d75e223550",
   "metadata": {},
   "outputs": [],
   "source": [
    "import pandas as pd \n",
    "import numpy as np "
   ]
  },
  {
   "cell_type": "code",
   "execution_count": 77,
   "id": "749ac025-83f5-4b88-9758-1f26491d7b56",
   "metadata": {},
   "outputs": [
    {
     "data": {
      "text/html": [
       "<div>\n",
       "<style scoped>\n",
       "    .dataframe tbody tr th:only-of-type {\n",
       "        vertical-align: middle;\n",
       "    }\n",
       "\n",
       "    .dataframe tbody tr th {\n",
       "        vertical-align: top;\n",
       "    }\n",
       "\n",
       "    .dataframe thead th {\n",
       "        text-align: right;\n",
       "    }\n",
       "</style>\n",
       "<table border=\"1\" class=\"dataframe\">\n",
       "  <thead>\n",
       "    <tr style=\"text-align: right;\">\n",
       "      <th></th>\n",
       "      <th>rating</th>\n",
       "    </tr>\n",
       "  </thead>\n",
       "  <tbody>\n",
       "    <tr>\n",
       "      <th>0</th>\n",
       "      <td>4.0</td>\n",
       "    </tr>\n",
       "    <tr>\n",
       "      <th>1</th>\n",
       "      <td>4.7</td>\n",
       "    </tr>\n",
       "    <tr>\n",
       "      <th>2</th>\n",
       "      <td>4.3</td>\n",
       "    </tr>\n",
       "    <tr>\n",
       "      <th>3</th>\n",
       "      <td>3.9</td>\n",
       "    </tr>\n",
       "    <tr>\n",
       "      <th>4</th>\n",
       "      <td>4.6</td>\n",
       "    </tr>\n",
       "    <tr>\n",
       "      <th>...</th>\n",
       "      <td>...</td>\n",
       "    </tr>\n",
       "    <tr>\n",
       "      <th>525</th>\n",
       "      <td>4.8</td>\n",
       "    </tr>\n",
       "    <tr>\n",
       "      <th>526</th>\n",
       "      <td>4.7</td>\n",
       "    </tr>\n",
       "    <tr>\n",
       "      <th>527</th>\n",
       "      <td>4.5</td>\n",
       "    </tr>\n",
       "    <tr>\n",
       "      <th>528</th>\n",
       "      <td>4.2</td>\n",
       "    </tr>\n",
       "    <tr>\n",
       "      <th>529</th>\n",
       "      <td>4.8</td>\n",
       "    </tr>\n",
       "  </tbody>\n",
       "</table>\n",
       "<p>530 rows × 1 columns</p>\n",
       "</div>"
      ],
      "text/plain": [
       "     rating\n",
       "0       4.0\n",
       "1       4.7\n",
       "2       4.3\n",
       "3       3.9\n",
       "4       4.6\n",
       "..      ...\n",
       "525     4.8\n",
       "526     4.7\n",
       "527     4.5\n",
       "528     4.2\n",
       "529     4.8\n",
       "\n",
       "[530 rows x 1 columns]"
      ]
     },
     "execution_count": 77,
     "metadata": {},
     "output_type": "execute_result"
    }
   ],
   "source": [
    "my_data = pd.read_excel(\"C:/Users/ADMIN/BAOHUY/Phan_tich_du_lieu/rating_office_products.xlsx\")\n",
    "my_data"
   ]
  },
  {
   "cell_type": "code",
   "execution_count": 78,
   "id": "abd449f0-06e6-452c-a588-e1d38ee146a1",
   "metadata": {},
   "outputs": [],
   "source": [
    "from scipy.stats import wilcoxon \n",
    "alpha = 0.05 # mức ý nghĩa \n",
    "x = 4.6 \n",
    "type_item = \"Office Products\""
   ]
  },
  {
   "cell_type": "code",
   "execution_count": 79,
   "id": "d43a81f4-379a-45c2-833e-8287f5bfc352",
   "metadata": {},
   "outputs": [],
   "source": [
    "transformed_data = [round((float(i) - x),2) for i in my_data[\"rating\"]]"
   ]
  },
  {
   "cell_type": "code",
   "execution_count": 80,
   "id": "537cac51-c570-4476-9a32-51975fed65ae",
   "metadata": {},
   "outputs": [],
   "source": [
    "stat, p = wilcoxon(transformed_data)"
   ]
  },
  {
   "cell_type": "code",
   "execution_count": 81,
   "id": "e036a969-0591-4f01-a40c-68665e69efb6",
   "metadata": {},
   "outputs": [
    {
     "name": "stdout",
     "output_type": "stream",
     "text": [
      "Statistic: 29059.0\n",
      "P-value: 1.8745108222697935e-07\n"
     ]
    }
   ],
   "source": [
    "print(f\"Statistic: {stat}\")\n",
    "print(f\"P-value: {p}\")"
   ]
  },
  {
   "cell_type": "code",
   "execution_count": 82,
   "id": "d73f5c09-feb0-4e9f-b465-1a341d676f88",
   "metadata": {},
   "outputs": [
    {
     "name": "stdout",
     "output_type": "stream",
     "text": [
      "Bác bỏ giả thuyết H0: rating của ngành hàng Office Products khác 4.6\n"
     ]
    }
   ],
   "source": [
    "if p < alpha: \n",
    "    print(f\"Bác bỏ giả thuyết H0: rating của ngành hàng {type_item} khác {x}\")\n",
    "else: \n",
    "    print(f\"Không đủ bằng chứng để bác bỉ giả thuyết H0: rating của ngành hàng {type_item} bằng {x}\")"
   ]
  },
  {
   "cell_type": "code",
   "execution_count": null,
   "id": "288b0689-94fd-4ddb-8f1c-690f9657a6d3",
   "metadata": {},
   "outputs": [],
   "source": []
  }
 ],
 "metadata": {
  "kernelspec": {
   "display_name": "Python 3 (ipykernel)",
   "language": "python",
   "name": "python3"
  },
  "language_info": {
   "codemirror_mode": {
    "name": "ipython",
    "version": 3
   },
   "file_extension": ".py",
   "mimetype": "text/x-python",
   "name": "python",
   "nbconvert_exporter": "python",
   "pygments_lexer": "ipython3",
   "version": "3.12.4"
  }
 },
 "nbformat": 4,
 "nbformat_minor": 5
}

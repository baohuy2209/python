{
 "cells": [
  {
   "cell_type": "markdown",
   "id": "650316f4-69a7-4f52-9824-bb34efb2208e",
   "metadata": {},
   "source": [
    "## Wilconxon sign rank  tool home"
   ]
  },
  {
   "cell_type": "markdown",
   "id": "9769a3ab-f806-45f4-9b7a-6c7654855fc4",
   "metadata": {},
   "source": [
    "# H0: med4 = 4.5 \n",
    "# H1: med4 != 4.5 "
   ]
  },
  {
   "cell_type": "code",
   "execution_count": 71,
   "id": "9aa80b40-445e-4231-a327-262a36877de5",
   "metadata": {},
   "outputs": [],
   "source": [
    "import pandas as pd \n",
    "import numpy as np \n",
    "from scipy.stats import wilcoxon "
   ]
  },
  {
   "cell_type": "code",
   "execution_count": 72,
   "id": "21281e5a-dc76-40c0-90a7-d3318aac9e63",
   "metadata": {},
   "outputs": [],
   "source": [
    "my_data = pd.read_excel(\"C:/Users/ADMIN/BAOHUY/Phan_tich_du_lieu/rating_tool_home.xlsx\")"
   ]
  },
  {
   "cell_type": "code",
   "execution_count": 73,
   "id": "12d7042b-9509-4694-ba75-62b5b8f7ec55",
   "metadata": {},
   "outputs": [
    {
     "data": {
      "text/html": [
       "<div>\n",
       "<style scoped>\n",
       "    .dataframe tbody tr th:only-of-type {\n",
       "        vertical-align: middle;\n",
       "    }\n",
       "\n",
       "    .dataframe tbody tr th {\n",
       "        vertical-align: top;\n",
       "    }\n",
       "\n",
       "    .dataframe thead th {\n",
       "        text-align: right;\n",
       "    }\n",
       "</style>\n",
       "<table border=\"1\" class=\"dataframe\">\n",
       "  <thead>\n",
       "    <tr style=\"text-align: right;\">\n",
       "      <th></th>\n",
       "      <th>rating</th>\n",
       "    </tr>\n",
       "  </thead>\n",
       "  <tbody>\n",
       "    <tr>\n",
       "      <th>0</th>\n",
       "      <td>4.5</td>\n",
       "    </tr>\n",
       "    <tr>\n",
       "      <th>1</th>\n",
       "      <td>4.4</td>\n",
       "    </tr>\n",
       "    <tr>\n",
       "      <th>2</th>\n",
       "      <td>4.7</td>\n",
       "    </tr>\n",
       "    <tr>\n",
       "      <th>3</th>\n",
       "      <td>4.5</td>\n",
       "    </tr>\n",
       "    <tr>\n",
       "      <th>4</th>\n",
       "      <td>4.4</td>\n",
       "    </tr>\n",
       "  </tbody>\n",
       "</table>\n",
       "</div>"
      ],
      "text/plain": [
       "   rating\n",
       "0     4.5\n",
       "1     4.4\n",
       "2     4.7\n",
       "3     4.5\n",
       "4     4.4"
      ]
     },
     "execution_count": 73,
     "metadata": {},
     "output_type": "execute_result"
    }
   ],
   "source": [
    "my_data.head()"
   ]
  },
  {
   "cell_type": "code",
   "execution_count": 74,
   "id": "e490532c-dfca-444d-b69b-a972783a3ca4",
   "metadata": {},
   "outputs": [
    {
     "data": {
      "text/html": [
       "<div>\n",
       "<style scoped>\n",
       "    .dataframe tbody tr th:only-of-type {\n",
       "        vertical-align: middle;\n",
       "    }\n",
       "\n",
       "    .dataframe tbody tr th {\n",
       "        vertical-align: top;\n",
       "    }\n",
       "\n",
       "    .dataframe thead th {\n",
       "        text-align: right;\n",
       "    }\n",
       "</style>\n",
       "<table border=\"1\" class=\"dataframe\">\n",
       "  <thead>\n",
       "    <tr style=\"text-align: right;\">\n",
       "      <th></th>\n",
       "      <th>rating</th>\n",
       "    </tr>\n",
       "  </thead>\n",
       "  <tbody>\n",
       "    <tr>\n",
       "      <th>77</th>\n",
       "      <td>4.6</td>\n",
       "    </tr>\n",
       "    <tr>\n",
       "      <th>78</th>\n",
       "      <td>4.6</td>\n",
       "    </tr>\n",
       "    <tr>\n",
       "      <th>79</th>\n",
       "      <td>4.2</td>\n",
       "    </tr>\n",
       "    <tr>\n",
       "      <th>80</th>\n",
       "      <td>4.8</td>\n",
       "    </tr>\n",
       "    <tr>\n",
       "      <th>81</th>\n",
       "      <td>4.6</td>\n",
       "    </tr>\n",
       "  </tbody>\n",
       "</table>\n",
       "</div>"
      ],
      "text/plain": [
       "    rating\n",
       "77     4.6\n",
       "78     4.6\n",
       "79     4.2\n",
       "80     4.8\n",
       "81     4.6"
      ]
     },
     "execution_count": 74,
     "metadata": {},
     "output_type": "execute_result"
    }
   ],
   "source": [
    "my_data.tail()"
   ]
  },
  {
   "cell_type": "code",
   "execution_count": 75,
   "id": "adb8f7b9-fe6e-4a5f-b1b7-00cf5b0d45f6",
   "metadata": {},
   "outputs": [],
   "source": [
    "alpha = 0.05 # mức ý nghĩa \n",
    "x = 4.5 #\n",
    "type_item = \"Tool Home Improvement\""
   ]
  },
  {
   "cell_type": "code",
   "execution_count": 76,
   "id": "be300c97-2fa8-4767-86c3-78e6ef9bd8d3",
   "metadata": {},
   "outputs": [],
   "source": [
    "transformed_data = [round((float(i) - x),2) for i in my_data[\"rating\"]]"
   ]
  },
  {
   "cell_type": "code",
   "execution_count": 77,
   "id": "51d40f7f-5b71-44db-99e2-1c1dbee107ee",
   "metadata": {},
   "outputs": [],
   "source": [
    "stat, p = wilcoxon(transformed_data)"
   ]
  },
  {
   "cell_type": "code",
   "execution_count": 78,
   "id": "8b27ec5d-c779-477d-bdec-7c7ab72ec2a4",
   "metadata": {},
   "outputs": [
    {
     "name": "stdout",
     "output_type": "stream",
     "text": [
      "Statistic: 701.0\n",
      "p-value: 0.2168993091841258\n"
     ]
    }
   ],
   "source": [
    "print(f\"Statistic: {stat}\")\n",
    "print(f\"p-value: {p}\")"
   ]
  },
  {
   "cell_type": "code",
   "execution_count": 79,
   "id": "00e4a320-ba87-43d0-8f7b-0873cf675dd1",
   "metadata": {},
   "outputs": [
    {
     "name": "stdout",
     "output_type": "stream",
     "text": [
      "Không đủ bằng chứng để bác bỉ giả thuyết H0: rating của ngành hàng Tool Home Improvement bằng 4.5\n"
     ]
    }
   ],
   "source": [
    "if p < alpha: \n",
    "    print(f\"Bác bỏ giả thuyết H0: rating của ngành hàng {type_item} khác {x}\")\n",
    "else: \n",
    "    print(f\"Không đủ bằng chứng để bác bỉ giả thuyết H0: rating của ngành hàng {type_item} bằng {x}\")"
   ]
  },
  {
   "cell_type": "code",
   "execution_count": null,
   "id": "3921d5c0-091b-40b6-98a6-e718abfaf585",
   "metadata": {},
   "outputs": [],
   "source": []
  }
 ],
 "metadata": {
  "kernelspec": {
   "display_name": "Python 3 (ipykernel)",
   "language": "python",
   "name": "python3"
  },
  "language_info": {
   "codemirror_mode": {
    "name": "ipython",
    "version": 3
   },
   "file_extension": ".py",
   "mimetype": "text/x-python",
   "name": "python",
   "nbconvert_exporter": "python",
   "pygments_lexer": "ipython3",
   "version": "3.12.4"
  }
 },
 "nbformat": 4,
 "nbformat_minor": 5
}

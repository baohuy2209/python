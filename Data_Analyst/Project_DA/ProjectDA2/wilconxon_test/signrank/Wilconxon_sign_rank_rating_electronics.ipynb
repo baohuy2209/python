{
 "cells": [
  {
   "cell_type": "markdown",
   "id": "f0eb0f3d-1fbd-46b3-8f11-b76e1f209012",
   "metadata": {},
   "source": [
    "## Wilconxon sign rank electronics"
   ]
  },
  {
   "cell_type": "markdown",
   "id": "afae52f1-366c-4d9b-b331-0208f9ba0ef3",
   "metadata": {},
   "source": [
    "# H0: med2 = 4.5 \n",
    "# H1: med2 != 4.5 "
   ]
  },
  {
   "cell_type": "code",
   "execution_count": 41,
   "id": "a71d0ac1-a76d-4f3f-9c92-35e23c1f4d3b",
   "metadata": {},
   "outputs": [],
   "source": [
    "import pandas as pd \n",
    "import numpy as np \n",
    "from scipy.stats import wilcoxon "
   ]
  },
  {
   "cell_type": "code",
   "execution_count": 42,
   "id": "b3945187-ef5a-4482-827e-ef40c93fb658",
   "metadata": {},
   "outputs": [],
   "source": [
    "my_data = pd.read_excel(\"C:/Users/ADMIN/BAOHUY/Phan_tich_du_lieu/rating_electronics.xlsx\")"
   ]
  },
  {
   "cell_type": "code",
   "execution_count": 43,
   "id": "669cf4f5-d957-4aae-b369-22491b590784",
   "metadata": {},
   "outputs": [
    {
     "data": {
      "text/html": [
       "<div>\n",
       "<style scoped>\n",
       "    .dataframe tbody tr th:only-of-type {\n",
       "        vertical-align: middle;\n",
       "    }\n",
       "\n",
       "    .dataframe tbody tr th {\n",
       "        vertical-align: top;\n",
       "    }\n",
       "\n",
       "    .dataframe thead th {\n",
       "        text-align: right;\n",
       "    }\n",
       "</style>\n",
       "<table border=\"1\" class=\"dataframe\">\n",
       "  <thead>\n",
       "    <tr style=\"text-align: right;\">\n",
       "      <th></th>\n",
       "      <th>rating</th>\n",
       "    </tr>\n",
       "  </thead>\n",
       "  <tbody>\n",
       "    <tr>\n",
       "      <th>0</th>\n",
       "      <td>4.3</td>\n",
       "    </tr>\n",
       "    <tr>\n",
       "      <th>1</th>\n",
       "      <td>4.8</td>\n",
       "    </tr>\n",
       "    <tr>\n",
       "      <th>2</th>\n",
       "      <td>4.4</td>\n",
       "    </tr>\n",
       "    <tr>\n",
       "      <th>3</th>\n",
       "      <td>4.6</td>\n",
       "    </tr>\n",
       "    <tr>\n",
       "      <th>4</th>\n",
       "      <td>4.6</td>\n",
       "    </tr>\n",
       "  </tbody>\n",
       "</table>\n",
       "</div>"
      ],
      "text/plain": [
       "   rating\n",
       "0     4.3\n",
       "1     4.8\n",
       "2     4.4\n",
       "3     4.6\n",
       "4     4.6"
      ]
     },
     "execution_count": 43,
     "metadata": {},
     "output_type": "execute_result"
    }
   ],
   "source": [
    "my_data.head()"
   ]
  },
  {
   "cell_type": "code",
   "execution_count": 44,
   "id": "e8d5dc50-85de-4c9d-9d62-0d64bbb8cf6d",
   "metadata": {},
   "outputs": [
    {
     "data": {
      "text/html": [
       "<div>\n",
       "<style scoped>\n",
       "    .dataframe tbody tr th:only-of-type {\n",
       "        vertical-align: middle;\n",
       "    }\n",
       "\n",
       "    .dataframe tbody tr th {\n",
       "        vertical-align: top;\n",
       "    }\n",
       "\n",
       "    .dataframe thead th {\n",
       "        text-align: right;\n",
       "    }\n",
       "</style>\n",
       "<table border=\"1\" class=\"dataframe\">\n",
       "  <thead>\n",
       "    <tr style=\"text-align: right;\">\n",
       "      <th></th>\n",
       "      <th>rating</th>\n",
       "    </tr>\n",
       "  </thead>\n",
       "  <tbody>\n",
       "    <tr>\n",
       "      <th>87</th>\n",
       "      <td>4.7</td>\n",
       "    </tr>\n",
       "    <tr>\n",
       "      <th>88</th>\n",
       "      <td>4.5</td>\n",
       "    </tr>\n",
       "    <tr>\n",
       "      <th>89</th>\n",
       "      <td>4.3</td>\n",
       "    </tr>\n",
       "    <tr>\n",
       "      <th>90</th>\n",
       "      <td>4.6</td>\n",
       "    </tr>\n",
       "    <tr>\n",
       "      <th>91</th>\n",
       "      <td>4.6</td>\n",
       "    </tr>\n",
       "  </tbody>\n",
       "</table>\n",
       "</div>"
      ],
      "text/plain": [
       "    rating\n",
       "87     4.7\n",
       "88     4.5\n",
       "89     4.3\n",
       "90     4.6\n",
       "91     4.6"
      ]
     },
     "execution_count": 44,
     "metadata": {},
     "output_type": "execute_result"
    }
   ],
   "source": [
    "my_data.tail()"
   ]
  },
  {
   "cell_type": "code",
   "execution_count": 45,
   "id": "937e33ba-52b1-4833-bc00-0a2a6a37e984",
   "metadata": {},
   "outputs": [],
   "source": [
    "alpha = 0.05 # mức ý nghĩa \n",
    "x = 4.5 #\n",
    "type_item = \"Electronics\""
   ]
  },
  {
   "cell_type": "code",
   "execution_count": 46,
   "id": "3c2ee606-3454-4dc4-ab16-abc3768e09ce",
   "metadata": {},
   "outputs": [],
   "source": [
    "transformed_data = [round((float(i) - x),2) for i in my_data[\"rating\"]]"
   ]
  },
  {
   "cell_type": "code",
   "execution_count": 47,
   "id": "080ea776-d093-4d38-b6d6-defaeba0bb68",
   "metadata": {},
   "outputs": [],
   "source": [
    "stat, p = wilcoxon(transformed_data)"
   ]
  },
  {
   "cell_type": "code",
   "execution_count": 48,
   "id": "a9b3f2e8-743c-454a-81c5-bef4f412c4fa",
   "metadata": {},
   "outputs": [
    {
     "name": "stdout",
     "output_type": "stream",
     "text": [
      "Statistic: 1273.5\n",
      "p-value: 0.41354305220037935\n"
     ]
    }
   ],
   "source": [
    "print(f\"Statistic: {stat}\")\n",
    "print(f\"p-value: {p}\")"
   ]
  },
  {
   "cell_type": "code",
   "execution_count": 49,
   "id": "4a05752e-4858-4af0-8790-d77087886549",
   "metadata": {},
   "outputs": [
    {
     "name": "stdout",
     "output_type": "stream",
     "text": [
      "Không đủ bằng chứng để bác bỉ giả thuyết H0: rating của ngành hàng Electronics bằng 4.5\n"
     ]
    }
   ],
   "source": [
    "if p < alpha: \n",
    "    print(f\"Bác bỏ giả thuyết H0: rating của ngành hàng {type_item} khác {x}\")\n",
    "else: \n",
    "    print(f\"Không đủ bằng chứng để bác bỉ giả thuyết H0: rating của ngành hàng {type_item} bằng {x}\")"
   ]
  }
 ],
 "metadata": {
  "kernelspec": {
   "display_name": "Python 3 (ipykernel)",
   "language": "python",
   "name": "python3"
  },
  "language_info": {
   "codemirror_mode": {
    "name": "ipython",
    "version": 3
   },
   "file_extension": ".py",
   "mimetype": "text/x-python",
   "name": "python",
   "nbconvert_exporter": "python",
   "pygments_lexer": "ipython3",
   "version": "3.12.4"
  }
 },
 "nbformat": 4,
 "nbformat_minor": 5
}

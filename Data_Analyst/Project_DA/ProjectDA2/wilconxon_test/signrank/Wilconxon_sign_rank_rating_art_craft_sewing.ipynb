{
 "cells": [
  {
   "cell_type": "markdown",
   "id": "159f56a4-6d64-4476-9db9-aa6d4e8e6010",
   "metadata": {},
   "source": [
    "## Wilconxon sign rank art craft sewing "
   ]
  },
  {
   "cell_type": "markdown",
   "id": "e14c11f0-eb4b-45ef-87af-df9c9206cc61",
   "metadata": {},
   "source": [
    "# H0: med5 = 4.6\n",
    "# H1: med5 != 4.6 "
   ]
  },
  {
   "cell_type": "code",
   "execution_count": 75,
   "id": "b9d021fb-7f7f-45cd-9d76-acb4d2751ab2",
   "metadata": {},
   "outputs": [],
   "source": [
    "import pandas as pd \n",
    "import numpy as np \n",
    "from scipy.stats import wilcoxon "
   ]
  },
  {
   "cell_type": "code",
   "execution_count": 76,
   "id": "8de57ee2-0df7-49b0-a003-4a631c997911",
   "metadata": {},
   "outputs": [],
   "source": [
    "my_data = pd.read_excel(\"C:/Users/ADMIN/BAOHUY/Phan_tich_du_lieu/rating_art_craft_sewing.xlsx\")"
   ]
  },
  {
   "cell_type": "code",
   "execution_count": 77,
   "id": "64ba29d8-06fa-42b9-b69a-6e0ac915f22a",
   "metadata": {},
   "outputs": [
    {
     "data": {
      "text/html": [
       "<div>\n",
       "<style scoped>\n",
       "    .dataframe tbody tr th:only-of-type {\n",
       "        vertical-align: middle;\n",
       "    }\n",
       "\n",
       "    .dataframe tbody tr th {\n",
       "        vertical-align: top;\n",
       "    }\n",
       "\n",
       "    .dataframe thead th {\n",
       "        text-align: right;\n",
       "    }\n",
       "</style>\n",
       "<table border=\"1\" class=\"dataframe\">\n",
       "  <thead>\n",
       "    <tr style=\"text-align: right;\">\n",
       "      <th></th>\n",
       "      <th>rating</th>\n",
       "    </tr>\n",
       "  </thead>\n",
       "  <tbody>\n",
       "    <tr>\n",
       "      <th>0</th>\n",
       "      <td>4.5</td>\n",
       "    </tr>\n",
       "    <tr>\n",
       "      <th>1</th>\n",
       "      <td>4.5</td>\n",
       "    </tr>\n",
       "    <tr>\n",
       "      <th>2</th>\n",
       "      <td>4.7</td>\n",
       "    </tr>\n",
       "    <tr>\n",
       "      <th>3</th>\n",
       "      <td>4.4</td>\n",
       "    </tr>\n",
       "    <tr>\n",
       "      <th>4</th>\n",
       "      <td>4.7</td>\n",
       "    </tr>\n",
       "  </tbody>\n",
       "</table>\n",
       "</div>"
      ],
      "text/plain": [
       "   rating\n",
       "0     4.5\n",
       "1     4.5\n",
       "2     4.7\n",
       "3     4.4\n",
       "4     4.7"
      ]
     },
     "execution_count": 77,
     "metadata": {},
     "output_type": "execute_result"
    }
   ],
   "source": [
    "my_data.head()"
   ]
  },
  {
   "cell_type": "code",
   "execution_count": 78,
   "id": "ce67ba5b-41a5-4026-8567-aabdb7242db2",
   "metadata": {},
   "outputs": [
    {
     "data": {
      "text/html": [
       "<div>\n",
       "<style scoped>\n",
       "    .dataframe tbody tr th:only-of-type {\n",
       "        vertical-align: middle;\n",
       "    }\n",
       "\n",
       "    .dataframe tbody tr th {\n",
       "        vertical-align: top;\n",
       "    }\n",
       "\n",
       "    .dataframe thead th {\n",
       "        text-align: right;\n",
       "    }\n",
       "</style>\n",
       "<table border=\"1\" class=\"dataframe\">\n",
       "  <thead>\n",
       "    <tr style=\"text-align: right;\">\n",
       "      <th></th>\n",
       "      <th>rating</th>\n",
       "    </tr>\n",
       "  </thead>\n",
       "  <tbody>\n",
       "    <tr>\n",
       "      <th>33</th>\n",
       "      <td>4.8</td>\n",
       "    </tr>\n",
       "    <tr>\n",
       "      <th>34</th>\n",
       "      <td>4.4</td>\n",
       "    </tr>\n",
       "    <tr>\n",
       "      <th>35</th>\n",
       "      <td>4.7</td>\n",
       "    </tr>\n",
       "    <tr>\n",
       "      <th>36</th>\n",
       "      <td>4.6</td>\n",
       "    </tr>\n",
       "    <tr>\n",
       "      <th>37</th>\n",
       "      <td>4.7</td>\n",
       "    </tr>\n",
       "  </tbody>\n",
       "</table>\n",
       "</div>"
      ],
      "text/plain": [
       "    rating\n",
       "33     4.8\n",
       "34     4.4\n",
       "35     4.7\n",
       "36     4.6\n",
       "37     4.7"
      ]
     },
     "execution_count": 78,
     "metadata": {},
     "output_type": "execute_result"
    }
   ],
   "source": [
    "my_data.tail()"
   ]
  },
  {
   "cell_type": "code",
   "execution_count": 79,
   "id": "b8147584-1fcf-4839-96f8-d2844f963e58",
   "metadata": {},
   "outputs": [],
   "source": [
    "alpha = 0.05 # mức ý nghĩa \n",
    "x = 4.6 #\n",
    "type_item = \"Art, Craft & Sewing\""
   ]
  },
  {
   "cell_type": "code",
   "execution_count": 80,
   "id": "7c53a264-f887-489c-baff-126abdb0c89c",
   "metadata": {},
   "outputs": [
    {
     "data": {
      "text/plain": [
       "[-0.1,\n",
       " -0.1,\n",
       " 0.1,\n",
       " -0.2,\n",
       " 0.1,\n",
       " 0.0,\n",
       " 0.0,\n",
       " -0.2,\n",
       " -0.4,\n",
       " 0.0,\n",
       " 0.1,\n",
       " 0.1,\n",
       " 0.0,\n",
       " 0.0,\n",
       " 0.0,\n",
       " 0.1,\n",
       " 0.0,\n",
       " -0.1,\n",
       " 0.1,\n",
       " -0.1,\n",
       " -0.2,\n",
       " -0.1,\n",
       " -0.5,\n",
       " -0.3,\n",
       " -0.1,\n",
       " 0.0,\n",
       " 0.0,\n",
       " 0.0,\n",
       " -0.1,\n",
       " -0.2,\n",
       " 0.0,\n",
       " 0.1,\n",
       " 0.0,\n",
       " 0.2,\n",
       " -0.2,\n",
       " 0.1,\n",
       " 0.0,\n",
       " 0.1]"
      ]
     },
     "execution_count": 80,
     "metadata": {},
     "output_type": "execute_result"
    }
   ],
   "source": [
    "transformed_data = [round((float(i) - x),2) for i in my_data[\"rating\"]]\n",
    "transformed_data"
   ]
  },
  {
   "cell_type": "code",
   "execution_count": 81,
   "id": "1144571f-1e1d-41e3-a0a7-464100323e04",
   "metadata": {},
   "outputs": [],
   "source": [
    "stat, p = wilcoxon(transformed_data)"
   ]
  },
  {
   "cell_type": "code",
   "execution_count": 82,
   "id": "fbb1e198-a00e-4603-9e37-b3e254e8b418",
   "metadata": {},
   "outputs": [
    {
     "name": "stdout",
     "output_type": "stream",
     "text": [
      "Statistic: 96.0\n",
      "p-value: 0.0642891964909829\n"
     ]
    }
   ],
   "source": [
    "print(f\"Statistic: {stat}\")\n",
    "print(f\"p-value: {p}\")"
   ]
  },
  {
   "cell_type": "code",
   "execution_count": 83,
   "id": "2c410fcc-9a9a-4fee-8c9a-32a52f5e6c82",
   "metadata": {},
   "outputs": [
    {
     "name": "stdout",
     "output_type": "stream",
     "text": [
      "Không đủ bằng chứng để bác bỉ giả thuyết H0: rating của ngành hàng Art, Craft & Sewing bằng 4.6\n"
     ]
    }
   ],
   "source": [
    "if p < alpha: \n",
    "    print(f\"Bác bỏ giả thuyết H0: rating của ngành hàng {type_item} khác {x}\")\n",
    "else: \n",
    "    print(f\"Không đủ bằng chứng để bác bỉ giả thuyết H0: rating của ngành hàng {type_item} bằng {x}\")"
   ]
  },
  {
   "cell_type": "code",
   "execution_count": null,
   "id": "ab033bbe-8f51-41d6-9b01-1d142d0272a4",
   "metadata": {},
   "outputs": [],
   "source": []
  }
 ],
 "metadata": {
  "kernelspec": {
   "display_name": "Python 3 (ipykernel)",
   "language": "python",
   "name": "python3"
  },
  "language_info": {
   "codemirror_mode": {
    "name": "ipython",
    "version": 3
   },
   "file_extension": ".py",
   "mimetype": "text/x-python",
   "name": "python",
   "nbconvert_exporter": "python",
   "pygments_lexer": "ipython3",
   "version": "3.12.4"
  }
 },
 "nbformat": 4,
 "nbformat_minor": 5
}

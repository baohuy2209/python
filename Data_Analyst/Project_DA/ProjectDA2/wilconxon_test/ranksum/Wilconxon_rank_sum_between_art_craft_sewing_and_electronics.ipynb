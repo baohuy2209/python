{
 "cells": [
  {
   "cell_type": "markdown",
   "id": "f8cec0d2-b24d-4564-955f-bdb76b117d99",
   "metadata": {},
   "source": [
    "## Wilconxon rank sum betweem art craft sewing and electronics"
   ]
  },
  {
   "cell_type": "markdown",
   "id": "a749d7be-f195-48d1-a9cc-7eee454751a4",
   "metadata": {},
   "source": [
    "# H0: med5 = med2\n",
    "# H1: med5 != med2"
   ]
  },
  {
   "cell_type": "code",
   "execution_count": 4,
   "id": "ad2d8c49-cb53-4470-8655-aad803a6066a",
   "metadata": {},
   "outputs": [],
   "source": [
    "import pandas as pd \n",
    "import numpy as np \n",
    "from scipy.stats import ranksums"
   ]
  },
  {
   "cell_type": "code",
   "execution_count": 6,
   "id": "456b57bf-0dbe-417e-93d6-c0e9ee6819c5",
   "metadata": {},
   "outputs": [],
   "source": [
    "art_craft_sewing = pd.read_excel(\"C:/Users/ADMIN/BAOHUY/Phan_tich_du_lieu/rating_art_craft_sewing.xlsx\")\n",
    "electronics = pd.read_excel(\"C:/Users/ADMIN/BAOHUY/Phan_tich_du_lieu/rating_electronics.xlsx\")"
   ]
  },
  {
   "cell_type": "code",
   "execution_count": 8,
   "id": "d6b7ff70-13aa-4eed-97c7-70ea0b345676",
   "metadata": {},
   "outputs": [],
   "source": [
    "alpha = 0.05 # mức ý nghĩa "
   ]
  },
  {
   "cell_type": "code",
   "execution_count": 10,
   "id": "73fd0229-b99f-4155-83da-8aa1ee8ecc46",
   "metadata": {},
   "outputs": [
    {
     "name": "stdout",
     "output_type": "stream",
     "text": [
      "Statistic: [1.52028746]\n",
      "P-value: [0.12843874]\n"
     ]
    }
   ],
   "source": [
    "stat, p = ranksums(art_craft_sewing, electronics ) \n",
    "print(f\"Statistic: {stat}\")\n",
    "print(f\"P-value: {p}\")"
   ]
  },
  {
   "cell_type": "code",
   "execution_count": 12,
   "id": "4bf7d757-9d97-49fd-b059-179755a0660a",
   "metadata": {},
   "outputs": [
    {
     "name": "stdout",
     "output_type": "stream",
     "text": [
      "Không có sự khác biệt đáng kể giữa hai tổng thể (không bác bỏ H0).\n"
     ]
    }
   ],
   "source": [
    "if p < alpha:\n",
    "    print(\"Có sự khác biệt đáng kể giữa hai tổng thể (bác bỏ H0).\")\n",
    "else:\n",
    "    print(\"Không có sự khác biệt đáng kể giữa hai tổng thể (không bác bỏ H0).\")"
   ]
  },
  {
   "cell_type": "code",
   "execution_count": null,
   "id": "38521656-565f-4235-b8fc-94d68e58af1b",
   "metadata": {},
   "outputs": [],
   "source": []
  }
 ],
 "metadata": {
  "kernelspec": {
   "display_name": "Python 3 (ipykernel)",
   "language": "python",
   "name": "python3"
  },
  "language_info": {
   "codemirror_mode": {
    "name": "ipython",
    "version": 3
   },
   "file_extension": ".py",
   "mimetype": "text/x-python",
   "name": "python",
   "nbconvert_exporter": "python",
   "pygments_lexer": "ipython3",
   "version": "3.12.4"
  }
 },
 "nbformat": 4,
 "nbformat_minor": 5
}

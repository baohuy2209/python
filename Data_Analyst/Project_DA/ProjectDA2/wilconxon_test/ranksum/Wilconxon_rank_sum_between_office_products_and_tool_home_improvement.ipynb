{
 "cells": [
  {
   "cell_type": "markdown",
   "id": "af468749-1de8-4598-be5c-d46637cb6c57",
   "metadata": {},
   "source": [
    "## Wilconxon rank sum betweem office products and tool home improvement"
   ]
  },
  {
   "cell_type": "markdown",
   "id": "4c196e7f-cf47-40d3-b231-ab5511bd31d7",
   "metadata": {},
   "source": [
    "# H0: med1 = med4\n",
    "# H1: med1 != med4 "
   ]
  },
  {
   "cell_type": "code",
   "execution_count": 19,
   "id": "91264a2d-4411-46c5-b238-3020ce0d6f00",
   "metadata": {},
   "outputs": [],
   "source": [
    "import pandas as pd \n",
    "import numpy as np \n",
    "from scipy.stats import ranksums"
   ]
  },
  {
   "cell_type": "code",
   "execution_count": 20,
   "id": "bd0d700d-cb5b-4703-b8a0-270050a2e7b2",
   "metadata": {},
   "outputs": [],
   "source": [
    "office_products = pd.read_excel(\"C:/Users/ADMIN/BAOHUY/Phan_tich_du_lieu/rating_office_products.xlsx\")\n",
    "tool_home = pd.read_excel(\"C:/Users/ADMIN/BAOHUY/Phan_tich_du_lieu/rating_tool_home.xlsx\")"
   ]
  },
  {
   "cell_type": "code",
   "execution_count": 21,
   "id": "708605ec-91cd-4f2f-8072-faa954075e77",
   "metadata": {},
   "outputs": [],
   "source": [
    "alpha = 0.05 # mức ý nghĩa "
   ]
  },
  {
   "cell_type": "code",
   "execution_count": 22,
   "id": "cb8c8f99-9944-4ce4-9293-e87c8b761d99",
   "metadata": {},
   "outputs": [
    {
     "name": "stdout",
     "output_type": "stream",
     "text": [
      "Statistic: [2.50336604]\n",
      "P-value: [0.01230182]\n"
     ]
    }
   ],
   "source": [
    "stat, p = ranksums(office_products, tool_home) \n",
    "print(f\"Statistic: {stat}\")\n",
    "print(f\"P-value: {p}\")"
   ]
  },
  {
   "cell_type": "code",
   "execution_count": 23,
   "id": "74517b58-500b-4e5c-a877-26aaef2c1f60",
   "metadata": {},
   "outputs": [
    {
     "name": "stdout",
     "output_type": "stream",
     "text": [
      "Có sự khác biệt đáng kể giữa hai tổng thể (bác bỏ H0).\n"
     ]
    }
   ],
   "source": [
    "if p < alpha:\n",
    "    print(\"Có sự khác biệt đáng kể giữa hai tổng thể (bác bỏ H0).\")\n",
    "else:\n",
    "    print(\"Không có sự khác biệt đáng kể giữa hai tổng thể (không bác bỏ H0).\")"
   ]
  }
 ],
 "metadata": {
  "kernelspec": {
   "display_name": "Python 3 (ipykernel)",
   "language": "python",
   "name": "python3"
  },
  "language_info": {
   "codemirror_mode": {
    "name": "ipython",
    "version": 3
   },
   "file_extension": ".py",
   "mimetype": "text/x-python",
   "name": "python",
   "nbconvert_exporter": "python",
   "pygments_lexer": "ipython3",
   "version": "3.12.4"
  }
 },
 "nbformat": 4,
 "nbformat_minor": 5
}

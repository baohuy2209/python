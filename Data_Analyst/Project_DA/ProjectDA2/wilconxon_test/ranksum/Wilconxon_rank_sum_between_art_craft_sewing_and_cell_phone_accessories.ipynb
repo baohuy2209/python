{
 "cells": [
  {
   "cell_type": "markdown",
   "id": "09a72d12-4aa4-4c1d-915a-7722e58df78c",
   "metadata": {},
   "source": [
    "## Wilconxon rank sum betweem art craft sewing and cell phone accessories"
   ]
  },
  {
   "cell_type": "markdown",
   "id": "f1051088-e697-4fca-ab44-8bdcf2bc3b6a",
   "metadata": {},
   "source": [
    "# H0: med5 = med3\n",
    "# H1: med5 != med3 "
   ]
  },
  {
   "cell_type": "code",
   "execution_count": 11,
   "id": "e6451543-414a-4991-b6a1-3ac545507e89",
   "metadata": {},
   "outputs": [],
   "source": [
    "import pandas as pd \n",
    "import numpy as np \n",
    "from scipy.stats import ranksums"
   ]
  },
  {
   "cell_type": "code",
   "execution_count": 12,
   "id": "4703180c-f321-4995-a279-829641c462a7",
   "metadata": {},
   "outputs": [],
   "source": [
    "art_craft_sewing = pd.read_excel(\"C:/Users/ADMIN/BAOHUY/Phan_tich_du_lieu/rating_art_craft_sewing.xlsx\")\n",
    "cell_phone_accessories = pd.read_excel(\"C:/Users/ADMIN/BAOHUY/Phan_tich_du_lieu/rating_phone_accessories.xlsx\")"
   ]
  },
  {
   "cell_type": "code",
   "execution_count": 13,
   "id": "c8a77baf-ee36-4a69-94e5-66391270c764",
   "metadata": {},
   "outputs": [],
   "source": [
    "alpha = 0.05 # mức ý nghĩa "
   ]
  },
  {
   "cell_type": "code",
   "execution_count": 14,
   "id": "7fd640a2-ab57-453d-adf1-237f463d20a1",
   "metadata": {},
   "outputs": [
    {
     "name": "stdout",
     "output_type": "stream",
     "text": [
      "Statistic: [4.02895509]\n",
      "P-value: [5.602532e-05]\n"
     ]
    }
   ],
   "source": [
    "stat, p = ranksums(art_craft_sewing, cell_phone_accessories) \n",
    "print(f\"Statistic: {stat}\")\n",
    "print(f\"P-value: {p}\")"
   ]
  },
  {
   "cell_type": "code",
   "execution_count": 15,
   "id": "b9b27eb9-d1d0-4dd0-a3be-979e00d1ffc9",
   "metadata": {},
   "outputs": [
    {
     "name": "stdout",
     "output_type": "stream",
     "text": [
      "Có sự khác biệt đáng kể giữa hai tổng thể (bác bỏ H0).\n"
     ]
    }
   ],
   "source": [
    "if p < alpha:\n",
    "    print(\"Có sự khác biệt đáng kể giữa hai tổng thể (bác bỏ H0).\")\n",
    "else:\n",
    "    print(\"Không có sự khác biệt đáng kể giữa hai tổng thể (không bác bỏ H0).\")"
   ]
  }
 ],
 "metadata": {
  "kernelspec": {
   "display_name": "Python 3 (ipykernel)",
   "language": "python",
   "name": "python3"
  },
  "language_info": {
   "codemirror_mode": {
    "name": "ipython",
    "version": 3
   },
   "file_extension": ".py",
   "mimetype": "text/x-python",
   "name": "python",
   "nbconvert_exporter": "python",
   "pygments_lexer": "ipython3",
   "version": "3.12.4"
  }
 },
 "nbformat": 4,
 "nbformat_minor": 5
}

{
 "cells": [
  {
   "cell_type": "markdown",
   "id": "e27a4adc-fe6d-438c-b5c8-c69d05c21411",
   "metadata": {},
   "source": [
    "## Wilconxon rank sum betweem art craft sewing and tool home improvement"
   ]
  },
  {
   "cell_type": "markdown",
   "id": "7de4ab4c-3b56-4eb8-97d8-a66091828add",
   "metadata": {},
   "source": [
    "# H0: med5 = med4\n",
    "# H1: med5 != med4 "
   ]
  },
  {
   "cell_type": "code",
   "execution_count": 22,
   "id": "9514a26f-e8d0-4521-a252-1795c69c2913",
   "metadata": {},
   "outputs": [],
   "source": [
    "import pandas as pd \n",
    "import numpy as np \n",
    "from scipy.stats import ranksums"
   ]
  },
  {
   "cell_type": "code",
   "execution_count": 23,
   "id": "2b7e8bcf-965a-4bcc-8ad7-75733f0e8b8c",
   "metadata": {},
   "outputs": [],
   "source": [
    "art_craft_sewing = pd.read_excel(\"C:/Users/ADMIN/BAOHUY/Phan_tich_du_lieu/rating_art_craft_sewing.xlsx\")\n",
    "tool_home = pd.read_excel(\"C:/Users/ADMIN/BAOHUY/Phan_tich_du_lieu/rating_tool_home.xlsx\")"
   ]
  },
  {
   "cell_type": "code",
   "execution_count": 24,
   "id": "01b3b33a-04a3-4017-9a11-0443d0b19a52",
   "metadata": {},
   "outputs": [],
   "source": [
    "alpha = 0.05 # mức ý nghĩa "
   ]
  },
  {
   "cell_type": "code",
   "execution_count": 25,
   "id": "ac19c40a-66cc-4cfb-bbcd-3fde75f83ef5",
   "metadata": {},
   "outputs": [
    {
     "name": "stdout",
     "output_type": "stream",
     "text": [
      "Statistic: [1.47244717]\n",
      "P-value: [0.14090016]\n"
     ]
    }
   ],
   "source": [
    "stat, p = ranksums(art_craft_sewing, tool_home) \n",
    "print(f\"Statistic: {stat}\")\n",
    "print(f\"P-value: {p}\")"
   ]
  },
  {
   "cell_type": "code",
   "execution_count": 26,
   "id": "e0d896dc-4059-4f52-9045-585d3d2ce009",
   "metadata": {},
   "outputs": [
    {
     "name": "stdout",
     "output_type": "stream",
     "text": [
      "Không có sự khác biệt đáng kể giữa hai tổng thể (không bác bỏ H0).\n"
     ]
    }
   ],
   "source": [
    "if p < alpha:\n",
    "    print(\"Có sự khác biệt đáng kể giữa hai tổng thể (bác bỏ H0).\")\n",
    "else:\n",
    "    print(\"Không có sự khác biệt đáng kể giữa hai tổng thể (không bác bỏ H0).\")"
   ]
  },
  {
   "cell_type": "code",
   "execution_count": null,
   "id": "9e6b1866-83d3-4fae-bb98-cbfda7cf8c22",
   "metadata": {},
   "outputs": [],
   "source": []
  }
 ],
 "metadata": {
  "kernelspec": {
   "display_name": "Python 3 (ipykernel)",
   "language": "python",
   "name": "python3"
  },
  "language_info": {
   "codemirror_mode": {
    "name": "ipython",
    "version": 3
   },
   "file_extension": ".py",
   "mimetype": "text/x-python",
   "name": "python",
   "nbconvert_exporter": "python",
   "pygments_lexer": "ipython3",
   "version": "3.12.4"
  }
 },
 "nbformat": 4,
 "nbformat_minor": 5
}

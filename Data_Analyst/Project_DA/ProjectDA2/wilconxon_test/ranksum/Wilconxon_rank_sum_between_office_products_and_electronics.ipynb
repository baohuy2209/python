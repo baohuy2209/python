{
 "cells": [
  {
   "cell_type": "markdown",
   "id": "8de3b75d-1479-4076-997b-f9b8faeca5f8",
   "metadata": {},
   "source": [
    "## Wilconxon rank sum betweem office products and electronics "
   ]
  },
  {
   "cell_type": "markdown",
   "id": "a85d8290-4323-4c06-99bc-42a090f987b5",
   "metadata": {},
   "source": [
    "# H0: med1 = med2 \n",
    "# H1: med1 != med2 "
   ]
  },
  {
   "cell_type": "code",
   "execution_count": 17,
   "id": "495c114e-4dfb-4a2f-818f-8422e93145f3",
   "metadata": {},
   "outputs": [],
   "source": [
    "import pandas as pd \n",
    "import numpy as np \n",
    "from scipy.stats import ranksums"
   ]
  },
  {
   "cell_type": "code",
   "execution_count": 18,
   "id": "3540cbbb-b866-4bf1-9261-d30436fd9c82",
   "metadata": {},
   "outputs": [],
   "source": [
    "office_products = pd.read_excel(\"C:/Users/ADMIN/BAOHUY/Phan_tich_du_lieu/rating_office_products.xlsx\")\n",
    "electronics = pd.read_excel(\"C:/Users/ADMIN/BAOHUY/Phan_tich_du_lieu/rating_electronics.xlsx\")"
   ]
  },
  {
   "cell_type": "code",
   "execution_count": 19,
   "id": "519acce5-c9cc-42c5-b889-705779780e75",
   "metadata": {},
   "outputs": [],
   "source": [
    "alpha = 0.05 # mức ý nghĩa "
   ]
  },
  {
   "cell_type": "code",
   "execution_count": 20,
   "id": "ad0dd331-2c85-4d24-a1df-15afc5c8511d",
   "metadata": {},
   "outputs": [
    {
     "name": "stdout",
     "output_type": "stream",
     "text": [
      "Statistic: [2.465345]\n",
      "P-value: [0.01368814]\n"
     ]
    }
   ],
   "source": [
    "stat, p = ranksums(office_products, electronics) \n",
    "print(f\"Statistic: {stat}\")\n",
    "print(f\"P-value: {p}\")"
   ]
  },
  {
   "cell_type": "code",
   "execution_count": 21,
   "id": "352637c9-e05a-4a32-b75e-1b9107d68677",
   "metadata": {},
   "outputs": [
    {
     "name": "stdout",
     "output_type": "stream",
     "text": [
      "Có sự khác biệt đáng kể giữa hai tổng thể (bác bỏ H0).\n"
     ]
    }
   ],
   "source": [
    "if p < alpha:\n",
    "    print(\"Có sự khác biệt đáng kể giữa hai tổng thể (bác bỏ H0).\")\n",
    "else:\n",
    "    print(\"Không có sự khác biệt đáng kể giữa hai tổng thể (không bác bỏ H0).\")"
   ]
  },
  {
   "cell_type": "code",
   "execution_count": null,
   "id": "84db06d7-56f8-4595-816d-a3b9c72d4fc2",
   "metadata": {},
   "outputs": [],
   "source": []
  }
 ],
 "metadata": {
  "kernelspec": {
   "display_name": "Python 3 (ipykernel)",
   "language": "python",
   "name": "python3"
  },
  "language_info": {
   "codemirror_mode": {
    "name": "ipython",
    "version": 3
   },
   "file_extension": ".py",
   "mimetype": "text/x-python",
   "name": "python",
   "nbconvert_exporter": "python",
   "pygments_lexer": "ipython3",
   "version": "3.12.4"
  }
 },
 "nbformat": 4,
 "nbformat_minor": 5
}

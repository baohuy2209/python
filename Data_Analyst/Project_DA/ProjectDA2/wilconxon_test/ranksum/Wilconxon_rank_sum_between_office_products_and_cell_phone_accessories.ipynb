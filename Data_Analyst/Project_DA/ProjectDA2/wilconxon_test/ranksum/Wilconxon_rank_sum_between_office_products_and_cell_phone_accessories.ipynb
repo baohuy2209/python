{
 "cells": [
  {
   "cell_type": "markdown",
   "id": "16a82d8a-c901-4586-b143-6630e9f9de64",
   "metadata": {},
   "source": [
    "## Wilconxon rank sum betweem office products and cell phone accessories"
   ]
  },
  {
   "cell_type": "markdown",
   "id": "b08910cf-1e00-4866-ad35-0d95d985e922",
   "metadata": {},
   "source": [
    "# H0: med1 = med3\n",
    "# H1: med1 != med3 "
   ]
  },
  {
   "cell_type": "code",
   "execution_count": 15,
   "id": "9fe0efd9-f7cf-4c6a-a4ee-d092de3b1bae",
   "metadata": {},
   "outputs": [],
   "source": [
    "import pandas as pd \n",
    "import numpy as np \n",
    "from scipy.stats import ranksums"
   ]
  },
  {
   "cell_type": "code",
   "execution_count": 16,
   "id": "ce5a7094-1615-4fe9-9990-652742c64287",
   "metadata": {},
   "outputs": [],
   "source": [
    "office_products = pd.read_excel(\"C:/Users/ADMIN/BAOHUY/Phan_tich_du_lieu/rating_office_products.xlsx\")\n",
    "cell_phone_accessories = pd.read_excel(\"C:/Users/ADMIN/BAOHUY/Phan_tich_du_lieu/rating_phone_accessories.xlsx\")"
   ]
  },
  {
   "cell_type": "code",
   "execution_count": 17,
   "id": "83a7c15d-4eee-4e5b-aabc-189d067a7a05",
   "metadata": {},
   "outputs": [],
   "source": [
    "alpha = 0.05 # mức ý nghĩa "
   ]
  },
  {
   "cell_type": "code",
   "execution_count": 18,
   "id": "487f516f-b5d2-434d-8ba8-0615d167f5f0",
   "metadata": {},
   "outputs": [
    {
     "name": "stdout",
     "output_type": "stream",
     "text": [
      "Statistic: [7.75177458]\n",
      "P-value: [9.06171493e-15]\n"
     ]
    }
   ],
   "source": [
    "stat, p = ranksums(office_products, cell_phone_accessories) \n",
    "print(f\"Statistic: {stat}\")\n",
    "print(f\"P-value: {p}\")"
   ]
  },
  {
   "cell_type": "code",
   "execution_count": 24,
   "id": "2bffed57-a53e-49c8-8426-b56a610c06c7",
   "metadata": {},
   "outputs": [
    {
     "name": "stdout",
     "output_type": "stream",
     "text": [
      "Có sự khác biệt đáng kể giữa hai tổng thể (bác bỏ H0).\n"
     ]
    }
   ],
   "source": [
    "if p < alpha:\n",
    "    print(\"Có sự khác biệt đáng kể giữa hai tổng thể (bác bỏ H0).\")\n",
    "else:\n",
    "    print(\"Không có sự khác biệt đáng kể giữa hai tổng thể (không bác bỏ H0).\")"
   ]
  },
  {
   "cell_type": "code",
   "execution_count": null,
   "id": "07d44d28-281c-4b96-9d78-5ed1d8a94a87",
   "metadata": {},
   "outputs": [],
   "source": []
  }
 ],
 "metadata": {
  "kernelspec": {
   "display_name": "Python 3 (ipykernel)",
   "language": "python",
   "name": "python3"
  },
  "language_info": {
   "codemirror_mode": {
    "name": "ipython",
    "version": 3
   },
   "file_extension": ".py",
   "mimetype": "text/x-python",
   "name": "python",
   "nbconvert_exporter": "python",
   "pygments_lexer": "ipython3",
   "version": "3.12.4"
  }
 },
 "nbformat": 4,
 "nbformat_minor": 5
}

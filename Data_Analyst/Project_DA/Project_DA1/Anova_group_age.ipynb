{
 "cells": [
  {
   "cell_type": "code",
   "execution_count": 27,
   "id": "e6dccc0b-2d92-48d5-945d-39053ecbc9bb",
   "metadata": {},
   "outputs": [],
   "source": [
    "import pandas as pd \n",
    "import numpy as np\n"
   ]
  },
  {
   "cell_type": "code",
   "execution_count": 28,
   "id": "6de74cc2-4d46-4673-b41d-3785b518c777",
   "metadata": {},
   "outputs": [],
   "source": [
    "my_data = pd.read_csv(\"C:/Users/ADMIN/BAOHUY/Phan_tich_du_lieu/unemployeed_age.csv\")"
   ]
  },
  {
   "cell_type": "code",
   "execution_count": 29,
   "id": "8e25d236-4100-452b-b54f-ee338543a0fb",
   "metadata": {},
   "outputs": [
    {
     "data": {
      "text/html": [
       "<div>\n",
       "<style scoped>\n",
       "    .dataframe tbody tr th:only-of-type {\n",
       "        vertical-align: middle;\n",
       "    }\n",
       "\n",
       "    .dataframe tbody tr th {\n",
       "        vertical-align: top;\n",
       "    }\n",
       "\n",
       "    .dataframe thead th {\n",
       "        text-align: right;\n",
       "    }\n",
       "</style>\n",
       "<table border=\"1\" class=\"dataframe\">\n",
       "  <thead>\n",
       "    <tr style=\"text-align: right;\">\n",
       "      <th></th>\n",
       "      <th>Năm</th>\n",
       "      <th>TỔNG SỐ</th>\n",
       "      <th>15 - 24</th>\n",
       "      <th>25 - 49</th>\n",
       "      <th>50+</th>\n",
       "    </tr>\n",
       "  </thead>\n",
       "  <tbody>\n",
       "    <tr>\n",
       "      <th>0</th>\n",
       "      <td>2018</td>\n",
       "      <td>2.19</td>\n",
       "      <td>6.92</td>\n",
       "      <td>1.49</td>\n",
       "      <td>0.99</td>\n",
       "    </tr>\n",
       "    <tr>\n",
       "      <th>1</th>\n",
       "      <td>2019</td>\n",
       "      <td>2.17</td>\n",
       "      <td>6.51</td>\n",
       "      <td>1.59</td>\n",
       "      <td>0.70</td>\n",
       "    </tr>\n",
       "    <tr>\n",
       "      <th>2</th>\n",
       "      <td>2020</td>\n",
       "      <td>2.48</td>\n",
       "      <td>7.21</td>\n",
       "      <td>1.99</td>\n",
       "      <td>0.99</td>\n",
       "    </tr>\n",
       "    <tr>\n",
       "      <th>3</th>\n",
       "      <td>2021</td>\n",
       "      <td>3.20</td>\n",
       "      <td>8.55</td>\n",
       "      <td>2.66</td>\n",
       "      <td>1.86</td>\n",
       "    </tr>\n",
       "    <tr>\n",
       "      <th>4</th>\n",
       "      <td>2022</td>\n",
       "      <td>2.34</td>\n",
       "      <td>7.78</td>\n",
       "      <td>1.77</td>\n",
       "      <td>1.17</td>\n",
       "    </tr>\n",
       "    <tr>\n",
       "      <th>5</th>\n",
       "      <td>2023</td>\n",
       "      <td>2.28</td>\n",
       "      <td>7.53</td>\n",
       "      <td>1.68</td>\n",
       "      <td>1.08</td>\n",
       "    </tr>\n",
       "  </tbody>\n",
       "</table>\n",
       "</div>"
      ],
      "text/plain": [
       "   Năm   TỔNG SỐ  15 - 24  25 - 49   50+\n",
       "0  2018     2.19     6.92     1.49  0.99\n",
       "1  2019     2.17     6.51     1.59  0.70\n",
       "2  2020     2.48     7.21     1.99  0.99\n",
       "3  2021     3.20     8.55     2.66  1.86\n",
       "4  2022     2.34     7.78     1.77  1.17\n",
       "5  2023     2.28     7.53     1.68  1.08"
      ]
     },
     "execution_count": 29,
     "metadata": {},
     "output_type": "execute_result"
    }
   ],
   "source": [
    "my_data"
   ]
  },
  {
   "cell_type": "code",
   "execution_count": 30,
   "id": "18b1c37b-9a71-4a8e-a5b3-500cad44a389",
   "metadata": {},
   "outputs": [
    {
     "data": {
      "text/html": [
       "<div>\n",
       "<style scoped>\n",
       "    .dataframe tbody tr th:only-of-type {\n",
       "        vertical-align: middle;\n",
       "    }\n",
       "\n",
       "    .dataframe tbody tr th {\n",
       "        vertical-align: top;\n",
       "    }\n",
       "\n",
       "    .dataframe thead th {\n",
       "        text-align: right;\n",
       "    }\n",
       "</style>\n",
       "<table border=\"1\" class=\"dataframe\">\n",
       "  <thead>\n",
       "    <tr style=\"text-align: right;\">\n",
       "      <th></th>\n",
       "      <th>15 - 24</th>\n",
       "      <th>25 - 49</th>\n",
       "      <th>50+</th>\n",
       "    </tr>\n",
       "  </thead>\n",
       "  <tbody>\n",
       "    <tr>\n",
       "      <th>count</th>\n",
       "      <td>6.000000</td>\n",
       "      <td>6.000000</td>\n",
       "      <td>6.000000</td>\n",
       "    </tr>\n",
       "    <tr>\n",
       "      <th>mean</th>\n",
       "      <td>7.416667</td>\n",
       "      <td>1.863333</td>\n",
       "      <td>1.131667</td>\n",
       "    </tr>\n",
       "    <tr>\n",
       "      <th>std</th>\n",
       "      <td>0.712844</td>\n",
       "      <td>0.425942</td>\n",
       "      <td>0.390150</td>\n",
       "    </tr>\n",
       "    <tr>\n",
       "      <th>min</th>\n",
       "      <td>6.510000</td>\n",
       "      <td>1.490000</td>\n",
       "      <td>0.700000</td>\n",
       "    </tr>\n",
       "    <tr>\n",
       "      <th>25%</th>\n",
       "      <td>6.992500</td>\n",
       "      <td>1.612500</td>\n",
       "      <td>0.990000</td>\n",
       "    </tr>\n",
       "    <tr>\n",
       "      <th>50%</th>\n",
       "      <td>7.370000</td>\n",
       "      <td>1.725000</td>\n",
       "      <td>1.035000</td>\n",
       "    </tr>\n",
       "    <tr>\n",
       "      <th>75%</th>\n",
       "      <td>7.717500</td>\n",
       "      <td>1.935000</td>\n",
       "      <td>1.147500</td>\n",
       "    </tr>\n",
       "    <tr>\n",
       "      <th>max</th>\n",
       "      <td>8.550000</td>\n",
       "      <td>2.660000</td>\n",
       "      <td>1.860000</td>\n",
       "    </tr>\n",
       "  </tbody>\n",
       "</table>\n",
       "</div>"
      ],
      "text/plain": [
       "        15 - 24   25 - 49       50+\n",
       "count  6.000000  6.000000  6.000000\n",
       "mean   7.416667  1.863333  1.131667\n",
       "std    0.712844  0.425942  0.390150\n",
       "min    6.510000  1.490000  0.700000\n",
       "25%    6.992500  1.612500  0.990000\n",
       "50%    7.370000  1.725000  1.035000\n",
       "75%    7.717500  1.935000  1.147500\n",
       "max    8.550000  2.660000  1.860000"
      ]
     },
     "execution_count": 30,
     "metadata": {},
     "output_type": "execute_result"
    }
   ],
   "source": [
    "my_data[[\"15 - 24\", \"25 - 49\", \"50+\"]].describe()"
   ]
  },
  {
   "cell_type": "code",
   "execution_count": 31,
   "id": "b5549f25-6b8c-4943-a971-5c4f9937846a",
   "metadata": {},
   "outputs": [],
   "source": [
    "from scipy.stats import f_oneway"
   ]
  },
  {
   "cell_type": "code",
   "execution_count": 32,
   "id": "c96643c0-4895-4130-ab40-3fcea3d22511",
   "metadata": {},
   "outputs": [],
   "source": [
    "f_stat, p_value = f_oneway(my_data[\"15 - 24\"], my_data[\"25 - 49\"], my_data[\"50+\"])"
   ]
  },
  {
   "cell_type": "code",
   "execution_count": 33,
   "id": "031648c2-fd69-401f-aa7c-9b87e22e64b3",
   "metadata": {},
   "outputs": [
    {
     "name": "stdout",
     "output_type": "stream",
     "text": [
      "F-statistic: 252.59\n",
      "P-value: 0.0000\n"
     ]
    }
   ],
   "source": [
    "print(f\"F-statistic: {f_stat:.2f}\")\n",
    "print(f\"P-value: {p_value:.4f}\")"
   ]
  },
  {
   "cell_type": "code",
   "execution_count": 34,
   "id": "bd2324b4-b551-4b7d-a085-a64c1351e302",
   "metadata": {},
   "outputs": [
    {
     "name": "stdout",
     "output_type": "stream",
     "text": [
      "Bác bỏ H0. Có sự khác biệt ý nghĩa giữa các nhóm.\n"
     ]
    }
   ],
   "source": [
    "if p_value < 0.05:\n",
    "    print(\"Bác bỏ H0. Có sự khác biệt ý nghĩa giữa các nhóm.\")\n",
    "else:\n",
    "    print(\"Không bác bỏ H0. Không có sự khác biệt ý nghĩa giữa các nhóm.\")"
   ]
  },
  {
   "cell_type": "code",
   "execution_count": 35,
   "id": "1dfbf18a-498b-4250-bf09-0a43c3be8da0",
   "metadata": {},
   "outputs": [],
   "source": [
    "tukey_data = pd.read_excel(\"C:/Users/ADMIN/BAOHUY/Phan_tich_du_lieu/unemployee_age_tukey.xlsx\")"
   ]
  },
  {
   "cell_type": "code",
   "execution_count": 36,
   "id": "81d53ebc-ac51-4fcf-a887-c3aa8dc07311",
   "metadata": {},
   "outputs": [
    {
     "data": {
      "text/html": [
       "<div>\n",
       "<style scoped>\n",
       "    .dataframe tbody tr th:only-of-type {\n",
       "        vertical-align: middle;\n",
       "    }\n",
       "\n",
       "    .dataframe tbody tr th {\n",
       "        vertical-align: top;\n",
       "    }\n",
       "\n",
       "    .dataframe thead th {\n",
       "        text-align: right;\n",
       "    }\n",
       "</style>\n",
       "<table border=\"1\" class=\"dataframe\">\n",
       "  <thead>\n",
       "    <tr style=\"text-align: right;\">\n",
       "      <th></th>\n",
       "      <th>unemployee_rate</th>\n",
       "      <th>group</th>\n",
       "    </tr>\n",
       "  </thead>\n",
       "  <tbody>\n",
       "    <tr>\n",
       "      <th>0</th>\n",
       "      <td>6.92</td>\n",
       "      <td>1</td>\n",
       "    </tr>\n",
       "    <tr>\n",
       "      <th>1</th>\n",
       "      <td>6.51</td>\n",
       "      <td>1</td>\n",
       "    </tr>\n",
       "    <tr>\n",
       "      <th>2</th>\n",
       "      <td>7.21</td>\n",
       "      <td>1</td>\n",
       "    </tr>\n",
       "    <tr>\n",
       "      <th>3</th>\n",
       "      <td>8.55</td>\n",
       "      <td>1</td>\n",
       "    </tr>\n",
       "    <tr>\n",
       "      <th>4</th>\n",
       "      <td>7.78</td>\n",
       "      <td>1</td>\n",
       "    </tr>\n",
       "    <tr>\n",
       "      <th>5</th>\n",
       "      <td>7.53</td>\n",
       "      <td>1</td>\n",
       "    </tr>\n",
       "    <tr>\n",
       "      <th>6</th>\n",
       "      <td>1.49</td>\n",
       "      <td>2</td>\n",
       "    </tr>\n",
       "    <tr>\n",
       "      <th>7</th>\n",
       "      <td>1.59</td>\n",
       "      <td>2</td>\n",
       "    </tr>\n",
       "    <tr>\n",
       "      <th>8</th>\n",
       "      <td>1.99</td>\n",
       "      <td>2</td>\n",
       "    </tr>\n",
       "    <tr>\n",
       "      <th>9</th>\n",
       "      <td>2.66</td>\n",
       "      <td>2</td>\n",
       "    </tr>\n",
       "    <tr>\n",
       "      <th>10</th>\n",
       "      <td>1.77</td>\n",
       "      <td>2</td>\n",
       "    </tr>\n",
       "    <tr>\n",
       "      <th>11</th>\n",
       "      <td>1.68</td>\n",
       "      <td>2</td>\n",
       "    </tr>\n",
       "    <tr>\n",
       "      <th>12</th>\n",
       "      <td>0.99</td>\n",
       "      <td>3</td>\n",
       "    </tr>\n",
       "    <tr>\n",
       "      <th>13</th>\n",
       "      <td>0.70</td>\n",
       "      <td>3</td>\n",
       "    </tr>\n",
       "    <tr>\n",
       "      <th>14</th>\n",
       "      <td>0.99</td>\n",
       "      <td>3</td>\n",
       "    </tr>\n",
       "    <tr>\n",
       "      <th>15</th>\n",
       "      <td>1.86</td>\n",
       "      <td>3</td>\n",
       "    </tr>\n",
       "    <tr>\n",
       "      <th>16</th>\n",
       "      <td>1.17</td>\n",
       "      <td>3</td>\n",
       "    </tr>\n",
       "    <tr>\n",
       "      <th>17</th>\n",
       "      <td>1.08</td>\n",
       "      <td>3</td>\n",
       "    </tr>\n",
       "  </tbody>\n",
       "</table>\n",
       "</div>"
      ],
      "text/plain": [
       "    unemployee_rate  group\n",
       "0              6.92      1\n",
       "1              6.51      1\n",
       "2              7.21      1\n",
       "3              8.55      1\n",
       "4              7.78      1\n",
       "5              7.53      1\n",
       "6              1.49      2\n",
       "7              1.59      2\n",
       "8              1.99      2\n",
       "9              2.66      2\n",
       "10             1.77      2\n",
       "11             1.68      2\n",
       "12             0.99      3\n",
       "13             0.70      3\n",
       "14             0.99      3\n",
       "15             1.86      3\n",
       "16             1.17      3\n",
       "17             1.08      3"
      ]
     },
     "execution_count": 36,
     "metadata": {},
     "output_type": "execute_result"
    }
   ],
   "source": [
    "tukey_data"
   ]
  },
  {
   "cell_type": "code",
   "execution_count": 37,
   "id": "0cf7c290-931c-4f99-a256-c49ef4890c92",
   "metadata": {},
   "outputs": [],
   "source": [
    "tukey = pairwise_tukeyhsd(endog=tukey_data['unemployee_rate'], groups=tukey_data['group'], alpha=0.05)"
   ]
  },
  {
   "cell_type": "code",
   "execution_count": 38,
   "id": "3f6b1096-9a6e-42a1-b0af-45626dcefb7a",
   "metadata": {},
   "outputs": [
    {
     "data": {
      "image/png": "[encoded data removed]",
      "text/plain": [
       "<Figure size 1000x600 with 1 Axes>"
      ]
     },
     "metadata": {},
     "output_type": "display_data"
    }
   ],
   "source": [
    "tukey.plot_simultaneous()\n",
    "import matplotlib.pyplot as plt\n",
    "plt.title('Kiểm định Tukey về tỷ lệ thất nghiệp theo độ tuổi cả nước')\n",
    "plt.show()"
   ]
  },
  {
   "cell_type": "code",
   "execution_count": null,
   "id": "ad78902a-7f9e-49a9-8ca9-7b8caac94fc5",
   "metadata": {},
   "outputs": [],
   "source": []
  }
 ],
 "metadata": {
  "kernelspec": {
   "display_name": "Python 3 (ipykernel)",
   "language": "python",
   "name": "python3"
  },
  "language_info": {
   "codemirror_mode": {
    "name": "ipython",
    "version": 3
   },
   "file_extension": ".py",
   "mimetype": "text/x-python",
   "name": "python",
   "nbconvert_exporter": "python",
   "pygments_lexer": "ipython3",
   "version": "3.12.4"
  }
 },
 "nbformat": 4,
 "nbformat_minor": 5
}

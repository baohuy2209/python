{
 "cells": [
  {
   "cell_type": "code",
   "execution_count": 10,
   "id": "c78511e1-2e48-4624-9278-4027d9d0e29b",
   "metadata": {},
   "outputs": [],
   "source": [
    "import pandas as pd \n",
    "import numpy as np\n",
    "from scipy.stats import f_oneway"
   ]
  },
  {
   "cell_type": "code",
   "execution_count": 3,
   "id": "ee0d52fd-6f36-40a9-a54a-c4ea14e181b2",
   "metadata": {},
   "outputs": [],
   "source": [
    "female = pd.read_csv(\"C:/Users/ADMIN/BAOHUY/Phan_tich_du_lieu/unemployeed_female.csv\")\n",
    "male = pd.read_csv(\"C:/Users/ADMIN/BAOHUY/Phan_tich_du_lieu/unemployeed_male.csv\")"
   ]
  },
  {
   "cell_type": "code",
   "execution_count": 5,
   "id": "e356cf67-f5e1-4273-801e-27a9b7a632ca",
   "metadata": {},
   "outputs": [
    {
     "data": {
      "text/html": [
       "<div>\n",
       "<style scoped>\n",
       "    .dataframe tbody tr th:only-of-type {\n",
       "        vertical-align: middle;\n",
       "    }\n",
       "\n",
       "    .dataframe tbody tr th {\n",
       "        vertical-align: top;\n",
       "    }\n",
       "\n",
       "    .dataframe thead th {\n",
       "        text-align: right;\n",
       "    }\n",
       "</style>\n",
       "<table border=\"1\" class=\"dataframe\">\n",
       "  <thead>\n",
       "    <tr style=\"text-align: right;\">\n",
       "      <th></th>\n",
       "      <th>Năm</th>\n",
       "      <th>Tổng số</th>\n",
       "      <th>Đồng bằng sông Hồng</th>\n",
       "      <th>Trung du và miền núi phía Bắc</th>\n",
       "      <th>Bắc Trung Bộ và duyên hải miền Trung</th>\n",
       "      <th>Tây Nguyên</th>\n",
       "      <th>Đông Nam Bộ</th>\n",
       "      <th>Đồng bằng sông Cửu Long</th>\n",
       "    </tr>\n",
       "  </thead>\n",
       "  <tbody>\n",
       "    <tr>\n",
       "      <th>0</th>\n",
       "      <td>2018</td>\n",
       "      <td>2.45</td>\n",
       "      <td>1.91</td>\n",
       "      <td>1.20</td>\n",
       "      <td>3.08</td>\n",
       "      <td>1.63</td>\n",
       "      <td>2.59</td>\n",
       "      <td>3.59</td>\n",
       "    </tr>\n",
       "    <tr>\n",
       "      <th>1</th>\n",
       "      <td>2019</td>\n",
       "      <td>2.26</td>\n",
       "      <td>1.67</td>\n",
       "      <td>0.96</td>\n",
       "      <td>2.46</td>\n",
       "      <td>1.47</td>\n",
       "      <td>2.46</td>\n",
       "      <td>4.03</td>\n",
       "    </tr>\n",
       "    <tr>\n",
       "      <th>2</th>\n",
       "      <td>2020</td>\n",
       "      <td>3.05</td>\n",
       "      <td>2.27</td>\n",
       "      <td>1.17</td>\n",
       "      <td>3.77</td>\n",
       "      <td>2.27</td>\n",
       "      <td>4.04</td>\n",
       "      <td>4.03</td>\n",
       "    </tr>\n",
       "    <tr>\n",
       "      <th>3</th>\n",
       "      <td>2021</td>\n",
       "      <td>3.26</td>\n",
       "      <td>1.91</td>\n",
       "      <td>2.12</td>\n",
       "      <td>3.41</td>\n",
       "      <td>1.26</td>\n",
       "      <td>4.84</td>\n",
       "      <td>4.68</td>\n",
       "    </tr>\n",
       "    <tr>\n",
       "      <th>4</th>\n",
       "      <td>2022</td>\n",
       "      <td>2.32</td>\n",
       "      <td>1.79</td>\n",
       "      <td>1.76</td>\n",
       "      <td>2.94</td>\n",
       "      <td>0.85</td>\n",
       "      <td>2.62</td>\n",
       "      <td>3.02</td>\n",
       "    </tr>\n",
       "    <tr>\n",
       "      <th>5</th>\n",
       "      <td>2023</td>\n",
       "      <td>2.25</td>\n",
       "      <td>1.60</td>\n",
       "      <td>1.77</td>\n",
       "      <td>2.55</td>\n",
       "      <td>0.85</td>\n",
       "      <td>2.81</td>\n",
       "      <td>3.08</td>\n",
       "    </tr>\n",
       "  </tbody>\n",
       "</table>\n",
       "</div>"
      ],
      "text/plain": [
       "    Năm  Tổng số  Đồng bằng sông Hồng  Trung du và miền núi phía Bắc  \\\n",
       "0  2018     2.45                 1.91                           1.20   \n",
       "1  2019     2.26                 1.67                           0.96   \n",
       "2  2020     3.05                 2.27                           1.17   \n",
       "3  2021     3.26                 1.91                           2.12   \n",
       "4  2022     2.32                 1.79                           1.76   \n",
       "5  2023     2.25                 1.60                           1.77   \n",
       "\n",
       "   Bắc Trung Bộ và duyên hải miền Trung  Tây Nguyên  Đông Nam Bộ  \\\n",
       "0                                  3.08        1.63         2.59   \n",
       "1                                  2.46        1.47         2.46   \n",
       "2                                  3.77        2.27         4.04   \n",
       "3                                  3.41        1.26         4.84   \n",
       "4                                  2.94        0.85         2.62   \n",
       "5                                  2.55        0.85         2.81   \n",
       "\n",
       "   Đồng bằng sông Cửu Long  \n",
       "0                     3.59  \n",
       "1                     4.03  \n",
       "2                     4.03  \n",
       "3                     4.68  \n",
       "4                     3.02  \n",
       "5                     3.08  "
      ]
     },
     "execution_count": 5,
     "metadata": {},
     "output_type": "execute_result"
    }
   ],
   "source": [
    "female"
   ]
  },
  {
   "cell_type": "code",
   "execution_count": 7,
   "id": "d3a381bc-3b53-423d-a9e8-56f5c618e1f3",
   "metadata": {},
   "outputs": [
    {
     "data": {
      "text/html": [
       "<div>\n",
       "<style scoped>\n",
       "    .dataframe tbody tr th:only-of-type {\n",
       "        vertical-align: middle;\n",
       "    }\n",
       "\n",
       "    .dataframe tbody tr th {\n",
       "        vertical-align: top;\n",
       "    }\n",
       "\n",
       "    .dataframe thead th {\n",
       "        text-align: right;\n",
       "    }\n",
       "</style>\n",
       "<table border=\"1\" class=\"dataframe\">\n",
       "  <thead>\n",
       "    <tr style=\"text-align: right;\">\n",
       "      <th></th>\n",
       "      <th>Năm</th>\n",
       "      <th>Cả nước</th>\n",
       "      <th>Đồng bằng sông Hồng</th>\n",
       "      <th>Trung du và miền núi phía Bắc</th>\n",
       "      <th>Bắc Trung Bộ và duyên hải miền Trung</th>\n",
       "      <th>Tây Nguyên</th>\n",
       "      <th>Đông Nam Bộ</th>\n",
       "      <th>Đồng bằng sông Cửu Long</th>\n",
       "    </tr>\n",
       "  </thead>\n",
       "  <tbody>\n",
       "    <tr>\n",
       "      <th>0</th>\n",
       "      <td>2018</td>\n",
       "      <td>1.97</td>\n",
       "      <td>2.02</td>\n",
       "      <td>0.92</td>\n",
       "      <td>2.37</td>\n",
       "      <td>0.56</td>\n",
       "      <td>2.66</td>\n",
       "      <td>2.05</td>\n",
       "    </tr>\n",
       "    <tr>\n",
       "      <th>1</th>\n",
       "      <td>2019</td>\n",
       "      <td>2.09</td>\n",
       "      <td>1.96</td>\n",
       "      <td>1.58</td>\n",
       "      <td>2.48</td>\n",
       "      <td>1.28</td>\n",
       "      <td>2.44</td>\n",
       "      <td>2.09</td>\n",
       "    </tr>\n",
       "    <tr>\n",
       "      <th>2</th>\n",
       "      <td>2020</td>\n",
       "      <td>2.01</td>\n",
       "      <td>1.85</td>\n",
       "      <td>0.96</td>\n",
       "      <td>2.65</td>\n",
       "      <td>1.14</td>\n",
       "      <td>2.56</td>\n",
       "      <td>1.98</td>\n",
       "    </tr>\n",
       "    <tr>\n",
       "      <th>3</th>\n",
       "      <td>2021</td>\n",
       "      <td>3.15</td>\n",
       "      <td>2.41</td>\n",
       "      <td>2.67</td>\n",
       "      <td>3.21</td>\n",
       "      <td>0.71</td>\n",
       "      <td>4.52</td>\n",
       "      <td>3.63</td>\n",
       "    </tr>\n",
       "    <tr>\n",
       "      <th>4</th>\n",
       "      <td>2022</td>\n",
       "      <td>2.36</td>\n",
       "      <td>2.05</td>\n",
       "      <td>2.39</td>\n",
       "      <td>2.31</td>\n",
       "      <td>0.51</td>\n",
       "      <td>3.09</td>\n",
       "      <td>2.59</td>\n",
       "    </tr>\n",
       "    <tr>\n",
       "      <th>5</th>\n",
       "      <td>2023</td>\n",
       "      <td>2.30</td>\n",
       "      <td>2.09</td>\n",
       "      <td>2.03</td>\n",
       "      <td>2.23</td>\n",
       "      <td>0.56</td>\n",
       "      <td>3.00</td>\n",
       "      <td>2.63</td>\n",
       "    </tr>\n",
       "  </tbody>\n",
       "</table>\n",
       "</div>"
      ],
      "text/plain": [
       "   Năm   Cả nước  Đồng bằng sông Hồng  Trung du và miền núi phía Bắc  \\\n",
       "0  2018     1.97                 2.02                           0.92   \n",
       "1  2019     2.09                 1.96                           1.58   \n",
       "2  2020     2.01                 1.85                           0.96   \n",
       "3  2021     3.15                 2.41                           2.67   \n",
       "4  2022     2.36                 2.05                           2.39   \n",
       "5  2023     2.30                 2.09                           2.03   \n",
       "\n",
       "   Bắc Trung Bộ và duyên hải miền Trung  Tây Nguyên  Đông Nam Bộ  \\\n",
       "0                                  2.37        0.56         2.66   \n",
       "1                                  2.48        1.28         2.44   \n",
       "2                                  2.65        1.14         2.56   \n",
       "3                                  3.21        0.71         4.52   \n",
       "4                                  2.31        0.51         3.09   \n",
       "5                                  2.23        0.56         3.00   \n",
       "\n",
       "   Đồng bằng sông Cửu Long  \n",
       "0                     2.05  \n",
       "1                     2.09  \n",
       "2                     1.98  \n",
       "3                     3.63  \n",
       "4                     2.59  \n",
       "5                     2.63  "
      ]
     },
     "execution_count": 7,
     "metadata": {},
     "output_type": "execute_result"
    }
   ],
   "source": [
    "male"
   ]
  },
  {
   "cell_type": "markdown",
   "id": "4dbf492a-87c3-46ed-90bd-bfbf22753ad1",
   "metadata": {},
   "source": [
    "## Đồng bắng sông Hồng"
   ]
  },
  {
   "cell_type": "code",
   "execution_count": 12,
   "id": "1b7c91ac-202d-4eda-8191-3a85d4495ebb",
   "metadata": {},
   "outputs": [],
   "source": [
    "dbsh = pd.DataFrame({\n",
    "    \"female\": female[\"Đồng bằng sông Hồng\"], \n",
    "    \"male\": male[\"Đồng bằng sông Hồng\"]\n",
    "})"
   ]
  },
  {
   "cell_type": "code",
   "execution_count": 18,
   "id": "0f6fcd60-45fd-44c3-879e-fbe0da0677cf",
   "metadata": {},
   "outputs": [
    {
     "data": {
      "text/html": [
       "<div>\n",
       "<style scoped>\n",
       "    .dataframe tbody tr th:only-of-type {\n",
       "        vertical-align: middle;\n",
       "    }\n",
       "\n",
       "    .dataframe tbody tr th {\n",
       "        vertical-align: top;\n",
       "    }\n",
       "\n",
       "    .dataframe thead th {\n",
       "        text-align: right;\n",
       "    }\n",
       "</style>\n",
       "<table border=\"1\" class=\"dataframe\">\n",
       "  <thead>\n",
       "    <tr style=\"text-align: right;\">\n",
       "      <th></th>\n",
       "      <th>female</th>\n",
       "      <th>male</th>\n",
       "    </tr>\n",
       "  </thead>\n",
       "  <tbody>\n",
       "    <tr>\n",
       "      <th>count</th>\n",
       "      <td>6.000000</td>\n",
       "      <td>6.000000</td>\n",
       "    </tr>\n",
       "    <tr>\n",
       "      <th>mean</th>\n",
       "      <td>1.858333</td>\n",
       "      <td>2.063333</td>\n",
       "    </tr>\n",
       "    <tr>\n",
       "      <th>std</th>\n",
       "      <td>0.237353</td>\n",
       "      <td>0.189279</td>\n",
       "    </tr>\n",
       "    <tr>\n",
       "      <th>min</th>\n",
       "      <td>1.600000</td>\n",
       "      <td>1.850000</td>\n",
       "    </tr>\n",
       "    <tr>\n",
       "      <th>25%</th>\n",
       "      <td>1.700000</td>\n",
       "      <td>1.975000</td>\n",
       "    </tr>\n",
       "    <tr>\n",
       "      <th>50%</th>\n",
       "      <td>1.850000</td>\n",
       "      <td>2.035000</td>\n",
       "    </tr>\n",
       "    <tr>\n",
       "      <th>75%</th>\n",
       "      <td>1.910000</td>\n",
       "      <td>2.080000</td>\n",
       "    </tr>\n",
       "    <tr>\n",
       "      <th>max</th>\n",
       "      <td>2.270000</td>\n",
       "      <td>2.410000</td>\n",
       "    </tr>\n",
       "  </tbody>\n",
       "</table>\n",
       "</div>"
      ],
      "text/plain": [
       "         female      male\n",
       "count  6.000000  6.000000\n",
       "mean   1.858333  2.063333\n",
       "std    0.237353  0.189279\n",
       "min    1.600000  1.850000\n",
       "25%    1.700000  1.975000\n",
       "50%    1.850000  2.035000\n",
       "75%    1.910000  2.080000\n",
       "max    2.270000  2.410000"
      ]
     },
     "execution_count": 18,
     "metadata": {},
     "output_type": "execute_result"
    }
   ],
   "source": [
    "dbsh.describe()"
   ]
  },
  {
   "cell_type": "code",
   "execution_count": 14,
   "id": "c51c86bb-f61b-4a9f-9708-91f619ef8747",
   "metadata": {},
   "outputs": [],
   "source": [
    "f_stat, p_value = f_oneway(dbsh[\"female\"], dbsh[\"male\"])"
   ]
  },
  {
   "cell_type": "code",
   "execution_count": 16,
   "id": "06408b1a-14c0-4786-a3b7-7c2278548e93",
   "metadata": {},
   "outputs": [
    {
     "name": "stdout",
     "output_type": "stream",
     "text": [
      "F-statistic: 2.74\n",
      "P-value: 0.1291\n"
     ]
    }
   ],
   "source": [
    "print(f\"F-statistic: {f_stat:.2f}\")\n",
    "print(f\"P-value: {p_value:.4f}\")"
   ]
  },
  {
   "cell_type": "code",
   "execution_count": 20,
   "id": "dc440fa0-ca62-4877-bf4f-630f8b6f3df8",
   "metadata": {},
   "outputs": [
    {
     "name": "stdout",
     "output_type": "stream",
     "text": [
      "Không bác bỏ H0. Không có sự khác biệt ý nghĩa giữa các nhóm.\n"
     ]
    }
   ],
   "source": [
    "if p_value < 0.05:\n",
    "    print(\"Bác bỏ H0. Có sự khác biệt ý nghĩa giữa các nhóm.\")\n",
    "else:\n",
    "    print(\"Không bác bỏ H0. Không có sự khác biệt ý nghĩa giữa các nhóm.\")"
   ]
  },
  {
   "cell_type": "markdown",
   "id": "ae88d315-a4d9-4bd6-be49-2faa73497397",
   "metadata": {},
   "source": [
    "## Bắc Trung Bộ và duyên hải miền Trung "
   ]
  },
  {
   "cell_type": "code",
   "execution_count": 23,
   "id": "5fff5129-0596-4e19-aacd-b40d420ab507",
   "metadata": {},
   "outputs": [],
   "source": [
    "btbdhmt = pd.DataFrame({\n",
    "    \"female\": female[\"Bắc Trung Bộ và duyên hải miền Trung\"], \n",
    "    \"male\": male[\"Bắc Trung Bộ và duyên hải miền Trung\"]\n",
    "})"
   ]
  },
  {
   "cell_type": "code",
   "execution_count": 25,
   "id": "f2dae511-2983-4f91-a176-3329d0641184",
   "metadata": {},
   "outputs": [
    {
     "data": {
      "text/html": [
       "<div>\n",
       "<style scoped>\n",
       "    .dataframe tbody tr th:only-of-type {\n",
       "        vertical-align: middle;\n",
       "    }\n",
       "\n",
       "    .dataframe tbody tr th {\n",
       "        vertical-align: top;\n",
       "    }\n",
       "\n",
       "    .dataframe thead th {\n",
       "        text-align: right;\n",
       "    }\n",
       "</style>\n",
       "<table border=\"1\" class=\"dataframe\">\n",
       "  <thead>\n",
       "    <tr style=\"text-align: right;\">\n",
       "      <th></th>\n",
       "      <th>female</th>\n",
       "      <th>male</th>\n",
       "    </tr>\n",
       "  </thead>\n",
       "  <tbody>\n",
       "    <tr>\n",
       "      <th>count</th>\n",
       "      <td>6.000000</td>\n",
       "      <td>6.000000</td>\n",
       "    </tr>\n",
       "    <tr>\n",
       "      <th>mean</th>\n",
       "      <td>3.035000</td>\n",
       "      <td>2.541667</td>\n",
       "    </tr>\n",
       "    <tr>\n",
       "      <th>std</th>\n",
       "      <td>0.501548</td>\n",
       "      <td>0.358464</td>\n",
       "    </tr>\n",
       "    <tr>\n",
       "      <th>min</th>\n",
       "      <td>2.460000</td>\n",
       "      <td>2.230000</td>\n",
       "    </tr>\n",
       "    <tr>\n",
       "      <th>25%</th>\n",
       "      <td>2.647500</td>\n",
       "      <td>2.325000</td>\n",
       "    </tr>\n",
       "    <tr>\n",
       "      <th>50%</th>\n",
       "      <td>3.010000</td>\n",
       "      <td>2.425000</td>\n",
       "    </tr>\n",
       "    <tr>\n",
       "      <th>75%</th>\n",
       "      <td>3.327500</td>\n",
       "      <td>2.607500</td>\n",
       "    </tr>\n",
       "    <tr>\n",
       "      <th>max</th>\n",
       "      <td>3.770000</td>\n",
       "      <td>3.210000</td>\n",
       "    </tr>\n",
       "  </tbody>\n",
       "</table>\n",
       "</div>"
      ],
      "text/plain": [
       "         female      male\n",
       "count  6.000000  6.000000\n",
       "mean   3.035000  2.541667\n",
       "std    0.501548  0.358464\n",
       "min    2.460000  2.230000\n",
       "25%    2.647500  2.325000\n",
       "50%    3.010000  2.425000\n",
       "75%    3.327500  2.607500\n",
       "max    3.770000  3.210000"
      ]
     },
     "execution_count": 25,
     "metadata": {},
     "output_type": "execute_result"
    }
   ],
   "source": [
    "btbdhmt.describe()"
   ]
  },
  {
   "cell_type": "code",
   "execution_count": 27,
   "id": "7c4f5299-17b6-44bc-985c-c817819073be",
   "metadata": {},
   "outputs": [],
   "source": [
    "f_stat, p_value = f_oneway(btbdhmt[\"female\"], btbdhmt[\"male\"])"
   ]
  },
  {
   "cell_type": "code",
   "execution_count": 29,
   "id": "89885404-b0ff-4ae4-8d89-2b688b9add7d",
   "metadata": {},
   "outputs": [
    {
     "name": "stdout",
     "output_type": "stream",
     "text": [
      "F-statistic: 3.84\n",
      "P-value: 0.0784\n"
     ]
    }
   ],
   "source": [
    "print(f\"F-statistic: {f_stat:.2f}\")\n",
    "print(f\"P-value: {p_value:.4f}\")"
   ]
  },
  {
   "cell_type": "code",
   "execution_count": 33,
   "id": "898bd115-c31c-41c0-849b-2811ae0080ab",
   "metadata": {},
   "outputs": [
    {
     "name": "stdout",
     "output_type": "stream",
     "text": [
      "Không bác bỏ H0. Không có sự khác biệt ý nghĩa giữa các nhóm.\n"
     ]
    }
   ],
   "source": [
    "if p_value < 0.05:\n",
    "    print(\"Bác bỏ H0. Có sự khác biệt ý nghĩa giữa các nhóm.\")\n",
    "else:\n",
    "    print(\"Không bác bỏ H0. Không có sự khác biệt ý nghĩa giữa các nhóm.\")"
   ]
  },
  {
   "cell_type": "markdown",
   "id": "2a1fd690-33d6-427d-9ab8-26e24bbf4b98",
   "metadata": {},
   "source": [
    "## Đông Nam Bộ "
   ]
  },
  {
   "cell_type": "code",
   "execution_count": 36,
   "id": "f042084a-8b5f-4690-9fe0-2b92b7c44ddf",
   "metadata": {},
   "outputs": [],
   "source": [
    "dnb = pd.DataFrame({\n",
    "    \"female\": female[\"Đông Nam Bộ\"], \n",
    "    \"male\": male[\"Đông Nam Bộ\"]\n",
    "})"
   ]
  },
  {
   "cell_type": "code",
   "execution_count": 38,
   "id": "18f22977-2e31-4a13-9896-88b8668562a0",
   "metadata": {},
   "outputs": [
    {
     "data": {
      "text/html": [
       "<div>\n",
       "<style scoped>\n",
       "    .dataframe tbody tr th:only-of-type {\n",
       "        vertical-align: middle;\n",
       "    }\n",
       "\n",
       "    .dataframe tbody tr th {\n",
       "        vertical-align: top;\n",
       "    }\n",
       "\n",
       "    .dataframe thead th {\n",
       "        text-align: right;\n",
       "    }\n",
       "</style>\n",
       "<table border=\"1\" class=\"dataframe\">\n",
       "  <thead>\n",
       "    <tr style=\"text-align: right;\">\n",
       "      <th></th>\n",
       "      <th>female</th>\n",
       "      <th>male</th>\n",
       "    </tr>\n",
       "  </thead>\n",
       "  <tbody>\n",
       "    <tr>\n",
       "      <th>count</th>\n",
       "      <td>6.000000</td>\n",
       "      <td>6.000000</td>\n",
       "    </tr>\n",
       "    <tr>\n",
       "      <th>mean</th>\n",
       "      <td>3.226667</td>\n",
       "      <td>3.045000</td>\n",
       "    </tr>\n",
       "    <tr>\n",
       "      <th>std</th>\n",
       "      <td>0.979707</td>\n",
       "      <td>0.765395</td>\n",
       "    </tr>\n",
       "    <tr>\n",
       "      <th>min</th>\n",
       "      <td>2.460000</td>\n",
       "      <td>2.440000</td>\n",
       "    </tr>\n",
       "    <tr>\n",
       "      <th>25%</th>\n",
       "      <td>2.597500</td>\n",
       "      <td>2.585000</td>\n",
       "    </tr>\n",
       "    <tr>\n",
       "      <th>50%</th>\n",
       "      <td>2.715000</td>\n",
       "      <td>2.830000</td>\n",
       "    </tr>\n",
       "    <tr>\n",
       "      <th>75%</th>\n",
       "      <td>3.732500</td>\n",
       "      <td>3.067500</td>\n",
       "    </tr>\n",
       "    <tr>\n",
       "      <th>max</th>\n",
       "      <td>4.840000</td>\n",
       "      <td>4.520000</td>\n",
       "    </tr>\n",
       "  </tbody>\n",
       "</table>\n",
       "</div>"
      ],
      "text/plain": [
       "         female      male\n",
       "count  6.000000  6.000000\n",
       "mean   3.226667  3.045000\n",
       "std    0.979707  0.765395\n",
       "min    2.460000  2.440000\n",
       "25%    2.597500  2.585000\n",
       "50%    2.715000  2.830000\n",
       "75%    3.732500  3.067500\n",
       "max    4.840000  4.520000"
      ]
     },
     "execution_count": 38,
     "metadata": {},
     "output_type": "execute_result"
    }
   ],
   "source": [
    "dnb.describe()"
   ]
  },
  {
   "cell_type": "code",
   "execution_count": 40,
   "id": "c65e6972-38e3-4485-9ea7-010a34334aab",
   "metadata": {},
   "outputs": [],
   "source": [
    "f_stat, p_value = f_oneway(dnb[\"female\"], dnb[\"male\"])"
   ]
  },
  {
   "cell_type": "code",
   "execution_count": 42,
   "id": "3520626e-8c6f-4169-a4df-92dfc4308b35",
   "metadata": {},
   "outputs": [
    {
     "name": "stdout",
     "output_type": "stream",
     "text": [
      "F-statistic: 0.13\n",
      "P-value: 0.7278\n"
     ]
    }
   ],
   "source": [
    "print(f\"F-statistic: {f_stat:.2f}\")\n",
    "print(f\"P-value: {p_value:.4f}\")"
   ]
  },
  {
   "cell_type": "code",
   "execution_count": 44,
   "id": "b549e2e1-f02a-43f2-96b6-30fd77b75eaf",
   "metadata": {},
   "outputs": [
    {
     "name": "stdout",
     "output_type": "stream",
     "text": [
      "Không bác bỏ H0. Không có sự khác biệt ý nghĩa giữa các nhóm.\n"
     ]
    }
   ],
   "source": [
    "if p_value < 0.05:\n",
    "    print(\"Bác bỏ H0. Có sự khác biệt ý nghĩa giữa các nhóm.\")\n",
    "else:\n",
    "    print(\"Không bác bỏ H0. Không có sự khác biệt ý nghĩa giữa các nhóm.\")"
   ]
  },
  {
   "cell_type": "code",
   "execution_count": null,
   "id": "f7a8009c-4114-49e0-91f3-81f2eb8e31c9",
   "metadata": {},
   "outputs": [],
   "source": []
  }
 ],
 "metadata": {
  "kernelspec": {
   "display_name": "Python 3 (ipykernel)",
   "language": "python",
   "name": "python3"
  },
  "language_info": {
   "codemirror_mode": {
    "name": "ipython",
    "version": 3
   },
   "file_extension": ".py",
   "mimetype": "text/x-python",
   "name": "python",
   "nbconvert_exporter": "python",
   "pygments_lexer": "ipython3",
   "version": "3.12.4"
  }
 },
 "nbformat": 4,
 "nbformat_minor": 5
}

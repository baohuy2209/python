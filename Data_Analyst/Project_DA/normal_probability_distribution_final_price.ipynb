{
 "cells": [
  {
   "cell_type": "code",
   "execution_count": 1,
   "id": "f1f3d2b3-5b0e-409a-b568-2da14b4ed841",
   "metadata": {},
   "outputs": [],
   "source": [
    "import pandas as pd \n",
    "import numpy as np "
   ]
  },
  {
   "cell_type": "code",
   "execution_count": 2,
   "id": "2ec76a59-6dcb-4a3a-9ce6-7f47516ea588",
   "metadata": {},
   "outputs": [],
   "source": [
    "filepath = \"C:/Users/ADMIN/BAOHUY/Phan_tich_du_lieu/final_price.csv\"\n",
    "my_data = pd.read_csv(filepath)"
   ]
  },
  {
   "cell_type": "code",
   "execution_count": 3,
   "id": "32917da3-64de-4b96-900a-ae5e9f779730",
   "metadata": {},
   "outputs": [],
   "source": [
    "mean_data = my_data[\"final_price\"].mean()"
   ]
  },
  {
   "cell_type": "code",
   "execution_count": 4,
   "id": "737c6562-4e9a-47a6-a041-401cd93a8b73",
   "metadata": {},
   "outputs": [],
   "source": [
    "std = np.std(my_data[\"final_price\"])"
   ]
  },
  {
   "cell_type": "code",
   "execution_count": 5,
   "id": "88dc5595-0974-40fa-8e01-26bb7ac58de1",
   "metadata": {},
   "outputs": [
    {
     "data": {
      "text/plain": [
       "4.318725619612323"
      ]
     },
     "execution_count": 5,
     "metadata": {},
     "output_type": "execute_result"
    }
   ],
   "source": [
    "S = 0 \n",
    "for i in range(len(my_data[\"final_price\"])): \n",
    "    S += pow((my_data[\"final_price\"][i]-mean_data),3)\n",
    "S /= (len(my_data[\"final_price\"])*pow(std,3))\n",
    "S"
   ]
  },
  {
   "cell_type": "code",
   "execution_count": 6,
   "id": "c71c0d99-20fd-4fdf-9c23-66372fe3bc75",
   "metadata": {},
   "outputs": [
    {
     "data": {
      "text/plain": [
       "26.641047606977956"
      ]
     },
     "execution_count": 6,
     "metadata": {},
     "output_type": "execute_result"
    }
   ],
   "source": [
    "K = 0 \n",
    "for i in range(len(my_data[\"final_price\"])): \n",
    "    K += pow((my_data[\"final_price\"][i]-mean_data),4)\n",
    "K /= (len(my_data[\"final_price\"])*pow(std,4))\n",
    "K"
   ]
  },
  {
   "cell_type": "code",
   "execution_count": 7,
   "id": "9a074df8-2869-453d-8bda-3c00bdd0224c",
   "metadata": {},
   "outputs": [
    {
     "data": {
      "text/plain": [
       "26184.86076243577"
      ]
     },
     "execution_count": 7,
     "metadata": {},
     "output_type": "execute_result"
    }
   ],
   "source": [
    "JB = len(my_data[\"final_price\"])*(pow(S,2)/6 + pow((K-3),2)/24)\n",
    "JB"
   ]
  },
  {
   "cell_type": "code",
   "execution_count": 8,
   "id": "c6c28d0d-1a33-432d-a25b-ed5ebd15945f",
   "metadata": {},
   "outputs": [
    {
     "data": {
      "text/plain": [
       "1065.3475996328712"
      ]
     },
     "execution_count": 8,
     "metadata": {},
     "output_type": "execute_result"
    }
   ],
   "source": [
    "from scipy.stats import chi2\n",
    "value_table = chi2.ppf(1-0.05,len(my_data[\"final_price\"])-1)\n",
    "value_table"
   ]
  },
  {
   "cell_type": "code",
   "execution_count": 9,
   "id": "205f38d9-ac8f-4977-800c-53d3456ef3db",
   "metadata": {},
   "outputs": [
    {
     "name": "stdout",
     "output_type": "stream",
     "text": [
      "H0: X tuân theo phân phối chuẩn\n",
      "H0: X không tuân theo phân phối chuẩn\n",
      "JB(26184.86076243577) > 1065.3475996328712: Giá trị kiểm định lớn hơn giá trị tra bảng\n",
      "==> Bác bỏ H0\n",
      "==> Giá cuối cùng không tuân theo phân phối chuẩn\n"
     ]
    }
   ],
   "source": [
    "print(\"H0: X tuân theo phân phối chuẩn\")\n",
    "print(\"H0: X không tuân theo phân phối chuẩn\")\n",
    "print(f\"JB({JB}) > {value_table}: Giá trị kiểm định lớn hơn giá trị tra bảng\")\n",
    "print(\"==> Bác bỏ H0\")\n",
    "print(\"==> Giá cuối cùng không tuân theo phân phối chuẩn\")"
   ]
  }
 ],
 "metadata": {
  "kernelspec": {
   "display_name": "Python 3 (ipykernel)",
   "language": "python",
   "name": "python3"
  },
  "language_info": {
   "codemirror_mode": {
    "name": "ipython",
    "version": 3
   },
   "file_extension": ".py",
   "mimetype": "text/x-python",
   "name": "python",
   "nbconvert_exporter": "python",
   "pygments_lexer": "ipython3",
   "version": "3.12.4"
  }
 },
 "nbformat": 4,
 "nbformat_minor": 5
}

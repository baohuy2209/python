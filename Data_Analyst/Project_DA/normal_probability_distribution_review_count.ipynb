{
 "cells": [
  {
   "cell_type": "markdown",
   "id": "133dd7be-500a-4f51-968b-1e0f23a53ca4",
   "metadata": {},
   "source": [
    "## normal probability distribution"
   ]
  },
  {
   "cell_type": "code",
   "execution_count": 4,
   "id": "6a642bbc-51d1-4460-b902-4d27debd3e00",
   "metadata": {},
   "outputs": [],
   "source": [
    "import pandas as pd \n",
    "import numpy as np \n",
    "filepath = \"C:/Users/ADMIN/BAOHUY/Phan_tich_du_lieu/review_count.csv\"\n",
    "my_data = pd.read_csv(filepath)"
   ]
  },
  {
   "cell_type": "code",
   "execution_count": 5,
   "id": "d7bb90eb-5f03-4dac-ace2-06153800eaeb",
   "metadata": {},
   "outputs": [],
   "source": [
    "mean_data = my_data[\"reviews_count\"].mean()"
   ]
  },
  {
   "cell_type": "code",
   "execution_count": 6,
   "id": "5f286313-7556-4ecf-9c8f-c798a7dab08e",
   "metadata": {},
   "outputs": [],
   "source": [
    "std = np.std(my_data[\"reviews_count\"])"
   ]
  },
  {
   "cell_type": "code",
   "execution_count": 7,
   "id": "16ef8122-2533-45e5-9aab-74e42ac387d9",
   "metadata": {},
   "outputs": [
    {
     "data": {
      "text/plain": [
       "6.3163338484588385"
      ]
     },
     "execution_count": 7,
     "metadata": {},
     "output_type": "execute_result"
    }
   ],
   "source": [
    "S = 0 \n",
    "for i in range(len(my_data[\"reviews_count\"])): \n",
    "    S += pow((my_data[\"reviews_count\"][i]-mean_data),3)\n",
    "S /= (len(my_data[\"reviews_count\"])*pow(std,3))\n",
    "S"
   ]
  },
  {
   "cell_type": "code",
   "execution_count": 8,
   "id": "d43e8424-3d92-4230-8ebe-f812fa1d9d3a",
   "metadata": {},
   "outputs": [
    {
     "data": {
      "text/plain": [
       "55.99015941638847"
      ]
     },
     "execution_count": 8,
     "metadata": {},
     "output_type": "execute_result"
    }
   ],
   "source": [
    "K = 0 \n",
    "for i in range(len(my_data[\"reviews_count\"])): \n",
    "    K += pow((my_data[\"reviews_count\"][i]-mean_data),4)\n",
    "K /= (len(my_data[\"reviews_count\"])*pow(std,4))\n",
    "K"
   ]
  },
  {
   "cell_type": "code",
   "execution_count": 9,
   "id": "e43152b9-ab6e-4308-9c6a-37d01f15e614",
   "metadata": {},
   "outputs": [
    {
     "data": {
      "text/plain": [
       "122658.37324208714"
      ]
     },
     "execution_count": 9,
     "metadata": {},
     "output_type": "execute_result"
    }
   ],
   "source": [
    "JB = len(my_data[\"reviews_count\"])*(pow(S,2)/6 + pow((K-3),2)/24)\n",
    "JB"
   ]
  },
  {
   "cell_type": "code",
   "execution_count": 10,
   "id": "c77ada23-d386-4cb2-a3ce-6278460afc35",
   "metadata": {},
   "outputs": [
    {
     "data": {
      "text/plain": [
       "1065.3475996328712"
      ]
     },
     "execution_count": 10,
     "metadata": {},
     "output_type": "execute_result"
    }
   ],
   "source": [
    "from scipy.stats import chi2\n",
    "value_table = chi2.ppf(1-0.05,len(my_data[\"reviews_count\"])-1)\n",
    "value_table"
   ]
  },
  {
   "cell_type": "code",
   "execution_count": 11,
   "id": "188c7148-5e9d-48c5-938c-527f792ea190",
   "metadata": {},
   "outputs": [
    {
     "name": "stdout",
     "output_type": "stream",
     "text": [
      "H0: X tuân theo phân phối chuẩn\n",
      "H0: X không tuân theo phân phối chuẩn\n",
      "JB(122658.37324208714) > 1065.3475996328712: Giá trị kiểm định lớn hơn giá trị tra bảng\n",
      "==> Bác bỏ H0\n",
      "==> Số lượng đánh giá không tuân theo phân phối chuẩn\n"
     ]
    }
   ],
   "source": [
    "print(\"H0: X tuân theo phân phối chuẩn\")\n",
    "print(\"H0: X không tuân theo phân phối chuẩn\")\n",
    "print(f\"JB({JB}) > {value_table}: Giá trị kiểm định lớn hơn giá trị tra bảng\")\n",
    "print(\"==> Bác bỏ H0\")\n",
    "print(\"==> Số lượng đánh giá không tuân theo phân phối chuẩn\")"
   ]
  },
  {
   "cell_type": "code",
   "execution_count": null,
   "id": "38948de6-07b3-4d82-b4f5-2c9554b97bdb",
   "metadata": {},
   "outputs": [],
   "source": []
  }
 ],
 "metadata": {
  "kernelspec": {
   "display_name": "Python 3 (ipykernel)",
   "language": "python",
   "name": "python3"
  },
  "language_info": {
   "codemirror_mode": {
    "name": "ipython",
    "version": 3
   },
   "file_extension": ".py",
   "mimetype": "text/x-python",
   "name": "python",
   "nbconvert_exporter": "python",
   "pygments_lexer": "ipython3",
   "version": "3.12.4"
  }
 },
 "nbformat": 4,
 "nbformat_minor": 5
}

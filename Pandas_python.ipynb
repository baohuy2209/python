{
 "cells": [
  {
   "cell_type": "markdown",
   "id": "2d7022a0",
   "metadata": {},
   "source": [
    "# Introduction to pandas Data Structures "
   ]
  },
  {
   "cell_type": "code",
   "execution_count": 2,
   "id": "d5e5b5d1",
   "metadata": {},
   "outputs": [],
   "source": [
    "import pandas as pd \n",
    "import numpy as np "
   ]
  },
  {
   "cell_type": "markdown",
   "id": "fce60c84",
   "metadata": {},
   "source": [
    "# 1) Series"
   ]
  },
  {
   "cell_type": "code",
   "execution_count": 48,
   "id": "c550a1e3",
   "metadata": {},
   "outputs": [],
   "source": [
    "obj = pd.Series([4,7,-3])"
   ]
  },
  {
   "cell_type": "code",
   "execution_count": 4,
   "id": "9755d895",
   "metadata": {},
   "outputs": [
    {
     "name": "stdout",
     "output_type": "stream",
     "text": [
      "0    4\n",
      "1    7\n",
      "2   -7\n",
      "dtype: int64\n"
     ]
    }
   ],
   "source": [
    "print(obj)"
   ]
  },
  {
   "cell_type": "markdown",
   "id": "eab9ae18",
   "metadata": {},
   "source": [
    "The string representation of a Series displayed interactively shows the index on the left and the values on the right. Since we did not specify an index for the data, a default one consisting of the integers 0 through N - 1 (where N is the length of the data) is created. You can get the array representation and index object of the Series via its values and index attributes, respectively: "
   ]
  },
  {
   "cell_type": "code",
   "execution_count": 5,
   "id": "c1c17d46",
   "metadata": {},
   "outputs": [
    {
     "data": {
      "text/plain": [
       "array([ 4,  7, -7], dtype=int64)"
      ]
     },
     "execution_count": 5,
     "metadata": {},
     "output_type": "execute_result"
    }
   ],
   "source": [
    "obj.values"
   ]
  },
  {
   "cell_type": "code",
   "execution_count": 6,
   "id": "4fe29bd2",
   "metadata": {},
   "outputs": [
    {
     "data": {
      "text/plain": [
       "RangeIndex(start=0, stop=3, step=1)"
      ]
     },
     "execution_count": 6,
     "metadata": {},
     "output_type": "execute_result"
    }
   ],
   "source": [
    "obj.index"
   ]
  },
  {
   "cell_type": "markdown",
   "id": "79a58c32",
   "metadata": {},
   "source": [
    "Often it will be desirable to create a Series with an index identifying each data point with a label: "
   ]
  },
  {
   "cell_type": "code",
   "execution_count": 7,
   "id": "953228d4",
   "metadata": {},
   "outputs": [],
   "source": [
    "obj2 = pd.Series([4,7,-2,-1], index = ['d', 'b', 'a', 'c'])"
   ]
  },
  {
   "cell_type": "code",
   "execution_count": 8,
   "id": "267a2aa2",
   "metadata": {},
   "outputs": [
    {
     "data": {
      "text/plain": [
       "d    4\n",
       "b    7\n",
       "a   -2\n",
       "c   -1\n",
       "dtype: int64"
      ]
     },
     "execution_count": 8,
     "metadata": {},
     "output_type": "execute_result"
    }
   ],
   "source": [
    "obj2"
   ]
  },
  {
   "cell_type": "code",
   "execution_count": 9,
   "id": "19a2067c",
   "metadata": {},
   "outputs": [
    {
     "data": {
      "text/plain": [
       "Index(['d', 'b', 'a', 'c'], dtype='object')"
      ]
     },
     "execution_count": 9,
     "metadata": {},
     "output_type": "execute_result"
    }
   ],
   "source": [
    "obj2.index"
   ]
  },
  {
   "cell_type": "code",
   "execution_count": 11,
   "id": "623c80f6",
   "metadata": {},
   "outputs": [
    {
     "data": {
      "text/plain": [
       "array([ 4,  7, -2, -1], dtype=int64)"
      ]
     },
     "execution_count": 11,
     "metadata": {},
     "output_type": "execute_result"
    }
   ],
   "source": [
    "obj2.values\n"
   ]
  },
  {
   "cell_type": "markdown",
   "id": "6481593a",
   "metadata": {},
   "source": [
    "Compared with Numpy arrays, you can use labels in the index when selecting single values or a set of values: "
   ]
  },
  {
   "cell_type": "code",
   "execution_count": 12,
   "id": "8ce570ef",
   "metadata": {},
   "outputs": [
    {
     "data": {
      "text/plain": [
       "-2"
      ]
     },
     "execution_count": 12,
     "metadata": {},
     "output_type": "execute_result"
    }
   ],
   "source": [
    "obj2['a']"
   ]
  },
  {
   "cell_type": "code",
   "execution_count": 13,
   "id": "1b623afd",
   "metadata": {},
   "outputs": [
    {
     "data": {
      "text/plain": [
       "7"
      ]
     },
     "execution_count": 13,
     "metadata": {},
     "output_type": "execute_result"
    }
   ],
   "source": [
    "obj2['b']"
   ]
  },
  {
   "cell_type": "code",
   "execution_count": 15,
   "id": "1d774355",
   "metadata": {},
   "outputs": [
    {
     "data": {
      "text/plain": [
       "-1"
      ]
     },
     "execution_count": 15,
     "metadata": {},
     "output_type": "execute_result"
    }
   ],
   "source": [
    "obj2['c']"
   ]
  },
  {
   "cell_type": "code",
   "execution_count": 16,
   "id": "bb1f8028",
   "metadata": {},
   "outputs": [
    {
     "data": {
      "text/plain": [
       "d     8\n",
       "b    14\n",
       "a    -4\n",
       "c    -2\n",
       "dtype: int64"
      ]
     },
     "execution_count": 16,
     "metadata": {},
     "output_type": "execute_result"
    }
   ],
   "source": [
    "obj2*2"
   ]
  },
  {
   "cell_type": "code",
   "execution_count": 17,
   "id": "25fbbd23",
   "metadata": {},
   "outputs": [
    {
     "data": {
      "text/plain": [
       "0     7\n",
       "1    10\n",
       "2    -4\n",
       "dtype: int64"
      ]
     },
     "execution_count": 17,
     "metadata": {},
     "output_type": "execute_result"
    }
   ],
   "source": [
    "obj+3"
   ]
  },
  {
   "cell_type": "code",
   "execution_count": 19,
   "id": "66be35de",
   "metadata": {},
   "outputs": [
    {
     "data": {
      "text/plain": [
       "a   -2\n",
       "b    7\n",
       "dtype: int64"
      ]
     },
     "execution_count": 19,
     "metadata": {},
     "output_type": "execute_result"
    }
   ],
   "source": [
    "obj2[['a','b']]"
   ]
  },
  {
   "cell_type": "code",
   "execution_count": 20,
   "id": "25322cfd",
   "metadata": {},
   "outputs": [
    {
     "data": {
      "text/plain": [
       "c   -1\n",
       "a   -2\n",
       "d    4\n",
       "dtype: int64"
      ]
     },
     "execution_count": 20,
     "metadata": {},
     "output_type": "execute_result"
    }
   ],
   "source": [
    "obj2[['c','a','d']]"
   ]
  },
  {
   "cell_type": "markdown",
   "id": "0e233196",
   "metadata": {},
   "source": [
    "Here ['c', 'a', 'd'] or ['a','b'] is interpreted as a list of indices, even though it contains strings instead of integers. "
   ]
  },
  {
   "cell_type": "markdown",
   "id": "20f330b0",
   "metadata": {},
   "source": [
    "Using NumPy functions or Numpy-like operations, such as filtering with a boolean array, scalar multiplication, or applying math functions, will preserve the index-value link: "
   ]
  },
  {
   "cell_type": "code",
   "execution_count": 21,
   "id": "23fa1d4d",
   "metadata": {},
   "outputs": [
    {
     "data": {
      "text/plain": [
       "d    4\n",
       "b    7\n",
       "dtype: int64"
      ]
     },
     "execution_count": 21,
     "metadata": {},
     "output_type": "execute_result"
    }
   ],
   "source": [
    "obj2[obj2 > 0]"
   ]
  },
  {
   "cell_type": "code",
   "execution_count": 22,
   "id": "f081edeb",
   "metadata": {},
   "outputs": [
    {
     "data": {
      "text/plain": [
       "d     8\n",
       "b    14\n",
       "a    -4\n",
       "c    -2\n",
       "dtype: int64"
      ]
     },
     "execution_count": 22,
     "metadata": {},
     "output_type": "execute_result"
    }
   ],
   "source": [
    "obj2*2"
   ]
  },
  {
   "cell_type": "code",
   "execution_count": 23,
   "id": "d00f61a9",
   "metadata": {},
   "outputs": [
    {
     "data": {
      "text/plain": [
       "d     7\n",
       "b    10\n",
       "a     1\n",
       "c     2\n",
       "dtype: int64"
      ]
     },
     "execution_count": 23,
     "metadata": {},
     "output_type": "execute_result"
    }
   ],
   "source": [
    "obj2+3"
   ]
  },
  {
   "cell_type": "code",
   "execution_count": 24,
   "id": "57a455d0",
   "metadata": {},
   "outputs": [
    {
     "data": {
      "text/plain": [
       "d      54.598150\n",
       "b    1096.633158\n",
       "a       0.135335\n",
       "c       0.367879\n",
       "dtype: float64"
      ]
     },
     "execution_count": 24,
     "metadata": {},
     "output_type": "execute_result"
    }
   ],
   "source": [
    "np.exp(obj2)"
   ]
  },
  {
   "cell_type": "markdown",
   "id": "5cf46fa3",
   "metadata": {},
   "source": [
    "Another way to think about a Series is as a fixed-length, ordered dict, as it is a mapping of index values to data values. It can be used in many contexts where you might use a dict: "
   ]
  },
  {
   "cell_type": "code",
   "execution_count": 25,
   "id": "d07a50ae",
   "metadata": {},
   "outputs": [
    {
     "data": {
      "text/plain": [
       "True"
      ]
     },
     "execution_count": 25,
     "metadata": {},
     "output_type": "execute_result"
    }
   ],
   "source": [
    "'b' in obj2"
   ]
  },
  {
   "cell_type": "code",
   "execution_count": 26,
   "id": "d55179f6",
   "metadata": {},
   "outputs": [
    {
     "data": {
      "text/plain": [
       "True"
      ]
     },
     "execution_count": 26,
     "metadata": {},
     "output_type": "execute_result"
    }
   ],
   "source": [
    "'b' in obj2.index"
   ]
  },
  {
   "cell_type": "code",
   "execution_count": 28,
   "id": "aed2909f",
   "metadata": {},
   "outputs": [
    {
     "data": {
      "text/plain": [
       "False"
      ]
     },
     "execution_count": 28,
     "metadata": {},
     "output_type": "execute_result"
    }
   ],
   "source": [
    "'e' in obj2"
   ]
  },
  {
   "cell_type": "markdown",
   "id": "7b7db959",
   "metadata": {},
   "source": [
    "Should you have data contained in a Python dict, you can create a Series from it by passing the dict: "
   ]
  },
  {
   "cell_type": "code",
   "execution_count": 30,
   "id": "3866e5c7",
   "metadata": {},
   "outputs": [],
   "source": [
    "sdata = {'Ohio' : 35000, 'Texas': 71000, 'Oregon' : 16000, 'Utah': 5000}\n",
    "obj3 = pd.Series(sdata)"
   ]
  },
  {
   "cell_type": "code",
   "execution_count": 31,
   "id": "58ea3045",
   "metadata": {},
   "outputs": [
    {
     "data": {
      "text/plain": [
       "Ohio      35000\n",
       "Texas     71000\n",
       "Oregon    16000\n",
       "Utah       5000\n",
       "dtype: int64"
      ]
     },
     "execution_count": 31,
     "metadata": {},
     "output_type": "execute_result"
    }
   ],
   "source": [
    "obj3"
   ]
  },
  {
   "cell_type": "markdown",
   "id": "be1f35da",
   "metadata": {},
   "source": [
    "When you are only passing a dict, the index in the resulting Series will have the dict's keys in sorted order. You can override this by passing the dict keys in the order you want them to appear in the resulting Series: "
   ]
  },
  {
   "cell_type": "code",
   "execution_count": 32,
   "id": "dd55fea5",
   "metadata": {},
   "outputs": [],
   "source": [
    "states = ['California', 'Ohio', 'Oregon', 'Texas']"
   ]
  },
  {
   "cell_type": "code",
   "execution_count": 33,
   "id": "16eb7097",
   "metadata": {},
   "outputs": [],
   "source": [
    "obj4 = pd.Series(sdata,index = states)"
   ]
  },
  {
   "cell_type": "code",
   "execution_count": 34,
   "id": "cdcb7cf4",
   "metadata": {},
   "outputs": [
    {
     "data": {
      "text/plain": [
       "California        NaN\n",
       "Ohio          35000.0\n",
       "Oregon        16000.0\n",
       "Texas         71000.0\n",
       "dtype: float64"
      ]
     },
     "execution_count": 34,
     "metadata": {},
     "output_type": "execute_result"
    }
   ],
   "source": [
    "obj4"
   ]
  },
  {
   "cell_type": "markdown",
   "id": "1637cb05",
   "metadata": {},
   "source": [
    "Here, three values found in sdata were places in the approraite locations, but since no value for 'California' was found. "
   ]
  },
  {
   "cell_type": "markdown",
   "id": "f5c52255",
   "metadata": {},
   "source": [
    "I will use the terms 'missing' or 'NA' interchangeably to refer to missing data. The isnull and notnull functions in pandas should be used to detect missing data:"
   ]
  },
  {
   "cell_type": "code",
   "execution_count": 35,
   "id": "b731f11a",
   "metadata": {},
   "outputs": [
    {
     "data": {
      "text/plain": [
       "California     True\n",
       "Ohio          False\n",
       "Oregon        False\n",
       "Texas         False\n",
       "dtype: bool"
      ]
     },
     "execution_count": 35,
     "metadata": {},
     "output_type": "execute_result"
    }
   ],
   "source": [
    "pd.isnull(obj4)"
   ]
  },
  {
   "cell_type": "code",
   "execution_count": 36,
   "id": "ea2f81da",
   "metadata": {},
   "outputs": [
    {
     "data": {
      "text/plain": [
       "California    False\n",
       "Ohio           True\n",
       "Oregon         True\n",
       "Texas          True\n",
       "dtype: bool"
      ]
     },
     "execution_count": 36,
     "metadata": {},
     "output_type": "execute_result"
    }
   ],
   "source": [
    "pd.notnull(obj4)"
   ]
  },
  {
   "cell_type": "markdown",
   "id": "6a6c818b",
   "metadata": {},
   "source": [
    "Series also has these an instance methods: "
   ]
  },
  {
   "cell_type": "code",
   "execution_count": 37,
   "id": "9b67e0d4",
   "metadata": {},
   "outputs": [
    {
     "data": {
      "text/plain": [
       "California     True\n",
       "Ohio          False\n",
       "Oregon        False\n",
       "Texas         False\n",
       "dtype: bool"
      ]
     },
     "execution_count": 37,
     "metadata": {},
     "output_type": "execute_result"
    }
   ],
   "source": [
    "obj4.isnull()"
   ]
  },
  {
   "cell_type": "raw",
   "id": "4dc73f63",
   "metadata": {},
   "source": [
    "A useful Series feature for many applications is that it automatically aligns by index label in arithmetic operations: "
   ]
  },
  {
   "cell_type": "code",
   "execution_count": 38,
   "id": "6ef2afaa",
   "metadata": {},
   "outputs": [
    {
     "data": {
      "text/plain": [
       "Ohio      35000\n",
       "Texas     71000\n",
       "Oregon    16000\n",
       "Utah       5000\n",
       "dtype: int64"
      ]
     },
     "execution_count": 38,
     "metadata": {},
     "output_type": "execute_result"
    }
   ],
   "source": [
    "obj3"
   ]
  },
  {
   "cell_type": "code",
   "execution_count": 39,
   "id": "656c3a3b",
   "metadata": {},
   "outputs": [
    {
     "data": {
      "text/plain": [
       "California        NaN\n",
       "Ohio          35000.0\n",
       "Oregon        16000.0\n",
       "Texas         71000.0\n",
       "dtype: float64"
      ]
     },
     "execution_count": 39,
     "metadata": {},
     "output_type": "execute_result"
    }
   ],
   "source": [
    "obj4"
   ]
  },
  {
   "cell_type": "code",
   "execution_count": 40,
   "id": "304d9bd3",
   "metadata": {},
   "outputs": [
    {
     "data": {
      "text/plain": [
       "California         NaN\n",
       "Ohio           70000.0\n",
       "Oregon         32000.0\n",
       "Texas         142000.0\n",
       "Utah               NaN\n",
       "dtype: float64"
      ]
     },
     "execution_count": 40,
     "metadata": {},
     "output_type": "execute_result"
    }
   ],
   "source": [
    "obj3 + obj4 "
   ]
  },
  {
   "cell_type": "markdown",
   "id": "154f9869",
   "metadata": {},
   "source": [
    "Data alignment feature will be addressed in more detail later. Ì you have experience with databases, you can think about this as being similar to a join operation. "
   ]
  },
  {
   "cell_type": "markdown",
   "id": "72943c34",
   "metadata": {},
   "source": [
    "Both the Series object itself and its index have a name attribute, which integrated with other key areas of pandas functionally:"
   ]
  },
  {
   "cell_type": "code",
   "execution_count": 41,
   "id": "61cd1bad",
   "metadata": {},
   "outputs": [],
   "source": [
    "obj4.name = 'population' "
   ]
  },
  {
   "cell_type": "code",
   "execution_count": 42,
   "id": "9aa26baa",
   "metadata": {},
   "outputs": [],
   "source": [
    "obj4.index.name = 'state'"
   ]
  },
  {
   "cell_type": "code",
   "execution_count": 43,
   "id": "1d016a9c",
   "metadata": {},
   "outputs": [
    {
     "data": {
      "text/plain": [
       "state\n",
       "California        NaN\n",
       "Ohio          35000.0\n",
       "Oregon        16000.0\n",
       "Texas         71000.0\n",
       "Name: population, dtype: float64"
      ]
     },
     "execution_count": 43,
     "metadata": {},
     "output_type": "execute_result"
    }
   ],
   "source": [
    "obj4"
   ]
  },
  {
   "cell_type": "code",
   "execution_count": null,
   "id": "fe50b2ff",
   "metadata": {},
   "outputs": [],
   "source": [
    "A Series index can be altered in-place by assignment: "
   ]
  },
  {
   "cell_type": "code",
   "execution_count": 44,
   "id": "9bf7d0f6",
   "metadata": {},
   "outputs": [
    {
     "data": {
      "text/plain": [
       "state\n",
       "California        NaN\n",
       "Ohio          35000.0\n",
       "Oregon        16000.0\n",
       "Texas         71000.0\n",
       "Name: population, dtype: float64"
      ]
     },
     "execution_count": 44,
     "metadata": {},
     "output_type": "execute_result"
    }
   ],
   "source": [
    "obj4"
   ]
  },
  {
   "cell_type": "markdown",
   "id": "c90074f4",
   "metadata": {},
   "source": [
    "A Series index can be altered in-place by assignment:"
   ]
  },
  {
   "cell_type": "code",
   "execution_count": 46,
   "id": "1e20f165",
   "metadata": {},
   "outputs": [
    {
     "data": {
      "text/plain": [
       "0    4\n",
       "1    7\n",
       "2   -7\n",
       "dtype: int64"
      ]
     },
     "execution_count": 46,
     "metadata": {},
     "output_type": "execute_result"
    }
   ],
   "source": [
    "obj "
   ]
  },
  {
   "cell_type": "code",
   "execution_count": 51,
   "id": "5fa080be",
   "metadata": {},
   "outputs": [],
   "source": [
    "obj.index = ['Bob', 'Steve', 'Jeff']"
   ]
  },
  {
   "cell_type": "code",
   "execution_count": 52,
   "id": "13737a09",
   "metadata": {},
   "outputs": [
    {
     "data": {
      "text/plain": [
       "Bob      4\n",
       "Steve    7\n",
       "Jeff    -4\n",
       "dtype: int64"
      ]
     },
     "execution_count": 52,
     "metadata": {},
     "output_type": "execute_result"
    }
   ],
   "source": [
    "obj"
   ]
  },
  {
   "cell_type": "markdown",
   "id": "e15eb3c9",
   "metadata": {},
   "source": [
    "There are many ways to construct a DataFrame, though one of the most common is from a dict of equal - length lists or Numpy arrays: "
   ]
  },
  {
   "cell_type": "code",
   "execution_count": 23,
   "id": "cfd12cf2",
   "metadata": {},
   "outputs": [
    {
     "data": {
      "text/html": [
       "<div>\n",
       "<style scoped>\n",
       "    .dataframe tbody tr th:only-of-type {\n",
       "        vertical-align: middle;\n",
       "    }\n",
       "\n",
       "    .dataframe tbody tr th {\n",
       "        vertical-align: top;\n",
       "    }\n",
       "\n",
       "    .dataframe thead th {\n",
       "        text-align: right;\n",
       "    }\n",
       "</style>\n",
       "<table border=\"1\" class=\"dataframe\">\n",
       "  <thead>\n",
       "    <tr style=\"text-align: right;\">\n",
       "      <th></th>\n",
       "      <th>state</th>\n",
       "      <th>year</th>\n",
       "      <th>pop</th>\n",
       "    </tr>\n",
       "  </thead>\n",
       "  <tbody>\n",
       "    <tr>\n",
       "      <th>0</th>\n",
       "      <td>Ohio</td>\n",
       "      <td>2000</td>\n",
       "      <td>1.5</td>\n",
       "    </tr>\n",
       "    <tr>\n",
       "      <th>1</th>\n",
       "      <td>Ohio</td>\n",
       "      <td>2001</td>\n",
       "      <td>2.3</td>\n",
       "    </tr>\n",
       "    <tr>\n",
       "      <th>2</th>\n",
       "      <td>Ohio</td>\n",
       "      <td>2002</td>\n",
       "      <td>2.4</td>\n",
       "    </tr>\n",
       "    <tr>\n",
       "      <th>3</th>\n",
       "      <td>Nevada</td>\n",
       "      <td>2001</td>\n",
       "      <td>20.7</td>\n",
       "    </tr>\n",
       "    <tr>\n",
       "      <th>4</th>\n",
       "      <td>Nevada</td>\n",
       "      <td>2002</td>\n",
       "      <td>3.0</td>\n",
       "    </tr>\n",
       "    <tr>\n",
       "      <th>5</th>\n",
       "      <td>Nevada</td>\n",
       "      <td>2003</td>\n",
       "      <td>4.5</td>\n",
       "    </tr>\n",
       "  </tbody>\n",
       "</table>\n",
       "</div>"
      ],
      "text/plain": [
       "    state  year   pop\n",
       "0    Ohio  2000   1.5\n",
       "1    Ohio  2001   2.3\n",
       "2    Ohio  2002   2.4\n",
       "3  Nevada  2001  20.7\n",
       "4  Nevada  2002   3.0\n",
       "5  Nevada  2003   4.5"
      ]
     },
     "execution_count": 23,
     "metadata": {},
     "output_type": "execute_result"
    }
   ],
   "source": [
    "data = {'state' : ['Ohio', 'Ohio', 'Ohio', 'Nevada', 'Nevada', 'Nevada'],\n",
    "        'year' : [2000, 2001, 2002, 2001, 2002, 2003],\n",
    "        'pop' : [1.5, 2.3, 2.4 ,20.7, 3.0, 4.5,]\n",
    "}\n",
    "frame = pd.DataFrame(data)\n",
    "frame"
   ]
  },
  {
   "cell_type": "markdown",
   "id": "c877155f",
   "metadata": {},
   "source": [
    "# 2) DataFrame: "
   ]
  },
  {
   "cell_type": "code",
   "execution_count": 54,
   "id": "8cac501c",
   "metadata": {},
   "outputs": [
    {
     "data": {
      "text/html": [
       "<div>\n",
       "<style scoped>\n",
       "    .dataframe tbody tr th:only-of-type {\n",
       "        vertical-align: middle;\n",
       "    }\n",
       "\n",
       "    .dataframe tbody tr th {\n",
       "        vertical-align: top;\n",
       "    }\n",
       "\n",
       "    .dataframe thead th {\n",
       "        text-align: right;\n",
       "    }\n",
       "</style>\n",
       "<table border=\"1\" class=\"dataframe\">\n",
       "  <thead>\n",
       "    <tr style=\"text-align: right;\">\n",
       "      <th></th>\n",
       "      <th>state</th>\n",
       "      <th>year</th>\n",
       "      <th>pop</th>\n",
       "    </tr>\n",
       "  </thead>\n",
       "  <tbody>\n",
       "    <tr>\n",
       "      <th>0</th>\n",
       "      <td>Ohio</td>\n",
       "      <td>2000</td>\n",
       "      <td>1.5</td>\n",
       "    </tr>\n",
       "    <tr>\n",
       "      <th>1</th>\n",
       "      <td>Ohio</td>\n",
       "      <td>2001</td>\n",
       "      <td>2.3</td>\n",
       "    </tr>\n",
       "    <tr>\n",
       "      <th>2</th>\n",
       "      <td>Ohio</td>\n",
       "      <td>2002</td>\n",
       "      <td>2.4</td>\n",
       "    </tr>\n",
       "    <tr>\n",
       "      <th>3</th>\n",
       "      <td>Nevada</td>\n",
       "      <td>2001</td>\n",
       "      <td>20.7</td>\n",
       "    </tr>\n",
       "    <tr>\n",
       "      <th>4</th>\n",
       "      <td>Nevada</td>\n",
       "      <td>2002</td>\n",
       "      <td>3.0</td>\n",
       "    </tr>\n",
       "    <tr>\n",
       "      <th>5</th>\n",
       "      <td>Nevada</td>\n",
       "      <td>2003</td>\n",
       "      <td>4.5</td>\n",
       "    </tr>\n",
       "  </tbody>\n",
       "</table>\n",
       "</div>"
      ],
      "text/plain": [
       "    state  year   pop\n",
       "0    Ohio  2000   1.5\n",
       "1    Ohio  2001   2.3\n",
       "2    Ohio  2002   2.4\n",
       "3  Nevada  2001  20.7\n",
       "4  Nevada  2002   3.0\n",
       "5  Nevada  2003   4.5"
      ]
     },
     "execution_count": 54,
     "metadata": {},
     "output_type": "execute_result"
    }
   ],
   "source": [
    "frame "
   ]
  },
  {
   "cell_type": "markdown",
   "id": "fd899ce4",
   "metadata": {},
   "source": [
    "If you are uisng the Jupiter notebook, pandas DataFrame objects will be displayed as a more browser-friendly HTML table. "
   ]
  },
  {
   "cell_type": "markdown",
   "id": "a3e9f158",
   "metadata": {},
   "source": [
    "For large DataFrame, the head method selects only the first five rows: "
   ]
  },
  {
   "cell_type": "code",
   "execution_count": 57,
   "id": "8196da1f",
   "metadata": {},
   "outputs": [
    {
     "data": {
      "text/plain": [
       "'==============='"
      ]
     },
     "execution_count": 57,
     "metadata": {},
     "output_type": "execute_result"
    }
   ],
   "source": [
    "\"===============\""
   ]
  },
  {
   "cell_type": "code",
   "execution_count": 55,
   "id": "ffe52ac7",
   "metadata": {},
   "outputs": [
    {
     "data": {
      "text/html": [
       "<div>\n",
       "<style scoped>\n",
       "    .dataframe tbody tr th:only-of-type {\n",
       "        vertical-align: middle;\n",
       "    }\n",
       "\n",
       "    .dataframe tbody tr th {\n",
       "        vertical-align: top;\n",
       "    }\n",
       "\n",
       "    .dataframe thead th {\n",
       "        text-align: right;\n",
       "    }\n",
       "</style>\n",
       "<table border=\"1\" class=\"dataframe\">\n",
       "  <thead>\n",
       "    <tr style=\"text-align: right;\">\n",
       "      <th></th>\n",
       "      <th>state</th>\n",
       "      <th>year</th>\n",
       "      <th>pop</th>\n",
       "    </tr>\n",
       "  </thead>\n",
       "  <tbody>\n",
       "    <tr>\n",
       "      <th>0</th>\n",
       "      <td>Ohio</td>\n",
       "      <td>2000</td>\n",
       "      <td>1.5</td>\n",
       "    </tr>\n",
       "    <tr>\n",
       "      <th>1</th>\n",
       "      <td>Ohio</td>\n",
       "      <td>2001</td>\n",
       "      <td>2.3</td>\n",
       "    </tr>\n",
       "    <tr>\n",
       "      <th>2</th>\n",
       "      <td>Ohio</td>\n",
       "      <td>2002</td>\n",
       "      <td>2.4</td>\n",
       "    </tr>\n",
       "    <tr>\n",
       "      <th>3</th>\n",
       "      <td>Nevada</td>\n",
       "      <td>2001</td>\n",
       "      <td>20.7</td>\n",
       "    </tr>\n",
       "    <tr>\n",
       "      <th>4</th>\n",
       "      <td>Nevada</td>\n",
       "      <td>2002</td>\n",
       "      <td>3.0</td>\n",
       "    </tr>\n",
       "  </tbody>\n",
       "</table>\n",
       "</div>"
      ],
      "text/plain": [
       "    state  year   pop\n",
       "0    Ohio  2000   1.5\n",
       "1    Ohio  2001   2.3\n",
       "2    Ohio  2002   2.4\n",
       "3  Nevada  2001  20.7\n",
       "4  Nevada  2002   3.0"
      ]
     },
     "execution_count": 55,
     "metadata": {},
     "output_type": "execute_result"
    }
   ],
   "source": [
    "frame.head()"
   ]
  },
  {
   "cell_type": "markdown",
   "id": "cf8fae6e",
   "metadata": {},
   "source": [
    "If you specify a sequence of columns, the DataFrame's columns will be arranged in that order: "
   ]
  },
  {
   "cell_type": "code",
   "execution_count": 58,
   "id": "868f28f7",
   "metadata": {},
   "outputs": [
    {
     "data": {
      "text/html": [
       "<div>\n",
       "<style scoped>\n",
       "    .dataframe tbody tr th:only-of-type {\n",
       "        vertical-align: middle;\n",
       "    }\n",
       "\n",
       "    .dataframe tbody tr th {\n",
       "        vertical-align: top;\n",
       "    }\n",
       "\n",
       "    .dataframe thead th {\n",
       "        text-align: right;\n",
       "    }\n",
       "</style>\n",
       "<table border=\"1\" class=\"dataframe\">\n",
       "  <thead>\n",
       "    <tr style=\"text-align: right;\">\n",
       "      <th></th>\n",
       "      <th>year</th>\n",
       "      <th>state</th>\n",
       "      <th>pop</th>\n",
       "    </tr>\n",
       "  </thead>\n",
       "  <tbody>\n",
       "    <tr>\n",
       "      <th>0</th>\n",
       "      <td>2000</td>\n",
       "      <td>Ohio</td>\n",
       "      <td>1.5</td>\n",
       "    </tr>\n",
       "    <tr>\n",
       "      <th>1</th>\n",
       "      <td>2001</td>\n",
       "      <td>Ohio</td>\n",
       "      <td>2.3</td>\n",
       "    </tr>\n",
       "    <tr>\n",
       "      <th>2</th>\n",
       "      <td>2002</td>\n",
       "      <td>Ohio</td>\n",
       "      <td>2.4</td>\n",
       "    </tr>\n",
       "    <tr>\n",
       "      <th>3</th>\n",
       "      <td>2001</td>\n",
       "      <td>Nevada</td>\n",
       "      <td>20.7</td>\n",
       "    </tr>\n",
       "    <tr>\n",
       "      <th>4</th>\n",
       "      <td>2002</td>\n",
       "      <td>Nevada</td>\n",
       "      <td>3.0</td>\n",
       "    </tr>\n",
       "    <tr>\n",
       "      <th>5</th>\n",
       "      <td>2003</td>\n",
       "      <td>Nevada</td>\n",
       "      <td>4.5</td>\n",
       "    </tr>\n",
       "  </tbody>\n",
       "</table>\n",
       "</div>"
      ],
      "text/plain": [
       "   year   state   pop\n",
       "0  2000    Ohio   1.5\n",
       "1  2001    Ohio   2.3\n",
       "2  2002    Ohio   2.4\n",
       "3  2001  Nevada  20.7\n",
       "4  2002  Nevada   3.0\n",
       "5  2003  Nevada   4.5"
      ]
     },
     "execution_count": 58,
     "metadata": {},
     "output_type": "execute_result"
    }
   ],
   "source": [
    "pd.DataFrame(data, columns = ['year', 'state', 'pop'])"
   ]
  },
  {
   "cell_type": "markdown",
   "id": "cc7e0643",
   "metadata": {},
   "source": [
    "If you pass a column that isn't contained in the dict. It will appear with missing values in the result: "
   ]
  },
  {
   "cell_type": "code",
   "execution_count": 59,
   "id": "913fbedd",
   "metadata": {},
   "outputs": [],
   "source": [
    "frame2 = pd.DataFrame(data, columns = ['year', 'state', 'pop', 'debt'],\n",
    "                             index = ['one', 'two', 'three', 'four', 'five', 'six'])"
   ]
  },
  {
   "cell_type": "code",
   "execution_count": 60,
   "id": "68e1fd57",
   "metadata": {},
   "outputs": [
    {
     "data": {
      "text/html": [
       "<div>\n",
       "<style scoped>\n",
       "    .dataframe tbody tr th:only-of-type {\n",
       "        vertical-align: middle;\n",
       "    }\n",
       "\n",
       "    .dataframe tbody tr th {\n",
       "        vertical-align: top;\n",
       "    }\n",
       "\n",
       "    .dataframe thead th {\n",
       "        text-align: right;\n",
       "    }\n",
       "</style>\n",
       "<table border=\"1\" class=\"dataframe\">\n",
       "  <thead>\n",
       "    <tr style=\"text-align: right;\">\n",
       "      <th></th>\n",
       "      <th>year</th>\n",
       "      <th>state</th>\n",
       "      <th>pop</th>\n",
       "      <th>debt</th>\n",
       "    </tr>\n",
       "  </thead>\n",
       "  <tbody>\n",
       "    <tr>\n",
       "      <th>one</th>\n",
       "      <td>2000</td>\n",
       "      <td>Ohio</td>\n",
       "      <td>1.5</td>\n",
       "      <td>NaN</td>\n",
       "    </tr>\n",
       "    <tr>\n",
       "      <th>two</th>\n",
       "      <td>2001</td>\n",
       "      <td>Ohio</td>\n",
       "      <td>2.3</td>\n",
       "      <td>NaN</td>\n",
       "    </tr>\n",
       "    <tr>\n",
       "      <th>three</th>\n",
       "      <td>2002</td>\n",
       "      <td>Ohio</td>\n",
       "      <td>2.4</td>\n",
       "      <td>NaN</td>\n",
       "    </tr>\n",
       "    <tr>\n",
       "      <th>four</th>\n",
       "      <td>2001</td>\n",
       "      <td>Nevada</td>\n",
       "      <td>20.7</td>\n",
       "      <td>NaN</td>\n",
       "    </tr>\n",
       "    <tr>\n",
       "      <th>five</th>\n",
       "      <td>2002</td>\n",
       "      <td>Nevada</td>\n",
       "      <td>3.0</td>\n",
       "      <td>NaN</td>\n",
       "    </tr>\n",
       "    <tr>\n",
       "      <th>six</th>\n",
       "      <td>2003</td>\n",
       "      <td>Nevada</td>\n",
       "      <td>4.5</td>\n",
       "      <td>NaN</td>\n",
       "    </tr>\n",
       "  </tbody>\n",
       "</table>\n",
       "</div>"
      ],
      "text/plain": [
       "       year   state   pop debt\n",
       "one    2000    Ohio   1.5  NaN\n",
       "two    2001    Ohio   2.3  NaN\n",
       "three  2002    Ohio   2.4  NaN\n",
       "four   2001  Nevada  20.7  NaN\n",
       "five   2002  Nevada   3.0  NaN\n",
       "six    2003  Nevada   4.5  NaN"
      ]
     },
     "execution_count": 60,
     "metadata": {},
     "output_type": "execute_result"
    }
   ],
   "source": [
    "frame2"
   ]
  },
  {
   "cell_type": "code",
   "execution_count": 61,
   "id": "6c89eb61",
   "metadata": {},
   "outputs": [
    {
     "data": {
      "text/plain": [
       "Index(['year', 'state', 'pop', 'debt'], dtype='object')"
      ]
     },
     "execution_count": 61,
     "metadata": {},
     "output_type": "execute_result"
    }
   ],
   "source": [
    "frame2.columns"
   ]
  },
  {
   "cell_type": "code",
   "execution_count": 62,
   "id": "d7408592",
   "metadata": {},
   "outputs": [
    {
     "data": {
      "text/plain": [
       "array([[2000, 'Ohio', 1.5, nan],\n",
       "       [2001, 'Ohio', 2.3, nan],\n",
       "       [2002, 'Ohio', 2.4, nan],\n",
       "       [2001, 'Nevada', 20.7, nan],\n",
       "       [2002, 'Nevada', 3.0, nan],\n",
       "       [2003, 'Nevada', 4.5, nan]], dtype=object)"
      ]
     },
     "execution_count": 62,
     "metadata": {},
     "output_type": "execute_result"
    }
   ],
   "source": [
    "frame2.values"
   ]
  },
  {
   "cell_type": "code",
   "execution_count": 63,
   "id": "53009387",
   "metadata": {},
   "outputs": [
    {
     "data": {
      "text/plain": [
       "one        Ohio\n",
       "two        Ohio\n",
       "three      Ohio\n",
       "four     Nevada\n",
       "five     Nevada\n",
       "six      Nevada\n",
       "Name: state, dtype: object"
      ]
     },
     "execution_count": 63,
     "metadata": {},
     "output_type": "execute_result"
    }
   ],
   "source": [
    "frame2['state']"
   ]
  },
  {
   "cell_type": "code",
   "execution_count": 64,
   "id": "ab908891",
   "metadata": {},
   "outputs": [
    {
     "data": {
      "text/plain": [
       "one      2000\n",
       "two      2001\n",
       "three    2002\n",
       "four     2001\n",
       "five     2002\n",
       "six      2003\n",
       "Name: year, dtype: int64"
      ]
     },
     "execution_count": 64,
     "metadata": {},
     "output_type": "execute_result"
    }
   ],
   "source": [
    "frame2['year']"
   ]
  },
  {
   "cell_type": "code",
   "execution_count": 65,
   "id": "6aadda2f",
   "metadata": {},
   "outputs": [
    {
     "data": {
      "text/plain": [
       "one      2000\n",
       "two      2001\n",
       "three    2002\n",
       "four     2001\n",
       "five     2002\n",
       "six      2003\n",
       "Name: year, dtype: int64"
      ]
     },
     "execution_count": 65,
     "metadata": {},
     "output_type": "execute_result"
    }
   ],
   "source": [
    "frame2.year"
   ]
  },
  {
   "cell_type": "markdown",
   "id": "bb87264f",
   "metadata": {},
   "source": [
    "Rows can also be retrieved by position or name with the special loc attribute (much on this later): "
   ]
  },
  {
   "cell_type": "code",
   "execution_count": 66,
   "id": "796dd925",
   "metadata": {},
   "outputs": [
    {
     "data": {
      "text/plain": [
       "year     2002\n",
       "state    Ohio\n",
       "pop       2.4\n",
       "debt      NaN\n",
       "Name: three, dtype: object"
      ]
     },
     "execution_count": 66,
     "metadata": {},
     "output_type": "execute_result"
    }
   ],
   "source": [
    "frame2.loc['three']"
   ]
  },
  {
   "cell_type": "code",
   "execution_count": 67,
   "id": "f45f5465",
   "metadata": {},
   "outputs": [
    {
     "data": {
      "text/plain": [
       "year     2000\n",
       "state    Ohio\n",
       "pop       1.5\n",
       "debt      NaN\n",
       "Name: one, dtype: object"
      ]
     },
     "execution_count": 67,
     "metadata": {},
     "output_type": "execute_result"
    }
   ],
   "source": [
    "frame2.loc['one']"
   ]
  },
  {
   "cell_type": "code",
   "execution_count": 68,
   "id": "bccb078e",
   "metadata": {},
   "outputs": [
    {
     "data": {
      "text/plain": [
       "year       2003\n",
       "state    Nevada\n",
       "pop         4.5\n",
       "debt        NaN\n",
       "Name: six, dtype: object"
      ]
     },
     "execution_count": 68,
     "metadata": {},
     "output_type": "execute_result"
    }
   ],
   "source": [
    "frame2.loc['six']"
   ]
  },
  {
   "cell_type": "markdown",
   "id": "7360b110",
   "metadata": {},
   "source": [
    "Columns can be modified by assignment. For example, the empty 'debt' column could be assigned a scalar value or an array of values: "
   ]
  },
  {
   "cell_type": "code",
   "execution_count": 70,
   "id": "c373eca2",
   "metadata": {},
   "outputs": [],
   "source": [
    "frame2['debt'] = 16.5 "
   ]
  },
  {
   "cell_type": "code",
   "execution_count": 71,
   "id": "c8b0e501",
   "metadata": {},
   "outputs": [
    {
     "data": {
      "text/html": [
       "<div>\n",
       "<style scoped>\n",
       "    .dataframe tbody tr th:only-of-type {\n",
       "        vertical-align: middle;\n",
       "    }\n",
       "\n",
       "    .dataframe tbody tr th {\n",
       "        vertical-align: top;\n",
       "    }\n",
       "\n",
       "    .dataframe thead th {\n",
       "        text-align: right;\n",
       "    }\n",
       "</style>\n",
       "<table border=\"1\" class=\"dataframe\">\n",
       "  <thead>\n",
       "    <tr style=\"text-align: right;\">\n",
       "      <th></th>\n",
       "      <th>year</th>\n",
       "      <th>state</th>\n",
       "      <th>pop</th>\n",
       "      <th>debt</th>\n",
       "    </tr>\n",
       "  </thead>\n",
       "  <tbody>\n",
       "    <tr>\n",
       "      <th>one</th>\n",
       "      <td>2000</td>\n",
       "      <td>Ohio</td>\n",
       "      <td>1.5</td>\n",
       "      <td>16.5</td>\n",
       "    </tr>\n",
       "    <tr>\n",
       "      <th>two</th>\n",
       "      <td>2001</td>\n",
       "      <td>Ohio</td>\n",
       "      <td>2.3</td>\n",
       "      <td>16.5</td>\n",
       "    </tr>\n",
       "    <tr>\n",
       "      <th>three</th>\n",
       "      <td>2002</td>\n",
       "      <td>Ohio</td>\n",
       "      <td>2.4</td>\n",
       "      <td>16.5</td>\n",
       "    </tr>\n",
       "    <tr>\n",
       "      <th>four</th>\n",
       "      <td>2001</td>\n",
       "      <td>Nevada</td>\n",
       "      <td>20.7</td>\n",
       "      <td>16.5</td>\n",
       "    </tr>\n",
       "    <tr>\n",
       "      <th>five</th>\n",
       "      <td>2002</td>\n",
       "      <td>Nevada</td>\n",
       "      <td>3.0</td>\n",
       "      <td>16.5</td>\n",
       "    </tr>\n",
       "    <tr>\n",
       "      <th>six</th>\n",
       "      <td>2003</td>\n",
       "      <td>Nevada</td>\n",
       "      <td>4.5</td>\n",
       "      <td>16.5</td>\n",
       "    </tr>\n",
       "  </tbody>\n",
       "</table>\n",
       "</div>"
      ],
      "text/plain": [
       "       year   state   pop  debt\n",
       "one    2000    Ohio   1.5  16.5\n",
       "two    2001    Ohio   2.3  16.5\n",
       "three  2002    Ohio   2.4  16.5\n",
       "four   2001  Nevada  20.7  16.5\n",
       "five   2002  Nevada   3.0  16.5\n",
       "six    2003  Nevada   4.5  16.5"
      ]
     },
     "execution_count": 71,
     "metadata": {},
     "output_type": "execute_result"
    }
   ],
   "source": [
    "frame2"
   ]
  },
  {
   "cell_type": "code",
   "execution_count": 72,
   "id": "aa42f556",
   "metadata": {},
   "outputs": [],
   "source": [
    "frame2['debt'] = np.arange(6.)"
   ]
  },
  {
   "cell_type": "code",
   "execution_count": 73,
   "id": "80b40ade",
   "metadata": {},
   "outputs": [
    {
     "data": {
      "text/html": [
       "<div>\n",
       "<style scoped>\n",
       "    .dataframe tbody tr th:only-of-type {\n",
       "        vertical-align: middle;\n",
       "    }\n",
       "\n",
       "    .dataframe tbody tr th {\n",
       "        vertical-align: top;\n",
       "    }\n",
       "\n",
       "    .dataframe thead th {\n",
       "        text-align: right;\n",
       "    }\n",
       "</style>\n",
       "<table border=\"1\" class=\"dataframe\">\n",
       "  <thead>\n",
       "    <tr style=\"text-align: right;\">\n",
       "      <th></th>\n",
       "      <th>year</th>\n",
       "      <th>state</th>\n",
       "      <th>pop</th>\n",
       "      <th>debt</th>\n",
       "    </tr>\n",
       "  </thead>\n",
       "  <tbody>\n",
       "    <tr>\n",
       "      <th>one</th>\n",
       "      <td>2000</td>\n",
       "      <td>Ohio</td>\n",
       "      <td>1.5</td>\n",
       "      <td>0.0</td>\n",
       "    </tr>\n",
       "    <tr>\n",
       "      <th>two</th>\n",
       "      <td>2001</td>\n",
       "      <td>Ohio</td>\n",
       "      <td>2.3</td>\n",
       "      <td>1.0</td>\n",
       "    </tr>\n",
       "    <tr>\n",
       "      <th>three</th>\n",
       "      <td>2002</td>\n",
       "      <td>Ohio</td>\n",
       "      <td>2.4</td>\n",
       "      <td>2.0</td>\n",
       "    </tr>\n",
       "    <tr>\n",
       "      <th>four</th>\n",
       "      <td>2001</td>\n",
       "      <td>Nevada</td>\n",
       "      <td>20.7</td>\n",
       "      <td>3.0</td>\n",
       "    </tr>\n",
       "    <tr>\n",
       "      <th>five</th>\n",
       "      <td>2002</td>\n",
       "      <td>Nevada</td>\n",
       "      <td>3.0</td>\n",
       "      <td>4.0</td>\n",
       "    </tr>\n",
       "    <tr>\n",
       "      <th>six</th>\n",
       "      <td>2003</td>\n",
       "      <td>Nevada</td>\n",
       "      <td>4.5</td>\n",
       "      <td>5.0</td>\n",
       "    </tr>\n",
       "  </tbody>\n",
       "</table>\n",
       "</div>"
      ],
      "text/plain": [
       "       year   state   pop  debt\n",
       "one    2000    Ohio   1.5   0.0\n",
       "two    2001    Ohio   2.3   1.0\n",
       "three  2002    Ohio   2.4   2.0\n",
       "four   2001  Nevada  20.7   3.0\n",
       "five   2002  Nevada   3.0   4.0\n",
       "six    2003  Nevada   4.5   5.0"
      ]
     },
     "execution_count": 73,
     "metadata": {},
     "output_type": "execute_result"
    }
   ],
   "source": [
    "frame2"
   ]
  },
  {
   "cell_type": "markdown",
   "id": "011120ea",
   "metadata": {},
   "source": [
    "When you are assigning lists or arrays to a column, the value's length must match the length of the DataFrame. If you assign a Series, its label will be realigned exactly to the DataFrame's index, inserting missing values in any holes: "
   ]
  },
  {
   "cell_type": "code",
   "execution_count": 74,
   "id": "c7005b24",
   "metadata": {},
   "outputs": [],
   "source": [
    "val = pd.Series([-1.2, -3.4, 1.8], index = ['two', 'four', 'five'])"
   ]
  },
  {
   "cell_type": "code",
   "execution_count": 75,
   "id": "0ab96ced",
   "metadata": {},
   "outputs": [
    {
     "data": {
      "text/plain": [
       "two    -1.2\n",
       "four   -3.4\n",
       "five    1.8\n",
       "dtype: float64"
      ]
     },
     "execution_count": 75,
     "metadata": {},
     "output_type": "execute_result"
    }
   ],
   "source": [
    "val "
   ]
  },
  {
   "cell_type": "code",
   "execution_count": 76,
   "id": "c3865f22",
   "metadata": {},
   "outputs": [],
   "source": [
    "frame2['debt'] = val "
   ]
  },
  {
   "cell_type": "code",
   "execution_count": 77,
   "id": "e8d29cd6",
   "metadata": {},
   "outputs": [
    {
     "data": {
      "text/html": [
       "<div>\n",
       "<style scoped>\n",
       "    .dataframe tbody tr th:only-of-type {\n",
       "        vertical-align: middle;\n",
       "    }\n",
       "\n",
       "    .dataframe tbody tr th {\n",
       "        vertical-align: top;\n",
       "    }\n",
       "\n",
       "    .dataframe thead th {\n",
       "        text-align: right;\n",
       "    }\n",
       "</style>\n",
       "<table border=\"1\" class=\"dataframe\">\n",
       "  <thead>\n",
       "    <tr style=\"text-align: right;\">\n",
       "      <th></th>\n",
       "      <th>year</th>\n",
       "      <th>state</th>\n",
       "      <th>pop</th>\n",
       "      <th>debt</th>\n",
       "    </tr>\n",
       "  </thead>\n",
       "  <tbody>\n",
       "    <tr>\n",
       "      <th>one</th>\n",
       "      <td>2000</td>\n",
       "      <td>Ohio</td>\n",
       "      <td>1.5</td>\n",
       "      <td>NaN</td>\n",
       "    </tr>\n",
       "    <tr>\n",
       "      <th>two</th>\n",
       "      <td>2001</td>\n",
       "      <td>Ohio</td>\n",
       "      <td>2.3</td>\n",
       "      <td>-1.2</td>\n",
       "    </tr>\n",
       "    <tr>\n",
       "      <th>three</th>\n",
       "      <td>2002</td>\n",
       "      <td>Ohio</td>\n",
       "      <td>2.4</td>\n",
       "      <td>NaN</td>\n",
       "    </tr>\n",
       "    <tr>\n",
       "      <th>four</th>\n",
       "      <td>2001</td>\n",
       "      <td>Nevada</td>\n",
       "      <td>20.7</td>\n",
       "      <td>-3.4</td>\n",
       "    </tr>\n",
       "    <tr>\n",
       "      <th>five</th>\n",
       "      <td>2002</td>\n",
       "      <td>Nevada</td>\n",
       "      <td>3.0</td>\n",
       "      <td>1.8</td>\n",
       "    </tr>\n",
       "    <tr>\n",
       "      <th>six</th>\n",
       "      <td>2003</td>\n",
       "      <td>Nevada</td>\n",
       "      <td>4.5</td>\n",
       "      <td>NaN</td>\n",
       "    </tr>\n",
       "  </tbody>\n",
       "</table>\n",
       "</div>"
      ],
      "text/plain": [
       "       year   state   pop  debt\n",
       "one    2000    Ohio   1.5   NaN\n",
       "two    2001    Ohio   2.3  -1.2\n",
       "three  2002    Ohio   2.4   NaN\n",
       "four   2001  Nevada  20.7  -3.4\n",
       "five   2002  Nevada   3.0   1.8\n",
       "six    2003  Nevada   4.5   NaN"
      ]
     },
     "execution_count": 77,
     "metadata": {},
     "output_type": "execute_result"
    }
   ],
   "source": [
    "frame2 "
   ]
  },
  {
   "cell_type": "markdown",
   "id": "c20b8667",
   "metadata": {},
   "source": [
    "Assigning a column that doesn't exist will create a new column. The del keyword will delete columns as with a dict. "
   ]
  },
  {
   "cell_type": "markdown",
   "id": "8e94a145",
   "metadata": {},
   "source": [
    "As an example, of del. I first add a new column of boolean values whare the state column equals 'Ohio': "
   ]
  },
  {
   "cell_type": "code",
   "execution_count": 78,
   "id": "cf2ec41e",
   "metadata": {},
   "outputs": [],
   "source": [
    "frame2['eastern'] = frame2.state == 'Ohio'"
   ]
  },
  {
   "cell_type": "code",
   "execution_count": 79,
   "id": "2d22f3aa",
   "metadata": {},
   "outputs": [
    {
     "data": {
      "text/html": [
       "<div>\n",
       "<style scoped>\n",
       "    .dataframe tbody tr th:only-of-type {\n",
       "        vertical-align: middle;\n",
       "    }\n",
       "\n",
       "    .dataframe tbody tr th {\n",
       "        vertical-align: top;\n",
       "    }\n",
       "\n",
       "    .dataframe thead th {\n",
       "        text-align: right;\n",
       "    }\n",
       "</style>\n",
       "<table border=\"1\" class=\"dataframe\">\n",
       "  <thead>\n",
       "    <tr style=\"text-align: right;\">\n",
       "      <th></th>\n",
       "      <th>year</th>\n",
       "      <th>state</th>\n",
       "      <th>pop</th>\n",
       "      <th>debt</th>\n",
       "      <th>eastern</th>\n",
       "    </tr>\n",
       "  </thead>\n",
       "  <tbody>\n",
       "    <tr>\n",
       "      <th>one</th>\n",
       "      <td>2000</td>\n",
       "      <td>Ohio</td>\n",
       "      <td>1.5</td>\n",
       "      <td>NaN</td>\n",
       "      <td>True</td>\n",
       "    </tr>\n",
       "    <tr>\n",
       "      <th>two</th>\n",
       "      <td>2001</td>\n",
       "      <td>Ohio</td>\n",
       "      <td>2.3</td>\n",
       "      <td>-1.2</td>\n",
       "      <td>True</td>\n",
       "    </tr>\n",
       "    <tr>\n",
       "      <th>three</th>\n",
       "      <td>2002</td>\n",
       "      <td>Ohio</td>\n",
       "      <td>2.4</td>\n",
       "      <td>NaN</td>\n",
       "      <td>True</td>\n",
       "    </tr>\n",
       "    <tr>\n",
       "      <th>four</th>\n",
       "      <td>2001</td>\n",
       "      <td>Nevada</td>\n",
       "      <td>20.7</td>\n",
       "      <td>-3.4</td>\n",
       "      <td>False</td>\n",
       "    </tr>\n",
       "    <tr>\n",
       "      <th>five</th>\n",
       "      <td>2002</td>\n",
       "      <td>Nevada</td>\n",
       "      <td>3.0</td>\n",
       "      <td>1.8</td>\n",
       "      <td>False</td>\n",
       "    </tr>\n",
       "    <tr>\n",
       "      <th>six</th>\n",
       "      <td>2003</td>\n",
       "      <td>Nevada</td>\n",
       "      <td>4.5</td>\n",
       "      <td>NaN</td>\n",
       "      <td>False</td>\n",
       "    </tr>\n",
       "  </tbody>\n",
       "</table>\n",
       "</div>"
      ],
      "text/plain": [
       "       year   state   pop  debt  eastern\n",
       "one    2000    Ohio   1.5   NaN     True\n",
       "two    2001    Ohio   2.3  -1.2     True\n",
       "three  2002    Ohio   2.4   NaN     True\n",
       "four   2001  Nevada  20.7  -3.4    False\n",
       "five   2002  Nevada   3.0   1.8    False\n",
       "six    2003  Nevada   4.5   NaN    False"
      ]
     },
     "execution_count": 79,
     "metadata": {},
     "output_type": "execute_result"
    }
   ],
   "source": [
    "frame2"
   ]
  },
  {
   "cell_type": "code",
   "execution_count": 80,
   "id": "b1b1ec96",
   "metadata": {},
   "outputs": [],
   "source": [
    "del frame2['eastern']"
   ]
  },
  {
   "cell_type": "code",
   "execution_count": 81,
   "id": "cc316e19",
   "metadata": {},
   "outputs": [
    {
     "data": {
      "text/plain": [
       "Index(['year', 'state', 'pop', 'debt'], dtype='object')"
      ]
     },
     "execution_count": 81,
     "metadata": {},
     "output_type": "execute_result"
    }
   ],
   "source": [
    "frame2.columns"
   ]
  },
  {
   "cell_type": "markdown",
   "id": "7098052c",
   "metadata": {},
   "source": [
    "Another common form of data is a nested dict of dicts: "
   ]
  },
  {
   "cell_type": "code",
   "execution_count": 83,
   "id": "8f98d3da",
   "metadata": {},
   "outputs": [],
   "source": [
    "pop = {'Nevada' : {2001: 2.4, 2002: 3.1},\n",
    "      'Ohio' : {2000 : 1.5, 2001 : 3.2, 2002 : 3.7}}\n",
    "frame3 = pd.DataFrame(pop)"
   ]
  },
  {
   "cell_type": "code",
   "execution_count": 84,
   "id": "93453068",
   "metadata": {},
   "outputs": [
    {
     "data": {
      "text/html": [
       "<div>\n",
       "<style scoped>\n",
       "    .dataframe tbody tr th:only-of-type {\n",
       "        vertical-align: middle;\n",
       "    }\n",
       "\n",
       "    .dataframe tbody tr th {\n",
       "        vertical-align: top;\n",
       "    }\n",
       "\n",
       "    .dataframe thead th {\n",
       "        text-align: right;\n",
       "    }\n",
       "</style>\n",
       "<table border=\"1\" class=\"dataframe\">\n",
       "  <thead>\n",
       "    <tr style=\"text-align: right;\">\n",
       "      <th></th>\n",
       "      <th>Nevada</th>\n",
       "      <th>Ohio</th>\n",
       "    </tr>\n",
       "  </thead>\n",
       "  <tbody>\n",
       "    <tr>\n",
       "      <th>2001</th>\n",
       "      <td>2.4</td>\n",
       "      <td>3.2</td>\n",
       "    </tr>\n",
       "    <tr>\n",
       "      <th>2002</th>\n",
       "      <td>3.1</td>\n",
       "      <td>3.7</td>\n",
       "    </tr>\n",
       "    <tr>\n",
       "      <th>2000</th>\n",
       "      <td>NaN</td>\n",
       "      <td>1.5</td>\n",
       "    </tr>\n",
       "  </tbody>\n",
       "</table>\n",
       "</div>"
      ],
      "text/plain": [
       "      Nevada  Ohio\n",
       "2001     2.4   3.2\n",
       "2002     3.1   3.7\n",
       "2000     NaN   1.5"
      ]
     },
     "execution_count": 84,
     "metadata": {},
     "output_type": "execute_result"
    }
   ],
   "source": [
    "frame3"
   ]
  },
  {
   "cell_type": "code",
   "execution_count": 85,
   "id": "15e94156",
   "metadata": {},
   "outputs": [
    {
     "data": {
      "text/plain": [
       "array([[2.4, 3.2],\n",
       "       [3.1, 3.7],\n",
       "       [nan, 1.5]])"
      ]
     },
     "execution_count": 85,
     "metadata": {},
     "output_type": "execute_result"
    }
   ],
   "source": [
    "frame3.values"
   ]
  },
  {
   "cell_type": "markdown",
   "id": "db91fa48",
   "metadata": {},
   "source": [
    "# Table 5-1. Possible data inputs to the DataFrame constructor\n",
    "\n",
    "# 2D ndarray:A matrix of data, passing optional row and column labels\n",
    "# Dictionary of arrays, lists, ortuples : Each sequence becomes a column in the DataFrame; all sequences must be the same length\n",
    "# NumPy structured/record array : Treated as the “dictionary of arrays” case\n",
    "# Dictionary of Series Each value becomes a column; indexes from each Series are unioned together to form the result’s row index if no explicit index is passed\n",
    "# Dictionary of dictionaries Each inner dictionary becomes a column; keys are unioned to form the row index as in the “dictionary of Series” case\n",
    "# List of dictionaries or Series :  Each item becomes a row in the DataFrame; unions of dictionary keys or Series indexes become the DataFrame’s column labels\n",
    "# List of lists or tuples : Treated as the “2D ndarray” case. Another DataFrame The DataFrame’s indexes are used unless different ones are passed\n",
    "# NumPy MaskedArray :  Like the “2D ndarray” case except masked values are missing in the DataFrame result"
   ]
  },
  {
   "cell_type": "markdown",
   "id": "0fc2e6e8",
   "metadata": {},
   "source": [
    "# Index Object "
   ]
  },
  {
   "cell_type": "markdown",
   "id": "f234ad74",
   "metadata": {},
   "source": [
    "Panda's Index objects are responsible for holding the axis labels and other metadata (like the axis name or names). Any array of other sequence of labels you use when constructing a Series or DataFrame is internally converted to an Index : "
   ]
  },
  {
   "cell_type": "code",
   "execution_count": 86,
   "id": "ba35211f",
   "metadata": {},
   "outputs": [],
   "source": [
    "obj = pd.Series(range(3), index = ['a', 'b', 'c'])"
   ]
  },
  {
   "cell_type": "code",
   "execution_count": 87,
   "id": "7ed8205c",
   "metadata": {},
   "outputs": [],
   "source": [
    "index = obj.index "
   ]
  },
  {
   "cell_type": "code",
   "execution_count": 88,
   "id": "574745d9",
   "metadata": {},
   "outputs": [
    {
     "data": {
      "text/plain": [
       "Index(['a', 'b', 'c'], dtype='object')"
      ]
     },
     "execution_count": 88,
     "metadata": {},
     "output_type": "execute_result"
    }
   ],
   "source": [
    "index "
   ]
  },
  {
   "cell_type": "code",
   "execution_count": 89,
   "id": "48be7167",
   "metadata": {},
   "outputs": [
    {
     "data": {
      "text/plain": [
       "Index(['b', 'c'], dtype='object')"
      ]
     },
     "execution_count": 89,
     "metadata": {},
     "output_type": "execute_result"
    }
   ],
   "source": [
    "index [1:]\n"
   ]
  },
  {
   "cell_type": "markdown",
   "id": "8d84d871",
   "metadata": {},
   "source": [
    "# 2) Essential functionality : "
   ]
  },
  {
   "cell_type": "markdown",
   "id": "dda861f6",
   "metadata": {},
   "source": [
    "# Reindexing"
   ]
  },
  {
   "cell_type": "markdown",
   "id": "341e3da6",
   "metadata": {},
   "source": [
    "An important method on pandas objects is reindex, which means to create a new object with the data conformed to a new index. Consider an example: "
   ]
  },
  {
   "cell_type": "code",
   "execution_count": 90,
   "id": "3fc35026",
   "metadata": {},
   "outputs": [
    {
     "data": {
      "text/plain": [
       "a    0\n",
       "b    1\n",
       "c    2\n",
       "dtype: int64"
      ]
     },
     "execution_count": 90,
     "metadata": {},
     "output_type": "execute_result"
    }
   ],
   "source": [
    "obj - pd.Series([4.5, 7.2, -4.3, 3.6], index = ['d', 'b', 'a', 'c'])\n",
    "obj"
   ]
  },
  {
   "cell_type": "markdown",
   "id": "db2908e5",
   "metadata": {},
   "source": [
    "Calling reindex on this Series rearranges the data according to the new index, introducing missing values if any index values were not already preent: "
   ]
  },
  {
   "cell_type": "code",
   "execution_count": 91,
   "id": "67914ff2",
   "metadata": {},
   "outputs": [
    {
     "data": {
      "text/plain": [
       "a    0.0\n",
       "b    1.0\n",
       "c    2.0\n",
       "d    NaN\n",
       "e    NaN\n",
       "dtype: float64"
      ]
     },
     "execution_count": 91,
     "metadata": {},
     "output_type": "execute_result"
    }
   ],
   "source": [
    "obj2 = obj.reindex(['a', 'b', 'c', 'd', 'e'])\n",
    "obj2 "
   ]
  },
  {
   "cell_type": "markdown",
   "id": "27af4660",
   "metadata": {},
   "source": [
    "For ordered data like time series, It may be desirable to do some interpolation or filling or values when reindexing. The method option allows us to do this, using a method such as ffill, which forward-fills the values: "
   ]
  },
  {
   "cell_type": "code",
   "execution_count": 92,
   "id": "e930c909",
   "metadata": {},
   "outputs": [],
   "source": [
    "obj3 = pd.Series(['blue', 'purple', 'yellow'], index = [0,2,4])"
   ]
  },
  {
   "cell_type": "code",
   "execution_count": 94,
   "id": "c1c05d8d",
   "metadata": {},
   "outputs": [
    {
     "data": {
      "text/plain": [
       "0      blue\n",
       "2    purple\n",
       "4    yellow\n",
       "dtype: object"
      ]
     },
     "execution_count": 94,
     "metadata": {},
     "output_type": "execute_result"
    }
   ],
   "source": [
    "obj3"
   ]
  },
  {
   "cell_type": "code",
   "execution_count": 95,
   "id": "b48cf472",
   "metadata": {},
   "outputs": [
    {
     "data": {
      "text/plain": [
       "0      blue\n",
       "1      blue\n",
       "2    purple\n",
       "3    purple\n",
       "4    yellow\n",
       "5    yellow\n",
       "dtype: object"
      ]
     },
     "execution_count": 95,
     "metadata": {},
     "output_type": "execute_result"
    }
   ],
   "source": [
    "obj3.reindex(range(6), method = 'ffill')"
   ]
  },
  {
   "cell_type": "markdown",
   "id": "248da065",
   "metadata": {},
   "source": [
    "With DataFrame, reindex can alter either the (row) index, columns, or both. When passed only a sequence, it reindexes the rows in the result: "
   ]
  },
  {
   "cell_type": "code",
   "execution_count": 5,
   "id": "b9c7ba4e",
   "metadata": {},
   "outputs": [
    {
     "data": {
      "text/html": [
       "<div>\n",
       "<style scoped>\n",
       "    .dataframe tbody tr th:only-of-type {\n",
       "        vertical-align: middle;\n",
       "    }\n",
       "\n",
       "    .dataframe tbody tr th {\n",
       "        vertical-align: top;\n",
       "    }\n",
       "\n",
       "    .dataframe thead th {\n",
       "        text-align: right;\n",
       "    }\n",
       "</style>\n",
       "<table border=\"1\" class=\"dataframe\">\n",
       "  <thead>\n",
       "    <tr style=\"text-align: right;\">\n",
       "      <th></th>\n",
       "      <th>Ohio</th>\n",
       "      <th>Texas</th>\n",
       "      <th>California</th>\n",
       "    </tr>\n",
       "  </thead>\n",
       "  <tbody>\n",
       "    <tr>\n",
       "      <th>a</th>\n",
       "      <td>0</td>\n",
       "      <td>1</td>\n",
       "      <td>2</td>\n",
       "    </tr>\n",
       "    <tr>\n",
       "      <th>c</th>\n",
       "      <td>3</td>\n",
       "      <td>4</td>\n",
       "      <td>5</td>\n",
       "    </tr>\n",
       "    <tr>\n",
       "      <th>d</th>\n",
       "      <td>6</td>\n",
       "      <td>7</td>\n",
       "      <td>8</td>\n",
       "    </tr>\n",
       "  </tbody>\n",
       "</table>\n",
       "</div>"
      ],
      "text/plain": [
       "   Ohio  Texas  California\n",
       "a     0      1           2\n",
       "c     3      4           5\n",
       "d     6      7           8"
      ]
     },
     "execution_count": 5,
     "metadata": {},
     "output_type": "execute_result"
    }
   ],
   "source": [
    "frame = pd.DataFrame(np.arange(9).reshape((3,3)), \n",
    "                    index = ['a', 'c', 'd'], \n",
    "                    columns = ['Ohio', 'Texas', 'California'])\n",
    "frame "
   ]
  },
  {
   "cell_type": "code",
   "execution_count": 9,
   "id": "b23ddf95",
   "metadata": {},
   "outputs": [],
   "source": [
    "frame2 = frame.reindex(['a', 'b', 'c', 'd'])"
   ]
  },
  {
   "cell_type": "code",
   "execution_count": 10,
   "id": "9606a68a",
   "metadata": {},
   "outputs": [
    {
     "data": {
      "text/html": [
       "<div>\n",
       "<style scoped>\n",
       "    .dataframe tbody tr th:only-of-type {\n",
       "        vertical-align: middle;\n",
       "    }\n",
       "\n",
       "    .dataframe tbody tr th {\n",
       "        vertical-align: top;\n",
       "    }\n",
       "\n",
       "    .dataframe thead th {\n",
       "        text-align: right;\n",
       "    }\n",
       "</style>\n",
       "<table border=\"1\" class=\"dataframe\">\n",
       "  <thead>\n",
       "    <tr style=\"text-align: right;\">\n",
       "      <th></th>\n",
       "      <th>Ohio</th>\n",
       "      <th>Texas</th>\n",
       "      <th>California</th>\n",
       "    </tr>\n",
       "  </thead>\n",
       "  <tbody>\n",
       "    <tr>\n",
       "      <th>a</th>\n",
       "      <td>0.0</td>\n",
       "      <td>1.0</td>\n",
       "      <td>2.0</td>\n",
       "    </tr>\n",
       "    <tr>\n",
       "      <th>b</th>\n",
       "      <td>NaN</td>\n",
       "      <td>NaN</td>\n",
       "      <td>NaN</td>\n",
       "    </tr>\n",
       "    <tr>\n",
       "      <th>c</th>\n",
       "      <td>3.0</td>\n",
       "      <td>4.0</td>\n",
       "      <td>5.0</td>\n",
       "    </tr>\n",
       "    <tr>\n",
       "      <th>d</th>\n",
       "      <td>6.0</td>\n",
       "      <td>7.0</td>\n",
       "      <td>8.0</td>\n",
       "    </tr>\n",
       "  </tbody>\n",
       "</table>\n",
       "</div>"
      ],
      "text/plain": [
       "   Ohio  Texas  California\n",
       "a   0.0    1.0         2.0\n",
       "b   NaN    NaN         NaN\n",
       "c   3.0    4.0         5.0\n",
       "d   6.0    7.0         8.0"
      ]
     },
     "execution_count": 10,
     "metadata": {},
     "output_type": "execute_result"
    }
   ],
   "source": [
    "frame2 "
   ]
  },
  {
   "cell_type": "code",
   "execution_count": 18,
   "id": "0a9a7757",
   "metadata": {},
   "outputs": [
    {
     "data": {
      "text/html": [
       "<div>\n",
       "<style scoped>\n",
       "    .dataframe tbody tr th:only-of-type {\n",
       "        vertical-align: middle;\n",
       "    }\n",
       "\n",
       "    .dataframe tbody tr th {\n",
       "        vertical-align: top;\n",
       "    }\n",
       "\n",
       "    .dataframe thead th {\n",
       "        text-align: right;\n",
       "    }\n",
       "</style>\n",
       "<table border=\"1\" class=\"dataframe\">\n",
       "  <thead>\n",
       "    <tr style=\"text-align: right;\">\n",
       "      <th></th>\n",
       "      <th>Texas</th>\n",
       "      <th>Utah</th>\n",
       "      <th>California</th>\n",
       "    </tr>\n",
       "  </thead>\n",
       "  <tbody>\n",
       "    <tr>\n",
       "      <th>a</th>\n",
       "      <td>1</td>\n",
       "      <td>NaN</td>\n",
       "      <td>2</td>\n",
       "    </tr>\n",
       "    <tr>\n",
       "      <th>c</th>\n",
       "      <td>4</td>\n",
       "      <td>NaN</td>\n",
       "      <td>5</td>\n",
       "    </tr>\n",
       "    <tr>\n",
       "      <th>d</th>\n",
       "      <td>7</td>\n",
       "      <td>NaN</td>\n",
       "      <td>8</td>\n",
       "    </tr>\n",
       "  </tbody>\n",
       "</table>\n",
       "</div>"
      ],
      "text/plain": [
       "   Texas  Utah  California\n",
       "a      1   NaN           2\n",
       "c      4   NaN           5\n",
       "d      7   NaN           8"
      ]
     },
     "execution_count": 18,
     "metadata": {},
     "output_type": "execute_result"
    }
   ],
   "source": [
    "states = ['Texas', 'Utah', 'California']\n",
    "other_frame = frame.reindex(columns = states)\n",
    "other_frame"
   ]
  },
  {
   "cell_type": "markdown",
   "id": "33b96174",
   "metadata": {},
   "source": [
    "As we'll explore in more detail, you can reindex more succinctly by label-indexing with loc, many users prefer to use it exclusively: "
   ]
  },
  {
   "cell_type": "code",
   "execution_count": null,
   "id": "23b3ba75",
   "metadata": {},
   "outputs": [],
   "source": [
    "other_frame.loc[['a', 'b', 'c', 'd'], states]"
   ]
  },
  {
   "cell_type": "code",
   "execution_count": 25,
   "id": "b628cb1f",
   "metadata": {},
   "outputs": [
    {
     "data": {
      "text/html": [
       "<div>\n",
       "<style scoped>\n",
       "    .dataframe tbody tr th:only-of-type {\n",
       "        vertical-align: middle;\n",
       "    }\n",
       "\n",
       "    .dataframe tbody tr th {\n",
       "        vertical-align: top;\n",
       "    }\n",
       "\n",
       "    .dataframe thead th {\n",
       "        text-align: right;\n",
       "    }\n",
       "</style>\n",
       "<table border=\"1\" class=\"dataframe\">\n",
       "  <thead>\n",
       "    <tr style=\"text-align: right;\">\n",
       "      <th></th>\n",
       "      <th>Argument</th>\n",
       "      <th>Description</th>\n",
       "    </tr>\n",
       "  </thead>\n",
       "  <tbody>\n",
       "    <tr>\n",
       "      <th>0</th>\n",
       "      <td>index</td>\n",
       "      <td>New sequence to use as index. Can be index ins...</td>\n",
       "    </tr>\n",
       "    <tr>\n",
       "      <th>1</th>\n",
       "      <td>method</td>\n",
       "      <td>Interpolation (fill) method, \"ffill\" forward, ...</td>\n",
       "    </tr>\n",
       "    <tr>\n",
       "      <th>2</th>\n",
       "      <td>fill_value</td>\n",
       "      <td>Substitute value to use when introducing missi...</td>\n",
       "    </tr>\n",
       "    <tr>\n",
       "      <th>3</th>\n",
       "      <td>limit</td>\n",
       "      <td>When forward -or backfilling, maximum size gap...</td>\n",
       "    </tr>\n",
       "    <tr>\n",
       "      <th>4</th>\n",
       "      <td>tolerance</td>\n",
       "      <td>When forward -or backfilling, maximum size gap...</td>\n",
       "    </tr>\n",
       "    <tr>\n",
       "      <th>5</th>\n",
       "      <td>level</td>\n",
       "      <td>Match simple index on level of MultiIndex, oth...</td>\n",
       "    </tr>\n",
       "    <tr>\n",
       "      <th>6</th>\n",
       "      <td>copy</td>\n",
       "      <td>If true, always copy underlying data even if n...</td>\n",
       "    </tr>\n",
       "  </tbody>\n",
       "</table>\n",
       "</div>"
      ],
      "text/plain": [
       "     Argument                                        Description\n",
       "0       index  New sequence to use as index. Can be index ins...\n",
       "1      method  Interpolation (fill) method, \"ffill\" forward, ...\n",
       "2  fill_value  Substitute value to use when introducing missi...\n",
       "3       limit  When forward -or backfilling, maximum size gap...\n",
       "4   tolerance  When forward -or backfilling, maximum size gap...\n",
       "5       level  Match simple index on level of MultiIndex, oth...\n",
       "6        copy  If true, always copy underlying data even if n..."
      ]
     },
     "execution_count": 25,
     "metadata": {},
     "output_type": "execute_result"
    }
   ],
   "source": [
    "script = pd.DataFrame({\n",
    "        'Argument' : ['index','method','fill_value','limit','tolerance','level','copy'],\n",
    "        'Description' : [\n",
    "            'New sequence to use as index. Can be index instance or any other sequence-like Python data structure. An index will be used exactly as is without any copying', \n",
    "            'Interpolation (fill) method, \"ffill\" forward, while \"bfill\" fills backward', \n",
    "            'Substitute value to use when introducing missing data by reindexing', \n",
    "            'When forward -or backfilling, maximum size gap to fill', \n",
    "            'When forward -or backfilling, maximum size gap to fill for inesact matches', \n",
    "            'Match simple index on level of MultiIndex, otherwise select subset of.',\n",
    "            'If true, always copy underlying data even if new index is equivalent old index. If False, do not copy the data when the indexes are equivalent'\n",
    "        ]\n",
    "    }\n",
    ")\n",
    "\n",
    "script"
   ]
  },
  {
   "cell_type": "markdown",
   "id": "cf99ec2e",
   "metadata": {},
   "source": [
    "# Dropping Entries from an Axis"
   ]
  },
  {
   "cell_type": "markdown",
   "id": "d493ee94",
   "metadata": {},
   "source": [
    "As that that can require a bit of munging and set logic, the frop method will return a new object with the indicated value or values deleted from an axis : "
   ]
  },
  {
   "cell_type": "code",
   "execution_count": 26,
   "id": "9befcf7a",
   "metadata": {},
   "outputs": [
    {
     "data": {
      "text/plain": [
       "a    0.0\n",
       "b    1.0\n",
       "c    2.0\n",
       "d    3.0\n",
       "e    4.0\n",
       "dtype: float64"
      ]
     },
     "execution_count": 26,
     "metadata": {},
     "output_type": "execute_result"
    }
   ],
   "source": [
    "obj = pd.Series(np.arange(5.), index = ['a', 'b', 'c', 'd', 'e'])\n",
    "obj"
   ]
  },
  {
   "cell_type": "code",
   "execution_count": 27,
   "id": "be3b8010",
   "metadata": {},
   "outputs": [
    {
     "data": {
      "text/plain": [
       "a    0.0\n",
       "b    1.0\n",
       "d    3.0\n",
       "e    4.0\n",
       "dtype: float64"
      ]
     },
     "execution_count": 27,
     "metadata": {},
     "output_type": "execute_result"
    }
   ],
   "source": [
    "new_obj = obj.drop('c')\n",
    "new_obj "
   ]
  },
  {
   "cell_type": "code",
   "execution_count": 28,
   "id": "1b14101e",
   "metadata": {},
   "outputs": [
    {
     "data": {
      "text/plain": [
       "a    0.0\n",
       "b    1.0\n",
       "e    4.0\n",
       "dtype: float64"
      ]
     },
     "execution_count": 28,
     "metadata": {},
     "output_type": "execute_result"
    }
   ],
   "source": [
    "obj.drop(['d', 'c'])"
   ]
  },
  {
   "cell_type": "markdown",
   "id": "5b06a41d",
   "metadata": {},
   "source": [
    "With DataFrame, index values can be deleted from either axis. To illustrate this, we first create an example DataFrame: \n"
   ]
  },
  {
   "cell_type": "code",
   "execution_count": 30,
   "id": "9af36f36",
   "metadata": {},
   "outputs": [
    {
     "data": {
      "text/html": [
       "<div>\n",
       "<style scoped>\n",
       "    .dataframe tbody tr th:only-of-type {\n",
       "        vertical-align: middle;\n",
       "    }\n",
       "\n",
       "    .dataframe tbody tr th {\n",
       "        vertical-align: top;\n",
       "    }\n",
       "\n",
       "    .dataframe thead th {\n",
       "        text-align: right;\n",
       "    }\n",
       "</style>\n",
       "<table border=\"1\" class=\"dataframe\">\n",
       "  <thead>\n",
       "    <tr style=\"text-align: right;\">\n",
       "      <th></th>\n",
       "      <th>one</th>\n",
       "      <th>two</th>\n",
       "      <th>three</th>\n",
       "      <th>four</th>\n",
       "    </tr>\n",
       "  </thead>\n",
       "  <tbody>\n",
       "    <tr>\n",
       "      <th>Ohio</th>\n",
       "      <td>0</td>\n",
       "      <td>1</td>\n",
       "      <td>2</td>\n",
       "      <td>3</td>\n",
       "    </tr>\n",
       "    <tr>\n",
       "      <th>Colorado</th>\n",
       "      <td>4</td>\n",
       "      <td>5</td>\n",
       "      <td>6</td>\n",
       "      <td>7</td>\n",
       "    </tr>\n",
       "    <tr>\n",
       "      <th>Utah</th>\n",
       "      <td>8</td>\n",
       "      <td>9</td>\n",
       "      <td>10</td>\n",
       "      <td>11</td>\n",
       "    </tr>\n",
       "    <tr>\n",
       "      <th>New York</th>\n",
       "      <td>12</td>\n",
       "      <td>13</td>\n",
       "      <td>14</td>\n",
       "      <td>15</td>\n",
       "    </tr>\n",
       "  </tbody>\n",
       "</table>\n",
       "</div>"
      ],
      "text/plain": [
       "          one  two  three  four\n",
       "Ohio        0    1      2     3\n",
       "Colorado    4    5      6     7\n",
       "Utah        8    9     10    11\n",
       "New York   12   13     14    15"
      ]
     },
     "execution_count": 30,
     "metadata": {},
     "output_type": "execute_result"
    }
   ],
   "source": [
    "data = pd.DataFrame(np.arange(16).reshape((4,4)), \n",
    "                   index = ['Ohio', 'Colorado', 'Utah', 'New York'], \n",
    "                   columns = ['one', 'two', 'three', 'four'])\n",
    "data "
   ]
  },
  {
   "cell_type": "code",
   "execution_count": 31,
   "id": "a7e2ba30",
   "metadata": {},
   "outputs": [
    {
     "data": {
      "text/html": [
       "<div>\n",
       "<style scoped>\n",
       "    .dataframe tbody tr th:only-of-type {\n",
       "        vertical-align: middle;\n",
       "    }\n",
       "\n",
       "    .dataframe tbody tr th {\n",
       "        vertical-align: top;\n",
       "    }\n",
       "\n",
       "    .dataframe thead th {\n",
       "        text-align: right;\n",
       "    }\n",
       "</style>\n",
       "<table border=\"1\" class=\"dataframe\">\n",
       "  <thead>\n",
       "    <tr style=\"text-align: right;\">\n",
       "      <th></th>\n",
       "      <th>one</th>\n",
       "      <th>two</th>\n",
       "      <th>three</th>\n",
       "      <th>four</th>\n",
       "    </tr>\n",
       "  </thead>\n",
       "  <tbody>\n",
       "    <tr>\n",
       "      <th>Utah</th>\n",
       "      <td>8</td>\n",
       "      <td>9</td>\n",
       "      <td>10</td>\n",
       "      <td>11</td>\n",
       "    </tr>\n",
       "    <tr>\n",
       "      <th>New York</th>\n",
       "      <td>12</td>\n",
       "      <td>13</td>\n",
       "      <td>14</td>\n",
       "      <td>15</td>\n",
       "    </tr>\n",
       "  </tbody>\n",
       "</table>\n",
       "</div>"
      ],
      "text/plain": [
       "          one  two  three  four\n",
       "Utah        8    9     10    11\n",
       "New York   12   13     14    15"
      ]
     },
     "execution_count": 31,
     "metadata": {},
     "output_type": "execute_result"
    }
   ],
   "source": [
    "data.drop(['Colorado', 'Ohio'])"
   ]
  },
  {
   "cell_type": "markdown",
   "id": "5c40b490",
   "metadata": {},
   "source": [
    "You can drop values from the columns by passing axis = 1 or axis = 'columns': "
   ]
  },
  {
   "cell_type": "code",
   "execution_count": 32,
   "id": "1391a607",
   "metadata": {},
   "outputs": [
    {
     "data": {
      "text/html": [
       "<div>\n",
       "<style scoped>\n",
       "    .dataframe tbody tr th:only-of-type {\n",
       "        vertical-align: middle;\n",
       "    }\n",
       "\n",
       "    .dataframe tbody tr th {\n",
       "        vertical-align: top;\n",
       "    }\n",
       "\n",
       "    .dataframe thead th {\n",
       "        text-align: right;\n",
       "    }\n",
       "</style>\n",
       "<table border=\"1\" class=\"dataframe\">\n",
       "  <thead>\n",
       "    <tr style=\"text-align: right;\">\n",
       "      <th></th>\n",
       "      <th>one</th>\n",
       "      <th>three</th>\n",
       "      <th>four</th>\n",
       "    </tr>\n",
       "  </thead>\n",
       "  <tbody>\n",
       "    <tr>\n",
       "      <th>Ohio</th>\n",
       "      <td>0</td>\n",
       "      <td>2</td>\n",
       "      <td>3</td>\n",
       "    </tr>\n",
       "    <tr>\n",
       "      <th>Colorado</th>\n",
       "      <td>4</td>\n",
       "      <td>6</td>\n",
       "      <td>7</td>\n",
       "    </tr>\n",
       "    <tr>\n",
       "      <th>Utah</th>\n",
       "      <td>8</td>\n",
       "      <td>10</td>\n",
       "      <td>11</td>\n",
       "    </tr>\n",
       "    <tr>\n",
       "      <th>New York</th>\n",
       "      <td>12</td>\n",
       "      <td>14</td>\n",
       "      <td>15</td>\n",
       "    </tr>\n",
       "  </tbody>\n",
       "</table>\n",
       "</div>"
      ],
      "text/plain": [
       "          one  three  four\n",
       "Ohio        0      2     3\n",
       "Colorado    4      6     7\n",
       "Utah        8     10    11\n",
       "New York   12     14    15"
      ]
     },
     "execution_count": 32,
     "metadata": {},
     "output_type": "execute_result"
    }
   ],
   "source": [
    "data.drop('two', axis = 1)"
   ]
  },
  {
   "cell_type": "code",
   "execution_count": 33,
   "id": "35b5860d",
   "metadata": {},
   "outputs": [
    {
     "data": {
      "text/html": [
       "<div>\n",
       "<style scoped>\n",
       "    .dataframe tbody tr th:only-of-type {\n",
       "        vertical-align: middle;\n",
       "    }\n",
       "\n",
       "    .dataframe tbody tr th {\n",
       "        vertical-align: top;\n",
       "    }\n",
       "\n",
       "    .dataframe thead th {\n",
       "        text-align: right;\n",
       "    }\n",
       "</style>\n",
       "<table border=\"1\" class=\"dataframe\">\n",
       "  <thead>\n",
       "    <tr style=\"text-align: right;\">\n",
       "      <th></th>\n",
       "      <th>one</th>\n",
       "      <th>two</th>\n",
       "      <th>four</th>\n",
       "    </tr>\n",
       "  </thead>\n",
       "  <tbody>\n",
       "    <tr>\n",
       "      <th>Ohio</th>\n",
       "      <td>0</td>\n",
       "      <td>1</td>\n",
       "      <td>3</td>\n",
       "    </tr>\n",
       "    <tr>\n",
       "      <th>Colorado</th>\n",
       "      <td>4</td>\n",
       "      <td>5</td>\n",
       "      <td>7</td>\n",
       "    </tr>\n",
       "    <tr>\n",
       "      <th>Utah</th>\n",
       "      <td>8</td>\n",
       "      <td>9</td>\n",
       "      <td>11</td>\n",
       "    </tr>\n",
       "    <tr>\n",
       "      <th>New York</th>\n",
       "      <td>12</td>\n",
       "      <td>13</td>\n",
       "      <td>15</td>\n",
       "    </tr>\n",
       "  </tbody>\n",
       "</table>\n",
       "</div>"
      ],
      "text/plain": [
       "          one  two  four\n",
       "Ohio        0    1     3\n",
       "Colorado    4    5     7\n",
       "Utah        8    9    11\n",
       "New York   12   13    15"
      ]
     },
     "execution_count": 33,
     "metadata": {},
     "output_type": "execute_result"
    }
   ],
   "source": [
    "data.drop('three', axis = 1)"
   ]
  },
  {
   "cell_type": "code",
   "execution_count": 34,
   "id": "6d5d8dcd",
   "metadata": {},
   "outputs": [
    {
     "data": {
      "text/html": [
       "<div>\n",
       "<style scoped>\n",
       "    .dataframe tbody tr th:only-of-type {\n",
       "        vertical-align: middle;\n",
       "    }\n",
       "\n",
       "    .dataframe tbody tr th {\n",
       "        vertical-align: top;\n",
       "    }\n",
       "\n",
       "    .dataframe thead th {\n",
       "        text-align: right;\n",
       "    }\n",
       "</style>\n",
       "<table border=\"1\" class=\"dataframe\">\n",
       "  <thead>\n",
       "    <tr style=\"text-align: right;\">\n",
       "      <th></th>\n",
       "      <th>one</th>\n",
       "      <th>two</th>\n",
       "      <th>three</th>\n",
       "    </tr>\n",
       "  </thead>\n",
       "  <tbody>\n",
       "    <tr>\n",
       "      <th>Ohio</th>\n",
       "      <td>0</td>\n",
       "      <td>1</td>\n",
       "      <td>2</td>\n",
       "    </tr>\n",
       "    <tr>\n",
       "      <th>Colorado</th>\n",
       "      <td>4</td>\n",
       "      <td>5</td>\n",
       "      <td>6</td>\n",
       "    </tr>\n",
       "    <tr>\n",
       "      <th>Utah</th>\n",
       "      <td>8</td>\n",
       "      <td>9</td>\n",
       "      <td>10</td>\n",
       "    </tr>\n",
       "    <tr>\n",
       "      <th>New York</th>\n",
       "      <td>12</td>\n",
       "      <td>13</td>\n",
       "      <td>14</td>\n",
       "    </tr>\n",
       "  </tbody>\n",
       "</table>\n",
       "</div>"
      ],
      "text/plain": [
       "          one  two  three\n",
       "Ohio        0    1      2\n",
       "Colorado    4    5      6\n",
       "Utah        8    9     10\n",
       "New York   12   13     14"
      ]
     },
     "execution_count": 34,
     "metadata": {},
     "output_type": "execute_result"
    }
   ],
   "source": [
    "data.drop('four', axis = 1)"
   ]
  },
  {
   "cell_type": "code",
   "execution_count": 36,
   "id": "66fad2e0",
   "metadata": {},
   "outputs": [
    {
     "data": {
      "text/html": [
       "<div>\n",
       "<style scoped>\n",
       "    .dataframe tbody tr th:only-of-type {\n",
       "        vertical-align: middle;\n",
       "    }\n",
       "\n",
       "    .dataframe tbody tr th {\n",
       "        vertical-align: top;\n",
       "    }\n",
       "\n",
       "    .dataframe thead th {\n",
       "        text-align: right;\n",
       "    }\n",
       "</style>\n",
       "<table border=\"1\" class=\"dataframe\">\n",
       "  <thead>\n",
       "    <tr style=\"text-align: right;\">\n",
       "      <th></th>\n",
       "      <th>two</th>\n",
       "      <th>three</th>\n",
       "      <th>four</th>\n",
       "    </tr>\n",
       "  </thead>\n",
       "  <tbody>\n",
       "    <tr>\n",
       "      <th>Ohio</th>\n",
       "      <td>1</td>\n",
       "      <td>2</td>\n",
       "      <td>3</td>\n",
       "    </tr>\n",
       "    <tr>\n",
       "      <th>Colorado</th>\n",
       "      <td>5</td>\n",
       "      <td>6</td>\n",
       "      <td>7</td>\n",
       "    </tr>\n",
       "    <tr>\n",
       "      <th>Utah</th>\n",
       "      <td>9</td>\n",
       "      <td>10</td>\n",
       "      <td>11</td>\n",
       "    </tr>\n",
       "    <tr>\n",
       "      <th>New York</th>\n",
       "      <td>13</td>\n",
       "      <td>14</td>\n",
       "      <td>15</td>\n",
       "    </tr>\n",
       "  </tbody>\n",
       "</table>\n",
       "</div>"
      ],
      "text/plain": [
       "          two  three  four\n",
       "Ohio        1      2     3\n",
       "Colorado    5      6     7\n",
       "Utah        9     10    11\n",
       "New York   13     14    15"
      ]
     },
     "execution_count": 36,
     "metadata": {},
     "output_type": "execute_result"
    }
   ],
   "source": [
    "data.drop('one', axis = 1)"
   ]
  },
  {
   "cell_type": "code",
   "execution_count": 37,
   "id": "1911eb4d",
   "metadata": {},
   "outputs": [
    {
     "data": {
      "text/html": [
       "<div>\n",
       "<style scoped>\n",
       "    .dataframe tbody tr th:only-of-type {\n",
       "        vertical-align: middle;\n",
       "    }\n",
       "\n",
       "    .dataframe tbody tr th {\n",
       "        vertical-align: top;\n",
       "    }\n",
       "\n",
       "    .dataframe thead th {\n",
       "        text-align: right;\n",
       "    }\n",
       "</style>\n",
       "<table border=\"1\" class=\"dataframe\">\n",
       "  <thead>\n",
       "    <tr style=\"text-align: right;\">\n",
       "      <th></th>\n",
       "      <th>one</th>\n",
       "      <th>three</th>\n",
       "    </tr>\n",
       "  </thead>\n",
       "  <tbody>\n",
       "    <tr>\n",
       "      <th>Ohio</th>\n",
       "      <td>0</td>\n",
       "      <td>2</td>\n",
       "    </tr>\n",
       "    <tr>\n",
       "      <th>Colorado</th>\n",
       "      <td>4</td>\n",
       "      <td>6</td>\n",
       "    </tr>\n",
       "    <tr>\n",
       "      <th>Utah</th>\n",
       "      <td>8</td>\n",
       "      <td>10</td>\n",
       "    </tr>\n",
       "    <tr>\n",
       "      <th>New York</th>\n",
       "      <td>12</td>\n",
       "      <td>14</td>\n",
       "    </tr>\n",
       "  </tbody>\n",
       "</table>\n",
       "</div>"
      ],
      "text/plain": [
       "          one  three\n",
       "Ohio        0      2\n",
       "Colorado    4      6\n",
       "Utah        8     10\n",
       "New York   12     14"
      ]
     },
     "execution_count": 37,
     "metadata": {},
     "output_type": "execute_result"
    }
   ],
   "source": [
    "data.drop(['two', 'four'], axis = 'columns')"
   ]
  },
  {
   "cell_type": "code",
   "execution_count": 38,
   "id": "cdae4db6",
   "metadata": {},
   "outputs": [
    {
     "data": {
      "text/html": [
       "<div>\n",
       "<style scoped>\n",
       "    .dataframe tbody tr th:only-of-type {\n",
       "        vertical-align: middle;\n",
       "    }\n",
       "\n",
       "    .dataframe tbody tr th {\n",
       "        vertical-align: top;\n",
       "    }\n",
       "\n",
       "    .dataframe thead th {\n",
       "        text-align: right;\n",
       "    }\n",
       "</style>\n",
       "<table border=\"1\" class=\"dataframe\">\n",
       "  <thead>\n",
       "    <tr style=\"text-align: right;\">\n",
       "      <th></th>\n",
       "      <th>three</th>\n",
       "      <th>four</th>\n",
       "    </tr>\n",
       "  </thead>\n",
       "  <tbody>\n",
       "    <tr>\n",
       "      <th>Ohio</th>\n",
       "      <td>2</td>\n",
       "      <td>3</td>\n",
       "    </tr>\n",
       "    <tr>\n",
       "      <th>Colorado</th>\n",
       "      <td>6</td>\n",
       "      <td>7</td>\n",
       "    </tr>\n",
       "    <tr>\n",
       "      <th>Utah</th>\n",
       "      <td>10</td>\n",
       "      <td>11</td>\n",
       "    </tr>\n",
       "    <tr>\n",
       "      <th>New York</th>\n",
       "      <td>14</td>\n",
       "      <td>15</td>\n",
       "    </tr>\n",
       "  </tbody>\n",
       "</table>\n",
       "</div>"
      ],
      "text/plain": [
       "          three  four\n",
       "Ohio          2     3\n",
       "Colorado      6     7\n",
       "Utah         10    11\n",
       "New York     14    15"
      ]
     },
     "execution_count": 38,
     "metadata": {},
     "output_type": "execute_result"
    }
   ],
   "source": [
    "data.drop(['two', 'one'], axis = 'columns')"
   ]
  },
  {
   "cell_type": "code",
   "execution_count": 39,
   "id": "84b86248",
   "metadata": {},
   "outputs": [
    {
     "data": {
      "text/html": [
       "<div>\n",
       "<style scoped>\n",
       "    .dataframe tbody tr th:only-of-type {\n",
       "        vertical-align: middle;\n",
       "    }\n",
       "\n",
       "    .dataframe tbody tr th {\n",
       "        vertical-align: top;\n",
       "    }\n",
       "\n",
       "    .dataframe thead th {\n",
       "        text-align: right;\n",
       "    }\n",
       "</style>\n",
       "<table border=\"1\" class=\"dataframe\">\n",
       "  <thead>\n",
       "    <tr style=\"text-align: right;\">\n",
       "      <th></th>\n",
       "      <th>one</th>\n",
       "      <th>four</th>\n",
       "    </tr>\n",
       "  </thead>\n",
       "  <tbody>\n",
       "    <tr>\n",
       "      <th>Ohio</th>\n",
       "      <td>0</td>\n",
       "      <td>3</td>\n",
       "    </tr>\n",
       "    <tr>\n",
       "      <th>Colorado</th>\n",
       "      <td>4</td>\n",
       "      <td>7</td>\n",
       "    </tr>\n",
       "    <tr>\n",
       "      <th>Utah</th>\n",
       "      <td>8</td>\n",
       "      <td>11</td>\n",
       "    </tr>\n",
       "    <tr>\n",
       "      <th>New York</th>\n",
       "      <td>12</td>\n",
       "      <td>15</td>\n",
       "    </tr>\n",
       "  </tbody>\n",
       "</table>\n",
       "</div>"
      ],
      "text/plain": [
       "          one  four\n",
       "Ohio        0     3\n",
       "Colorado    4     7\n",
       "Utah        8    11\n",
       "New York   12    15"
      ]
     },
     "execution_count": 39,
     "metadata": {},
     "output_type": "execute_result"
    }
   ],
   "source": [
    "data.drop(['two', 'three'], axis = 'columns')"
   ]
  },
  {
   "cell_type": "markdown",
   "id": "b1152b8a",
   "metadata": {},
   "source": [
    "Many functions, like drop, which modify the size or shape of a Series or DataFrame, can manipulate an object in-place without returning a new object: "
   ]
  },
  {
   "cell_type": "code",
   "execution_count": 40,
   "id": "9d86adb0",
   "metadata": {},
   "outputs": [],
   "source": [
    "obj.drop('c', inplace = True)"
   ]
  },
  {
   "cell_type": "code",
   "execution_count": 41,
   "id": "4ab82bc5",
   "metadata": {},
   "outputs": [
    {
     "data": {
      "text/plain": [
       "a    0.0\n",
       "b    1.0\n",
       "d    3.0\n",
       "e    4.0\n",
       "dtype: float64"
      ]
     },
     "execution_count": 41,
     "metadata": {},
     "output_type": "execute_result"
    }
   ],
   "source": [
    "obj"
   ]
  },
  {
   "cell_type": "markdown",
   "id": "d7ddbb3c",
   "metadata": {},
   "source": [
    "Be careful with the inplace, as it destroys any data that is dropped"
   ]
  },
  {
   "cell_type": "markdown",
   "id": "3e2e4f57",
   "metadata": {},
   "source": [
    "# Indexing, Selection, and Filtering "
   ]
  },
  {
   "cell_type": "markdown",
   "id": "27032629",
   "metadata": {},
   "source": [
    "Series indexing (obj[...]) works analogously to Numpy array indexing, except you can use the Serie's index values instead of only integers. Here are some some examples of this: "
   ]
  },
  {
   "cell_type": "code",
   "execution_count": 42,
   "id": "baf4daf5",
   "metadata": {},
   "outputs": [
    {
     "data": {
      "text/plain": [
       "a    0.0\n",
       "b    1.0\n",
       "c    2.0\n",
       "d    3.0\n",
       "dtype: float64"
      ]
     },
     "execution_count": 42,
     "metadata": {},
     "output_type": "execute_result"
    }
   ],
   "source": [
    "obj = pd.Series(np.arange(4.), index = ['a', 'b', 'c', 'd'])\n",
    "obj"
   ]
  },
  {
   "cell_type": "code",
   "execution_count": 43,
   "id": "c826b0b1",
   "metadata": {},
   "outputs": [
    {
     "data": {
      "text/plain": [
       "1.0"
      ]
     },
     "execution_count": 43,
     "metadata": {},
     "output_type": "execute_result"
    }
   ],
   "source": [
    "obj[1]"
   ]
  },
  {
   "cell_type": "code",
   "execution_count": 44,
   "id": "d9955033",
   "metadata": {},
   "outputs": [
    {
     "data": {
      "text/plain": [
       "c    2.0\n",
       "d    3.0\n",
       "dtype: float64"
      ]
     },
     "execution_count": 44,
     "metadata": {},
     "output_type": "execute_result"
    }
   ],
   "source": [
    "obj[2:4]"
   ]
  },
  {
   "cell_type": "code",
   "execution_count": 46,
   "id": "d9d951fc",
   "metadata": {},
   "outputs": [
    {
     "data": {
      "text/plain": [
       "b    1.0\n",
       "a    0.0\n",
       "d    3.0\n",
       "dtype: float64"
      ]
     },
     "execution_count": 46,
     "metadata": {},
     "output_type": "execute_result"
    }
   ],
   "source": [
    "obj[['b', 'a', 'd']]"
   ]
  },
  {
   "cell_type": "code",
   "execution_count": 47,
   "id": "b25a9f24",
   "metadata": {},
   "outputs": [
    {
     "data": {
      "text/plain": [
       "b    1.0\n",
       "d    3.0\n",
       "dtype: float64"
      ]
     },
     "execution_count": 47,
     "metadata": {},
     "output_type": "execute_result"
    }
   ],
   "source": [
    "obj[[1,3]]"
   ]
  },
  {
   "cell_type": "code",
   "execution_count": 48,
   "id": "41f186a3",
   "metadata": {},
   "outputs": [
    {
     "data": {
      "text/plain": [
       "a    0.0\n",
       "b    1.0\n",
       "dtype: float64"
      ]
     },
     "execution_count": 48,
     "metadata": {},
     "output_type": "execute_result"
    }
   ],
   "source": [
    "obj[obj < 2]"
   ]
  },
  {
   "cell_type": "markdown",
   "id": "c1ccd161",
   "metadata": {},
   "source": [
    "Slicing with labels behaves differently than normal Python slicing in that the end-point is inclusive: "
   ]
  },
  {
   "cell_type": "code",
   "execution_count": 49,
   "id": "db33dac2",
   "metadata": {},
   "outputs": [],
   "source": [
    "obj['b' : 'c'] = 5 "
   ]
  },
  {
   "cell_type": "markdown",
   "id": "c211b761",
   "metadata": {},
   "source": [
    "Indexing into a DataFrame is for retrieving one or more columns either with a single value or sequence: "
   ]
  },
  {
   "cell_type": "code",
   "execution_count": 17,
   "id": "07fb6076",
   "metadata": {},
   "outputs": [
    {
     "data": {
      "text/html": [
       "<div>\n",
       "<style scoped>\n",
       "    .dataframe tbody tr th:only-of-type {\n",
       "        vertical-align: middle;\n",
       "    }\n",
       "\n",
       "    .dataframe tbody tr th {\n",
       "        vertical-align: top;\n",
       "    }\n",
       "\n",
       "    .dataframe thead th {\n",
       "        text-align: right;\n",
       "    }\n",
       "</style>\n",
       "<table border=\"1\" class=\"dataframe\">\n",
       "  <thead>\n",
       "    <tr style=\"text-align: right;\">\n",
       "      <th></th>\n",
       "      <th>one</th>\n",
       "      <th>two</th>\n",
       "      <th>three</th>\n",
       "      <th>four</th>\n",
       "    </tr>\n",
       "  </thead>\n",
       "  <tbody>\n",
       "    <tr>\n",
       "      <th>Ohio</th>\n",
       "      <td>0</td>\n",
       "      <td>1</td>\n",
       "      <td>2</td>\n",
       "      <td>3</td>\n",
       "    </tr>\n",
       "    <tr>\n",
       "      <th>Colorado</th>\n",
       "      <td>4</td>\n",
       "      <td>5</td>\n",
       "      <td>6</td>\n",
       "      <td>7</td>\n",
       "    </tr>\n",
       "    <tr>\n",
       "      <th>Utah</th>\n",
       "      <td>8</td>\n",
       "      <td>9</td>\n",
       "      <td>10</td>\n",
       "      <td>11</td>\n",
       "    </tr>\n",
       "    <tr>\n",
       "      <th>New York</th>\n",
       "      <td>12</td>\n",
       "      <td>13</td>\n",
       "      <td>14</td>\n",
       "      <td>15</td>\n",
       "    </tr>\n",
       "  </tbody>\n",
       "</table>\n",
       "</div>"
      ],
      "text/plain": [
       "          one  two  three  four\n",
       "Ohio        0    1      2     3\n",
       "Colorado    4    5      6     7\n",
       "Utah        8    9     10    11\n",
       "New York   12   13     14    15"
      ]
     },
     "execution_count": 17,
     "metadata": {},
     "output_type": "execute_result"
    }
   ],
   "source": [
    "data = pd.DataFrame(np.arange(16).reshape((4,4)), \n",
    "                   index = ['Ohio', 'Colorado', 'Utah', 'New York'],\n",
    "                   columns = ['one', 'two', 'three', 'four'])\n",
    "data"
   ]
  },
  {
   "cell_type": "code",
   "execution_count": 51,
   "id": "ee3db74a",
   "metadata": {},
   "outputs": [
    {
     "data": {
      "text/plain": [
       "Ohio         1\n",
       "Colorado     5\n",
       "Utah         9\n",
       "New York    13\n",
       "Name: two, dtype: int32"
      ]
     },
     "execution_count": 51,
     "metadata": {},
     "output_type": "execute_result"
    }
   ],
   "source": [
    "data['two']"
   ]
  },
  {
   "cell_type": "code",
   "execution_count": 52,
   "id": "ee7590f3",
   "metadata": {},
   "outputs": [
    {
     "data": {
      "text/plain": [
       "Ohio         2\n",
       "Colorado     6\n",
       "Utah        10\n",
       "New York    14\n",
       "Name: three, dtype: int32"
      ]
     },
     "execution_count": 52,
     "metadata": {},
     "output_type": "execute_result"
    }
   ],
   "source": [
    "data['three']"
   ]
  },
  {
   "cell_type": "code",
   "execution_count": 53,
   "id": "fb30816b",
   "metadata": {},
   "outputs": [
    {
     "data": {
      "text/plain": [
       "Ohio         0\n",
       "Colorado     4\n",
       "Utah         8\n",
       "New York    12\n",
       "Name: one, dtype: int32"
      ]
     },
     "execution_count": 53,
     "metadata": {},
     "output_type": "execute_result"
    }
   ],
   "source": [
    "data['one']"
   ]
  },
  {
   "cell_type": "markdown",
   "id": "c01cc08e",
   "metadata": {},
   "source": [
    "Indexing like this has a few special cases. First, slicing or selecting data with a boolean array: "
   ]
  },
  {
   "cell_type": "code",
   "execution_count": 54,
   "id": "a8333a9e",
   "metadata": {},
   "outputs": [
    {
     "data": {
      "text/html": [
       "<div>\n",
       "<style scoped>\n",
       "    .dataframe tbody tr th:only-of-type {\n",
       "        vertical-align: middle;\n",
       "    }\n",
       "\n",
       "    .dataframe tbody tr th {\n",
       "        vertical-align: top;\n",
       "    }\n",
       "\n",
       "    .dataframe thead th {\n",
       "        text-align: right;\n",
       "    }\n",
       "</style>\n",
       "<table border=\"1\" class=\"dataframe\">\n",
       "  <thead>\n",
       "    <tr style=\"text-align: right;\">\n",
       "      <th></th>\n",
       "      <th>one</th>\n",
       "      <th>two</th>\n",
       "      <th>three</th>\n",
       "      <th>four</th>\n",
       "    </tr>\n",
       "  </thead>\n",
       "  <tbody>\n",
       "    <tr>\n",
       "      <th>Ohio</th>\n",
       "      <td>0</td>\n",
       "      <td>1</td>\n",
       "      <td>2</td>\n",
       "      <td>3</td>\n",
       "    </tr>\n",
       "    <tr>\n",
       "      <th>Colorado</th>\n",
       "      <td>4</td>\n",
       "      <td>5</td>\n",
       "      <td>6</td>\n",
       "      <td>7</td>\n",
       "    </tr>\n",
       "  </tbody>\n",
       "</table>\n",
       "</div>"
      ],
      "text/plain": [
       "          one  two  three  four\n",
       "Ohio        0    1      2     3\n",
       "Colorado    4    5      6     7"
      ]
     },
     "execution_count": 54,
     "metadata": {},
     "output_type": "execute_result"
    }
   ],
   "source": [
    "data[:2]"
   ]
  },
  {
   "cell_type": "code",
   "execution_count": 55,
   "id": "3c797ef2",
   "metadata": {},
   "outputs": [
    {
     "data": {
      "text/html": [
       "<div>\n",
       "<style scoped>\n",
       "    .dataframe tbody tr th:only-of-type {\n",
       "        vertical-align: middle;\n",
       "    }\n",
       "\n",
       "    .dataframe tbody tr th {\n",
       "        vertical-align: top;\n",
       "    }\n",
       "\n",
       "    .dataframe thead th {\n",
       "        text-align: right;\n",
       "    }\n",
       "</style>\n",
       "<table border=\"1\" class=\"dataframe\">\n",
       "  <thead>\n",
       "    <tr style=\"text-align: right;\">\n",
       "      <th></th>\n",
       "      <th>one</th>\n",
       "      <th>two</th>\n",
       "      <th>three</th>\n",
       "      <th>four</th>\n",
       "    </tr>\n",
       "  </thead>\n",
       "  <tbody>\n",
       "    <tr>\n",
       "      <th>Colorado</th>\n",
       "      <td>4</td>\n",
       "      <td>5</td>\n",
       "      <td>6</td>\n",
       "      <td>7</td>\n",
       "    </tr>\n",
       "    <tr>\n",
       "      <th>Utah</th>\n",
       "      <td>8</td>\n",
       "      <td>9</td>\n",
       "      <td>10</td>\n",
       "      <td>11</td>\n",
       "    </tr>\n",
       "    <tr>\n",
       "      <th>New York</th>\n",
       "      <td>12</td>\n",
       "      <td>13</td>\n",
       "      <td>14</td>\n",
       "      <td>15</td>\n",
       "    </tr>\n",
       "  </tbody>\n",
       "</table>\n",
       "</div>"
      ],
      "text/plain": [
       "          one  two  three  four\n",
       "Colorado    4    5      6     7\n",
       "Utah        8    9     10    11\n",
       "New York   12   13     14    15"
      ]
     },
     "execution_count": 55,
     "metadata": {},
     "output_type": "execute_result"
    }
   ],
   "source": [
    "data[data['three'] > 5]"
   ]
  },
  {
   "cell_type": "markdown",
   "id": "5cfd48c8",
   "metadata": {},
   "source": [
    "Another use case is in indexing with a boolean DataFrame, such as one produced by a scalar comparison: "
   ]
  },
  {
   "cell_type": "code",
   "execution_count": 56,
   "id": "f552253a",
   "metadata": {},
   "outputs": [
    {
     "data": {
      "text/html": [
       "<div>\n",
       "<style scoped>\n",
       "    .dataframe tbody tr th:only-of-type {\n",
       "        vertical-align: middle;\n",
       "    }\n",
       "\n",
       "    .dataframe tbody tr th {\n",
       "        vertical-align: top;\n",
       "    }\n",
       "\n",
       "    .dataframe thead th {\n",
       "        text-align: right;\n",
       "    }\n",
       "</style>\n",
       "<table border=\"1\" class=\"dataframe\">\n",
       "  <thead>\n",
       "    <tr style=\"text-align: right;\">\n",
       "      <th></th>\n",
       "      <th>one</th>\n",
       "      <th>two</th>\n",
       "      <th>three</th>\n",
       "      <th>four</th>\n",
       "    </tr>\n",
       "  </thead>\n",
       "  <tbody>\n",
       "    <tr>\n",
       "      <th>Ohio</th>\n",
       "      <td>True</td>\n",
       "      <td>True</td>\n",
       "      <td>True</td>\n",
       "      <td>True</td>\n",
       "    </tr>\n",
       "    <tr>\n",
       "      <th>Colorado</th>\n",
       "      <td>True</td>\n",
       "      <td>False</td>\n",
       "      <td>False</td>\n",
       "      <td>False</td>\n",
       "    </tr>\n",
       "    <tr>\n",
       "      <th>Utah</th>\n",
       "      <td>False</td>\n",
       "      <td>False</td>\n",
       "      <td>False</td>\n",
       "      <td>False</td>\n",
       "    </tr>\n",
       "    <tr>\n",
       "      <th>New York</th>\n",
       "      <td>False</td>\n",
       "      <td>False</td>\n",
       "      <td>False</td>\n",
       "      <td>False</td>\n",
       "    </tr>\n",
       "  </tbody>\n",
       "</table>\n",
       "</div>"
      ],
      "text/plain": [
       "            one    two  three   four\n",
       "Ohio       True   True   True   True\n",
       "Colorado   True  False  False  False\n",
       "Utah      False  False  False  False\n",
       "New York  False  False  False  False"
      ]
     },
     "execution_count": 56,
     "metadata": {},
     "output_type": "execute_result"
    }
   ],
   "source": [
    "data < 5 "
   ]
  },
  {
   "cell_type": "code",
   "execution_count": 57,
   "id": "30174d85",
   "metadata": {},
   "outputs": [
    {
     "data": {
      "text/html": [
       "<div>\n",
       "<style scoped>\n",
       "    .dataframe tbody tr th:only-of-type {\n",
       "        vertical-align: middle;\n",
       "    }\n",
       "\n",
       "    .dataframe tbody tr th {\n",
       "        vertical-align: top;\n",
       "    }\n",
       "\n",
       "    .dataframe thead th {\n",
       "        text-align: right;\n",
       "    }\n",
       "</style>\n",
       "<table border=\"1\" class=\"dataframe\">\n",
       "  <thead>\n",
       "    <tr style=\"text-align: right;\">\n",
       "      <th></th>\n",
       "      <th>one</th>\n",
       "      <th>two</th>\n",
       "      <th>three</th>\n",
       "      <th>four</th>\n",
       "    </tr>\n",
       "  </thead>\n",
       "  <tbody>\n",
       "    <tr>\n",
       "      <th>Ohio</th>\n",
       "      <td>0</td>\n",
       "      <td>1</td>\n",
       "      <td>2</td>\n",
       "      <td>3</td>\n",
       "    </tr>\n",
       "    <tr>\n",
       "      <th>Colorado</th>\n",
       "      <td>4</td>\n",
       "      <td>5</td>\n",
       "      <td>6</td>\n",
       "      <td>7</td>\n",
       "    </tr>\n",
       "    <tr>\n",
       "      <th>Utah</th>\n",
       "      <td>8</td>\n",
       "      <td>9</td>\n",
       "      <td>10</td>\n",
       "      <td>11</td>\n",
       "    </tr>\n",
       "    <tr>\n",
       "      <th>New York</th>\n",
       "      <td>12</td>\n",
       "      <td>13</td>\n",
       "      <td>14</td>\n",
       "      <td>15</td>\n",
       "    </tr>\n",
       "  </tbody>\n",
       "</table>\n",
       "</div>"
      ],
      "text/plain": [
       "          one  two  three  four\n",
       "Ohio        0    1      2     3\n",
       "Colorado    4    5      6     7\n",
       "Utah        8    9     10    11\n",
       "New York   12   13     14    15"
      ]
     },
     "execution_count": 57,
     "metadata": {},
     "output_type": "execute_result"
    }
   ],
   "source": [
    "data"
   ]
  },
  {
   "cell_type": "markdown",
   "id": "822a4e83",
   "metadata": {},
   "source": [
    "# Selection with loc and iloc"
   ]
  },
  {
   "cell_type": "markdown",
   "id": "524980de",
   "metadata": {},
   "source": [
    "As a preliminary excample, let's select a single row and multiple columns by label: "
   ]
  },
  {
   "cell_type": "code",
   "execution_count": 58,
   "id": "dc145780",
   "metadata": {},
   "outputs": [
    {
     "data": {
      "text/plain": [
       "two      5\n",
       "three    6\n",
       "Name: Colorado, dtype: int32"
      ]
     },
     "execution_count": 58,
     "metadata": {},
     "output_type": "execute_result"
    }
   ],
   "source": [
    "data.loc['Colorado', ['two', 'three']]"
   ]
  },
  {
   "cell_type": "markdown",
   "id": "22967695",
   "metadata": {},
   "source": [
    "We'll then perform some similar selections with integers using iloc: "
   ]
  },
  {
   "cell_type": "code",
   "execution_count": 59,
   "id": "7bf92fbb",
   "metadata": {},
   "outputs": [
    {
     "data": {
      "text/plain": [
       "four    11\n",
       "one      8\n",
       "two      9\n",
       "Name: Utah, dtype: int32"
      ]
     },
     "execution_count": 59,
     "metadata": {},
     "output_type": "execute_result"
    }
   ],
   "source": [
    "data.iloc[2,[3,0,1]]"
   ]
  },
  {
   "cell_type": "code",
   "execution_count": 60,
   "id": "88f3ceb5",
   "metadata": {},
   "outputs": [
    {
     "data": {
      "text/plain": [
       "one       8\n",
       "two       9\n",
       "three    10\n",
       "four     11\n",
       "Name: Utah, dtype: int32"
      ]
     },
     "execution_count": 60,
     "metadata": {},
     "output_type": "execute_result"
    }
   ],
   "source": [
    "data.iloc[2]"
   ]
  },
  {
   "cell_type": "code",
   "execution_count": 61,
   "id": "1fd41608",
   "metadata": {},
   "outputs": [
    {
     "data": {
      "text/html": [
       "<div>\n",
       "<style scoped>\n",
       "    .dataframe tbody tr th:only-of-type {\n",
       "        vertical-align: middle;\n",
       "    }\n",
       "\n",
       "    .dataframe tbody tr th {\n",
       "        vertical-align: top;\n",
       "    }\n",
       "\n",
       "    .dataframe thead th {\n",
       "        text-align: right;\n",
       "    }\n",
       "</style>\n",
       "<table border=\"1\" class=\"dataframe\">\n",
       "  <thead>\n",
       "    <tr style=\"text-align: right;\">\n",
       "      <th></th>\n",
       "      <th>four</th>\n",
       "      <th>one</th>\n",
       "      <th>two</th>\n",
       "    </tr>\n",
       "  </thead>\n",
       "  <tbody>\n",
       "    <tr>\n",
       "      <th>Colorado</th>\n",
       "      <td>7</td>\n",
       "      <td>4</td>\n",
       "      <td>5</td>\n",
       "    </tr>\n",
       "    <tr>\n",
       "      <th>Utah</th>\n",
       "      <td>11</td>\n",
       "      <td>8</td>\n",
       "      <td>9</td>\n",
       "    </tr>\n",
       "  </tbody>\n",
       "</table>\n",
       "</div>"
      ],
      "text/plain": [
       "          four  one  two\n",
       "Colorado     7    4    5\n",
       "Utah        11    8    9"
      ]
     },
     "execution_count": 61,
     "metadata": {},
     "output_type": "execute_result"
    }
   ],
   "source": [
    "data.iloc[[1,2], [3,0,1]]"
   ]
  },
  {
   "cell_type": "markdown",
   "id": "a8650856",
   "metadata": {},
   "source": [
    "Both indexing functions work with slices in addition to single labels or list of labels: "
   ]
  },
  {
   "cell_type": "code",
   "execution_count": 62,
   "id": "3214872b",
   "metadata": {},
   "outputs": [
    {
     "data": {
      "text/plain": [
       "Ohio        1\n",
       "Colorado    5\n",
       "Utah        9\n",
       "Name: two, dtype: int32"
      ]
     },
     "execution_count": 62,
     "metadata": {},
     "output_type": "execute_result"
    }
   ],
   "source": [
    "data.loc[:'Utah', 'two']"
   ]
  },
  {
   "cell_type": "code",
   "execution_count": 64,
   "id": "a292c67c",
   "metadata": {},
   "outputs": [
    {
     "data": {
      "text/html": [
       "<div>\n",
       "<style scoped>\n",
       "    .dataframe tbody tr th:only-of-type {\n",
       "        vertical-align: middle;\n",
       "    }\n",
       "\n",
       "    .dataframe tbody tr th {\n",
       "        vertical-align: top;\n",
       "    }\n",
       "\n",
       "    .dataframe thead th {\n",
       "        text-align: right;\n",
       "    }\n",
       "</style>\n",
       "<table border=\"1\" class=\"dataframe\">\n",
       "  <thead>\n",
       "    <tr style=\"text-align: right;\">\n",
       "      <th></th>\n",
       "      <th>one</th>\n",
       "      <th>two</th>\n",
       "      <th>three</th>\n",
       "    </tr>\n",
       "  </thead>\n",
       "  <tbody>\n",
       "    <tr>\n",
       "      <th>Colorado</th>\n",
       "      <td>4</td>\n",
       "      <td>5</td>\n",
       "      <td>6</td>\n",
       "    </tr>\n",
       "    <tr>\n",
       "      <th>Utah</th>\n",
       "      <td>8</td>\n",
       "      <td>9</td>\n",
       "      <td>10</td>\n",
       "    </tr>\n",
       "    <tr>\n",
       "      <th>New York</th>\n",
       "      <td>12</td>\n",
       "      <td>13</td>\n",
       "      <td>14</td>\n",
       "    </tr>\n",
       "  </tbody>\n",
       "</table>\n",
       "</div>"
      ],
      "text/plain": [
       "          one  two  three\n",
       "Colorado    4    5      6\n",
       "Utah        8    9     10\n",
       "New York   12   13     14"
      ]
     },
     "execution_count": 64,
     "metadata": {},
     "output_type": "execute_result"
    }
   ],
   "source": [
    "data.iloc[:,:3][data.three > 5]"
   ]
  },
  {
   "cell_type": "markdown",
   "id": "e6d4b982",
   "metadata": {},
   "source": [
    "So threr"
   ]
  },
  {
   "cell_type": "markdown",
   "id": "aa1e2b51",
   "metadata": {},
   "source": [
    "Boolean arrrays can be used with loc but not iloc: "
   ]
  },
  {
   "cell_type": "code",
   "execution_count": 6,
   "id": "70819241",
   "metadata": {},
   "outputs": [
    {
     "data": {
      "text/html": [
       "<div>\n",
       "<style scoped>\n",
       "    .dataframe tbody tr th:only-of-type {\n",
       "        vertical-align: middle;\n",
       "    }\n",
       "\n",
       "    .dataframe tbody tr th {\n",
       "        vertical-align: top;\n",
       "    }\n",
       "\n",
       "    .dataframe thead th {\n",
       "        text-align: right;\n",
       "    }\n",
       "</style>\n",
       "<table border=\"1\" class=\"dataframe\">\n",
       "  <thead>\n",
       "    <tr style=\"text-align: right;\">\n",
       "      <th></th>\n",
       "      <th>one</th>\n",
       "      <th>two</th>\n",
       "      <th>three</th>\n",
       "      <th>four</th>\n",
       "    </tr>\n",
       "  </thead>\n",
       "  <tbody>\n",
       "    <tr>\n",
       "      <th>Ohio</th>\n",
       "      <td>0</td>\n",
       "      <td>1</td>\n",
       "      <td>2</td>\n",
       "      <td>3</td>\n",
       "    </tr>\n",
       "  </tbody>\n",
       "</table>\n",
       "</div>"
      ],
      "text/plain": [
       "      one  two  three  four\n",
       "Ohio    0    1      2     3"
      ]
     },
     "execution_count": 6,
     "metadata": {},
     "output_type": "execute_result"
    }
   ],
   "source": [
    "data.loc[data.three == 2] "
   ]
  },
  {
   "cell_type": "markdown",
   "id": "de8d6df5",
   "metadata": {},
   "source": [
    "There are many ways to select and rearrange the data contained in a pandas object."
   ]
  },
  {
   "cell_type": "code",
   "execution_count": null,
   "id": "b615ead1",
   "metadata": {},
   "outputs": [],
   "source": [
    "options = pd.DataFrame({\n",
    "    'Type' : [\n",
    "        'df[column]', \n",
    "        'df.loc[rows]',\n",
    "        'df.loc[: cols]',\n",
    "        'df.loc[rows, cols]',\n",
    "        'df.iloc[rows]',\n",
    "        'df.iloc[:, cols]', \n",
    "        'df.iloc[rows, cols]',\n",
    "        'df.at[row, col]',\n",
    "        'df.lat[row, col]',\n",
    "        'reindex method'\n",
    "    ], \n",
    "    \n",
    "    'Notes': [\n",
    "        ''\n",
    "    ]\n",
    "})"
   ]
  },
  {
   "cell_type": "markdown",
   "id": "b0ea8f73",
   "metadata": {},
   "source": [
    "# Integer Index pitfalls"
   ]
  },
  {
   "cell_type": "markdown",
   "id": "fa37de19",
   "metadata": {},
   "source": [
    "For example, you might not expect the following code to generate an error: "
   ]
  },
  {
   "cell_type": "code",
   "execution_count": 7,
   "id": "ac94d00c",
   "metadata": {},
   "outputs": [
    {
     "data": {
      "text/plain": [
       "0    0.0\n",
       "1    1.0\n",
       "2    2.0\n",
       "dtype: float64"
      ]
     },
     "execution_count": 7,
     "metadata": {},
     "output_type": "execute_result"
    }
   ],
   "source": [
    "ser = pd.Series(np.arange(3.))\n",
    "ser"
   ]
  },
  {
   "cell_type": "code",
   "execution_count": 8,
   "id": "dfd4ad8f",
   "metadata": {},
   "outputs": [
    {
     "ename": "KeyError",
     "evalue": "-1",
     "output_type": "error",
     "traceback": [
      "\u001b[1;31m---------------------------------------------------------------------------\u001b[0m",
      "\u001b[1;31mValueError\u001b[0m                                Traceback (most recent call last)",
      "File \u001b[1;32mC:\\ProgramData\\anaconda3\\Lib\\site-packages\\pandas\\core\\indexes\\range.py:345\u001b[0m, in \u001b[0;36mRangeIndex.get_loc\u001b[1;34m(self, key)\u001b[0m\n\u001b[0;32m    344\u001b[0m \u001b[38;5;28;01mtry\u001b[39;00m:\n\u001b[1;32m--> 345\u001b[0m     \u001b[38;5;28;01mreturn\u001b[39;00m \u001b[38;5;28mself\u001b[39m\u001b[38;5;241m.\u001b[39m_range\u001b[38;5;241m.\u001b[39mindex(new_key)\n\u001b[0;32m    346\u001b[0m \u001b[38;5;28;01mexcept\u001b[39;00m \u001b[38;5;167;01mValueError\u001b[39;00m \u001b[38;5;28;01mas\u001b[39;00m err:\n",
      "\u001b[1;31mValueError\u001b[0m: -1 is not in range",
      "\nThe above exception was the direct cause of the following exception:\n",
      "\u001b[1;31mKeyError\u001b[0m                                  Traceback (most recent call last)",
      "Cell \u001b[1;32mIn[8], line 1\u001b[0m\n\u001b[1;32m----> 1\u001b[0m ser[\u001b[38;5;241m-\u001b[39m\u001b[38;5;241m1\u001b[39m]\n",
      "File \u001b[1;32mC:\\ProgramData\\anaconda3\\Lib\\site-packages\\pandas\\core\\series.py:1007\u001b[0m, in \u001b[0;36mSeries.__getitem__\u001b[1;34m(self, key)\u001b[0m\n\u001b[0;32m   1004\u001b[0m     \u001b[38;5;28;01mreturn\u001b[39;00m \u001b[38;5;28mself\u001b[39m\u001b[38;5;241m.\u001b[39m_values[key]\n\u001b[0;32m   1006\u001b[0m \u001b[38;5;28;01melif\u001b[39;00m key_is_scalar:\n\u001b[1;32m-> 1007\u001b[0m     \u001b[38;5;28;01mreturn\u001b[39;00m \u001b[38;5;28mself\u001b[39m\u001b[38;5;241m.\u001b[39m_get_value(key)\n\u001b[0;32m   1009\u001b[0m \u001b[38;5;28;01mif\u001b[39;00m is_hashable(key):\n\u001b[0;32m   1010\u001b[0m     \u001b[38;5;66;03m# Otherwise index.get_value will raise InvalidIndexError\u001b[39;00m\n\u001b[0;32m   1011\u001b[0m     \u001b[38;5;28;01mtry\u001b[39;00m:\n\u001b[0;32m   1012\u001b[0m         \u001b[38;5;66;03m# For labels that don't resolve as scalars like tuples and frozensets\u001b[39;00m\n",
      "File \u001b[1;32mC:\\ProgramData\\anaconda3\\Lib\\site-packages\\pandas\\core\\series.py:1116\u001b[0m, in \u001b[0;36mSeries._get_value\u001b[1;34m(self, label, takeable)\u001b[0m\n\u001b[0;32m   1113\u001b[0m     \u001b[38;5;28;01mreturn\u001b[39;00m \u001b[38;5;28mself\u001b[39m\u001b[38;5;241m.\u001b[39m_values[label]\n\u001b[0;32m   1115\u001b[0m \u001b[38;5;66;03m# Similar to Index.get_value, but we do not fall back to positional\u001b[39;00m\n\u001b[1;32m-> 1116\u001b[0m loc \u001b[38;5;241m=\u001b[39m \u001b[38;5;28mself\u001b[39m\u001b[38;5;241m.\u001b[39mindex\u001b[38;5;241m.\u001b[39mget_loc(label)\n\u001b[0;32m   1118\u001b[0m \u001b[38;5;28;01mif\u001b[39;00m is_integer(loc):\n\u001b[0;32m   1119\u001b[0m     \u001b[38;5;28;01mreturn\u001b[39;00m \u001b[38;5;28mself\u001b[39m\u001b[38;5;241m.\u001b[39m_values[loc]\n",
      "File \u001b[1;32mC:\\ProgramData\\anaconda3\\Lib\\site-packages\\pandas\\core\\indexes\\range.py:347\u001b[0m, in \u001b[0;36mRangeIndex.get_loc\u001b[1;34m(self, key)\u001b[0m\n\u001b[0;32m    345\u001b[0m         \u001b[38;5;28;01mreturn\u001b[39;00m \u001b[38;5;28mself\u001b[39m\u001b[38;5;241m.\u001b[39m_range\u001b[38;5;241m.\u001b[39mindex(new_key)\n\u001b[0;32m    346\u001b[0m     \u001b[38;5;28;01mexcept\u001b[39;00m \u001b[38;5;167;01mValueError\u001b[39;00m \u001b[38;5;28;01mas\u001b[39;00m err:\n\u001b[1;32m--> 347\u001b[0m         \u001b[38;5;28;01mraise\u001b[39;00m \u001b[38;5;167;01mKeyError\u001b[39;00m(key) \u001b[38;5;28;01mfrom\u001b[39;00m \u001b[38;5;21;01merr\u001b[39;00m\n\u001b[0;32m    348\u001b[0m \u001b[38;5;28;01mif\u001b[39;00m \u001b[38;5;28misinstance\u001b[39m(key, Hashable):\n\u001b[0;32m    349\u001b[0m     \u001b[38;5;28;01mraise\u001b[39;00m \u001b[38;5;167;01mKeyError\u001b[39;00m(key)\n",
      "\u001b[1;31mKeyError\u001b[0m: -1"
     ]
    }
   ],
   "source": [
    "ser[-1]"
   ]
  },
  {
   "cell_type": "markdown",
   "id": "eb3b0b34",
   "metadata": {},
   "source": [
    "In this case, pandas could \"fall back\" on integer indexing, but it is difficult to do this in general without introducing subtle bugs into the user code. Here we have so index containing 0, 1, and 2, but pandas does not want to guess what the user wants (label-base indexing or position-based): "
   ]
  },
  {
   "cell_type": "code",
   "execution_count": 9,
   "id": "4359f8a0",
   "metadata": {},
   "outputs": [
    {
     "data": {
      "text/plain": [
       "0    0.0\n",
       "1    1.0\n",
       "2    2.0\n",
       "dtype: float64"
      ]
     },
     "execution_count": 9,
     "metadata": {},
     "output_type": "execute_result"
    }
   ],
   "source": [
    "ser "
   ]
  },
  {
   "cell_type": "code",
   "execution_count": 10,
   "id": "7c2758e0",
   "metadata": {},
   "outputs": [],
   "source": [
    "ser2 = pd.Series(np.arange(3.), index = [\"a\", \"b\", \"c\"])"
   ]
  },
  {
   "cell_type": "code",
   "execution_count": 11,
   "id": "028b5857",
   "metadata": {},
   "outputs": [
    {
     "data": {
      "text/plain": [
       "2.0"
      ]
     },
     "execution_count": 11,
     "metadata": {},
     "output_type": "execute_result"
    }
   ],
   "source": [
    "ser2[-1]"
   ]
  },
  {
   "cell_type": "markdown",
   "id": "fc66cce0",
   "metadata": {},
   "source": [
    "On the other hand, with a noninteger index, there is no such ambiguity: \n"
   ]
  },
  {
   "cell_type": "code",
   "execution_count": 12,
   "id": "03af1fee",
   "metadata": {},
   "outputs": [
    {
     "data": {
      "text/plain": [
       "2.0"
      ]
     },
     "execution_count": 12,
     "metadata": {},
     "output_type": "execute_result"
    }
   ],
   "source": [
    "ser2[-1] "
   ]
  },
  {
   "cell_type": "markdown",
   "id": "80ba67f0",
   "metadata": {},
   "source": [
    "If you have an axis index containg integers, data selection will always be label oriented. As I said above, if you use loc (for labels) or iloc (for integers) you will get exactly what you want: "
   ]
  },
  {
   "cell_type": "code",
   "execution_count": 14,
   "id": "5dd7aa00",
   "metadata": {},
   "outputs": [
    {
     "data": {
      "text/plain": [
       "2.0"
      ]
     },
     "execution_count": 14,
     "metadata": {},
     "output_type": "execute_result"
    }
   ],
   "source": [
    "ser.iloc[-1]"
   ]
  },
  {
   "cell_type": "code",
   "execution_count": null,
   "id": "a2b82d40",
   "metadata": {},
   "outputs": [],
   "source": [
    "On the other hand, slicing with integers is always integer oriented "
   ]
  },
  {
   "cell_type": "code",
   "execution_count": 15,
   "id": "f8498bde",
   "metadata": {},
   "outputs": [
    {
     "data": {
      "text/plain": [
       "0    0.0\n",
       "1    1.0\n",
       "dtype: float64"
      ]
     },
     "execution_count": 15,
     "metadata": {},
     "output_type": "execute_result"
    }
   ],
   "source": [
    "ser[:2]"
   ]
  },
  {
   "cell_type": "markdown",
   "id": "9246f395",
   "metadata": {},
   "source": [
    "# Pitfalls with chained indexing "
   ]
  },
  {
   "cell_type": "code",
   "execution_count": 22,
   "id": "8397a770",
   "metadata": {},
   "outputs": [],
   "source": [
    "data.loc[:,\"one\"] = 1 "
   ]
  },
  {
   "cell_type": "code",
   "execution_count": 23,
   "id": "d6ec6913",
   "metadata": {},
   "outputs": [
    {
     "data": {
      "text/html": [
       "<div>\n",
       "<style scoped>\n",
       "    .dataframe tbody tr th:only-of-type {\n",
       "        vertical-align: middle;\n",
       "    }\n",
       "\n",
       "    .dataframe tbody tr th {\n",
       "        vertical-align: top;\n",
       "    }\n",
       "\n",
       "    .dataframe thead th {\n",
       "        text-align: right;\n",
       "    }\n",
       "</style>\n",
       "<table border=\"1\" class=\"dataframe\">\n",
       "  <thead>\n",
       "    <tr style=\"text-align: right;\">\n",
       "      <th></th>\n",
       "      <th>one</th>\n",
       "      <th>two</th>\n",
       "      <th>three</th>\n",
       "      <th>four</th>\n",
       "    </tr>\n",
       "  </thead>\n",
       "  <tbody>\n",
       "    <tr>\n",
       "      <th>Ohio</th>\n",
       "      <td>1</td>\n",
       "      <td>1</td>\n",
       "      <td>2</td>\n",
       "      <td>3</td>\n",
       "    </tr>\n",
       "    <tr>\n",
       "      <th>Colorado</th>\n",
       "      <td>1</td>\n",
       "      <td>5</td>\n",
       "      <td>6</td>\n",
       "      <td>7</td>\n",
       "    </tr>\n",
       "    <tr>\n",
       "      <th>Utah</th>\n",
       "      <td>1</td>\n",
       "      <td>5</td>\n",
       "      <td>5</td>\n",
       "      <td>5</td>\n",
       "    </tr>\n",
       "    <tr>\n",
       "      <th>New York</th>\n",
       "      <td>1</td>\n",
       "      <td>13</td>\n",
       "      <td>14</td>\n",
       "      <td>15</td>\n",
       "    </tr>\n",
       "  </tbody>\n",
       "</table>\n",
       "</div>"
      ],
      "text/plain": [
       "          one  two  three  four\n",
       "Ohio        1    1      2     3\n",
       "Colorado    1    5      6     7\n",
       "Utah        1    5      5     5\n",
       "New York    1   13     14    15"
      ]
     },
     "execution_count": 23,
     "metadata": {},
     "output_type": "execute_result"
    }
   ],
   "source": [
    "data"
   ]
  },
  {
   "cell_type": "code",
   "execution_count": 21,
   "id": "0cbb6bf5",
   "metadata": {},
   "outputs": [],
   "source": [
    "data.iloc[2] = 5 "
   ]
  },
  {
   "cell_type": "code",
   "execution_count": 24,
   "id": "e2bd2a01",
   "metadata": {},
   "outputs": [
    {
     "data": {
      "text/html": [
       "<div>\n",
       "<style scoped>\n",
       "    .dataframe tbody tr th:only-of-type {\n",
       "        vertical-align: middle;\n",
       "    }\n",
       "\n",
       "    .dataframe tbody tr th {\n",
       "        vertical-align: top;\n",
       "    }\n",
       "\n",
       "    .dataframe thead th {\n",
       "        text-align: right;\n",
       "    }\n",
       "</style>\n",
       "<table border=\"1\" class=\"dataframe\">\n",
       "  <thead>\n",
       "    <tr style=\"text-align: right;\">\n",
       "      <th></th>\n",
       "      <th>one</th>\n",
       "      <th>two</th>\n",
       "      <th>three</th>\n",
       "      <th>four</th>\n",
       "    </tr>\n",
       "  </thead>\n",
       "  <tbody>\n",
       "    <tr>\n",
       "      <th>Ohio</th>\n",
       "      <td>1</td>\n",
       "      <td>1</td>\n",
       "      <td>2</td>\n",
       "      <td>3</td>\n",
       "    </tr>\n",
       "    <tr>\n",
       "      <th>Colorado</th>\n",
       "      <td>1</td>\n",
       "      <td>5</td>\n",
       "      <td>6</td>\n",
       "      <td>7</td>\n",
       "    </tr>\n",
       "    <tr>\n",
       "      <th>Utah</th>\n",
       "      <td>1</td>\n",
       "      <td>5</td>\n",
       "      <td>5</td>\n",
       "      <td>5</td>\n",
       "    </tr>\n",
       "    <tr>\n",
       "      <th>New York</th>\n",
       "      <td>1</td>\n",
       "      <td>13</td>\n",
       "      <td>14</td>\n",
       "      <td>15</td>\n",
       "    </tr>\n",
       "  </tbody>\n",
       "</table>\n",
       "</div>"
      ],
      "text/plain": [
       "          one  two  three  four\n",
       "Ohio        1    1      2     3\n",
       "Colorado    1    5      6     7\n",
       "Utah        1    5      5     5\n",
       "New York    1   13     14    15"
      ]
     },
     "execution_count": 24,
     "metadata": {},
     "output_type": "execute_result"
    }
   ],
   "source": [
    "data"
   ]
  },
  {
   "cell_type": "code",
   "execution_count": 25,
   "id": "a97a4d11",
   "metadata": {},
   "outputs": [],
   "source": [
    "data.loc[data[\"four\"] > 5] = 3"
   ]
  },
  {
   "cell_type": "code",
   "execution_count": 26,
   "id": "aa36ef95",
   "metadata": {},
   "outputs": [
    {
     "data": {
      "text/html": [
       "<div>\n",
       "<style scoped>\n",
       "    .dataframe tbody tr th:only-of-type {\n",
       "        vertical-align: middle;\n",
       "    }\n",
       "\n",
       "    .dataframe tbody tr th {\n",
       "        vertical-align: top;\n",
       "    }\n",
       "\n",
       "    .dataframe thead th {\n",
       "        text-align: right;\n",
       "    }\n",
       "</style>\n",
       "<table border=\"1\" class=\"dataframe\">\n",
       "  <thead>\n",
       "    <tr style=\"text-align: right;\">\n",
       "      <th></th>\n",
       "      <th>one</th>\n",
       "      <th>two</th>\n",
       "      <th>three</th>\n",
       "      <th>four</th>\n",
       "    </tr>\n",
       "  </thead>\n",
       "  <tbody>\n",
       "    <tr>\n",
       "      <th>Ohio</th>\n",
       "      <td>1</td>\n",
       "      <td>1</td>\n",
       "      <td>2</td>\n",
       "      <td>3</td>\n",
       "    </tr>\n",
       "    <tr>\n",
       "      <th>Colorado</th>\n",
       "      <td>3</td>\n",
       "      <td>3</td>\n",
       "      <td>3</td>\n",
       "      <td>3</td>\n",
       "    </tr>\n",
       "    <tr>\n",
       "      <th>Utah</th>\n",
       "      <td>1</td>\n",
       "      <td>5</td>\n",
       "      <td>5</td>\n",
       "      <td>5</td>\n",
       "    </tr>\n",
       "    <tr>\n",
       "      <th>New York</th>\n",
       "      <td>3</td>\n",
       "      <td>3</td>\n",
       "      <td>3</td>\n",
       "      <td>3</td>\n",
       "    </tr>\n",
       "  </tbody>\n",
       "</table>\n",
       "</div>"
      ],
      "text/plain": [
       "          one  two  three  four\n",
       "Ohio        1    1      2     3\n",
       "Colorado    3    3      3     3\n",
       "Utah        1    5      5     5\n",
       "New York    3    3      3     3"
      ]
     },
     "execution_count": 26,
     "metadata": {},
     "output_type": "execute_result"
    }
   ],
   "source": [
    "data"
   ]
  },
  {
   "cell_type": "code",
   "execution_count": 27,
   "id": "5abf5459",
   "metadata": {},
   "outputs": [],
   "source": [
    "data.loc[data.three == 5, \"three\"] = 6 "
   ]
  },
  {
   "cell_type": "code",
   "execution_count": 28,
   "id": "258a6357",
   "metadata": {},
   "outputs": [
    {
     "data": {
      "text/html": [
       "<div>\n",
       "<style scoped>\n",
       "    .dataframe tbody tr th:only-of-type {\n",
       "        vertical-align: middle;\n",
       "    }\n",
       "\n",
       "    .dataframe tbody tr th {\n",
       "        vertical-align: top;\n",
       "    }\n",
       "\n",
       "    .dataframe thead th {\n",
       "        text-align: right;\n",
       "    }\n",
       "</style>\n",
       "<table border=\"1\" class=\"dataframe\">\n",
       "  <thead>\n",
       "    <tr style=\"text-align: right;\">\n",
       "      <th></th>\n",
       "      <th>one</th>\n",
       "      <th>two</th>\n",
       "      <th>three</th>\n",
       "      <th>four</th>\n",
       "    </tr>\n",
       "  </thead>\n",
       "  <tbody>\n",
       "    <tr>\n",
       "      <th>Ohio</th>\n",
       "      <td>1</td>\n",
       "      <td>1</td>\n",
       "      <td>2</td>\n",
       "      <td>3</td>\n",
       "    </tr>\n",
       "    <tr>\n",
       "      <th>Colorado</th>\n",
       "      <td>3</td>\n",
       "      <td>3</td>\n",
       "      <td>3</td>\n",
       "      <td>3</td>\n",
       "    </tr>\n",
       "    <tr>\n",
       "      <th>Utah</th>\n",
       "      <td>1</td>\n",
       "      <td>5</td>\n",
       "      <td>6</td>\n",
       "      <td>5</td>\n",
       "    </tr>\n",
       "    <tr>\n",
       "      <th>New York</th>\n",
       "      <td>3</td>\n",
       "      <td>3</td>\n",
       "      <td>3</td>\n",
       "      <td>3</td>\n",
       "    </tr>\n",
       "  </tbody>\n",
       "</table>\n",
       "</div>"
      ],
      "text/plain": [
       "          one  two  three  four\n",
       "Ohio        1    1      2     3\n",
       "Colorado    3    3      3     3\n",
       "Utah        1    5      6     5\n",
       "New York    3    3      3     3"
      ]
     },
     "execution_count": 28,
     "metadata": {},
     "output_type": "execute_result"
    }
   ],
   "source": [
    "data "
   ]
  },
  {
   "cell_type": "markdown",
   "id": "70add18c",
   "metadata": {},
   "source": [
    "A good rule of thumb is to avoid chained indexing when doing assignments. There are other cases where pandas will generate SettingWithCopyWarning that have to do with chained indexing. I refer you to this this topic in the online pandas documenttation. "
   ]
  },
  {
   "cell_type": "markdown",
   "id": "a41d965c",
   "metadata": {},
   "source": [
    "# Arithmetic and Data Alignment"
   ]
  },
  {
   "cell_type": "markdown",
   "id": "3afe946d",
   "metadata": {},
   "source": [
    "Pandas can make it much simpler to work with objects that have different indexed. For example, when you add objects, it any index pairs are not the same, the respective index in the result will be the union of the index pairs. Let's book at an example: "
   ]
  },
  {
   "cell_type": "code",
   "execution_count": 29,
   "id": "aa91b094",
   "metadata": {},
   "outputs": [],
   "source": [
    "s1 = pd.Series([7.3, -2.5, 3.4, 1.5], index = [\"a\", \"c\", \"d\", \"e\"])"
   ]
  },
  {
   "cell_type": "code",
   "execution_count": 33,
   "id": "7e05dc8a",
   "metadata": {},
   "outputs": [],
   "source": [
    "s2 = pd.Series([-2.1, 3.6, -1.5,4, 3.1], index = [\"a\", \"c\", \"e\", \"f\",\"g\"])"
   ]
  },
  {
   "cell_type": "code",
   "execution_count": 30,
   "id": "1bc2806c",
   "metadata": {},
   "outputs": [
    {
     "data": {
      "text/plain": [
       "a    7.3\n",
       "c   -2.5\n",
       "d    3.4\n",
       "e    1.5\n",
       "dtype: float64"
      ]
     },
     "execution_count": 30,
     "metadata": {},
     "output_type": "execute_result"
    }
   ],
   "source": [
    "s1"
   ]
  },
  {
   "cell_type": "code",
   "execution_count": 34,
   "id": "2c885537",
   "metadata": {},
   "outputs": [
    {
     "data": {
      "text/plain": [
       "a   -2.1\n",
       "c    3.6\n",
       "e   -1.5\n",
       "f    4.0\n",
       "g    3.1\n",
       "dtype: float64"
      ]
     },
     "execution_count": 34,
     "metadata": {},
     "output_type": "execute_result"
    }
   ],
   "source": [
    "s2"
   ]
  },
  {
   "cell_type": "code",
   "execution_count": 35,
   "id": "1d120d0f",
   "metadata": {},
   "outputs": [
    {
     "data": {
      "text/plain": [
       "a    5.2\n",
       "c    1.1\n",
       "d    NaN\n",
       "e    0.0\n",
       "f    NaN\n",
       "g    NaN\n",
       "dtype: float64"
      ]
     },
     "execution_count": 35,
     "metadata": {},
     "output_type": "execute_result"
    }
   ],
   "source": [
    "s1+s2"
   ]
  },
  {
   "cell_type": "markdown",
   "id": "23ed57a5",
   "metadata": {},
   "source": [
    "The internal data alignment introduces missing values in the label locations that don't overlap. Missing values will then propagate in further arithmetic computations. "
   ]
  },
  {
   "cell_type": "markdown",
   "id": "763cc0b0",
   "metadata": {},
   "source": [
    "In the case of DataFrame, alignment is performed on both rows and columns: "
   ]
  },
  {
   "cell_type": "code",
   "execution_count": 3,
   "id": "2ba2febc",
   "metadata": {},
   "outputs": [],
   "source": [
    "df1 = pd.DataFrame(np.arange(9.).reshape((3,3)), columns = list(\"bcd\"), index = [\"Ohio\",\"Texas\",\"Colorado\"])"
   ]
  },
  {
   "cell_type": "code",
   "execution_count": 2,
   "id": "80ead92d",
   "metadata": {},
   "outputs": [],
   "source": [
    "df2 = pd.DataFrame(np.arange(12.).reshape((4,3)), columns = list(\"bde\"),\n",
    "                  index = [\"Utah\", \"Ohio\", \"Texas\", \"Oregon\"])"
   ]
  },
  {
   "cell_type": "code",
   "execution_count": 4,
   "id": "fca8a063",
   "metadata": {},
   "outputs": [
    {
     "data": {
      "text/html": [
       "<div>\n",
       "<style scoped>\n",
       "    .dataframe tbody tr th:only-of-type {\n",
       "        vertical-align: middle;\n",
       "    }\n",
       "\n",
       "    .dataframe tbody tr th {\n",
       "        vertical-align: top;\n",
       "    }\n",
       "\n",
       "    .dataframe thead th {\n",
       "        text-align: right;\n",
       "    }\n",
       "</style>\n",
       "<table border=\"1\" class=\"dataframe\">\n",
       "  <thead>\n",
       "    <tr style=\"text-align: right;\">\n",
       "      <th></th>\n",
       "      <th>b</th>\n",
       "      <th>c</th>\n",
       "      <th>d</th>\n",
       "    </tr>\n",
       "  </thead>\n",
       "  <tbody>\n",
       "    <tr>\n",
       "      <th>Ohio</th>\n",
       "      <td>0.0</td>\n",
       "      <td>1.0</td>\n",
       "      <td>2.0</td>\n",
       "    </tr>\n",
       "    <tr>\n",
       "      <th>Texas</th>\n",
       "      <td>3.0</td>\n",
       "      <td>4.0</td>\n",
       "      <td>5.0</td>\n",
       "    </tr>\n",
       "    <tr>\n",
       "      <th>Colorado</th>\n",
       "      <td>6.0</td>\n",
       "      <td>7.0</td>\n",
       "      <td>8.0</td>\n",
       "    </tr>\n",
       "  </tbody>\n",
       "</table>\n",
       "</div>"
      ],
      "text/plain": [
       "            b    c    d\n",
       "Ohio      0.0  1.0  2.0\n",
       "Texas     3.0  4.0  5.0\n",
       "Colorado  6.0  7.0  8.0"
      ]
     },
     "execution_count": 4,
     "metadata": {},
     "output_type": "execute_result"
    }
   ],
   "source": [
    "df1"
   ]
  },
  {
   "cell_type": "code",
   "execution_count": 5,
   "id": "df071023",
   "metadata": {},
   "outputs": [
    {
     "data": {
      "text/html": [
       "<div>\n",
       "<style scoped>\n",
       "    .dataframe tbody tr th:only-of-type {\n",
       "        vertical-align: middle;\n",
       "    }\n",
       "\n",
       "    .dataframe tbody tr th {\n",
       "        vertical-align: top;\n",
       "    }\n",
       "\n",
       "    .dataframe thead th {\n",
       "        text-align: right;\n",
       "    }\n",
       "</style>\n",
       "<table border=\"1\" class=\"dataframe\">\n",
       "  <thead>\n",
       "    <tr style=\"text-align: right;\">\n",
       "      <th></th>\n",
       "      <th>b</th>\n",
       "      <th>d</th>\n",
       "      <th>e</th>\n",
       "    </tr>\n",
       "  </thead>\n",
       "  <tbody>\n",
       "    <tr>\n",
       "      <th>Utah</th>\n",
       "      <td>0.0</td>\n",
       "      <td>1.0</td>\n",
       "      <td>2.0</td>\n",
       "    </tr>\n",
       "    <tr>\n",
       "      <th>Ohio</th>\n",
       "      <td>3.0</td>\n",
       "      <td>4.0</td>\n",
       "      <td>5.0</td>\n",
       "    </tr>\n",
       "    <tr>\n",
       "      <th>Texas</th>\n",
       "      <td>6.0</td>\n",
       "      <td>7.0</td>\n",
       "      <td>8.0</td>\n",
       "    </tr>\n",
       "    <tr>\n",
       "      <th>Oregon</th>\n",
       "      <td>9.0</td>\n",
       "      <td>10.0</td>\n",
       "      <td>11.0</td>\n",
       "    </tr>\n",
       "  </tbody>\n",
       "</table>\n",
       "</div>"
      ],
      "text/plain": [
       "          b     d     e\n",
       "Utah    0.0   1.0   2.0\n",
       "Ohio    3.0   4.0   5.0\n",
       "Texas   6.0   7.0   8.0\n",
       "Oregon  9.0  10.0  11.0"
      ]
     },
     "execution_count": 5,
     "metadata": {},
     "output_type": "execute_result"
    }
   ],
   "source": [
    "df2"
   ]
  },
  {
   "cell_type": "markdown",
   "id": "6fbe71bb",
   "metadata": {},
   "source": [
    "Adding these retunns a DataFrame with index and columns that are the unions of ones in each DataFrame: "
   ]
  },
  {
   "cell_type": "code",
   "execution_count": 6,
   "id": "f544ab1f",
   "metadata": {},
   "outputs": [
    {
     "data": {
      "text/html": [
       "<div>\n",
       "<style scoped>\n",
       "    .dataframe tbody tr th:only-of-type {\n",
       "        vertical-align: middle;\n",
       "    }\n",
       "\n",
       "    .dataframe tbody tr th {\n",
       "        vertical-align: top;\n",
       "    }\n",
       "\n",
       "    .dataframe thead th {\n",
       "        text-align: right;\n",
       "    }\n",
       "</style>\n",
       "<table border=\"1\" class=\"dataframe\">\n",
       "  <thead>\n",
       "    <tr style=\"text-align: right;\">\n",
       "      <th></th>\n",
       "      <th>b</th>\n",
       "      <th>c</th>\n",
       "      <th>d</th>\n",
       "      <th>e</th>\n",
       "    </tr>\n",
       "  </thead>\n",
       "  <tbody>\n",
       "    <tr>\n",
       "      <th>Colorado</th>\n",
       "      <td>NaN</td>\n",
       "      <td>NaN</td>\n",
       "      <td>NaN</td>\n",
       "      <td>NaN</td>\n",
       "    </tr>\n",
       "    <tr>\n",
       "      <th>Ohio</th>\n",
       "      <td>3.0</td>\n",
       "      <td>NaN</td>\n",
       "      <td>6.0</td>\n",
       "      <td>NaN</td>\n",
       "    </tr>\n",
       "    <tr>\n",
       "      <th>Oregon</th>\n",
       "      <td>NaN</td>\n",
       "      <td>NaN</td>\n",
       "      <td>NaN</td>\n",
       "      <td>NaN</td>\n",
       "    </tr>\n",
       "    <tr>\n",
       "      <th>Texas</th>\n",
       "      <td>9.0</td>\n",
       "      <td>NaN</td>\n",
       "      <td>12.0</td>\n",
       "      <td>NaN</td>\n",
       "    </tr>\n",
       "    <tr>\n",
       "      <th>Utah</th>\n",
       "      <td>NaN</td>\n",
       "      <td>NaN</td>\n",
       "      <td>NaN</td>\n",
       "      <td>NaN</td>\n",
       "    </tr>\n",
       "  </tbody>\n",
       "</table>\n",
       "</div>"
      ],
      "text/plain": [
       "            b   c     d   e\n",
       "Colorado  NaN NaN   NaN NaN\n",
       "Ohio      3.0 NaN   6.0 NaN\n",
       "Oregon    NaN NaN   NaN NaN\n",
       "Texas     9.0 NaN  12.0 NaN\n",
       "Utah      NaN NaN   NaN NaN"
      ]
     },
     "execution_count": 6,
     "metadata": {},
     "output_type": "execute_result"
    }
   ],
   "source": [
    "df1+df2 "
   ]
  },
  {
   "cell_type": "markdown",
   "id": "2b89fbb7",
   "metadata": {},
   "source": [
    "Since the \"c\" and \"e\" columns are not found in both DataFrame objects, they appear as missing in the result. The same holds for the rows with labels that are not common to both objets. "
   ]
  },
  {
   "cell_type": "markdown",
   "id": "1d2dd0f7",
   "metadata": {},
   "source": [
    "If you add DataFrame objects with not column or row labels in common, the result will contain all nulls "
   ]
  },
  {
   "cell_type": "code",
   "execution_count": 7,
   "id": "becdbbe8",
   "metadata": {},
   "outputs": [],
   "source": [
    "df1 = pd.DataFrame({\"A\": [1,2]})"
   ]
  },
  {
   "cell_type": "code",
   "execution_count": 8,
   "id": "3bcefe38",
   "metadata": {},
   "outputs": [],
   "source": [
    "df2 = pd.DataFrame({\"B\": [3,4]})"
   ]
  },
  {
   "cell_type": "code",
   "execution_count": 9,
   "id": "65634201",
   "metadata": {},
   "outputs": [
    {
     "data": {
      "text/html": [
       "<div>\n",
       "<style scoped>\n",
       "    .dataframe tbody tr th:only-of-type {\n",
       "        vertical-align: middle;\n",
       "    }\n",
       "\n",
       "    .dataframe tbody tr th {\n",
       "        vertical-align: top;\n",
       "    }\n",
       "\n",
       "    .dataframe thead th {\n",
       "        text-align: right;\n",
       "    }\n",
       "</style>\n",
       "<table border=\"1\" class=\"dataframe\">\n",
       "  <thead>\n",
       "    <tr style=\"text-align: right;\">\n",
       "      <th></th>\n",
       "      <th>A</th>\n",
       "    </tr>\n",
       "  </thead>\n",
       "  <tbody>\n",
       "    <tr>\n",
       "      <th>0</th>\n",
       "      <td>1</td>\n",
       "    </tr>\n",
       "    <tr>\n",
       "      <th>1</th>\n",
       "      <td>2</td>\n",
       "    </tr>\n",
       "  </tbody>\n",
       "</table>\n",
       "</div>"
      ],
      "text/plain": [
       "   A\n",
       "0  1\n",
       "1  2"
      ]
     },
     "execution_count": 9,
     "metadata": {},
     "output_type": "execute_result"
    }
   ],
   "source": [
    "df1"
   ]
  },
  {
   "cell_type": "code",
   "execution_count": 10,
   "id": "1c3e05d5",
   "metadata": {},
   "outputs": [
    {
     "data": {
      "text/html": [
       "<div>\n",
       "<style scoped>\n",
       "    .dataframe tbody tr th:only-of-type {\n",
       "        vertical-align: middle;\n",
       "    }\n",
       "\n",
       "    .dataframe tbody tr th {\n",
       "        vertical-align: top;\n",
       "    }\n",
       "\n",
       "    .dataframe thead th {\n",
       "        text-align: right;\n",
       "    }\n",
       "</style>\n",
       "<table border=\"1\" class=\"dataframe\">\n",
       "  <thead>\n",
       "    <tr style=\"text-align: right;\">\n",
       "      <th></th>\n",
       "      <th>B</th>\n",
       "    </tr>\n",
       "  </thead>\n",
       "  <tbody>\n",
       "    <tr>\n",
       "      <th>0</th>\n",
       "      <td>3</td>\n",
       "    </tr>\n",
       "    <tr>\n",
       "      <th>1</th>\n",
       "      <td>4</td>\n",
       "    </tr>\n",
       "  </tbody>\n",
       "</table>\n",
       "</div>"
      ],
      "text/plain": [
       "   B\n",
       "0  3\n",
       "1  4"
      ]
     },
     "execution_count": 10,
     "metadata": {},
     "output_type": "execute_result"
    }
   ],
   "source": [
    "df2"
   ]
  },
  {
   "cell_type": "code",
   "execution_count": 11,
   "id": "93060e02",
   "metadata": {},
   "outputs": [
    {
     "data": {
      "text/html": [
       "<div>\n",
       "<style scoped>\n",
       "    .dataframe tbody tr th:only-of-type {\n",
       "        vertical-align: middle;\n",
       "    }\n",
       "\n",
       "    .dataframe tbody tr th {\n",
       "        vertical-align: top;\n",
       "    }\n",
       "\n",
       "    .dataframe thead th {\n",
       "        text-align: right;\n",
       "    }\n",
       "</style>\n",
       "<table border=\"1\" class=\"dataframe\">\n",
       "  <thead>\n",
       "    <tr style=\"text-align: right;\">\n",
       "      <th></th>\n",
       "      <th>A</th>\n",
       "      <th>B</th>\n",
       "    </tr>\n",
       "  </thead>\n",
       "  <tbody>\n",
       "    <tr>\n",
       "      <th>0</th>\n",
       "      <td>NaN</td>\n",
       "      <td>NaN</td>\n",
       "    </tr>\n",
       "    <tr>\n",
       "      <th>1</th>\n",
       "      <td>NaN</td>\n",
       "      <td>NaN</td>\n",
       "    </tr>\n",
       "  </tbody>\n",
       "</table>\n",
       "</div>"
      ],
      "text/plain": [
       "    A   B\n",
       "0 NaN NaN\n",
       "1 NaN NaN"
      ]
     },
     "execution_count": 11,
     "metadata": {},
     "output_type": "execute_result"
    }
   ],
   "source": [
    "df1+df2"
   ]
  },
  {
   "cell_type": "markdown",
   "id": "dfc7a0ad",
   "metadata": {},
   "source": [
    "# Arithmetic methods with fill values "
   ]
  },
  {
   "cell_type": "markdown",
   "id": "3f66b772",
   "metadata": {},
   "source": [
    "In arithmetic operations between differently indexed objects, you might want to fill with a special value, like 0, when an axis label is found in one object but not the other. Here is an example where we set a particular value to NA (null) by assigning np.nan to it: "
   ]
  },
  {
   "cell_type": "code",
   "execution_count": 12,
   "id": "c5f3938a",
   "metadata": {},
   "outputs": [],
   "source": [
    "df1 = pd.DataFrame(np.arange(12.).reshape((3,4)), \n",
    "                  columns = list('abcd'))"
   ]
  },
  {
   "cell_type": "code",
   "execution_count": 16,
   "id": "1596a3e8",
   "metadata": {},
   "outputs": [],
   "source": [
    "df2 = pd.DataFrame(np.arange(20.).reshape((4,5)),\n",
    "                  columns = list('abcde'))"
   ]
  },
  {
   "cell_type": "code",
   "execution_count": 18,
   "id": "3b2da2ef",
   "metadata": {},
   "outputs": [],
   "source": [
    "df2.loc[1,\"b\"] = np.nan"
   ]
  },
  {
   "cell_type": "code",
   "execution_count": 19,
   "id": "6a0a0676",
   "metadata": {},
   "outputs": [
    {
     "data": {
      "text/html": [
       "<div>\n",
       "<style scoped>\n",
       "    .dataframe tbody tr th:only-of-type {\n",
       "        vertical-align: middle;\n",
       "    }\n",
       "\n",
       "    .dataframe tbody tr th {\n",
       "        vertical-align: top;\n",
       "    }\n",
       "\n",
       "    .dataframe thead th {\n",
       "        text-align: right;\n",
       "    }\n",
       "</style>\n",
       "<table border=\"1\" class=\"dataframe\">\n",
       "  <thead>\n",
       "    <tr style=\"text-align: right;\">\n",
       "      <th></th>\n",
       "      <th>a</th>\n",
       "      <th>b</th>\n",
       "      <th>c</th>\n",
       "      <th>d</th>\n",
       "      <th>e</th>\n",
       "    </tr>\n",
       "  </thead>\n",
       "  <tbody>\n",
       "    <tr>\n",
       "      <th>0</th>\n",
       "      <td>0.0</td>\n",
       "      <td>1.0</td>\n",
       "      <td>2.0</td>\n",
       "      <td>3.0</td>\n",
       "      <td>4.0</td>\n",
       "    </tr>\n",
       "    <tr>\n",
       "      <th>1</th>\n",
       "      <td>5.0</td>\n",
       "      <td>NaN</td>\n",
       "      <td>7.0</td>\n",
       "      <td>8.0</td>\n",
       "      <td>9.0</td>\n",
       "    </tr>\n",
       "    <tr>\n",
       "      <th>2</th>\n",
       "      <td>10.0</td>\n",
       "      <td>11.0</td>\n",
       "      <td>12.0</td>\n",
       "      <td>13.0</td>\n",
       "      <td>14.0</td>\n",
       "    </tr>\n",
       "    <tr>\n",
       "      <th>3</th>\n",
       "      <td>15.0</td>\n",
       "      <td>16.0</td>\n",
       "      <td>17.0</td>\n",
       "      <td>18.0</td>\n",
       "      <td>19.0</td>\n",
       "    </tr>\n",
       "  </tbody>\n",
       "</table>\n",
       "</div>"
      ],
      "text/plain": [
       "      a     b     c     d     e\n",
       "0   0.0   1.0   2.0   3.0   4.0\n",
       "1   5.0   NaN   7.0   8.0   9.0\n",
       "2  10.0  11.0  12.0  13.0  14.0\n",
       "3  15.0  16.0  17.0  18.0  19.0"
      ]
     },
     "execution_count": 19,
     "metadata": {},
     "output_type": "execute_result"
    }
   ],
   "source": [
    "df2 "
   ]
  },
  {
   "cell_type": "markdown",
   "id": "431d4cf6",
   "metadata": {},
   "source": [
    "Adding these results in missing values in the locations that don't overlap: "
   ]
  },
  {
   "cell_type": "code",
   "execution_count": 20,
   "id": "2a09ebd5",
   "metadata": {},
   "outputs": [
    {
     "data": {
      "text/html": [
       "<div>\n",
       "<style scoped>\n",
       "    .dataframe tbody tr th:only-of-type {\n",
       "        vertical-align: middle;\n",
       "    }\n",
       "\n",
       "    .dataframe tbody tr th {\n",
       "        vertical-align: top;\n",
       "    }\n",
       "\n",
       "    .dataframe thead th {\n",
       "        text-align: right;\n",
       "    }\n",
       "</style>\n",
       "<table border=\"1\" class=\"dataframe\">\n",
       "  <thead>\n",
       "    <tr style=\"text-align: right;\">\n",
       "      <th></th>\n",
       "      <th>a</th>\n",
       "      <th>b</th>\n",
       "      <th>c</th>\n",
       "      <th>d</th>\n",
       "      <th>e</th>\n",
       "    </tr>\n",
       "  </thead>\n",
       "  <tbody>\n",
       "    <tr>\n",
       "      <th>0</th>\n",
       "      <td>0.0</td>\n",
       "      <td>2.0</td>\n",
       "      <td>4.0</td>\n",
       "      <td>6.0</td>\n",
       "      <td>NaN</td>\n",
       "    </tr>\n",
       "    <tr>\n",
       "      <th>1</th>\n",
       "      <td>9.0</td>\n",
       "      <td>NaN</td>\n",
       "      <td>13.0</td>\n",
       "      <td>15.0</td>\n",
       "      <td>NaN</td>\n",
       "    </tr>\n",
       "    <tr>\n",
       "      <th>2</th>\n",
       "      <td>18.0</td>\n",
       "      <td>20.0</td>\n",
       "      <td>22.0</td>\n",
       "      <td>24.0</td>\n",
       "      <td>NaN</td>\n",
       "    </tr>\n",
       "    <tr>\n",
       "      <th>3</th>\n",
       "      <td>NaN</td>\n",
       "      <td>NaN</td>\n",
       "      <td>NaN</td>\n",
       "      <td>NaN</td>\n",
       "      <td>NaN</td>\n",
       "    </tr>\n",
       "  </tbody>\n",
       "</table>\n",
       "</div>"
      ],
      "text/plain": [
       "      a     b     c     d   e\n",
       "0   0.0   2.0   4.0   6.0 NaN\n",
       "1   9.0   NaN  13.0  15.0 NaN\n",
       "2  18.0  20.0  22.0  24.0 NaN\n",
       "3   NaN   NaN   NaN   NaN NaN"
      ]
     },
     "execution_count": 20,
     "metadata": {},
     "output_type": "execute_result"
    }
   ],
   "source": [
    "df1+df2"
   ]
  },
  {
   "cell_type": "markdown",
   "id": "87003b5a",
   "metadata": {},
   "source": [
    "Using the add method on df1, I pass df2 and an argument to fill_value, which substitutes the passed value for any missing values in the operation: "
   ]
  },
  {
   "cell_type": "code",
   "execution_count": 21,
   "id": "59de7b2d",
   "metadata": {},
   "outputs": [
    {
     "data": {
      "text/html": [
       "<div>\n",
       "<style scoped>\n",
       "    .dataframe tbody tr th:only-of-type {\n",
       "        vertical-align: middle;\n",
       "    }\n",
       "\n",
       "    .dataframe tbody tr th {\n",
       "        vertical-align: top;\n",
       "    }\n",
       "\n",
       "    .dataframe thead th {\n",
       "        text-align: right;\n",
       "    }\n",
       "</style>\n",
       "<table border=\"1\" class=\"dataframe\">\n",
       "  <thead>\n",
       "    <tr style=\"text-align: right;\">\n",
       "      <th></th>\n",
       "      <th>a</th>\n",
       "      <th>b</th>\n",
       "      <th>c</th>\n",
       "      <th>d</th>\n",
       "      <th>e</th>\n",
       "    </tr>\n",
       "  </thead>\n",
       "  <tbody>\n",
       "    <tr>\n",
       "      <th>0</th>\n",
       "      <td>0.0</td>\n",
       "      <td>2.0</td>\n",
       "      <td>4.0</td>\n",
       "      <td>6.0</td>\n",
       "      <td>4.0</td>\n",
       "    </tr>\n",
       "    <tr>\n",
       "      <th>1</th>\n",
       "      <td>9.0</td>\n",
       "      <td>5.0</td>\n",
       "      <td>13.0</td>\n",
       "      <td>15.0</td>\n",
       "      <td>9.0</td>\n",
       "    </tr>\n",
       "    <tr>\n",
       "      <th>2</th>\n",
       "      <td>18.0</td>\n",
       "      <td>20.0</td>\n",
       "      <td>22.0</td>\n",
       "      <td>24.0</td>\n",
       "      <td>14.0</td>\n",
       "    </tr>\n",
       "    <tr>\n",
       "      <th>3</th>\n",
       "      <td>15.0</td>\n",
       "      <td>16.0</td>\n",
       "      <td>17.0</td>\n",
       "      <td>18.0</td>\n",
       "      <td>19.0</td>\n",
       "    </tr>\n",
       "  </tbody>\n",
       "</table>\n",
       "</div>"
      ],
      "text/plain": [
       "      a     b     c     d     e\n",
       "0   0.0   2.0   4.0   6.0   4.0\n",
       "1   9.0   5.0  13.0  15.0   9.0\n",
       "2  18.0  20.0  22.0  24.0  14.0\n",
       "3  15.0  16.0  17.0  18.0  19.0"
      ]
     },
     "execution_count": 21,
     "metadata": {},
     "output_type": "execute_result"
    }
   ],
   "source": [
    "df1.add(df2, fill_value = 0)"
   ]
  },
  {
   "cell_type": "markdown",
   "id": "75bf1c73",
   "metadata": {},
   "source": [
    "Relatedly, when reindexing a Series or DataFrame, you can also specify a different fill value: "
   ]
  },
  {
   "cell_type": "code",
   "execution_count": 22,
   "id": "e3870626",
   "metadata": {},
   "outputs": [
    {
     "data": {
      "text/html": [
       "<div>\n",
       "<style scoped>\n",
       "    .dataframe tbody tr th:only-of-type {\n",
       "        vertical-align: middle;\n",
       "    }\n",
       "\n",
       "    .dataframe tbody tr th {\n",
       "        vertical-align: top;\n",
       "    }\n",
       "\n",
       "    .dataframe thead th {\n",
       "        text-align: right;\n",
       "    }\n",
       "</style>\n",
       "<table border=\"1\" class=\"dataframe\">\n",
       "  <thead>\n",
       "    <tr style=\"text-align: right;\">\n",
       "      <th></th>\n",
       "      <th>a</th>\n",
       "      <th>b</th>\n",
       "      <th>c</th>\n",
       "      <th>d</th>\n",
       "      <th>e</th>\n",
       "    </tr>\n",
       "  </thead>\n",
       "  <tbody>\n",
       "    <tr>\n",
       "      <th>0</th>\n",
       "      <td>0.0</td>\n",
       "      <td>1.0</td>\n",
       "      <td>2.0</td>\n",
       "      <td>3.0</td>\n",
       "      <td>0</td>\n",
       "    </tr>\n",
       "    <tr>\n",
       "      <th>1</th>\n",
       "      <td>4.0</td>\n",
       "      <td>5.0</td>\n",
       "      <td>6.0</td>\n",
       "      <td>7.0</td>\n",
       "      <td>0</td>\n",
       "    </tr>\n",
       "    <tr>\n",
       "      <th>2</th>\n",
       "      <td>8.0</td>\n",
       "      <td>9.0</td>\n",
       "      <td>10.0</td>\n",
       "      <td>11.0</td>\n",
       "      <td>0</td>\n",
       "    </tr>\n",
       "  </tbody>\n",
       "</table>\n",
       "</div>"
      ],
      "text/plain": [
       "     a    b     c     d  e\n",
       "0  0.0  1.0   2.0   3.0  0\n",
       "1  4.0  5.0   6.0   7.0  0\n",
       "2  8.0  9.0  10.0  11.0  0"
      ]
     },
     "execution_count": 22,
     "metadata": {},
     "output_type": "execute_result"
    }
   ],
   "source": [
    "df1.reindex(columns = df2.columns, fill_value = 0)"
   ]
  },
  {
   "cell_type": "code",
   "execution_count": 24,
   "id": "95709c02",
   "metadata": {},
   "outputs": [
    {
     "data": {
      "text/html": [
       "<div>\n",
       "<style scoped>\n",
       "    .dataframe tbody tr th:only-of-type {\n",
       "        vertical-align: middle;\n",
       "    }\n",
       "\n",
       "    .dataframe tbody tr th {\n",
       "        vertical-align: top;\n",
       "    }\n",
       "\n",
       "    .dataframe thead th {\n",
       "        text-align: right;\n",
       "    }\n",
       "</style>\n",
       "<table border=\"1\" class=\"dataframe\">\n",
       "  <thead>\n",
       "    <tr style=\"text-align: right;\">\n",
       "      <th></th>\n",
       "      <th>Method</th>\n",
       "      <th>Description</th>\n",
       "    </tr>\n",
       "  </thead>\n",
       "  <tbody>\n",
       "    <tr>\n",
       "      <th>0</th>\n",
       "      <td>add, radd</td>\n",
       "      <td>Methods for addition (+)</td>\n",
       "    </tr>\n",
       "    <tr>\n",
       "      <th>1</th>\n",
       "      <td>sub, rsub</td>\n",
       "      <td>Methods for subtraction(-)</td>\n",
       "    </tr>\n",
       "    <tr>\n",
       "      <th>2</th>\n",
       "      <td>div, rdiv</td>\n",
       "      <td>Methods for division (/)</td>\n",
       "    </tr>\n",
       "    <tr>\n",
       "      <th>3</th>\n",
       "      <td>floordiv, rfloordiv</td>\n",
       "      <td>Methods for floor division (//)</td>\n",
       "    </tr>\n",
       "    <tr>\n",
       "      <th>4</th>\n",
       "      <td>mul, rmul</td>\n",
       "      <td>Methods for multiplication (*)</td>\n",
       "    </tr>\n",
       "    <tr>\n",
       "      <th>5</th>\n",
       "      <td>pow, rpow</td>\n",
       "      <td>Methods for exponentiation (**)</td>\n",
       "    </tr>\n",
       "  </tbody>\n",
       "</table>\n",
       "</div>"
      ],
      "text/plain": [
       "                Method                      Description\n",
       "0            add, radd         Methods for addition (+)\n",
       "1            sub, rsub       Methods for subtraction(-)\n",
       "2            div, rdiv         Methods for division (/)\n",
       "3  floordiv, rfloordiv  Methods for floor division (//)\n",
       "4            mul, rmul   Methods for multiplication (*)\n",
       "5            pow, rpow  Methods for exponentiation (**)"
      ]
     },
     "execution_count": 24,
     "metadata": {},
     "output_type": "execute_result"
    }
   ],
   "source": [
    "options = pd.DataFrame({\n",
    "    \"Method\" : [\n",
    "        \"add, radd\", \n",
    "        \"sub, rsub\", \n",
    "        \"div, rdiv\", \n",
    "        \"floordiv, rfloordiv\", \n",
    "        \"mul, rmul\",\n",
    "        \"pow, rpow\"\n",
    "    ], \n",
    "    \"Description\" : [\n",
    "        \"Methods for addition (+)\", \n",
    "        \"Methods for subtraction(-)\",\n",
    "        \"Methods for division (/)\",\n",
    "        \"Methods for floor division (//)\",\n",
    "        \"Methods for multiplication (*)\",\n",
    "        \"Methods for exponentiation (**)\"\n",
    "    ]\n",
    "})\n",
    "\n",
    "options"
   ]
  },
  {
   "cell_type": "markdown",
   "id": "aa3c6b27",
   "metadata": {},
   "source": [
    "# Operations between DataFrame and Series "
   ]
  },
  {
   "cell_type": "markdown",
   "id": "320b826a",
   "metadata": {},
   "source": [
    "As with Numpy arrays of different dimensions, arithmetic between DataFrame and Series is also defined. First, as a motivating example, consider the difference between a two-dimensional array and one of its rows: "
   ]
  },
  {
   "cell_type": "code",
   "execution_count": 25,
   "id": "bdb9a1f9",
   "metadata": {},
   "outputs": [],
   "source": [
    "arr = np.arange(12.).reshape((3,4))"
   ]
  },
  {
   "cell_type": "code",
   "execution_count": 26,
   "id": "ac689511",
   "metadata": {},
   "outputs": [
    {
     "data": {
      "text/plain": [
       "array([[ 0.,  1.,  2.,  3.],\n",
       "       [ 4.,  5.,  6.,  7.],\n",
       "       [ 8.,  9., 10., 11.]])"
      ]
     },
     "execution_count": 26,
     "metadata": {},
     "output_type": "execute_result"
    }
   ],
   "source": [
    "arr "
   ]
  },
  {
   "cell_type": "code",
   "execution_count": 27,
   "id": "a95417b5",
   "metadata": {},
   "outputs": [
    {
     "data": {
      "text/plain": [
       "array([0., 1., 2., 3.])"
      ]
     },
     "execution_count": 27,
     "metadata": {},
     "output_type": "execute_result"
    }
   ],
   "source": [
    "arr[0]"
   ]
  },
  {
   "cell_type": "code",
   "execution_count": 28,
   "id": "d0d48b2d",
   "metadata": {},
   "outputs": [
    {
     "data": {
      "text/plain": [
       "array([[0., 0., 0., 0.],\n",
       "       [4., 4., 4., 4.],\n",
       "       [8., 8., 8., 8.]])"
      ]
     },
     "execution_count": 28,
     "metadata": {},
     "output_type": "execute_result"
    }
   ],
   "source": [
    "arr - arr[0]"
   ]
  },
  {
   "cell_type": "markdown",
   "id": "943a2409",
   "metadata": {},
   "source": [
    "When we subtract arr[0] from arr, the substraction is performed once for each row. This is referred to as broadcasting and is explained in more detail as it relates to general NumPy arrays in Appendix A. Operations between a DataFrame and a Series are similar: "
   ]
  },
  {
   "cell_type": "code",
   "execution_count": 30,
   "id": "7e164698",
   "metadata": {},
   "outputs": [],
   "source": [
    "frame = pd.DataFrame(np.arange(12.).reshape((4,3)), \n",
    "                    columns = list(\"bde\"), \n",
    "                    index = [\"Utah\", \"Ohio\", \"Texas\", \"Oregon\"])"
   ]
  },
  {
   "cell_type": "code",
   "execution_count": 31,
   "id": "d750a722",
   "metadata": {},
   "outputs": [],
   "source": [
    "series = frame.iloc[0] "
   ]
  },
  {
   "cell_type": "code",
   "execution_count": 32,
   "id": "30d12743",
   "metadata": {},
   "outputs": [
    {
     "data": {
      "text/html": [
       "<div>\n",
       "<style scoped>\n",
       "    .dataframe tbody tr th:only-of-type {\n",
       "        vertical-align: middle;\n",
       "    }\n",
       "\n",
       "    .dataframe tbody tr th {\n",
       "        vertical-align: top;\n",
       "    }\n",
       "\n",
       "    .dataframe thead th {\n",
       "        text-align: right;\n",
       "    }\n",
       "</style>\n",
       "<table border=\"1\" class=\"dataframe\">\n",
       "  <thead>\n",
       "    <tr style=\"text-align: right;\">\n",
       "      <th></th>\n",
       "      <th>b</th>\n",
       "      <th>d</th>\n",
       "      <th>e</th>\n",
       "    </tr>\n",
       "  </thead>\n",
       "  <tbody>\n",
       "    <tr>\n",
       "      <th>Utah</th>\n",
       "      <td>0.0</td>\n",
       "      <td>1.0</td>\n",
       "      <td>2.0</td>\n",
       "    </tr>\n",
       "    <tr>\n",
       "      <th>Ohio</th>\n",
       "      <td>3.0</td>\n",
       "      <td>4.0</td>\n",
       "      <td>5.0</td>\n",
       "    </tr>\n",
       "    <tr>\n",
       "      <th>Texas</th>\n",
       "      <td>6.0</td>\n",
       "      <td>7.0</td>\n",
       "      <td>8.0</td>\n",
       "    </tr>\n",
       "    <tr>\n",
       "      <th>Oregon</th>\n",
       "      <td>9.0</td>\n",
       "      <td>10.0</td>\n",
       "      <td>11.0</td>\n",
       "    </tr>\n",
       "  </tbody>\n",
       "</table>\n",
       "</div>"
      ],
      "text/plain": [
       "          b     d     e\n",
       "Utah    0.0   1.0   2.0\n",
       "Ohio    3.0   4.0   5.0\n",
       "Texas   6.0   7.0   8.0\n",
       "Oregon  9.0  10.0  11.0"
      ]
     },
     "execution_count": 32,
     "metadata": {},
     "output_type": "execute_result"
    }
   ],
   "source": [
    "frame "
   ]
  },
  {
   "cell_type": "code",
   "execution_count": 33,
   "id": "320d2c40",
   "metadata": {},
   "outputs": [
    {
     "data": {
      "text/plain": [
       "b    0.0\n",
       "d    1.0\n",
       "e    2.0\n",
       "Name: Utah, dtype: float64"
      ]
     },
     "execution_count": 33,
     "metadata": {},
     "output_type": "execute_result"
    }
   ],
   "source": [
    "series "
   ]
  },
  {
   "cell_type": "markdown",
   "id": "16cf9e9b",
   "metadata": {},
   "source": [
    "By default, arithmetic between DataFrame and Series matched the index of the Series on the columns of the DataFrame, broadcasting down the rows: "
   ]
  },
  {
   "cell_type": "code",
   "execution_count": 34,
   "id": "4f61c6f6",
   "metadata": {},
   "outputs": [
    {
     "data": {
      "text/html": [
       "<div>\n",
       "<style scoped>\n",
       "    .dataframe tbody tr th:only-of-type {\n",
       "        vertical-align: middle;\n",
       "    }\n",
       "\n",
       "    .dataframe tbody tr th {\n",
       "        vertical-align: top;\n",
       "    }\n",
       "\n",
       "    .dataframe thead th {\n",
       "        text-align: right;\n",
       "    }\n",
       "</style>\n",
       "<table border=\"1\" class=\"dataframe\">\n",
       "  <thead>\n",
       "    <tr style=\"text-align: right;\">\n",
       "      <th></th>\n",
       "      <th>b</th>\n",
       "      <th>d</th>\n",
       "      <th>e</th>\n",
       "    </tr>\n",
       "  </thead>\n",
       "  <tbody>\n",
       "    <tr>\n",
       "      <th>Utah</th>\n",
       "      <td>0.0</td>\n",
       "      <td>0.0</td>\n",
       "      <td>0.0</td>\n",
       "    </tr>\n",
       "    <tr>\n",
       "      <th>Ohio</th>\n",
       "      <td>3.0</td>\n",
       "      <td>3.0</td>\n",
       "      <td>3.0</td>\n",
       "    </tr>\n",
       "    <tr>\n",
       "      <th>Texas</th>\n",
       "      <td>6.0</td>\n",
       "      <td>6.0</td>\n",
       "      <td>6.0</td>\n",
       "    </tr>\n",
       "    <tr>\n",
       "      <th>Oregon</th>\n",
       "      <td>9.0</td>\n",
       "      <td>9.0</td>\n",
       "      <td>9.0</td>\n",
       "    </tr>\n",
       "  </tbody>\n",
       "</table>\n",
       "</div>"
      ],
      "text/plain": [
       "          b    d    e\n",
       "Utah    0.0  0.0  0.0\n",
       "Ohio    3.0  3.0  3.0\n",
       "Texas   6.0  6.0  6.0\n",
       "Oregon  9.0  9.0  9.0"
      ]
     },
     "execution_count": 34,
     "metadata": {},
     "output_type": "execute_result"
    }
   ],
   "source": [
    "frame - series "
   ]
  },
  {
   "cell_type": "markdown",
   "id": "2d376c3b",
   "metadata": {},
   "source": [
    "If an index value is not found in either the DataFrame's columns or the Series's index, the objects will be reindexed to form the union: "
   ]
  },
  {
   "cell_type": "code",
   "execution_count": 35,
   "id": "24c89d34",
   "metadata": {},
   "outputs": [],
   "source": [
    "series2 = pd.Series(np.arange(3), index = [\"b\", \"e\", \"f\"])"
   ]
  },
  {
   "cell_type": "code",
   "execution_count": 36,
   "id": "afd631a3",
   "metadata": {},
   "outputs": [
    {
     "data": {
      "text/plain": [
       "b    0\n",
       "e    1\n",
       "f    2\n",
       "dtype: int32"
      ]
     },
     "execution_count": 36,
     "metadata": {},
     "output_type": "execute_result"
    }
   ],
   "source": [
    "series2"
   ]
  },
  {
   "cell_type": "code",
   "execution_count": 38,
   "id": "8a4da7a7",
   "metadata": {},
   "outputs": [],
   "source": [
    "series3 = frame[\"d\"]"
   ]
  },
  {
   "cell_type": "code",
   "execution_count": 39,
   "id": "ee43179c",
   "metadata": {},
   "outputs": [
    {
     "data": {
      "text/html": [
       "<div>\n",
       "<style scoped>\n",
       "    .dataframe tbody tr th:only-of-type {\n",
       "        vertical-align: middle;\n",
       "    }\n",
       "\n",
       "    .dataframe tbody tr th {\n",
       "        vertical-align: top;\n",
       "    }\n",
       "\n",
       "    .dataframe thead th {\n",
       "        text-align: right;\n",
       "    }\n",
       "</style>\n",
       "<table border=\"1\" class=\"dataframe\">\n",
       "  <thead>\n",
       "    <tr style=\"text-align: right;\">\n",
       "      <th></th>\n",
       "      <th>b</th>\n",
       "      <th>d</th>\n",
       "      <th>e</th>\n",
       "    </tr>\n",
       "  </thead>\n",
       "  <tbody>\n",
       "    <tr>\n",
       "      <th>Utah</th>\n",
       "      <td>0.0</td>\n",
       "      <td>1.0</td>\n",
       "      <td>2.0</td>\n",
       "    </tr>\n",
       "    <tr>\n",
       "      <th>Ohio</th>\n",
       "      <td>3.0</td>\n",
       "      <td>4.0</td>\n",
       "      <td>5.0</td>\n",
       "    </tr>\n",
       "    <tr>\n",
       "      <th>Texas</th>\n",
       "      <td>6.0</td>\n",
       "      <td>7.0</td>\n",
       "      <td>8.0</td>\n",
       "    </tr>\n",
       "    <tr>\n",
       "      <th>Oregon</th>\n",
       "      <td>9.0</td>\n",
       "      <td>10.0</td>\n",
       "      <td>11.0</td>\n",
       "    </tr>\n",
       "  </tbody>\n",
       "</table>\n",
       "</div>"
      ],
      "text/plain": [
       "          b     d     e\n",
       "Utah    0.0   1.0   2.0\n",
       "Ohio    3.0   4.0   5.0\n",
       "Texas   6.0   7.0   8.0\n",
       "Oregon  9.0  10.0  11.0"
      ]
     },
     "execution_count": 39,
     "metadata": {},
     "output_type": "execute_result"
    }
   ],
   "source": [
    "frame "
   ]
  },
  {
   "cell_type": "code",
   "execution_count": 40,
   "id": "1d8011af",
   "metadata": {},
   "outputs": [
    {
     "data": {
      "text/plain": [
       "Utah       1.0\n",
       "Ohio       4.0\n",
       "Texas      7.0\n",
       "Oregon    10.0\n",
       "Name: d, dtype: float64"
      ]
     },
     "execution_count": 40,
     "metadata": {},
     "output_type": "execute_result"
    }
   ],
   "source": [
    "series3"
   ]
  },
  {
   "cell_type": "code",
   "execution_count": 41,
   "id": "65da7466",
   "metadata": {},
   "outputs": [
    {
     "data": {
      "text/html": [
       "<div>\n",
       "<style scoped>\n",
       "    .dataframe tbody tr th:only-of-type {\n",
       "        vertical-align: middle;\n",
       "    }\n",
       "\n",
       "    .dataframe tbody tr th {\n",
       "        vertical-align: top;\n",
       "    }\n",
       "\n",
       "    .dataframe thead th {\n",
       "        text-align: right;\n",
       "    }\n",
       "</style>\n",
       "<table border=\"1\" class=\"dataframe\">\n",
       "  <thead>\n",
       "    <tr style=\"text-align: right;\">\n",
       "      <th></th>\n",
       "      <th>b</th>\n",
       "      <th>d</th>\n",
       "      <th>e</th>\n",
       "    </tr>\n",
       "  </thead>\n",
       "  <tbody>\n",
       "    <tr>\n",
       "      <th>Utah</th>\n",
       "      <td>-1.0</td>\n",
       "      <td>0.0</td>\n",
       "      <td>1.0</td>\n",
       "    </tr>\n",
       "    <tr>\n",
       "      <th>Ohio</th>\n",
       "      <td>-1.0</td>\n",
       "      <td>0.0</td>\n",
       "      <td>1.0</td>\n",
       "    </tr>\n",
       "    <tr>\n",
       "      <th>Texas</th>\n",
       "      <td>-1.0</td>\n",
       "      <td>0.0</td>\n",
       "      <td>1.0</td>\n",
       "    </tr>\n",
       "    <tr>\n",
       "      <th>Oregon</th>\n",
       "      <td>-1.0</td>\n",
       "      <td>0.0</td>\n",
       "      <td>1.0</td>\n",
       "    </tr>\n",
       "  </tbody>\n",
       "</table>\n",
       "</div>"
      ],
      "text/plain": [
       "          b    d    e\n",
       "Utah   -1.0  0.0  1.0\n",
       "Ohio   -1.0  0.0  1.0\n",
       "Texas  -1.0  0.0  1.0\n",
       "Oregon -1.0  0.0  1.0"
      ]
     },
     "execution_count": 41,
     "metadata": {},
     "output_type": "execute_result"
    }
   ],
   "source": [
    "frame.sub(series3, axis = \"index\")"
   ]
  },
  {
   "cell_type": "markdown",
   "id": "206774b8",
   "metadata": {},
   "source": [
    "The axis that you pass is the axis to match on. In this case we mean to match on the DataFrame's row index (axis = \"index\") and broadcasr across the columns. "
   ]
  },
  {
   "cell_type": "markdown",
   "id": "ea6a33ba",
   "metadata": {},
   "source": [
    "# Function Application and Mapping "
   ]
  },
  {
   "cell_type": "code",
   "execution_count": 42,
   "id": "0f72d3a1",
   "metadata": {},
   "outputs": [],
   "source": [
    "frame = pd.DataFrame(np.random.standard_normal((4,3)), \n",
    "                    columns = list(\"bde\"), \n",
    "                    index = [\"Utah\", \"Ohio\", \"Texas\", \"Oregon\"])"
   ]
  },
  {
   "cell_type": "code",
   "execution_count": 43,
   "id": "99f94c3b",
   "metadata": {},
   "outputs": [
    {
     "data": {
      "text/html": [
       "<div>\n",
       "<style scoped>\n",
       "    .dataframe tbody tr th:only-of-type {\n",
       "        vertical-align: middle;\n",
       "    }\n",
       "\n",
       "    .dataframe tbody tr th {\n",
       "        vertical-align: top;\n",
       "    }\n",
       "\n",
       "    .dataframe thead th {\n",
       "        text-align: right;\n",
       "    }\n",
       "</style>\n",
       "<table border=\"1\" class=\"dataframe\">\n",
       "  <thead>\n",
       "    <tr style=\"text-align: right;\">\n",
       "      <th></th>\n",
       "      <th>b</th>\n",
       "      <th>d</th>\n",
       "      <th>e</th>\n",
       "    </tr>\n",
       "  </thead>\n",
       "  <tbody>\n",
       "    <tr>\n",
       "      <th>Utah</th>\n",
       "      <td>-1.231779</td>\n",
       "      <td>-1.333524</td>\n",
       "      <td>0.665756</td>\n",
       "    </tr>\n",
       "    <tr>\n",
       "      <th>Ohio</th>\n",
       "      <td>-0.240269</td>\n",
       "      <td>1.248649</td>\n",
       "      <td>2.524658</td>\n",
       "    </tr>\n",
       "    <tr>\n",
       "      <th>Texas</th>\n",
       "      <td>-0.652251</td>\n",
       "      <td>1.351951</td>\n",
       "      <td>-1.454387</td>\n",
       "    </tr>\n",
       "    <tr>\n",
       "      <th>Oregon</th>\n",
       "      <td>-0.391071</td>\n",
       "      <td>0.815062</td>\n",
       "      <td>0.384100</td>\n",
       "    </tr>\n",
       "  </tbody>\n",
       "</table>\n",
       "</div>"
      ],
      "text/plain": [
       "               b         d         e\n",
       "Utah   -1.231779 -1.333524  0.665756\n",
       "Ohio   -0.240269  1.248649  2.524658\n",
       "Texas  -0.652251  1.351951 -1.454387\n",
       "Oregon -0.391071  0.815062  0.384100"
      ]
     },
     "execution_count": 43,
     "metadata": {},
     "output_type": "execute_result"
    }
   ],
   "source": [
    "frame "
   ]
  },
  {
   "cell_type": "code",
   "execution_count": 44,
   "id": "24c3c1af",
   "metadata": {},
   "outputs": [
    {
     "data": {
      "text/html": [
       "<div>\n",
       "<style scoped>\n",
       "    .dataframe tbody tr th:only-of-type {\n",
       "        vertical-align: middle;\n",
       "    }\n",
       "\n",
       "    .dataframe tbody tr th {\n",
       "        vertical-align: top;\n",
       "    }\n",
       "\n",
       "    .dataframe thead th {\n",
       "        text-align: right;\n",
       "    }\n",
       "</style>\n",
       "<table border=\"1\" class=\"dataframe\">\n",
       "  <thead>\n",
       "    <tr style=\"text-align: right;\">\n",
       "      <th></th>\n",
       "      <th>b</th>\n",
       "      <th>d</th>\n",
       "      <th>e</th>\n",
       "    </tr>\n",
       "  </thead>\n",
       "  <tbody>\n",
       "    <tr>\n",
       "      <th>Utah</th>\n",
       "      <td>1.231779</td>\n",
       "      <td>1.333524</td>\n",
       "      <td>0.665756</td>\n",
       "    </tr>\n",
       "    <tr>\n",
       "      <th>Ohio</th>\n",
       "      <td>0.240269</td>\n",
       "      <td>1.248649</td>\n",
       "      <td>2.524658</td>\n",
       "    </tr>\n",
       "    <tr>\n",
       "      <th>Texas</th>\n",
       "      <td>0.652251</td>\n",
       "      <td>1.351951</td>\n",
       "      <td>1.454387</td>\n",
       "    </tr>\n",
       "    <tr>\n",
       "      <th>Oregon</th>\n",
       "      <td>0.391071</td>\n",
       "      <td>0.815062</td>\n",
       "      <td>0.384100</td>\n",
       "    </tr>\n",
       "  </tbody>\n",
       "</table>\n",
       "</div>"
      ],
      "text/plain": [
       "               b         d         e\n",
       "Utah    1.231779  1.333524  0.665756\n",
       "Ohio    0.240269  1.248649  2.524658\n",
       "Texas   0.652251  1.351951  1.454387\n",
       "Oregon  0.391071  0.815062  0.384100"
      ]
     },
     "execution_count": 44,
     "metadata": {},
     "output_type": "execute_result"
    }
   ],
   "source": [
    "np.abs(frame)"
   ]
  },
  {
   "cell_type": "markdown",
   "id": "07334942",
   "metadata": {},
   "source": [
    "Aother frequent operation is applying a function on one-dimensional arrays to each column or row. DataFrame's apply method does exactly this: "
   ]
  },
  {
   "cell_type": "code",
   "execution_count": 45,
   "id": "5f33b2ed",
   "metadata": {},
   "outputs": [],
   "source": [
    "def fi(x): \n",
    "    return x.max() - x.min() "
   ]
  },
  {
   "cell_type": "code",
   "execution_count": 46,
   "id": "84c560ba",
   "metadata": {},
   "outputs": [
    {
     "data": {
      "text/plain": [
       "b    0.991510\n",
       "d    2.685475\n",
       "e    3.979046\n",
       "dtype: float64"
      ]
     },
     "execution_count": 46,
     "metadata": {},
     "output_type": "execute_result"
    }
   ],
   "source": [
    "frame.apply(fi)"
   ]
  },
  {
   "cell_type": "markdown",
   "id": "56bd4946",
   "metadata": {},
   "source": [
    "Here the function f, which computes the difference between the maximum and minimum of a Series, is invoked once on each column in frame. The result is Series having the columns of frame as its index. \n",
    "\n",
    "If you pass axis = \"columns\" to apply, the function will be invoked once per row instead. A helpful way to think about this is as \"apply across the columns\". "
   ]
  },
  {
   "cell_type": "code",
   "execution_count": 48,
   "id": "6ad476e2",
   "metadata": {},
   "outputs": [
    {
     "data": {
      "text/plain": [
       "Utah      1.999280\n",
       "Ohio      2.764927\n",
       "Texas     2.806338\n",
       "Oregon    1.206133\n",
       "dtype: float64"
      ]
     },
     "execution_count": 48,
     "metadata": {},
     "output_type": "execute_result"
    }
   ],
   "source": [
    "frame.apply(fi, axis = \"columns\")"
   ]
  },
  {
   "cell_type": "markdown",
   "id": "768d9d9a",
   "metadata": {},
   "source": [
    "Many of the most common array statistics (like sum and mean) are DataFrame methods, so using apply is not necessary: \n",
    "\n",
    "The function passed to apply need not return a scalar value, it can also return a Series with multiple values: \n"
   ]
  },
  {
   "cell_type": "code",
   "execution_count": 49,
   "id": "ad51d08d",
   "metadata": {},
   "outputs": [
    {
     "data": {
      "text/html": [
       "<div>\n",
       "<style scoped>\n",
       "    .dataframe tbody tr th:only-of-type {\n",
       "        vertical-align: middle;\n",
       "    }\n",
       "\n",
       "    .dataframe tbody tr th {\n",
       "        vertical-align: top;\n",
       "    }\n",
       "\n",
       "    .dataframe thead th {\n",
       "        text-align: right;\n",
       "    }\n",
       "</style>\n",
       "<table border=\"1\" class=\"dataframe\">\n",
       "  <thead>\n",
       "    <tr style=\"text-align: right;\">\n",
       "      <th></th>\n",
       "      <th>b</th>\n",
       "      <th>d</th>\n",
       "      <th>e</th>\n",
       "    </tr>\n",
       "  </thead>\n",
       "  <tbody>\n",
       "    <tr>\n",
       "      <th>min</th>\n",
       "      <td>-1.231779</td>\n",
       "      <td>-1.333524</td>\n",
       "      <td>-1.454387</td>\n",
       "    </tr>\n",
       "    <tr>\n",
       "      <th>max</th>\n",
       "      <td>-0.240269</td>\n",
       "      <td>1.351951</td>\n",
       "      <td>2.524658</td>\n",
       "    </tr>\n",
       "  </tbody>\n",
       "</table>\n",
       "</div>"
      ],
      "text/plain": [
       "            b         d         e\n",
       "min -1.231779 -1.333524 -1.454387\n",
       "max -0.240269  1.351951  2.524658"
      ]
     },
     "execution_count": 49,
     "metadata": {},
     "output_type": "execute_result"
    }
   ],
   "source": [
    "def f(x): \n",
    "    return pd.Series([x.min(), x.max()], index = [\"min\", \"max\"])\n",
    "frame.apply(f) "
   ]
  },
  {
   "cell_type": "markdown",
   "id": "1f305274",
   "metadata": {},
   "source": [
    "Elemen-wise Python functions can be used, too. Suppose you wanted to compute a formatted string from each floating point value in Frame. You can do this with applymap: "
   ]
  },
  {
   "cell_type": "code",
   "execution_count": 50,
   "id": "0077893b",
   "metadata": {},
   "outputs": [
    {
     "data": {
      "text/html": [
       "<div>\n",
       "<style scoped>\n",
       "    .dataframe tbody tr th:only-of-type {\n",
       "        vertical-align: middle;\n",
       "    }\n",
       "\n",
       "    .dataframe tbody tr th {\n",
       "        vertical-align: top;\n",
       "    }\n",
       "\n",
       "    .dataframe thead th {\n",
       "        text-align: right;\n",
       "    }\n",
       "</style>\n",
       "<table border=\"1\" class=\"dataframe\">\n",
       "  <thead>\n",
       "    <tr style=\"text-align: right;\">\n",
       "      <th></th>\n",
       "      <th>b</th>\n",
       "      <th>d</th>\n",
       "      <th>e</th>\n",
       "    </tr>\n",
       "  </thead>\n",
       "  <tbody>\n",
       "    <tr>\n",
       "      <th>Utah</th>\n",
       "      <td>-1.23</td>\n",
       "      <td>-1.33</td>\n",
       "      <td>0.67</td>\n",
       "    </tr>\n",
       "    <tr>\n",
       "      <th>Ohio</th>\n",
       "      <td>-0.24</td>\n",
       "      <td>1.25</td>\n",
       "      <td>2.52</td>\n",
       "    </tr>\n",
       "    <tr>\n",
       "      <th>Texas</th>\n",
       "      <td>-0.65</td>\n",
       "      <td>1.35</td>\n",
       "      <td>-1.45</td>\n",
       "    </tr>\n",
       "    <tr>\n",
       "      <th>Oregon</th>\n",
       "      <td>-0.39</td>\n",
       "      <td>0.82</td>\n",
       "      <td>0.38</td>\n",
       "    </tr>\n",
       "  </tbody>\n",
       "</table>\n",
       "</div>"
      ],
      "text/plain": [
       "            b      d      e\n",
       "Utah    -1.23  -1.33   0.67\n",
       "Ohio    -0.24   1.25   2.52\n",
       "Texas   -0.65   1.35  -1.45\n",
       "Oregon  -0.39   0.82   0.38"
      ]
     },
     "execution_count": 50,
     "metadata": {},
     "output_type": "execute_result"
    }
   ],
   "source": [
    "def my_format(x): \n",
    "    return f\"{x:.2f}\"\n",
    "\n",
    "frame.applymap(my_format)"
   ]
  },
  {
   "cell_type": "markdown",
   "id": "5ec9f7de",
   "metadata": {},
   "source": [
    "The reason for the name applymap is that Series has a map method for applying an element-wise function: "
   ]
  },
  {
   "cell_type": "code",
   "execution_count": 52,
   "id": "cb247e0d",
   "metadata": {},
   "outputs": [
    {
     "data": {
      "text/plain": [
       "Utah       0.67\n",
       "Ohio       2.52\n",
       "Texas     -1.45\n",
       "Oregon     0.38\n",
       "Name: e, dtype: object"
      ]
     },
     "execution_count": 52,
     "metadata": {},
     "output_type": "execute_result"
    }
   ],
   "source": [
    "frame[\"e\"].map(my_format)"
   ]
  },
  {
   "cell_type": "markdown",
   "id": "3bf411cc",
   "metadata": {},
   "source": [
    "# Sorting and Ranking"
   ]
  },
  {
   "cell_type": "markdown",
   "id": "fdbe7ef5",
   "metadata": {},
   "source": [
    "Sorting a dataset by come criterion is another important built-in operation. To sort lexicographically by row or columns label, use the sort_index method, which returns a new, sorted object: "
   ]
  },
  {
   "cell_type": "code",
   "execution_count": 53,
   "id": "17124af2",
   "metadata": {},
   "outputs": [
    {
     "data": {
      "text/plain": [
       "d    0\n",
       "a    1\n",
       "b    2\n",
       "c    3\n",
       "dtype: int32"
      ]
     },
     "execution_count": 53,
     "metadata": {},
     "output_type": "execute_result"
    }
   ],
   "source": [
    "obj = pd.Series(np.arange(4), index = [\"d\", \"a\", \"b\", \"c\"])\n",
    "obj"
   ]
  },
  {
   "cell_type": "code",
   "execution_count": 54,
   "id": "3d013d40",
   "metadata": {},
   "outputs": [
    {
     "data": {
      "text/plain": [
       "a    1\n",
       "b    2\n",
       "c    3\n",
       "d    0\n",
       "dtype: int32"
      ]
     },
     "execution_count": 54,
     "metadata": {},
     "output_type": "execute_result"
    }
   ],
   "source": [
    "obj.sort_index() "
   ]
  },
  {
   "cell_type": "markdown",
   "id": "85881659",
   "metadata": {},
   "source": [
    "With a DataFrame, you can sort by index on either axis: "
   ]
  },
  {
   "cell_type": "code",
   "execution_count": 56,
   "id": "32736ec1",
   "metadata": {},
   "outputs": [],
   "source": [
    "frame = pd.DataFrame(np.arange(8).reshape((2,4)), \n",
    "                    index = [\"Three\", \"one\"], \n",
    "                    columns = [\"d\",\"b\",\"a\",\"c\"])"
   ]
  },
  {
   "cell_type": "code",
   "execution_count": 57,
   "id": "0547f933",
   "metadata": {},
   "outputs": [
    {
     "data": {
      "text/html": [
       "<div>\n",
       "<style scoped>\n",
       "    .dataframe tbody tr th:only-of-type {\n",
       "        vertical-align: middle;\n",
       "    }\n",
       "\n",
       "    .dataframe tbody tr th {\n",
       "        vertical-align: top;\n",
       "    }\n",
       "\n",
       "    .dataframe thead th {\n",
       "        text-align: right;\n",
       "    }\n",
       "</style>\n",
       "<table border=\"1\" class=\"dataframe\">\n",
       "  <thead>\n",
       "    <tr style=\"text-align: right;\">\n",
       "      <th></th>\n",
       "      <th>d</th>\n",
       "      <th>b</th>\n",
       "      <th>a</th>\n",
       "      <th>c</th>\n",
       "    </tr>\n",
       "  </thead>\n",
       "  <tbody>\n",
       "    <tr>\n",
       "      <th>Three</th>\n",
       "      <td>0</td>\n",
       "      <td>1</td>\n",
       "      <td>2</td>\n",
       "      <td>3</td>\n",
       "    </tr>\n",
       "    <tr>\n",
       "      <th>one</th>\n",
       "      <td>4</td>\n",
       "      <td>5</td>\n",
       "      <td>6</td>\n",
       "      <td>7</td>\n",
       "    </tr>\n",
       "  </tbody>\n",
       "</table>\n",
       "</div>"
      ],
      "text/plain": [
       "       d  b  a  c\n",
       "Three  0  1  2  3\n",
       "one    4  5  6  7"
      ]
     },
     "execution_count": 57,
     "metadata": {},
     "output_type": "execute_result"
    }
   ],
   "source": [
    "frame "
   ]
  },
  {
   "cell_type": "code",
   "execution_count": 58,
   "id": "20e071aa",
   "metadata": {},
   "outputs": [
    {
     "data": {
      "text/html": [
       "<div>\n",
       "<style scoped>\n",
       "    .dataframe tbody tr th:only-of-type {\n",
       "        vertical-align: middle;\n",
       "    }\n",
       "\n",
       "    .dataframe tbody tr th {\n",
       "        vertical-align: top;\n",
       "    }\n",
       "\n",
       "    .dataframe thead th {\n",
       "        text-align: right;\n",
       "    }\n",
       "</style>\n",
       "<table border=\"1\" class=\"dataframe\">\n",
       "  <thead>\n",
       "    <tr style=\"text-align: right;\">\n",
       "      <th></th>\n",
       "      <th>d</th>\n",
       "      <th>b</th>\n",
       "      <th>a</th>\n",
       "      <th>c</th>\n",
       "    </tr>\n",
       "  </thead>\n",
       "  <tbody>\n",
       "    <tr>\n",
       "      <th>Three</th>\n",
       "      <td>0</td>\n",
       "      <td>1</td>\n",
       "      <td>2</td>\n",
       "      <td>3</td>\n",
       "    </tr>\n",
       "    <tr>\n",
       "      <th>one</th>\n",
       "      <td>4</td>\n",
       "      <td>5</td>\n",
       "      <td>6</td>\n",
       "      <td>7</td>\n",
       "    </tr>\n",
       "  </tbody>\n",
       "</table>\n",
       "</div>"
      ],
      "text/plain": [
       "       d  b  a  c\n",
       "Three  0  1  2  3\n",
       "one    4  5  6  7"
      ]
     },
     "execution_count": 58,
     "metadata": {},
     "output_type": "execute_result"
    }
   ],
   "source": [
    "frame.sort_index()"
   ]
  },
  {
   "cell_type": "code",
   "execution_count": 60,
   "id": "98d189e5",
   "metadata": {},
   "outputs": [
    {
     "data": {
      "text/html": [
       "<div>\n",
       "<style scoped>\n",
       "    .dataframe tbody tr th:only-of-type {\n",
       "        vertical-align: middle;\n",
       "    }\n",
       "\n",
       "    .dataframe tbody tr th {\n",
       "        vertical-align: top;\n",
       "    }\n",
       "\n",
       "    .dataframe thead th {\n",
       "        text-align: right;\n",
       "    }\n",
       "</style>\n",
       "<table border=\"1\" class=\"dataframe\">\n",
       "  <thead>\n",
       "    <tr style=\"text-align: right;\">\n",
       "      <th></th>\n",
       "      <th>a</th>\n",
       "      <th>b</th>\n",
       "      <th>c</th>\n",
       "      <th>d</th>\n",
       "    </tr>\n",
       "  </thead>\n",
       "  <tbody>\n",
       "    <tr>\n",
       "      <th>Three</th>\n",
       "      <td>2</td>\n",
       "      <td>1</td>\n",
       "      <td>3</td>\n",
       "      <td>0</td>\n",
       "    </tr>\n",
       "    <tr>\n",
       "      <th>one</th>\n",
       "      <td>6</td>\n",
       "      <td>5</td>\n",
       "      <td>7</td>\n",
       "      <td>4</td>\n",
       "    </tr>\n",
       "  </tbody>\n",
       "</table>\n",
       "</div>"
      ],
      "text/plain": [
       "       a  b  c  d\n",
       "Three  2  1  3  0\n",
       "one    6  5  7  4"
      ]
     },
     "execution_count": 60,
     "metadata": {},
     "output_type": "execute_result"
    }
   ],
   "source": [
    "frame.sort_index(axis = \"columns\")"
   ]
  },
  {
   "cell_type": "markdown",
   "id": "1815c4f8",
   "metadata": {},
   "source": [
    "the data is sorted in ascending order by default but can be sorted in descending order, too: "
   ]
  },
  {
   "cell_type": "code",
   "execution_count": 61,
   "id": "37388ad8",
   "metadata": {},
   "outputs": [
    {
     "data": {
      "text/html": [
       "<div>\n",
       "<style scoped>\n",
       "    .dataframe tbody tr th:only-of-type {\n",
       "        vertical-align: middle;\n",
       "    }\n",
       "\n",
       "    .dataframe tbody tr th {\n",
       "        vertical-align: top;\n",
       "    }\n",
       "\n",
       "    .dataframe thead th {\n",
       "        text-align: right;\n",
       "    }\n",
       "</style>\n",
       "<table border=\"1\" class=\"dataframe\">\n",
       "  <thead>\n",
       "    <tr style=\"text-align: right;\">\n",
       "      <th></th>\n",
       "      <th>d</th>\n",
       "      <th>c</th>\n",
       "      <th>b</th>\n",
       "      <th>a</th>\n",
       "    </tr>\n",
       "  </thead>\n",
       "  <tbody>\n",
       "    <tr>\n",
       "      <th>Three</th>\n",
       "      <td>0</td>\n",
       "      <td>3</td>\n",
       "      <td>1</td>\n",
       "      <td>2</td>\n",
       "    </tr>\n",
       "    <tr>\n",
       "      <th>one</th>\n",
       "      <td>4</td>\n",
       "      <td>7</td>\n",
       "      <td>5</td>\n",
       "      <td>6</td>\n",
       "    </tr>\n",
       "  </tbody>\n",
       "</table>\n",
       "</div>"
      ],
      "text/plain": [
       "       d  c  b  a\n",
       "Three  0  3  1  2\n",
       "one    4  7  5  6"
      ]
     },
     "execution_count": 61,
     "metadata": {},
     "output_type": "execute_result"
    }
   ],
   "source": [
    "frame.sort_index(axis = \"columns\", ascending =False)"
   ]
  },
  {
   "cell_type": "markdown",
   "id": "dca1e93c",
   "metadata": {},
   "source": [
    "To sort a Series by its values, use its sort_values method: "
   ]
  },
  {
   "cell_type": "code",
   "execution_count": 62,
   "id": "c4ba5821",
   "metadata": {},
   "outputs": [],
   "source": [
    "obj = pd.Series([4,7,-72, 2])"
   ]
  },
  {
   "cell_type": "code",
   "execution_count": 63,
   "id": "194a130d",
   "metadata": {},
   "outputs": [
    {
     "data": {
      "text/plain": [
       "2   -72\n",
       "3     2\n",
       "0     4\n",
       "1     7\n",
       "dtype: int64"
      ]
     },
     "execution_count": 63,
     "metadata": {},
     "output_type": "execute_result"
    }
   ],
   "source": [
    "obj.sort_values() "
   ]
  },
  {
   "cell_type": "markdown",
   "id": "7134d673",
   "metadata": {},
   "source": [
    "Any missing values are sorted to the end of the Series by default: "
   ]
  },
  {
   "cell_type": "code",
   "execution_count": 64,
   "id": "a76dc7e0",
   "metadata": {},
   "outputs": [],
   "source": [
    "obj = pd.Series([4,np.nan, 7, np.nan, -3, 2])"
   ]
  },
  {
   "cell_type": "code",
   "execution_count": 65,
   "id": "32376ff3",
   "metadata": {},
   "outputs": [
    {
     "data": {
      "text/plain": [
       "4   -3.0\n",
       "5    2.0\n",
       "0    4.0\n",
       "2    7.0\n",
       "1    NaN\n",
       "3    NaN\n",
       "dtype: float64"
      ]
     },
     "execution_count": 65,
     "metadata": {},
     "output_type": "execute_result"
    }
   ],
   "source": [
    "obj.sort_values() "
   ]
  },
  {
   "cell_type": "markdown",
   "id": "adeed1c4",
   "metadata": {},
   "source": [
    "Missing values can be sorted to the start instead by using the na_position option: "
   ]
  },
  {
   "cell_type": "code",
   "execution_count": 66,
   "id": "433a2e14",
   "metadata": {},
   "outputs": [
    {
     "data": {
      "text/plain": [
       "1    NaN\n",
       "3    NaN\n",
       "4   -3.0\n",
       "5    2.0\n",
       "0    4.0\n",
       "2    7.0\n",
       "dtype: float64"
      ]
     },
     "execution_count": 66,
     "metadata": {},
     "output_type": "execute_result"
    }
   ],
   "source": [
    "obj.sort_values(na_position = \"first\")"
   ]
  },
  {
   "cell_type": "markdown",
   "id": "a37a6d0f",
   "metadata": {},
   "source": [
    "When sorting a DataFrame, you can use the data in one or more columns as the sort keys. To do so, pass one or more column names to sort_values: "
   ]
  },
  {
   "cell_type": "code",
   "execution_count": 67,
   "id": "ac8d5588",
   "metadata": {},
   "outputs": [],
   "source": [
    "frame = pd.DataFrame ({\"b\" : [4,7,-3,2], \n",
    "                      \"a\" : [0,1,0,1]})"
   ]
  },
  {
   "cell_type": "code",
   "execution_count": 68,
   "id": "87c91c93",
   "metadata": {},
   "outputs": [
    {
     "data": {
      "text/html": [
       "<div>\n",
       "<style scoped>\n",
       "    .dataframe tbody tr th:only-of-type {\n",
       "        vertical-align: middle;\n",
       "    }\n",
       "\n",
       "    .dataframe tbody tr th {\n",
       "        vertical-align: top;\n",
       "    }\n",
       "\n",
       "    .dataframe thead th {\n",
       "        text-align: right;\n",
       "    }\n",
       "</style>\n",
       "<table border=\"1\" class=\"dataframe\">\n",
       "  <thead>\n",
       "    <tr style=\"text-align: right;\">\n",
       "      <th></th>\n",
       "      <th>b</th>\n",
       "      <th>a</th>\n",
       "    </tr>\n",
       "  </thead>\n",
       "  <tbody>\n",
       "    <tr>\n",
       "      <th>0</th>\n",
       "      <td>4</td>\n",
       "      <td>0</td>\n",
       "    </tr>\n",
       "    <tr>\n",
       "      <th>1</th>\n",
       "      <td>7</td>\n",
       "      <td>1</td>\n",
       "    </tr>\n",
       "    <tr>\n",
       "      <th>2</th>\n",
       "      <td>-3</td>\n",
       "      <td>0</td>\n",
       "    </tr>\n",
       "    <tr>\n",
       "      <th>3</th>\n",
       "      <td>2</td>\n",
       "      <td>1</td>\n",
       "    </tr>\n",
       "  </tbody>\n",
       "</table>\n",
       "</div>"
      ],
      "text/plain": [
       "   b  a\n",
       "0  4  0\n",
       "1  7  1\n",
       "2 -3  0\n",
       "3  2  1"
      ]
     },
     "execution_count": 68,
     "metadata": {},
     "output_type": "execute_result"
    }
   ],
   "source": [
    "frame "
   ]
  },
  {
   "cell_type": "markdown",
   "id": "b857472f",
   "metadata": {},
   "source": [
    "To sort by multiple columns, pass a list of names: "
   ]
  },
  {
   "cell_type": "code",
   "execution_count": 69,
   "id": "ee1125ae",
   "metadata": {},
   "outputs": [
    {
     "data": {
      "text/html": [
       "<div>\n",
       "<style scoped>\n",
       "    .dataframe tbody tr th:only-of-type {\n",
       "        vertical-align: middle;\n",
       "    }\n",
       "\n",
       "    .dataframe tbody tr th {\n",
       "        vertical-align: top;\n",
       "    }\n",
       "\n",
       "    .dataframe thead th {\n",
       "        text-align: right;\n",
       "    }\n",
       "</style>\n",
       "<table border=\"1\" class=\"dataframe\">\n",
       "  <thead>\n",
       "    <tr style=\"text-align: right;\">\n",
       "      <th></th>\n",
       "      <th>b</th>\n",
       "      <th>a</th>\n",
       "    </tr>\n",
       "  </thead>\n",
       "  <tbody>\n",
       "    <tr>\n",
       "      <th>2</th>\n",
       "      <td>-3</td>\n",
       "      <td>0</td>\n",
       "    </tr>\n",
       "    <tr>\n",
       "      <th>0</th>\n",
       "      <td>4</td>\n",
       "      <td>0</td>\n",
       "    </tr>\n",
       "    <tr>\n",
       "      <th>3</th>\n",
       "      <td>2</td>\n",
       "      <td>1</td>\n",
       "    </tr>\n",
       "    <tr>\n",
       "      <th>1</th>\n",
       "      <td>7</td>\n",
       "      <td>1</td>\n",
       "    </tr>\n",
       "  </tbody>\n",
       "</table>\n",
       "</div>"
      ],
      "text/plain": [
       "   b  a\n",
       "2 -3  0\n",
       "0  4  0\n",
       "3  2  1\n",
       "1  7  1"
      ]
     },
     "execution_count": 69,
     "metadata": {},
     "output_type": "execute_result"
    }
   ],
   "source": [
    "frame.sort_values([\"a\", \"b\"])"
   ]
  },
  {
   "cell_type": "markdown",
   "id": "2f28607c",
   "metadata": {},
   "source": [
    "Ranking assigns ranks from one through the number of valid data points in an array, starting from the lowest_value. The rank methods for Series and DataFrame are the place to look, by default, rank breaks ties by assigning each group the mean rank : "
   ]
  },
  {
   "cell_type": "code",
   "execution_count": 70,
   "id": "9dec59bf",
   "metadata": {},
   "outputs": [],
   "source": [
    "obj = pd.Series([7,-5,7,4,2,8,4])"
   ]
  },
  {
   "cell_type": "code",
   "execution_count": 71,
   "id": "32019497",
   "metadata": {},
   "outputs": [
    {
     "data": {
      "text/plain": [
       "0    5.5\n",
       "1    1.0\n",
       "2    5.5\n",
       "3    3.5\n",
       "4    2.0\n",
       "5    7.0\n",
       "6    3.5\n",
       "dtype: float64"
      ]
     },
     "execution_count": 71,
     "metadata": {},
     "output_type": "execute_result"
    }
   ],
   "source": [
    "obj.rank() "
   ]
  },
  {
   "cell_type": "markdown",
   "id": "b8c9626c",
   "metadata": {},
   "source": [
    "Ranks can also be assigned according to the order in which they're observed in the data: "
   ]
  },
  {
   "cell_type": "code",
   "execution_count": 72,
   "id": "13ea672b",
   "metadata": {},
   "outputs": [
    {
     "data": {
      "text/plain": [
       "0    5.0\n",
       "1    1.0\n",
       "2    6.0\n",
       "3    3.0\n",
       "4    2.0\n",
       "5    7.0\n",
       "6    4.0\n",
       "dtype: float64"
      ]
     },
     "execution_count": 72,
     "metadata": {},
     "output_type": "execute_result"
    }
   ],
   "source": [
    "obj.rank(method = 'first')"
   ]
  },
  {
   "cell_type": "markdown",
   "id": "47fa8bec",
   "metadata": {},
   "source": [
    "Here, instead of using the average rank 6.5 for the entries 0 and 2, they instead have been set to 6 and 7 because label precedes label 2 in the data: "
   ]
  },
  {
   "cell_type": "markdown",
   "id": "1904381b",
   "metadata": {},
   "source": [
    "You can rank in descending order, too: "
   ]
  },
  {
   "cell_type": "code",
   "execution_count": 73,
   "id": "73301e0f",
   "metadata": {},
   "outputs": [
    {
     "data": {
      "text/plain": [
       "0    2.5\n",
       "1    7.0\n",
       "2    2.5\n",
       "3    4.5\n",
       "4    6.0\n",
       "5    1.0\n",
       "6    4.5\n",
       "dtype: float64"
      ]
     },
     "execution_count": 73,
     "metadata": {},
     "output_type": "execute_result"
    }
   ],
   "source": [
    "obj.rank(ascending = False)"
   ]
  },
  {
   "cell_type": "markdown",
   "id": "caa2f560",
   "metadata": {},
   "source": [
    "DataFream can compute ranks over the rows or the columns: "
   ]
  },
  {
   "cell_type": "code",
   "execution_count": 75,
   "id": "64a5e530",
   "metadata": {},
   "outputs": [],
   "source": [
    "frame = pd.DataFrame({\n",
    "    \"b\" : [4.3,7,-3,2], \n",
    "    \"a\" : [0,1,0,1],\n",
    "    \"c\" : [-2, 5, 8, -2.5]\n",
    "})"
   ]
  },
  {
   "cell_type": "code",
   "execution_count": 76,
   "id": "cbe3596b",
   "metadata": {},
   "outputs": [
    {
     "data": {
      "text/html": [
       "<div>\n",
       "<style scoped>\n",
       "    .dataframe tbody tr th:only-of-type {\n",
       "        vertical-align: middle;\n",
       "    }\n",
       "\n",
       "    .dataframe tbody tr th {\n",
       "        vertical-align: top;\n",
       "    }\n",
       "\n",
       "    .dataframe thead th {\n",
       "        text-align: right;\n",
       "    }\n",
       "</style>\n",
       "<table border=\"1\" class=\"dataframe\">\n",
       "  <thead>\n",
       "    <tr style=\"text-align: right;\">\n",
       "      <th></th>\n",
       "      <th>b</th>\n",
       "      <th>a</th>\n",
       "      <th>c</th>\n",
       "    </tr>\n",
       "  </thead>\n",
       "  <tbody>\n",
       "    <tr>\n",
       "      <th>0</th>\n",
       "      <td>4.3</td>\n",
       "      <td>0</td>\n",
       "      <td>-2.0</td>\n",
       "    </tr>\n",
       "    <tr>\n",
       "      <th>1</th>\n",
       "      <td>7.0</td>\n",
       "      <td>1</td>\n",
       "      <td>5.0</td>\n",
       "    </tr>\n",
       "    <tr>\n",
       "      <th>2</th>\n",
       "      <td>-3.0</td>\n",
       "      <td>0</td>\n",
       "      <td>8.0</td>\n",
       "    </tr>\n",
       "    <tr>\n",
       "      <th>3</th>\n",
       "      <td>2.0</td>\n",
       "      <td>1</td>\n",
       "      <td>-2.5</td>\n",
       "    </tr>\n",
       "  </tbody>\n",
       "</table>\n",
       "</div>"
      ],
      "text/plain": [
       "     b  a    c\n",
       "0  4.3  0 -2.0\n",
       "1  7.0  1  5.0\n",
       "2 -3.0  0  8.0\n",
       "3  2.0  1 -2.5"
      ]
     },
     "execution_count": 76,
     "metadata": {},
     "output_type": "execute_result"
    }
   ],
   "source": [
    "frame "
   ]
  },
  {
   "cell_type": "code",
   "execution_count": 78,
   "id": "93cd714d",
   "metadata": {},
   "outputs": [
    {
     "data": {
      "text/html": [
       "<div>\n",
       "<style scoped>\n",
       "    .dataframe tbody tr th:only-of-type {\n",
       "        vertical-align: middle;\n",
       "    }\n",
       "\n",
       "    .dataframe tbody tr th {\n",
       "        vertical-align: top;\n",
       "    }\n",
       "\n",
       "    .dataframe thead th {\n",
       "        text-align: right;\n",
       "    }\n",
       "</style>\n",
       "<table border=\"1\" class=\"dataframe\">\n",
       "  <thead>\n",
       "    <tr style=\"text-align: right;\">\n",
       "      <th></th>\n",
       "      <th>b</th>\n",
       "      <th>a</th>\n",
       "      <th>c</th>\n",
       "    </tr>\n",
       "  </thead>\n",
       "  <tbody>\n",
       "    <tr>\n",
       "      <th>0</th>\n",
       "      <td>3.0</td>\n",
       "      <td>2.0</td>\n",
       "      <td>1.0</td>\n",
       "    </tr>\n",
       "    <tr>\n",
       "      <th>1</th>\n",
       "      <td>3.0</td>\n",
       "      <td>1.0</td>\n",
       "      <td>2.0</td>\n",
       "    </tr>\n",
       "    <tr>\n",
       "      <th>2</th>\n",
       "      <td>1.0</td>\n",
       "      <td>2.0</td>\n",
       "      <td>3.0</td>\n",
       "    </tr>\n",
       "    <tr>\n",
       "      <th>3</th>\n",
       "      <td>3.0</td>\n",
       "      <td>2.0</td>\n",
       "      <td>1.0</td>\n",
       "    </tr>\n",
       "  </tbody>\n",
       "</table>\n",
       "</div>"
      ],
      "text/plain": [
       "     b    a    c\n",
       "0  3.0  2.0  1.0\n",
       "1  3.0  1.0  2.0\n",
       "2  1.0  2.0  3.0\n",
       "3  3.0  2.0  1.0"
      ]
     },
     "execution_count": 78,
     "metadata": {},
     "output_type": "execute_result"
    }
   ],
   "source": [
    "frame.rank(axis = \"columns\")"
   ]
  },
  {
   "cell_type": "code",
   "execution_count": 79,
   "id": "ad5ed8e2",
   "metadata": {},
   "outputs": [
    {
     "ename": "SyntaxError",
     "evalue": "invalid syntax. Perhaps you forgot a comma? (2027159680.py, line 15)",
     "output_type": "error",
     "traceback": [
      "\u001b[1;36m  Cell \u001b[1;32mIn[79], line 15\u001b[1;36m\u001b[0m\n\u001b[1;33m    \"Like method = \"min\", but ranks always increase by between groups rather than the number of equal elements in a group\",\u001b[0m\n\u001b[1;37m    ^\u001b[0m\n\u001b[1;31mSyntaxError\u001b[0m\u001b[1;31m:\u001b[0m invalid syntax. Perhaps you forgot a comma?\n"
     ]
    }
   ],
   "source": [
    "options = df.DataFrame({\n",
    "    \"Method\" : [\n",
    "        \"average\", \n",
    "        \"min\",\n",
    "        \"max\", \n",
    "        \"first\",\n",
    "        \"dense\" \n",
    "    ], \n",
    "    \n",
    "    \"Description\" : [\n",
    "        \"Default, assign the average rank to each entry in the equal group\", \n",
    "        \"Use the minimum rank for the whole group\", \n",
    "        \"Use the maximum rank for the whole group\",\n",
    "        \"Assign ranks in the order the values appear in the data\", \n",
    "        \"Like method = \"min\", but ranks always increase by between groups rather than the number of equal elements in a group\",\n",
    "    ]\n",
    "})\n",
    "\n",
    "options "
   ]
  },
  {
   "cell_type": "markdown",
   "id": "29896da8",
   "metadata": {},
   "source": [
    "# Axis indexes with Duplicate Labels "
   ]
  },
  {
   "cell_type": "markdown",
   "id": "9bd9134c",
   "metadata": {},
   "source": [
    "Up until new almost all of the examples we have looked at have unique axis labels (index values). While many pandas functions (like reindex) require that the labels be unique, it's not mandatory. Let's consider a small Series with duplicate indices: "
   ]
  },
  {
   "cell_type": "code",
   "execution_count": 80,
   "id": "dab899c6",
   "metadata": {},
   "outputs": [
    {
     "data": {
      "text/plain": [
       "a    0\n",
       "a    1\n",
       "b    2\n",
       "b    3\n",
       "c    4\n",
       "dtype: int32"
      ]
     },
     "execution_count": 80,
     "metadata": {},
     "output_type": "execute_result"
    }
   ],
   "source": [
    "obj = pd.Series(np.arange(5), index = [\"a\", \"a\", \"b\", \"b\", \"c\"])\n",
    "obj"
   ]
  },
  {
   "cell_type": "markdown",
   "id": "038ec00b",
   "metadata": {},
   "source": [
    "The is_unique property of the index can tell you whether or not its labels are unique: "
   ]
  },
  {
   "cell_type": "code",
   "execution_count": 81,
   "id": "8f2608ab",
   "metadata": {},
   "outputs": [
    {
     "data": {
      "text/plain": [
       "False"
      ]
     },
     "execution_count": 81,
     "metadata": {},
     "output_type": "execute_result"
    }
   ],
   "source": [
    "obj.index.is_unique"
   ]
  },
  {
   "cell_type": "markdown",
   "id": "b3758171",
   "metadata": {},
   "source": [
    "Data selection is one of the main things that behaves differently with duplicates indexing a label with multiple entries returns a Series, while single entries return a scalar value: "
   ]
  },
  {
   "cell_type": "code",
   "execution_count": 82,
   "id": "3b31990f",
   "metadata": {},
   "outputs": [
    {
     "data": {
      "text/plain": [
       "a    0\n",
       "a    1\n",
       "dtype: int32"
      ]
     },
     "execution_count": 82,
     "metadata": {},
     "output_type": "execute_result"
    }
   ],
   "source": [
    "obj[\"a\"]"
   ]
  },
  {
   "cell_type": "code",
   "execution_count": 83,
   "id": "fc361cdd",
   "metadata": {},
   "outputs": [
    {
     "data": {
      "text/plain": [
       "4"
      ]
     },
     "execution_count": 83,
     "metadata": {},
     "output_type": "execute_result"
    }
   ],
   "source": [
    "obj[\"c\"]"
   ]
  },
  {
   "cell_type": "markdown",
   "id": "b7dd1c9b",
   "metadata": {},
   "source": [
    "This can make your code more complicated, as the output type from indexing can vary based on wheter or not a label is repeated. "
   ]
  },
  {
   "cell_type": "markdown",
   "id": "24f9e568",
   "metadata": {},
   "source": [
    "The same logic extends to indexing rows (or columns) in a DataFrame: \n"
   ]
  },
  {
   "cell_type": "code",
   "execution_count": 84,
   "id": "12bffdac",
   "metadata": {},
   "outputs": [
    {
     "data": {
      "text/html": [
       "<div>\n",
       "<style scoped>\n",
       "    .dataframe tbody tr th:only-of-type {\n",
       "        vertical-align: middle;\n",
       "    }\n",
       "\n",
       "    .dataframe tbody tr th {\n",
       "        vertical-align: top;\n",
       "    }\n",
       "\n",
       "    .dataframe thead th {\n",
       "        text-align: right;\n",
       "    }\n",
       "</style>\n",
       "<table border=\"1\" class=\"dataframe\">\n",
       "  <thead>\n",
       "    <tr style=\"text-align: right;\">\n",
       "      <th></th>\n",
       "      <th>0</th>\n",
       "      <th>1</th>\n",
       "      <th>2</th>\n",
       "    </tr>\n",
       "  </thead>\n",
       "  <tbody>\n",
       "    <tr>\n",
       "      <th>a</th>\n",
       "      <td>-0.037619</td>\n",
       "      <td>-0.940243</td>\n",
       "      <td>-1.505569</td>\n",
       "    </tr>\n",
       "    <tr>\n",
       "      <th>a</th>\n",
       "      <td>0.877829</td>\n",
       "      <td>0.171656</td>\n",
       "      <td>1.007554</td>\n",
       "    </tr>\n",
       "    <tr>\n",
       "      <th>b</th>\n",
       "      <td>0.520287</td>\n",
       "      <td>-1.004429</td>\n",
       "      <td>0.476966</td>\n",
       "    </tr>\n",
       "    <tr>\n",
       "      <th>b</th>\n",
       "      <td>-1.304980</td>\n",
       "      <td>-1.313590</td>\n",
       "      <td>1.025022</td>\n",
       "    </tr>\n",
       "    <tr>\n",
       "      <th>c</th>\n",
       "      <td>-0.201832</td>\n",
       "      <td>-0.177136</td>\n",
       "      <td>-0.567304</td>\n",
       "    </tr>\n",
       "  </tbody>\n",
       "</table>\n",
       "</div>"
      ],
      "text/plain": [
       "          0         1         2\n",
       "a -0.037619 -0.940243 -1.505569\n",
       "a  0.877829  0.171656  1.007554\n",
       "b  0.520287 -1.004429  0.476966\n",
       "b -1.304980 -1.313590  1.025022\n",
       "c -0.201832 -0.177136 -0.567304"
      ]
     },
     "execution_count": 84,
     "metadata": {},
     "output_type": "execute_result"
    }
   ],
   "source": [
    "df = pd.DataFrame(np.random.standard_normal((5,3)), \n",
    "                 index = [\"a\", \"a\", \"b\", \"b\", \"c\"])\n",
    "\n",
    "df "
   ]
  },
  {
   "cell_type": "code",
   "execution_count": 86,
   "id": "5531fc0d",
   "metadata": {},
   "outputs": [
    {
     "data": {
      "text/html": [
       "<div>\n",
       "<style scoped>\n",
       "    .dataframe tbody tr th:only-of-type {\n",
       "        vertical-align: middle;\n",
       "    }\n",
       "\n",
       "    .dataframe tbody tr th {\n",
       "        vertical-align: top;\n",
       "    }\n",
       "\n",
       "    .dataframe thead th {\n",
       "        text-align: right;\n",
       "    }\n",
       "</style>\n",
       "<table border=\"1\" class=\"dataframe\">\n",
       "  <thead>\n",
       "    <tr style=\"text-align: right;\">\n",
       "      <th></th>\n",
       "      <th>0</th>\n",
       "      <th>1</th>\n",
       "      <th>2</th>\n",
       "    </tr>\n",
       "  </thead>\n",
       "  <tbody>\n",
       "    <tr>\n",
       "      <th>b</th>\n",
       "      <td>0.520287</td>\n",
       "      <td>-1.004429</td>\n",
       "      <td>0.476966</td>\n",
       "    </tr>\n",
       "    <tr>\n",
       "      <th>b</th>\n",
       "      <td>-1.304980</td>\n",
       "      <td>-1.313590</td>\n",
       "      <td>1.025022</td>\n",
       "    </tr>\n",
       "  </tbody>\n",
       "</table>\n",
       "</div>"
      ],
      "text/plain": [
       "          0         1         2\n",
       "b  0.520287 -1.004429  0.476966\n",
       "b -1.304980 -1.313590  1.025022"
      ]
     },
     "execution_count": 86,
     "metadata": {},
     "output_type": "execute_result"
    }
   ],
   "source": [
    "df.loc[\"b\"]"
   ]
  },
  {
   "cell_type": "code",
   "execution_count": 87,
   "id": "dbea5393",
   "metadata": {},
   "outputs": [
    {
     "data": {
      "text/plain": [
       "0   -0.201832\n",
       "1   -0.177136\n",
       "2   -0.567304\n",
       "Name: c, dtype: float64"
      ]
     },
     "execution_count": 87,
     "metadata": {},
     "output_type": "execute_result"
    }
   ],
   "source": [
    "df.loc[\"c\"] "
   ]
  },
  {
   "cell_type": "markdown",
   "id": "287ae300",
   "metadata": {},
   "source": [
    "# Summarizing and Computing Descriptive Statistics "
   ]
  },
  {
   "cell_type": "markdown",
   "id": "6c508103",
   "metadata": {},
   "source": [
    "Pandas objects are equipped with a set of common mathematical and statistical methods. Moist of these fall into the category of reductions or summary statistics, methods that extract a single value (like the Sum or mean) from a Series, or a Series of values from the rows of columns of a DataFrame. Compared with the similar methods found on NummPy arrays, they have built-in handling for missing data. Consider a small DataFrame: "
   ]
  },
  {
   "cell_type": "code",
   "execution_count": 2,
   "id": "095d8b3c",
   "metadata": {},
   "outputs": [
    {
     "data": {
      "text/html": [
       "<div>\n",
       "<style scoped>\n",
       "    .dataframe tbody tr th:only-of-type {\n",
       "        vertical-align: middle;\n",
       "    }\n",
       "\n",
       "    .dataframe tbody tr th {\n",
       "        vertical-align: top;\n",
       "    }\n",
       "\n",
       "    .dataframe thead th {\n",
       "        text-align: right;\n",
       "    }\n",
       "</style>\n",
       "<table border=\"1\" class=\"dataframe\">\n",
       "  <thead>\n",
       "    <tr style=\"text-align: right;\">\n",
       "      <th></th>\n",
       "      <th>one</th>\n",
       "      <th>two</th>\n",
       "    </tr>\n",
       "  </thead>\n",
       "  <tbody>\n",
       "    <tr>\n",
       "      <th>a</th>\n",
       "      <td>1.40</td>\n",
       "      <td>NaN</td>\n",
       "    </tr>\n",
       "    <tr>\n",
       "      <th>b</th>\n",
       "      <td>7.10</td>\n",
       "      <td>-4.5</td>\n",
       "    </tr>\n",
       "    <tr>\n",
       "      <th>c</th>\n",
       "      <td>NaN</td>\n",
       "      <td>NaN</td>\n",
       "    </tr>\n",
       "    <tr>\n",
       "      <th>d</th>\n",
       "      <td>0.75</td>\n",
       "      <td>-1.3</td>\n",
       "    </tr>\n",
       "  </tbody>\n",
       "</table>\n",
       "</div>"
      ],
      "text/plain": [
       "    one  two\n",
       "a  1.40  NaN\n",
       "b  7.10 -4.5\n",
       "c   NaN  NaN\n",
       "d  0.75 -1.3"
      ]
     },
     "execution_count": 2,
     "metadata": {},
     "output_type": "execute_result"
    }
   ],
   "source": [
    "df = pd. DataFrame([[1.4, np.nan], [7.1, -4.5], \n",
    "                   [np.nan, np.nan],[0.75, -1.3]], \n",
    "                  index = [\"a\", \"b\", \"c\", \"d\"], \n",
    "                  columns = [\"one\", \"two\"])\n",
    "\n",
    "df "
   ]
  },
  {
   "cell_type": "code",
   "execution_count": 89,
   "id": "95a53f44",
   "metadata": {},
   "outputs": [
    {
     "data": {
      "text/plain": [
       "one    9.25\n",
       "two   -5.80\n",
       "dtype: float64"
      ]
     },
     "execution_count": 89,
     "metadata": {},
     "output_type": "execute_result"
    }
   ],
   "source": [
    "df.sum() "
   ]
  },
  {
   "cell_type": "markdown",
   "id": "dc823137",
   "metadata": {},
   "source": [
    "Calling DataFrame's sum method returns a Series containing column sums: "
   ]
  },
  {
   "cell_type": "code",
   "execution_count": 90,
   "id": "caac50eb",
   "metadata": {},
   "outputs": [
    {
     "data": {
      "text/plain": [
       "one    9.25\n",
       "two   -5.80\n",
       "dtype: float64"
      ]
     },
     "execution_count": 90,
     "metadata": {},
     "output_type": "execute_result"
    }
   ],
   "source": [
    "df.sum() "
   ]
  },
  {
   "cell_type": "markdown",
   "id": "8d28d6b3",
   "metadata": {},
   "source": [
    "Passing axis = \"columns\" or axis = 1 sums across the columns instead: \n",
    "    "
   ]
  },
  {
   "cell_type": "code",
   "execution_count": 92,
   "id": "7f31e6b2",
   "metadata": {},
   "outputs": [
    {
     "data": {
      "text/plain": [
       "a    1.40\n",
       "b    2.60\n",
       "c    0.00\n",
       "d   -0.55\n",
       "dtype: float64"
      ]
     },
     "execution_count": 92,
     "metadata": {},
     "output_type": "execute_result"
    }
   ],
   "source": [
    "df.sum(axis = \"columns\")"
   ]
  },
  {
   "cell_type": "code",
   "execution_count": 93,
   "id": "f9dfecb5",
   "metadata": {},
   "outputs": [
    {
     "data": {
      "text/plain": [
       "one   NaN\n",
       "two   NaN\n",
       "dtype: float64"
      ]
     },
     "execution_count": 93,
     "metadata": {},
     "output_type": "execute_result"
    }
   ],
   "source": [
    "df.sum(axis = \"index\", skipna = False)"
   ]
  },
  {
   "cell_type": "code",
   "execution_count": 94,
   "id": "82253b5d",
   "metadata": {},
   "outputs": [
    {
     "data": {
      "text/plain": [
       "a     NaN\n",
       "b    2.60\n",
       "c     NaN\n",
       "d   -0.55\n",
       "dtype: float64"
      ]
     },
     "execution_count": 94,
     "metadata": {},
     "output_type": "execute_result"
    }
   ],
   "source": [
    "df.sum(axis = \"columns\", skipna = False)"
   ]
  },
  {
   "cell_type": "markdown",
   "id": "cd6faf8e",
   "metadata": {},
   "source": [
    "Some aggregations, like mean, require at least one non-NA value to yield a value result, so here we have: "
   ]
  },
  {
   "cell_type": "code",
   "execution_count": 95,
   "id": "c29cdacb",
   "metadata": {},
   "outputs": [
    {
     "data": {
      "text/plain": [
       "a    1.400\n",
       "b    1.300\n",
       "c      NaN\n",
       "d   -0.275\n",
       "dtype: float64"
      ]
     },
     "execution_count": 95,
     "metadata": {},
     "output_type": "execute_result"
    }
   ],
   "source": [
    "df.mean(axis = \"columns\")"
   ]
  },
  {
   "cell_type": "code",
   "execution_count": 99,
   "id": "eb68210c",
   "metadata": {},
   "outputs": [
    {
     "data": {
      "text/html": [
       "<div>\n",
       "<style scoped>\n",
       "    .dataframe tbody tr th:only-of-type {\n",
       "        vertical-align: middle;\n",
       "    }\n",
       "\n",
       "    .dataframe tbody tr th {\n",
       "        vertical-align: top;\n",
       "    }\n",
       "\n",
       "    .dataframe thead th {\n",
       "        text-align: right;\n",
       "    }\n",
       "</style>\n",
       "<table border=\"1\" class=\"dataframe\">\n",
       "  <thead>\n",
       "    <tr style=\"text-align: right;\">\n",
       "      <th></th>\n",
       "      <th>Method</th>\n",
       "      <th>Description</th>\n",
       "    </tr>\n",
       "  </thead>\n",
       "  <tbody>\n",
       "    <tr>\n",
       "      <th>0</th>\n",
       "      <td>axis</td>\n",
       "      <td>Axis to reduce over, 'index' for DataFrame's r...</td>\n",
       "    </tr>\n",
       "    <tr>\n",
       "      <th>1</th>\n",
       "      <td>skipna</td>\n",
       "      <td>Exclude missing values, True by default</td>\n",
       "    </tr>\n",
       "    <tr>\n",
       "      <th>2</th>\n",
       "      <td>level</td>\n",
       "      <td>Reduce grouped by level if the axis is hierarc...</td>\n",
       "    </tr>\n",
       "  </tbody>\n",
       "</table>\n",
       "</div>"
      ],
      "text/plain": [
       "   Method                                        Description\n",
       "0    axis  Axis to reduce over, 'index' for DataFrame's r...\n",
       "1  skipna            Exclude missing values, True by default\n",
       "2   level  Reduce grouped by level if the axis is hierarc..."
      ]
     },
     "execution_count": 99,
     "metadata": {},
     "output_type": "execute_result"
    }
   ],
   "source": [
    "options = pd.DataFrame({\n",
    "    \"Method\" : [\n",
    "        \"axis\", \n",
    "        \"skipna\", \n",
    "        \"level\",\n",
    "    ], \n",
    "    \n",
    "    \"Description\" : [\n",
    "        \"Axis to reduce over, 'index' for DataFrame's rows and 'columns' for columns\", \n",
    "        \"Exclude missing values, True by default\", \n",
    "        \"Reduce grouped by level if the axis is hierarchically indexed (MultiIndex)\",\n",
    "    ]\n",
    "})\n",
    "\n",
    "options "
   ]
  },
  {
   "cell_type": "markdown",
   "id": "bb7af2b1",
   "metadata": {},
   "source": [
    "Some methods, like idxmin and idxmax, return indirect statistics, like the index value where the minimum or maximum values are attained: "
   ]
  },
  {
   "cell_type": "code",
   "execution_count": 3,
   "id": "cd1bb220",
   "metadata": {},
   "outputs": [
    {
     "data": {
      "text/plain": [
       "one    b\n",
       "two    d\n",
       "dtype: object"
      ]
     },
     "execution_count": 3,
     "metadata": {},
     "output_type": "execute_result"
    }
   ],
   "source": [
    "df.idxmax() "
   ]
  },
  {
   "cell_type": "markdown",
   "id": "ac731868",
   "metadata": {},
   "source": [
    "Other methods are neither reductions nor acumalations, describe is one such exampl, producing multiple summary statistics in one shot: "
   ]
  },
  {
   "cell_type": "code",
   "execution_count": 4,
   "id": "fd7745b5",
   "metadata": {},
   "outputs": [
    {
     "data": {
      "text/html": [
       "<div>\n",
       "<style scoped>\n",
       "    .dataframe tbody tr th:only-of-type {\n",
       "        vertical-align: middle;\n",
       "    }\n",
       "\n",
       "    .dataframe tbody tr th {\n",
       "        vertical-align: top;\n",
       "    }\n",
       "\n",
       "    .dataframe thead th {\n",
       "        text-align: right;\n",
       "    }\n",
       "</style>\n",
       "<table border=\"1\" class=\"dataframe\">\n",
       "  <thead>\n",
       "    <tr style=\"text-align: right;\">\n",
       "      <th></th>\n",
       "      <th>one</th>\n",
       "      <th>two</th>\n",
       "    </tr>\n",
       "  </thead>\n",
       "  <tbody>\n",
       "    <tr>\n",
       "      <th>count</th>\n",
       "      <td>3.000000</td>\n",
       "      <td>2.000000</td>\n",
       "    </tr>\n",
       "    <tr>\n",
       "      <th>mean</th>\n",
       "      <td>3.083333</td>\n",
       "      <td>-2.900000</td>\n",
       "    </tr>\n",
       "    <tr>\n",
       "      <th>std</th>\n",
       "      <td>3.493685</td>\n",
       "      <td>2.262742</td>\n",
       "    </tr>\n",
       "    <tr>\n",
       "      <th>min</th>\n",
       "      <td>0.750000</td>\n",
       "      <td>-4.500000</td>\n",
       "    </tr>\n",
       "    <tr>\n",
       "      <th>25%</th>\n",
       "      <td>1.075000</td>\n",
       "      <td>-3.700000</td>\n",
       "    </tr>\n",
       "    <tr>\n",
       "      <th>50%</th>\n",
       "      <td>1.400000</td>\n",
       "      <td>-2.900000</td>\n",
       "    </tr>\n",
       "    <tr>\n",
       "      <th>75%</th>\n",
       "      <td>4.250000</td>\n",
       "      <td>-2.100000</td>\n",
       "    </tr>\n",
       "    <tr>\n",
       "      <th>max</th>\n",
       "      <td>7.100000</td>\n",
       "      <td>-1.300000</td>\n",
       "    </tr>\n",
       "  </tbody>\n",
       "</table>\n",
       "</div>"
      ],
      "text/plain": [
       "            one       two\n",
       "count  3.000000  2.000000\n",
       "mean   3.083333 -2.900000\n",
       "std    3.493685  2.262742\n",
       "min    0.750000 -4.500000\n",
       "25%    1.075000 -3.700000\n",
       "50%    1.400000 -2.900000\n",
       "75%    4.250000 -2.100000\n",
       "max    7.100000 -1.300000"
      ]
     },
     "execution_count": 4,
     "metadata": {},
     "output_type": "execute_result"
    }
   ],
   "source": [
    "df.describe() "
   ]
  },
  {
   "cell_type": "markdown",
   "id": "8330838e",
   "metadata": {},
   "source": [
    "On non-numeric data, describe produces alternative summary statistics: "
   ]
  },
  {
   "cell_type": "code",
   "execution_count": 3,
   "id": "bbf08159",
   "metadata": {},
   "outputs": [],
   "source": [
    "obj = pd.Series([\"a\", \"a\",\"b\",\"c\"]*3)"
   ]
  },
  {
   "cell_type": "code",
   "execution_count": 4,
   "id": "5fdd8f3d",
   "metadata": {},
   "outputs": [
    {
     "data": {
      "text/plain": [
       "count     12\n",
       "unique     3\n",
       "top        a\n",
       "freq       6\n",
       "dtype: object"
      ]
     },
     "execution_count": 4,
     "metadata": {},
     "output_type": "execute_result"
    }
   ],
   "source": [
    "obj.describe() "
   ]
  },
  {
   "cell_type": "code",
   "execution_count": 10,
   "id": "8fb8b91a",
   "metadata": {},
   "outputs": [
    {
     "data": {
      "text/html": [
       "<div>\n",
       "<style scoped>\n",
       "    .dataframe tbody tr th:only-of-type {\n",
       "        vertical-align: middle;\n",
       "    }\n",
       "\n",
       "    .dataframe tbody tr th {\n",
       "        vertical-align: top;\n",
       "    }\n",
       "\n",
       "    .dataframe thead th {\n",
       "        text-align: right;\n",
       "    }\n",
       "</style>\n",
       "<table border=\"1\" class=\"dataframe\">\n",
       "  <thead>\n",
       "    <tr style=\"text-align: right;\">\n",
       "      <th></th>\n",
       "      <th>Method</th>\n",
       "      <th>Description</th>\n",
       "    </tr>\n",
       "  </thead>\n",
       "  <tbody>\n",
       "    <tr>\n",
       "      <th>0</th>\n",
       "      <td>count</td>\n",
       "      <td>Number of non-NA values</td>\n",
       "    </tr>\n",
       "    <tr>\n",
       "      <th>1</th>\n",
       "      <td>describe</td>\n",
       "      <td>Compute set of summary statistics</td>\n",
       "    </tr>\n",
       "    <tr>\n",
       "      <th>2</th>\n",
       "      <td>min, max</td>\n",
       "      <td>Compute minimum and maximum values</td>\n",
       "    </tr>\n",
       "    <tr>\n",
       "      <th>3</th>\n",
       "      <td>argmin, argmax</td>\n",
       "      <td>Compute index locations (integers) at which mi...</td>\n",
       "    </tr>\n",
       "    <tr>\n",
       "      <th>4</th>\n",
       "      <td>idxmin, idxmax</td>\n",
       "      <td>Compute index labels at which minimum or maxim...</td>\n",
       "    </tr>\n",
       "    <tr>\n",
       "      <th>5</th>\n",
       "      <td>quantitile</td>\n",
       "      <td>Compute sample quantile ranging from 0 to 1 (d...</td>\n",
       "    </tr>\n",
       "    <tr>\n",
       "      <th>6</th>\n",
       "      <td>sum</td>\n",
       "      <td>Sum of values</td>\n",
       "    </tr>\n",
       "    <tr>\n",
       "      <th>7</th>\n",
       "      <td>mean</td>\n",
       "      <td>Mean of values</td>\n",
       "    </tr>\n",
       "    <tr>\n",
       "      <th>8</th>\n",
       "      <td>median</td>\n",
       "      <td>Arithmetic median (50% quantile) of values</td>\n",
       "    </tr>\n",
       "    <tr>\n",
       "      <th>9</th>\n",
       "      <td>mad</td>\n",
       "      <td>Mean absolute deviation from mean value</td>\n",
       "    </tr>\n",
       "    <tr>\n",
       "      <th>10</th>\n",
       "      <td>prod</td>\n",
       "      <td>Product of all values</td>\n",
       "    </tr>\n",
       "    <tr>\n",
       "      <th>11</th>\n",
       "      <td>var</td>\n",
       "      <td>Sample variacne of values</td>\n",
       "    </tr>\n",
       "    <tr>\n",
       "      <th>12</th>\n",
       "      <td>std</td>\n",
       "      <td>Sample standard deviation of values</td>\n",
       "    </tr>\n",
       "    <tr>\n",
       "      <th>13</th>\n",
       "      <td>skew</td>\n",
       "      <td>Sample skewness (third moment) of values</td>\n",
       "    </tr>\n",
       "    <tr>\n",
       "      <th>14</th>\n",
       "      <td>kurt</td>\n",
       "      <td>Sample kurtosis (fourth moment) of values</td>\n",
       "    </tr>\n",
       "    <tr>\n",
       "      <th>15</th>\n",
       "      <td>cumsum</td>\n",
       "      <td>Cumulative sum of values</td>\n",
       "    </tr>\n",
       "    <tr>\n",
       "      <th>16</th>\n",
       "      <td>cummin, cummax</td>\n",
       "      <td>Cumulative minimum or maximum of values, respe...</td>\n",
       "    </tr>\n",
       "    <tr>\n",
       "      <th>17</th>\n",
       "      <td>cumprod</td>\n",
       "      <td>Cumulative product of values</td>\n",
       "    </tr>\n",
       "    <tr>\n",
       "      <th>18</th>\n",
       "      <td>diff</td>\n",
       "      <td>Compute first arithmetic difference (useful fo...</td>\n",
       "    </tr>\n",
       "    <tr>\n",
       "      <th>19</th>\n",
       "      <td>pct_change</td>\n",
       "      <td>Compute percent changes</td>\n",
       "    </tr>\n",
       "  </tbody>\n",
       "</table>\n",
       "</div>"
      ],
      "text/plain": [
       "            Method                                        Description\n",
       "0            count                            Number of non-NA values\n",
       "1         describe                  Compute set of summary statistics\n",
       "2         min, max                 Compute minimum and maximum values\n",
       "3   argmin, argmax  Compute index locations (integers) at which mi...\n",
       "4   idxmin, idxmax  Compute index labels at which minimum or maxim...\n",
       "5       quantitile  Compute sample quantile ranging from 0 to 1 (d...\n",
       "6              sum                                      Sum of values\n",
       "7             mean                                     Mean of values\n",
       "8           median         Arithmetic median (50% quantile) of values\n",
       "9              mad            Mean absolute deviation from mean value\n",
       "10            prod                              Product of all values\n",
       "11             var                          Sample variacne of values\n",
       "12             std                Sample standard deviation of values\n",
       "13            skew           Sample skewness (third moment) of values\n",
       "14            kurt          Sample kurtosis (fourth moment) of values\n",
       "15          cumsum                           Cumulative sum of values\n",
       "16  cummin, cummax  Cumulative minimum or maximum of values, respe...\n",
       "17         cumprod                       Cumulative product of values\n",
       "18            diff  Compute first arithmetic difference (useful fo...\n",
       "19      pct_change                            Compute percent changes"
      ]
     },
     "execution_count": 10,
     "metadata": {},
     "output_type": "execute_result"
    }
   ],
   "source": [
    "options = pd.DataFrame({\n",
    "    \"Method\": [\n",
    "        \"count\",\n",
    "        \"describe\", \n",
    "        \"min, max\", \n",
    "        \"argmin, argmax\", \n",
    "        \"idxmin, idxmax\", \n",
    "        \"quantitile\", \n",
    "        \"sum\",\n",
    "        \"mean\", \n",
    "        \"median\",\n",
    "        \"mad\",\n",
    "        \"prod\",\n",
    "        \"var\",\n",
    "        \"std\", \n",
    "        \"skew\",\n",
    "        \"kurt\",\n",
    "        \"cumsum\",\n",
    "        \"cummin, cummax\", \n",
    "        \"cumprod\", \n",
    "        \"diff\",\n",
    "        \"pct_change\", \n",
    "    ],\n",
    "    \n",
    "    \"Description\": [\n",
    "        \"Number of non-NA values\", \n",
    "        \"Compute set of summary statistics\", \n",
    "        \"Compute minimum and maximum values\",\n",
    "        \"Compute index locations (integers) at which minimum or maximum value is obtained, respectively, not available on DataFrame objects. \", \n",
    "        \"Compute index labels at which minimum or maximum value is obtained, respectively\", \n",
    "        \"Compute sample quantile ranging from 0 to 1 (default: 0.5)\", \n",
    "        \"Sum of values\",\n",
    "        \"Mean of values\", \n",
    "        \"Arithmetic median (50% quantile) of values\", \n",
    "        \"Mean absolute deviation from mean value\", \n",
    "        \"Product of all values\", \n",
    "        \"Sample variacne of values\", \n",
    "        \"Sample standard deviation of values\",\n",
    "        \"Sample skewness (third moment) of values\", \n",
    "        \"Sample kurtosis (fourth moment) of values\", \n",
    "        \"Cumulative sum of values\", \n",
    "        \"Cumulative minimum or maximum of values, respectively\",\n",
    "        \"Cumulative product of values\", \n",
    "        \"Compute first arithmetic difference (useful for time series)\",\n",
    "        \"Compute percent changes\",\n",
    "    ]\n",
    "})\n",
    "\n",
    "options "
   ]
  },
  {
   "cell_type": "markdown",
   "id": "787df640",
   "metadata": {},
   "source": [
    "# Correlation and Covariance "
   ]
  },
  {
   "cell_type": "markdown",
   "id": "d4369bfd",
   "metadata": {},
   "source": [
    "Some summary statistics, like correlation and covariance, are computed from pairs of arguments. Let's consider some DataFrames of stock prices and volumes originally obtained from Yahoo! Finance and available in binary Python pickle files you can find in the accompanying datasets for the book : "
   ]
  },
  {
   "cell_type": "code",
   "execution_count": 14,
   "id": "759da072",
   "metadata": {},
   "outputs": [],
   "source": [
    "price = pd.read_pickle(\"C:/Users/ADMIN/Documents/GitHub/python/Pandas_python/yahoo_price.pkl\")"
   ]
  },
  {
   "cell_type": "code",
   "execution_count": 17,
   "id": "c93a5cfe",
   "metadata": {},
   "outputs": [],
   "source": [
    "volume = pd.read_pickle(\"C:/Users/ADMIN/Documents/GitHub/python/Pandas_python/yahoo_volume.pkl\")"
   ]
  },
  {
   "cell_type": "code",
   "execution_count": 18,
   "id": "b5d6ae65",
   "metadata": {},
   "outputs": [],
   "source": [
    "returns = price.pct_change() "
   ]
  },
  {
   "cell_type": "code",
   "execution_count": 21,
   "id": "88bb4414",
   "metadata": {},
   "outputs": [
    {
     "data": {
      "text/html": [
       "<div>\n",
       "<style scoped>\n",
       "    .dataframe tbody tr th:only-of-type {\n",
       "        vertical-align: middle;\n",
       "    }\n",
       "\n",
       "    .dataframe tbody tr th {\n",
       "        vertical-align: top;\n",
       "    }\n",
       "\n",
       "    .dataframe thead th {\n",
       "        text-align: right;\n",
       "    }\n",
       "</style>\n",
       "<table border=\"1\" class=\"dataframe\">\n",
       "  <thead>\n",
       "    <tr style=\"text-align: right;\">\n",
       "      <th></th>\n",
       "      <th>AAPL</th>\n",
       "      <th>GOOG</th>\n",
       "      <th>IBM</th>\n",
       "      <th>MSFT</th>\n",
       "    </tr>\n",
       "    <tr>\n",
       "      <th>Date</th>\n",
       "      <th></th>\n",
       "      <th></th>\n",
       "      <th></th>\n",
       "      <th></th>\n",
       "    </tr>\n",
       "  </thead>\n",
       "  <tbody>\n",
       "    <tr>\n",
       "      <th>2016-10-17</th>\n",
       "      <td>-0.000680</td>\n",
       "      <td>0.001837</td>\n",
       "      <td>0.002072</td>\n",
       "      <td>-0.003483</td>\n",
       "    </tr>\n",
       "    <tr>\n",
       "      <th>2016-10-18</th>\n",
       "      <td>-0.000681</td>\n",
       "      <td>0.019616</td>\n",
       "      <td>-0.026168</td>\n",
       "      <td>0.007690</td>\n",
       "    </tr>\n",
       "    <tr>\n",
       "      <th>2016-10-19</th>\n",
       "      <td>-0.002979</td>\n",
       "      <td>0.007846</td>\n",
       "      <td>0.003583</td>\n",
       "      <td>-0.002255</td>\n",
       "    </tr>\n",
       "    <tr>\n",
       "      <th>2016-10-20</th>\n",
       "      <td>-0.000512</td>\n",
       "      <td>-0.005652</td>\n",
       "      <td>0.001719</td>\n",
       "      <td>-0.004867</td>\n",
       "    </tr>\n",
       "    <tr>\n",
       "      <th>2016-10-21</th>\n",
       "      <td>-0.003930</td>\n",
       "      <td>0.003011</td>\n",
       "      <td>-0.012474</td>\n",
       "      <td>0.042096</td>\n",
       "    </tr>\n",
       "  </tbody>\n",
       "</table>\n",
       "</div>"
      ],
      "text/plain": [
       "                AAPL      GOOG       IBM      MSFT\n",
       "Date                                              \n",
       "2016-10-17 -0.000680  0.001837  0.002072 -0.003483\n",
       "2016-10-18 -0.000681  0.019616 -0.026168  0.007690\n",
       "2016-10-19 -0.002979  0.007846  0.003583 -0.002255\n",
       "2016-10-20 -0.000512 -0.005652  0.001719 -0.004867\n",
       "2016-10-21 -0.003930  0.003011 -0.012474  0.042096"
      ]
     },
     "execution_count": 21,
     "metadata": {},
     "output_type": "execute_result"
    }
   ],
   "source": [
    "returns.tail() "
   ]
  },
  {
   "cell_type": "raw",
   "id": "3f48d1e6",
   "metadata": {},
   "source": [
    "The corr method of Series computes the correlation of the overlapping, non-NA, aligned-by-index values in two Series. Relatedly, cov computes the convariance: "
   ]
  },
  {
   "cell_type": "code",
   "execution_count": 22,
   "id": "e19b5b76",
   "metadata": {},
   "outputs": [
    {
     "data": {
      "text/plain": [
       "0.49976361144151144"
      ]
     },
     "execution_count": 22,
     "metadata": {},
     "output_type": "execute_result"
    }
   ],
   "source": [
    "returns[\"MSFT\"].corr(returns[\"IBM\"])"
   ]
  },
  {
   "cell_type": "code",
   "execution_count": 23,
   "id": "0c9411ce",
   "metadata": {},
   "outputs": [
    {
     "data": {
      "text/plain": [
       "8.870655479703546e-05"
      ]
     },
     "execution_count": 23,
     "metadata": {},
     "output_type": "execute_result"
    }
   ],
   "source": [
    "returns[\"MSFT\"].cov(returns[\"IBM\"])"
   ]
  },
  {
   "cell_type": "markdown",
   "id": "4f3d1a3f",
   "metadata": {},
   "source": [
    "Since MSFT is a valid Python variable name, we can also select these columns using more concise syntax: "
   ]
  },
  {
   "cell_type": "code",
   "execution_count": 24,
   "id": "0cc53156",
   "metadata": {},
   "outputs": [
    {
     "data": {
      "text/plain": [
       "0.49976361144151144"
      ]
     },
     "execution_count": 24,
     "metadata": {},
     "output_type": "execute_result"
    }
   ],
   "source": [
    "returns[\"MSFT\"].corr(returns[\"IBM\"])"
   ]
  },
  {
   "cell_type": "markdown",
   "id": "32f32903",
   "metadata": {},
   "source": [
    "DataFrame's corr and cov methods, on the other hand, return a full correlation or covariance matrix as a DataFrame, respectively: "
   ]
  },
  {
   "cell_type": "code",
   "execution_count": 25,
   "id": "33da50e6",
   "metadata": {},
   "outputs": [
    {
     "data": {
      "text/html": [
       "<div>\n",
       "<style scoped>\n",
       "    .dataframe tbody tr th:only-of-type {\n",
       "        vertical-align: middle;\n",
       "    }\n",
       "\n",
       "    .dataframe tbody tr th {\n",
       "        vertical-align: top;\n",
       "    }\n",
       "\n",
       "    .dataframe thead th {\n",
       "        text-align: right;\n",
       "    }\n",
       "</style>\n",
       "<table border=\"1\" class=\"dataframe\">\n",
       "  <thead>\n",
       "    <tr style=\"text-align: right;\">\n",
       "      <th></th>\n",
       "      <th>AAPL</th>\n",
       "      <th>GOOG</th>\n",
       "      <th>IBM</th>\n",
       "      <th>MSFT</th>\n",
       "    </tr>\n",
       "  </thead>\n",
       "  <tbody>\n",
       "    <tr>\n",
       "      <th>AAPL</th>\n",
       "      <td>1.000000</td>\n",
       "      <td>0.407919</td>\n",
       "      <td>0.386817</td>\n",
       "      <td>0.389695</td>\n",
       "    </tr>\n",
       "    <tr>\n",
       "      <th>GOOG</th>\n",
       "      <td>0.407919</td>\n",
       "      <td>1.000000</td>\n",
       "      <td>0.405099</td>\n",
       "      <td>0.465919</td>\n",
       "    </tr>\n",
       "    <tr>\n",
       "      <th>IBM</th>\n",
       "      <td>0.386817</td>\n",
       "      <td>0.405099</td>\n",
       "      <td>1.000000</td>\n",
       "      <td>0.499764</td>\n",
       "    </tr>\n",
       "    <tr>\n",
       "      <th>MSFT</th>\n",
       "      <td>0.389695</td>\n",
       "      <td>0.465919</td>\n",
       "      <td>0.499764</td>\n",
       "      <td>1.000000</td>\n",
       "    </tr>\n",
       "  </tbody>\n",
       "</table>\n",
       "</div>"
      ],
      "text/plain": [
       "          AAPL      GOOG       IBM      MSFT\n",
       "AAPL  1.000000  0.407919  0.386817  0.389695\n",
       "GOOG  0.407919  1.000000  0.405099  0.465919\n",
       "IBM   0.386817  0.405099  1.000000  0.499764\n",
       "MSFT  0.389695  0.465919  0.499764  1.000000"
      ]
     },
     "execution_count": 25,
     "metadata": {},
     "output_type": "execute_result"
    }
   ],
   "source": [
    "returns.corr()"
   ]
  },
  {
   "cell_type": "code",
   "execution_count": 27,
   "id": "02ef1ef2",
   "metadata": {},
   "outputs": [
    {
     "data": {
      "text/html": [
       "<div>\n",
       "<style scoped>\n",
       "    .dataframe tbody tr th:only-of-type {\n",
       "        vertical-align: middle;\n",
       "    }\n",
       "\n",
       "    .dataframe tbody tr th {\n",
       "        vertical-align: top;\n",
       "    }\n",
       "\n",
       "    .dataframe thead th {\n",
       "        text-align: right;\n",
       "    }\n",
       "</style>\n",
       "<table border=\"1\" class=\"dataframe\">\n",
       "  <thead>\n",
       "    <tr style=\"text-align: right;\">\n",
       "      <th></th>\n",
       "      <th>AAPL</th>\n",
       "      <th>GOOG</th>\n",
       "      <th>IBM</th>\n",
       "      <th>MSFT</th>\n",
       "    </tr>\n",
       "  </thead>\n",
       "  <tbody>\n",
       "    <tr>\n",
       "      <th>AAPL</th>\n",
       "      <td>0.000277</td>\n",
       "      <td>0.000107</td>\n",
       "      <td>0.000078</td>\n",
       "      <td>0.000095</td>\n",
       "    </tr>\n",
       "    <tr>\n",
       "      <th>GOOG</th>\n",
       "      <td>0.000107</td>\n",
       "      <td>0.000251</td>\n",
       "      <td>0.000078</td>\n",
       "      <td>0.000108</td>\n",
       "    </tr>\n",
       "    <tr>\n",
       "      <th>IBM</th>\n",
       "      <td>0.000078</td>\n",
       "      <td>0.000078</td>\n",
       "      <td>0.000146</td>\n",
       "      <td>0.000089</td>\n",
       "    </tr>\n",
       "    <tr>\n",
       "      <th>MSFT</th>\n",
       "      <td>0.000095</td>\n",
       "      <td>0.000108</td>\n",
       "      <td>0.000089</td>\n",
       "      <td>0.000215</td>\n",
       "    </tr>\n",
       "  </tbody>\n",
       "</table>\n",
       "</div>"
      ],
      "text/plain": [
       "          AAPL      GOOG       IBM      MSFT\n",
       "AAPL  0.000277  0.000107  0.000078  0.000095\n",
       "GOOG  0.000107  0.000251  0.000078  0.000108\n",
       "IBM   0.000078  0.000078  0.000146  0.000089\n",
       "MSFT  0.000095  0.000108  0.000089  0.000215"
      ]
     },
     "execution_count": 27,
     "metadata": {},
     "output_type": "execute_result"
    }
   ],
   "source": [
    "returns.cov()"
   ]
  },
  {
   "cell_type": "markdown",
   "id": "e6fcf3a0",
   "metadata": {},
   "source": [
    "Using DataFrame's corrwith method, you can compute pair-wise correlations between a DataFrame's columns or rows with another Series or DataFrame. Passing a Sereis returns a Series with the correlation value computed for each column: "
   ]
  },
  {
   "cell_type": "code",
   "execution_count": 29,
   "id": "0b117f25",
   "metadata": {},
   "outputs": [
    {
     "data": {
      "text/plain": [
       "AAPL    0.386817\n",
       "GOOG    0.405099\n",
       "IBM     1.000000\n",
       "MSFT    0.499764\n",
       "dtype: float64"
      ]
     },
     "execution_count": 29,
     "metadata": {},
     "output_type": "execute_result"
    }
   ],
   "source": [
    "returns.corrwith(returns[\"IBM\"])"
   ]
  },
  {
   "cell_type": "markdown",
   "id": "a4fd6c5e",
   "metadata": {},
   "source": [
    "Passing a DataFrame computes the correlations of matching column names. Here, I compute correlations of percent changes with volume: "
   ]
  },
  {
   "cell_type": "code",
   "execution_count": 30,
   "id": "0c1f85a3",
   "metadata": {},
   "outputs": [
    {
     "data": {
      "text/plain": [
       "AAPL   -0.075565\n",
       "GOOG   -0.007067\n",
       "IBM    -0.204849\n",
       "MSFT   -0.092950\n",
       "dtype: float64"
      ]
     },
     "execution_count": 30,
     "metadata": {},
     "output_type": "execute_result"
    }
   ],
   "source": [
    "returns.corrwith(volume)"
   ]
  },
  {
   "cell_type": "markdown",
   "id": "ee16ce3f",
   "metadata": {},
   "source": [
    "Passing axis = \"columns\" does things row-by-row instead. In all cases, the data points are aligned by label before the correlation is computed. "
   ]
  },
  {
   "cell_type": "markdown",
   "id": "1e35ab95",
   "metadata": {},
   "source": [
    "# Unique Values, Value Counts, and Membership "
   ]
  },
  {
   "cell_type": "markdown",
   "id": "9aa9655d",
   "metadata": {},
   "source": [
    "Another class of related methods extracts information about the values contained in a one-dimensional Series. To illustrate these, consider this example: "
   ]
  },
  {
   "cell_type": "code",
   "execution_count": 31,
   "id": "5856a528",
   "metadata": {},
   "outputs": [],
   "source": [
    "obj = pd.Series([\"c\", \"a\", \"d\", \"a\", \"a\", \"b\", \"b\", \"c\", \"c\"])"
   ]
  },
  {
   "cell_type": "code",
   "execution_count": 32,
   "id": "a4298b95",
   "metadata": {},
   "outputs": [],
   "source": [
    "uniques = obj.unique() "
   ]
  },
  {
   "cell_type": "code",
   "execution_count": 33,
   "id": "e8aa4d79",
   "metadata": {},
   "outputs": [
    {
     "data": {
      "text/plain": [
       "array(['c', 'a', 'd', 'b'], dtype=object)"
      ]
     },
     "execution_count": 33,
     "metadata": {},
     "output_type": "execute_result"
    }
   ],
   "source": [
    "uniques "
   ]
  },
  {
   "cell_type": "markdown",
   "id": "663a4bbc",
   "metadata": {},
   "source": [
    "The unique values are not necessarily returned in the order in which they first appear, and not in sorted order, but they could be soried after the fact if needed (unique.sort()). Relatedly, value_counts computes a Series containing value frequencies: "
   ]
  },
  {
   "cell_type": "code",
   "execution_count": 34,
   "id": "9ab75243",
   "metadata": {},
   "outputs": [
    {
     "data": {
      "text/plain": [
       "c    3\n",
       "a    3\n",
       "b    2\n",
       "d    1\n",
       "Name: count, dtype: int64"
      ]
     },
     "execution_count": 34,
     "metadata": {},
     "output_type": "execute_result"
    }
   ],
   "source": [
    "obj.value_counts() "
   ]
  },
  {
   "cell_type": "markdown",
   "id": "0a3c0a32",
   "metadata": {},
   "source": [
    "The Series is sorted by value in descending order as a convenience, value_counts is available as a top-level pandas method that can be used with NumPy arrays or other Python sequences: "
   ]
  },
  {
   "cell_type": "code",
   "execution_count": 35,
   "id": "9e9f9146",
   "metadata": {},
   "outputs": [
    {
     "data": {
      "text/plain": [
       "c    3\n",
       "a    3\n",
       "d    1\n",
       "b    2\n",
       "Name: count, dtype: int64"
      ]
     },
     "execution_count": 35,
     "metadata": {},
     "output_type": "execute_result"
    }
   ],
   "source": [
    "pd.value_counts(obj.to_numpy(), sort = False)"
   ]
  },
  {
   "cell_type": "markdown",
   "id": "7ccac910",
   "metadata": {},
   "source": [
    "isin performs a vectorized set membership check and can be useful in filltering a dataset down to a subset of values in a Series or column in a DataFrame: "
   ]
  },
  {
   "cell_type": "code",
   "execution_count": 36,
   "id": "2dd9e509",
   "metadata": {},
   "outputs": [
    {
     "data": {
      "text/plain": [
       "0    c\n",
       "1    a\n",
       "2    d\n",
       "3    a\n",
       "4    a\n",
       "5    b\n",
       "6    b\n",
       "7    c\n",
       "8    c\n",
       "dtype: object"
      ]
     },
     "execution_count": 36,
     "metadata": {},
     "output_type": "execute_result"
    }
   ],
   "source": [
    "obj "
   ]
  },
  {
   "cell_type": "code",
   "execution_count": 37,
   "id": "b91dc63b",
   "metadata": {},
   "outputs": [],
   "source": [
    "mask = obj.isin([\"b\", \"c\"])"
   ]
  },
  {
   "cell_type": "code",
   "execution_count": 38,
   "id": "eb5bb59a",
   "metadata": {},
   "outputs": [
    {
     "data": {
      "text/plain": [
       "0     True\n",
       "1    False\n",
       "2    False\n",
       "3    False\n",
       "4    False\n",
       "5     True\n",
       "6     True\n",
       "7     True\n",
       "8     True\n",
       "dtype: bool"
      ]
     },
     "execution_count": 38,
     "metadata": {},
     "output_type": "execute_result"
    }
   ],
   "source": [
    "mask "
   ]
  },
  {
   "cell_type": "code",
   "execution_count": 39,
   "id": "57bdadc3",
   "metadata": {},
   "outputs": [
    {
     "data": {
      "text/plain": [
       "0    c\n",
       "5    b\n",
       "6    b\n",
       "7    c\n",
       "8    c\n",
       "dtype: object"
      ]
     },
     "execution_count": 39,
     "metadata": {},
     "output_type": "execute_result"
    }
   ],
   "source": [
    "obj[mask]"
   ]
  },
  {
   "cell_type": "markdown",
   "id": "262e804f",
   "metadata": {},
   "source": [
    "Related to isin is the Index.get_indexer method, which gives you an index array from an array of possibly nondistinct values into another array of distinct values: "
   ]
  },
  {
   "cell_type": "code",
   "execution_count": 40,
   "id": "862cb8f1",
   "metadata": {},
   "outputs": [],
   "source": [
    "to_match = pd.Series([\"c\", \"a\", \"b\", \"b\", \"c\", \"a\"])"
   ]
  },
  {
   "cell_type": "code",
   "execution_count": 41,
   "id": "279083b9",
   "metadata": {},
   "outputs": [],
   "source": [
    "unique_vals = pd.Series([\"c\", \"b\", \"a\"])"
   ]
  },
  {
   "cell_type": "code",
   "execution_count": 42,
   "id": "0203f596",
   "metadata": {},
   "outputs": [],
   "source": [
    "indices = pd.Index(unique_vals).get_indexer(to_match)"
   ]
  },
  {
   "cell_type": "code",
   "execution_count": 43,
   "id": "f09fb5c7",
   "metadata": {},
   "outputs": [
    {
     "data": {
      "text/plain": [
       "array([0, 2, 1, 1, 0, 2], dtype=int64)"
      ]
     },
     "execution_count": 43,
     "metadata": {},
     "output_type": "execute_result"
    }
   ],
   "source": [
    "indices "
   ]
  },
  {
   "cell_type": "code",
   "execution_count": 46,
   "id": "4ea38557",
   "metadata": {},
   "outputs": [
    {
     "data": {
      "text/html": [
       "<div>\n",
       "<style scoped>\n",
       "    .dataframe tbody tr th:only-of-type {\n",
       "        vertical-align: middle;\n",
       "    }\n",
       "\n",
       "    .dataframe tbody tr th {\n",
       "        vertical-align: top;\n",
       "    }\n",
       "\n",
       "    .dataframe thead th {\n",
       "        text-align: right;\n",
       "    }\n",
       "</style>\n",
       "<table border=\"1\" class=\"dataframe\">\n",
       "  <thead>\n",
       "    <tr style=\"text-align: right;\">\n",
       "      <th></th>\n",
       "      <th>Method</th>\n",
       "      <th>Description</th>\n",
       "    </tr>\n",
       "  </thead>\n",
       "  <tbody>\n",
       "    <tr>\n",
       "      <th>0</th>\n",
       "      <td>isin</td>\n",
       "      <td>Compute a Boolean array indicating wheither ea...</td>\n",
       "    </tr>\n",
       "    <tr>\n",
       "      <th>1</th>\n",
       "      <td>get_indexer</td>\n",
       "      <td>Compute integer indices for each value in an a...</td>\n",
       "    </tr>\n",
       "    <tr>\n",
       "      <th>2</th>\n",
       "      <td>unique</td>\n",
       "      <td>Compute an array of unique values in a Series,...</td>\n",
       "    </tr>\n",
       "    <tr>\n",
       "      <th>3</th>\n",
       "      <td>value_counts</td>\n",
       "      <td>Return a Series containing unique values as it...</td>\n",
       "    </tr>\n",
       "  </tbody>\n",
       "</table>\n",
       "</div>"
      ],
      "text/plain": [
       "         Method                                        Description\n",
       "0          isin  Compute a Boolean array indicating wheither ea...\n",
       "1   get_indexer  Compute integer indices for each value in an a...\n",
       "2        unique  Compute an array of unique values in a Series,...\n",
       "3  value_counts  Return a Series containing unique values as it..."
      ]
     },
     "execution_count": 46,
     "metadata": {},
     "output_type": "execute_result"
    }
   ],
   "source": [
    "options = pd.DataFrame({\n",
    "    \"Method\" : [\n",
    "        \"isin\", \n",
    "        \"get_indexer\", \n",
    "        \"unique\", \n",
    "        \"value_counts\", \n",
    "    ],\n",
    "    \n",
    "    \"Description\" : [\n",
    "        \"Compute a Boolean array indicating wheither each Series or DataFrame value is contained in the passed sequence of values\", \n",
    "        \"Compute integer indices for each value in an array into another array of distinct values; helpful for data alignment and join-type operations\", \n",
    "        \"Compute an array of unique values in a Series, returned in the order observed\", \n",
    "        \"Return a Series containing unique values as its index and frequencies as its values, ordered count in descending order\", \n",
    "    ]\n",
    "})\n",
    "options"
   ]
  },
  {
   "cell_type": "markdown",
   "id": "19e230fb",
   "metadata": {},
   "source": [
    "In some cases, you may want to compute a histogram on multiple related columns in a DataFrame. Here's an example: "
   ]
  },
  {
   "cell_type": "code",
   "execution_count": 47,
   "id": "1ebc1af1",
   "metadata": {},
   "outputs": [
    {
     "data": {
      "text/html": [
       "<div>\n",
       "<style scoped>\n",
       "    .dataframe tbody tr th:only-of-type {\n",
       "        vertical-align: middle;\n",
       "    }\n",
       "\n",
       "    .dataframe tbody tr th {\n",
       "        vertical-align: top;\n",
       "    }\n",
       "\n",
       "    .dataframe thead th {\n",
       "        text-align: right;\n",
       "    }\n",
       "</style>\n",
       "<table border=\"1\" class=\"dataframe\">\n",
       "  <thead>\n",
       "    <tr style=\"text-align: right;\">\n",
       "      <th></th>\n",
       "      <th>Qu1</th>\n",
       "      <th>Qu2</th>\n",
       "      <th>Qu3</th>\n",
       "    </tr>\n",
       "  </thead>\n",
       "  <tbody>\n",
       "    <tr>\n",
       "      <th>0</th>\n",
       "      <td>1</td>\n",
       "      <td>2</td>\n",
       "      <td>1</td>\n",
       "    </tr>\n",
       "    <tr>\n",
       "      <th>1</th>\n",
       "      <td>3</td>\n",
       "      <td>3</td>\n",
       "      <td>5</td>\n",
       "    </tr>\n",
       "    <tr>\n",
       "      <th>2</th>\n",
       "      <td>4</td>\n",
       "      <td>1</td>\n",
       "      <td>2</td>\n",
       "    </tr>\n",
       "    <tr>\n",
       "      <th>3</th>\n",
       "      <td>3</td>\n",
       "      <td>2</td>\n",
       "      <td>4</td>\n",
       "    </tr>\n",
       "    <tr>\n",
       "      <th>4</th>\n",
       "      <td>4</td>\n",
       "      <td>3</td>\n",
       "      <td>4</td>\n",
       "    </tr>\n",
       "  </tbody>\n",
       "</table>\n",
       "</div>"
      ],
      "text/plain": [
       "   Qu1  Qu2  Qu3\n",
       "0    1    2    1\n",
       "1    3    3    5\n",
       "2    4    1    2\n",
       "3    3    2    4\n",
       "4    4    3    4"
      ]
     },
     "execution_count": 47,
     "metadata": {},
     "output_type": "execute_result"
    }
   ],
   "source": [
    "data = pd.DataFrame({\n",
    "    \"Qu1\" : [1,3,4,3,4], \n",
    "    \"Qu2\" : [2,3,1,2,3], \n",
    "    \"Qu3\" : [1,5,2,4,4]\n",
    "})\n",
    "\n",
    "data"
   ]
  },
  {
   "cell_type": "markdown",
   "id": "9527160e",
   "metadata": {},
   "source": [
    "We can comput the value counts for a single column, like so : "
   ]
  },
  {
   "cell_type": "code",
   "execution_count": 48,
   "id": "732567db",
   "metadata": {},
   "outputs": [
    {
     "data": {
      "text/plain": [
       "Qu1\n",
       "1    1\n",
       "3    2\n",
       "4    2\n",
       "Name: count, dtype: int64"
      ]
     },
     "execution_count": 48,
     "metadata": {},
     "output_type": "execute_result"
    }
   ],
   "source": [
    "data[\"Qu1\"].value_counts().sort_index() "
   ]
  },
  {
   "cell_type": "markdown",
   "id": "64643c3f",
   "metadata": {},
   "source": [
    "To compute this for all columns, pass pandas.value_counts to the DataFrame's apply method: "
   ]
  },
  {
   "cell_type": "code",
   "execution_count": 49,
   "id": "d06c20f0",
   "metadata": {},
   "outputs": [],
   "source": [
    "result = data.apply(pd.value_counts).fillna(0) "
   ]
  },
  {
   "cell_type": "markdown",
   "id": "47da3d5b",
   "metadata": {},
   "source": [
    "Here, the row labels in the result are the distinct values occurring in all of the columns. The values are the respective counts of these values in each column. \n",
    "\n",
    "There is also a DataFrame.value_counts method, but it computes counts considering each now of the DataFrame as a tuple to determine the number of occurrences of each of distinct now: "
   ]
  },
  {
   "cell_type": "code",
   "execution_count": 50,
   "id": "0227e860",
   "metadata": {},
   "outputs": [
    {
     "data": {
      "text/html": [
       "<div>\n",
       "<style scoped>\n",
       "    .dataframe tbody tr th:only-of-type {\n",
       "        vertical-align: middle;\n",
       "    }\n",
       "\n",
       "    .dataframe tbody tr th {\n",
       "        vertical-align: top;\n",
       "    }\n",
       "\n",
       "    .dataframe thead th {\n",
       "        text-align: right;\n",
       "    }\n",
       "</style>\n",
       "<table border=\"1\" class=\"dataframe\">\n",
       "  <thead>\n",
       "    <tr style=\"text-align: right;\">\n",
       "      <th></th>\n",
       "      <th>a</th>\n",
       "      <th>b</th>\n",
       "    </tr>\n",
       "  </thead>\n",
       "  <tbody>\n",
       "    <tr>\n",
       "      <th>0</th>\n",
       "      <td>1</td>\n",
       "      <td>0</td>\n",
       "    </tr>\n",
       "    <tr>\n",
       "      <th>1</th>\n",
       "      <td>1</td>\n",
       "      <td>0</td>\n",
       "    </tr>\n",
       "    <tr>\n",
       "      <th>2</th>\n",
       "      <td>1</td>\n",
       "      <td>1</td>\n",
       "    </tr>\n",
       "    <tr>\n",
       "      <th>3</th>\n",
       "      <td>2</td>\n",
       "      <td>0</td>\n",
       "    </tr>\n",
       "    <tr>\n",
       "      <th>4</th>\n",
       "      <td>2</td>\n",
       "      <td>0</td>\n",
       "    </tr>\n",
       "  </tbody>\n",
       "</table>\n",
       "</div>"
      ],
      "text/plain": [
       "   a  b\n",
       "0  1  0\n",
       "1  1  0\n",
       "2  1  1\n",
       "3  2  0\n",
       "4  2  0"
      ]
     },
     "execution_count": 50,
     "metadata": {},
     "output_type": "execute_result"
    }
   ],
   "source": [
    "data = pd.DataFrame({\n",
    "    \"a\" : [1,1,1,2,2], \n",
    "    \"b\" : [0,0,1,0,0], \n",
    "})\n",
    "\n",
    "data"
   ]
  },
  {
   "cell_type": "code",
   "execution_count": 51,
   "id": "ea75fc88",
   "metadata": {},
   "outputs": [
    {
     "data": {
      "text/plain": [
       "a  b\n",
       "1  0    2\n",
       "2  0    2\n",
       "1  1    1\n",
       "Name: count, dtype: int64"
      ]
     },
     "execution_count": 51,
     "metadata": {},
     "output_type": "execute_result"
    }
   ],
   "source": [
    "data.value_counts()"
   ]
  },
  {
   "cell_type": "markdown",
   "id": "03a7d9df",
   "metadata": {},
   "source": [
    "In this case, the result has an index representing the distinct rows as a hierarchical index. "
   ]
  },
  {
   "cell_type": "markdown",
   "id": "12a0370d",
   "metadata": {},
   "source": [
    "# New vocabulary: "
   ]
  },
  {
   "cell_type": "code",
   "execution_count": 5,
   "id": "1866c995",
   "metadata": {},
   "outputs": [
    {
     "data": {
      "text/html": [
       "<div>\n",
       "<style scoped>\n",
       "    .dataframe tbody tr th:only-of-type {\n",
       "        vertical-align: middle;\n",
       "    }\n",
       "\n",
       "    .dataframe tbody tr th {\n",
       "        vertical-align: top;\n",
       "    }\n",
       "\n",
       "    .dataframe thead th {\n",
       "        text-align: right;\n",
       "    }\n",
       "</style>\n",
       "<table border=\"1\" class=\"dataframe\">\n",
       "  <thead>\n",
       "    <tr style=\"text-align: right;\">\n",
       "      <th></th>\n",
       "      <th>the public</th>\n",
       "      <th>upset</th>\n",
       "      <th>to be caught out unprepared by something</th>\n",
       "      <th>waterproof</th>\n",
       "      <th>exactly</th>\n",
       "      <th>jacket</th>\n",
       "      <th>bounce off</th>\n",
       "      <th>roll off</th>\n",
       "      <th>water - repellent</th>\n",
       "      <th>paint</th>\n",
       "      <th>spray</th>\n",
       "      <th>boots</th>\n",
       "      <th>muddy</th>\n",
       "      <th>dust</th>\n",
       "      <th>particle</th>\n",
       "      <th>keep off</th>\n",
       "      <th>glass</th>\n",
       "    </tr>\n",
       "  </thead>\n",
       "  <tbody>\n",
       "    <tr>\n",
       "      <th>0</th>\n",
       "      <td>cộng đồng, công chúng</td>\n",
       "      <td>bực tức, khó chịu</td>\n",
       "      <td>bị bất ngờ bởi một điều gì đó (thường là điều ...</td>\n",
       "      <td>chống nước</td>\n",
       "      <td>một cách chính xác</td>\n",
       "      <td>áo khoác</td>\n",
       "      <td>nảy ra khỏi</td>\n",
       "      <td>lăn và rơi ra khỏi</td>\n",
       "      <td>chất chống nước (thường có tác dụng ở mức trun...</td>\n",
       "      <td>sơn</td>\n",
       "      <td>xịt, phun</td>\n",
       "      <td>đôi bốt</td>\n",
       "      <td>có chứa, dính bùn đất</td>\n",
       "      <td>bụi bẩn</td>\n",
       "      <td>hạt vật chất (trong vật lý)</td>\n",
       "      <td>không nằm trên, không bám trên</td>\n",
       "      <td>thủy tinh, kính</td>\n",
       "    </tr>\n",
       "    <tr>\n",
       "      <th>1</th>\n",
       "      <td>cộng đồng, công chúng</td>\n",
       "      <td>bực tức, khó chịu</td>\n",
       "      <td>bị bất ngờ bởi một điều gì đó (thường là điều ...</td>\n",
       "      <td>chống nước</td>\n",
       "      <td>một cách chính xác</td>\n",
       "      <td>áo khoác</td>\n",
       "      <td>nảy ra khỏi</td>\n",
       "      <td>lăn và rơi ra khỏi</td>\n",
       "      <td>chất chống nước (thường có tác dụng ở mức trun...</td>\n",
       "      <td>sơn</td>\n",
       "      <td>xịt, phun</td>\n",
       "      <td>đôi bốt</td>\n",
       "      <td>có chứa, dính bùn đất</td>\n",
       "      <td>bụi bẩn</td>\n",
       "      <td>hạt vật chất (trong vật lý)</td>\n",
       "      <td>không nằm trên, không bám trên</td>\n",
       "      <td>thủy tinh, kính</td>\n",
       "    </tr>\n",
       "    <tr>\n",
       "      <th>2</th>\n",
       "      <td>cộng đồng, công chúng</td>\n",
       "      <td>bực tức, khó chịu</td>\n",
       "      <td>bị bất ngờ bởi một điều gì đó (thường là điều ...</td>\n",
       "      <td>chống nước</td>\n",
       "      <td>một cách chính xác</td>\n",
       "      <td>áo khoác</td>\n",
       "      <td>nảy ra khỏi</td>\n",
       "      <td>lăn và rơi ra khỏi</td>\n",
       "      <td>chất chống nước (thường có tác dụng ở mức trun...</td>\n",
       "      <td>sơn</td>\n",
       "      <td>xịt, phun</td>\n",
       "      <td>đôi bốt</td>\n",
       "      <td>có chứa, dính bùn đất</td>\n",
       "      <td>bụi bẩn</td>\n",
       "      <td>hạt vật chất (trong vật lý)</td>\n",
       "      <td>không nằm trên, không bám trên</td>\n",
       "      <td>thủy tinh, kính</td>\n",
       "    </tr>\n",
       "    <tr>\n",
       "      <th>3</th>\n",
       "      <td>cộng đồng, công chúng</td>\n",
       "      <td>bực tức, khó chịu</td>\n",
       "      <td>bị bất ngờ bởi một điều gì đó (thường là điều ...</td>\n",
       "      <td>chống nước</td>\n",
       "      <td>một cách chính xác</td>\n",
       "      <td>áo khoác</td>\n",
       "      <td>nảy ra khỏi</td>\n",
       "      <td>lăn và rơi ra khỏi</td>\n",
       "      <td>chất chống nước (thường có tác dụng ở mức trun...</td>\n",
       "      <td>sơn</td>\n",
       "      <td>xịt, phun</td>\n",
       "      <td>đôi bốt</td>\n",
       "      <td>có chứa, dính bùn đất</td>\n",
       "      <td>bụi bẩn</td>\n",
       "      <td>hạt vật chất (trong vật lý)</td>\n",
       "      <td>không nằm trên, không bám trên</td>\n",
       "      <td>thủy tinh, kính</td>\n",
       "    </tr>\n",
       "    <tr>\n",
       "      <th>4</th>\n",
       "      <td>cộng đồng, công chúng</td>\n",
       "      <td>bực tức, khó chịu</td>\n",
       "      <td>bị bất ngờ bởi một điều gì đó (thường là điều ...</td>\n",
       "      <td>chống nước</td>\n",
       "      <td>một cách chính xác</td>\n",
       "      <td>áo khoác</td>\n",
       "      <td>nảy ra khỏi</td>\n",
       "      <td>lăn và rơi ra khỏi</td>\n",
       "      <td>chất chống nước (thường có tác dụng ở mức trun...</td>\n",
       "      <td>sơn</td>\n",
       "      <td>xịt, phun</td>\n",
       "      <td>đôi bốt</td>\n",
       "      <td>có chứa, dính bùn đất</td>\n",
       "      <td>bụi bẩn</td>\n",
       "      <td>hạt vật chất (trong vật lý)</td>\n",
       "      <td>không nằm trên, không bám trên</td>\n",
       "      <td>thủy tinh, kính</td>\n",
       "    </tr>\n",
       "    <tr>\n",
       "      <th>5</th>\n",
       "      <td>cộng đồng, công chúng</td>\n",
       "      <td>bực tức, khó chịu</td>\n",
       "      <td>bị bất ngờ bởi một điều gì đó (thường là điều ...</td>\n",
       "      <td>chống nước</td>\n",
       "      <td>một cách chính xác</td>\n",
       "      <td>áo khoác</td>\n",
       "      <td>nảy ra khỏi</td>\n",
       "      <td>lăn và rơi ra khỏi</td>\n",
       "      <td>chất chống nước (thường có tác dụng ở mức trun...</td>\n",
       "      <td>sơn</td>\n",
       "      <td>xịt, phun</td>\n",
       "      <td>đôi bốt</td>\n",
       "      <td>có chứa, dính bùn đất</td>\n",
       "      <td>bụi bẩn</td>\n",
       "      <td>hạt vật chất (trong vật lý)</td>\n",
       "      <td>không nằm trên, không bám trên</td>\n",
       "      <td>thủy tinh, kính</td>\n",
       "    </tr>\n",
       "    <tr>\n",
       "      <th>6</th>\n",
       "      <td>cộng đồng, công chúng</td>\n",
       "      <td>bực tức, khó chịu</td>\n",
       "      <td>bị bất ngờ bởi một điều gì đó (thường là điều ...</td>\n",
       "      <td>chống nước</td>\n",
       "      <td>một cách chính xác</td>\n",
       "      <td>áo khoác</td>\n",
       "      <td>nảy ra khỏi</td>\n",
       "      <td>lăn và rơi ra khỏi</td>\n",
       "      <td>chất chống nước (thường có tác dụng ở mức trun...</td>\n",
       "      <td>sơn</td>\n",
       "      <td>xịt, phun</td>\n",
       "      <td>đôi bốt</td>\n",
       "      <td>có chứa, dính bùn đất</td>\n",
       "      <td>bụi bẩn</td>\n",
       "      <td>hạt vật chất (trong vật lý)</td>\n",
       "      <td>không nằm trên, không bám trên</td>\n",
       "      <td>thủy tinh, kính</td>\n",
       "    </tr>\n",
       "    <tr>\n",
       "      <th>7</th>\n",
       "      <td>cộng đồng, công chúng</td>\n",
       "      <td>bực tức, khó chịu</td>\n",
       "      <td>bị bất ngờ bởi một điều gì đó (thường là điều ...</td>\n",
       "      <td>chống nước</td>\n",
       "      <td>một cách chính xác</td>\n",
       "      <td>áo khoác</td>\n",
       "      <td>nảy ra khỏi</td>\n",
       "      <td>lăn và rơi ra khỏi</td>\n",
       "      <td>chất chống nước (thường có tác dụng ở mức trun...</td>\n",
       "      <td>sơn</td>\n",
       "      <td>xịt, phun</td>\n",
       "      <td>đôi bốt</td>\n",
       "      <td>có chứa, dính bùn đất</td>\n",
       "      <td>bụi bẩn</td>\n",
       "      <td>hạt vật chất (trong vật lý)</td>\n",
       "      <td>không nằm trên, không bám trên</td>\n",
       "      <td>thủy tinh, kính</td>\n",
       "    </tr>\n",
       "    <tr>\n",
       "      <th>8</th>\n",
       "      <td>cộng đồng, công chúng</td>\n",
       "      <td>bực tức, khó chịu</td>\n",
       "      <td>bị bất ngờ bởi một điều gì đó (thường là điều ...</td>\n",
       "      <td>chống nước</td>\n",
       "      <td>một cách chính xác</td>\n",
       "      <td>áo khoác</td>\n",
       "      <td>nảy ra khỏi</td>\n",
       "      <td>lăn và rơi ra khỏi</td>\n",
       "      <td>chất chống nước (thường có tác dụng ở mức trun...</td>\n",
       "      <td>sơn</td>\n",
       "      <td>xịt, phun</td>\n",
       "      <td>đôi bốt</td>\n",
       "      <td>có chứa, dính bùn đất</td>\n",
       "      <td>bụi bẩn</td>\n",
       "      <td>hạt vật chất (trong vật lý)</td>\n",
       "      <td>không nằm trên, không bám trên</td>\n",
       "      <td>thủy tinh, kính</td>\n",
       "    </tr>\n",
       "    <tr>\n",
       "      <th>9</th>\n",
       "      <td>cộng đồng, công chúng</td>\n",
       "      <td>bực tức, khó chịu</td>\n",
       "      <td>bị bất ngờ bởi một điều gì đó (thường là điều ...</td>\n",
       "      <td>chống nước</td>\n",
       "      <td>một cách chính xác</td>\n",
       "      <td>áo khoác</td>\n",
       "      <td>nảy ra khỏi</td>\n",
       "      <td>lăn và rơi ra khỏi</td>\n",
       "      <td>chất chống nước (thường có tác dụng ở mức trun...</td>\n",
       "      <td>sơn</td>\n",
       "      <td>xịt, phun</td>\n",
       "      <td>đôi bốt</td>\n",
       "      <td>có chứa, dính bùn đất</td>\n",
       "      <td>bụi bẩn</td>\n",
       "      <td>hạt vật chất (trong vật lý)</td>\n",
       "      <td>không nằm trên, không bám trên</td>\n",
       "      <td>thủy tinh, kính</td>\n",
       "    </tr>\n",
       "    <tr>\n",
       "      <th>10</th>\n",
       "      <td>cộng đồng, công chúng</td>\n",
       "      <td>bực tức, khó chịu</td>\n",
       "      <td>bị bất ngờ bởi một điều gì đó (thường là điều ...</td>\n",
       "      <td>chống nước</td>\n",
       "      <td>một cách chính xác</td>\n",
       "      <td>áo khoác</td>\n",
       "      <td>nảy ra khỏi</td>\n",
       "      <td>lăn và rơi ra khỏi</td>\n",
       "      <td>chất chống nước (thường có tác dụng ở mức trun...</td>\n",
       "      <td>sơn</td>\n",
       "      <td>xịt, phun</td>\n",
       "      <td>đôi bốt</td>\n",
       "      <td>có chứa, dính bùn đất</td>\n",
       "      <td>bụi bẩn</td>\n",
       "      <td>hạt vật chất (trong vật lý)</td>\n",
       "      <td>không nằm trên, không bám trên</td>\n",
       "      <td>thủy tinh, kính</td>\n",
       "    </tr>\n",
       "    <tr>\n",
       "      <th>11</th>\n",
       "      <td>cộng đồng, công chúng</td>\n",
       "      <td>bực tức, khó chịu</td>\n",
       "      <td>bị bất ngờ bởi một điều gì đó (thường là điều ...</td>\n",
       "      <td>chống nước</td>\n",
       "      <td>một cách chính xác</td>\n",
       "      <td>áo khoác</td>\n",
       "      <td>nảy ra khỏi</td>\n",
       "      <td>lăn và rơi ra khỏi</td>\n",
       "      <td>chất chống nước (thường có tác dụng ở mức trun...</td>\n",
       "      <td>sơn</td>\n",
       "      <td>xịt, phun</td>\n",
       "      <td>đôi bốt</td>\n",
       "      <td>có chứa, dính bùn đất</td>\n",
       "      <td>bụi bẩn</td>\n",
       "      <td>hạt vật chất (trong vật lý)</td>\n",
       "      <td>không nằm trên, không bám trên</td>\n",
       "      <td>thủy tinh, kính</td>\n",
       "    </tr>\n",
       "    <tr>\n",
       "      <th>12</th>\n",
       "      <td>cộng đồng, công chúng</td>\n",
       "      <td>bực tức, khó chịu</td>\n",
       "      <td>bị bất ngờ bởi một điều gì đó (thường là điều ...</td>\n",
       "      <td>chống nước</td>\n",
       "      <td>một cách chính xác</td>\n",
       "      <td>áo khoác</td>\n",
       "      <td>nảy ra khỏi</td>\n",
       "      <td>lăn và rơi ra khỏi</td>\n",
       "      <td>chất chống nước (thường có tác dụng ở mức trun...</td>\n",
       "      <td>sơn</td>\n",
       "      <td>xịt, phun</td>\n",
       "      <td>đôi bốt</td>\n",
       "      <td>có chứa, dính bùn đất</td>\n",
       "      <td>bụi bẩn</td>\n",
       "      <td>hạt vật chất (trong vật lý)</td>\n",
       "      <td>không nằm trên, không bám trên</td>\n",
       "      <td>thủy tinh, kính</td>\n",
       "    </tr>\n",
       "    <tr>\n",
       "      <th>13</th>\n",
       "      <td>cộng đồng, công chúng</td>\n",
       "      <td>bực tức, khó chịu</td>\n",
       "      <td>bị bất ngờ bởi một điều gì đó (thường là điều ...</td>\n",
       "      <td>chống nước</td>\n",
       "      <td>một cách chính xác</td>\n",
       "      <td>áo khoác</td>\n",
       "      <td>nảy ra khỏi</td>\n",
       "      <td>lăn và rơi ra khỏi</td>\n",
       "      <td>chất chống nước (thường có tác dụng ở mức trun...</td>\n",
       "      <td>sơn</td>\n",
       "      <td>xịt, phun</td>\n",
       "      <td>đôi bốt</td>\n",
       "      <td>có chứa, dính bùn đất</td>\n",
       "      <td>bụi bẩn</td>\n",
       "      <td>hạt vật chất (trong vật lý)</td>\n",
       "      <td>không nằm trên, không bám trên</td>\n",
       "      <td>thủy tinh, kính</td>\n",
       "    </tr>\n",
       "    <tr>\n",
       "      <th>14</th>\n",
       "      <td>cộng đồng, công chúng</td>\n",
       "      <td>bực tức, khó chịu</td>\n",
       "      <td>bị bất ngờ bởi một điều gì đó (thường là điều ...</td>\n",
       "      <td>chống nước</td>\n",
       "      <td>một cách chính xác</td>\n",
       "      <td>áo khoác</td>\n",
       "      <td>nảy ra khỏi</td>\n",
       "      <td>lăn và rơi ra khỏi</td>\n",
       "      <td>chất chống nước (thường có tác dụng ở mức trun...</td>\n",
       "      <td>sơn</td>\n",
       "      <td>xịt, phun</td>\n",
       "      <td>đôi bốt</td>\n",
       "      <td>có chứa, dính bùn đất</td>\n",
       "      <td>bụi bẩn</td>\n",
       "      <td>hạt vật chất (trong vật lý)</td>\n",
       "      <td>không nằm trên, không bám trên</td>\n",
       "      <td>thủy tinh, kính</td>\n",
       "    </tr>\n",
       "    <tr>\n",
       "      <th>15</th>\n",
       "      <td>cộng đồng, công chúng</td>\n",
       "      <td>bực tức, khó chịu</td>\n",
       "      <td>bị bất ngờ bởi một điều gì đó (thường là điều ...</td>\n",
       "      <td>chống nước</td>\n",
       "      <td>một cách chính xác</td>\n",
       "      <td>áo khoác</td>\n",
       "      <td>nảy ra khỏi</td>\n",
       "      <td>lăn và rơi ra khỏi</td>\n",
       "      <td>chất chống nước (thường có tác dụng ở mức trun...</td>\n",
       "      <td>sơn</td>\n",
       "      <td>xịt, phun</td>\n",
       "      <td>đôi bốt</td>\n",
       "      <td>có chứa, dính bùn đất</td>\n",
       "      <td>bụi bẩn</td>\n",
       "      <td>hạt vật chất (trong vật lý)</td>\n",
       "      <td>không nằm trên, không bám trên</td>\n",
       "      <td>thủy tinh, kính</td>\n",
       "    </tr>\n",
       "  </tbody>\n",
       "</table>\n",
       "</div>"
      ],
      "text/plain": [
       "               the public              upset  \\\n",
       "0   cộng đồng, công chúng  bực tức, khó chịu   \n",
       "1   cộng đồng, công chúng  bực tức, khó chịu   \n",
       "2   cộng đồng, công chúng  bực tức, khó chịu   \n",
       "3   cộng đồng, công chúng  bực tức, khó chịu   \n",
       "4   cộng đồng, công chúng  bực tức, khó chịu   \n",
       "5   cộng đồng, công chúng  bực tức, khó chịu   \n",
       "6   cộng đồng, công chúng  bực tức, khó chịu   \n",
       "7   cộng đồng, công chúng  bực tức, khó chịu   \n",
       "8   cộng đồng, công chúng  bực tức, khó chịu   \n",
       "9   cộng đồng, công chúng  bực tức, khó chịu   \n",
       "10  cộng đồng, công chúng  bực tức, khó chịu   \n",
       "11  cộng đồng, công chúng  bực tức, khó chịu   \n",
       "12  cộng đồng, công chúng  bực tức, khó chịu   \n",
       "13  cộng đồng, công chúng  bực tức, khó chịu   \n",
       "14  cộng đồng, công chúng  bực tức, khó chịu   \n",
       "15  cộng đồng, công chúng  bực tức, khó chịu   \n",
       "\n",
       "             to be caught out unprepared by something  waterproof  \\\n",
       "0   bị bất ngờ bởi một điều gì đó (thường là điều ...  chống nước   \n",
       "1   bị bất ngờ bởi một điều gì đó (thường là điều ...  chống nước   \n",
       "2   bị bất ngờ bởi một điều gì đó (thường là điều ...  chống nước   \n",
       "3   bị bất ngờ bởi một điều gì đó (thường là điều ...  chống nước   \n",
       "4   bị bất ngờ bởi một điều gì đó (thường là điều ...  chống nước   \n",
       "5   bị bất ngờ bởi một điều gì đó (thường là điều ...  chống nước   \n",
       "6   bị bất ngờ bởi một điều gì đó (thường là điều ...  chống nước   \n",
       "7   bị bất ngờ bởi một điều gì đó (thường là điều ...  chống nước   \n",
       "8   bị bất ngờ bởi một điều gì đó (thường là điều ...  chống nước   \n",
       "9   bị bất ngờ bởi một điều gì đó (thường là điều ...  chống nước   \n",
       "10  bị bất ngờ bởi một điều gì đó (thường là điều ...  chống nước   \n",
       "11  bị bất ngờ bởi một điều gì đó (thường là điều ...  chống nước   \n",
       "12  bị bất ngờ bởi một điều gì đó (thường là điều ...  chống nước   \n",
       "13  bị bất ngờ bởi một điều gì đó (thường là điều ...  chống nước   \n",
       "14  bị bất ngờ bởi một điều gì đó (thường là điều ...  chống nước   \n",
       "15  bị bất ngờ bởi một điều gì đó (thường là điều ...  chống nước   \n",
       "\n",
       "               exactly    jacket   bounce off            roll off  \\\n",
       "0   một cách chính xác  áo khoác  nảy ra khỏi  lăn và rơi ra khỏi   \n",
       "1   một cách chính xác  áo khoác  nảy ra khỏi  lăn và rơi ra khỏi   \n",
       "2   một cách chính xác  áo khoác  nảy ra khỏi  lăn và rơi ra khỏi   \n",
       "3   một cách chính xác  áo khoác  nảy ra khỏi  lăn và rơi ra khỏi   \n",
       "4   một cách chính xác  áo khoác  nảy ra khỏi  lăn và rơi ra khỏi   \n",
       "5   một cách chính xác  áo khoác  nảy ra khỏi  lăn và rơi ra khỏi   \n",
       "6   một cách chính xác  áo khoác  nảy ra khỏi  lăn và rơi ra khỏi   \n",
       "7   một cách chính xác  áo khoác  nảy ra khỏi  lăn và rơi ra khỏi   \n",
       "8   một cách chính xác  áo khoác  nảy ra khỏi  lăn và rơi ra khỏi   \n",
       "9   một cách chính xác  áo khoác  nảy ra khỏi  lăn và rơi ra khỏi   \n",
       "10  một cách chính xác  áo khoác  nảy ra khỏi  lăn và rơi ra khỏi   \n",
       "11  một cách chính xác  áo khoác  nảy ra khỏi  lăn và rơi ra khỏi   \n",
       "12  một cách chính xác  áo khoác  nảy ra khỏi  lăn và rơi ra khỏi   \n",
       "13  một cách chính xác  áo khoác  nảy ra khỏi  lăn và rơi ra khỏi   \n",
       "14  một cách chính xác  áo khoác  nảy ra khỏi  lăn và rơi ra khỏi   \n",
       "15  một cách chính xác  áo khoác  nảy ra khỏi  lăn và rơi ra khỏi   \n",
       "\n",
       "                                    water - repellent paint      spray  \\\n",
       "0   chất chống nước (thường có tác dụng ở mức trun...   sơn  xịt, phun   \n",
       "1   chất chống nước (thường có tác dụng ở mức trun...   sơn  xịt, phun   \n",
       "2   chất chống nước (thường có tác dụng ở mức trun...   sơn  xịt, phun   \n",
       "3   chất chống nước (thường có tác dụng ở mức trun...   sơn  xịt, phun   \n",
       "4   chất chống nước (thường có tác dụng ở mức trun...   sơn  xịt, phun   \n",
       "5   chất chống nước (thường có tác dụng ở mức trun...   sơn  xịt, phun   \n",
       "6   chất chống nước (thường có tác dụng ở mức trun...   sơn  xịt, phun   \n",
       "7   chất chống nước (thường có tác dụng ở mức trun...   sơn  xịt, phun   \n",
       "8   chất chống nước (thường có tác dụng ở mức trun...   sơn  xịt, phun   \n",
       "9   chất chống nước (thường có tác dụng ở mức trun...   sơn  xịt, phun   \n",
       "10  chất chống nước (thường có tác dụng ở mức trun...   sơn  xịt, phun   \n",
       "11  chất chống nước (thường có tác dụng ở mức trun...   sơn  xịt, phun   \n",
       "12  chất chống nước (thường có tác dụng ở mức trun...   sơn  xịt, phun   \n",
       "13  chất chống nước (thường có tác dụng ở mức trun...   sơn  xịt, phun   \n",
       "14  chất chống nước (thường có tác dụng ở mức trun...   sơn  xịt, phun   \n",
       "15  chất chống nước (thường có tác dụng ở mức trun...   sơn  xịt, phun   \n",
       "\n",
       "      boots                  muddy     dust                     particle  \\\n",
       "0   đôi bốt  có chứa, dính bùn đất  bụi bẩn  hạt vật chất (trong vật lý)   \n",
       "1   đôi bốt  có chứa, dính bùn đất  bụi bẩn  hạt vật chất (trong vật lý)   \n",
       "2   đôi bốt  có chứa, dính bùn đất  bụi bẩn  hạt vật chất (trong vật lý)   \n",
       "3   đôi bốt  có chứa, dính bùn đất  bụi bẩn  hạt vật chất (trong vật lý)   \n",
       "4   đôi bốt  có chứa, dính bùn đất  bụi bẩn  hạt vật chất (trong vật lý)   \n",
       "5   đôi bốt  có chứa, dính bùn đất  bụi bẩn  hạt vật chất (trong vật lý)   \n",
       "6   đôi bốt  có chứa, dính bùn đất  bụi bẩn  hạt vật chất (trong vật lý)   \n",
       "7   đôi bốt  có chứa, dính bùn đất  bụi bẩn  hạt vật chất (trong vật lý)   \n",
       "8   đôi bốt  có chứa, dính bùn đất  bụi bẩn  hạt vật chất (trong vật lý)   \n",
       "9   đôi bốt  có chứa, dính bùn đất  bụi bẩn  hạt vật chất (trong vật lý)   \n",
       "10  đôi bốt  có chứa, dính bùn đất  bụi bẩn  hạt vật chất (trong vật lý)   \n",
       "11  đôi bốt  có chứa, dính bùn đất  bụi bẩn  hạt vật chất (trong vật lý)   \n",
       "12  đôi bốt  có chứa, dính bùn đất  bụi bẩn  hạt vật chất (trong vật lý)   \n",
       "13  đôi bốt  có chứa, dính bùn đất  bụi bẩn  hạt vật chất (trong vật lý)   \n",
       "14  đôi bốt  có chứa, dính bùn đất  bụi bẩn  hạt vật chất (trong vật lý)   \n",
       "15  đôi bốt  có chứa, dính bùn đất  bụi bẩn  hạt vật chất (trong vật lý)   \n",
       "\n",
       "                          keep off            glass  \n",
       "0   không nằm trên, không bám trên  thủy tinh, kính  \n",
       "1   không nằm trên, không bám trên  thủy tinh, kính  \n",
       "2   không nằm trên, không bám trên  thủy tinh, kính  \n",
       "3   không nằm trên, không bám trên  thủy tinh, kính  \n",
       "4   không nằm trên, không bám trên  thủy tinh, kính  \n",
       "5   không nằm trên, không bám trên  thủy tinh, kính  \n",
       "6   không nằm trên, không bám trên  thủy tinh, kính  \n",
       "7   không nằm trên, không bám trên  thủy tinh, kính  \n",
       "8   không nằm trên, không bám trên  thủy tinh, kính  \n",
       "9   không nằm trên, không bám trên  thủy tinh, kính  \n",
       "10  không nằm trên, không bám trên  thủy tinh, kính  \n",
       "11  không nằm trên, không bám trên  thủy tinh, kính  \n",
       "12  không nằm trên, không bám trên  thủy tinh, kính  \n",
       "13  không nằm trên, không bám trên  thủy tinh, kính  \n",
       "14  không nằm trên, không bám trên  thủy tinh, kính  \n",
       "15  không nằm trên, không bám trên  thủy tinh, kính  "
      ]
     },
     "execution_count": 5,
     "metadata": {},
     "output_type": "execute_result"
    }
   ],
   "source": [
    "Waterproof_clothes_and_windows = pd.DataFrame({\n",
    "    \"the public\" : \"cộng đồng, công chúng\", \n",
    "    \"upset\" : \"bực tức, khó chịu\", \n",
    "    \"to be caught out unprepared by something\" : \"bị bất ngờ bởi một điều gì đó (thường là điều đó không đem lại niềm vui)\", \n",
    "    \"waterproof\" : \"chống nước\", \n",
    "    \"exactly\" : \"một cách chính xác\", \n",
    "    \"jacket\" : \"áo khoác\", \n",
    "    \"bounce off\" : \"nảy ra khỏi\",\n",
    "    \"roll off\" : \"lăn và rơi ra khỏi\", \n",
    "    \"water - repellent\" : \"chất chống nước (thường có tác dụng ở mức trung bình, không phải hoàn toàn chống nước)\", \n",
    "    \"paint\" : \"sơn\", \n",
    "    \"spray\" : \"xịt, phun\", \n",
    "    \"boots\" : \"đôi bốt\", \n",
    "    \"muddy\" : \"có chứa, dính bùn đất\", \n",
    "    \"dust\" : \"bụi bẩn\", \n",
    "    \"particle\" : \"hạt vật chất (trong vật lý)\", \n",
    "    \"keep off\" : \"không nằm trên, không bám trên\", \n",
    "    \"glass\" : \"thủy tinh, kính\"\n",
    "}, index = np.arange(16))\n",
    "\n",
    "Waterproof_clothes_and_windows"
   ]
  },
  {
   "cell_type": "code",
   "execution_count": 6,
   "id": "72dc13de",
   "metadata": {},
   "outputs": [
    {
     "data": {
      "text/html": [
       "<div>\n",
       "<style scoped>\n",
       "    .dataframe tbody tr th:only-of-type {\n",
       "        vertical-align: middle;\n",
       "    }\n",
       "\n",
       "    .dataframe tbody tr th {\n",
       "        vertical-align: top;\n",
       "    }\n",
       "\n",
       "    .dataframe thead th {\n",
       "        text-align: right;\n",
       "    }\n",
       "</style>\n",
       "<table border=\"1\" class=\"dataframe\">\n",
       "  <thead>\n",
       "    <tr style=\"text-align: right;\">\n",
       "      <th></th>\n",
       "      <th>Vocabulary</th>\n",
       "      <th>Meaning</th>\n",
       "    </tr>\n",
       "  </thead>\n",
       "  <tbody>\n",
       "    <tr>\n",
       "      <th>0</th>\n",
       "      <td>the public</td>\n",
       "      <td>cộng đồng, công chúng</td>\n",
       "    </tr>\n",
       "    <tr>\n",
       "      <th>1</th>\n",
       "      <td>upset</td>\n",
       "      <td>bực tức, khó chịu</td>\n",
       "    </tr>\n",
       "    <tr>\n",
       "      <th>2</th>\n",
       "      <td>to be caught out unprepared by something</td>\n",
       "      <td>bị bất ngờ bởi một điều gì đó (thường là điều ...</td>\n",
       "    </tr>\n",
       "    <tr>\n",
       "      <th>3</th>\n",
       "      <td>waterproof</td>\n",
       "      <td>chống nước</td>\n",
       "    </tr>\n",
       "    <tr>\n",
       "      <th>4</th>\n",
       "      <td>exactly</td>\n",
       "      <td>một cách chính xác</td>\n",
       "    </tr>\n",
       "    <tr>\n",
       "      <th>5</th>\n",
       "      <td>jacket</td>\n",
       "      <td>áo khoác</td>\n",
       "    </tr>\n",
       "    <tr>\n",
       "      <th>6</th>\n",
       "      <td>bounce off</td>\n",
       "      <td>nảy ra khỏi</td>\n",
       "    </tr>\n",
       "    <tr>\n",
       "      <th>7</th>\n",
       "      <td>roll off</td>\n",
       "      <td>lăn và rơi ra khỏi</td>\n",
       "    </tr>\n",
       "    <tr>\n",
       "      <th>8</th>\n",
       "      <td>water - repellent</td>\n",
       "      <td>chất chống nước (thường có tác dụng ở mức trun...</td>\n",
       "    </tr>\n",
       "    <tr>\n",
       "      <th>9</th>\n",
       "      <td>paint</td>\n",
       "      <td>sơn</td>\n",
       "    </tr>\n",
       "    <tr>\n",
       "      <th>10</th>\n",
       "      <td>spray</td>\n",
       "      <td>xịt, phun</td>\n",
       "    </tr>\n",
       "    <tr>\n",
       "      <th>11</th>\n",
       "      <td>boots</td>\n",
       "      <td>đôi bốt</td>\n",
       "    </tr>\n",
       "    <tr>\n",
       "      <th>12</th>\n",
       "      <td>muddy</td>\n",
       "      <td>có chứa, dính bùn đất</td>\n",
       "    </tr>\n",
       "    <tr>\n",
       "      <th>13</th>\n",
       "      <td>dust</td>\n",
       "      <td>bụi bẩn</td>\n",
       "    </tr>\n",
       "    <tr>\n",
       "      <th>14</th>\n",
       "      <td>particle</td>\n",
       "      <td>hạt vật chất (trong vật lý)</td>\n",
       "    </tr>\n",
       "    <tr>\n",
       "      <th>15</th>\n",
       "      <td>keep off</td>\n",
       "      <td>không nằm trên, không bám trên</td>\n",
       "    </tr>\n",
       "    <tr>\n",
       "      <th>16</th>\n",
       "      <td>glass</td>\n",
       "      <td>thủy tinh, kính</td>\n",
       "    </tr>\n",
       "  </tbody>\n",
       "</table>\n",
       "</div>"
      ],
      "text/plain": [
       "                                  Vocabulary  \\\n",
       "0                                 the public   \n",
       "1                                      upset   \n",
       "2   to be caught out unprepared by something   \n",
       "3                                 waterproof   \n",
       "4                                    exactly   \n",
       "5                                     jacket   \n",
       "6                                 bounce off   \n",
       "7                                   roll off   \n",
       "8                          water - repellent   \n",
       "9                                      paint   \n",
       "10                                     spray   \n",
       "11                                     boots   \n",
       "12                                     muddy   \n",
       "13                                      dust   \n",
       "14                                  particle   \n",
       "15                                  keep off   \n",
       "16                                     glass   \n",
       "\n",
       "                                              Meaning  \n",
       "0                               cộng đồng, công chúng  \n",
       "1                                   bực tức, khó chịu  \n",
       "2   bị bất ngờ bởi một điều gì đó (thường là điều ...  \n",
       "3                                          chống nước  \n",
       "4                                  một cách chính xác  \n",
       "5                                            áo khoác  \n",
       "6                                         nảy ra khỏi  \n",
       "7                                  lăn và rơi ra khỏi  \n",
       "8   chất chống nước (thường có tác dụng ở mức trun...  \n",
       "9                                                 sơn  \n",
       "10                                          xịt, phun  \n",
       "11                                            đôi bốt  \n",
       "12                              có chứa, dính bùn đất  \n",
       "13                                            bụi bẩn  \n",
       "14                        hạt vật chất (trong vật lý)  \n",
       "15                     không nằm trên, không bám trên  \n",
       "16                                    thủy tinh, kính  "
      ]
     },
     "execution_count": 6,
     "metadata": {},
     "output_type": "execute_result"
    }
   ],
   "source": [
    "Waterproof_clothes_and_windows = pd.DataFrame({\n",
    "    \"Vocabulary\" : [\n",
    "        \"the public\",\n",
    "        \"upset\",\n",
    "        \"to be caught out unprepared by something\",\n",
    "        \"waterproof\",\n",
    "        \"exactly\",\n",
    "        \"jacket\",\n",
    "        \"bounce off\",\n",
    "        \"roll off\",\n",
    "        \"water - repellent\",\n",
    "        \"paint\",\n",
    "        \"spray\",\n",
    "        \"boots\",\n",
    "        \"muddy\", \n",
    "        \"dust\",\n",
    "        \"particle\",\n",
    "        \"keep off\",\n",
    "        \"glass\"\n",
    "    ], \n",
    "    \"Meaning\" : [\n",
    "        \"cộng đồng, công chúng\",\n",
    "        \"bực tức, khó chịu\",\n",
    "        \"bị bất ngờ bởi một điều gì đó (thường là điều đó không đem lại niềm vui)\",\n",
    "        \"chống nước\",\n",
    "        \"một cách chính xác\",\n",
    "        \"áo khoác\",\n",
    "        \"nảy ra khỏi\",\n",
    "        \"lăn và rơi ra khỏi\",\n",
    "        \"chất chống nước (thường có tác dụng ở mức trung bình, không phải hoàn toàn chống nước)\", \n",
    "        \"sơn\",\n",
    "        \"xịt, phun\",\n",
    "        \"đôi bốt\",\n",
    "        \"có chứa, dính bùn đất\",\n",
    "        \"bụi bẩn\",\n",
    "        \"hạt vật chất (trong vật lý)\", \n",
    "        \"không nằm trên, không bám trên\",\n",
    "        \"thủy tinh, kính\"\n",
    "    ]\n",
    "})\n",
    "\n",
    "Waterproof_clothes_and_windows"
   ]
  },
  {
   "cell_type": "code",
   "execution_count": 8,
   "id": "916bbbb7",
   "metadata": {},
   "outputs": [
    {
     "data": {
      "text/html": [
       "<div>\n",
       "<style scoped>\n",
       "    .dataframe tbody tr th:only-of-type {\n",
       "        vertical-align: middle;\n",
       "    }\n",
       "\n",
       "    .dataframe tbody tr th {\n",
       "        vertical-align: top;\n",
       "    }\n",
       "\n",
       "    .dataframe thead th {\n",
       "        text-align: right;\n",
       "    }\n",
       "</style>\n",
       "<table border=\"1\" class=\"dataframe\">\n",
       "  <thead>\n",
       "    <tr style=\"text-align: right;\">\n",
       "      <th></th>\n",
       "      <th>Vocabulary</th>\n",
       "      <th>Meaning</th>\n",
       "    </tr>\n",
       "  </thead>\n",
       "  <tbody>\n",
       "    <tr>\n",
       "      <th>0</th>\n",
       "      <td>chimp</td>\n",
       "      <td>tinh tinh, vượn</td>\n",
       "    </tr>\n",
       "    <tr>\n",
       "      <th>1</th>\n",
       "      <td>escape</td>\n",
       "      <td>trốn thoát</td>\n",
       "    </tr>\n",
       "    <tr>\n",
       "      <th>2</th>\n",
       "      <td>climb up</td>\n",
       "      <td>trèo lên</td>\n",
       "    </tr>\n",
       "    <tr>\n",
       "      <th>3</th>\n",
       "      <td>power lines</td>\n",
       "      <td>mạng lưới điện</td>\n",
       "    </tr>\n",
       "    <tr>\n",
       "      <th>4</th>\n",
       "      <td>get away</td>\n",
       "      <td>chạy trốn, trốn thoát</td>\n",
       "    </tr>\n",
       "    <tr>\n",
       "      <th>5</th>\n",
       "      <td>veterinarian</td>\n",
       "      <td>bác sĩ thú y</td>\n",
       "    </tr>\n",
       "    <tr>\n",
       "      <th>6</th>\n",
       "      <td>tranquilizer</td>\n",
       "      <td>thuốc an thần</td>\n",
       "    </tr>\n",
       "  </tbody>\n",
       "</table>\n",
       "</div>"
      ],
      "text/plain": [
       "     Vocabulary                Meaning\n",
       "0         chimp        tinh tinh, vượn\n",
       "1        escape             trốn thoát\n",
       "2      climb up               trèo lên\n",
       "3   power lines         mạng lưới điện\n",
       "4      get away  chạy trốn, trốn thoát\n",
       "5  veterinarian           bác sĩ thú y\n",
       "6  tranquilizer          thuốc an thần"
      ]
     },
     "execution_count": 8,
     "metadata": {},
     "output_type": "execute_result"
    }
   ],
   "source": [
    "Chimp_escapes_from_a_zoo = pd.DataFrame({\n",
    "    \"Vocabulary\" : [\n",
    "        \"chimp\", \n",
    "        \"escape\", \n",
    "        \"climb up\", \n",
    "        \"power lines\", \n",
    "        \"get away\", \n",
    "        \"veterinarian\", \n",
    "        \"tranquilizer\", \n",
    "    ], \n",
    "    \"Meaning\" : [\n",
    "        \"tinh tinh, vượn\", \n",
    "        \"trốn thoát\", \n",
    "        \"trèo lên\", \n",
    "        \"mạng lưới điện\", \n",
    "        \"chạy trốn, trốn thoát\", \n",
    "        \"bác sĩ thú y\",\n",
    "        \"thuốc an thần\" \n",
    "    ]\n",
    "})\n",
    "\n",
    "Chimp_escapes_from_a_zoo"
   ]
  },
  {
   "cell_type": "code",
   "execution_count": 11,
   "id": "93d67a10",
   "metadata": {},
   "outputs": [
    {
     "data": {
      "text/html": [
       "<div>\n",
       "<style scoped>\n",
       "    .dataframe tbody tr th:only-of-type {\n",
       "        vertical-align: middle;\n",
       "    }\n",
       "\n",
       "    .dataframe tbody tr th {\n",
       "        vertical-align: top;\n",
       "    }\n",
       "\n",
       "    .dataframe thead th {\n",
       "        text-align: right;\n",
       "    }\n",
       "</style>\n",
       "<table border=\"1\" class=\"dataframe\">\n",
       "  <thead>\n",
       "    <tr style=\"text-align: right;\">\n",
       "      <th></th>\n",
       "      <th>Vocabulary</th>\n",
       "      <th>Meaning</th>\n",
       "    </tr>\n",
       "  </thead>\n",
       "  <tbody>\n",
       "    <tr>\n",
       "      <th>0</th>\n",
       "      <td>Go into business</td>\n",
       "      <td>bắt đầu kinh doanh</td>\n",
       "    </tr>\n",
       "    <tr>\n",
       "      <th>1</th>\n",
       "      <td>Abide by</td>\n",
       "      <td>tuân thủ, tuân theo</td>\n",
       "    </tr>\n",
       "    <tr>\n",
       "      <th>2</th>\n",
       "      <td>Make a deal</td>\n",
       "      <td>thỏa thuận, cam kết điều khoản</td>\n",
       "    </tr>\n",
       "    <tr>\n",
       "      <th>3</th>\n",
       "      <td>Do business</td>\n",
       "      <td>kinh doanh</td>\n",
       "    </tr>\n",
       "    <tr>\n",
       "      <th>4</th>\n",
       "      <td>Break even</td>\n",
       "      <td>hòa vốn</td>\n",
       "    </tr>\n",
       "    <tr>\n",
       "      <th>5</th>\n",
       "      <td>Launch a new product</td>\n",
       "      <td>ra mắt sản phẩm mới</td>\n",
       "    </tr>\n",
       "    <tr>\n",
       "      <th>6</th>\n",
       "      <td>Sign a contract</td>\n",
       "      <td>ký kết hợp đồng</td>\n",
       "    </tr>\n",
       "    <tr>\n",
       "      <th>7</th>\n",
       "      <td>Make a profit</td>\n",
       "      <td>sinh lợi nhuận</td>\n",
       "    </tr>\n",
       "    <tr>\n",
       "      <th>8</th>\n",
       "      <td>Hire/take on staff/ employees</td>\n",
       "      <td>thuê nhân viên</td>\n",
       "    </tr>\n",
       "    <tr>\n",
       "      <th>9</th>\n",
       "      <td>Do market research</td>\n",
       "      <td>làm khảo sát</td>\n",
       "    </tr>\n",
       "    <tr>\n",
       "      <th>10</th>\n",
       "      <td>Operate at a loss</td>\n",
       "      <td>hoạt động thua lỗ</td>\n",
       "    </tr>\n",
       "    <tr>\n",
       "      <th>11</th>\n",
       "      <td>Going bankrupt</td>\n",
       "      <td>phá sản</td>\n",
       "    </tr>\n",
       "    <tr>\n",
       "      <th>12</th>\n",
       "      <td>Tough competition</td>\n",
       "      <td>canh tranh gay gắt</td>\n",
       "    </tr>\n",
       "    <tr>\n",
       "      <th>13</th>\n",
       "      <td>Customer service</td>\n",
       "      <td>dịch vụ khách hàng</td>\n",
       "    </tr>\n",
       "    <tr>\n",
       "      <th>14</th>\n",
       "      <td>Terms of a contract</td>\n",
       "      <td>điều khoản hợp đồng</td>\n",
       "    </tr>\n",
       "    <tr>\n",
       "      <th>15</th>\n",
       "      <td>To breach a contract</td>\n",
       "      <td>vi phạm hợp đồng</td>\n",
       "    </tr>\n",
       "    <tr>\n",
       "      <th>16</th>\n",
       "      <td>To renew a contract</td>\n",
       "      <td>gia hạn hợp đồng</td>\n",
       "    </tr>\n",
       "    <tr>\n",
       "      <th>17</th>\n",
       "      <td>A contract runs out</td>\n",
       "      <td>hợp đồng hết hạn</td>\n",
       "    </tr>\n",
       "    <tr>\n",
       "      <th>18</th>\n",
       "      <td>To terminate a contract</td>\n",
       "      <td>chấm dứt hợp đồng</td>\n",
       "    </tr>\n",
       "    <tr>\n",
       "      <th>19</th>\n",
       "      <td>Set up a company</td>\n",
       "      <td>thành lập công ty</td>\n",
       "    </tr>\n",
       "  </tbody>\n",
       "</table>\n",
       "</div>"
      ],
      "text/plain": [
       "                       Vocabulary                         Meaning\n",
       "0                Go into business              bắt đầu kinh doanh\n",
       "1                        Abide by             tuân thủ, tuân theo\n",
       "2                     Make a deal  thỏa thuận, cam kết điều khoản\n",
       "3                     Do business                      kinh doanh\n",
       "4                      Break even                         hòa vốn\n",
       "5            Launch a new product             ra mắt sản phẩm mới\n",
       "6                 Sign a contract                 ký kết hợp đồng\n",
       "7                   Make a profit                  sinh lợi nhuận\n",
       "8   Hire/take on staff/ employees                  thuê nhân viên\n",
       "9              Do market research                    làm khảo sát\n",
       "10              Operate at a loss               hoạt động thua lỗ\n",
       "11                 Going bankrupt                         phá sản\n",
       "12              Tough competition              canh tranh gay gắt\n",
       "13               Customer service              dịch vụ khách hàng\n",
       "14            Terms of a contract             điều khoản hợp đồng\n",
       "15           To breach a contract                vi phạm hợp đồng\n",
       "16            To renew a contract                gia hạn hợp đồng\n",
       "17            A contract runs out                hợp đồng hết hạn\n",
       "18        To terminate a contract               chấm dứt hợp đồng\n",
       "19               Set up a company               thành lập công ty"
      ]
     },
     "execution_count": 11,
     "metadata": {},
     "output_type": "execute_result"
    }
   ],
   "source": [
    "Collocations_business = pd.DataFrame({\n",
    "    \"Vocabulary\" : [\n",
    "        \"Go into business\", \n",
    "        \"Abide by\",\n",
    "        \"Make a deal\",\n",
    "        \"Do business\", \n",
    "        \"Break even\", \n",
    "        \"Launch a new product\", \n",
    "        \"Sign a contract\", \n",
    "        \"Make a profit\", \n",
    "        \"Hire/take on staff/ employees\", \n",
    "        \"Do market research\", \n",
    "        \"Operate at a loss\",\n",
    "        \"Going bankrupt\", \n",
    "        \"Tough competition\",\n",
    "        \"Customer service\", \n",
    "        \"Terms of a contract\", \n",
    "        \"To breach a contract\", \n",
    "        \"To renew a contract\", \n",
    "        \"A contract runs out\",\n",
    "        \"To terminate a contract\", \n",
    "        \"Set up a company\"\n",
    "    ],\n",
    "    \"Meaning\": [\n",
    "        \"bắt đầu kinh doanh\",\n",
    "        \"tuân thủ, tuân theo\",\n",
    "        \"thỏa thuận, cam kết điều khoản\",\n",
    "        \"kinh doanh\",\n",
    "        \"hòa vốn\",\n",
    "        \"ra mắt sản phẩm mới\", \n",
    "        \"ký kết hợp đồng\",\n",
    "        \"sinh lợi nhuận\",\n",
    "        \"thuê nhân viên\",\n",
    "        \"làm khảo sát\",\n",
    "        \"hoạt động thua lỗ\",\n",
    "        \"phá sản\",\n",
    "        \"canh tranh gay gắt\",\n",
    "        \"dịch vụ khách hàng\", \n",
    "        \"điều khoản hợp đồng\",\n",
    "        \"vi phạm hợp đồng\",\n",
    "        \"gia hạn hợp đồng\",\n",
    "        \"hợp đồng hết hạn\",\n",
    "        \"chấm dứt hợp đồng\",\n",
    "        \"thành lập công ty\"\n",
    "    ]\n",
    "})\n",
    "\n",
    "Collocations_business"
   ]
  },
  {
   "cell_type": "code",
   "execution_count": 9,
   "id": "7fdb717e",
   "metadata": {},
   "outputs": [
    {
     "ename": "ValueError",
     "evalue": "All arrays must be of the same length",
     "output_type": "error",
     "traceback": [
      "\u001b[1;31m---------------------------------------------------------------------------\u001b[0m",
      "\u001b[1;31mValueError\u001b[0m                                Traceback (most recent call last)",
      "Cell \u001b[1;32mIn[9], line 1\u001b[0m\n\u001b[1;32m----> 1\u001b[0m vocabulary \u001b[38;5;241m=\u001b[39m pd\u001b[38;5;241m.\u001b[39mDataFrame({\n\u001b[0;32m      2\u001b[0m     \u001b[38;5;124m\"\u001b[39m\u001b[38;5;124mVocabulary\u001b[39m\u001b[38;5;124m\"\u001b[39m : [\n\u001b[0;32m      3\u001b[0m         \u001b[38;5;124m\"\u001b[39m\u001b[38;5;124mBehind us\u001b[39m\u001b[38;5;124m\"\u001b[39m, \n\u001b[0;32m      4\u001b[0m         \u001b[38;5;124m\"\u001b[39m\u001b[38;5;124mPurchase\u001b[39m\u001b[38;5;124m\"\u001b[39m,\n\u001b[0;32m      5\u001b[0m         \u001b[38;5;124m\"\u001b[39m\u001b[38;5;124mCommittee\u001b[39m\u001b[38;5;124m\"\u001b[39m, \n\u001b[0;32m      6\u001b[0m         \u001b[38;5;124m\"\u001b[39m\u001b[38;5;124mSparkling\u001b[39m\u001b[38;5;124m\"\u001b[39m,\n\u001b[0;32m      7\u001b[0m         \u001b[38;5;124m\"\u001b[39m\u001b[38;5;124mcreek\u001b[39m\u001b[38;5;124m\"\u001b[39m,\n\u001b[0;32m      8\u001b[0m         \u001b[38;5;124m\"\u001b[39m\u001b[38;5;124mGrill\u001b[39m\u001b[38;5;124m\"\u001b[39m\n\u001b[0;32m      9\u001b[0m         \u001b[38;5;124m\"\u001b[39m\u001b[38;5;124mAcknowledge\u001b[39m\u001b[38;5;124m\"\u001b[39m,\n\u001b[0;32m     10\u001b[0m         \u001b[38;5;124m\"\u001b[39m\u001b[38;5;124mGratitude\u001b[39m\u001b[38;5;124m\"\u001b[39m,\n\u001b[0;32m     11\u001b[0m         \u001b[38;5;124m\"\u001b[39m\u001b[38;5;124mRepay\u001b[39m\u001b[38;5;124m\"\u001b[39m,\n\u001b[0;32m     12\u001b[0m         \u001b[38;5;124m\"\u001b[39m\u001b[38;5;124mloan\u001b[39m\u001b[38;5;124m\"\u001b[39m,\n\u001b[0;32m     13\u001b[0m         \u001b[38;5;124m\"\u001b[39m\u001b[38;5;124mexpress gratitude\u001b[39m\u001b[38;5;124m\"\u001b[39m,\n\u001b[0;32m     14\u001b[0m         \u001b[38;5;124m\"\u001b[39m\u001b[38;5;124massistant\u001b[39m\u001b[38;5;124m\"\u001b[39m,\n\u001b[0;32m     15\u001b[0m         \u001b[38;5;124m\"\u001b[39m\u001b[38;5;124mWarmly welcome\u001b[39m\u001b[38;5;124m\"\u001b[39m,\n\u001b[0;32m     16\u001b[0m         \u001b[38;5;124m\"\u001b[39m\u001b[38;5;124mTraning session\u001b[39m\u001b[38;5;124m\"\u001b[39m,\n\u001b[0;32m     17\u001b[0m         \u001b[38;5;124m\"\u001b[39m\u001b[38;5;124mAttachment\u001b[39m\u001b[38;5;124m\"\u001b[39m,\n\u001b[0;32m     18\u001b[0m         \u001b[38;5;124m\"\u001b[39m\u001b[38;5;124mOnboarding\u001b[39m\u001b[38;5;124m\"\u001b[39m,\n\u001b[0;32m     19\u001b[0m         \u001b[38;5;124m\"\u001b[39m\u001b[38;5;124mSocial gathering\u001b[39m\u001b[38;5;124m\"\u001b[39m,\n\u001b[0;32m     20\u001b[0m         \u001b[38;5;124m\"\u001b[39m\u001b[38;5;124mNew hire\u001b[39m\u001b[38;5;124m\"\u001b[39m,\n\u001b[0;32m     21\u001b[0m         \u001b[38;5;124m\"\u001b[39m\u001b[38;5;124mBadge\u001b[39m\u001b[38;5;124m\"\u001b[39m,\n\u001b[0;32m     22\u001b[0m         \u001b[38;5;124m\"\u001b[39m\u001b[38;5;124mHealth ínsuảnce\u001b[39m\u001b[38;5;124m\"\u001b[39m,\n\u001b[0;32m     23\u001b[0m         \u001b[38;5;124m\"\u001b[39m\u001b[38;5;124mRetirement\u001b[39m\u001b[38;5;124m\"\u001b[39m,\n\u001b[0;32m     24\u001b[0m         \u001b[38;5;124m\"\u001b[39m\u001b[38;5;124mUpon their arrival\u001b[39m\u001b[38;5;124m\"\u001b[39m,\n\u001b[0;32m     25\u001b[0m         \u001b[38;5;124m\"\u001b[39m\u001b[38;5;124mPurpose\u001b[39m\u001b[38;5;124m\"\u001b[39m,\n\u001b[0;32m     26\u001b[0m         \u001b[38;5;124m\"\u001b[39m\u001b[38;5;124mTrainer\u001b[39m\u001b[38;5;124m\"\u001b[39m,\n\u001b[0;32m     27\u001b[0m         \u001b[38;5;124m\"\u001b[39m\u001b[38;5;124mIdentification document\u001b[39m\u001b[38;5;124m\"\u001b[39m,\n\u001b[0;32m     28\u001b[0m         \u001b[38;5;124m\"\u001b[39m\u001b[38;5;124mCabinet\u001b[39m\u001b[38;5;124m\"\u001b[39m,\n\u001b[0;32m     29\u001b[0m         \u001b[38;5;124m\"\u001b[39m\u001b[38;5;124mBet\u001b[39m\u001b[38;5;124m\"\u001b[39m,\n\u001b[0;32m     30\u001b[0m         \u001b[38;5;124m\"\u001b[39m\u001b[38;5;124mCheck on\u001b[39m\u001b[38;5;124m\"\u001b[39m,\n\u001b[0;32m     31\u001b[0m         \u001b[38;5;124m\"\u001b[39m\u001b[38;5;124mSignatures\u001b[39m\u001b[38;5;124m\"\u001b[39m,\n\u001b[0;32m     32\u001b[0m         \u001b[38;5;124m\"\u001b[39m\u001b[38;5;124mDeliver\u001b[39m\u001b[38;5;124m\"\u001b[39m, \n\u001b[0;32m     33\u001b[0m         \u001b[38;5;124m\"\u001b[39m\u001b[38;5;124mCourier service\u001b[39m\u001b[38;5;124m\"\u001b[39m,\n\u001b[0;32m     34\u001b[0m         \u001b[38;5;124m\"\u001b[39m\u001b[38;5;124mContingency plan\u001b[39m\u001b[38;5;124m\"\u001b[39m,\n\u001b[0;32m     35\u001b[0m         \u001b[38;5;124m\"\u001b[39m\u001b[38;5;124mOnboard departure delays\u001b[39m\u001b[38;5;124m\"\u001b[39m,\n\u001b[0;32m     36\u001b[0m         \u001b[38;5;124m\"\u001b[39m\u001b[38;5;124mRare occasions\u001b[39m\u001b[38;5;124m\"\u001b[39m,\n\u001b[0;32m     37\u001b[0m         \u001b[38;5;124m\"\u001b[39m\u001b[38;5;124mVisibility\u001b[39m\u001b[38;5;124m\"\u001b[39m,\n\u001b[0;32m     38\u001b[0m         \u001b[38;5;124m\"\u001b[39m\u001b[38;5;124mUnavoidable\u001b[39m\u001b[38;5;124m\"\u001b[39m,\n\u001b[0;32m     39\u001b[0m         \u001b[38;5;124m\"\u001b[39m\u001b[38;5;124mComplimentary snack\u001b[39m\u001b[38;5;124m\"\u001b[39m,\n\u001b[0;32m     40\u001b[0m         \u001b[38;5;124m\"\u001b[39m\u001b[38;5;124mDomestic\u001b[39m\u001b[38;5;124m\"\u001b[39m,\n\u001b[0;32m     41\u001b[0m         \u001b[38;5;124m\"\u001b[39m\u001b[38;5;124mAircraft\u001b[39m\u001b[38;5;124m\"\u001b[39m,\n\u001b[0;32m     42\u001b[0m         \u001b[38;5;124m\"\u001b[39m\u001b[38;5;124mPasengers\u001b[39m\u001b[38;5;124m\"\u001b[39m,\n\u001b[0;32m     43\u001b[0m         \u001b[38;5;124m\"\u001b[39m\u001b[38;5;124mNotifications\u001b[39m\u001b[38;5;124m\"\u001b[39m,\n\u001b[0;32m     44\u001b[0m         \u001b[38;5;124m\"\u001b[39m\u001b[38;5;124mAmenities\u001b[39m\u001b[38;5;124m\"\u001b[39m,\n\u001b[0;32m     45\u001b[0m         \u001b[38;5;124m\"\u001b[39m\u001b[38;5;124mProcedures\u001b[39m\u001b[38;5;124m\"\u001b[39m,\n\u001b[0;32m     46\u001b[0m         \u001b[38;5;124m\"\u001b[39m\u001b[38;5;124mPolicy\u001b[39m\u001b[38;5;124m\"\u001b[39m\n\u001b[0;32m     47\u001b[0m     ],\n\u001b[0;32m     48\u001b[0m     \u001b[38;5;124m\"\u001b[39m\u001b[38;5;124mMeaning\u001b[39m\u001b[38;5;124m\"\u001b[39m : [\n\u001b[0;32m     49\u001b[0m         \u001b[38;5;124m\"\u001b[39m\u001b[38;5;124mđi qua\u001b[39m\u001b[38;5;124m\"\u001b[39m,\n\u001b[0;32m     50\u001b[0m         \u001b[38;5;124m\"\u001b[39m\u001b[38;5;124mbán\u001b[39m\u001b[38;5;124m\"\u001b[39m,\n\u001b[0;32m     51\u001b[0m         \u001b[38;5;124m\"\u001b[39m\u001b[38;5;124mỦy ban\u001b[39m\u001b[38;5;124m\"\u001b[39m,\n\u001b[0;32m     52\u001b[0m         \u001b[38;5;124m\"\u001b[39m\u001b[38;5;124mlấp lánh / nhiệt huyết, năng động / đồ uống có ga\u001b[39m\u001b[38;5;124m\"\u001b[39m,\n\u001b[0;32m     53\u001b[0m         \u001b[38;5;124m\"\u001b[39m\u001b[38;5;124msông nhỏ\u001b[39m\u001b[38;5;124m\"\u001b[39m,\n\u001b[0;32m     54\u001b[0m         \u001b[38;5;124m\"\u001b[39m\u001b[38;5;124mĐồ nướng\u001b[39m\u001b[38;5;124m\"\u001b[39m,\n\u001b[0;32m     55\u001b[0m         \u001b[38;5;124m\"\u001b[39m\u001b[38;5;124mcông nhận\u001b[39m\u001b[38;5;124m\"\u001b[39m,\n\u001b[0;32m     56\u001b[0m         \u001b[38;5;124m\"\u001b[39m\u001b[38;5;124mbiết ơn\u001b[39m\u001b[38;5;124m\"\u001b[39m,\n\u001b[0;32m     57\u001b[0m         \u001b[38;5;124m\"\u001b[39m\u001b[38;5;124mtrả lại\u001b[39m\u001b[38;5;124m\"\u001b[39m,\n\u001b[0;32m     58\u001b[0m         \u001b[38;5;124m\"\u001b[39m\u001b[38;5;124mkhoan vay\u001b[39m\u001b[38;5;124m\"\u001b[39m,\n\u001b[0;32m     59\u001b[0m         \u001b[38;5;124m\"\u001b[39m\u001b[38;5;124mbày tỏ sự biết ơn\u001b[39m\u001b[38;5;124m\"\u001b[39m,\n\u001b[0;32m     60\u001b[0m         \u001b[38;5;124m\"\u001b[39m\u001b[38;5;124mtrợ lý\u001b[39m\u001b[38;5;124m\"\u001b[39m,\n\u001b[0;32m     61\u001b[0m         \u001b[38;5;124m\"\u001b[39m\u001b[38;5;124mchào đón nồng nhiệt\u001b[39m\u001b[38;5;124m\"\u001b[39m,\n\u001b[0;32m     62\u001b[0m         \u001b[38;5;124m\"\u001b[39m\u001b[38;5;124mbuổi đào tạo\u001b[39m\u001b[38;5;124m\"\u001b[39m,\n\u001b[0;32m     63\u001b[0m         \u001b[38;5;124m\"\u001b[39m\u001b[38;5;124mtệp đính kèm\u001b[39m\u001b[38;5;124m\"\u001b[39m,\n\u001b[0;32m     64\u001b[0m         \u001b[38;5;124m\"\u001b[39m\u001b[38;5;124mquy trình training nhân viên mới\u001b[39m\u001b[38;5;124m\"\u001b[39m,\n\u001b[0;32m     65\u001b[0m         \u001b[38;5;124m\"\u001b[39m\u001b[38;5;124mbuổi giao lưu\u001b[39m\u001b[38;5;124m\"\u001b[39m,\n\u001b[0;32m     66\u001b[0m         \u001b[38;5;124m\"\u001b[39m\u001b[38;5;124mnhân viên mới\u001b[39m\u001b[38;5;124m\"\u001b[39m,\n\u001b[0;32m     67\u001b[0m         \u001b[38;5;124m\"\u001b[39m\u001b[38;5;124mthể tên\u001b[39m\u001b[38;5;124m\"\u001b[39m,\n\u001b[0;32m     68\u001b[0m         \u001b[38;5;124m\"\u001b[39m\u001b[38;5;124mbảo hiểm y tế\u001b[39m\u001b[38;5;124m\"\u001b[39m,\n\u001b[0;32m     69\u001b[0m         \u001b[38;5;124m\"\u001b[39m\u001b[38;5;124mquỹ hưu, lương hưu\u001b[39m\u001b[38;5;124m\"\u001b[39m,\n\u001b[0;32m     70\u001b[0m         \u001b[38;5;124m\"\u001b[39m\u001b[38;5;124mKhi họ đến\u001b[39m\u001b[38;5;124m\"\u001b[39m,\n\u001b[0;32m     71\u001b[0m         \u001b[38;5;124m\"\u001b[39m\u001b[38;5;124mmục đích\u001b[39m\u001b[38;5;124m\"\u001b[39m,\n\u001b[0;32m     72\u001b[0m         \u001b[38;5;124m\"\u001b[39m\u001b[38;5;124mmentor\u001b[39m\u001b[38;5;124m\"\u001b[39m,\n\u001b[0;32m     73\u001b[0m         \u001b[38;5;124m\"\u001b[39m\u001b[38;5;124mcăn cước định danh\u001b[39m\u001b[38;5;124m\"\u001b[39m,\n\u001b[0;32m     74\u001b[0m         \u001b[38;5;124m\"\u001b[39m\u001b[38;5;124mtủ tài liệu\u001b[39m\u001b[38;5;124m\"\u001b[39m,\n\u001b[0;32m     75\u001b[0m         \u001b[38;5;124m\"\u001b[39m\u001b[38;5;124mtin rằng, cá rằng, chắc rằng\u001b[39m\u001b[38;5;124m\"\u001b[39m,\n\u001b[0;32m     76\u001b[0m         \u001b[38;5;124m\"\u001b[39m\u001b[38;5;124mkiểm tra\u001b[39m\u001b[38;5;124m\"\u001b[39m,\n\u001b[0;32m     77\u001b[0m         \u001b[38;5;124m\"\u001b[39m\u001b[38;5;124mchữ ký\u001b[39m\u001b[38;5;124m\"\u001b[39m,\n\u001b[0;32m     78\u001b[0m         \u001b[38;5;124m\"\u001b[39m\u001b[38;5;124mgiao hàng\u001b[39m\u001b[38;5;124m\"\u001b[39m,\n\u001b[0;32m     79\u001b[0m         \u001b[38;5;124m\"\u001b[39m\u001b[38;5;124mdịch vụ giao hàng\u001b[39m\u001b[38;5;124m\"\u001b[39m,\n\u001b[0;32m     80\u001b[0m         \u001b[38;5;124m\"\u001b[39m\u001b[38;5;124mdịch vụ thư tín\u001b[39m\u001b[38;5;124m\"\u001b[39m,\n\u001b[0;32m     81\u001b[0m         \u001b[38;5;124m\"\u001b[39m\u001b[38;5;124mkế hoạch dự phòng\u001b[39m\u001b[38;5;124m\"\u001b[39m,\n\u001b[0;32m     82\u001b[0m         \u001b[38;5;124m\"\u001b[39m\u001b[38;5;124mchậm giờ khởi hành\u001b[39m\u001b[38;5;124m\"\u001b[39m,\n\u001b[0;32m     83\u001b[0m         \u001b[38;5;124m\"\u001b[39m\u001b[38;5;124mtrường hợp hiếm gặp\u001b[39m\u001b[38;5;124m\"\u001b[39m,\n\u001b[0;32m     84\u001b[0m         \u001b[38;5;124m\"\u001b[39m\u001b[38;5;124mtầm nhìn\u001b[39m\u001b[38;5;124m\"\u001b[39m,\n\u001b[0;32m     85\u001b[0m         \u001b[38;5;124m\"\u001b[39m\u001b[38;5;124mkhông thể tránh khỏi\u001b[39m\u001b[38;5;124m\"\u001b[39m,\n\u001b[0;32m     86\u001b[0m         \u001b[38;5;124m\"\u001b[39m\u001b[38;5;124mđồ ăn kèm theo\u001b[39m\u001b[38;5;124m\"\u001b[39m,\n\u001b[0;32m     87\u001b[0m         \u001b[38;5;124m\"\u001b[39m\u001b[38;5;124mnội địa\u001b[39m\u001b[38;5;124m\"\u001b[39m,\n\u001b[0;32m     88\u001b[0m         \u001b[38;5;124m\"\u001b[39m\u001b[38;5;124mphi cơ\u001b[39m\u001b[38;5;124m\"\u001b[39m,\n\u001b[0;32m     89\u001b[0m         \u001b[38;5;124m\"\u001b[39m\u001b[38;5;124mhành khách\u001b[39m\u001b[38;5;124m\"\u001b[39m,\n\u001b[0;32m     90\u001b[0m         \u001b[38;5;124m\"\u001b[39m\u001b[38;5;124mthông báo\u001b[39m\u001b[38;5;124m\"\u001b[39m,\n\u001b[0;32m     91\u001b[0m         \u001b[38;5;124m\"\u001b[39m\u001b[38;5;124mtiện ích\u001b[39m\u001b[38;5;124m\"\u001b[39m,\n\u001b[0;32m     92\u001b[0m         \u001b[38;5;124m\"\u001b[39m\u001b[38;5;124mthủ tục\u001b[39m\u001b[38;5;124m\"\u001b[39m,\n\u001b[0;32m     93\u001b[0m         \u001b[38;5;124m\"\u001b[39m\u001b[38;5;124mchính sách\u001b[39m\u001b[38;5;124m\"\u001b[39m,\n\u001b[0;32m     94\u001b[0m         \u001b[38;5;124m\"\u001b[39m\u001b[38;5;124m\"\u001b[39m\n\u001b[0;32m     95\u001b[0m     ]\n\u001b[0;32m     96\u001b[0m })\n\u001b[0;32m     98\u001b[0m vocabulary\n",
      "File \u001b[1;32mC:\\ProgramData\\anaconda3\\Lib\\site-packages\\pandas\\core\\frame.py:709\u001b[0m, in \u001b[0;36mDataFrame.__init__\u001b[1;34m(self, data, index, columns, dtype, copy)\u001b[0m\n\u001b[0;32m    703\u001b[0m     mgr \u001b[38;5;241m=\u001b[39m \u001b[38;5;28mself\u001b[39m\u001b[38;5;241m.\u001b[39m_init_mgr(\n\u001b[0;32m    704\u001b[0m         data, axes\u001b[38;5;241m=\u001b[39m{\u001b[38;5;124m\"\u001b[39m\u001b[38;5;124mindex\u001b[39m\u001b[38;5;124m\"\u001b[39m: index, \u001b[38;5;124m\"\u001b[39m\u001b[38;5;124mcolumns\u001b[39m\u001b[38;5;124m\"\u001b[39m: columns}, dtype\u001b[38;5;241m=\u001b[39mdtype, copy\u001b[38;5;241m=\u001b[39mcopy\n\u001b[0;32m    705\u001b[0m     )\n\u001b[0;32m    707\u001b[0m \u001b[38;5;28;01melif\u001b[39;00m \u001b[38;5;28misinstance\u001b[39m(data, \u001b[38;5;28mdict\u001b[39m):\n\u001b[0;32m    708\u001b[0m     \u001b[38;5;66;03m# GH#38939 de facto copy defaults to False only in non-dict cases\u001b[39;00m\n\u001b[1;32m--> 709\u001b[0m     mgr \u001b[38;5;241m=\u001b[39m dict_to_mgr(data, index, columns, dtype\u001b[38;5;241m=\u001b[39mdtype, copy\u001b[38;5;241m=\u001b[39mcopy, typ\u001b[38;5;241m=\u001b[39mmanager)\n\u001b[0;32m    710\u001b[0m \u001b[38;5;28;01melif\u001b[39;00m \u001b[38;5;28misinstance\u001b[39m(data, ma\u001b[38;5;241m.\u001b[39mMaskedArray):\n\u001b[0;32m    711\u001b[0m     \u001b[38;5;28;01mfrom\u001b[39;00m \u001b[38;5;21;01mnumpy\u001b[39;00m\u001b[38;5;21;01m.\u001b[39;00m\u001b[38;5;21;01mma\u001b[39;00m \u001b[38;5;28;01mimport\u001b[39;00m mrecords\n",
      "File \u001b[1;32mC:\\ProgramData\\anaconda3\\Lib\\site-packages\\pandas\\core\\internals\\construction.py:481\u001b[0m, in \u001b[0;36mdict_to_mgr\u001b[1;34m(data, index, columns, dtype, typ, copy)\u001b[0m\n\u001b[0;32m    477\u001b[0m     \u001b[38;5;28;01melse\u001b[39;00m:\n\u001b[0;32m    478\u001b[0m         \u001b[38;5;66;03m# dtype check to exclude e.g. range objects, scalars\u001b[39;00m\n\u001b[0;32m    479\u001b[0m         arrays \u001b[38;5;241m=\u001b[39m [x\u001b[38;5;241m.\u001b[39mcopy() \u001b[38;5;28;01mif\u001b[39;00m \u001b[38;5;28mhasattr\u001b[39m(x, \u001b[38;5;124m\"\u001b[39m\u001b[38;5;124mdtype\u001b[39m\u001b[38;5;124m\"\u001b[39m) \u001b[38;5;28;01melse\u001b[39;00m x \u001b[38;5;28;01mfor\u001b[39;00m x \u001b[38;5;129;01min\u001b[39;00m arrays]\n\u001b[1;32m--> 481\u001b[0m \u001b[38;5;28;01mreturn\u001b[39;00m arrays_to_mgr(arrays, columns, index, dtype\u001b[38;5;241m=\u001b[39mdtype, typ\u001b[38;5;241m=\u001b[39mtyp, consolidate\u001b[38;5;241m=\u001b[39mcopy)\n",
      "File \u001b[1;32mC:\\ProgramData\\anaconda3\\Lib\\site-packages\\pandas\\core\\internals\\construction.py:115\u001b[0m, in \u001b[0;36marrays_to_mgr\u001b[1;34m(arrays, columns, index, dtype, verify_integrity, typ, consolidate)\u001b[0m\n\u001b[0;32m    112\u001b[0m \u001b[38;5;28;01mif\u001b[39;00m verify_integrity:\n\u001b[0;32m    113\u001b[0m     \u001b[38;5;66;03m# figure out the index, if necessary\u001b[39;00m\n\u001b[0;32m    114\u001b[0m     \u001b[38;5;28;01mif\u001b[39;00m index \u001b[38;5;129;01mis\u001b[39;00m \u001b[38;5;28;01mNone\u001b[39;00m:\n\u001b[1;32m--> 115\u001b[0m         index \u001b[38;5;241m=\u001b[39m _extract_index(arrays)\n\u001b[0;32m    116\u001b[0m     \u001b[38;5;28;01melse\u001b[39;00m:\n\u001b[0;32m    117\u001b[0m         index \u001b[38;5;241m=\u001b[39m ensure_index(index)\n",
      "File \u001b[1;32mC:\\ProgramData\\anaconda3\\Lib\\site-packages\\pandas\\core\\internals\\construction.py:655\u001b[0m, in \u001b[0;36m_extract_index\u001b[1;34m(data)\u001b[0m\n\u001b[0;32m    653\u001b[0m lengths \u001b[38;5;241m=\u001b[39m \u001b[38;5;28mlist\u001b[39m(\u001b[38;5;28mset\u001b[39m(raw_lengths))\n\u001b[0;32m    654\u001b[0m \u001b[38;5;28;01mif\u001b[39;00m \u001b[38;5;28mlen\u001b[39m(lengths) \u001b[38;5;241m>\u001b[39m \u001b[38;5;241m1\u001b[39m:\n\u001b[1;32m--> 655\u001b[0m     \u001b[38;5;28;01mraise\u001b[39;00m \u001b[38;5;167;01mValueError\u001b[39;00m(\u001b[38;5;124m\"\u001b[39m\u001b[38;5;124mAll arrays must be of the same length\u001b[39m\u001b[38;5;124m\"\u001b[39m)\n\u001b[0;32m    657\u001b[0m \u001b[38;5;28;01mif\u001b[39;00m have_dicts:\n\u001b[0;32m    658\u001b[0m     \u001b[38;5;28;01mraise\u001b[39;00m \u001b[38;5;167;01mValueError\u001b[39;00m(\n\u001b[0;32m    659\u001b[0m         \u001b[38;5;124m\"\u001b[39m\u001b[38;5;124mMixing dicts with non-Series may lead to ambiguous ordering.\u001b[39m\u001b[38;5;124m\"\u001b[39m\n\u001b[0;32m    660\u001b[0m     )\n",
      "\u001b[1;31mValueError\u001b[0m: All arrays must be of the same length"
     ]
    }
   ],
   "source": [
    "vocabulary = pd.DataFrame({\n",
    "    \"Vocabulary\" : [\n",
    "        \"Behind us\", \n",
    "        \"Purchase\",\n",
    "        \"Committee\", \n",
    "        \"Sparkling\",\n",
    "        \"creek\",\n",
    "        \"Grill\"\n",
    "        \"Acknowledge\",\n",
    "        \"Gratitude\",\n",
    "        \"Repay\",\n",
    "        \"loan\",\n",
    "        \"express gratitude\",\n",
    "        \"assistant\",\n",
    "        \"Warmly welcome\",\n",
    "        \"Traning session\",\n",
    "        \"Attachment\",\n",
    "        \"Onboarding\",\n",
    "        \"Social gathering\",\n",
    "        \"New hire\",\n",
    "        \"Badge\",\n",
    "        \"Health ínsuảnce\",\n",
    "        \"Retirement\",\n",
    "        \"Upon their arrival\",\n",
    "        \"Purpose\",\n",
    "        \"Trainer\",\n",
    "        \"Identification document\",\n",
    "        \"Cabinet\",\n",
    "        \"Bet\",\n",
    "        \"Check on\",\n",
    "        \"Signatures\",\n",
    "        \"Deliver\", \n",
    "        \"Courier service\",\n",
    "        \"Contingency plan\",\n",
    "        \"Onboard departure delays\",\n",
    "        \"Rare occasions\",\n",
    "        \"Visibility\",\n",
    "        \"Unavoidable\",\n",
    "        \"Complimentary snack\",\n",
    "        \"Domestic\",\n",
    "        \"Aircraft\",\n",
    "        \"Pasengers\",\n",
    "        \"Notifications\",\n",
    "        \"Amenities\",\n",
    "        \"Procedures\",\n",
    "        \"Policy\"\n",
    "    ],\n",
    "    \"Meaning\" : [\n",
    "        \"đi qua\",\n",
    "        \"bán\",\n",
    "        \"Ủy ban\",\n",
    "        \"lấp lánh / nhiệt huyết, năng động / đồ uống có ga\",\n",
    "        \"sông nhỏ\",\n",
    "        \"Đồ nướng\",\n",
    "        \"công nhận\",\n",
    "        \"biết ơn\",\n",
    "        \"trả lại\",\n",
    "        \"khoan vay\",\n",
    "        \"bày tỏ sự biết ơn\",\n",
    "        \"trợ lý\",\n",
    "        \"chào đón nồng nhiệt\",\n",
    "        \"buổi đào tạo\",\n",
    "        \"tệp đính kèm\",\n",
    "        \"quy trình training nhân viên mới\",\n",
    "        \"buổi giao lưu\",\n",
    "        \"nhân viên mới\",\n",
    "        \"thể tên\",\n",
    "        \"bảo hiểm y tế\",\n",
    "        \"quỹ hưu, lương hưu\",\n",
    "        \"Khi họ đến\",\n",
    "        \"mục đích\",\n",
    "        \"mentor\",\n",
    "        \"căn cước định danh\",\n",
    "        \"tủ tài liệu\",\n",
    "        \"tin rằng, cá rằng, chắc rằng\",\n",
    "        \"kiểm tra\",\n",
    "        \"chữ ký\",\n",
    "        \"giao hàng\",\n",
    "        \"dịch vụ giao hàng\",\n",
    "        \"dịch vụ thư tín\",\n",
    "        \"kế hoạch dự phòng\",\n",
    "        \"chậm giờ khởi hành\",\n",
    "        \"trường hợp hiếm gặp\",\n",
    "        \"tầm nhìn\",\n",
    "        \"không thể tránh khỏi\",\n",
    "        \"đồ ăn kèm theo\",\n",
    "        \"nội địa\",\n",
    "        \"phi cơ\",\n",
    "        \"hành khách\",\n",
    "        \"thông báo\",\n",
    "        \"tiện ích\",\n",
    "        \"thủ tục\",\n",
    "        \"chính sách\",\n",
    "        \"\"\n",
    "    ]\n",
    "})\n",
    "\n",
    "vocabulary"
   ]
  },
  {
   "cell_type": "code",
   "execution_count": null,
   "id": "5a48c121",
   "metadata": {},
   "outputs": [],
   "source": []
  },
  {
   "cell_type": "code",
   "execution_count": null,
   "id": "132eede9",
   "metadata": {},
   "outputs": [],
   "source": [
    "''"
   ]
  }
 ],
 "metadata": {
  "kernelspec": {
   "display_name": "Python 3 (ipykernel)",
   "language": "python",
   "name": "python3"
  },
  "language_info": {
   "codemirror_mode": {
    "name": "ipython",
    "version": 3
   },
   "file_extension": ".py",
   "mimetype": "text/x-python",
   "name": "python",
   "nbconvert_exporter": "python",
   "pygments_lexer": "ipython3",
   "version": "3.11.5"
  }
 },
 "nbformat": 4,
 "nbformat_minor": 5
}

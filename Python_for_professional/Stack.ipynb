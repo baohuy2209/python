{
 "cells": [
  {
   "cell_type": "markdown",
   "metadata": {},
   "source": [
    "# Stack "
   ]
  },
  {
   "cell_type": "markdown",
   "metadata": {},
   "source": [
    "A stack is a container of objects that are inserted and removed according to the last-in first-out (LIFO) principle. In\n",
    "the pushdown stacks only two operations are allowed: push the item into the stack, and pop the item out of\n",
    "the stack. A stack is a limited access data structure - elements can be added and removed from the stack only\n",
    "at the top. Here is a structural definition of a Stack: a stack is either empty or it consists of a top and the rest which\n",
    "is a Stack."
   ]
  },
  {
   "cell_type": "markdown",
   "metadata": {},
   "source": [
    "## 1) Creating a Stack class with a List Object "
   ]
  },
  {
   "cell_type": "markdown",
   "metadata": {},
   "source": [
    "Using a list object you can create a fully functional generic. Stack with helper methods such as peeking and checking if the stack is Empty. Check out the official python docs for using list as Stack here. "
   ]
  },
  {
   "cell_type": "code",
   "execution_count": 15,
   "metadata": {},
   "outputs": [],
   "source": [
    "class Stack: \n",
    "    def __init__(self):\n",
    "        self.items = [] \n",
    "    def isEmpty(self):\n",
    "        return self.items == [] \n",
    "    def push(self, item): \n",
    "        self.items.append(item)\n",
    "    def pop(self):\n",
    "        return self.items.pop()\n",
    "    def peek(self):\n",
    "        return self.items[-1]\n",
    "    def size(self):\n",
    "        return len(self.items)\n",
    "    def fullStack(self):\n",
    "        return self.items \n"
   ]
  },
  {
   "cell_type": "markdown",
   "metadata": {},
   "source": [
    "An example run: "
   ]
  },
  {
   "cell_type": "code",
   "execution_count": 16,
   "metadata": {},
   "outputs": [
    {
     "name": "stdout",
     "output_type": "stream",
     "text": [
      "Current stack:  <bound method Stack.fullStack of <__main__.Stack object at 0x000002677D628E00>>\n"
     ]
    }
   ],
   "source": [
    "stack = Stack()\n",
    "print('Current stack: ', stack.fullStack)"
   ]
  },
  {
   "cell_type": "code",
   "execution_count": 17,
   "metadata": {},
   "outputs": [
    {
     "name": "stdout",
     "output_type": "stream",
     "text": [
      "Stack empty?: True\n"
     ]
    }
   ],
   "source": [
    "print(\"Stack empty?:\", stack.isEmpty())"
   ]
  },
  {
   "cell_type": "code",
   "execution_count": 18,
   "metadata": {},
   "outputs": [
    {
     "name": "stdout",
     "output_type": "stream",
     "text": [
      "Pushing integer 1\n"
     ]
    }
   ],
   "source": [
    "print(\"Pushing integer 1\")"
   ]
  },
  {
   "cell_type": "code",
   "execution_count": 19,
   "metadata": {},
   "outputs": [],
   "source": [
    "stack.push(1)"
   ]
  },
  {
   "cell_type": "code",
   "execution_count": 20,
   "metadata": {},
   "outputs": [
    {
     "name": "stdout",
     "output_type": "stream",
     "text": [
      "Pushing string \"Told you, I am generic stack!\"\n"
     ]
    }
   ],
   "source": [
    "print('Pushing string \"Told you, I am generic stack!\"')"
   ]
  },
  {
   "cell_type": "code",
   "execution_count": 21,
   "metadata": {},
   "outputs": [],
   "source": [
    "stack.push(\"Told you, I am generic stack!\")"
   ]
  },
  {
   "cell_type": "code",
   "execution_count": 22,
   "metadata": {},
   "outputs": [
    {
     "name": "stdout",
     "output_type": "stream",
     "text": [
      "Pushing integer 3\n"
     ]
    }
   ],
   "source": [
    "print(\"Pushing integer 3\")"
   ]
  },
  {
   "cell_type": "code",
   "execution_count": 23,
   "metadata": {},
   "outputs": [],
   "source": [
    "stack.push(3)"
   ]
  },
  {
   "cell_type": "code",
   "execution_count": 24,
   "metadata": {},
   "outputs": [
    {
     "name": "stdout",
     "output_type": "stream",
     "text": [
      "Current stack: [1, 'Told you, I am generic stack!', 3]\n"
     ]
    }
   ],
   "source": [
    "print(\"Current stack:\", stack.fullStack())"
   ]
  },
  {
   "cell_type": "code",
   "execution_count": 25,
   "metadata": {},
   "outputs": [
    {
     "name": "stdout",
     "output_type": "stream",
     "text": [
      "Popped item: 3\n"
     ]
    }
   ],
   "source": [
    "print(\"Popped item:\", stack.pop())"
   ]
  },
  {
   "cell_type": "code",
   "execution_count": 26,
   "metadata": {},
   "outputs": [
    {
     "name": "stdout",
     "output_type": "stream",
     "text": [
      "Current stack: [1, 'Told you, I am generic stack!']\n"
     ]
    }
   ],
   "source": [
    "print(\"Current stack:\", stack.fullStack())"
   ]
  },
  {
   "cell_type": "code",
   "execution_count": 27,
   "metadata": {},
   "outputs": [
    {
     "name": "stdout",
     "output_type": "stream",
     "text": [
      "Stack empty?: False\n"
     ]
    }
   ],
   "source": [
    "print(\"Stack empty?:\", stack.isEmpty())"
   ]
  },
  {
   "cell_type": "markdown",
   "metadata": {},
   "source": [
    "## 2) Parsing Parentheses "
   ]
  },
  {
   "cell_type": "markdown",
   "metadata": {},
   "source": [
    "Stack are often used for parsing. A simple parsing task is to check whether a string of parentheses are matching. \n"
   ]
  },
  {
   "cell_type": "markdown",
   "metadata": {},
   "source": [
    "For example, the string ([]) is matching, because th outer and inner brackets form pairs () => ) is not matching, because the last) has not partner, ([)] is also matching, because pairs must be either entirely inside or outside other pairs. "
   ]
  },
  {
   "cell_type": "code",
   "execution_count": 28,
   "metadata": {},
   "outputs": [],
   "source": [
    "def checkParenth(str):\n",
    "    stack = Stack()\n",
    "    pushChars, popChars = \"<({[\", \">)}]\"\n",
    "    for c in str:\n",
    "        if c in pushChars:\n",
    "            stack.push(c)\n",
    "        elif c in popChars:\n",
    "            if stack.isEmpty():\n",
    "                return False\n",
    "            else:\n",
    "                stackTop = stack.pop()\n",
    "    # Checks to see whether the opening bracket matches the closing one\n",
    "                balancingBracket = pushChars[popChars.index(c)]\n",
    "                if stackTop != balancingBracket:\n",
    "                    return False\n",
    "        else:\n",
    "            return False\n",
    "    return not stack.isEmpty()"
   ]
  }
 ],
 "metadata": {
  "kernelspec": {
   "display_name": "Python 3",
   "language": "python",
   "name": "python3"
  },
  "language_info": {
   "codemirror_mode": {
    "name": "ipython",
    "version": 3
   },
   "file_extension": ".py",
   "mimetype": "text/x-python",
   "name": "python",
   "nbconvert_exporter": "python",
   "pygments_lexer": "ipython3",
   "version": "3.12.0"
  }
 },
 "nbformat": 4,
 "nbformat_minor": 2
}

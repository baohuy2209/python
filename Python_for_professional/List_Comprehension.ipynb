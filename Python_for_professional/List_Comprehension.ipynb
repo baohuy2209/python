{
 "cells": [
  {
   "cell_type": "markdown",
   "metadata": {},
   "source": [
    "# List comprehensions "
   ]
  },
  {
   "cell_type": "markdown",
   "metadata": {},
   "source": [
    "List comprehensions in Python are concise, syntactic constructs. They can be utilized to generate lists from other\n",
    "lists by applying functions to each element in the list. The following section explains and demonstrates the use of\n",
    "these expressions."
   ]
  },
  {
   "cell_type": "markdown",
   "metadata": {},
   "source": [
    "## 1) List comprehensions "
   ]
  },
  {
   "cell_type": "markdown",
   "metadata": {},
   "source": [
    "A list comprehension creates a new list by applying an expression to each element of an iterable. The most basic\n",
    "form is:"
   ]
  },
  {
   "cell_type": "markdown",
   "metadata": {},
   "source": [
    "[ <'expression> for <`element> in <\"iterable\"> ]"
   ]
  },
  {
   "cell_type": "markdown",
   "metadata": {},
   "source": [
    "There's also an optional 'if' condition: "
   ]
  },
  {
   "cell_type": "markdown",
   "metadata": {},
   "source": [
    "[ <\"expression> for <\"element> in <\"iterable> if <\"condition> ]"
   ]
  },
  {
   "cell_type": "markdown",
   "metadata": {},
   "source": [
    "Each <\"element\"> in the <\"iterable\"> is plugged in to the <\"expression\"> if the (optional) <\"condition\"> evaluates to true\n",
    ". All results are returned at once in the new list. Generator expressions are evaluated lazily, but list comprehensions\n",
    "evaluate the entire iterator immediately - consuming memory proportional to the iterator's length."
   ]
  },
  {
   "cell_type": "markdown",
   "metadata": {},
   "source": [
    "To create a list of squared integers: "
   ]
  },
  {
   "cell_type": "code",
   "execution_count": 1,
   "metadata": {},
   "outputs": [],
   "source": [
    "squares = [x * x for x in (1, 2, 3, 4)]"
   ]
  },
  {
   "cell_type": "markdown",
   "metadata": {},
   "source": [
    "The for expression sets x to each value in turn from (1, 2, 3, 4). The result of the expression x * x is appended\n",
    "to an internal list. The internal list is assigned to the variable squares when completed."
   ]
  },
  {
   "cell_type": "markdown",
   "metadata": {},
   "source": [
    "Besides a speed increase (as explained here), a list comprehension is roughly equivalent to the following for-loop: "
   ]
  },
  {
   "cell_type": "code",
   "execution_count": 2,
   "metadata": {},
   "outputs": [],
   "source": [
    "squares = [] \n",
    "for x in (1,2,3,4):\n",
    "    squares.append(x) \n",
    "    "
   ]
  },
  {
   "cell_type": "code",
   "execution_count": 3,
   "metadata": {},
   "outputs": [
    {
     "data": {
      "text/plain": [
       "[1, 2, 3, 4]"
      ]
     },
     "execution_count": 3,
     "metadata": {},
     "output_type": "execute_result"
    }
   ],
   "source": [
    "squares"
   ]
  },
  {
   "cell_type": "markdown",
   "metadata": {},
   "source": [
    "The expression applied to each element can be as complex as needed: "
   ]
  },
  {
   "cell_type": "code",
   "execution_count": 4,
   "metadata": {},
   "outputs": [
    {
     "data": {
      "text/plain": [
       "['aBefiltuu', 'is', 'beertt', 'ahnt', 'gluy']"
      ]
     },
     "execution_count": 4,
     "metadata": {},
     "output_type": "execute_result"
    }
   ],
   "source": [
    "# Get a list of uppercase characters from a string\n",
    "[s.upper() for s in \"Hello World\"]\n",
    "# ['H', 'E', 'L', 'L', 'O', ' ', 'W', 'O', 'R', 'L', 'D']\n",
    "# Strip off any commas from the end of strings in a list\n",
    "[w.strip(\",\") for w in [\"these,\", \"words,,\", \"mostly\", \"have,commas,\"]]\n",
    "# ['these', 'words', 'mostly', 'have,commas']\n",
    "# Organize letters in words more reasonably - in an alphabetical order\n",
    "sentence = \"Beautiful is better than ugly\"\n",
    "[\"\".join(sorted(word, key=lambda x: x.lower())) for word in sentence.split()]\n",
    "# ['aBefiltuu', 'is', 'beertt', 'ahnt', 'gluy']"
   ]
  },
  {
   "cell_type": "markdown",
   "metadata": {},
   "source": [
    "###### else "
   ]
  },
  {
   "cell_type": "markdown",
   "metadata": {},
   "source": [
    "else can be used in List comprehension constructs, but be careful regarding the syntax. The if/else clauses should be used before for loop, not after:"
   ]
  },
  {
   "cell_type": "code",
   "execution_count": 5,
   "metadata": {},
   "outputs": [
    {
     "ename": "SyntaxError",
     "evalue": "invalid syntax (3610056486.py, line 1)",
     "output_type": "error",
     "traceback": [
      "\u001b[1;36m  Cell \u001b[1;32mIn[5], line 1\u001b[1;36m\u001b[0m\n\u001b[1;33m    [x for x in 'apple' if x in 'aeiou' else '*']\u001b[0m\n\u001b[1;37m                                        ^\u001b[0m\n\u001b[1;31mSyntaxError\u001b[0m\u001b[1;31m:\u001b[0m invalid syntax\n"
     ]
    }
   ],
   "source": [
    "[x for x in 'apple' if x in 'aeiou' else '*']"
   ]
  },
  {
   "cell_type": "code",
   "execution_count": 6,
   "metadata": {},
   "outputs": [
    {
     "data": {
      "text/plain": [
       "['a', '*', '*', '*', 'e']"
      ]
     },
     "execution_count": 6,
     "metadata": {},
     "output_type": "execute_result"
    }
   ],
   "source": [
    "[x if x in \"aeiou\" else \"*\" for x in \"apple\"]"
   ]
  },
  {
   "cell_type": "code",
   "execution_count": null,
   "metadata": {},
   "outputs": [],
   "source": []
  }
 ],
 "metadata": {
  "kernelspec": {
   "display_name": "Python 3",
   "language": "python",
   "name": "python3"
  },
  "language_info": {
   "codemirror_mode": {
    "name": "ipython",
    "version": 3
   },
   "file_extension": ".py",
   "mimetype": "text/x-python",
   "name": "python",
   "nbconvert_exporter": "python",
   "pygments_lexer": "ipython3",
   "version": "3.12.0"
  }
 },
 "nbformat": 4,
 "nbformat_minor": 2
}

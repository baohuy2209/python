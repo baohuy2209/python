{
 "cells": [
  {
   "cell_type": "markdown",
   "metadata": {},
   "source": [
    "# List comprehensions "
   ]
  },
  {
   "cell_type": "markdown",
   "metadata": {},
   "source": [
    "List comprehensions in Python are concise, syntactic constructs. They can be utilized to generate lists from other\n",
    "lists by applying functions to each element in the list. The following section explains and demonstrates the use of\n",
    "these expressions."
   ]
  },
  {
   "cell_type": "markdown",
   "metadata": {},
   "source": [
    "## 1) List comprehensions "
   ]
  },
  {
   "cell_type": "markdown",
   "metadata": {},
   "source": [
    "A list comprehension creates a new list by applying an expression to each element of an iterable. The most basic\n",
    "form is:"
   ]
  },
  {
   "cell_type": "markdown",
   "metadata": {},
   "source": [
    "[ <'expression> for <`element> in <\"iterable\"> ]"
   ]
  },
  {
   "cell_type": "markdown",
   "metadata": {},
   "source": [
    "There's also an optional 'if' condition: "
   ]
  },
  {
   "cell_type": "markdown",
   "metadata": {},
   "source": [
    "[ <\"expression> for <\"element> in <\"iterable> if <\"condition> ]"
   ]
  },
  {
   "cell_type": "markdown",
   "metadata": {},
   "source": [
    "Each <\"element\"> in the <\"iterable\"> is plugged in to the <\"expression\"> if the (optional) <\"condition\"> evaluates to true\n",
    ". All results are returned at once in the new list. Generator expressions are evaluated lazily, but list comprehensions\n",
    "evaluate the entire iterator immediately - consuming memory proportional to the iterator's length."
   ]
  },
  {
   "cell_type": "markdown",
   "metadata": {},
   "source": [
    "To create a list of squared integers: "
   ]
  },
  {
   "cell_type": "code",
   "execution_count": 1,
   "metadata": {},
   "outputs": [],
   "source": [
    "squares = [x * x for x in (1, 2, 3, 4)]"
   ]
  },
  {
   "cell_type": "markdown",
   "metadata": {},
   "source": [
    "The for expression sets x to each value in turn from (1, 2, 3, 4). The result of the expression x * x is appended\n",
    "to an internal list. The internal list is assigned to the variable squares when completed."
   ]
  },
  {
   "cell_type": "markdown",
   "metadata": {},
   "source": [
    "Besides a speed increase (as explained here), a list comprehension is roughly equivalent to the following for-loop: "
   ]
  },
  {
   "cell_type": "code",
   "execution_count": 2,
   "metadata": {},
   "outputs": [],
   "source": [
    "squares = [] \n",
    "for x in (1,2,3,4):\n",
    "    squares.append(x) \n",
    "    "
   ]
  },
  {
   "cell_type": "code",
   "execution_count": 3,
   "metadata": {},
   "outputs": [
    {
     "data": {
      "text/plain": [
       "[1, 2, 3, 4]"
      ]
     },
     "execution_count": 3,
     "metadata": {},
     "output_type": "execute_result"
    }
   ],
   "source": [
    "squares"
   ]
  },
  {
   "cell_type": "markdown",
   "metadata": {},
   "source": [
    "The expression applied to each element can be as complex as needed: "
   ]
  },
  {
   "cell_type": "code",
   "execution_count": 4,
   "metadata": {},
   "outputs": [
    {
     "data": {
      "text/plain": [
       "['aBefiltuu', 'is', 'beertt', 'ahnt', 'gluy']"
      ]
     },
     "execution_count": 4,
     "metadata": {},
     "output_type": "execute_result"
    }
   ],
   "source": [
    "# Get a list of uppercase characters from a string\n",
    "[s.upper() for s in \"Hello World\"]\n",
    "# ['H', 'E', 'L', 'L', 'O', ' ', 'W', 'O', 'R', 'L', 'D']\n",
    "# Strip off any commas from the end of strings in a list\n",
    "[w.strip(\",\") for w in [\"these,\", \"words,,\", \"mostly\", \"have,commas,\"]]\n",
    "# ['these', 'words', 'mostly', 'have,commas']\n",
    "# Organize letters in words more reasonably - in an alphabetical order\n",
    "sentence = \"Beautiful is better than ugly\"\n",
    "[\"\".join(sorted(word, key=lambda x: x.lower())) for word in sentence.split()]\n",
    "# ['aBefiltuu', 'is', 'beertt', 'ahnt', 'gluy']"
   ]
  },
  {
   "cell_type": "markdown",
   "metadata": {},
   "source": [
    "###### else "
   ]
  },
  {
   "cell_type": "markdown",
   "metadata": {},
   "source": [
    "else can be used in List comprehension constructs, but be careful regarding the syntax. The if/else clauses should be used before for loop, not after:"
   ]
  },
  {
   "cell_type": "code",
   "execution_count": 5,
   "metadata": {},
   "outputs": [
    {
     "ename": "SyntaxError",
     "evalue": "invalid syntax (3610056486.py, line 1)",
     "output_type": "error",
     "traceback": [
      "\u001b[1;36m  Cell \u001b[1;32mIn[5], line 1\u001b[1;36m\u001b[0m\n\u001b[1;33m    [x for x in 'apple' if x in 'aeiou' else '*']\u001b[0m\n\u001b[1;37m                                        ^\u001b[0m\n\u001b[1;31mSyntaxError\u001b[0m\u001b[1;31m:\u001b[0m invalid syntax\n"
     ]
    }
   ],
   "source": [
    "[x for x in 'apple' if x in 'aeiou' else '*']"
   ]
  },
  {
   "cell_type": "code",
   "execution_count": null,
   "metadata": {},
   "outputs": [
    {
     "data": {
      "text/plain": [
       "['a', '*', '*', '*', 'e']"
      ]
     },
     "execution_count": 6,
     "metadata": {},
     "output_type": "execute_result"
    }
   ],
   "source": [
    "[x if x in \"aeiou\" else \"*\" for x in \"apple\"]"
   ]
  },
  {
   "cell_type": "markdown",
   "metadata": {},
   "source": [
    "Note this uses a different language construct, a conditional expression, which itself is not part of the comprehension syntax. Whereas the if after the for in is a part of list comprehensions and use to filter elements from the source iterable. "
   ]
  },
  {
   "cell_type": "markdown",
   "metadata": {},
   "source": [
    "##### Doubble Iteration "
   ]
  },
  {
   "cell_type": "markdown",
   "metadata": {},
   "source": [
    "Order of double iteration [... for x in ... for y in ...] is either natural or counter-intuitive. The rule of thumb is to follow equivalent for loop: "
   ]
  },
  {
   "cell_type": "code",
   "execution_count": 7,
   "metadata": {},
   "outputs": [
    {
     "name": "stdout",
     "output_type": "stream",
     "text": [
      "0\n",
      "0.5\n",
      "1\n",
      "1.5\n",
      "2\n",
      "2.5\n"
     ]
    }
   ],
   "source": [
    "def foo(i): \n",
    "    return i, i+0.5 \n",
    "for i in range(3):\n",
    "    for x in foo(i): \n",
    "        print(str(x)) \n"
   ]
  },
  {
   "cell_type": "markdown",
   "metadata": {},
   "source": [
    "This becomes: "
   ]
  },
  {
   "cell_type": "code",
   "execution_count": 8,
   "metadata": {},
   "outputs": [
    {
     "data": {
      "text/plain": [
       "['0', '0.5', '1', '1.5', '2', '2.5']"
      ]
     },
     "execution_count": 8,
     "metadata": {},
     "output_type": "execute_result"
    }
   ],
   "source": [
    "[str(x) for i in range(3) for x in foo(i)]"
   ]
  },
  {
   "cell_type": "markdown",
   "metadata": {},
   "source": [
    "This can be compressed into one line as [str(x) for i in range(3) for x in foo(i)]"
   ]
  },
  {
   "cell_type": "markdown",
   "metadata": {},
   "source": [
    "##### In-place Mutation and Other Side Effects "
   ]
  },
  {
   "cell_type": "markdown",
   "metadata": {},
   "source": [
    "Before using list comprehension, understand the difference between functions called for their side effects (mutating, of in-place functions) which usually return None, and functions that return an interesting value. "
   ]
  },
  {
   "cell_type": "markdown",
   "metadata": {},
   "source": [
    "Many functions (especially pure functions) simply take an object and return some object. An in-place function\n",
    "modifies the existing object, which is called a side effect. Other examples include input and output operations such\n",
    "as printing"
   ]
  },
  {
   "cell_type": "markdown",
   "metadata": {},
   "source": [
    "list.sort() sorts a list in-place (meaning that it modifies the original list) and returns the value None. Therefore, it\n",
    "won't work as expected in a list comprehension:"
   ]
  },
  {
   "cell_type": "code",
   "execution_count": 9,
   "metadata": {},
   "outputs": [
    {
     "data": {
      "text/plain": [
       "[None, None, None]"
      ]
     },
     "execution_count": 9,
     "metadata": {},
     "output_type": "execute_result"
    }
   ],
   "source": [
    "[x.sort() for x in [[2,1], [4,3], [0,1]]] "
   ]
  },
  {
   "cell_type": "markdown",
   "metadata": {},
   "source": [
    "Instead, sorted() returns a sorted list rather than sorting in-place: "
   ]
  },
  {
   "cell_type": "code",
   "execution_count": 10,
   "metadata": {},
   "outputs": [
    {
     "data": {
      "text/plain": [
       "[[1, 2], [3, 4], [0, 1]]"
      ]
     },
     "execution_count": 10,
     "metadata": {},
     "output_type": "execute_result"
    }
   ],
   "source": [
    "[sorted(x) for x in [[2,1], [4,3], [0,1]]]"
   ]
  },
  {
   "cell_type": "markdown",
   "metadata": {},
   "source": [
    "Using comprehensions for side-effects is possible, such as I/O or in-place functions. Yet a for loop is usually more\n",
    "readable. While this works in Python 3:"
   ]
  },
  {
   "cell_type": "code",
   "execution_count": 11,
   "metadata": {},
   "outputs": [
    {
     "name": "stdout",
     "output_type": "stream",
     "text": [
      "1\n",
      "2\n",
      "3\n"
     ]
    },
    {
     "data": {
      "text/plain": [
       "[None, None, None]"
      ]
     },
     "execution_count": 11,
     "metadata": {},
     "output_type": "execute_result"
    }
   ],
   "source": [
    "[print(x) for x in (1,2,3)]"
   ]
  },
  {
   "cell_type": "markdown",
   "metadata": {},
   "source": [
    "Instead use: \n"
   ]
  },
  {
   "cell_type": "code",
   "execution_count": 12,
   "metadata": {},
   "outputs": [
    {
     "name": "stdout",
     "output_type": "stream",
     "text": [
      "1\n",
      "2\n",
      "3\n"
     ]
    }
   ],
   "source": [
    "for x in (1,2,3): \n",
    "    print(x)"
   ]
  },
  {
   "cell_type": "markdown",
   "metadata": {},
   "source": [
    "In some situations, side effect functions are suitable for list comprehension. random.randrange() has the side\n",
    "effect of changing the state of the random number generator, but it also returns an interesting value. Additionally,\n",
    "next() can be called on an iterator."
   ]
  },
  {
   "cell_type": "markdown",
   "metadata": {},
   "source": [
    "The following random value generator is not pure, yet makes sense as the random generator is reset every time the\n",
    "expression is evaluated:"
   ]
  },
  {
   "cell_type": "code",
   "execution_count": 14,
   "metadata": {},
   "outputs": [
    {
     "data": {
      "text/plain": [
       "[1, 5, 4, 4, 3, 6, 5, 3, 3, 2]"
      ]
     },
     "execution_count": 14,
     "metadata": {},
     "output_type": "execute_result"
    }
   ],
   "source": [
    "from random import randrange \n",
    "[randrange(1,7) for _ in range(10)]"
   ]
  },
  {
   "cell_type": "code",
   "execution_count": 15,
   "metadata": {},
   "outputs": [
    {
     "data": {
      "text/plain": [
       "[14,\n",
       " 3,\n",
       " 8,\n",
       " 4,\n",
       " 17,\n",
       " 9,\n",
       " 8,\n",
       " 11,\n",
       " 14,\n",
       " 4,\n",
       " 19,\n",
       " 1,\n",
       " 3,\n",
       " 8,\n",
       " 1,\n",
       " 2,\n",
       " 10,\n",
       " 14,\n",
       " 7,\n",
       " 19,\n",
       " 17,\n",
       " 14,\n",
       " 15,\n",
       " 16,\n",
       " 1,\n",
       " 18,\n",
       " 6,\n",
       " 8,\n",
       " 9,\n",
       " 8,\n",
       " 14,\n",
       " 1,\n",
       " 19,\n",
       " 8,\n",
       " 19,\n",
       " 7,\n",
       " 8,\n",
       " 12,\n",
       " 2,\n",
       " 8,\n",
       " 16,\n",
       " 13,\n",
       " 14,\n",
       " 11,\n",
       " 2,\n",
       " 19,\n",
       " 16,\n",
       " 3,\n",
       " 17,\n",
       " 17,\n",
       " 4,\n",
       " 4,\n",
       " 2,\n",
       " 17,\n",
       " 5,\n",
       " 11,\n",
       " 16,\n",
       " 5,\n",
       " 4,\n",
       " 8,\n",
       " 4,\n",
       " 19,\n",
       " 4,\n",
       " 10,\n",
       " 5,\n",
       " 3,\n",
       " 8,\n",
       " 5,\n",
       " 10,\n",
       " 18,\n",
       " 18,\n",
       " 1,\n",
       " 16,\n",
       " 9,\n",
       " 8,\n",
       " 10,\n",
       " 14,\n",
       " 6,\n",
       " 8,\n",
       " 11,\n",
       " 10,\n",
       " 14,\n",
       " 2,\n",
       " 11,\n",
       " 6,\n",
       " 12,\n",
       " 17,\n",
       " 19,\n",
       " 7,\n",
       " 4,\n",
       " 12,\n",
       " 9,\n",
       " 13,\n",
       " 5,\n",
       " 9,\n",
       " 17,\n",
       " 19,\n",
       " 2,\n",
       " 8,\n",
       " 8]"
      ]
     },
     "execution_count": 15,
     "metadata": {},
     "output_type": "execute_result"
    }
   ],
   "source": [
    "[randrange(1,20) for _ in range(100)]"
   ]
  },
  {
   "cell_type": "markdown",
   "metadata": {},
   "source": [
    "##### Whitespace in list comprehensions "
   ]
  },
  {
   "cell_type": "markdown",
   "metadata": {},
   "source": [
    "More complicated list comprehensions can reach an undesired length, or become less readable. Although less common in examples, it is possible to break a list comprehension into multiple lines like so: "
   ]
  },
  {
   "cell_type": "code",
   "execution_count": 16,
   "metadata": {},
   "outputs": [
    {
     "data": {
      "text/plain": [
       "['f', 'o', 'o']"
      ]
     },
     "execution_count": 16,
     "metadata": {},
     "output_type": "execute_result"
    }
   ],
   "source": [
    "[\n",
    "    x for x in 'foo' if x not in 'bar' \n",
    "]"
   ]
  },
  {
   "cell_type": "markdown",
   "metadata": {},
   "source": [
    "## 2) Conditional List comprehensions "
   ]
  },
  {
   "cell_type": "markdown",
   "metadata": {},
   "source": [
    "Given a list comprehension you can append one or more if conditions to filter values."
   ]
  },
  {
   "cell_type": "markdown",
   "metadata": {},
   "source": [
    "[<\"expression\"> for <\"element\"> in <\"iterable\"> if <\"condition\">]"
   ]
  },
  {
   "cell_type": "markdown",
   "metadata": {},
   "source": [
    "For each <\"element\"> in <\"iterable\">; if <\"conditio\"n> evaluates to True, add <\"expression\"> (usually a function of\n",
    "<\"element\">) to the returned list."
   ]
  },
  {
   "cell_type": "markdown",
   "metadata": {},
   "source": [
    "For example, this can be used to extract only even numbers from a sequence of integers: "
   ]
  },
  {
   "cell_type": "code",
   "execution_count": 17,
   "metadata": {},
   "outputs": [
    {
     "data": {
      "text/plain": [
       "[0, 2, 4, 6, 8]"
      ]
     },
     "execution_count": 17,
     "metadata": {},
     "output_type": "execute_result"
    }
   ],
   "source": [
    "[x for x in range(10) if x%2 == 0] "
   ]
  },
  {
   "cell_type": "markdown",
   "metadata": {},
   "source": [
    "The above code is equivalent to: "
   ]
  },
  {
   "cell_type": "code",
   "execution_count": 18,
   "metadata": {},
   "outputs": [],
   "source": [
    "even_numbers = []"
   ]
  },
  {
   "cell_type": "code",
   "execution_count": 19,
   "metadata": {},
   "outputs": [],
   "source": [
    "for x in range(10):\n",
    "    if x%2 == 0: \n",
    "        even_numbers.append(x) \n"
   ]
  },
  {
   "cell_type": "code",
   "execution_count": 20,
   "metadata": {},
   "outputs": [
    {
     "name": "stdout",
     "output_type": "stream",
     "text": [
      "[0, 2, 4, 6, 8]\n"
     ]
    }
   ],
   "source": [
    "print(even_numbers) "
   ]
  },
  {
   "cell_type": "markdown",
   "metadata": {},
   "source": [
    "Also, a conditional list comprehension of the form [e for x in y if c] (where e and c are expressions in terms of\n",
    "x) is equivalent to list(filter(lambda x: c, map(lambda x: e, y)))"
   ]
  },
  {
   "cell_type": "markdown",
   "metadata": {},
   "source": [
    "Despite providing the same result, pay attention to the fact that the former example is almost 2x faster than the\n",
    "latter one. For those who are curious, this is a nice explanation of the reason why."
   ]
  },
  {
   "cell_type": "markdown",
   "metadata": {},
   "source": [
    "Note that this is quite different from the ... if ... else ... conditional expression (sometimes known as a\n",
    "ternary expression) that you can use for the <expression> part of the list comprehension. Consider the following\n",
    "example:"
   ]
  },
  {
   "cell_type": "code",
   "execution_count": 21,
   "metadata": {},
   "outputs": [
    {
     "data": {
      "text/plain": [
       "[0, None, 2, None, 4, None, 6, None, 8, None]"
      ]
     },
     "execution_count": 21,
     "metadata": {},
     "output_type": "execute_result"
    }
   ],
   "source": [
    "[x if x % 2 == 0 else None for x in range(10)]"
   ]
  },
  {
   "cell_type": "markdown",
   "metadata": {},
   "source": [
    "Here the conditional expression isn't a filter, but rather an operator determining the value to be used for the list\n",
    "items:"
   ]
  },
  {
   "cell_type": "markdown",
   "metadata": {},
   "source": [
    "<\"value-if-condition-is-true\"> if <\"condition\"> else <\"value-if-condition-is-false\">"
   ]
  },
  {
   "cell_type": "markdown",
   "metadata": {},
   "source": [
    "This becomes more obvious if you combine it with other operators:"
   ]
  },
  {
   "cell_type": "code",
   "execution_count": 22,
   "metadata": {},
   "outputs": [
    {
     "data": {
      "text/plain": [
       "[1, -1, 5, -1, 9, -1, 13, -1, 17, -1]"
      ]
     },
     "execution_count": 22,
     "metadata": {},
     "output_type": "execute_result"
    }
   ],
   "source": [
    "[2 * (x if x % 2 == 0 else -1) + 1 for x in range(10)]"
   ]
  },
  {
   "cell_type": "markdown",
   "metadata": {},
   "source": [
    "The above code is equivalent to: \n"
   ]
  },
  {
   "cell_type": "code",
   "execution_count": 23,
   "metadata": {},
   "outputs": [
    {
     "name": "stdout",
     "output_type": "stream",
     "text": [
      "[0, -1, 2, -1, 4, -1, 6, -1, 8, -1]\n"
     ]
    }
   ],
   "source": [
    "numbers = [] \n",
    "for x in range(10): \n",
    "    if x%2 == 0: \n",
    "        temp = x \n",
    "    else: \n",
    "        temp = -1 \n",
    "    numbers.append(temp)\n",
    "print(numbers) "
   ]
  },
  {
   "cell_type": "markdown",
   "metadata": {},
   "source": [
    "One can combine ternary expressions and if conditions. The ternary operator works on the filtered result:"
   ]
  },
  {
   "cell_type": "code",
   "execution_count": 24,
   "metadata": {},
   "outputs": [
    {
     "data": {
      "text/plain": [
       "['*', '*', 4, 6, 8]"
      ]
     },
     "execution_count": 24,
     "metadata": {},
     "output_type": "execute_result"
    }
   ],
   "source": [
    "[x if x > 2 else '*' for x in range(10) if x%2 == 0] "
   ]
  },
  {
   "cell_type": "markdown",
   "metadata": {},
   "source": [
    "The same couldn't have been achieved just by ternary operator only: "
   ]
  },
  {
   "cell_type": "code",
   "execution_count": 25,
   "metadata": {},
   "outputs": [
    {
     "data": {
      "text/plain": [
       "['*', '*', '*', '*', 4, '*', 6, '*', 8, '*']"
      ]
     },
     "execution_count": 25,
     "metadata": {},
     "output_type": "execute_result"
    }
   ],
   "source": [
    "[x if (x > 2 and x%2 == 0) else '*' for x in range(10)]"
   ]
  },
  {
   "cell_type": "markdown",
   "metadata": {},
   "source": [
    "See also: Filters, which often provide a sufficient alternative to conditional list comprehensions."
   ]
  },
  {
   "cell_type": "markdown",
   "metadata": {},
   "source": [
    "## 3) Avoid repetitive and expensive operations using conditional clause "
   ]
  },
  {
   "cell_type": "markdown",
   "metadata": {},
   "source": [
    "Consider the below list comprehension: \n"
   ]
  },
  {
   "cell_type": "code",
   "execution_count": 26,
   "metadata": {},
   "outputs": [
    {
     "data": {
      "text/plain": [
       "[16,\n",
       " 25,\n",
       " 36,\n",
       " 49,\n",
       " 64,\n",
       " 81,\n",
       " 100,\n",
       " 121,\n",
       " 144,\n",
       " 169,\n",
       " 196,\n",
       " 225,\n",
       " 256,\n",
       " 289,\n",
       " 324,\n",
       " 361,\n",
       " 400,\n",
       " 441,\n",
       " 484,\n",
       " 529,\n",
       " 576,\n",
       " 625,\n",
       " 676,\n",
       " 729,\n",
       " 784,\n",
       " 841,\n",
       " 900,\n",
       " 961,\n",
       " 1024,\n",
       " 1089,\n",
       " 1156,\n",
       " 1225,\n",
       " 1296,\n",
       " 1369,\n",
       " 1444,\n",
       " 1521,\n",
       " 1600,\n",
       " 1681,\n",
       " 1764,\n",
       " 1849,\n",
       " 1936,\n",
       " 2025,\n",
       " 2116,\n",
       " 2209,\n",
       " 2304,\n",
       " 2401,\n",
       " 2500,\n",
       " 2601,\n",
       " 2704,\n",
       " 2809,\n",
       " 2916,\n",
       " 3025,\n",
       " 3136,\n",
       " 3249,\n",
       " 3364,\n",
       " 3481,\n",
       " 3600,\n",
       " 3721,\n",
       " 3844,\n",
       " 3969,\n",
       " 4096,\n",
       " 4225,\n",
       " 4356,\n",
       " 4489,\n",
       " 4624,\n",
       " 4761,\n",
       " 4900,\n",
       " 5041,\n",
       " 5184,\n",
       " 5329,\n",
       " 5476,\n",
       " 5625,\n",
       " 5776,\n",
       " 5929,\n",
       " 6084,\n",
       " 6241,\n",
       " 6400,\n",
       " 6561,\n",
       " 6724,\n",
       " 6889,\n",
       " 7056,\n",
       " 7225,\n",
       " 7396,\n",
       " 7569,\n",
       " 7744,\n",
       " 7921,\n",
       " 8100,\n",
       " 8281,\n",
       " 8464,\n",
       " 8649,\n",
       " 8836,\n",
       " 9025,\n",
       " 9216,\n",
       " 9409,\n",
       " 9604,\n",
       " 9801,\n",
       " 10000,\n",
       " 10201,\n",
       " 10404,\n",
       " 10609,\n",
       " 10816,\n",
       " 11025,\n",
       " 11236,\n",
       " 11449,\n",
       " 11664,\n",
       " 11881,\n",
       " 12100,\n",
       " 12321,\n",
       " 12544,\n",
       " 12769,\n",
       " 12996,\n",
       " 13225,\n",
       " 13456,\n",
       " 13689,\n",
       " 13924,\n",
       " 14161,\n",
       " 14400,\n",
       " 14641,\n",
       " 14884,\n",
       " 15129,\n",
       " 15376,\n",
       " 15625,\n",
       " 15876,\n",
       " 16129,\n",
       " 16384,\n",
       " 16641,\n",
       " 16900,\n",
       " 17161,\n",
       " 17424,\n",
       " 17689,\n",
       " 17956,\n",
       " 18225,\n",
       " 18496,\n",
       " 18769,\n",
       " 19044,\n",
       " 19321,\n",
       " 19600,\n",
       " 19881,\n",
       " 20164,\n",
       " 20449,\n",
       " 20736,\n",
       " 21025,\n",
       " 21316,\n",
       " 21609,\n",
       " 21904,\n",
       " 22201,\n",
       " 22500,\n",
       " 22801,\n",
       " 23104,\n",
       " 23409,\n",
       " 23716,\n",
       " 24025,\n",
       " 24336,\n",
       " 24649,\n",
       " 24964,\n",
       " 25281,\n",
       " 25600,\n",
       " 25921,\n",
       " 26244,\n",
       " 26569,\n",
       " 26896,\n",
       " 27225,\n",
       " 27556,\n",
       " 27889,\n",
       " 28224,\n",
       " 28561,\n",
       " 28900,\n",
       " 29241,\n",
       " 29584,\n",
       " 29929,\n",
       " 30276,\n",
       " 30625,\n",
       " 30976,\n",
       " 31329,\n",
       " 31684,\n",
       " 32041,\n",
       " 32400,\n",
       " 32761,\n",
       " 33124,\n",
       " 33489,\n",
       " 33856,\n",
       " 34225,\n",
       " 34596,\n",
       " 34969,\n",
       " 35344,\n",
       " 35721,\n",
       " 36100,\n",
       " 36481,\n",
       " 36864,\n",
       " 37249,\n",
       " 37636,\n",
       " 38025,\n",
       " 38416,\n",
       " 38809,\n",
       " 39204,\n",
       " 39601,\n",
       " 40000,\n",
       " 40401,\n",
       " 40804,\n",
       " 41209,\n",
       " 41616,\n",
       " 42025,\n",
       " 42436,\n",
       " 42849,\n",
       " 43264,\n",
       " 43681,\n",
       " 44100,\n",
       " 44521,\n",
       " 44944,\n",
       " 45369,\n",
       " 45796,\n",
       " 46225,\n",
       " 46656,\n",
       " 47089,\n",
       " 47524,\n",
       " 47961,\n",
       " 48400,\n",
       " 48841,\n",
       " 49284,\n",
       " 49729,\n",
       " 50176,\n",
       " 50625,\n",
       " 51076,\n",
       " 51529,\n",
       " 51984,\n",
       " 52441,\n",
       " 52900,\n",
       " 53361,\n",
       " 53824,\n",
       " 54289,\n",
       " 54756,\n",
       " 55225,\n",
       " 55696,\n",
       " 56169,\n",
       " 56644,\n",
       " 57121,\n",
       " 57600,\n",
       " 58081,\n",
       " 58564,\n",
       " 59049,\n",
       " 59536,\n",
       " 60025,\n",
       " 60516,\n",
       " 61009,\n",
       " 61504,\n",
       " 62001,\n",
       " 62500,\n",
       " 63001,\n",
       " 63504,\n",
       " 64009,\n",
       " 64516,\n",
       " 65025,\n",
       " 65536,\n",
       " 66049,\n",
       " 66564,\n",
       " 67081,\n",
       " 67600,\n",
       " 68121,\n",
       " 68644,\n",
       " 69169,\n",
       " 69696,\n",
       " 70225,\n",
       " 70756,\n",
       " 71289,\n",
       " 71824,\n",
       " 72361,\n",
       " 72900,\n",
       " 73441,\n",
       " 73984,\n",
       " 74529,\n",
       " 75076,\n",
       " 75625,\n",
       " 76176,\n",
       " 76729,\n",
       " 77284,\n",
       " 77841,\n",
       " 78400,\n",
       " 78961,\n",
       " 79524,\n",
       " 80089,\n",
       " 80656,\n",
       " 81225,\n",
       " 81796,\n",
       " 82369,\n",
       " 82944,\n",
       " 83521,\n",
       " 84100,\n",
       " 84681,\n",
       " 85264,\n",
       " 85849,\n",
       " 86436,\n",
       " 87025,\n",
       " 87616,\n",
       " 88209,\n",
       " 88804,\n",
       " 89401,\n",
       " 90000,\n",
       " 90601,\n",
       " 91204,\n",
       " 91809,\n",
       " 92416,\n",
       " 93025,\n",
       " 93636,\n",
       " 94249,\n",
       " 94864,\n",
       " 95481,\n",
       " 96100,\n",
       " 96721,\n",
       " 97344,\n",
       " 97969,\n",
       " 98596,\n",
       " 99225,\n",
       " 99856,\n",
       " 100489,\n",
       " 101124,\n",
       " 101761,\n",
       " 102400,\n",
       " 103041,\n",
       " 103684,\n",
       " 104329,\n",
       " 104976,\n",
       " 105625,\n",
       " 106276,\n",
       " 106929,\n",
       " 107584,\n",
       " 108241,\n",
       " 108900,\n",
       " 109561,\n",
       " 110224,\n",
       " 110889,\n",
       " 111556,\n",
       " 112225,\n",
       " 112896,\n",
       " 113569,\n",
       " 114244,\n",
       " 114921,\n",
       " 115600,\n",
       " 116281,\n",
       " 116964,\n",
       " 117649,\n",
       " 118336,\n",
       " 119025,\n",
       " 119716,\n",
       " 120409,\n",
       " 121104,\n",
       " 121801,\n",
       " 122500,\n",
       " 123201,\n",
       " 123904,\n",
       " 124609,\n",
       " 125316,\n",
       " 126025,\n",
       " 126736,\n",
       " 127449,\n",
       " 128164,\n",
       " 128881,\n",
       " 129600,\n",
       " 130321,\n",
       " 131044,\n",
       " 131769,\n",
       " 132496,\n",
       " 133225,\n",
       " 133956,\n",
       " 134689,\n",
       " 135424,\n",
       " 136161,\n",
       " 136900,\n",
       " 137641,\n",
       " 138384,\n",
       " 139129,\n",
       " 139876,\n",
       " 140625,\n",
       " 141376,\n",
       " 142129,\n",
       " 142884,\n",
       " 143641,\n",
       " 144400,\n",
       " 145161,\n",
       " 145924,\n",
       " 146689,\n",
       " 147456,\n",
       " 148225,\n",
       " 148996,\n",
       " 149769,\n",
       " 150544,\n",
       " 151321,\n",
       " 152100,\n",
       " 152881,\n",
       " 153664,\n",
       " 154449,\n",
       " 155236,\n",
       " 156025,\n",
       " 156816,\n",
       " 157609,\n",
       " 158404,\n",
       " 159201,\n",
       " 160000,\n",
       " 160801,\n",
       " 161604,\n",
       " 162409,\n",
       " 163216,\n",
       " 164025,\n",
       " 164836,\n",
       " 165649,\n",
       " 166464,\n",
       " 167281,\n",
       " 168100,\n",
       " 168921,\n",
       " 169744,\n",
       " 170569,\n",
       " 171396,\n",
       " 172225,\n",
       " 173056,\n",
       " 173889,\n",
       " 174724,\n",
       " 175561,\n",
       " 176400,\n",
       " 177241,\n",
       " 178084,\n",
       " 178929,\n",
       " 179776,\n",
       " 180625,\n",
       " 181476,\n",
       " 182329,\n",
       " 183184,\n",
       " 184041,\n",
       " 184900,\n",
       " 185761,\n",
       " 186624,\n",
       " 187489,\n",
       " 188356,\n",
       " 189225,\n",
       " 190096,\n",
       " 190969,\n",
       " 191844,\n",
       " 192721,\n",
       " 193600,\n",
       " 194481,\n",
       " 195364,\n",
       " 196249,\n",
       " 197136,\n",
       " 198025,\n",
       " 198916,\n",
       " 199809,\n",
       " 200704,\n",
       " 201601,\n",
       " 202500,\n",
       " 203401,\n",
       " 204304,\n",
       " 205209,\n",
       " 206116,\n",
       " 207025,\n",
       " 207936,\n",
       " 208849,\n",
       " 209764,\n",
       " 210681,\n",
       " 211600,\n",
       " 212521,\n",
       " 213444,\n",
       " 214369,\n",
       " 215296,\n",
       " 216225,\n",
       " 217156,\n",
       " 218089,\n",
       " 219024,\n",
       " 219961,\n",
       " 220900,\n",
       " 221841,\n",
       " 222784,\n",
       " 223729,\n",
       " 224676,\n",
       " 225625,\n",
       " 226576,\n",
       " 227529,\n",
       " 228484,\n",
       " 229441,\n",
       " 230400,\n",
       " 231361,\n",
       " 232324,\n",
       " 233289,\n",
       " 234256,\n",
       " 235225,\n",
       " 236196,\n",
       " 237169,\n",
       " 238144,\n",
       " 239121,\n",
       " 240100,\n",
       " 241081,\n",
       " 242064,\n",
       " 243049,\n",
       " 244036,\n",
       " 245025,\n",
       " 246016,\n",
       " 247009,\n",
       " 248004,\n",
       " 249001,\n",
       " 250000,\n",
       " 251001,\n",
       " 252004,\n",
       " 253009,\n",
       " 254016,\n",
       " 255025,\n",
       " 256036,\n",
       " 257049,\n",
       " 258064,\n",
       " 259081,\n",
       " 260100,\n",
       " 261121,\n",
       " 262144,\n",
       " 263169,\n",
       " 264196,\n",
       " 265225,\n",
       " 266256,\n",
       " 267289,\n",
       " 268324,\n",
       " 269361,\n",
       " 270400,\n",
       " 271441,\n",
       " 272484,\n",
       " 273529,\n",
       " 274576,\n",
       " 275625,\n",
       " 276676,\n",
       " 277729,\n",
       " 278784,\n",
       " 279841,\n",
       " 280900,\n",
       " 281961,\n",
       " 283024,\n",
       " 284089,\n",
       " 285156,\n",
       " 286225,\n",
       " 287296,\n",
       " 288369,\n",
       " 289444,\n",
       " 290521,\n",
       " 291600,\n",
       " 292681,\n",
       " 293764,\n",
       " 294849,\n",
       " 295936,\n",
       " 297025,\n",
       " 298116,\n",
       " 299209,\n",
       " 300304,\n",
       " 301401,\n",
       " 302500,\n",
       " 303601,\n",
       " 304704,\n",
       " 305809,\n",
       " 306916,\n",
       " 308025,\n",
       " 309136,\n",
       " 310249,\n",
       " 311364,\n",
       " 312481,\n",
       " 313600,\n",
       " 314721,\n",
       " 315844,\n",
       " 316969,\n",
       " 318096,\n",
       " 319225,\n",
       " 320356,\n",
       " 321489,\n",
       " 322624,\n",
       " 323761,\n",
       " 324900,\n",
       " 326041,\n",
       " 327184,\n",
       " 328329,\n",
       " 329476,\n",
       " 330625,\n",
       " 331776,\n",
       " 332929,\n",
       " 334084,\n",
       " 335241,\n",
       " 336400,\n",
       " 337561,\n",
       " 338724,\n",
       " 339889,\n",
       " 341056,\n",
       " 342225,\n",
       " 343396,\n",
       " 344569,\n",
       " 345744,\n",
       " 346921,\n",
       " 348100,\n",
       " 349281,\n",
       " 350464,\n",
       " 351649,\n",
       " 352836,\n",
       " 354025,\n",
       " 355216,\n",
       " 356409,\n",
       " 357604,\n",
       " 358801,\n",
       " 360000,\n",
       " 361201,\n",
       " 362404,\n",
       " 363609,\n",
       " 364816,\n",
       " 366025,\n",
       " 367236,\n",
       " 368449,\n",
       " 369664,\n",
       " 370881,\n",
       " 372100,\n",
       " 373321,\n",
       " 374544,\n",
       " 375769,\n",
       " 376996,\n",
       " 378225,\n",
       " 379456,\n",
       " 380689,\n",
       " 381924,\n",
       " 383161,\n",
       " 384400,\n",
       " 385641,\n",
       " 386884,\n",
       " 388129,\n",
       " 389376,\n",
       " 390625,\n",
       " 391876,\n",
       " 393129,\n",
       " 394384,\n",
       " 395641,\n",
       " 396900,\n",
       " 398161,\n",
       " 399424,\n",
       " 400689,\n",
       " 401956,\n",
       " 403225,\n",
       " 404496,\n",
       " 405769,\n",
       " 407044,\n",
       " 408321,\n",
       " 409600,\n",
       " 410881,\n",
       " 412164,\n",
       " 413449,\n",
       " 414736,\n",
       " 416025,\n",
       " 417316,\n",
       " 418609,\n",
       " 419904,\n",
       " 421201,\n",
       " 422500,\n",
       " 423801,\n",
       " 425104,\n",
       " 426409,\n",
       " 427716,\n",
       " 429025,\n",
       " 430336,\n",
       " 431649,\n",
       " 432964,\n",
       " 434281,\n",
       " 435600,\n",
       " 436921,\n",
       " 438244,\n",
       " 439569,\n",
       " 440896,\n",
       " 442225,\n",
       " 443556,\n",
       " 444889,\n",
       " 446224,\n",
       " 447561,\n",
       " 448900,\n",
       " 450241,\n",
       " 451584,\n",
       " 452929,\n",
       " 454276,\n",
       " 455625,\n",
       " 456976,\n",
       " 458329,\n",
       " 459684,\n",
       " 461041,\n",
       " 462400,\n",
       " 463761,\n",
       " 465124,\n",
       " 466489,\n",
       " 467856,\n",
       " 469225,\n",
       " 470596,\n",
       " 471969,\n",
       " 473344,\n",
       " 474721,\n",
       " 476100,\n",
       " 477481,\n",
       " 478864,\n",
       " 480249,\n",
       " 481636,\n",
       " 483025,\n",
       " 484416,\n",
       " 485809,\n",
       " 487204,\n",
       " 488601,\n",
       " 490000,\n",
       " 491401,\n",
       " 492804,\n",
       " 494209,\n",
       " 495616,\n",
       " 497025,\n",
       " 498436,\n",
       " 499849,\n",
       " 501264,\n",
       " 502681,\n",
       " 504100,\n",
       " 505521,\n",
       " 506944,\n",
       " 508369,\n",
       " 509796,\n",
       " 511225,\n",
       " 512656,\n",
       " 514089,\n",
       " 515524,\n",
       " 516961,\n",
       " 518400,\n",
       " 519841,\n",
       " 521284,\n",
       " 522729,\n",
       " 524176,\n",
       " 525625,\n",
       " 527076,\n",
       " 528529,\n",
       " 529984,\n",
       " 531441,\n",
       " 532900,\n",
       " 534361,\n",
       " 535824,\n",
       " 537289,\n",
       " 538756,\n",
       " 540225,\n",
       " 541696,\n",
       " 543169,\n",
       " 544644,\n",
       " 546121,\n",
       " 547600,\n",
       " 549081,\n",
       " 550564,\n",
       " 552049,\n",
       " 553536,\n",
       " 555025,\n",
       " 556516,\n",
       " 558009,\n",
       " 559504,\n",
       " 561001,\n",
       " 562500,\n",
       " 564001,\n",
       " 565504,\n",
       " 567009,\n",
       " 568516,\n",
       " 570025,\n",
       " 571536,\n",
       " 573049,\n",
       " 574564,\n",
       " 576081,\n",
       " 577600,\n",
       " 579121,\n",
       " 580644,\n",
       " 582169,\n",
       " 583696,\n",
       " 585225,\n",
       " 586756,\n",
       " 588289,\n",
       " 589824,\n",
       " 591361,\n",
       " 592900,\n",
       " 594441,\n",
       " 595984,\n",
       " 597529,\n",
       " 599076,\n",
       " 600625,\n",
       " 602176,\n",
       " 603729,\n",
       " 605284,\n",
       " 606841,\n",
       " 608400,\n",
       " 609961,\n",
       " 611524,\n",
       " 613089,\n",
       " 614656,\n",
       " 616225,\n",
       " 617796,\n",
       " 619369,\n",
       " 620944,\n",
       " 622521,\n",
       " 624100,\n",
       " 625681,\n",
       " 627264,\n",
       " 628849,\n",
       " 630436,\n",
       " 632025,\n",
       " 633616,\n",
       " 635209,\n",
       " 636804,\n",
       " 638401,\n",
       " 640000,\n",
       " 641601,\n",
       " 643204,\n",
       " 644809,\n",
       " 646416,\n",
       " 648025,\n",
       " 649636,\n",
       " 651249,\n",
       " 652864,\n",
       " 654481,\n",
       " 656100,\n",
       " 657721,\n",
       " 659344,\n",
       " 660969,\n",
       " 662596,\n",
       " 664225,\n",
       " 665856,\n",
       " 667489,\n",
       " 669124,\n",
       " 670761,\n",
       " 672400,\n",
       " 674041,\n",
       " 675684,\n",
       " 677329,\n",
       " 678976,\n",
       " 680625,\n",
       " 682276,\n",
       " 683929,\n",
       " 685584,\n",
       " 687241,\n",
       " 688900,\n",
       " 690561,\n",
       " 692224,\n",
       " 693889,\n",
       " 695556,\n",
       " 697225,\n",
       " 698896,\n",
       " 700569,\n",
       " 702244,\n",
       " 703921,\n",
       " 705600,\n",
       " 707281,\n",
       " 708964,\n",
       " 710649,\n",
       " 712336,\n",
       " 714025,\n",
       " 715716,\n",
       " 717409,\n",
       " 719104,\n",
       " 720801,\n",
       " 722500,\n",
       " 724201,\n",
       " 725904,\n",
       " 727609,\n",
       " 729316,\n",
       " 731025,\n",
       " 732736,\n",
       " 734449,\n",
       " 736164,\n",
       " 737881,\n",
       " 739600,\n",
       " 741321,\n",
       " 743044,\n",
       " 744769,\n",
       " 746496,\n",
       " 748225,\n",
       " 749956,\n",
       " 751689,\n",
       " 753424,\n",
       " 755161,\n",
       " 756900,\n",
       " 758641,\n",
       " 760384,\n",
       " 762129,\n",
       " 763876,\n",
       " 765625,\n",
       " 767376,\n",
       " 769129,\n",
       " 770884,\n",
       " 772641,\n",
       " 774400,\n",
       " 776161,\n",
       " 777924,\n",
       " 779689,\n",
       " 781456,\n",
       " 783225,\n",
       " 784996,\n",
       " 786769,\n",
       " 788544,\n",
       " 790321,\n",
       " 792100,\n",
       " 793881,\n",
       " 795664,\n",
       " 797449,\n",
       " 799236,\n",
       " 801025,\n",
       " 802816,\n",
       " 804609,\n",
       " 806404,\n",
       " 808201,\n",
       " 810000,\n",
       " 811801,\n",
       " 813604,\n",
       " 815409,\n",
       " 817216,\n",
       " 819025,\n",
       " 820836,\n",
       " 822649,\n",
       " 824464,\n",
       " 826281,\n",
       " 828100,\n",
       " 829921,\n",
       " 831744,\n",
       " 833569,\n",
       " 835396,\n",
       " 837225,\n",
       " 839056,\n",
       " 840889,\n",
       " 842724,\n",
       " 844561,\n",
       " 846400,\n",
       " 848241,\n",
       " 850084,\n",
       " 851929,\n",
       " 853776,\n",
       " 855625,\n",
       " 857476,\n",
       " 859329,\n",
       " 861184,\n",
       " 863041,\n",
       " 864900,\n",
       " 866761,\n",
       " 868624,\n",
       " 870489,\n",
       " 872356,\n",
       " 874225,\n",
       " 876096,\n",
       " 877969,\n",
       " 879844,\n",
       " 881721,\n",
       " 883600,\n",
       " 885481,\n",
       " 887364,\n",
       " 889249,\n",
       " 891136,\n",
       " 893025,\n",
       " 894916,\n",
       " 896809,\n",
       " 898704,\n",
       " 900601,\n",
       " 902500,\n",
       " 904401,\n",
       " 906304,\n",
       " 908209,\n",
       " 910116,\n",
       " 912025,\n",
       " 913936,\n",
       " 915849,\n",
       " 917764,\n",
       " 919681,\n",
       " 921600,\n",
       " 923521,\n",
       " 925444,\n",
       " 927369,\n",
       " 929296,\n",
       " 931225,\n",
       " 933156,\n",
       " 935089,\n",
       " 937024,\n",
       " 938961,\n",
       " 940900,\n",
       " 942841,\n",
       " 944784,\n",
       " 946729,\n",
       " 948676,\n",
       " 950625,\n",
       " 952576,\n",
       " 954529,\n",
       " 956484,\n",
       " 958441,\n",
       " 960400,\n",
       " 962361,\n",
       " 964324,\n",
       " 966289,\n",
       " 968256,\n",
       " 970225,\n",
       " 972196,\n",
       " 974169,\n",
       " 976144,\n",
       " 978121,\n",
       " 980100,\n",
       " 982081,\n",
       " 984064,\n",
       " 986049,\n",
       " 988036,\n",
       " 990025,\n",
       " 992016,\n",
       " 994009,\n",
       " 996004,\n",
       " 998001]"
      ]
     },
     "execution_count": 26,
     "metadata": {},
     "output_type": "execute_result"
    }
   ],
   "source": [
    "def f(x): \n",
    "    import time \n",
    "    time.sleep(.1) \n",
    "    return x**2 \n",
    "[f(x) for x in range(1000) if f(x) > 10]"
   ]
  },
  {
   "cell_type": "markdown",
   "metadata": {},
   "source": [
    "This results in two calls to f(x) for 1,000 values of x: one call for generating the value and the other for checking the\n",
    "if condition. If f(x) is a particularly expensive operation, this can have significant performance implications.\n",
    "Worse, if calling f() has side effects, it can have surprising results."
   ]
  },
  {
   "cell_type": "markdown",
   "metadata": {},
   "source": [
    "Instead, you should evaluate the expensive operation only once for each value of x by generating an intermediate\n",
    "iterable (generator expression) as follows:"
   ]
  },
  {
   "cell_type": "code",
   "execution_count": 28,
   "metadata": {},
   "outputs": [
    {
     "data": {
      "text/plain": [
       "[16,\n",
       " 25,\n",
       " 36,\n",
       " 49,\n",
       " 64,\n",
       " 81,\n",
       " 100,\n",
       " 121,\n",
       " 144,\n",
       " 169,\n",
       " 196,\n",
       " 225,\n",
       " 256,\n",
       " 289,\n",
       " 324,\n",
       " 361,\n",
       " 400,\n",
       " 441,\n",
       " 484,\n",
       " 529,\n",
       " 576,\n",
       " 625,\n",
       " 676,\n",
       " 729,\n",
       " 784,\n",
       " 841,\n",
       " 900,\n",
       " 961,\n",
       " 1024,\n",
       " 1089,\n",
       " 1156,\n",
       " 1225,\n",
       " 1296,\n",
       " 1369,\n",
       " 1444,\n",
       " 1521,\n",
       " 1600,\n",
       " 1681,\n",
       " 1764,\n",
       " 1849,\n",
       " 1936,\n",
       " 2025,\n",
       " 2116,\n",
       " 2209,\n",
       " 2304,\n",
       " 2401,\n",
       " 2500,\n",
       " 2601,\n",
       " 2704,\n",
       " 2809,\n",
       " 2916,\n",
       " 3025,\n",
       " 3136,\n",
       " 3249,\n",
       " 3364,\n",
       " 3481,\n",
       " 3600,\n",
       " 3721,\n",
       " 3844,\n",
       " 3969,\n",
       " 4096,\n",
       " 4225,\n",
       " 4356,\n",
       " 4489,\n",
       " 4624,\n",
       " 4761,\n",
       " 4900,\n",
       " 5041,\n",
       " 5184,\n",
       " 5329,\n",
       " 5476,\n",
       " 5625,\n",
       " 5776,\n",
       " 5929,\n",
       " 6084,\n",
       " 6241,\n",
       " 6400,\n",
       " 6561,\n",
       " 6724,\n",
       " 6889,\n",
       " 7056,\n",
       " 7225,\n",
       " 7396,\n",
       " 7569,\n",
       " 7744,\n",
       " 7921,\n",
       " 8100,\n",
       " 8281,\n",
       " 8464,\n",
       " 8649,\n",
       " 8836,\n",
       " 9025,\n",
       " 9216,\n",
       " 9409,\n",
       " 9604,\n",
       " 9801,\n",
       " 10000,\n",
       " 10201,\n",
       " 10404,\n",
       " 10609,\n",
       " 10816,\n",
       " 11025,\n",
       " 11236,\n",
       " 11449,\n",
       " 11664,\n",
       " 11881,\n",
       " 12100,\n",
       " 12321,\n",
       " 12544,\n",
       " 12769,\n",
       " 12996,\n",
       " 13225,\n",
       " 13456,\n",
       " 13689,\n",
       " 13924,\n",
       " 14161,\n",
       " 14400,\n",
       " 14641,\n",
       " 14884,\n",
       " 15129,\n",
       " 15376,\n",
       " 15625,\n",
       " 15876,\n",
       " 16129,\n",
       " 16384,\n",
       " 16641,\n",
       " 16900,\n",
       " 17161,\n",
       " 17424,\n",
       " 17689,\n",
       " 17956,\n",
       " 18225,\n",
       " 18496,\n",
       " 18769,\n",
       " 19044,\n",
       " 19321,\n",
       " 19600,\n",
       " 19881,\n",
       " 20164,\n",
       " 20449,\n",
       " 20736,\n",
       " 21025,\n",
       " 21316,\n",
       " 21609,\n",
       " 21904,\n",
       " 22201,\n",
       " 22500,\n",
       " 22801,\n",
       " 23104,\n",
       " 23409,\n",
       " 23716,\n",
       " 24025,\n",
       " 24336,\n",
       " 24649,\n",
       " 24964,\n",
       " 25281,\n",
       " 25600,\n",
       " 25921,\n",
       " 26244,\n",
       " 26569,\n",
       " 26896,\n",
       " 27225,\n",
       " 27556,\n",
       " 27889,\n",
       " 28224,\n",
       " 28561,\n",
       " 28900,\n",
       " 29241,\n",
       " 29584,\n",
       " 29929,\n",
       " 30276,\n",
       " 30625,\n",
       " 30976,\n",
       " 31329,\n",
       " 31684,\n",
       " 32041,\n",
       " 32400,\n",
       " 32761,\n",
       " 33124,\n",
       " 33489,\n",
       " 33856,\n",
       " 34225,\n",
       " 34596,\n",
       " 34969,\n",
       " 35344,\n",
       " 35721,\n",
       " 36100,\n",
       " 36481,\n",
       " 36864,\n",
       " 37249,\n",
       " 37636,\n",
       " 38025,\n",
       " 38416,\n",
       " 38809,\n",
       " 39204,\n",
       " 39601,\n",
       " 40000,\n",
       " 40401,\n",
       " 40804,\n",
       " 41209,\n",
       " 41616,\n",
       " 42025,\n",
       " 42436,\n",
       " 42849,\n",
       " 43264,\n",
       " 43681,\n",
       " 44100,\n",
       " 44521,\n",
       " 44944,\n",
       " 45369,\n",
       " 45796,\n",
       " 46225,\n",
       " 46656,\n",
       " 47089,\n",
       " 47524,\n",
       " 47961,\n",
       " 48400,\n",
       " 48841,\n",
       " 49284,\n",
       " 49729,\n",
       " 50176,\n",
       " 50625,\n",
       " 51076,\n",
       " 51529,\n",
       " 51984,\n",
       " 52441,\n",
       " 52900,\n",
       " 53361,\n",
       " 53824,\n",
       " 54289,\n",
       " 54756,\n",
       " 55225,\n",
       " 55696,\n",
       " 56169,\n",
       " 56644,\n",
       " 57121,\n",
       " 57600,\n",
       " 58081,\n",
       " 58564,\n",
       " 59049,\n",
       " 59536,\n",
       " 60025,\n",
       " 60516,\n",
       " 61009,\n",
       " 61504,\n",
       " 62001,\n",
       " 62500,\n",
       " 63001,\n",
       " 63504,\n",
       " 64009,\n",
       " 64516,\n",
       " 65025,\n",
       " 65536,\n",
       " 66049,\n",
       " 66564,\n",
       " 67081,\n",
       " 67600,\n",
       " 68121,\n",
       " 68644,\n",
       " 69169,\n",
       " 69696,\n",
       " 70225,\n",
       " 70756,\n",
       " 71289,\n",
       " 71824,\n",
       " 72361,\n",
       " 72900,\n",
       " 73441,\n",
       " 73984,\n",
       " 74529,\n",
       " 75076,\n",
       " 75625,\n",
       " 76176,\n",
       " 76729,\n",
       " 77284,\n",
       " 77841,\n",
       " 78400,\n",
       " 78961,\n",
       " 79524,\n",
       " 80089,\n",
       " 80656,\n",
       " 81225,\n",
       " 81796,\n",
       " 82369,\n",
       " 82944,\n",
       " 83521,\n",
       " 84100,\n",
       " 84681,\n",
       " 85264,\n",
       " 85849,\n",
       " 86436,\n",
       " 87025,\n",
       " 87616,\n",
       " 88209,\n",
       " 88804,\n",
       " 89401,\n",
       " 90000,\n",
       " 90601,\n",
       " 91204,\n",
       " 91809,\n",
       " 92416,\n",
       " 93025,\n",
       " 93636,\n",
       " 94249,\n",
       " 94864,\n",
       " 95481,\n",
       " 96100,\n",
       " 96721,\n",
       " 97344,\n",
       " 97969,\n",
       " 98596,\n",
       " 99225,\n",
       " 99856,\n",
       " 100489,\n",
       " 101124,\n",
       " 101761,\n",
       " 102400,\n",
       " 103041,\n",
       " 103684,\n",
       " 104329,\n",
       " 104976,\n",
       " 105625,\n",
       " 106276,\n",
       " 106929,\n",
       " 107584,\n",
       " 108241,\n",
       " 108900,\n",
       " 109561,\n",
       " 110224,\n",
       " 110889,\n",
       " 111556,\n",
       " 112225,\n",
       " 112896,\n",
       " 113569,\n",
       " 114244,\n",
       " 114921,\n",
       " 115600,\n",
       " 116281,\n",
       " 116964,\n",
       " 117649,\n",
       " 118336,\n",
       " 119025,\n",
       " 119716,\n",
       " 120409,\n",
       " 121104,\n",
       " 121801,\n",
       " 122500,\n",
       " 123201,\n",
       " 123904,\n",
       " 124609,\n",
       " 125316,\n",
       " 126025,\n",
       " 126736,\n",
       " 127449,\n",
       " 128164,\n",
       " 128881,\n",
       " 129600,\n",
       " 130321,\n",
       " 131044,\n",
       " 131769,\n",
       " 132496,\n",
       " 133225,\n",
       " 133956,\n",
       " 134689,\n",
       " 135424,\n",
       " 136161,\n",
       " 136900,\n",
       " 137641,\n",
       " 138384,\n",
       " 139129,\n",
       " 139876,\n",
       " 140625,\n",
       " 141376,\n",
       " 142129,\n",
       " 142884,\n",
       " 143641,\n",
       " 144400,\n",
       " 145161,\n",
       " 145924,\n",
       " 146689,\n",
       " 147456,\n",
       " 148225,\n",
       " 148996,\n",
       " 149769,\n",
       " 150544,\n",
       " 151321,\n",
       " 152100,\n",
       " 152881,\n",
       " 153664,\n",
       " 154449,\n",
       " 155236,\n",
       " 156025,\n",
       " 156816,\n",
       " 157609,\n",
       " 158404,\n",
       " 159201,\n",
       " 160000,\n",
       " 160801,\n",
       " 161604,\n",
       " 162409,\n",
       " 163216,\n",
       " 164025,\n",
       " 164836,\n",
       " 165649,\n",
       " 166464,\n",
       " 167281,\n",
       " 168100,\n",
       " 168921,\n",
       " 169744,\n",
       " 170569,\n",
       " 171396,\n",
       " 172225,\n",
       " 173056,\n",
       " 173889,\n",
       " 174724,\n",
       " 175561,\n",
       " 176400,\n",
       " 177241,\n",
       " 178084,\n",
       " 178929,\n",
       " 179776,\n",
       " 180625,\n",
       " 181476,\n",
       " 182329,\n",
       " 183184,\n",
       " 184041,\n",
       " 184900,\n",
       " 185761,\n",
       " 186624,\n",
       " 187489,\n",
       " 188356,\n",
       " 189225,\n",
       " 190096,\n",
       " 190969,\n",
       " 191844,\n",
       " 192721,\n",
       " 193600,\n",
       " 194481,\n",
       " 195364,\n",
       " 196249,\n",
       " 197136,\n",
       " 198025,\n",
       " 198916,\n",
       " 199809,\n",
       " 200704,\n",
       " 201601,\n",
       " 202500,\n",
       " 203401,\n",
       " 204304,\n",
       " 205209,\n",
       " 206116,\n",
       " 207025,\n",
       " 207936,\n",
       " 208849,\n",
       " 209764,\n",
       " 210681,\n",
       " 211600,\n",
       " 212521,\n",
       " 213444,\n",
       " 214369,\n",
       " 215296,\n",
       " 216225,\n",
       " 217156,\n",
       " 218089,\n",
       " 219024,\n",
       " 219961,\n",
       " 220900,\n",
       " 221841,\n",
       " 222784,\n",
       " 223729,\n",
       " 224676,\n",
       " 225625,\n",
       " 226576,\n",
       " 227529,\n",
       " 228484,\n",
       " 229441,\n",
       " 230400,\n",
       " 231361,\n",
       " 232324,\n",
       " 233289,\n",
       " 234256,\n",
       " 235225,\n",
       " 236196,\n",
       " 237169,\n",
       " 238144,\n",
       " 239121,\n",
       " 240100,\n",
       " 241081,\n",
       " 242064,\n",
       " 243049,\n",
       " 244036,\n",
       " 245025,\n",
       " 246016,\n",
       " 247009,\n",
       " 248004,\n",
       " 249001,\n",
       " 250000,\n",
       " 251001,\n",
       " 252004,\n",
       " 253009,\n",
       " 254016,\n",
       " 255025,\n",
       " 256036,\n",
       " 257049,\n",
       " 258064,\n",
       " 259081,\n",
       " 260100,\n",
       " 261121,\n",
       " 262144,\n",
       " 263169,\n",
       " 264196,\n",
       " 265225,\n",
       " 266256,\n",
       " 267289,\n",
       " 268324,\n",
       " 269361,\n",
       " 270400,\n",
       " 271441,\n",
       " 272484,\n",
       " 273529,\n",
       " 274576,\n",
       " 275625,\n",
       " 276676,\n",
       " 277729,\n",
       " 278784,\n",
       " 279841,\n",
       " 280900,\n",
       " 281961,\n",
       " 283024,\n",
       " 284089,\n",
       " 285156,\n",
       " 286225,\n",
       " 287296,\n",
       " 288369,\n",
       " 289444,\n",
       " 290521,\n",
       " 291600,\n",
       " 292681,\n",
       " 293764,\n",
       " 294849,\n",
       " 295936,\n",
       " 297025,\n",
       " 298116,\n",
       " 299209,\n",
       " 300304,\n",
       " 301401,\n",
       " 302500,\n",
       " 303601,\n",
       " 304704,\n",
       " 305809,\n",
       " 306916,\n",
       " 308025,\n",
       " 309136,\n",
       " 310249,\n",
       " 311364,\n",
       " 312481,\n",
       " 313600,\n",
       " 314721,\n",
       " 315844,\n",
       " 316969,\n",
       " 318096,\n",
       " 319225,\n",
       " 320356,\n",
       " 321489,\n",
       " 322624,\n",
       " 323761,\n",
       " 324900,\n",
       " 326041,\n",
       " 327184,\n",
       " 328329,\n",
       " 329476,\n",
       " 330625,\n",
       " 331776,\n",
       " 332929,\n",
       " 334084,\n",
       " 335241,\n",
       " 336400,\n",
       " 337561,\n",
       " 338724,\n",
       " 339889,\n",
       " 341056,\n",
       " 342225,\n",
       " 343396,\n",
       " 344569,\n",
       " 345744,\n",
       " 346921,\n",
       " 348100,\n",
       " 349281,\n",
       " 350464,\n",
       " 351649,\n",
       " 352836,\n",
       " 354025,\n",
       " 355216,\n",
       " 356409,\n",
       " 357604,\n",
       " 358801,\n",
       " 360000,\n",
       " 361201,\n",
       " 362404,\n",
       " 363609,\n",
       " 364816,\n",
       " 366025,\n",
       " 367236,\n",
       " 368449,\n",
       " 369664,\n",
       " 370881,\n",
       " 372100,\n",
       " 373321,\n",
       " 374544,\n",
       " 375769,\n",
       " 376996,\n",
       " 378225,\n",
       " 379456,\n",
       " 380689,\n",
       " 381924,\n",
       " 383161,\n",
       " 384400,\n",
       " 385641,\n",
       " 386884,\n",
       " 388129,\n",
       " 389376,\n",
       " 390625,\n",
       " 391876,\n",
       " 393129,\n",
       " 394384,\n",
       " 395641,\n",
       " 396900,\n",
       " 398161,\n",
       " 399424,\n",
       " 400689,\n",
       " 401956,\n",
       " 403225,\n",
       " 404496,\n",
       " 405769,\n",
       " 407044,\n",
       " 408321,\n",
       " 409600,\n",
       " 410881,\n",
       " 412164,\n",
       " 413449,\n",
       " 414736,\n",
       " 416025,\n",
       " 417316,\n",
       " 418609,\n",
       " 419904,\n",
       " 421201,\n",
       " 422500,\n",
       " 423801,\n",
       " 425104,\n",
       " 426409,\n",
       " 427716,\n",
       " 429025,\n",
       " 430336,\n",
       " 431649,\n",
       " 432964,\n",
       " 434281,\n",
       " 435600,\n",
       " 436921,\n",
       " 438244,\n",
       " 439569,\n",
       " 440896,\n",
       " 442225,\n",
       " 443556,\n",
       " 444889,\n",
       " 446224,\n",
       " 447561,\n",
       " 448900,\n",
       " 450241,\n",
       " 451584,\n",
       " 452929,\n",
       " 454276,\n",
       " 455625,\n",
       " 456976,\n",
       " 458329,\n",
       " 459684,\n",
       " 461041,\n",
       " 462400,\n",
       " 463761,\n",
       " 465124,\n",
       " 466489,\n",
       " 467856,\n",
       " 469225,\n",
       " 470596,\n",
       " 471969,\n",
       " 473344,\n",
       " 474721,\n",
       " 476100,\n",
       " 477481,\n",
       " 478864,\n",
       " 480249,\n",
       " 481636,\n",
       " 483025,\n",
       " 484416,\n",
       " 485809,\n",
       " 487204,\n",
       " 488601,\n",
       " 490000,\n",
       " 491401,\n",
       " 492804,\n",
       " 494209,\n",
       " 495616,\n",
       " 497025,\n",
       " 498436,\n",
       " 499849,\n",
       " 501264,\n",
       " 502681,\n",
       " 504100,\n",
       " 505521,\n",
       " 506944,\n",
       " 508369,\n",
       " 509796,\n",
       " 511225,\n",
       " 512656,\n",
       " 514089,\n",
       " 515524,\n",
       " 516961,\n",
       " 518400,\n",
       " 519841,\n",
       " 521284,\n",
       " 522729,\n",
       " 524176,\n",
       " 525625,\n",
       " 527076,\n",
       " 528529,\n",
       " 529984,\n",
       " 531441,\n",
       " 532900,\n",
       " 534361,\n",
       " 535824,\n",
       " 537289,\n",
       " 538756,\n",
       " 540225,\n",
       " 541696,\n",
       " 543169,\n",
       " 544644,\n",
       " 546121,\n",
       " 547600,\n",
       " 549081,\n",
       " 550564,\n",
       " 552049,\n",
       " 553536,\n",
       " 555025,\n",
       " 556516,\n",
       " 558009,\n",
       " 559504,\n",
       " 561001,\n",
       " 562500,\n",
       " 564001,\n",
       " 565504,\n",
       " 567009,\n",
       " 568516,\n",
       " 570025,\n",
       " 571536,\n",
       " 573049,\n",
       " 574564,\n",
       " 576081,\n",
       " 577600,\n",
       " 579121,\n",
       " 580644,\n",
       " 582169,\n",
       " 583696,\n",
       " 585225,\n",
       " 586756,\n",
       " 588289,\n",
       " 589824,\n",
       " 591361,\n",
       " 592900,\n",
       " 594441,\n",
       " 595984,\n",
       " 597529,\n",
       " 599076,\n",
       " 600625,\n",
       " 602176,\n",
       " 603729,\n",
       " 605284,\n",
       " 606841,\n",
       " 608400,\n",
       " 609961,\n",
       " 611524,\n",
       " 613089,\n",
       " 614656,\n",
       " 616225,\n",
       " 617796,\n",
       " 619369,\n",
       " 620944,\n",
       " 622521,\n",
       " 624100,\n",
       " 625681,\n",
       " 627264,\n",
       " 628849,\n",
       " 630436,\n",
       " 632025,\n",
       " 633616,\n",
       " 635209,\n",
       " 636804,\n",
       " 638401,\n",
       " 640000,\n",
       " 641601,\n",
       " 643204,\n",
       " 644809,\n",
       " 646416,\n",
       " 648025,\n",
       " 649636,\n",
       " 651249,\n",
       " 652864,\n",
       " 654481,\n",
       " 656100,\n",
       " 657721,\n",
       " 659344,\n",
       " 660969,\n",
       " 662596,\n",
       " 664225,\n",
       " 665856,\n",
       " 667489,\n",
       " 669124,\n",
       " 670761,\n",
       " 672400,\n",
       " 674041,\n",
       " 675684,\n",
       " 677329,\n",
       " 678976,\n",
       " 680625,\n",
       " 682276,\n",
       " 683929,\n",
       " 685584,\n",
       " 687241,\n",
       " 688900,\n",
       " 690561,\n",
       " 692224,\n",
       " 693889,\n",
       " 695556,\n",
       " 697225,\n",
       " 698896,\n",
       " 700569,\n",
       " 702244,\n",
       " 703921,\n",
       " 705600,\n",
       " 707281,\n",
       " 708964,\n",
       " 710649,\n",
       " 712336,\n",
       " 714025,\n",
       " 715716,\n",
       " 717409,\n",
       " 719104,\n",
       " 720801,\n",
       " 722500,\n",
       " 724201,\n",
       " 725904,\n",
       " 727609,\n",
       " 729316,\n",
       " 731025,\n",
       " 732736,\n",
       " 734449,\n",
       " 736164,\n",
       " 737881,\n",
       " 739600,\n",
       " 741321,\n",
       " 743044,\n",
       " 744769,\n",
       " 746496,\n",
       " 748225,\n",
       " 749956,\n",
       " 751689,\n",
       " 753424,\n",
       " 755161,\n",
       " 756900,\n",
       " 758641,\n",
       " 760384,\n",
       " 762129,\n",
       " 763876,\n",
       " 765625,\n",
       " 767376,\n",
       " 769129,\n",
       " 770884,\n",
       " 772641,\n",
       " 774400,\n",
       " 776161,\n",
       " 777924,\n",
       " 779689,\n",
       " 781456,\n",
       " 783225,\n",
       " 784996,\n",
       " 786769,\n",
       " 788544,\n",
       " 790321,\n",
       " 792100,\n",
       " 793881,\n",
       " 795664,\n",
       " 797449,\n",
       " 799236,\n",
       " 801025,\n",
       " 802816,\n",
       " 804609,\n",
       " 806404,\n",
       " 808201,\n",
       " 810000,\n",
       " 811801,\n",
       " 813604,\n",
       " 815409,\n",
       " 817216,\n",
       " 819025,\n",
       " 820836,\n",
       " 822649,\n",
       " 824464,\n",
       " 826281,\n",
       " 828100,\n",
       " 829921,\n",
       " 831744,\n",
       " 833569,\n",
       " 835396,\n",
       " 837225,\n",
       " 839056,\n",
       " 840889,\n",
       " 842724,\n",
       " 844561,\n",
       " 846400,\n",
       " 848241,\n",
       " 850084,\n",
       " 851929,\n",
       " 853776,\n",
       " 855625,\n",
       " 857476,\n",
       " 859329,\n",
       " 861184,\n",
       " 863041,\n",
       " 864900,\n",
       " 866761,\n",
       " 868624,\n",
       " 870489,\n",
       " 872356,\n",
       " 874225,\n",
       " 876096,\n",
       " 877969,\n",
       " 879844,\n",
       " 881721,\n",
       " 883600,\n",
       " 885481,\n",
       " 887364,\n",
       " 889249,\n",
       " 891136,\n",
       " 893025,\n",
       " 894916,\n",
       " 896809,\n",
       " 898704,\n",
       " 900601,\n",
       " 902500,\n",
       " 904401,\n",
       " 906304,\n",
       " 908209,\n",
       " 910116,\n",
       " 912025,\n",
       " 913936,\n",
       " 915849,\n",
       " 917764,\n",
       " 919681,\n",
       " 921600,\n",
       " 923521,\n",
       " 925444,\n",
       " 927369,\n",
       " 929296,\n",
       " 931225,\n",
       " 933156,\n",
       " 935089,\n",
       " 937024,\n",
       " 938961,\n",
       " 940900,\n",
       " 942841,\n",
       " 944784,\n",
       " 946729,\n",
       " 948676,\n",
       " 950625,\n",
       " 952576,\n",
       " 954529,\n",
       " 956484,\n",
       " 958441,\n",
       " 960400,\n",
       " 962361,\n",
       " 964324,\n",
       " 966289,\n",
       " 968256,\n",
       " 970225,\n",
       " 972196,\n",
       " 974169,\n",
       " 976144,\n",
       " 978121,\n",
       " 980100,\n",
       " 982081,\n",
       " 984064,\n",
       " 986049,\n",
       " 988036,\n",
       " 990025,\n",
       " 992016,\n",
       " 994009,\n",
       " 996004,\n",
       " 998001]"
      ]
     },
     "execution_count": 28,
     "metadata": {},
     "output_type": "execute_result"
    }
   ],
   "source": [
    "[v for v in (f(x) for x in range(1000)) if v > 10]"
   ]
  },
  {
   "cell_type": "markdown",
   "metadata": {},
   "source": [
    "Or, using the builtin map equivalent:"
   ]
  },
  {
   "cell_type": "code",
   "execution_count": 29,
   "metadata": {},
   "outputs": [
    {
     "data": {
      "text/plain": [
       "[16,\n",
       " 25,\n",
       " 36,\n",
       " 49,\n",
       " 64,\n",
       " 81,\n",
       " 100,\n",
       " 121,\n",
       " 144,\n",
       " 169,\n",
       " 196,\n",
       " 225,\n",
       " 256,\n",
       " 289,\n",
       " 324,\n",
       " 361,\n",
       " 400,\n",
       " 441,\n",
       " 484,\n",
       " 529,\n",
       " 576,\n",
       " 625,\n",
       " 676,\n",
       " 729,\n",
       " 784,\n",
       " 841,\n",
       " 900,\n",
       " 961,\n",
       " 1024,\n",
       " 1089,\n",
       " 1156,\n",
       " 1225,\n",
       " 1296,\n",
       " 1369,\n",
       " 1444,\n",
       " 1521,\n",
       " 1600,\n",
       " 1681,\n",
       " 1764,\n",
       " 1849,\n",
       " 1936,\n",
       " 2025,\n",
       " 2116,\n",
       " 2209,\n",
       " 2304,\n",
       " 2401,\n",
       " 2500,\n",
       " 2601,\n",
       " 2704,\n",
       " 2809,\n",
       " 2916,\n",
       " 3025,\n",
       " 3136,\n",
       " 3249,\n",
       " 3364,\n",
       " 3481,\n",
       " 3600,\n",
       " 3721,\n",
       " 3844,\n",
       " 3969,\n",
       " 4096,\n",
       " 4225,\n",
       " 4356,\n",
       " 4489,\n",
       " 4624,\n",
       " 4761,\n",
       " 4900,\n",
       " 5041,\n",
       " 5184,\n",
       " 5329,\n",
       " 5476,\n",
       " 5625,\n",
       " 5776,\n",
       " 5929,\n",
       " 6084,\n",
       " 6241,\n",
       " 6400,\n",
       " 6561,\n",
       " 6724,\n",
       " 6889,\n",
       " 7056,\n",
       " 7225,\n",
       " 7396,\n",
       " 7569,\n",
       " 7744,\n",
       " 7921,\n",
       " 8100,\n",
       " 8281,\n",
       " 8464,\n",
       " 8649,\n",
       " 8836,\n",
       " 9025,\n",
       " 9216,\n",
       " 9409,\n",
       " 9604,\n",
       " 9801,\n",
       " 10000,\n",
       " 10201,\n",
       " 10404,\n",
       " 10609,\n",
       " 10816,\n",
       " 11025,\n",
       " 11236,\n",
       " 11449,\n",
       " 11664,\n",
       " 11881,\n",
       " 12100,\n",
       " 12321,\n",
       " 12544,\n",
       " 12769,\n",
       " 12996,\n",
       " 13225,\n",
       " 13456,\n",
       " 13689,\n",
       " 13924,\n",
       " 14161,\n",
       " 14400,\n",
       " 14641,\n",
       " 14884,\n",
       " 15129,\n",
       " 15376,\n",
       " 15625,\n",
       " 15876,\n",
       " 16129,\n",
       " 16384,\n",
       " 16641,\n",
       " 16900,\n",
       " 17161,\n",
       " 17424,\n",
       " 17689,\n",
       " 17956,\n",
       " 18225,\n",
       " 18496,\n",
       " 18769,\n",
       " 19044,\n",
       " 19321,\n",
       " 19600,\n",
       " 19881,\n",
       " 20164,\n",
       " 20449,\n",
       " 20736,\n",
       " 21025,\n",
       " 21316,\n",
       " 21609,\n",
       " 21904,\n",
       " 22201,\n",
       " 22500,\n",
       " 22801,\n",
       " 23104,\n",
       " 23409,\n",
       " 23716,\n",
       " 24025,\n",
       " 24336,\n",
       " 24649,\n",
       " 24964,\n",
       " 25281,\n",
       " 25600,\n",
       " 25921,\n",
       " 26244,\n",
       " 26569,\n",
       " 26896,\n",
       " 27225,\n",
       " 27556,\n",
       " 27889,\n",
       " 28224,\n",
       " 28561,\n",
       " 28900,\n",
       " 29241,\n",
       " 29584,\n",
       " 29929,\n",
       " 30276,\n",
       " 30625,\n",
       " 30976,\n",
       " 31329,\n",
       " 31684,\n",
       " 32041,\n",
       " 32400,\n",
       " 32761,\n",
       " 33124,\n",
       " 33489,\n",
       " 33856,\n",
       " 34225,\n",
       " 34596,\n",
       " 34969,\n",
       " 35344,\n",
       " 35721,\n",
       " 36100,\n",
       " 36481,\n",
       " 36864,\n",
       " 37249,\n",
       " 37636,\n",
       " 38025,\n",
       " 38416,\n",
       " 38809,\n",
       " 39204,\n",
       " 39601,\n",
       " 40000,\n",
       " 40401,\n",
       " 40804,\n",
       " 41209,\n",
       " 41616,\n",
       " 42025,\n",
       " 42436,\n",
       " 42849,\n",
       " 43264,\n",
       " 43681,\n",
       " 44100,\n",
       " 44521,\n",
       " 44944,\n",
       " 45369,\n",
       " 45796,\n",
       " 46225,\n",
       " 46656,\n",
       " 47089,\n",
       " 47524,\n",
       " 47961,\n",
       " 48400,\n",
       " 48841,\n",
       " 49284,\n",
       " 49729,\n",
       " 50176,\n",
       " 50625,\n",
       " 51076,\n",
       " 51529,\n",
       " 51984,\n",
       " 52441,\n",
       " 52900,\n",
       " 53361,\n",
       " 53824,\n",
       " 54289,\n",
       " 54756,\n",
       " 55225,\n",
       " 55696,\n",
       " 56169,\n",
       " 56644,\n",
       " 57121,\n",
       " 57600,\n",
       " 58081,\n",
       " 58564,\n",
       " 59049,\n",
       " 59536,\n",
       " 60025,\n",
       " 60516,\n",
       " 61009,\n",
       " 61504,\n",
       " 62001,\n",
       " 62500,\n",
       " 63001,\n",
       " 63504,\n",
       " 64009,\n",
       " 64516,\n",
       " 65025,\n",
       " 65536,\n",
       " 66049,\n",
       " 66564,\n",
       " 67081,\n",
       " 67600,\n",
       " 68121,\n",
       " 68644,\n",
       " 69169,\n",
       " 69696,\n",
       " 70225,\n",
       " 70756,\n",
       " 71289,\n",
       " 71824,\n",
       " 72361,\n",
       " 72900,\n",
       " 73441,\n",
       " 73984,\n",
       " 74529,\n",
       " 75076,\n",
       " 75625,\n",
       " 76176,\n",
       " 76729,\n",
       " 77284,\n",
       " 77841,\n",
       " 78400,\n",
       " 78961,\n",
       " 79524,\n",
       " 80089,\n",
       " 80656,\n",
       " 81225,\n",
       " 81796,\n",
       " 82369,\n",
       " 82944,\n",
       " 83521,\n",
       " 84100,\n",
       " 84681,\n",
       " 85264,\n",
       " 85849,\n",
       " 86436,\n",
       " 87025,\n",
       " 87616,\n",
       " 88209,\n",
       " 88804,\n",
       " 89401,\n",
       " 90000,\n",
       " 90601,\n",
       " 91204,\n",
       " 91809,\n",
       " 92416,\n",
       " 93025,\n",
       " 93636,\n",
       " 94249,\n",
       " 94864,\n",
       " 95481,\n",
       " 96100,\n",
       " 96721,\n",
       " 97344,\n",
       " 97969,\n",
       " 98596,\n",
       " 99225,\n",
       " 99856,\n",
       " 100489,\n",
       " 101124,\n",
       " 101761,\n",
       " 102400,\n",
       " 103041,\n",
       " 103684,\n",
       " 104329,\n",
       " 104976,\n",
       " 105625,\n",
       " 106276,\n",
       " 106929,\n",
       " 107584,\n",
       " 108241,\n",
       " 108900,\n",
       " 109561,\n",
       " 110224,\n",
       " 110889,\n",
       " 111556,\n",
       " 112225,\n",
       " 112896,\n",
       " 113569,\n",
       " 114244,\n",
       " 114921,\n",
       " 115600,\n",
       " 116281,\n",
       " 116964,\n",
       " 117649,\n",
       " 118336,\n",
       " 119025,\n",
       " 119716,\n",
       " 120409,\n",
       " 121104,\n",
       " 121801,\n",
       " 122500,\n",
       " 123201,\n",
       " 123904,\n",
       " 124609,\n",
       " 125316,\n",
       " 126025,\n",
       " 126736,\n",
       " 127449,\n",
       " 128164,\n",
       " 128881,\n",
       " 129600,\n",
       " 130321,\n",
       " 131044,\n",
       " 131769,\n",
       " 132496,\n",
       " 133225,\n",
       " 133956,\n",
       " 134689,\n",
       " 135424,\n",
       " 136161,\n",
       " 136900,\n",
       " 137641,\n",
       " 138384,\n",
       " 139129,\n",
       " 139876,\n",
       " 140625,\n",
       " 141376,\n",
       " 142129,\n",
       " 142884,\n",
       " 143641,\n",
       " 144400,\n",
       " 145161,\n",
       " 145924,\n",
       " 146689,\n",
       " 147456,\n",
       " 148225,\n",
       " 148996,\n",
       " 149769,\n",
       " 150544,\n",
       " 151321,\n",
       " 152100,\n",
       " 152881,\n",
       " 153664,\n",
       " 154449,\n",
       " 155236,\n",
       " 156025,\n",
       " 156816,\n",
       " 157609,\n",
       " 158404,\n",
       " 159201,\n",
       " 160000,\n",
       " 160801,\n",
       " 161604,\n",
       " 162409,\n",
       " 163216,\n",
       " 164025,\n",
       " 164836,\n",
       " 165649,\n",
       " 166464,\n",
       " 167281,\n",
       " 168100,\n",
       " 168921,\n",
       " 169744,\n",
       " 170569,\n",
       " 171396,\n",
       " 172225,\n",
       " 173056,\n",
       " 173889,\n",
       " 174724,\n",
       " 175561,\n",
       " 176400,\n",
       " 177241,\n",
       " 178084,\n",
       " 178929,\n",
       " 179776,\n",
       " 180625,\n",
       " 181476,\n",
       " 182329,\n",
       " 183184,\n",
       " 184041,\n",
       " 184900,\n",
       " 185761,\n",
       " 186624,\n",
       " 187489,\n",
       " 188356,\n",
       " 189225,\n",
       " 190096,\n",
       " 190969,\n",
       " 191844,\n",
       " 192721,\n",
       " 193600,\n",
       " 194481,\n",
       " 195364,\n",
       " 196249,\n",
       " 197136,\n",
       " 198025,\n",
       " 198916,\n",
       " 199809,\n",
       " 200704,\n",
       " 201601,\n",
       " 202500,\n",
       " 203401,\n",
       " 204304,\n",
       " 205209,\n",
       " 206116,\n",
       " 207025,\n",
       " 207936,\n",
       " 208849,\n",
       " 209764,\n",
       " 210681,\n",
       " 211600,\n",
       " 212521,\n",
       " 213444,\n",
       " 214369,\n",
       " 215296,\n",
       " 216225,\n",
       " 217156,\n",
       " 218089,\n",
       " 219024,\n",
       " 219961,\n",
       " 220900,\n",
       " 221841,\n",
       " 222784,\n",
       " 223729,\n",
       " 224676,\n",
       " 225625,\n",
       " 226576,\n",
       " 227529,\n",
       " 228484,\n",
       " 229441,\n",
       " 230400,\n",
       " 231361,\n",
       " 232324,\n",
       " 233289,\n",
       " 234256,\n",
       " 235225,\n",
       " 236196,\n",
       " 237169,\n",
       " 238144,\n",
       " 239121,\n",
       " 240100,\n",
       " 241081,\n",
       " 242064,\n",
       " 243049,\n",
       " 244036,\n",
       " 245025,\n",
       " 246016,\n",
       " 247009,\n",
       " 248004,\n",
       " 249001,\n",
       " 250000,\n",
       " 251001,\n",
       " 252004,\n",
       " 253009,\n",
       " 254016,\n",
       " 255025,\n",
       " 256036,\n",
       " 257049,\n",
       " 258064,\n",
       " 259081,\n",
       " 260100,\n",
       " 261121,\n",
       " 262144,\n",
       " 263169,\n",
       " 264196,\n",
       " 265225,\n",
       " 266256,\n",
       " 267289,\n",
       " 268324,\n",
       " 269361,\n",
       " 270400,\n",
       " 271441,\n",
       " 272484,\n",
       " 273529,\n",
       " 274576,\n",
       " 275625,\n",
       " 276676,\n",
       " 277729,\n",
       " 278784,\n",
       " 279841,\n",
       " 280900,\n",
       " 281961,\n",
       " 283024,\n",
       " 284089,\n",
       " 285156,\n",
       " 286225,\n",
       " 287296,\n",
       " 288369,\n",
       " 289444,\n",
       " 290521,\n",
       " 291600,\n",
       " 292681,\n",
       " 293764,\n",
       " 294849,\n",
       " 295936,\n",
       " 297025,\n",
       " 298116,\n",
       " 299209,\n",
       " 300304,\n",
       " 301401,\n",
       " 302500,\n",
       " 303601,\n",
       " 304704,\n",
       " 305809,\n",
       " 306916,\n",
       " 308025,\n",
       " 309136,\n",
       " 310249,\n",
       " 311364,\n",
       " 312481,\n",
       " 313600,\n",
       " 314721,\n",
       " 315844,\n",
       " 316969,\n",
       " 318096,\n",
       " 319225,\n",
       " 320356,\n",
       " 321489,\n",
       " 322624,\n",
       " 323761,\n",
       " 324900,\n",
       " 326041,\n",
       " 327184,\n",
       " 328329,\n",
       " 329476,\n",
       " 330625,\n",
       " 331776,\n",
       " 332929,\n",
       " 334084,\n",
       " 335241,\n",
       " 336400,\n",
       " 337561,\n",
       " 338724,\n",
       " 339889,\n",
       " 341056,\n",
       " 342225,\n",
       " 343396,\n",
       " 344569,\n",
       " 345744,\n",
       " 346921,\n",
       " 348100,\n",
       " 349281,\n",
       " 350464,\n",
       " 351649,\n",
       " 352836,\n",
       " 354025,\n",
       " 355216,\n",
       " 356409,\n",
       " 357604,\n",
       " 358801,\n",
       " 360000,\n",
       " 361201,\n",
       " 362404,\n",
       " 363609,\n",
       " 364816,\n",
       " 366025,\n",
       " 367236,\n",
       " 368449,\n",
       " 369664,\n",
       " 370881,\n",
       " 372100,\n",
       " 373321,\n",
       " 374544,\n",
       " 375769,\n",
       " 376996,\n",
       " 378225,\n",
       " 379456,\n",
       " 380689,\n",
       " 381924,\n",
       " 383161,\n",
       " 384400,\n",
       " 385641,\n",
       " 386884,\n",
       " 388129,\n",
       " 389376,\n",
       " 390625,\n",
       " 391876,\n",
       " 393129,\n",
       " 394384,\n",
       " 395641,\n",
       " 396900,\n",
       " 398161,\n",
       " 399424,\n",
       " 400689,\n",
       " 401956,\n",
       " 403225,\n",
       " 404496,\n",
       " 405769,\n",
       " 407044,\n",
       " 408321,\n",
       " 409600,\n",
       " 410881,\n",
       " 412164,\n",
       " 413449,\n",
       " 414736,\n",
       " 416025,\n",
       " 417316,\n",
       " 418609,\n",
       " 419904,\n",
       " 421201,\n",
       " 422500,\n",
       " 423801,\n",
       " 425104,\n",
       " 426409,\n",
       " 427716,\n",
       " 429025,\n",
       " 430336,\n",
       " 431649,\n",
       " 432964,\n",
       " 434281,\n",
       " 435600,\n",
       " 436921,\n",
       " 438244,\n",
       " 439569,\n",
       " 440896,\n",
       " 442225,\n",
       " 443556,\n",
       " 444889,\n",
       " 446224,\n",
       " 447561,\n",
       " 448900,\n",
       " 450241,\n",
       " 451584,\n",
       " 452929,\n",
       " 454276,\n",
       " 455625,\n",
       " 456976,\n",
       " 458329,\n",
       " 459684,\n",
       " 461041,\n",
       " 462400,\n",
       " 463761,\n",
       " 465124,\n",
       " 466489,\n",
       " 467856,\n",
       " 469225,\n",
       " 470596,\n",
       " 471969,\n",
       " 473344,\n",
       " 474721,\n",
       " 476100,\n",
       " 477481,\n",
       " 478864,\n",
       " 480249,\n",
       " 481636,\n",
       " 483025,\n",
       " 484416,\n",
       " 485809,\n",
       " 487204,\n",
       " 488601,\n",
       " 490000,\n",
       " 491401,\n",
       " 492804,\n",
       " 494209,\n",
       " 495616,\n",
       " 497025,\n",
       " 498436,\n",
       " 499849,\n",
       " 501264,\n",
       " 502681,\n",
       " 504100,\n",
       " 505521,\n",
       " 506944,\n",
       " 508369,\n",
       " 509796,\n",
       " 511225,\n",
       " 512656,\n",
       " 514089,\n",
       " 515524,\n",
       " 516961,\n",
       " 518400,\n",
       " 519841,\n",
       " 521284,\n",
       " 522729,\n",
       " 524176,\n",
       " 525625,\n",
       " 527076,\n",
       " 528529,\n",
       " 529984,\n",
       " 531441,\n",
       " 532900,\n",
       " 534361,\n",
       " 535824,\n",
       " 537289,\n",
       " 538756,\n",
       " 540225,\n",
       " 541696,\n",
       " 543169,\n",
       " 544644,\n",
       " 546121,\n",
       " 547600,\n",
       " 549081,\n",
       " 550564,\n",
       " 552049,\n",
       " 553536,\n",
       " 555025,\n",
       " 556516,\n",
       " 558009,\n",
       " 559504,\n",
       " 561001,\n",
       " 562500,\n",
       " 564001,\n",
       " 565504,\n",
       " 567009,\n",
       " 568516,\n",
       " 570025,\n",
       " 571536,\n",
       " 573049,\n",
       " 574564,\n",
       " 576081,\n",
       " 577600,\n",
       " 579121,\n",
       " 580644,\n",
       " 582169,\n",
       " 583696,\n",
       " 585225,\n",
       " 586756,\n",
       " 588289,\n",
       " 589824,\n",
       " 591361,\n",
       " 592900,\n",
       " 594441,\n",
       " 595984,\n",
       " 597529,\n",
       " 599076,\n",
       " 600625,\n",
       " 602176,\n",
       " 603729,\n",
       " 605284,\n",
       " 606841,\n",
       " 608400,\n",
       " 609961,\n",
       " 611524,\n",
       " 613089,\n",
       " 614656,\n",
       " 616225,\n",
       " 617796,\n",
       " 619369,\n",
       " 620944,\n",
       " 622521,\n",
       " 624100,\n",
       " 625681,\n",
       " 627264,\n",
       " 628849,\n",
       " 630436,\n",
       " 632025,\n",
       " 633616,\n",
       " 635209,\n",
       " 636804,\n",
       " 638401,\n",
       " 640000,\n",
       " 641601,\n",
       " 643204,\n",
       " 644809,\n",
       " 646416,\n",
       " 648025,\n",
       " 649636,\n",
       " 651249,\n",
       " 652864,\n",
       " 654481,\n",
       " 656100,\n",
       " 657721,\n",
       " 659344,\n",
       " 660969,\n",
       " 662596,\n",
       " 664225,\n",
       " 665856,\n",
       " 667489,\n",
       " 669124,\n",
       " 670761,\n",
       " 672400,\n",
       " 674041,\n",
       " 675684,\n",
       " 677329,\n",
       " 678976,\n",
       " 680625,\n",
       " 682276,\n",
       " 683929,\n",
       " 685584,\n",
       " 687241,\n",
       " 688900,\n",
       " 690561,\n",
       " 692224,\n",
       " 693889,\n",
       " 695556,\n",
       " 697225,\n",
       " 698896,\n",
       " 700569,\n",
       " 702244,\n",
       " 703921,\n",
       " 705600,\n",
       " 707281,\n",
       " 708964,\n",
       " 710649,\n",
       " 712336,\n",
       " 714025,\n",
       " 715716,\n",
       " 717409,\n",
       " 719104,\n",
       " 720801,\n",
       " 722500,\n",
       " 724201,\n",
       " 725904,\n",
       " 727609,\n",
       " 729316,\n",
       " 731025,\n",
       " 732736,\n",
       " 734449,\n",
       " 736164,\n",
       " 737881,\n",
       " 739600,\n",
       " 741321,\n",
       " 743044,\n",
       " 744769,\n",
       " 746496,\n",
       " 748225,\n",
       " 749956,\n",
       " 751689,\n",
       " 753424,\n",
       " 755161,\n",
       " 756900,\n",
       " 758641,\n",
       " 760384,\n",
       " 762129,\n",
       " 763876,\n",
       " 765625,\n",
       " 767376,\n",
       " 769129,\n",
       " 770884,\n",
       " 772641,\n",
       " 774400,\n",
       " 776161,\n",
       " 777924,\n",
       " 779689,\n",
       " 781456,\n",
       " 783225,\n",
       " 784996,\n",
       " 786769,\n",
       " 788544,\n",
       " 790321,\n",
       " 792100,\n",
       " 793881,\n",
       " 795664,\n",
       " 797449,\n",
       " 799236,\n",
       " 801025,\n",
       " 802816,\n",
       " 804609,\n",
       " 806404,\n",
       " 808201,\n",
       " 810000,\n",
       " 811801,\n",
       " 813604,\n",
       " 815409,\n",
       " 817216,\n",
       " 819025,\n",
       " 820836,\n",
       " 822649,\n",
       " 824464,\n",
       " 826281,\n",
       " 828100,\n",
       " 829921,\n",
       " 831744,\n",
       " 833569,\n",
       " 835396,\n",
       " 837225,\n",
       " 839056,\n",
       " 840889,\n",
       " 842724,\n",
       " 844561,\n",
       " 846400,\n",
       " 848241,\n",
       " 850084,\n",
       " 851929,\n",
       " 853776,\n",
       " 855625,\n",
       " 857476,\n",
       " 859329,\n",
       " 861184,\n",
       " 863041,\n",
       " 864900,\n",
       " 866761,\n",
       " 868624,\n",
       " 870489,\n",
       " 872356,\n",
       " 874225,\n",
       " 876096,\n",
       " 877969,\n",
       " 879844,\n",
       " 881721,\n",
       " 883600,\n",
       " 885481,\n",
       " 887364,\n",
       " 889249,\n",
       " 891136,\n",
       " 893025,\n",
       " 894916,\n",
       " 896809,\n",
       " 898704,\n",
       " 900601,\n",
       " 902500,\n",
       " 904401,\n",
       " 906304,\n",
       " 908209,\n",
       " 910116,\n",
       " 912025,\n",
       " 913936,\n",
       " 915849,\n",
       " 917764,\n",
       " 919681,\n",
       " 921600,\n",
       " 923521,\n",
       " 925444,\n",
       " 927369,\n",
       " 929296,\n",
       " 931225,\n",
       " 933156,\n",
       " 935089,\n",
       " 937024,\n",
       " 938961,\n",
       " 940900,\n",
       " 942841,\n",
       " 944784,\n",
       " 946729,\n",
       " 948676,\n",
       " 950625,\n",
       " 952576,\n",
       " 954529,\n",
       " 956484,\n",
       " 958441,\n",
       " 960400,\n",
       " 962361,\n",
       " 964324,\n",
       " 966289,\n",
       " 968256,\n",
       " 970225,\n",
       " 972196,\n",
       " 974169,\n",
       " 976144,\n",
       " 978121,\n",
       " 980100,\n",
       " 982081,\n",
       " 984064,\n",
       " 986049,\n",
       " 988036,\n",
       " 990025,\n",
       " 992016,\n",
       " 994009,\n",
       " 996004,\n",
       " 998001]"
      ]
     },
     "execution_count": 29,
     "metadata": {},
     "output_type": "execute_result"
    }
   ],
   "source": [
    "[v for v in map(f, range(1000)) if v > 10]"
   ]
  },
  {
   "cell_type": "markdown",
   "metadata": {},
   "source": [
    "Another way that could result in a more readable code is to put the partial result (v in the previous example) in an\n",
    "iterable (such as a list or a tuple) and then iterate over it. Since v will be the only element in the iterable, the result is\n",
    "that we now have a reference to the output of our slow function computed only once:"
   ]
  },
  {
   "cell_type": "code",
   "execution_count": 30,
   "metadata": {},
   "outputs": [
    {
     "data": {
      "text/plain": [
       "[16,\n",
       " 25,\n",
       " 36,\n",
       " 49,\n",
       " 64,\n",
       " 81,\n",
       " 100,\n",
       " 121,\n",
       " 144,\n",
       " 169,\n",
       " 196,\n",
       " 225,\n",
       " 256,\n",
       " 289,\n",
       " 324,\n",
       " 361,\n",
       " 400,\n",
       " 441,\n",
       " 484,\n",
       " 529,\n",
       " 576,\n",
       " 625,\n",
       " 676,\n",
       " 729,\n",
       " 784,\n",
       " 841,\n",
       " 900,\n",
       " 961,\n",
       " 1024,\n",
       " 1089,\n",
       " 1156,\n",
       " 1225,\n",
       " 1296,\n",
       " 1369,\n",
       " 1444,\n",
       " 1521,\n",
       " 1600,\n",
       " 1681,\n",
       " 1764,\n",
       " 1849,\n",
       " 1936,\n",
       " 2025,\n",
       " 2116,\n",
       " 2209,\n",
       " 2304,\n",
       " 2401,\n",
       " 2500,\n",
       " 2601,\n",
       " 2704,\n",
       " 2809,\n",
       " 2916,\n",
       " 3025,\n",
       " 3136,\n",
       " 3249,\n",
       " 3364,\n",
       " 3481,\n",
       " 3600,\n",
       " 3721,\n",
       " 3844,\n",
       " 3969,\n",
       " 4096,\n",
       " 4225,\n",
       " 4356,\n",
       " 4489,\n",
       " 4624,\n",
       " 4761,\n",
       " 4900,\n",
       " 5041,\n",
       " 5184,\n",
       " 5329,\n",
       " 5476,\n",
       " 5625,\n",
       " 5776,\n",
       " 5929,\n",
       " 6084,\n",
       " 6241,\n",
       " 6400,\n",
       " 6561,\n",
       " 6724,\n",
       " 6889,\n",
       " 7056,\n",
       " 7225,\n",
       " 7396,\n",
       " 7569,\n",
       " 7744,\n",
       " 7921,\n",
       " 8100,\n",
       " 8281,\n",
       " 8464,\n",
       " 8649,\n",
       " 8836,\n",
       " 9025,\n",
       " 9216,\n",
       " 9409,\n",
       " 9604,\n",
       " 9801,\n",
       " 10000,\n",
       " 10201,\n",
       " 10404,\n",
       " 10609,\n",
       " 10816,\n",
       " 11025,\n",
       " 11236,\n",
       " 11449,\n",
       " 11664,\n",
       " 11881,\n",
       " 12100,\n",
       " 12321,\n",
       " 12544,\n",
       " 12769,\n",
       " 12996,\n",
       " 13225,\n",
       " 13456,\n",
       " 13689,\n",
       " 13924,\n",
       " 14161,\n",
       " 14400,\n",
       " 14641,\n",
       " 14884,\n",
       " 15129,\n",
       " 15376,\n",
       " 15625,\n",
       " 15876,\n",
       " 16129,\n",
       " 16384,\n",
       " 16641,\n",
       " 16900,\n",
       " 17161,\n",
       " 17424,\n",
       " 17689,\n",
       " 17956,\n",
       " 18225,\n",
       " 18496,\n",
       " 18769,\n",
       " 19044,\n",
       " 19321,\n",
       " 19600,\n",
       " 19881,\n",
       " 20164,\n",
       " 20449,\n",
       " 20736,\n",
       " 21025,\n",
       " 21316,\n",
       " 21609,\n",
       " 21904,\n",
       " 22201,\n",
       " 22500,\n",
       " 22801,\n",
       " 23104,\n",
       " 23409,\n",
       " 23716,\n",
       " 24025,\n",
       " 24336,\n",
       " 24649,\n",
       " 24964,\n",
       " 25281,\n",
       " 25600,\n",
       " 25921,\n",
       " 26244,\n",
       " 26569,\n",
       " 26896,\n",
       " 27225,\n",
       " 27556,\n",
       " 27889,\n",
       " 28224,\n",
       " 28561,\n",
       " 28900,\n",
       " 29241,\n",
       " 29584,\n",
       " 29929,\n",
       " 30276,\n",
       " 30625,\n",
       " 30976,\n",
       " 31329,\n",
       " 31684,\n",
       " 32041,\n",
       " 32400,\n",
       " 32761,\n",
       " 33124,\n",
       " 33489,\n",
       " 33856,\n",
       " 34225,\n",
       " 34596,\n",
       " 34969,\n",
       " 35344,\n",
       " 35721,\n",
       " 36100,\n",
       " 36481,\n",
       " 36864,\n",
       " 37249,\n",
       " 37636,\n",
       " 38025,\n",
       " 38416,\n",
       " 38809,\n",
       " 39204,\n",
       " 39601,\n",
       " 40000,\n",
       " 40401,\n",
       " 40804,\n",
       " 41209,\n",
       " 41616,\n",
       " 42025,\n",
       " 42436,\n",
       " 42849,\n",
       " 43264,\n",
       " 43681,\n",
       " 44100,\n",
       " 44521,\n",
       " 44944,\n",
       " 45369,\n",
       " 45796,\n",
       " 46225,\n",
       " 46656,\n",
       " 47089,\n",
       " 47524,\n",
       " 47961,\n",
       " 48400,\n",
       " 48841,\n",
       " 49284,\n",
       " 49729,\n",
       " 50176,\n",
       " 50625,\n",
       " 51076,\n",
       " 51529,\n",
       " 51984,\n",
       " 52441,\n",
       " 52900,\n",
       " 53361,\n",
       " 53824,\n",
       " 54289,\n",
       " 54756,\n",
       " 55225,\n",
       " 55696,\n",
       " 56169,\n",
       " 56644,\n",
       " 57121,\n",
       " 57600,\n",
       " 58081,\n",
       " 58564,\n",
       " 59049,\n",
       " 59536,\n",
       " 60025,\n",
       " 60516,\n",
       " 61009,\n",
       " 61504,\n",
       " 62001,\n",
       " 62500,\n",
       " 63001,\n",
       " 63504,\n",
       " 64009,\n",
       " 64516,\n",
       " 65025,\n",
       " 65536,\n",
       " 66049,\n",
       " 66564,\n",
       " 67081,\n",
       " 67600,\n",
       " 68121,\n",
       " 68644,\n",
       " 69169,\n",
       " 69696,\n",
       " 70225,\n",
       " 70756,\n",
       " 71289,\n",
       " 71824,\n",
       " 72361,\n",
       " 72900,\n",
       " 73441,\n",
       " 73984,\n",
       " 74529,\n",
       " 75076,\n",
       " 75625,\n",
       " 76176,\n",
       " 76729,\n",
       " 77284,\n",
       " 77841,\n",
       " 78400,\n",
       " 78961,\n",
       " 79524,\n",
       " 80089,\n",
       " 80656,\n",
       " 81225,\n",
       " 81796,\n",
       " 82369,\n",
       " 82944,\n",
       " 83521,\n",
       " 84100,\n",
       " 84681,\n",
       " 85264,\n",
       " 85849,\n",
       " 86436,\n",
       " 87025,\n",
       " 87616,\n",
       " 88209,\n",
       " 88804,\n",
       " 89401,\n",
       " 90000,\n",
       " 90601,\n",
       " 91204,\n",
       " 91809,\n",
       " 92416,\n",
       " 93025,\n",
       " 93636,\n",
       " 94249,\n",
       " 94864,\n",
       " 95481,\n",
       " 96100,\n",
       " 96721,\n",
       " 97344,\n",
       " 97969,\n",
       " 98596,\n",
       " 99225,\n",
       " 99856,\n",
       " 100489,\n",
       " 101124,\n",
       " 101761,\n",
       " 102400,\n",
       " 103041,\n",
       " 103684,\n",
       " 104329,\n",
       " 104976,\n",
       " 105625,\n",
       " 106276,\n",
       " 106929,\n",
       " 107584,\n",
       " 108241,\n",
       " 108900,\n",
       " 109561,\n",
       " 110224,\n",
       " 110889,\n",
       " 111556,\n",
       " 112225,\n",
       " 112896,\n",
       " 113569,\n",
       " 114244,\n",
       " 114921,\n",
       " 115600,\n",
       " 116281,\n",
       " 116964,\n",
       " 117649,\n",
       " 118336,\n",
       " 119025,\n",
       " 119716,\n",
       " 120409,\n",
       " 121104,\n",
       " 121801,\n",
       " 122500,\n",
       " 123201,\n",
       " 123904,\n",
       " 124609,\n",
       " 125316,\n",
       " 126025,\n",
       " 126736,\n",
       " 127449,\n",
       " 128164,\n",
       " 128881,\n",
       " 129600,\n",
       " 130321,\n",
       " 131044,\n",
       " 131769,\n",
       " 132496,\n",
       " 133225,\n",
       " 133956,\n",
       " 134689,\n",
       " 135424,\n",
       " 136161,\n",
       " 136900,\n",
       " 137641,\n",
       " 138384,\n",
       " 139129,\n",
       " 139876,\n",
       " 140625,\n",
       " 141376,\n",
       " 142129,\n",
       " 142884,\n",
       " 143641,\n",
       " 144400,\n",
       " 145161,\n",
       " 145924,\n",
       " 146689,\n",
       " 147456,\n",
       " 148225,\n",
       " 148996,\n",
       " 149769,\n",
       " 150544,\n",
       " 151321,\n",
       " 152100,\n",
       " 152881,\n",
       " 153664,\n",
       " 154449,\n",
       " 155236,\n",
       " 156025,\n",
       " 156816,\n",
       " 157609,\n",
       " 158404,\n",
       " 159201,\n",
       " 160000,\n",
       " 160801,\n",
       " 161604,\n",
       " 162409,\n",
       " 163216,\n",
       " 164025,\n",
       " 164836,\n",
       " 165649,\n",
       " 166464,\n",
       " 167281,\n",
       " 168100,\n",
       " 168921,\n",
       " 169744,\n",
       " 170569,\n",
       " 171396,\n",
       " 172225,\n",
       " 173056,\n",
       " 173889,\n",
       " 174724,\n",
       " 175561,\n",
       " 176400,\n",
       " 177241,\n",
       " 178084,\n",
       " 178929,\n",
       " 179776,\n",
       " 180625,\n",
       " 181476,\n",
       " 182329,\n",
       " 183184,\n",
       " 184041,\n",
       " 184900,\n",
       " 185761,\n",
       " 186624,\n",
       " 187489,\n",
       " 188356,\n",
       " 189225,\n",
       " 190096,\n",
       " 190969,\n",
       " 191844,\n",
       " 192721,\n",
       " 193600,\n",
       " 194481,\n",
       " 195364,\n",
       " 196249,\n",
       " 197136,\n",
       " 198025,\n",
       " 198916,\n",
       " 199809,\n",
       " 200704,\n",
       " 201601,\n",
       " 202500,\n",
       " 203401,\n",
       " 204304,\n",
       " 205209,\n",
       " 206116,\n",
       " 207025,\n",
       " 207936,\n",
       " 208849,\n",
       " 209764,\n",
       " 210681,\n",
       " 211600,\n",
       " 212521,\n",
       " 213444,\n",
       " 214369,\n",
       " 215296,\n",
       " 216225,\n",
       " 217156,\n",
       " 218089,\n",
       " 219024,\n",
       " 219961,\n",
       " 220900,\n",
       " 221841,\n",
       " 222784,\n",
       " 223729,\n",
       " 224676,\n",
       " 225625,\n",
       " 226576,\n",
       " 227529,\n",
       " 228484,\n",
       " 229441,\n",
       " 230400,\n",
       " 231361,\n",
       " 232324,\n",
       " 233289,\n",
       " 234256,\n",
       " 235225,\n",
       " 236196,\n",
       " 237169,\n",
       " 238144,\n",
       " 239121,\n",
       " 240100,\n",
       " 241081,\n",
       " 242064,\n",
       " 243049,\n",
       " 244036,\n",
       " 245025,\n",
       " 246016,\n",
       " 247009,\n",
       " 248004,\n",
       " 249001,\n",
       " 250000,\n",
       " 251001,\n",
       " 252004,\n",
       " 253009,\n",
       " 254016,\n",
       " 255025,\n",
       " 256036,\n",
       " 257049,\n",
       " 258064,\n",
       " 259081,\n",
       " 260100,\n",
       " 261121,\n",
       " 262144,\n",
       " 263169,\n",
       " 264196,\n",
       " 265225,\n",
       " 266256,\n",
       " 267289,\n",
       " 268324,\n",
       " 269361,\n",
       " 270400,\n",
       " 271441,\n",
       " 272484,\n",
       " 273529,\n",
       " 274576,\n",
       " 275625,\n",
       " 276676,\n",
       " 277729,\n",
       " 278784,\n",
       " 279841,\n",
       " 280900,\n",
       " 281961,\n",
       " 283024,\n",
       " 284089,\n",
       " 285156,\n",
       " 286225,\n",
       " 287296,\n",
       " 288369,\n",
       " 289444,\n",
       " 290521,\n",
       " 291600,\n",
       " 292681,\n",
       " 293764,\n",
       " 294849,\n",
       " 295936,\n",
       " 297025,\n",
       " 298116,\n",
       " 299209,\n",
       " 300304,\n",
       " 301401,\n",
       " 302500,\n",
       " 303601,\n",
       " 304704,\n",
       " 305809,\n",
       " 306916,\n",
       " 308025,\n",
       " 309136,\n",
       " 310249,\n",
       " 311364,\n",
       " 312481,\n",
       " 313600,\n",
       " 314721,\n",
       " 315844,\n",
       " 316969,\n",
       " 318096,\n",
       " 319225,\n",
       " 320356,\n",
       " 321489,\n",
       " 322624,\n",
       " 323761,\n",
       " 324900,\n",
       " 326041,\n",
       " 327184,\n",
       " 328329,\n",
       " 329476,\n",
       " 330625,\n",
       " 331776,\n",
       " 332929,\n",
       " 334084,\n",
       " 335241,\n",
       " 336400,\n",
       " 337561,\n",
       " 338724,\n",
       " 339889,\n",
       " 341056,\n",
       " 342225,\n",
       " 343396,\n",
       " 344569,\n",
       " 345744,\n",
       " 346921,\n",
       " 348100,\n",
       " 349281,\n",
       " 350464,\n",
       " 351649,\n",
       " 352836,\n",
       " 354025,\n",
       " 355216,\n",
       " 356409,\n",
       " 357604,\n",
       " 358801,\n",
       " 360000,\n",
       " 361201,\n",
       " 362404,\n",
       " 363609,\n",
       " 364816,\n",
       " 366025,\n",
       " 367236,\n",
       " 368449,\n",
       " 369664,\n",
       " 370881,\n",
       " 372100,\n",
       " 373321,\n",
       " 374544,\n",
       " 375769,\n",
       " 376996,\n",
       " 378225,\n",
       " 379456,\n",
       " 380689,\n",
       " 381924,\n",
       " 383161,\n",
       " 384400,\n",
       " 385641,\n",
       " 386884,\n",
       " 388129,\n",
       " 389376,\n",
       " 390625,\n",
       " 391876,\n",
       " 393129,\n",
       " 394384,\n",
       " 395641,\n",
       " 396900,\n",
       " 398161,\n",
       " 399424,\n",
       " 400689,\n",
       " 401956,\n",
       " 403225,\n",
       " 404496,\n",
       " 405769,\n",
       " 407044,\n",
       " 408321,\n",
       " 409600,\n",
       " 410881,\n",
       " 412164,\n",
       " 413449,\n",
       " 414736,\n",
       " 416025,\n",
       " 417316,\n",
       " 418609,\n",
       " 419904,\n",
       " 421201,\n",
       " 422500,\n",
       " 423801,\n",
       " 425104,\n",
       " 426409,\n",
       " 427716,\n",
       " 429025,\n",
       " 430336,\n",
       " 431649,\n",
       " 432964,\n",
       " 434281,\n",
       " 435600,\n",
       " 436921,\n",
       " 438244,\n",
       " 439569,\n",
       " 440896,\n",
       " 442225,\n",
       " 443556,\n",
       " 444889,\n",
       " 446224,\n",
       " 447561,\n",
       " 448900,\n",
       " 450241,\n",
       " 451584,\n",
       " 452929,\n",
       " 454276,\n",
       " 455625,\n",
       " 456976,\n",
       " 458329,\n",
       " 459684,\n",
       " 461041,\n",
       " 462400,\n",
       " 463761,\n",
       " 465124,\n",
       " 466489,\n",
       " 467856,\n",
       " 469225,\n",
       " 470596,\n",
       " 471969,\n",
       " 473344,\n",
       " 474721,\n",
       " 476100,\n",
       " 477481,\n",
       " 478864,\n",
       " 480249,\n",
       " 481636,\n",
       " 483025,\n",
       " 484416,\n",
       " 485809,\n",
       " 487204,\n",
       " 488601,\n",
       " 490000,\n",
       " 491401,\n",
       " 492804,\n",
       " 494209,\n",
       " 495616,\n",
       " 497025,\n",
       " 498436,\n",
       " 499849,\n",
       " 501264,\n",
       " 502681,\n",
       " 504100,\n",
       " 505521,\n",
       " 506944,\n",
       " 508369,\n",
       " 509796,\n",
       " 511225,\n",
       " 512656,\n",
       " 514089,\n",
       " 515524,\n",
       " 516961,\n",
       " 518400,\n",
       " 519841,\n",
       " 521284,\n",
       " 522729,\n",
       " 524176,\n",
       " 525625,\n",
       " 527076,\n",
       " 528529,\n",
       " 529984,\n",
       " 531441,\n",
       " 532900,\n",
       " 534361,\n",
       " 535824,\n",
       " 537289,\n",
       " 538756,\n",
       " 540225,\n",
       " 541696,\n",
       " 543169,\n",
       " 544644,\n",
       " 546121,\n",
       " 547600,\n",
       " 549081,\n",
       " 550564,\n",
       " 552049,\n",
       " 553536,\n",
       " 555025,\n",
       " 556516,\n",
       " 558009,\n",
       " 559504,\n",
       " 561001,\n",
       " 562500,\n",
       " 564001,\n",
       " 565504,\n",
       " 567009,\n",
       " 568516,\n",
       " 570025,\n",
       " 571536,\n",
       " 573049,\n",
       " 574564,\n",
       " 576081,\n",
       " 577600,\n",
       " 579121,\n",
       " 580644,\n",
       " 582169,\n",
       " 583696,\n",
       " 585225,\n",
       " 586756,\n",
       " 588289,\n",
       " 589824,\n",
       " 591361,\n",
       " 592900,\n",
       " 594441,\n",
       " 595984,\n",
       " 597529,\n",
       " 599076,\n",
       " 600625,\n",
       " 602176,\n",
       " 603729,\n",
       " 605284,\n",
       " 606841,\n",
       " 608400,\n",
       " 609961,\n",
       " 611524,\n",
       " 613089,\n",
       " 614656,\n",
       " 616225,\n",
       " 617796,\n",
       " 619369,\n",
       " 620944,\n",
       " 622521,\n",
       " 624100,\n",
       " 625681,\n",
       " 627264,\n",
       " 628849,\n",
       " 630436,\n",
       " 632025,\n",
       " 633616,\n",
       " 635209,\n",
       " 636804,\n",
       " 638401,\n",
       " 640000,\n",
       " 641601,\n",
       " 643204,\n",
       " 644809,\n",
       " 646416,\n",
       " 648025,\n",
       " 649636,\n",
       " 651249,\n",
       " 652864,\n",
       " 654481,\n",
       " 656100,\n",
       " 657721,\n",
       " 659344,\n",
       " 660969,\n",
       " 662596,\n",
       " 664225,\n",
       " 665856,\n",
       " 667489,\n",
       " 669124,\n",
       " 670761,\n",
       " 672400,\n",
       " 674041,\n",
       " 675684,\n",
       " 677329,\n",
       " 678976,\n",
       " 680625,\n",
       " 682276,\n",
       " 683929,\n",
       " 685584,\n",
       " 687241,\n",
       " 688900,\n",
       " 690561,\n",
       " 692224,\n",
       " 693889,\n",
       " 695556,\n",
       " 697225,\n",
       " 698896,\n",
       " 700569,\n",
       " 702244,\n",
       " 703921,\n",
       " 705600,\n",
       " 707281,\n",
       " 708964,\n",
       " 710649,\n",
       " 712336,\n",
       " 714025,\n",
       " 715716,\n",
       " 717409,\n",
       " 719104,\n",
       " 720801,\n",
       " 722500,\n",
       " 724201,\n",
       " 725904,\n",
       " 727609,\n",
       " 729316,\n",
       " 731025,\n",
       " 732736,\n",
       " 734449,\n",
       " 736164,\n",
       " 737881,\n",
       " 739600,\n",
       " 741321,\n",
       " 743044,\n",
       " 744769,\n",
       " 746496,\n",
       " 748225,\n",
       " 749956,\n",
       " 751689,\n",
       " 753424,\n",
       " 755161,\n",
       " 756900,\n",
       " 758641,\n",
       " 760384,\n",
       " 762129,\n",
       " 763876,\n",
       " 765625,\n",
       " 767376,\n",
       " 769129,\n",
       " 770884,\n",
       " 772641,\n",
       " 774400,\n",
       " 776161,\n",
       " 777924,\n",
       " 779689,\n",
       " 781456,\n",
       " 783225,\n",
       " 784996,\n",
       " 786769,\n",
       " 788544,\n",
       " 790321,\n",
       " 792100,\n",
       " 793881,\n",
       " 795664,\n",
       " 797449,\n",
       " 799236,\n",
       " 801025,\n",
       " 802816,\n",
       " 804609,\n",
       " 806404,\n",
       " 808201,\n",
       " 810000,\n",
       " 811801,\n",
       " 813604,\n",
       " 815409,\n",
       " 817216,\n",
       " 819025,\n",
       " 820836,\n",
       " 822649,\n",
       " 824464,\n",
       " 826281,\n",
       " 828100,\n",
       " 829921,\n",
       " 831744,\n",
       " 833569,\n",
       " 835396,\n",
       " 837225,\n",
       " 839056,\n",
       " 840889,\n",
       " 842724,\n",
       " 844561,\n",
       " 846400,\n",
       " 848241,\n",
       " 850084,\n",
       " 851929,\n",
       " 853776,\n",
       " 855625,\n",
       " 857476,\n",
       " 859329,\n",
       " 861184,\n",
       " 863041,\n",
       " 864900,\n",
       " 866761,\n",
       " 868624,\n",
       " 870489,\n",
       " 872356,\n",
       " 874225,\n",
       " 876096,\n",
       " 877969,\n",
       " 879844,\n",
       " 881721,\n",
       " 883600,\n",
       " 885481,\n",
       " 887364,\n",
       " 889249,\n",
       " 891136,\n",
       " 893025,\n",
       " 894916,\n",
       " 896809,\n",
       " 898704,\n",
       " 900601,\n",
       " 902500,\n",
       " 904401,\n",
       " 906304,\n",
       " 908209,\n",
       " 910116,\n",
       " 912025,\n",
       " 913936,\n",
       " 915849,\n",
       " 917764,\n",
       " 919681,\n",
       " 921600,\n",
       " 923521,\n",
       " 925444,\n",
       " 927369,\n",
       " 929296,\n",
       " 931225,\n",
       " 933156,\n",
       " 935089,\n",
       " 937024,\n",
       " 938961,\n",
       " 940900,\n",
       " 942841,\n",
       " 944784,\n",
       " 946729,\n",
       " 948676,\n",
       " 950625,\n",
       " 952576,\n",
       " 954529,\n",
       " 956484,\n",
       " 958441,\n",
       " 960400,\n",
       " 962361,\n",
       " 964324,\n",
       " 966289,\n",
       " 968256,\n",
       " 970225,\n",
       " 972196,\n",
       " 974169,\n",
       " 976144,\n",
       " 978121,\n",
       " 980100,\n",
       " 982081,\n",
       " 984064,\n",
       " 986049,\n",
       " 988036,\n",
       " 990025,\n",
       " 992016,\n",
       " 994009,\n",
       " 996004,\n",
       " 998001]"
      ]
     },
     "execution_count": 30,
     "metadata": {},
     "output_type": "execute_result"
    }
   ],
   "source": [
    "[v for x in range(1000) for v in [f(x)] if v > 10]"
   ]
  },
  {
   "cell_type": "markdown",
   "metadata": {},
   "source": [
    "However, in practice, the logic of code can be more complicated and it's important to keep it readable. In general, a\n",
    "separate generator function is recommended over a complex one-liner:"
   ]
  },
  {
   "cell_type": "code",
   "execution_count": 31,
   "metadata": {},
   "outputs": [],
   "source": [
    "def process_prime_numbers(iterable): \n",
    "    for x in iterable: \n",
    "        if is_prime(x):\n",
    "            yield f(x) "
   ]
  },
  {
   "cell_type": "code",
   "execution_count": 32,
   "metadata": {},
   "outputs": [
    {
     "ename": "NameError",
     "evalue": "name 'is_prime' is not defined",
     "output_type": "error",
     "traceback": [
      "\u001b[1;31m---------------------------------------------------------------------------\u001b[0m",
      "\u001b[1;31mNameError\u001b[0m                                 Traceback (most recent call last)",
      "Cell \u001b[1;32mIn[32], line 1\u001b[0m\n\u001b[1;32m----> 1\u001b[0m \u001b[43m[\u001b[49m\u001b[43mx\u001b[49m\u001b[43m \u001b[49m\u001b[38;5;28;43;01mfor\u001b[39;49;00m\u001b[43m \u001b[49m\u001b[43mx\u001b[49m\u001b[43m \u001b[49m\u001b[38;5;129;43;01min\u001b[39;49;00m\u001b[43m \u001b[49m\u001b[43mprocess_prime_numbers\u001b[49m\u001b[43m(\u001b[49m\u001b[38;5;28;43mrange\u001b[39;49m\u001b[43m(\u001b[49m\u001b[38;5;241;43m1000\u001b[39;49m\u001b[43m)\u001b[49m\u001b[43m)\u001b[49m\u001b[43m \u001b[49m\u001b[38;5;28;43;01mif\u001b[39;49;00m\u001b[43m \u001b[49m\u001b[43mx\u001b[49m\u001b[43m \u001b[49m\u001b[38;5;241;43m>\u001b[39;49m\u001b[43m \u001b[49m\u001b[38;5;241;43m10\u001b[39;49m\u001b[43m]\u001b[49m\n",
      "Cell \u001b[1;32mIn[31], line 3\u001b[0m, in \u001b[0;36mprocess_prime_numbers\u001b[1;34m(iterable)\u001b[0m\n\u001b[0;32m      1\u001b[0m \u001b[38;5;28;01mdef\u001b[39;00m \u001b[38;5;21mprocess_prime_numbers\u001b[39m(iterable): \n\u001b[0;32m      2\u001b[0m     \u001b[38;5;28;01mfor\u001b[39;00m x \u001b[38;5;129;01min\u001b[39;00m iterable: \n\u001b[1;32m----> 3\u001b[0m         \u001b[38;5;28;01mif\u001b[39;00m \u001b[43mis_prime\u001b[49m(x):\n\u001b[0;32m      4\u001b[0m             \u001b[38;5;28;01myield\u001b[39;00m f(x)\n",
      "\u001b[1;31mNameError\u001b[0m: name 'is_prime' is not defined"
     ]
    }
   ],
   "source": [
    "[x for x in process_prime_numbers(range(1000)) if x > 10]"
   ]
  },
  {
   "cell_type": "markdown",
   "metadata": {},
   "source": [
    "Another way to prevent computing f(x) multiple times is to use the @functools.lru_cache()(Python 3.2+)\n",
    "decorator on f(x). This way since the output of f for the input x has already been computed once, the second function invocation of the original list comprehension will be as fast as a dictionary lookup. This approach uses\n",
    "memoization to improve efficiency, which is comparable to using generator expressions."
   ]
  },
  {
   "cell_type": "markdown",
   "metadata": {},
   "source": [
    "Say you have to flatten a list"
   ]
  },
  {
   "cell_type": "code",
   "execution_count": 33,
   "metadata": {},
   "outputs": [],
   "source": [
    "l = [[1, 2, 3], [4, 5, 6], [7], [8, 9]]"
   ]
  },
  {
   "cell_type": "markdown",
   "metadata": {},
   "source": [
    "Some of the methods could be: "
   ]
  },
  {
   "cell_type": "code",
   "execution_count": 35,
   "metadata": {},
   "outputs": [],
   "source": [
    "from functools import reduce "
   ]
  },
  {
   "cell_type": "code",
   "execution_count": 37,
   "metadata": {},
   "outputs": [
    {
     "data": {
      "text/plain": [
       "10"
      ]
     },
     "execution_count": 37,
     "metadata": {},
     "output_type": "execute_result"
    }
   ],
   "source": [
    "reduce(lambda x, y: x+y, [1,2,3,4]) "
   ]
  },
  {
   "cell_type": "markdown",
   "metadata": {},
   "source": [
    "However list comprehension would provide the best time complexity. "
   ]
  },
  {
   "cell_type": "markdown",
   "metadata": {},
   "source": [
    "[item for sublist in l for item in sublist]"
   ]
  },
  {
   "cell_type": "markdown",
   "metadata": {},
   "source": [
    "The shortcuts based on + (including the implied use in sum) are, of necessity, O(L^2) when there are L sublists -- as\n",
    "the intermediate result list keeps getting longer, at each step a new intermediate result list object gets allocated,\n",
    "and all the items in the previous intermediate result must be copied over (as well as a few new ones added at the\n",
    "end). So (for simplicity and without actual loss of generality) say you have L sublists of I items each: the first I items\n",
    "are copied back and forth L-1 times, the second I items L-2 times, and so on; total number of copies is I times the\n",
    "sum of x for x from 1 to L excluded, i.e., I * (L**2)/2."
   ]
  },
  {
   "cell_type": "markdown",
   "metadata": {},
   "source": [
    "The list comprehension just generates one list, once, and copies each item over (from its original place of residence\n",
    "to the result list) also exactly once."
   ]
  },
  {
   "cell_type": "markdown",
   "metadata": {},
   "source": [
    "## 4) Dictionary Comprehensions "
   ]
  },
  {
   "cell_type": "markdown",
   "metadata": {},
   "source": [
    "A dictionary comprehension is similar to a list comprehension except that it produces a dictionary object instead of\n",
    "a list."
   ]
  },
  {
   "cell_type": "markdown",
   "metadata": {},
   "source": [
    "A basic example: "
   ]
  },
  {
   "cell_type": "code",
   "execution_count": 38,
   "metadata": {},
   "outputs": [
    {
     "data": {
      "text/plain": [
       "{1: 1, 2: 4, 3: 9, 4: 16}"
      ]
     },
     "execution_count": 38,
     "metadata": {},
     "output_type": "execute_result"
    }
   ],
   "source": [
    "{x: x*x for x in (1,2,3,4)} "
   ]
  },
  {
   "cell_type": "markdown",
   "metadata": {},
   "source": [
    "which is just another way of writing: "
   ]
  },
  {
   "cell_type": "code",
   "execution_count": 39,
   "metadata": {},
   "outputs": [
    {
     "data": {
      "text/plain": [
       "{1: 1, 2: 4, 3: 9, 4: 16}"
      ]
     },
     "execution_count": 39,
     "metadata": {},
     "output_type": "execute_result"
    }
   ],
   "source": [
    "dict((x, x*x) for x in (1,2,3,4))"
   ]
  },
  {
   "cell_type": "markdown",
   "metadata": {},
   "source": [
    "As with a list comprehension, we can use a conditional statement inside the dict comprehension to produce only\n",
    "the dict elements meeting some criterion."
   ]
  },
  {
   "cell_type": "code",
   "execution_count": 40,
   "metadata": {},
   "outputs": [
    {
     "data": {
      "text/plain": [
       "{'Overflow': 8, 'Exchange': 8}"
      ]
     },
     "execution_count": 40,
     "metadata": {},
     "output_type": "execute_result"
    }
   ],
   "source": [
    "{name: len(name) for name in (\"Stack\", \"Overflow\", \"Exchange\") if len(name) > 6}"
   ]
  },
  {
   "cell_type": "markdown",
   "metadata": {},
   "source": [
    "Or, rewritten using a generator expression."
   ]
  },
  {
   "cell_type": "code",
   "execution_count": 43,
   "metadata": {},
   "outputs": [
    {
     "data": {
      "text/plain": [
       "{'Overflow': 8, 'Exchange': 8}"
      ]
     },
     "execution_count": 43,
     "metadata": {},
     "output_type": "execute_result"
    }
   ],
   "source": [
    "dict(\n",
    "    (name, len(name))\n",
    "    for name in (\"Stack\", \"Overflow\", \"Exchange\")\n",
    "    if len(name) > 6\n",
    ")"
   ]
  },
  {
   "cell_type": "markdown",
   "metadata": {},
   "source": [
    "### 4.1) Starting with a dictionary and using dictionary comprehension as a key-value pair filter"
   ]
  },
  {
   "cell_type": "code",
   "execution_count": 44,
   "metadata": {},
   "outputs": [],
   "source": [
    "initial_dict = {'x': 1, 'y': 2} "
   ]
  },
  {
   "cell_type": "code",
   "execution_count": 45,
   "metadata": {},
   "outputs": [
    {
     "data": {
      "text/plain": [
       "{'x': 1}"
      ]
     },
     "execution_count": 45,
     "metadata": {},
     "output_type": "execute_result"
    }
   ],
   "source": [
    "{key: value for key, value in initial_dict.items() if key == 'x'} "
   ]
  },
  {
   "cell_type": "markdown",
   "metadata": {},
   "source": [
    "### 4.2) Switching key and value of dictionary (invert dictionary)"
   ]
  },
  {
   "cell_type": "markdown",
   "metadata": {},
   "source": [
    "If you have a dict containing simple hashable values (duplicate values may have unexpected results): "
   ]
  },
  {
   "cell_type": "code",
   "execution_count": 1,
   "metadata": {},
   "outputs": [],
   "source": [
    "my_dict = {1: 'a', 2: 'b', 3: 'c'} "
   ]
  },
  {
   "cell_type": "markdown",
   "metadata": {},
   "source": [
    "and you wanted to swap the keys and values you can take several approaches depending on your coding style: "
   ]
  },
  {
   "cell_type": "markdown",
   "metadata": {},
   "source": [
    "- swapped = {v: k for k,v in my_dict.items()}"
   ]
  },
  {
   "cell_type": "markdown",
   "metadata": {},
   "source": [
    "- swapped = dict((v, k) for k, v in my_dict.iteritems())"
   ]
  },
  {
   "cell_type": "markdown",
   "metadata": {},
   "source": [
    "- swapped = dict(zip(my_dict.values(), my_dict))"
   ]
  },
  {
   "cell_type": "markdown",
   "metadata": {},
   "source": [
    "- swapped = dict(zip(my_dict.values(), my_dict.keys())) "
   ]
  },
  {
   "cell_type": "markdown",
   "metadata": {},
   "source": [
    "- swapped = dict(map(reversed, my_dict.items()))"
   ]
  },
  {
   "cell_type": "markdown",
   "metadata": {},
   "source": [
    "print(swapped)"
   ]
  },
  {
   "cell_type": "markdown",
   "metadata": {},
   "source": [
    "If your dictionary is large, consider importing itertools and utilitize izip or imap."
   ]
  },
  {
   "cell_type": "markdown",
   "metadata": {},
   "source": [
    "### 4.3) Merging Dictionaries "
   ]
  },
  {
   "cell_type": "markdown",
   "metadata": {},
   "source": [
    "Combine dictionaries and optionally override old values with a nested dictionary comprehension. "
   ]
  },
  {
   "cell_type": "code",
   "execution_count": 2,
   "metadata": {},
   "outputs": [],
   "source": [
    "dict1 = {'w': 1, 'x': 1} \n",
    "dict2 = {'x': 2, 'y': 2, 'z': 2} "
   ]
  },
  {
   "cell_type": "code",
   "execution_count": 3,
   "metadata": {},
   "outputs": [
    {
     "data": {
      "text/plain": [
       "{'w': 1, 'x': 2, 'y': 2, 'z': 2}"
      ]
     },
     "execution_count": 3,
     "metadata": {},
     "output_type": "execute_result"
    }
   ],
   "source": [
    "{k:v for d in [dict1, dict2] for k, v in d.items()}"
   ]
  },
  {
   "cell_type": "code",
   "execution_count": 4,
   "metadata": {},
   "outputs": [
    {
     "data": {
      "text/plain": [
       "{'w': 1, 'x': 2, 'y': 2, 'z': 2}"
      ]
     },
     "execution_count": 4,
     "metadata": {},
     "output_type": "execute_result"
    }
   ],
   "source": [
    "{**dict1, **dict2}"
   ]
  },
  {
   "cell_type": "markdown",
   "metadata": {},
   "source": [
    "Note: dictionary comprehensions were added in Python 3.0 and backported to 2.7+, unlike list comprehensions,\n",
    "which were added in 2.0. Versions < 2.7 can use generator expressions and the dict() builtin to simulate the\n",
    "behavior of dictionary comprehensions."
   ]
  },
  {
   "cell_type": "markdown",
   "metadata": {},
   "source": [
    "## 5) List comprehensions with nested loops "
   ]
  },
  {
   "cell_type": "markdown",
   "metadata": {},
   "source": [
    "List Comprehensions can use nested for loops. You can code any number of nested for loops within a list\n",
    "comprehension, and each for loop may have an optional associated if test. When doing so, the order of the for constructs is the same order as when writing a series of nested for statements. The general structure of list\n",
    "comprehensions looks like this:"
   ]
  },
  {
   "cell_type": "markdown",
   "metadata": {},
   "source": [
    "[expression for target1 in iterable1 [if condition1] for target2 in iterable2 [if condition2] for target3 in iterable3 [if condition3]]"
   ]
  },
  {
   "cell_type": "markdown",
   "metadata": {},
   "source": [
    "For example, the following code flattening a list of lists using multiple for statements: "
   ]
  },
  {
   "cell_type": "code",
   "execution_count": 5,
   "metadata": {},
   "outputs": [],
   "source": [
    "data = [[1,2], [3,4], [5,6]] "
   ]
  },
  {
   "cell_type": "code",
   "execution_count": 6,
   "metadata": {},
   "outputs": [],
   "source": [
    "output = [] "
   ]
  },
  {
   "cell_type": "code",
   "execution_count": 7,
   "metadata": {},
   "outputs": [],
   "source": [
    "for each_list in data:\n",
    "    for element in each_list:\n",
    "        output.append(element) "
   ]
  },
  {
   "cell_type": "code",
   "execution_count": 8,
   "metadata": {},
   "outputs": [
    {
     "data": {
      "text/plain": [
       "[1, 2, 3, 4, 5, 6]"
      ]
     },
     "execution_count": 8,
     "metadata": {},
     "output_type": "execute_result"
    }
   ],
   "source": [
    "output"
   ]
  },
  {
   "cell_type": "markdown",
   "metadata": {},
   "source": [
    "can be equivalent written as a list comprehension with multiple for constructs: "
   ]
  },
  {
   "cell_type": "code",
   "execution_count": 9,
   "metadata": {},
   "outputs": [],
   "source": [
    "data = [[1,2], [3,4], [5,6]] "
   ]
  },
  {
   "cell_type": "code",
   "execution_count": 10,
   "metadata": {},
   "outputs": [],
   "source": [
    "output = [element for each_list in data for element in each_list]"
   ]
  },
  {
   "cell_type": "code",
   "execution_count": 11,
   "metadata": {},
   "outputs": [
    {
     "name": "stdout",
     "output_type": "stream",
     "text": [
      "[1, 2, 3, 4, 5, 6]\n"
     ]
    }
   ],
   "source": [
    "print(output) "
   ]
  },
  {
   "cell_type": "markdown",
   "metadata": {},
   "source": [
    "Live Demo\n",
    "In both the expanded form and the list comprehension, the outer loop (first for statement) comes first.\n",
    "In addition to being more compact, the nested comprehension is also significantly faster."
   ]
  },
  {
   "cell_type": "code",
   "execution_count": 12,
   "metadata": {},
   "outputs": [],
   "source": [
    "data = [[1,2], [3,4], [5,6]] "
   ]
  },
  {
   "cell_type": "code",
   "execution_count": 13,
   "metadata": {},
   "outputs": [],
   "source": [
    "def f(): \n",
    "    output = [] \n",
    "    for each_list in data: \n",
    "        for element in each_list: \n",
    "            output.append(element) \n",
    "    return output \n"
   ]
  },
  {
   "cell_type": "markdown",
   "metadata": {},
   "source": [
    "The overhead for the function call above is about 140ns. "
   ]
  },
  {
   "cell_type": "markdown",
   "metadata": {},
   "source": [
    "Inline ifs are nested similarly, and may occur in any position after the first for: "
   ]
  },
  {
   "cell_type": "code",
   "execution_count": 14,
   "metadata": {},
   "outputs": [],
   "source": [
    "data = [[1], [2,3], [4,5]]"
   ]
  },
  {
   "cell_type": "code",
   "execution_count": 15,
   "metadata": {},
   "outputs": [],
   "source": [
    "output = [element for each_list in data if len(each_list) == 2 for element in each_list if element != 5]"
   ]
  },
  {
   "cell_type": "code",
   "execution_count": 16,
   "metadata": {},
   "outputs": [
    {
     "name": "stdout",
     "output_type": "stream",
     "text": [
      "[2, 3, 4]\n"
     ]
    }
   ],
   "source": [
    "print(output) "
   ]
  },
  {
   "cell_type": "markdown",
   "metadata": {},
   "source": [
    "For the sake of readability, however, you should consider using traditional for-loops. This is especially true when\n",
    "nesting is more than 2 levels deep, and/or the logic of the comprehension is too complex. multiple nested loop list comprehension could be error prone or it gives unexpected result. "
   ]
  },
  {
   "cell_type": "markdown",
   "metadata": {},
   "source": [
    "## 6) Generator Expressions "
   ]
  },
  {
   "cell_type": "markdown",
   "metadata": {},
   "source": [
    "Generator expressions are very similar to list comprehensions. The main difference is that it does not create a full set of results at once, it creates a generator object which can then be iterated over. v\n"
   ]
  },
  {
   "cell_type": "markdown",
   "metadata": {},
   "source": [
    "For instance, see the difference in the following code: "
   ]
  },
  {
   "cell_type": "code",
   "execution_count": 17,
   "metadata": {},
   "outputs": [
    {
     "data": {
      "text/plain": [
       "[0, 1, 4, 9, 16, 25, 36, 49, 64, 81]"
      ]
     },
     "execution_count": 17,
     "metadata": {},
     "output_type": "execute_result"
    }
   ],
   "source": [
    "[x**2 for x in range(10)] "
   ]
  },
  {
   "cell_type": "code",
   "execution_count": 18,
   "metadata": {},
   "outputs": [
    {
     "data": {
      "text/plain": [
       "<generator object <genexpr> at 0x0000016EC8EDFC60>"
      ]
     },
     "execution_count": 18,
     "metadata": {},
     "output_type": "execute_result"
    }
   ],
   "source": [
    "(x**2 for x in range(10)) "
   ]
  },
  {
   "cell_type": "markdown",
   "metadata": {},
   "source": [
    "These are two very different objects: "
   ]
  },
  {
   "cell_type": "markdown",
   "metadata": {},
   "source": [
    "- The list comprehension returns a list object whereas the generator comprehension returns a generator. \n",
    "- generator objects connot be indexed and makes use of the next function to get items in order. "
   ]
  },
  {
   "cell_type": "markdown",
   "metadata": {},
   "source": [
    "Note: We use xrange since it too creates a generator object. If we would use range, a list would be created. Also,\n",
    "xrange exists only in later version of python 2. In python 3, range just returns a generator. For more information,\n",
    "see the Differences between range and xrange functions example."
   ]
  },
  {
   "cell_type": "code",
   "execution_count": 19,
   "metadata": {},
   "outputs": [],
   "source": [
    "g = (x**2 for x in range(10))"
   ]
  },
  {
   "cell_type": "code",
   "execution_count": 20,
   "metadata": {},
   "outputs": [
    {
     "data": {
      "text/plain": [
       "[0, 1, 4, 9, 16, 25, 36, 49, 64, 81]"
      ]
     },
     "execution_count": 20,
     "metadata": {},
     "output_type": "execute_result"
    }
   ],
   "source": [
    "list(g)"
   ]
  },
  {
   "cell_type": "code",
   "execution_count": 21,
   "metadata": {},
   "outputs": [
    {
     "data": {
      "text/plain": [
       "<generator object <genexpr> at 0x0000016EC8EDCC70>"
      ]
     },
     "execution_count": 21,
     "metadata": {},
     "output_type": "execute_result"
    }
   ],
   "source": [
    "g"
   ]
  },
  {
   "cell_type": "code",
   "execution_count": 22,
   "metadata": {},
   "outputs": [
    {
     "ename": "TypeError",
     "evalue": "'generator' object is not subscriptable",
     "output_type": "error",
     "traceback": [
      "\u001b[1;31m---------------------------------------------------------------------------\u001b[0m",
      "\u001b[1;31mTypeError\u001b[0m                                 Traceback (most recent call last)",
      "Cell \u001b[1;32mIn[22], line 1\u001b[0m\n\u001b[1;32m----> 1\u001b[0m \u001b[38;5;28mprint\u001b[39m(\u001b[43mg\u001b[49m\u001b[43m[\u001b[49m\u001b[38;5;241;43m0\u001b[39;49m\u001b[43m]\u001b[49m)\n",
      "\u001b[1;31mTypeError\u001b[0m: 'generator' object is not subscriptable"
     ]
    }
   ],
   "source": [
    "print(g[0])"
   ]
  },
  {
   "cell_type": "code",
   "execution_count": 23,
   "metadata": {},
   "outputs": [
    {
     "ename": "AttributeError",
     "evalue": "'generator' object has no attribute 'next'",
     "output_type": "error",
     "traceback": [
      "\u001b[1;31m---------------------------------------------------------------------------\u001b[0m",
      "\u001b[1;31mAttributeError\u001b[0m                            Traceback (most recent call last)",
      "Cell \u001b[1;32mIn[23], line 1\u001b[0m\n\u001b[1;32m----> 1\u001b[0m \u001b[43mg\u001b[49m\u001b[38;5;241;43m.\u001b[39;49m\u001b[43mnext\u001b[49m()\n",
      "\u001b[1;31mAttributeError\u001b[0m: 'generator' object has no attribute 'next'"
     ]
    }
   ],
   "source": [
    "g.next()"
   ]
  },
  {
   "cell_type": "markdown",
   "metadata": {},
   "source": [
    "    NOTE: The function g.next() should be substituted by next(g) and xrange with range since Iterator.next() and xrange() do not exist in Python 3."
   ]
  },
  {
   "cell_type": "markdown",
   "metadata": {},
   "source": [
    "Although both of these can be iterated in a similar way: "
   ]
  },
  {
   "cell_type": "code",
   "execution_count": 24,
   "metadata": {},
   "outputs": [
    {
     "name": "stdout",
     "output_type": "stream",
     "text": [
      "0\n",
      "1\n",
      "4\n",
      "9\n",
      "16\n",
      "25\n",
      "36\n",
      "49\n",
      "64\n",
      "81\n"
     ]
    }
   ],
   "source": [
    "for i in [x**2 for x in range(10)]: \n",
    "    print(i) "
   ]
  },
  {
   "cell_type": "code",
   "execution_count": 25,
   "metadata": {},
   "outputs": [
    {
     "name": "stdout",
     "output_type": "stream",
     "text": [
      "0\n",
      "1\n",
      "4\n",
      "9\n",
      "16\n",
      "25\n",
      "36\n",
      "49\n",
      "64\n",
      "81\n"
     ]
    }
   ],
   "source": [
    "for i in (x**2 for x in range(10)): \n",
    "    print(i) "
   ]
  },
  {
   "cell_type": "markdown",
   "metadata": {},
   "source": [
    "### 6.1) Use cases "
   ]
  },
  {
   "cell_type": "markdown",
   "metadata": {},
   "source": [
    "Generator expressions are lazily evaluated, which means that they generate and return each value only when the generator is iterated. This is useful when iterating through large datasets, avoiding the need to create a duplicate of the dataset in memory: "
   ]
  },
  {
   "cell_type": "markdown",
   "metadata": {},
   "source": [
    "for square in (x**2 for x in range(1000000)):\n"
   ]
  },
  {
   "cell_type": "markdown",
   "metadata": {},
   "source": [
    "#dosomething"
   ]
  },
  {
   "cell_type": "markdown",
   "metadata": {},
   "source": [
    "Another common use case is to avoid iterating over an entire iterable if doing so is not necessary. In this example,\n",
    "an item is retrieved from a remote API with each iteration of get_objects(). Thousands of objects may exist, must\n",
    "be retrieved one-by-one, and we only need to know if an object matching a pattern exists. By using a generator\n",
    "expression, when we encounter an object matching the pattern."
   ]
  },
  {
   "cell_type": "code",
   "execution_count": 26,
   "metadata": {},
   "outputs": [],
   "source": [
    "def get_objects():\n",
    "    while True: \n",
    "        yield get_next_item()"
   ]
  },
  {
   "cell_type": "code",
   "execution_count": 27,
   "metadata": {},
   "outputs": [],
   "source": [
    "def object_matches_pattern(obj):\n",
    "    return matches_pattern "
   ]
  },
  {
   "cell_type": "code",
   "execution_count": 28,
   "metadata": {},
   "outputs": [],
   "source": [
    "def right_item_exists():\n",
    "    items = (object_matches_pattern(each) for each in get_objects())\n",
    "    for item in items: \n",
    "        if item.is_the_right_one: \n",
    "            return True \n",
    "    return False "
   ]
  },
  {
   "cell_type": "markdown",
   "metadata": {},
   "source": [
    "## 7) Set Comprehensions"
   ]
  },
  {
   "cell_type": "markdown",
   "metadata": {},
   "source": [
    "Set comprehension is similar to list and dictionary comprehension, but it produces a set, which is an unordered collection of unique elements. "
   ]
  },
  {
   "cell_type": "code",
   "execution_count": 29,
   "metadata": {},
   "outputs": [
    {
     "data": {
      "text/plain": [
       "{0, 1, 2, 3, 4}"
      ]
     },
     "execution_count": 29,
     "metadata": {},
     "output_type": "execute_result"
    }
   ],
   "source": [
    "{x for x in range(5)}"
   ]
  },
  {
   "cell_type": "code",
   "execution_count": 30,
   "metadata": {},
   "outputs": [
    {
     "data": {
      "text/plain": [
       "{2, 4, 6, 8, 10}"
      ]
     },
     "execution_count": 30,
     "metadata": {},
     "output_type": "execute_result"
    }
   ],
   "source": [
    "{x for x in range(1, 11) if x % 2 == 0}"
   ]
  },
  {
   "cell_type": "code",
   "execution_count": 32,
   "metadata": {},
   "outputs": [],
   "source": [
    "text = \"When in the Course of human events it becomes necessary for one people...\""
   ]
  },
  {
   "cell_type": "code",
   "execution_count": 33,
   "metadata": {},
   "outputs": [
    {
     "data": {
      "text/plain": [
       "{'a',\n",
       " 'b',\n",
       " 'c',\n",
       " 'e',\n",
       " 'f',\n",
       " 'h',\n",
       " 'i',\n",
       " 'l',\n",
       " 'm',\n",
       " 'n',\n",
       " 'o',\n",
       " 'p',\n",
       " 'r',\n",
       " 's',\n",
       " 't',\n",
       " 'u',\n",
       " 'v',\n",
       " 'w',\n",
       " 'y'}"
      ]
     },
     "execution_count": 33,
     "metadata": {},
     "output_type": "execute_result"
    }
   ],
   "source": [
    "{ch.lower() for ch in text if ch.isalpha()}"
   ]
  },
  {
   "cell_type": "markdown",
   "metadata": {},
   "source": [
    "Live demo "
   ]
  },
  {
   "cell_type": "markdown",
   "metadata": {},
   "source": [
    "Keep in mind that sét are unordered. This means that the order of the results in the set may differ from the one presented in the above examples. "
   ]
  },
  {
   "cell_type": "markdown",
   "metadata": {},
   "source": [
    "Note: Set comprehension is available since python 2.7+, unlike list comprehensions, which were added in 2.0. In python 2.2 to Python 2.6 the set() function can be used with a generator expression to produce the same result: "
   ]
  },
  {
   "cell_type": "code",
   "execution_count": 34,
   "metadata": {},
   "outputs": [
    {
     "data": {
      "text/plain": [
       "{0, 1, 2, 3, 4}"
      ]
     },
     "execution_count": 34,
     "metadata": {},
     "output_type": "execute_result"
    }
   ],
   "source": [
    "set(x for x in range(5)) "
   ]
  },
  {
   "cell_type": "markdown",
   "metadata": {},
   "source": [
    "## 8) Refactoring filter and map to list comprehensions "
   ]
  },
  {
   "cell_type": "markdown",
   "metadata": {},
   "source": [
    "The filter or map functions should often be replaced by list comprehensions. Guido Van Rossum describes this\n",
    "well in an open letter in 2005:"
   ]
  },
  {
   "cell_type": "markdown",
   "metadata": {},
   "source": [
    "filter(P, S) is almost always written clearer as [x for x in S if P(x)], and this has the huge\n",
    "advantage that the most common usages involve predicates that are comparisons, e.g. x==42, and\n",
    "defining a lambda for that just requires much more effort for the reader (plus the lambda is slower than\n",
    "the list comprehension). Even more so for map(F, S) which becomes [F(x) for x in S]. Of course, in\n",
    "many cases you'd be able to use generator expressions instead."
   ]
  },
  {
   "cell_type": "markdown",
   "metadata": {},
   "source": [
    "The following lines of code are considered \"not pythonic\" and will raise errors in many python linters. "
   ]
  },
  {
   "cell_type": "code",
   "execution_count": 35,
   "metadata": {},
   "outputs": [
    {
     "data": {
      "text/plain": [
       "<filter at 0x16ec8f77370>"
      ]
     },
     "execution_count": 35,
     "metadata": {},
     "output_type": "execute_result"
    }
   ],
   "source": [
    "filter(lambda x: x%2 == 0, range(10)) "
   ]
  },
  {
   "cell_type": "code",
   "execution_count": 36,
   "metadata": {},
   "outputs": [
    {
     "data": {
      "text/plain": [
       "<map at 0x16ec8f673a0>"
      ]
     },
     "execution_count": 36,
     "metadata": {},
     "output_type": "execute_result"
    }
   ],
   "source": [
    "map(lambda x: 2*x, range(10)) "
   ]
  },
  {
   "cell_type": "code",
   "execution_count": 37,
   "metadata": {},
   "outputs": [
    {
     "ename": "NameError",
     "evalue": "name 'reduce' is not defined",
     "output_type": "error",
     "traceback": [
      "\u001b[1;31m---------------------------------------------------------------------------\u001b[0m",
      "\u001b[1;31mNameError\u001b[0m                                 Traceback (most recent call last)",
      "Cell \u001b[1;32mIn[37], line 1\u001b[0m\n\u001b[1;32m----> 1\u001b[0m \u001b[43mreduce\u001b[49m(\u001b[38;5;28;01mlambda\u001b[39;00m x, y: x\u001b[38;5;241m+\u001b[39my, \u001b[38;5;28mrange\u001b[39m(\u001b[38;5;241m10\u001b[39m)) \n",
      "\u001b[1;31mNameError\u001b[0m: name 'reduce' is not defined"
     ]
    }
   ],
   "source": [
    "reduce(lambda x, y: x+y, range(10)) "
   ]
  },
  {
   "cell_type": "markdown",
   "metadata": {},
   "source": [
    "Taking what we have learned from the previous quote, we can break down these filter and map expressions into their equivalent list comprehensions, also removing the lambda functions from each - making the code more readable in the process. "
   ]
  },
  {
   "cell_type": "code",
   "execution_count": 2,
   "metadata": {},
   "outputs": [
    {
     "data": {
      "text/plain": [
       "[0, 2, 4, 6, 8]"
      ]
     },
     "execution_count": 2,
     "metadata": {},
     "output_type": "execute_result"
    }
   ],
   "source": [
    "#Filter: \n",
    "# P(x) = x%2 == 0 \n",
    "# S = range(10) \n",
    "[x for x in range(10) if x%2 == 0] "
   ]
  },
  {
   "cell_type": "code",
   "execution_count": 3,
   "metadata": {},
   "outputs": [
    {
     "data": {
      "text/plain": [
       "[0, 2, 4, 6, 8, 10, 12, 14, 16, 18]"
      ]
     },
     "execution_count": 3,
     "metadata": {},
     "output_type": "execute_result"
    }
   ],
   "source": [
    "#Map \n",
    "#F(x) = 2*x \n",
    "# S = range(10) \n",
    "[2*x for x in range(10)]"
   ]
  },
  {
   "cell_type": "markdown",
   "metadata": {},
   "source": [
    "Readability becomes even more apprent  when dealing with chaining functions. Where due to readability, the results of one map or filter function should be passed as a result to the next, with simple cases, these can be replaced with a single list comprehension. Further, we can easily tell from the list comprehension what the outcome of our process is, where there is more cognitive load when reasoning about the chained Map & Filter process. "
   ]
  },
  {
   "cell_type": "code",
   "execution_count": 5,
   "metadata": {},
   "outputs": [],
   "source": [
    "#Map & filter \n",
    "filtered = filter(lambda x: x%2 == 0, range(10))"
   ]
  },
  {
   "cell_type": "code",
   "execution_count": 7,
   "metadata": {},
   "outputs": [],
   "source": [
    "results = map(lambda x: 2*x, filtered)"
   ]
  },
  {
   "cell_type": "code",
   "execution_count": 8,
   "metadata": {},
   "outputs": [
    {
     "data": {
      "text/plain": [
       "<map at 0x16f7dd28f70>"
      ]
     },
     "execution_count": 8,
     "metadata": {},
     "output_type": "execute_result"
    }
   ],
   "source": [
    "results"
   ]
  },
  {
   "cell_type": "code",
   "execution_count": 9,
   "metadata": {},
   "outputs": [],
   "source": [
    "# List comprehension \n",
    "results = [2*x for x in range(10) if x%2 == 0]"
   ]
  },
  {
   "cell_type": "code",
   "execution_count": 10,
   "metadata": {},
   "outputs": [
    {
     "data": {
      "text/plain": [
       "[0, 4, 8, 12, 16]"
      ]
     },
     "execution_count": 10,
     "metadata": {},
     "output_type": "execute_result"
    }
   ],
   "source": [
    "results"
   ]
  },
  {
   "cell_type": "markdown",
   "metadata": {},
   "source": [
    "##### Refactoring - Quick Reference "
   ]
  },
  {
   "cell_type": "markdown",
   "metadata": {},
   "source": [
    "- Map "
   ]
  },
  {
   "cell_type": "markdown",
   "metadata": {},
   "source": [
    "map(F,S) == [F(x) for x in S]"
   ]
  },
  {
   "cell_type": "markdown",
   "metadata": {},
   "source": [
    "- Filter "
   ]
  },
  {
   "cell_type": "markdown",
   "metadata": {},
   "source": [
    "filter(P, S) == [x for x in S if P(x)]"
   ]
  },
  {
   "cell_type": "markdown",
   "metadata": {},
   "source": [
    "Where F and P are functions which respectively transform input values and return a bool. "
   ]
  },
  {
   "cell_type": "markdown",
   "metadata": {},
   "source": [
    "## 9) Comprehensions involving tuples "
   ]
  },
  {
   "cell_type": "markdown",
   "metadata": {},
   "source": [
    "The for clause of a list comprehension can specify more than one variable: "
   ]
  },
  {
   "cell_type": "code",
   "execution_count": 11,
   "metadata": {},
   "outputs": [
    {
     "data": {
      "text/plain": [
       "[3, 7, 11]"
      ]
     },
     "execution_count": 11,
     "metadata": {},
     "output_type": "execute_result"
    }
   ],
   "source": [
    "[x+y for x,y in [(1,2), (3,4), (5,6)]]"
   ]
  },
  {
   "cell_type": "code",
   "execution_count": 12,
   "metadata": {},
   "outputs": [
    {
     "data": {
      "text/plain": [
       "[5, 7, 9]"
      ]
     },
     "execution_count": 12,
     "metadata": {},
     "output_type": "execute_result"
    }
   ],
   "source": [
    "[x+y for x,y in zip([1,2,3], [4,5,6])]"
   ]
  },
  {
   "cell_type": "markdown",
   "metadata": {},
   "source": [
    "This is just like regular for loops: "
   ]
  },
  {
   "cell_type": "code",
   "execution_count": 13,
   "metadata": {},
   "outputs": [
    {
     "name": "stdout",
     "output_type": "stream",
     "text": [
      "3\n",
      "7\n",
      "11\n"
     ]
    }
   ],
   "source": [
    "for x, y in [(1,2), (3,4), (5,6)]: \n",
    "    print(x+y)"
   ]
  },
  {
   "cell_type": "markdown",
   "metadata": {},
   "source": [
    "Note however, if the expression that begins the comprehension is a tuple then it must be parenthesized: "
   ]
  },
  {
   "cell_type": "code",
   "execution_count": 16,
   "metadata": {},
   "outputs": [
    {
     "ename": "SyntaxError",
     "evalue": "did you forget parentheses around the comprehension target? (3432540293.py, line 1)",
     "output_type": "error",
     "traceback": [
      "\u001b[1;36m  Cell \u001b[1;32mIn[16], line 1\u001b[1;36m\u001b[0m\n\u001b[1;33m    [x,y for x, y in [(1,2), (3,4), (5,6)]]\u001b[0m\n\u001b[1;37m     ^\u001b[0m\n\u001b[1;31mSyntaxError\u001b[0m\u001b[1;31m:\u001b[0m did you forget parentheses around the comprehension target?\n"
     ]
    }
   ],
   "source": [
    "[x,y for x, y in [(1,2), (3,4), (5,6)]]"
   ]
  },
  {
   "cell_type": "code",
   "execution_count": 18,
   "metadata": {},
   "outputs": [
    {
     "data": {
      "text/plain": [
       "[(1, 2), (3, 4), (5, 6)]"
      ]
     },
     "execution_count": 18,
     "metadata": {},
     "output_type": "execute_result"
    }
   ],
   "source": [
    "[(x,y) for x, y in [(1,2), (3,4), (5,6)]]"
   ]
  },
  {
   "cell_type": "markdown",
   "metadata": {},
   "source": [
    "## 10) Counting Occurrences Using Comprehension "
   ]
  },
  {
   "cell_type": "markdown",
   "metadata": {},
   "source": [
    "When we want to count the number of items in an iterable, that meet some condition, we can use comprehension to produce an idiomatic syntax: "
   ]
  },
  {
   "cell_type": "code",
   "execution_count": 19,
   "metadata": {},
   "outputs": [
    {
     "name": "stdout",
     "output_type": "stream",
     "text": [
      "95\n"
     ]
    }
   ],
   "source": [
    "print(sum(1 for x in range(1000) if x%2 == 0 and '9' in str(x)))"
   ]
  },
  {
   "cell_type": "markdown",
   "metadata": {},
   "source": [
    "The basic concept can be summarized as: "
   ]
  },
  {
   "cell_type": "markdown",
   "metadata": {},
   "source": [
    "1. Iterate over the elements in range(1000)"
   ]
  },
  {
   "cell_type": "markdown",
   "metadata": {},
   "source": [
    "2. Concatenate all the needed if conditions. "
   ]
  },
  {
   "cell_type": "markdown",
   "metadata": {},
   "source": [
    "3. Use 1 as expression to return a 1 for each item that meets the conditions. "
   ]
  },
  {
   "cell_type": "markdown",
   "metadata": {},
   "source": [
    "4. Sum up all the 1s to determine number of items that meet the conditions. "
   ]
  },
  {
   "cell_type": "markdown",
   "metadata": {},
   "source": [
    "Note: Here we are not collecting the is in a list (note the absence of square brackets), but we are passing the ones directly to the sum function that is summing them up. This is called a generator expression, which is similar to a Comprehension."
   ]
  },
  {
   "cell_type": "markdown",
   "metadata": {},
   "source": [
    "## 11) Changing Types in a List "
   ]
  },
  {
   "cell_type": "markdown",
   "metadata": {},
   "source": [
    "Quantitative data is often read is as strings that must be converted to numeric types before processing. The types of all list items can be converted with either a List comprehension or the map() function. "
   ]
  },
  {
   "cell_type": "code",
   "execution_count": 20,
   "metadata": {},
   "outputs": [
    {
     "data": {
      "text/plain": [
       "<map at 0x16f7dd69570>"
      ]
     },
     "execution_count": 20,
     "metadata": {},
     "output_type": "execute_result"
    }
   ],
   "source": [
    "# Convert a list of strings to integers.\n",
    "items = [\"1\", \"2\", \"3\", \"4\"]\n",
    "[int(item) for item in items]\n",
    "# Out: [1, 2, 3, 4]\n",
    "# Convert a list of strings to float.\n",
    "items = [\"1\", \"2\", \"3\", \"4\"]\n",
    "map(float, items)\n",
    "# Out:[1.0, 2.0, 3.0, 4.0]"
   ]
  },
  {
   "cell_type": "markdown",
   "metadata": {},
   "source": [
    "## 12) Nested list Comprehensions"
   ]
  },
  {
   "cell_type": "markdown",
   "metadata": {},
   "source": [
    "Nested list comprehensions, unlike list comprehensions with nested loops, are List comprehensions within a list comprehension. The initial expression can be any arbitary expression, including another list comprehension."
   ]
  },
  {
   "cell_type": "code",
   "execution_count": 21,
   "metadata": {},
   "outputs": [
    {
     "data": {
      "text/plain": [
       "[5, 6, 7, 6, 7, 8, 7, 8, 9]"
      ]
     },
     "execution_count": 21,
     "metadata": {},
     "output_type": "execute_result"
    }
   ],
   "source": [
    "[x+y for x in [1,2,3] for y in [4,5,6]] "
   ]
  },
  {
   "cell_type": "code",
   "execution_count": 22,
   "metadata": {},
   "outputs": [
    {
     "data": {
      "text/plain": [
       "[[5, 6, 7], [6, 7, 8], [7, 8, 9]]"
      ]
     },
     "execution_count": 22,
     "metadata": {},
     "output_type": "execute_result"
    }
   ],
   "source": [
    "[[x+y for x in [1,2,3]] for y in [4,5,6]] "
   ]
  },
  {
   "cell_type": "markdown",
   "metadata": {},
   "source": [
    "The nested example is equivalent to: "
   ]
  },
  {
   "cell_type": "code",
   "execution_count": 23,
   "metadata": {},
   "outputs": [],
   "source": [
    "i = [] \n",
    "for y in [3,4,5]: \n",
    "    temp = [] \n",
    "    for x in [1,2,3]: \n",
    "        temp.append(x+y) \n",
    "    i.append(temp) "
   ]
  },
  {
   "cell_type": "markdown",
   "metadata": {},
   "source": [
    "One example where a nested comprehension can be used it to transpose a matrix: "
   ]
  },
  {
   "cell_type": "code",
   "execution_count": 25,
   "metadata": {},
   "outputs": [
    {
     "data": {
      "text/plain": [
       "[[1, 4, 7], [2, 5, 8], [3, 6, 9]]"
      ]
     },
     "execution_count": 25,
     "metadata": {},
     "output_type": "execute_result"
    }
   ],
   "source": [
    "matrix = [[1,2,3], \n",
    "          [4,5,6], \n",
    "          [7,8,9]] \n",
    "[[row[i] for row in matrix] for i in range (len(matrix))]"
   ]
  },
  {
   "cell_type": "markdown",
   "metadata": {},
   "source": [
    "Like nested for loops, there is no limit to how deep comprehensions can be nested. "
   ]
  },
  {
   "cell_type": "code",
   "execution_count": 26,
   "metadata": {},
   "outputs": [
    {
     "data": {
      "text/plain": [
       "[[['1ac', '1ad'], ['1bc', '1bd']], [['2ac', '2ad'], ['2bc', '2bd']]]"
      ]
     },
     "execution_count": 26,
     "metadata": {},
     "output_type": "execute_result"
    }
   ],
   "source": [
    "[[[i + j + k for k in \"cd\"] for j in \"ab\"] for i in \"12\"]"
   ]
  },
  {
   "cell_type": "markdown",
   "metadata": {},
   "source": [
    "## 13) Iterate two or more list simultaneously within list comprehension"
   ]
  },
  {
   "cell_type": "markdown",
   "metadata": {},
   "source": [
    "For iterating more than two list simultaneously within list comprehension, one may use zip() as: "
   ]
  },
  {
   "cell_type": "code",
   "execution_count": 27,
   "metadata": {},
   "outputs": [],
   "source": [
    "list_1 = [1, 2, 3, 4]"
   ]
  },
  {
   "cell_type": "code",
   "execution_count": 28,
   "metadata": {},
   "outputs": [],
   "source": [
    "list_2 = [\"a\", \"b\", \"c\", \"d\"]"
   ]
  },
  {
   "cell_type": "code",
   "execution_count": 29,
   "metadata": {},
   "outputs": [],
   "source": [
    "list_3 = [\"6\", \"7\", \"8\", \"9\"]"
   ]
  },
  {
   "cell_type": "code",
   "execution_count": 30,
   "metadata": {},
   "outputs": [
    {
     "data": {
      "text/plain": [
       "[(1, 'a'), (2, 'b'), (3, 'c'), (4, 'd')]"
      ]
     },
     "execution_count": 30,
     "metadata": {},
     "output_type": "execute_result"
    }
   ],
   "source": [
    "[(i, j) for i, j in zip(list_1, list_2)]"
   ]
  },
  {
   "cell_type": "code",
   "execution_count": 31,
   "metadata": {},
   "outputs": [
    {
     "data": {
      "text/plain": [
       "[(1, 'a', '6'), (2, 'b', '7'), (3, 'c', '8'), (4, 'd', '9')]"
      ]
     },
     "execution_count": 31,
     "metadata": {},
     "output_type": "execute_result"
    }
   ],
   "source": [
    "[(i, j, k) for i, j, k in zip(list_1, list_2, list_3)]"
   ]
  },
  {
   "cell_type": "code",
   "execution_count": null,
   "metadata": {},
   "outputs": [],
   "source": []
  }
 ],
 "metadata": {
  "kernelspec": {
   "display_name": "Python 3",
   "language": "python",
   "name": "python3"
  },
  "language_info": {
   "codemirror_mode": {
    "name": "ipython",
    "version": 3
   },
   "file_extension": ".py",
   "mimetype": "text/x-python",
   "name": "python",
   "nbconvert_exporter": "python",
   "pygments_lexer": "ipython3",
   "version": "3.12.0"
  }
 },
 "nbformat": 4,
 "nbformat_minor": 2
}

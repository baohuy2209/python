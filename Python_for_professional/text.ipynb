{
 "cells": [
  {
   "cell_type": "code",
   "execution_count": 7,
   "metadata": {},
   "outputs": [
    {
     "name": "stdout",
     "output_type": "stream",
     "text": [
      "554321\n"
     ]
    }
   ],
   "source": [
    "a = int(input(\"Nhập số nguyên : \"))\n",
    "\n",
    "ml = list(str(a))\n",
    "ml.reverse()\n",
    "y = 0 \n",
    "for i in range(len(ml)):\n",
    "    y = y*10 + int(ml[i])\n",
    "print(y)"
   ]
  },
  {
   "cell_type": "code",
   "execution_count": 15,
   "metadata": {},
   "outputs": [
    {
     "name": "stdout",
     "output_type": "stream",
     "text": [
      "[5, 67]\n"
     ]
    }
   ],
   "source": [
    "import math\n",
    "\n",
    "\n",
    "def so_nguyen_to(n):\n",
    "    flag = True\n",
    "    if n < 2: \n",
    "        flag = False \n",
    "        return flag \n",
    "    temp = int(math.sqrt(n))\n",
    "    for i in range(2,temp+1):\n",
    "        if n % i == 0:\n",
    "            flag = False\n",
    "            return flag\n",
    "    return flag\n",
    "\n",
    "a = int(input())\n",
    "c = []\n",
    "for i in range(0, a):\n",
    "    b = int(input())\n",
    "    c.append(b)\n",
    "result = [x for x in c if so_nguyen_to(x)]\n",
    "print(result)"
   ]
  },
  {
   "cell_type": "markdown",
   "metadata": {},
   "source": []
  }
 ],
 "metadata": {
  "kernelspec": {
   "display_name": "Python 3",
   "language": "python",
   "name": "python3"
  },
  "language_info": {
   "codemirror_mode": {
    "name": "ipython",
    "version": 3
   },
   "file_extension": ".py",
   "mimetype": "text/x-python",
   "name": "python",
   "nbconvert_exporter": "python",
   "pygments_lexer": "ipython3",
   "version": "3.12.0"
  }
 },
 "nbformat": 4,
 "nbformat_minor": 2
}

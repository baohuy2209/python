{
 "cells": [
  {
   "cell_type": "markdown",
   "metadata": {},
   "source": [
    "# Linked List Node "
   ]
  },
  {
   "cell_type": "markdown",
   "metadata": {},
   "source": [
    "A linked list is either: \n"
   ]
  },
  {
   "cell_type": "markdown",
   "metadata": {},
   "source": [
    "- the empty list, represented bay None, or ... "
   ]
  },
  {
   "cell_type": "markdown",
   "metadata": {},
   "source": [
    "- a node that contains a cargo object and a reference to a linked list "
   ]
  },
  {
   "cell_type": "code",
   "execution_count": null,
   "metadata": {},
   "outputs": [],
   "source": [
    "class Node: \n",
    "    def __init__(self, cargo=None, next = None):\n",
    "        self.car = cargo \n",
    "        self.cdr = next \n",
    "    def __str__(self): \n",
    "        return str(self.car) \n",
    "    def display(self, lst):\n",
    "        if lst: \n",
    "            print(lst.car + \" \")\n",
    "            display(lst.cdr)\n",
    "        else: \n",
    "            print(\"nil\\n\") "
   ]
  }
 ],
 "metadata": {
  "language_info": {
   "name": "python"
  }
 },
 "nbformat": 4,
 "nbformat_minor": 2
}

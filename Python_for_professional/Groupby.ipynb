{
 "cells": [
  {
   "cell_type": "markdown",
   "metadata": {},
   "source": [
    "# Groupby() "
   ]
  },
  {
   "cell_type": "markdown",
   "metadata": {},
   "source": [
    "Descriptions ; "
   ]
  },
  {
   "cell_type": "code",
   "execution_count": 1,
   "metadata": {},
   "outputs": [],
   "source": [
    "import pandas as pd "
   ]
  },
  {
   "cell_type": "code",
   "execution_count": 2,
   "metadata": {},
   "outputs": [],
   "source": [
    "table_descriptions = pd.DataFrame({\n",
    "    'Parameter': [\n",
    "        'iterable', \n",
    "        'key',\n",
    "    ], \n",
    "    'Details': [\n",
    "        'Any python iterable', \n",
    "        'Function(criteria) on which to group the iterable', \n",
    "    ], \n",
    "})"
   ]
  },
  {
   "cell_type": "code",
   "execution_count": 3,
   "metadata": {},
   "outputs": [
    {
     "data": {
      "text/html": [
       "<div>\n",
       "<style scoped>\n",
       "    .dataframe tbody tr th:only-of-type {\n",
       "        vertical-align: middle;\n",
       "    }\n",
       "\n",
       "    .dataframe tbody tr th {\n",
       "        vertical-align: top;\n",
       "    }\n",
       "\n",
       "    .dataframe thead th {\n",
       "        text-align: right;\n",
       "    }\n",
       "</style>\n",
       "<table border=\"1\" class=\"dataframe\">\n",
       "  <thead>\n",
       "    <tr style=\"text-align: right;\">\n",
       "      <th></th>\n",
       "      <th>Parameter</th>\n",
       "      <th>Details</th>\n",
       "    </tr>\n",
       "  </thead>\n",
       "  <tbody>\n",
       "    <tr>\n",
       "      <th>0</th>\n",
       "      <td>iterable</td>\n",
       "      <td>Any python iterable</td>\n",
       "    </tr>\n",
       "    <tr>\n",
       "      <th>1</th>\n",
       "      <td>key</td>\n",
       "      <td>Function(criteria) on which to group the iterable</td>\n",
       "    </tr>\n",
       "  </tbody>\n",
       "</table>\n",
       "</div>"
      ],
      "text/plain": [
       "  Parameter                                            Details\n",
       "0  iterable                                Any python iterable\n",
       "1       key  Function(criteria) on which to group the iterable"
      ]
     },
     "execution_count": 3,
     "metadata": {},
     "output_type": "execute_result"
    }
   ],
   "source": [
    "table_descriptions"
   ]
  },
  {
   "cell_type": "markdown",
   "metadata": {},
   "source": [
    "In Python, the itertools.groupby() method allows developers to group values of an iterable class based on a\n",
    "specified property into another iterable set of values."
   ]
  },
  {
   "cell_type": "markdown",
   "metadata": {},
   "source": [
    "## 1) Example 1: "
   ]
  },
  {
   "cell_type": "markdown",
   "metadata": {},
   "source": [
    "In this example we see what happens when we use different types of iterable."
   ]
  },
  {
   "cell_type": "code",
   "execution_count": 4,
   "metadata": {},
   "outputs": [],
   "source": [
    "things = [\n",
    "    (\"animal\", \"bear\"),\n",
    "    (\"animal\", \"duck\"),\n",
    "    (\"plant\", \"cactus\"),\n",
    "    (\"vehicle\", \"harley\"),\n",
    "    (\"vehicle\", \"speed boat\"),\n",
    "    (\"vehicle\", \"school bus\"),\n",
    "]"
   ]
  },
  {
   "cell_type": "code",
   "execution_count": 5,
   "metadata": {},
   "outputs": [],
   "source": [
    "dic = {} "
   ]
  },
  {
   "cell_type": "code",
   "execution_count": 6,
   "metadata": {},
   "outputs": [],
   "source": [
    "f = lambda x:x[0] "
   ]
  },
  {
   "cell_type": "code",
   "execution_count": 7,
   "metadata": {},
   "outputs": [],
   "source": [
    "from itertools import groupby"
   ]
  },
  {
   "cell_type": "code",
   "execution_count": 10,
   "metadata": {},
   "outputs": [],
   "source": [
    "for key, group in groupby(sorted(things, key=f), f): \n",
    "    dic[key] = list(group) "
   ]
  },
  {
   "cell_type": "code",
   "execution_count": 11,
   "metadata": {},
   "outputs": [
    {
     "data": {
      "text/plain": [
       "{'animal': [('animal', 'bear'), ('animal', 'duck')],\n",
       " 'plant': [('plant', 'cactus')],\n",
       " 'vehicle': [('vehicle', 'harley'),\n",
       "  ('vehicle', 'speed boat'),\n",
       "  ('vehicle', 'school bus')]}"
      ]
     },
     "execution_count": 11,
     "metadata": {},
     "output_type": "execute_result"
    }
   ],
   "source": [
    "dic"
   ]
  },
  {
   "cell_type": "markdown",
   "metadata": {},
   "source": [
    "This example below is essentially the same as the one above it. The only difference is that I have changed all the\n",
    "tuples to lists."
   ]
  },
  {
   "cell_type": "code",
   "execution_count": 12,
   "metadata": {},
   "outputs": [
    {
     "data": {
      "text/plain": [
       "{'animal': [['animal', 'bear'], ['animal', 'duck']],\n",
       " 'plant': [['plant', 'cactus']],\n",
       " 'vehicle': [['vehicle', 'harley'],\n",
       "  ['vehicle', 'speed boat'],\n",
       "  ['vehicle', 'school bus']]}"
      ]
     },
     "execution_count": 12,
     "metadata": {},
     "output_type": "execute_result"
    }
   ],
   "source": [
    "things = [[\"animal\", \"bear\"], [\"animal\", \"duck\"], [\"vehicle\", \"harley\"], [\"plant\", \"cactus\"], \\\n",
    "[\"vehicle\", \"speed boat\"], [\"vehicle\", \"school bus\"]]\n",
    "dic = {}\n",
    "f = lambda x: x[0]\n",
    "for key, group in groupby(sorted(things, key=f), f):\n",
    "    dic[key] = list(group)\n",
    "dic"
   ]
  },
  {
   "cell_type": "markdown",
   "metadata": {},
   "source": [
    "## 2) Example 2: "
   ]
  },
  {
   "cell_type": "markdown",
   "metadata": {},
   "source": [
    "This example illustrates how the default key is chosen if we do not specify any"
   ]
  },
  {
   "cell_type": "code",
   "execution_count": 13,
   "metadata": {},
   "outputs": [],
   "source": [
    "c = groupby(['goat', 'dog', 'cow', 1,1,2,3,11,18, ('persons', 'man', 'woman')])"
   ]
  },
  {
   "cell_type": "code",
   "execution_count": 14,
   "metadata": {},
   "outputs": [],
   "source": [
    "dic = {} "
   ]
  },
  {
   "cell_type": "code",
   "execution_count": 15,
   "metadata": {},
   "outputs": [],
   "source": [
    "for k,v in c: \n",
    "    dic[k] = list(v) "
   ]
  },
  {
   "cell_type": "markdown",
   "metadata": {},
   "source": [
    "Results in"
   ]
  },
  {
   "cell_type": "code",
   "execution_count": 16,
   "metadata": {},
   "outputs": [
    {
     "data": {
      "text/plain": [
       "{'goat': ['goat'],\n",
       " 'dog': ['dog'],\n",
       " 'cow': ['cow'],\n",
       " 1: [1, 1],\n",
       " 2: [2],\n",
       " 3: [3],\n",
       " 11: [11],\n",
       " 18: [18],\n",
       " ('persons', 'man', 'woman'): [('persons', 'man', 'woman')]}"
      ]
     },
     "execution_count": 16,
     "metadata": {},
     "output_type": "execute_result"
    }
   ],
   "source": [
    "dic"
   ]
  },
  {
   "cell_type": "markdown",
   "metadata": {},
   "source": [
    "Notice here that the tuple as a whole counts as one key in this list"
   ]
  },
  {
   "cell_type": "markdown",
   "metadata": {},
   "source": [
    "## 3) Example 3: "
   ]
  },
  {
   "cell_type": "markdown",
   "metadata": {},
   "source": [
    "Notice in this example that mulato and camel don't show up in our result. Only the last element with the specified\n",
    "key shows up. The last result for c actually wipes out two previous results. But watch the new version where I have\n",
    "the data sorted first on same key"
   ]
  },
  {
   "cell_type": "code",
   "execution_count": 17,
   "metadata": {},
   "outputs": [],
   "source": [
    "list_things = ['goat', 'dog', 'donkey', 'mulato', 'cow', 'cat', ('persons', 'man', 'woman'), \\\n",
    "'wombat', 'mongoose', 'malloo', 'camel']\n",
    "c = groupby(list_things, key=lambda x: x[0])\n",
    "dic = {}\n",
    "for k, v in c:\n",
    "    dic[k] = list(v)\n"
   ]
  },
  {
   "cell_type": "markdown",
   "metadata": {},
   "source": [
    "Results in "
   ]
  },
  {
   "cell_type": "code",
   "execution_count": 18,
   "metadata": {},
   "outputs": [
    {
     "data": {
      "text/plain": [
       "{'g': ['goat'],\n",
       " 'd': ['dog', 'donkey'],\n",
       " 'm': ['mongoose', 'malloo'],\n",
       " 'c': ['camel'],\n",
       " 'persons': [('persons', 'man', 'woman')],\n",
       " 'w': ['wombat']}"
      ]
     },
     "execution_count": 18,
     "metadata": {},
     "output_type": "execute_result"
    }
   ],
   "source": [
    "dic"
   ]
  },
  {
   "cell_type": "markdown",
   "metadata": {},
   "source": [
    "Sorted Version"
   ]
  },
  {
   "cell_type": "code",
   "execution_count": 19,
   "metadata": {},
   "outputs": [
    {
     "name": "stdout",
     "output_type": "stream",
     "text": [
      "['cow', 'cat', 'camel', 'dog', 'donkey', 'goat', 'mulato', 'mongoose', 'malloo', ('persons', 'man', 'woman'), 'wombat']\n",
      "\n"
     ]
    }
   ],
   "source": [
    "list_things = ['goat', 'dog', 'donkey', 'mulato', 'cow', 'cat', ('persons', 'man', 'woman'), \\\n",
    "'wombat', 'mongoose', 'malloo', 'camel']\n",
    "sorted_list = sorted(list_things, key = lambda x: x[0])\n",
    "print(sorted_list)\n",
    "print()\n",
    "c = groupby(sorted_list, key=lambda x: x[0])\n",
    "dic = {}\n",
    "for k, v in c:\n",
    "    dic[k] = list(v)"
   ]
  },
  {
   "cell_type": "markdown",
   "metadata": {},
   "source": [
    "Results in "
   ]
  },
  {
   "cell_type": "code",
   "execution_count": 20,
   "metadata": {},
   "outputs": [
    {
     "data": {
      "text/plain": [
       "{'c': ['cow', 'cat', 'camel'],\n",
       " 'd': ['dog', 'donkey'],\n",
       " 'g': ['goat'],\n",
       " 'm': ['mulato', 'mongoose', 'malloo'],\n",
       " 'persons': [('persons', 'man', 'woman')],\n",
       " 'w': ['wombat']}"
      ]
     },
     "execution_count": 20,
     "metadata": {},
     "output_type": "execute_result"
    }
   ],
   "source": [
    "dic"
   ]
  }
 ],
 "metadata": {
  "kernelspec": {
   "display_name": "Python 3",
   "language": "python",
   "name": "python3"
  },
  "language_info": {
   "codemirror_mode": {
    "name": "ipython",
    "version": 3
   },
   "file_extension": ".py",
   "mimetype": "text/x-python",
   "name": "python",
   "nbconvert_exporter": "python",
   "pygments_lexer": "ipython3",
   "version": "3.12.0"
  }
 },
 "nbformat": 4,
 "nbformat_minor": 2
}

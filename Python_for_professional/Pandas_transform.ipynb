{
 "cells": [
  {
   "cell_type": "markdown",
   "metadata": {},
   "source": [
    "# Pandas Transform: Perform operations on groups and concatenate the results"
   ]
  },
  {
   "cell_type": "markdown",
   "metadata": {},
   "source": [
    "## 1) Simple transform "
   ]
  },
  {
   "cell_type": "markdown",
   "metadata": {},
   "source": [
    "### First, Let's create a dummy dataFrame "
   ]
  },
  {
   "cell_type": "markdown",
   "metadata": {},
   "source": [
    "We assume that a customer can have n orders, an order can have m items, and items can be ordered more multiple times. "
   ]
  },
  {
   "cell_type": "code",
   "execution_count": 1,
   "metadata": {},
   "outputs": [],
   "source": [
    "import pandas as pd "
   ]
  },
  {
   "cell_type": "code",
   "execution_count": 2,
   "metadata": {},
   "outputs": [],
   "source": [
    "orders_df = pd.DataFrame()\n",
    "orders_df[\"customer_id\"] = [1, 1, 1, 1, 1, 2, 2, 3, 3, 3, 3, 3]\n",
    "orders_df[\"order_id\"] = [1, 1, 1, 2, 2, 3, 3, 4, 5, 6, 6, 6]\n",
    "orders_df[\"item\"] = [\n",
    "    \"apples\",\n",
    "    \"chocolate\",\n",
    "    \"chocolate\",\n",
    "    \"coffee\",\n",
    "    \"coffee\",\n",
    "    \"apples\",\n",
    "    \"bananas\",\n",
    "    \"coffee\",\n",
    "    \"milkshake\",\n",
    "    \"chocolate\",\n",
    "    \"strawberry\",\n",
    "    \"strawberry\",\n",
    "]"
   ]
  },
  {
   "cell_type": "code",
   "execution_count": 3,
   "metadata": {},
   "outputs": [
    {
     "name": "stdout",
     "output_type": "stream",
     "text": [
      "    customer_id  order_id        item\n",
      "0             1         1      apples\n",
      "1             1         1   chocolate\n",
      "2             1         1   chocolate\n",
      "3             1         2      coffee\n",
      "4             1         2      coffee\n",
      "5             2         3      apples\n",
      "6             2         3     bananas\n",
      "7             3         4      coffee\n",
      "8             3         5   milkshake\n",
      "9             3         6   chocolate\n",
      "10            3         6  strawberry\n",
      "11            3         6  strawberry\n"
     ]
    }
   ],
   "source": [
    "print(orders_df)"
   ]
  },
  {
   "cell_type": "code",
   "execution_count": 4,
   "metadata": {},
   "outputs": [],
   "source": [
    "count_number_of_orders = lambda x: len(x.unique())"
   ]
  },
  {
   "cell_type": "code",
   "execution_count": 5,
   "metadata": {},
   "outputs": [],
   "source": [
    "orders_df[\"number_of_orders_per_cient\"] = (orders_df.groupby(['customer_id'])['order_id'].transform(count_number_of_orders))"
   ]
  },
  {
   "cell_type": "code",
   "execution_count": 6,
   "metadata": {},
   "outputs": [
    {
     "data": {
      "text/html": [
       "<div>\n",
       "<style scoped>\n",
       "    .dataframe tbody tr th:only-of-type {\n",
       "        vertical-align: middle;\n",
       "    }\n",
       "\n",
       "    .dataframe tbody tr th {\n",
       "        vertical-align: top;\n",
       "    }\n",
       "\n",
       "    .dataframe thead th {\n",
       "        text-align: right;\n",
       "    }\n",
       "</style>\n",
       "<table border=\"1\" class=\"dataframe\">\n",
       "  <thead>\n",
       "    <tr style=\"text-align: right;\">\n",
       "      <th></th>\n",
       "      <th>customer_id</th>\n",
       "      <th>order_id</th>\n",
       "      <th>item</th>\n",
       "      <th>number_of_orders_per_cient</th>\n",
       "    </tr>\n",
       "  </thead>\n",
       "  <tbody>\n",
       "    <tr>\n",
       "      <th>0</th>\n",
       "      <td>1</td>\n",
       "      <td>1</td>\n",
       "      <td>apples</td>\n",
       "      <td>2</td>\n",
       "    </tr>\n",
       "    <tr>\n",
       "      <th>1</th>\n",
       "      <td>1</td>\n",
       "      <td>1</td>\n",
       "      <td>chocolate</td>\n",
       "      <td>2</td>\n",
       "    </tr>\n",
       "    <tr>\n",
       "      <th>2</th>\n",
       "      <td>1</td>\n",
       "      <td>1</td>\n",
       "      <td>chocolate</td>\n",
       "      <td>2</td>\n",
       "    </tr>\n",
       "    <tr>\n",
       "      <th>3</th>\n",
       "      <td>1</td>\n",
       "      <td>2</td>\n",
       "      <td>coffee</td>\n",
       "      <td>2</td>\n",
       "    </tr>\n",
       "    <tr>\n",
       "      <th>4</th>\n",
       "      <td>1</td>\n",
       "      <td>2</td>\n",
       "      <td>coffee</td>\n",
       "      <td>2</td>\n",
       "    </tr>\n",
       "    <tr>\n",
       "      <th>5</th>\n",
       "      <td>2</td>\n",
       "      <td>3</td>\n",
       "      <td>apples</td>\n",
       "      <td>1</td>\n",
       "    </tr>\n",
       "    <tr>\n",
       "      <th>6</th>\n",
       "      <td>2</td>\n",
       "      <td>3</td>\n",
       "      <td>bananas</td>\n",
       "      <td>1</td>\n",
       "    </tr>\n",
       "    <tr>\n",
       "      <th>7</th>\n",
       "      <td>3</td>\n",
       "      <td>4</td>\n",
       "      <td>coffee</td>\n",
       "      <td>3</td>\n",
       "    </tr>\n",
       "    <tr>\n",
       "      <th>8</th>\n",
       "      <td>3</td>\n",
       "      <td>5</td>\n",
       "      <td>milkshake</td>\n",
       "      <td>3</td>\n",
       "    </tr>\n",
       "    <tr>\n",
       "      <th>9</th>\n",
       "      <td>3</td>\n",
       "      <td>6</td>\n",
       "      <td>chocolate</td>\n",
       "      <td>3</td>\n",
       "    </tr>\n",
       "    <tr>\n",
       "      <th>10</th>\n",
       "      <td>3</td>\n",
       "      <td>6</td>\n",
       "      <td>strawberry</td>\n",
       "      <td>3</td>\n",
       "    </tr>\n",
       "    <tr>\n",
       "      <th>11</th>\n",
       "      <td>3</td>\n",
       "      <td>6</td>\n",
       "      <td>strawberry</td>\n",
       "      <td>3</td>\n",
       "    </tr>\n",
       "  </tbody>\n",
       "</table>\n",
       "</div>"
      ],
      "text/plain": [
       "    customer_id  order_id        item  number_of_orders_per_cient\n",
       "0             1         1      apples                           2\n",
       "1             1         1   chocolate                           2\n",
       "2             1         1   chocolate                           2\n",
       "3             1         2      coffee                           2\n",
       "4             1         2      coffee                           2\n",
       "5             2         3      apples                           1\n",
       "6             2         3     bananas                           1\n",
       "7             3         4      coffee                           3\n",
       "8             3         5   milkshake                           3\n",
       "9             3         6   chocolate                           3\n",
       "10            3         6  strawberry                           3\n",
       "11            3         6  strawberry                           3"
      ]
     },
     "execution_count": 6,
     "metadata": {},
     "output_type": "execute_result"
    }
   ],
   "source": [
    "orders_df "
   ]
  },
  {
   "cell_type": "markdown",
   "metadata": {},
   "source": [
    "## 2) Multiple results per group "
   ]
  },
  {
   "cell_type": "markdown",
   "metadata": {},
   "source": [
    "#### Using transform functions that return sub-calculations per group "
   ]
  },
  {
   "cell_type": "markdown",
   "metadata": {},
   "source": [
    "In the previous example, we had one result per client. However, functions returning different values for the group can also be applied. "
   ]
  },
  {
   "cell_type": "code",
   "execution_count": 7,
   "metadata": {},
   "outputs": [],
   "source": [
    "def multiple_items_per_order(_items):\n",
    "    multiple_item_bool = _items.duplicated(keep = False)\n",
    "    return (multiple_item_bool)\n",
    "orders_df['item_duplictaed_per_order'] = (orders_df.groupby(['order_id'])['item'].transform(multiple_items_per_order))"
   ]
  },
  {
   "cell_type": "code",
   "execution_count": 9,
   "metadata": {},
   "outputs": [
    {
     "name": "stdout",
     "output_type": "stream",
     "text": [
      "    customer_id  order_id        item  number_of_orders_per_cient  \\\n",
      "0             1         1      apples                           2   \n",
      "1             1         1   chocolate                           2   \n",
      "2             1         1   chocolate                           2   \n",
      "3             1         2      coffee                           2   \n",
      "4             1         2      coffee                           2   \n",
      "5             2         3      apples                           1   \n",
      "6             2         3     bananas                           1   \n",
      "7             3         4      coffee                           3   \n",
      "8             3         5   milkshake                           3   \n",
      "9             3         6   chocolate                           3   \n",
      "10            3         6  strawberry                           3   \n",
      "11            3         6  strawberry                           3   \n",
      "\n",
      "    item_duplictaed_per_order  \n",
      "0                       False  \n",
      "1                        True  \n",
      "2                        True  \n",
      "3                        True  \n",
      "4                        True  \n",
      "5                       False  \n",
      "6                       False  \n",
      "7                       False  \n",
      "8                       False  \n",
      "9                       False  \n",
      "10                       True  \n",
      "11                       True  \n"
     ]
    }
   ],
   "source": [
    "print(orders_df)"
   ]
  },
  {
   "cell_type": "code",
   "execution_count": null,
   "metadata": {},
   "outputs": [],
   "source": []
  }
 ],
 "metadata": {
  "kernelspec": {
   "display_name": "Python 3",
   "language": "python",
   "name": "python3"
  },
  "language_info": {
   "codemirror_mode": {
    "name": "ipython",
    "version": 3
   },
   "file_extension": ".py",
   "mimetype": "text/x-python",
   "name": "python",
   "nbconvert_exporter": "python",
   "pygments_lexer": "ipython3",
   "version": "3.12.0"
  }
 },
 "nbformat": 4,
 "nbformat_minor": 2
}

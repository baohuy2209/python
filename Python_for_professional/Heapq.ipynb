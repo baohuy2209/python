{
 "cells": [
  {
   "cell_type": "markdown",
   "metadata": {},
   "source": [
    "# Heap \n"
   ]
  },
  {
   "cell_type": "markdown",
   "metadata": {},
   "source": [
    "## 1) Largest and smallest items in a collection "
   ]
  },
  {
   "cell_type": "markdown",
   "metadata": {},
   "source": [
    "To find the largest items in a collection, heapq module has a function called nlargest, we pass it two arguments, the\n",
    "first one is the number of items that we want to retrieve, the second one is the collection name:"
   ]
  },
  {
   "cell_type": "code",
   "execution_count": 1,
   "metadata": {},
   "outputs": [],
   "source": [
    "import heapq"
   ]
  },
  {
   "cell_type": "code",
   "execution_count": 2,
   "metadata": {},
   "outputs": [],
   "source": [
    "numbers = [1, 4, 2, 100, 20, 50, 32, 200, 150, 8]"
   ]
  },
  {
   "cell_type": "code",
   "execution_count": 3,
   "metadata": {},
   "outputs": [
    {
     "name": "stdout",
     "output_type": "stream",
     "text": [
      "[1, 2, 4, 8]\n"
     ]
    }
   ],
   "source": [
    "print(heapq.nsmallest(4,numbers)) "
   ]
  },
  {
   "cell_type": "code",
   "execution_count": 5,
   "metadata": {},
   "outputs": [
    {
     "name": "stdout",
     "output_type": "stream",
     "text": [
      "[200, 150, 100, 50]\n"
     ]
    }
   ],
   "source": [
    "print(heapq.nlargest(4,numbers))"
   ]
  },
  {
   "cell_type": "markdown",
   "metadata": {},
   "source": [
    "Both nlargest and nsmallest functions take an optional argument (key parameter) for complicated data\n",
    "structures. The following example shows the use of age property to retrieve the oldest and the youngest people\n",
    "from people dictionary: "
   ]
  },
  {
   "cell_type": "code",
   "execution_count": 6,
   "metadata": {},
   "outputs": [],
   "source": [
    "people = [\n",
    "    {\"firstname\": \"John\", \"lastname\": \"Doe\", \"age\": 30},\n",
    "    {\"firstname\": \"Jane\", \"lastname\": \"Doe\", \"age\": 25},\n",
    "    {\"firstname\": \"Janie\", \"lastname\": \"Doe\", \"age\": 10},\n",
    "    {\"firstname\": \"Jane\", \"lastname\": \"Roe\", \"age\": 22},\n",
    "    {\"firstname\": \"Johnny\", \"lastname\": \"Doe\", \"age\": 12},\n",
    "    {\"firstname\": \"John\", \"lastname\": \"Roe\", \"age\": 45},\n",
    "]"
   ]
  },
  {
   "cell_type": "code",
   "execution_count": 7,
   "metadata": {},
   "outputs": [],
   "source": [
    "oldest = heapq.nlargest(2, people, key = lambda s: s['age']) "
   ]
  },
  {
   "cell_type": "code",
   "execution_count": 8,
   "metadata": {},
   "outputs": [
    {
     "data": {
      "text/plain": [
       "[{'firstname': 'John', 'lastname': 'Roe', 'age': 45},\n",
       " {'firstname': 'John', 'lastname': 'Doe', 'age': 30}]"
      ]
     },
     "execution_count": 8,
     "metadata": {},
     "output_type": "execute_result"
    }
   ],
   "source": [
    "oldest"
   ]
  },
  {
   "cell_type": "code",
   "execution_count": 11,
   "metadata": {},
   "outputs": [],
   "source": [
    "youngest = heapq.nsmallest(3, people, key = lambda s: s['age']) "
   ]
  },
  {
   "cell_type": "code",
   "execution_count": 12,
   "metadata": {},
   "outputs": [
    {
     "data": {
      "text/plain": [
       "[{'firstname': 'Janie', 'lastname': 'Doe', 'age': 10},\n",
       " {'firstname': 'Johnny', 'lastname': 'Doe', 'age': 12},\n",
       " {'firstname': 'Jane', 'lastname': 'Roe', 'age': 22}]"
      ]
     },
     "execution_count": 12,
     "metadata": {},
     "output_type": "execute_result"
    }
   ],
   "source": [
    "youngest"
   ]
  },
  {
   "cell_type": "markdown",
   "metadata": {},
   "source": [
    "## 2) Smallest item in a collection "
   ]
  },
  {
   "cell_type": "markdown",
   "metadata": {},
   "source": [
    "The most interesting property of a heapq is that its smallest element is always the first element: heap[0] "
   ]
  },
  {
   "cell_type": "code",
   "execution_count": 13,
   "metadata": {},
   "outputs": [],
   "source": [
    "numbers = [10, 4, 2, 100, 20, 50, 32, 200, 150, 8]"
   ]
  },
  {
   "cell_type": "code",
   "execution_count": 14,
   "metadata": {},
   "outputs": [],
   "source": [
    "heapq.heapify(numbers) "
   ]
  },
  {
   "cell_type": "code",
   "execution_count": 15,
   "metadata": {},
   "outputs": [
    {
     "name": "stdout",
     "output_type": "stream",
     "text": [
      "[2, 4, 10, 100, 8, 50, 32, 200, 150, 20]\n"
     ]
    }
   ],
   "source": [
    "print(numbers)"
   ]
  },
  {
   "cell_type": "code",
   "execution_count": 16,
   "metadata": {},
   "outputs": [
    {
     "data": {
      "text/plain": [
       "2"
      ]
     },
     "execution_count": 16,
     "metadata": {},
     "output_type": "execute_result"
    }
   ],
   "source": [
    "heapq.heappop(numbers) "
   ]
  },
  {
   "cell_type": "code",
   "execution_count": 17,
   "metadata": {},
   "outputs": [
    {
     "data": {
      "text/plain": [
       "[4, 8, 10, 100, 20, 50, 32, 200, 150]"
      ]
     },
     "execution_count": 17,
     "metadata": {},
     "output_type": "execute_result"
    }
   ],
   "source": [
    "numbers"
   ]
  },
  {
   "cell_type": "code",
   "execution_count": 18,
   "metadata": {},
   "outputs": [
    {
     "data": {
      "text/plain": [
       "4"
      ]
     },
     "execution_count": 18,
     "metadata": {},
     "output_type": "execute_result"
    }
   ],
   "source": [
    "heapq.heappop(numbers)"
   ]
  },
  {
   "cell_type": "code",
   "execution_count": 19,
   "metadata": {},
   "outputs": [
    {
     "name": "stdout",
     "output_type": "stream",
     "text": [
      "[8, 20, 10, 100, 150, 50, 32, 200]\n"
     ]
    }
   ],
   "source": [
    "print(numbers)"
   ]
  }
 ],
 "metadata": {
  "kernelspec": {
   "display_name": "Python 3",
   "language": "python",
   "name": "python3"
  },
  "language_info": {
   "codemirror_mode": {
    "name": "ipython",
    "version": 3
   },
   "file_extension": ".py",
   "mimetype": "text/x-python",
   "name": "python",
   "nbconvert_exporter": "python",
   "pygments_lexer": "ipython3",
   "version": "3.12.0"
  }
 },
 "nbformat": 4,
 "nbformat_minor": 2
}

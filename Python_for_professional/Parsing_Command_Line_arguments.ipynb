{
 "cells": [
  {
   "cell_type": "markdown",
   "metadata": {},
   "source": [
    "# Parsing Command Line arguments "
   ]
  },
  {
   "cell_type": "markdown",
   "metadata": {},
   "source": [
    "## 1) Hello world in arg parse "
   ]
  },
  {
   "cell_type": "markdown",
   "metadata": {},
   "source": [
    "The following program says hello to the user. It takes one positional argument, the name of the user, and can also be told the greeting "
   ]
  },
  {
   "cell_type": "code",
   "execution_count": 1,
   "metadata": {},
   "outputs": [
    {
     "name": "stderr",
     "output_type": "stream",
     "text": [
      "usage: ipykernel_launcher.py [-h] [-g GREETING] name\n",
      "ipykernel_launcher.py: error: the following arguments are required: name\n"
     ]
    },
    {
     "ename": "SystemExit",
     "evalue": "2",
     "output_type": "error",
     "traceback": [
      "An exception has occurred, use %tb to see the full traceback.\n",
      "\u001b[1;31mSystemExit\u001b[0m\u001b[1;31m:\u001b[0m 2\n"
     ]
    },
    {
     "name": "stderr",
     "output_type": "stream",
     "text": [
      "C:\\Users\\Admin\\AppData\\Roaming\\Python\\Python312\\site-packages\\IPython\\core\\interactiveshell.py:3556: UserWarning: To exit: use 'exit', 'quit', or Ctrl-D.\n",
      "  warn(\"To exit: use 'exit', 'quit', or Ctrl-D.\", stacklevel=1)\n"
     ]
    }
   ],
   "source": [
    "import argparse\n",
    "\n",
    "parser = argparse.ArgumentParser()\n",
    "parser.add_argument(\"name\", help=\"name of user\")\n",
    "parser.add_argument(\n",
    "    \"-g\", \"--greeting\", default=\"Hello\", help=\"optional alternate greeting\"\n",
    ")\n",
    "args = parser.parse_args()\n",
    "print(\"{greeting}, {name}!\".format(greeting=args.greeting, name=args.name))"
   ]
  },
  {
   "cell_type": "markdown",
   "metadata": {},
   "source": [
    "## 2) Using command line arguments with argv "
   ]
  },
  {
   "cell_type": "markdown",
   "metadata": {},
   "source": [
    "Whenever a Python script is invoked from the command line, the user may supply additional command line\n",
    "arguments which will be passed on to the script. These arguments will be available to the programmer from the\n",
    "system variable sys.argv (\"argv\" is a traditional name used in most programming languages, and it means\n",
    "\"argument vector\")."
   ]
  },
  {
   "cell_type": "markdown",
   "metadata": {},
   "source": [
    "By convention, the first argument in the sys.argv list is the name of the Python script itself, while the rest of the elements are the tokens passed by the user when invoking the script. "
   ]
  },
  {
   "cell_type": "code",
   "execution_count": null,
   "metadata": {},
   "outputs": [
    {
     "name": "stdout",
     "output_type": "stream",
     "text": [
      "['C:\\\\Users\\\\Admin\\\\AppData\\\\Roaming\\\\Python\\\\Python312\\\\site-packages\\\\ipykernel_launcher.py', '--f=c:\\\\Users\\\\Admin\\\\AppData\\\\Roaming\\\\jupyter\\\\runtime\\\\kernel-v2-13884C9H5gzCKyz23.json']\n"
     ]
    }
   ],
   "source": [
    "import sys \n",
    "print(sys.argv)"
   ]
  },
  {
   "cell_type": "markdown",
   "metadata": {},
   "source": [
    "Here's another example of how to use argv. We first strip off the initial element of sys.argv because it contains the\n",
    "script's name. Then we combine the rest of the arguments into a single sentence, and finally print that sentence\n",
    "prepending the name of the currently logged-in user (so that it emulates a chat program)."
   ]
  },
  {
   "cell_type": "code",
   "execution_count": null,
   "metadata": {},
   "outputs": [
    {
     "name": "stdout",
     "output_type": "stream",
     "text": [
      "[Admin] --f=c:\\Users\\Admin\\AppData\\Roaming\\jupyter\\runtime\\kernel-v2-13884C9H5gzCKyz23.json\n"
     ]
    }
   ],
   "source": [
    "import getpass \n",
    "import sys\n",
    "words = sys.argv[1:]\n",
    "sentence = \" \".join(words)\n",
    "print(\"[%s] %s\"%(getpass.getuser(), sentence)) "
   ]
  },
  {
   "cell_type": "markdown",
   "metadata": {},
   "source": [
    "The algorithm commonly used when \"manually\" parsing a number of non-positional arguments is to iterate over\n",
    "the sys.argv list. One way is to go over the list and pop each element of it:"
   ]
  },
  {
   "cell_type": "code",
   "execution_count": null,
   "metadata": {},
   "outputs": [
    {
     "ename": "AttributeError",
     "evalue": "'list_reverseiterator' object has no attribute 'pop'",
     "output_type": "error",
     "traceback": [
      "\u001b[1;31m---------------------------------------------------------------------------\u001b[0m",
      "\u001b[1;31mAttributeError\u001b[0m                            Traceback (most recent call last)",
      "Cell \u001b[1;32mIn[13], line 4\u001b[0m\n\u001b[0;32m      2\u001b[0m argv \u001b[38;5;241m=\u001b[39m \u001b[38;5;28mreversed\u001b[39m(sys\u001b[38;5;241m.\u001b[39margv)\n\u001b[0;32m      3\u001b[0m \u001b[38;5;66;03m# extract the first element\u001b[39;00m\n\u001b[1;32m----> 4\u001b[0m arg \u001b[38;5;241m=\u001b[39m \u001b[43margv\u001b[49m\u001b[38;5;241;43m.\u001b[39;49m\u001b[43mpop\u001b[49m()\n\u001b[0;32m      5\u001b[0m \u001b[38;5;66;03m# stop iterating when there's no more args to pop()\u001b[39;00m\n\u001b[0;32m      6\u001b[0m \u001b[38;5;28;01mwhile\u001b[39;00m \u001b[38;5;28mlen\u001b[39m(argv) \u001b[38;5;241m>\u001b[39m \u001b[38;5;241m0\u001b[39m:\n",
      "\u001b[1;31mAttributeError\u001b[0m: 'list_reverseiterator' object has no attribute 'pop'"
     ]
    }
   ],
   "source": [
    "# reverse and copy sys.argv\n",
    "argv = reversed(sys.argv)\n",
    "# extract the first element\n",
    "arg = argv.pop()\n",
    "# stop iterating when there's no more args to pop()\n",
    "while len(argv) > 0:\n",
    "    if arg in ('-f', '--foo'):\n",
    "        print('seen foo!')\n",
    "    elif arg in ('-b', '--bar'):\n",
    "        print('seen bar!')\n",
    "    elif arg in ('-a', '--with-arg'):\n",
    "        arg = arg.pop()\n",
    "        print('seen value: {}'.format(arg))\n",
    "    # get the next value\n",
    "    arg = argv.pop()"
   ]
  },
  {
   "cell_type": "markdown",
   "metadata": {},
   "source": [
    "## 3) Setting mutually exclusive arguments with argparse "
   ]
  },
  {
   "cell_type": "markdown",
   "metadata": {},
   "source": [
    "If you want two or more arguments to be mutually exclusive, you can use the function argparse.ArgumentParser.add_mutually_exclusive_group(). In the example below, either foo or bar can exist but not both at the same time. "
   ]
  },
  {
   "cell_type": "code",
   "execution_count": null,
   "metadata": {},
   "outputs": [],
   "source": [
    "import argparse\n",
    "parser = argparse.ArgumentParser() \n",
    "group = parser.add_mutually_exclusive_group()"
   ]
  },
  {
   "cell_type": "code",
   "execution_count": null,
   "metadata": {},
   "outputs": [
    {
     "name": "stdout",
     "output_type": "stream",
     "text": [
      "foo =  c:\\Users\\Admin\\AppData\\Roaming\\jupyter\\runtime\\kernel-v2-13884C9H5gzCKyz23.json\n",
      "bar =  None\n"
     ]
    }
   ],
   "source": [
    "group.add_argument(\"-f\", \"--foo\")\n",
    "group.add_argument(\"-b\", \"--bar\")\n",
    "args = parser.parse_args()\n",
    "print(\"foo = \", args.foo)\n",
    "print(\"bar = \", args.bar)"
   ]
  },
  {
   "cell_type": "markdown",
   "metadata": {},
   "source": [
    "If you try to run the script specifying both --foo and --bar arguments, the script will complain with the below\n",
    "message."
   ]
  },
  {
   "cell_type": "markdown",
   "metadata": {},
   "source": [
    "error: argument -b/--bar: not allowed with argument -f/--foo"
   ]
  },
  {
   "cell_type": "markdown",
   "metadata": {},
   "source": [
    "## 4) Basic example with docopt "
   ]
  },
  {
   "cell_type": "markdown",
   "metadata": {},
   "source": [
    "docopt turns command-line argument parsing on its head. Instead of parsing the arguments, you just write the\n",
    "usage string for your program, and docopt parses the usage string and uses it to extract the command line\n",
    "arguments."
   ]
  },
  {
   "cell_type": "code",
   "execution_count": null,
   "metadata": {},
   "outputs": [
    {
     "name": "stderr",
     "output_type": "stream",
     "text": [
      "c:\\Users\\Admin\\AppData\\Local\\Programs\\Python\\Python312\\Lib\\site-packages\\docopt.py:165: SyntaxWarning: invalid escape sequence '\\S'\n",
      "  name = re.findall('(<\\S*?>)', source)[0]\n",
      "c:\\Users\\Admin\\AppData\\Local\\Programs\\Python\\Python312\\Lib\\site-packages\\docopt.py:166: SyntaxWarning: invalid escape sequence '\\['\n",
      "  value = re.findall('\\[default: (.*)\\]', source, flags=re.I)\n",
      "c:\\Users\\Admin\\AppData\\Local\\Programs\\Python\\Python312\\Lib\\site-packages\\docopt.py:207: SyntaxWarning: invalid escape sequence '\\['\n",
      "  matched = re.findall('\\[default: (.*)\\]', description, flags=re.I)\n",
      "c:\\Users\\Admin\\AppData\\Local\\Programs\\Python\\Python312\\Lib\\site-packages\\docopt.py:456: SyntaxWarning: invalid escape sequence '\\S'\n",
      "  split = re.split('\\n *(<\\S+?>|-\\S+?)', doc)[1:]\n"
     ]
    },
    {
     "ename": "DocoptLanguageError",
     "evalue": "\"usage:\" (case-insensitive) not found.",
     "output_type": "error",
     "traceback": [
      "\u001b[1;31m---------------------------------------------------------------------------\u001b[0m",
      "\u001b[1;31mDocoptLanguageError\u001b[0m                       Traceback (most recent call last)",
      "Cell \u001b[1;32mIn[16], line 3\u001b[0m\n\u001b[0;32m      1\u001b[0m \u001b[38;5;28;01mfrom\u001b[39;00m \u001b[38;5;21;01mdocopt\u001b[39;00m \u001b[38;5;28;01mimport\u001b[39;00m docopt\n\u001b[0;32m      2\u001b[0m \u001b[38;5;28;01mif\u001b[39;00m \u001b[38;5;18m__name__\u001b[39m \u001b[38;5;241m==\u001b[39m \u001b[38;5;124m\"\u001b[39m\u001b[38;5;124m__main__\u001b[39m\u001b[38;5;124m\"\u001b[39m:\n\u001b[1;32m----> 3\u001b[0m     args \u001b[38;5;241m=\u001b[39m \u001b[43mdocopt\u001b[49m\u001b[43m(\u001b[49m\u001b[38;5;18;43m__doc__\u001b[39;49m\u001b[43m)\u001b[49m\n\u001b[0;32m      4\u001b[0m     \u001b[38;5;28;01mimport\u001b[39;00m \u001b[38;5;21;01mpprint\u001b[39;00m; pprint\u001b[38;5;241m.\u001b[39mpprint(args)\n",
      "File \u001b[1;32mc:\\Users\\Admin\\AppData\\Local\\Programs\\Python\\Python312\\Lib\\site-packages\\docopt.py:558\u001b[0m, in \u001b[0;36mdocopt\u001b[1;34m(doc, argv, help, version, options_first)\u001b[0m\n\u001b[0;32m    556\u001b[0m \u001b[38;5;28;01mif\u001b[39;00m argv \u001b[38;5;129;01mis\u001b[39;00m \u001b[38;5;28;01mNone\u001b[39;00m:\n\u001b[0;32m    557\u001b[0m     argv \u001b[38;5;241m=\u001b[39m sys\u001b[38;5;241m.\u001b[39margv[\u001b[38;5;241m1\u001b[39m:]\n\u001b[1;32m--> 558\u001b[0m DocoptExit\u001b[38;5;241m.\u001b[39musage \u001b[38;5;241m=\u001b[39m \u001b[43mprintable_usage\u001b[49m\u001b[43m(\u001b[49m\u001b[43mdoc\u001b[49m\u001b[43m)\u001b[49m\n\u001b[0;32m    559\u001b[0m options \u001b[38;5;241m=\u001b[39m parse_defaults(doc)\n\u001b[0;32m    560\u001b[0m pattern \u001b[38;5;241m=\u001b[39m parse_pattern(formal_usage(DocoptExit\u001b[38;5;241m.\u001b[39musage), options)\n",
      "File \u001b[1;32mc:\\Users\\Admin\\AppData\\Local\\Programs\\Python\\Python312\\Lib\\site-packages\\docopt.py:468\u001b[0m, in \u001b[0;36mprintable_usage\u001b[1;34m(doc)\u001b[0m\n\u001b[0;32m    466\u001b[0m usage_split \u001b[38;5;241m=\u001b[39m re\u001b[38;5;241m.\u001b[39msplit(\u001b[38;5;124mr\u001b[39m\u001b[38;5;124m'\u001b[39m\u001b[38;5;124m([Uu][Ss][Aa][Gg][Ee]:)\u001b[39m\u001b[38;5;124m'\u001b[39m, doc)\n\u001b[0;32m    467\u001b[0m \u001b[38;5;28;01mif\u001b[39;00m \u001b[38;5;28mlen\u001b[39m(usage_split) \u001b[38;5;241m<\u001b[39m \u001b[38;5;241m3\u001b[39m:\n\u001b[1;32m--> 468\u001b[0m     \u001b[38;5;28;01mraise\u001b[39;00m DocoptLanguageError(\u001b[38;5;124m'\u001b[39m\u001b[38;5;124m\"\u001b[39m\u001b[38;5;124musage:\u001b[39m\u001b[38;5;124m\"\u001b[39m\u001b[38;5;124m (case-insensitive) not found.\u001b[39m\u001b[38;5;124m'\u001b[39m)\n\u001b[0;32m    469\u001b[0m \u001b[38;5;28;01mif\u001b[39;00m \u001b[38;5;28mlen\u001b[39m(usage_split) \u001b[38;5;241m>\u001b[39m \u001b[38;5;241m3\u001b[39m:\n\u001b[0;32m    470\u001b[0m     \u001b[38;5;28;01mraise\u001b[39;00m DocoptLanguageError(\u001b[38;5;124m'\u001b[39m\u001b[38;5;124mMore than one \u001b[39m\u001b[38;5;124m\"\u001b[39m\u001b[38;5;124musage:\u001b[39m\u001b[38;5;124m\"\u001b[39m\u001b[38;5;124m (case-insensitive).\u001b[39m\u001b[38;5;124m'\u001b[39m)\n",
      "\u001b[1;31mDocoptLanguageError\u001b[0m: \"usage:\" (case-insensitive) not found."
     ]
    }
   ],
   "source": [
    "from docopt import docopt\n",
    "if __name__ == \"__main__\":\n",
    "    args = docopt(__doc__)\n",
    "    import pprint; pprint.pprint(args)"
   ]
  },
  {
   "cell_type": "markdown",
   "metadata": {},
   "source": [
    "## 5) Custom parser error message with argparse "
   ]
  },
  {
   "cell_type": "markdown",
   "metadata": {},
   "source": [
    "You can create parser error messages according to your script needs. This is through the argparse.ArgumentParser.error function. The below example shows the script printing a usage and an error message to stderr when --foo is given but not --bar. "
   ]
  },
  {
   "cell_type": "code",
   "execution_count": 2,
   "metadata": {},
   "outputs": [
    {
     "name": "stderr",
     "output_type": "stream",
     "text": [
      "usage: ipykernel_launcher.py [-h] [-f FOO] [-b BAR]\n",
      "ipykernel_launcher.py: error: --foo requires --bar. You did not specify bar.\n"
     ]
    },
    {
     "ename": "SystemExit",
     "evalue": "2",
     "output_type": "error",
     "traceback": [
      "An exception has occurred, use %tb to see the full traceback.\n",
      "\u001b[1;31mSystemExit\u001b[0m\u001b[1;31m:\u001b[0m 2\n"
     ]
    },
    {
     "name": "stderr",
     "output_type": "stream",
     "text": [
      "C:\\Users\\Admin\\AppData\\Roaming\\Python\\Python312\\site-packages\\IPython\\core\\interactiveshell.py:3556: UserWarning: To exit: use 'exit', 'quit', or Ctrl-D.\n",
      "  warn(\"To exit: use 'exit', 'quit', or Ctrl-D.\", stacklevel=1)\n"
     ]
    }
   ],
   "source": [
    "import argparse \n",
    "parser = argparse.ArgumentParser()\n",
    "parser.add_argument(\"-f\", \"--foo\")\n",
    "parser.add_argument(\"-b\", \"--bar\")\n",
    "args = parser.parse_args()\n",
    "if args.foo and args.bar is None:\n",
    "    parser.error(\"--foo requires --bar. You did not specify bar.\")\n",
    "print (\"foo =\", args.foo)\n",
    "print (\"bar =\", args.bar)"
   ]
  },
  {
   "cell_type": "code",
   "execution_count": null,
   "metadata": {},
   "outputs": [],
   "source": []
  }
 ],
 "metadata": {
  "kernelspec": {
   "display_name": "Python 3",
   "language": "python",
   "name": "python3"
  },
  "language_info": {
   "codemirror_mode": {
    "name": "ipython",
    "version": 3
   },
   "file_extension": ".py",
   "mimetype": "text/x-python",
   "name": "python",
   "nbconvert_exporter": "python",
   "pygments_lexer": "ipython3",
   "version": "3.12.0"
  }
 },
 "nbformat": 4,
 "nbformat_minor": 2
}

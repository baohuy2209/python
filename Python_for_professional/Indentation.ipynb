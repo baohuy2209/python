{
 "cells": [
  {
   "cell_type": "markdown",
   "metadata": {},
   "source": [
    "# Indentation\n",
    "\n",
    "## 1) Simple example:\n",
    "\n",
    "For Python, Guido van Rossum based the grouping of statements on indentation. The reasons for this are explained\n",
    "in the first section of the \"Design and History Python FAQ\". Colons, :, are used to declare an indented code block,\n",
    "such as the following example:\n"
   ]
  },
  {
   "cell_type": "code",
   "execution_count": 3,
   "metadata": {},
   "outputs": [
    {
     "ename": "TypeError",
     "evalue": "ExampleClass.separateFunction() takes 1 positional argument but 2 were given",
     "output_type": "error",
     "traceback": [
      "\u001b[1;31m---------------------------------------------------------------------------\u001b[0m",
      "\u001b[1;31mTypeError\u001b[0m                                 Traceback (most recent call last)",
      "Cell \u001b[1;32mIn[3], line 19\u001b[0m\n\u001b[0;32m     17\u001b[0m         \u001b[38;5;28;01mreturn\u001b[39;00m \u001b[38;5;28;01mFalse\u001b[39;00m\n\u001b[0;32m     18\u001b[0m ec \u001b[38;5;241m=\u001b[39m ExampleClass() \n\u001b[1;32m---> 19\u001b[0m \u001b[43mec\u001b[49m\u001b[38;5;241;43m.\u001b[39;49m\u001b[43mseparateFunction\u001b[49m\u001b[43m(\u001b[49m\u001b[43m[\u001b[49m\u001b[38;5;241;43m2\u001b[39;49m\u001b[43m,\u001b[49m\u001b[38;5;241;43m3\u001b[39;49m\u001b[43m,\u001b[49m\u001b[38;5;241;43m5\u001b[39;49m\u001b[43m,\u001b[49m\u001b[38;5;241;43m6\u001b[39;49m\u001b[43m,\u001b[49m\u001b[38;5;241;43m1\u001b[39;49m\u001b[43m]\u001b[49m\u001b[43m)\u001b[49m\n",
      "\u001b[1;31mTypeError\u001b[0m: ExampleClass.separateFunction() takes 1 positional argument but 2 were given"
     ]
    }
   ],
   "source": [
    "class ExampleClass:\n",
    "#Every function belonging to a class must be indented equally\n",
    "    def __init__(self):\n",
    "        name = \"example\"\n",
    "    def someFunction(self, a):\n",
    "#Notice everything belonging to a function must be indented\n",
    "        if a > 5:\n",
    "            return True\n",
    "        else:\n",
    "            return False\n",
    "#If a function is not indented to the same level it will not be considers as part of the parent class\n",
    "    def separateFunction(b):\n",
    "        for i in b:\n",
    "#Loops are also indented and nested conditions start a new indentation\n",
    "            if i == 1:\n",
    "                return True\n",
    "        return False\n",
    "ec = ExampleClass() \n",
    "ec.separateFunction([2,3,5,6,1])"
   ]
  },
  {
   "cell_type": "markdown",
   "metadata": {},
   "source": [
    "###### Spaces or Tabs? \n",
    "The recommended indentation is 4 spaces but tabs or spaces can be used so long as they are consistent. Do not\n",
    "mix tabs and spaces in Python as this will cause an error in Python 3 and can causes errors in Python 2."
   ]
  },
  {
   "cell_type": "markdown",
   "metadata": {},
   "source": [
    "## 2) How Indentation is Parsed \n",
    "Whitespace is handled by the lexical analyzer before being parsed.\n",
    "The lexical analyzer uses a stack to store indentation levels. At the beginning, the stack contains just the value 0,\n",
    "which is the leftmost position. Whenever a nested block begins, the new indentation level is pushed on the stack,\n",
    "and an \"INDENT\" token is inserted into the token stream which is passed to the parser. There can never be more\n",
    "than one \"INDENT\" token in a row (IndentationError).\n",
    "When a line is encountered with a smaller indentation level, values are popped from the stack until a value is on top\n",
    "which is equal to the new indentation level (if none is found, a syntax error occurs). For each value popped, a\n",
    "\"DEDENT\" token is generated. Obviously, there can be multiple \"DEDENT\" tokens in a row.\n",
    "The lexical analyzer skips empty lines (those containing only whitespace and possibly comments), and will never\n",
    "generate either \"INDENT\" or \"DEDENT\" tokens for them.\n",
    "At the end of the source code, \"DEDENT\" tokens are generated for each indentation level left on the stack, until just\n",
    "the 0 is left.\n",
    "For example:"
   ]
  },
  {
   "cell_type": "code",
   "execution_count": 4,
   "metadata": {},
   "outputs": [
    {
     "ename": "SyntaxError",
     "evalue": "Missing parentheses in call to 'print'. Did you mean print(...)? (3098365857.py, line 5)",
     "output_type": "error",
     "traceback": [
      "\u001b[1;36m  Cell \u001b[1;32mIn[4], line 5\u001b[1;36m\u001b[0m\n\u001b[1;33m    print foo\u001b[0m\n\u001b[1;37m    ^\u001b[0m\n\u001b[1;31mSyntaxError\u001b[0m\u001b[1;31m:\u001b[0m Missing parentheses in call to 'print'. Did you mean print(...)?\n"
     ]
    }
   ],
   "source": [
    "if foo:\n",
    "    if bar:\n",
    "        x = 42\n",
    "else:\n",
    "    print foo"
   ]
  },
  {
   "cell_type": "markdown",
   "metadata": {},
   "source": [
    "is analyzed as: "
   ]
  },
  {
   "cell_type": "markdown",
   "metadata": {},
   "source": [
    "<if> <foo> <:> [0]\n",
    "<INDENT> <if> <bar> <:> [0, 4]\n",
    "<INDENT> <x> <=> <42> [0, 4, 8]\n",
    "<DEDENT> <DEDENT> <else> <:> [0]\n",
    "<INDENT> <print> <foo> [0, 2]\n",
    "<DEDENT>"
   ]
  },
  {
   "cell_type": "code",
   "execution_count": null,
   "metadata": {},
   "outputs": [],
   "source": []
  }
 ],
 "metadata": {
  "kernelspec": {
   "display_name": "Python 3",
   "language": "python",
   "name": "python3"
  },
  "language_info": {
   "codemirror_mode": {
    "name": "ipython",
    "version": 3
   },
   "file_extension": ".py",
   "mimetype": "text/x-python",
   "name": "python",
   "nbconvert_exporter": "python",
   "pygments_lexer": "ipython3",
   "version": "3.12.0"
  }
 },
 "nbformat": 4,
 "nbformat_minor": 2
}

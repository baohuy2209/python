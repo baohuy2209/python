{
 "cells": [
  {
   "cell_type": "markdown",
   "metadata": {},
   "source": [
    "# Comments and Documentation \n",
    "## 1) Single line, inline and multiline comments: "
   ]
  },
  {
   "cell_type": "markdown",
   "metadata": {},
   "source": [
    "Comments are used to explain code when the basic code itself isn't clear. "
   ]
  },
  {
   "cell_type": "markdown",
   "metadata": {},
   "source": [
    "Python ignores comments, and so will not execute code in there, or raise syntax errors for plain English sentences."
   ]
  },
  {
   "cell_type": "markdown",
   "metadata": {},
   "source": [
    "Single-line comments begin with the hash character (#) and are terminated by the end of line."
   ]
  },
  {
   "cell_type": "markdown",
   "metadata": {},
   "source": [
    "- Single line comment: "
   ]
  },
  {
   "cell_type": "markdown",
   "metadata": {},
   "source": [
    "'#' This is a single line comment in Python. \n"
   ]
  },
  {
   "cell_type": "markdown",
   "metadata": {},
   "source": [
    "- Inline comment: "
   ]
  },
  {
   "cell_type": "code",
   "execution_count": 1,
   "metadata": {},
   "outputs": [
    {
     "name": "stdout",
     "output_type": "stream",
     "text": [
      "Hello world\n"
     ]
    }
   ],
   "source": [
    "print(\"Hello world\")  # This line prints \"Hello World"
   ]
  },
  {
   "cell_type": "markdown",
   "metadata": {},
   "source": [
    "- Comments spanning multiple lines have \"\"\" or ''' on either end. This is the same as a multiline string, but\n",
    "they can be used as comments:"
   ]
  },
  {
   "cell_type": "code",
   "execution_count": 2,
   "metadata": {},
   "outputs": [
    {
     "data": {
      "text/plain": [
       "'\\nThis type of comment spans multiple lines.\\nThese are mostly used for documentation of functions, classes and modules.\\n'"
      ]
     },
     "execution_count": 2,
     "metadata": {},
     "output_type": "execute_result"
    }
   ],
   "source": [
    "\"\"\"\n",
    "This type of comment spans multiple lines.\n",
    "These are mostly used for documentation of functions, classes and modules.\n",
    "\"\"\""
   ]
  },
  {
   "cell_type": "markdown",
   "metadata": {},
   "source": [
    "## 2) Programmatically accessing docstrings: \n",
    "Docstrings are - unlike regular comments - stored as an attribute of the function they document, meaning that you\n",
    "can access them programmatically. \n"
   ]
  },
  {
   "cell_type": "markdown",
   "metadata": {},
   "source": [
    "### 2.1) An example function: "
   ]
  },
  {
   "cell_type": "code",
   "execution_count": 3,
   "metadata": {},
   "outputs": [],
   "source": [
    "def func():\n",
    "    \"\"\"This is a function that does nothing at all\"\"\"\n",
    "    return "
   ]
  },
  {
   "cell_type": "markdown",
   "metadata": {},
   "source": [
    "The docstring can be accessed using the __doc__ attribute: "
   ]
  },
  {
   "cell_type": "code",
   "execution_count": 4,
   "metadata": {},
   "outputs": [
    {
     "name": "stdout",
     "output_type": "stream",
     "text": [
      "This is a function that does nothing at all\n"
     ]
    }
   ],
   "source": [
    "print(func.__doc__)"
   ]
  },
  {
   "cell_type": "code",
   "execution_count": 5,
   "metadata": {},
   "outputs": [
    {
     "name": "stdout",
     "output_type": "stream",
     "text": [
      "Help on function func in module __main__:\n",
      "\n",
      "func()\n",
      "    This is a function that does nothing at all\n",
      "\n"
     ]
    }
   ],
   "source": [
    "help(func)"
   ]
  },
  {
   "cell_type": "markdown",
   "metadata": {},
   "source": [
    "### 2.2) Another example function: \n",
    "function.__doc__ is just the actual docstring as a string, while the help function provides general information\n",
    "about a function, including the docstring. Here's a more helpful example:"
   ]
  },
  {
   "cell_type": "code",
   "execution_count": 6,
   "metadata": {},
   "outputs": [
    {
     "name": "stdout",
     "output_type": "stream",
     "text": [
      "Help on function greet in module __main__:\n",
      "\n",
      "greet(name, greeting='Hello')\n",
      "    Print a greeting to the user `name`\n",
      "    Optional parameter `greeting` can change what they're greeted with.\n",
      "\n"
     ]
    }
   ],
   "source": [
    "def greet(name, greeting=\"Hello\"):\n",
    "    \"\"\"Print a greeting to the user `name`\n",
    "    Optional parameter `greeting` can change what they're greeted with.\"\"\"\n",
    "    print(\"{} {}\".format(greeting, name))\n",
    "help(greet)"
   ]
  },
  {
   "cell_type": "markdown",
   "metadata": {},
   "source": [
    "### 2.3) Advantages of docstrings over regular comments \n",
    "Just putting no docstring or a regular comment in a function makes it a lot less helpful. "
   ]
  },
  {
   "cell_type": "code",
   "execution_count": 7,
   "metadata": {},
   "outputs": [
    {
     "name": "stdout",
     "output_type": "stream",
     "text": [
      "None\n"
     ]
    }
   ],
   "source": [
    "def greet(name, greeting=\"Hello\"):\n",
    "    # Print a greeting to the user `name`\n",
    "    # Optional parameter `greeting` can change what they're greeted with.\n",
    "    print(\"{} {}\".format(greeting, name))\n",
    "print(greet.__doc__)"
   ]
  },
  {
   "cell_type": "code",
   "execution_count": 8,
   "metadata": {},
   "outputs": [
    {
     "name": "stdout",
     "output_type": "stream",
     "text": [
      "Help on function greet in module __main__:\n",
      "\n",
      "greet(name, greeting='Hello')\n",
      "\n"
     ]
    }
   ],
   "source": [
    "help(greet)"
   ]
  },
  {
   "cell_type": "markdown",
   "metadata": {},
   "source": [
    "## 3) Write documentation using docstrings \n",
    "A docstring is a multi-line comment used to document modules, classes, functions and methods. It has to be the\n",
    "first statement of the component it describes."
   ]
  },
  {
   "cell_type": "code",
   "execution_count": 9,
   "metadata": {},
   "outputs": [],
   "source": [
    "def hello(name):\n",
    "    \"\"\"Greet someone.\n",
    "    Print a greeting (\"Hello\") for the person with the given name.  \n",
    "    \"\"\"\n",
    "    print(\"Hello \"+name)\n",
    "class Greeter:\n",
    "    \"\"\"An object used to greet people.\n",
    "    It contains multiple greeting functions for several languages\n",
    "    and times of the day.\n",
    "    \"\"\""
   ]
  },
  {
   "cell_type": "markdown",
   "metadata": {},
   "source": [
    "The value of the docstring can be accessed within the program and is - for example - used by the help command."
   ]
  }
 ],
 "metadata": {
  "kernelspec": {
   "display_name": "Python 3",
   "language": "python",
   "name": "python3"
  },
  "language_info": {
   "codemirror_mode": {
    "name": "ipython",
    "version": 3
   },
   "file_extension": ".py",
   "mimetype": "text/x-python",
   "name": "python",
   "nbconvert_exporter": "python",
   "pygments_lexer": "ipython3",
   "version": "3.12.0"
  }
 },
 "nbformat": 4,
 "nbformat_minor": 2
}
